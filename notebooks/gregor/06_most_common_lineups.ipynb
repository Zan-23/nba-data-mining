{
 "cells": [
  {
   "cell_type": "code",
   "execution_count": 1,
   "metadata": {},
   "outputs": [],
   "source": [
    "import numpy as np\n",
    "import pandas as pd\n",
    "import plotly.express as px\n",
    "import plotly.graph_objects as go\n",
    "from plotly.subplots import make_subplots\n",
    "import os\n",
    "import sys\n",
    "sys.path.insert(0, '../../src/')\n",
    "from data_loader import load_data, load_game_data\n",
    "pd.set_option('display.max_columns', None)"
   ]
  },
  {
   "cell_type": "code",
   "execution_count": 2,
   "metadata": {},
   "outputs": [],
   "source": [
    "path_lineups = \"/home/matej/Documents/Projects/nba-data-mining/data/processed/lineups-all-seasons.csv\"\n",
    "path_game_data = \"/home/matej/Documents/Projects/nba-data-mining/data/processed/game-data-extended.csv\"\n",
    "path_players = \"/home/matej/Documents/Projects/nba-data-mining/data/raw/player-data/player_info.csv\"\n",
    "\n",
    "lineups = pd.read_csv(path_lineups)\n",
    "game_data = pd.read_csv(path_game_data)\n",
    "players = pd.read_csv(path_players)\n",
    "players = players[players[\"Season\"] != \"2019-20\"]"
   ]
  },
  {
   "cell_type": "markdown",
   "metadata": {},
   "source": [
    "* * *\n",
    "### Most common starting lineups\n",
    "Binary feature (1 = team did start with most common lineup, 0 = team did not start with most common lineup)"
   ]
  },
  {
   "cell_type": "code",
   "execution_count": 3,
   "metadata": {},
   "outputs": [],
   "source": [
    "game_data[\"season_name\"] = game_data[\"season_name\"].str.split(\"-\").str[0].astype(int)"
   ]
  },
  {
   "cell_type": "code",
   "execution_count": 4,
   "metadata": {},
   "outputs": [],
   "source": [
    "game_data[\"home_team_lineup\"] = game_data[game_data.columns[63:68]].apply(lambda x: \",\".join(x.astype(str)), axis=1)\n",
    "game_data[\"visitor_team_lineup\"] = game_data[game_data.columns[68:73]].apply(lambda x: \",\".join(x.astype(str)), axis=1)\n",
    "\n",
    "game_data[\"home_team_common_lineup\"] = np.nan\n",
    "game_data[\"visitor_team_common_lineup\"] = np.nan"
   ]
  },
  {
   "cell_type": "code",
   "execution_count": 5,
   "metadata": {},
   "outputs": [],
   "source": [
    "df_home_lineups = game_data.groupby([\"season_name\", \"home_team_id\"])[\"home_team_lineup\"].agg(pd.Series.mode).astype(str)\n",
    "df_visitor_lineups = game_data.groupby([\"season_name\", \"visitor_team_id\"])[\"visitor_team_lineup\"].agg(pd.Series.mode).astype(str)\n"
   ]
  },
  {
   "cell_type": "code",
   "execution_count": 6,
   "metadata": {},
   "outputs": [],
   "source": [
    "for i, row in game_data.iterrows():\n",
    "    game_data.at[i, \"home_team_common_lineup\"] = np.asarray(df_home_lineups.iloc[(df_home_lineups.index.get_level_values(\"season_name\") == row[\"season_name\"]) & (df_home_lineups.index.get_level_values(\"home_team_id\") == row[\"home_team_id\"])] == row[\"home_team_lineup\"])\n",
    "    game_data.at[i, \"visitor_team_common_lineup\"] = np.asarray(df_visitor_lineups.iloc[(df_visitor_lineups.index.get_level_values(\"season_name\") == row[\"season_name\"]) & (df_visitor_lineups.index.get_level_values(\"visitor_team_id\") == row[\"visitor_team_id\"])] == row[\"visitor_team_lineup\"])"
   ]
  },
  {
   "cell_type": "code",
   "execution_count": 7,
   "metadata": {},
   "outputs": [],
   "source": [
    "game_data.drop(columns=[\"home_team_lineup\", \"visitor_team_lineup\"], inplace=True)\n",
    "game_data[\"home_team_common_lineup\"] = game_data[\"home_team_common_lineup\"].astype(int)\n",
    "game_data[\"visitor_team_common_lineup\"] = game_data[\"visitor_team_common_lineup\"].astype(int)"
   ]
  },
  {
   "cell_type": "code",
   "execution_count": 8,
   "metadata": {},
   "outputs": [
    {
     "data": {
      "text/html": [
       "<div>\n",
       "<style scoped>\n",
       "    .dataframe tbody tr th:only-of-type {\n",
       "        vertical-align: middle;\n",
       "    }\n",
       "\n",
       "    .dataframe tbody tr th {\n",
       "        vertical-align: top;\n",
       "    }\n",
       "\n",
       "    .dataframe thead th {\n",
       "        text-align: right;\n",
       "    }\n",
       "</style>\n",
       "<table border=\"1\" class=\"dataframe\">\n",
       "  <thead>\n",
       "    <tr style=\"text-align: right;\">\n",
       "      <th></th>\n",
       "      <th>game_id</th>\n",
       "      <th>play_count</th>\n",
       "      <th>season_name</th>\n",
       "      <th>visitor_team_id</th>\n",
       "      <th>visitor_team_city</th>\n",
       "      <th>visitor_team_nickname</th>\n",
       "      <th>visitor_record_wins</th>\n",
       "      <th>visitor_record_losses</th>\n",
       "      <th>visitor_final_score</th>\n",
       "      <th>home_final_score</th>\n",
       "      <th>home_win</th>\n",
       "      <th>home_team_id</th>\n",
       "      <th>home_team_city</th>\n",
       "      <th>home_team_nickname</th>\n",
       "      <th>home_record_wins</th>\n",
       "      <th>home_record_losses</th>\n",
       "      <th>periods</th>\n",
       "      <th>minutes_played</th>\n",
       "      <th>visitor_players_deployed</th>\n",
       "      <th>home_players_deployed</th>\n",
       "      <th>visitor_fg_made</th>\n",
       "      <th>visitor_fg_missed</th>\n",
       "      <th>visitor_3PT_made</th>\n",
       "      <th>visitor_3PT_missed</th>\n",
       "      <th>home_fg_made</th>\n",
       "      <th>home_fg_missed</th>\n",
       "      <th>home_3PT_made</th>\n",
       "      <th>home_3PT_missed</th>\n",
       "      <th>visitor_ft_made</th>\n",
       "      <th>visitor_ft_missed</th>\n",
       "      <th>home_ft_made</th>\n",
       "      <th>home_ft_missed</th>\n",
       "      <th>visitor_rebound</th>\n",
       "      <th>home_rebound</th>\n",
       "      <th>visitor_team_rebound</th>\n",
       "      <th>home_team_rebound</th>\n",
       "      <th>visitor_turnover</th>\n",
       "      <th>home_turnover</th>\n",
       "      <th>visitor_team_turnover</th>\n",
       "      <th>home_team_turnover</th>\n",
       "      <th>visitor_foul</th>\n",
       "      <th>home_foul</th>\n",
       "      <th>visitor_subs</th>\n",
       "      <th>home_subs</th>\n",
       "      <th>visitor_timeout</th>\n",
       "      <th>home_timeout</th>\n",
       "      <th>visitor_jump_balls_won</th>\n",
       "      <th>home_jump_balls_won</th>\n",
       "      <th>tip_off_winner</th>\n",
       "      <th>visitor_ejection</th>\n",
       "      <th>home_ejection</th>\n",
       "      <th>visitor_team_ejection</th>\n",
       "      <th>home_team_ejection</th>\n",
       "      <th>home_scoring_leader</th>\n",
       "      <th>home_scoring_leader_points</th>\n",
       "      <th>visitor_scoring_leader</th>\n",
       "      <th>visitor_scoring_leader_points</th>\n",
       "      <th>home_made_max_shot_distance</th>\n",
       "      <th>visitor_made_max_shot_distance</th>\n",
       "      <th>home_made_min_shot_distance</th>\n",
       "      <th>visitor_made_min_shot_distance</th>\n",
       "      <th>home_made_mean_shot_distance</th>\n",
       "      <th>visitor_made_mean_shot_distance</th>\n",
       "      <th>home_player1_id</th>\n",
       "      <th>home_player2_id</th>\n",
       "      <th>home_player3_id</th>\n",
       "      <th>home_player4_id</th>\n",
       "      <th>home_player5_id</th>\n",
       "      <th>visitor_player1_id</th>\n",
       "      <th>visitor_player2_id</th>\n",
       "      <th>visitor_player3_id</th>\n",
       "      <th>visitor_player4_id</th>\n",
       "      <th>visitor_player5_id</th>\n",
       "      <th>home_team_common_lineup</th>\n",
       "      <th>visitor_team_common_lineup</th>\n",
       "    </tr>\n",
       "  </thead>\n",
       "  <tbody>\n",
       "    <tr>\n",
       "      <th>0</th>\n",
       "      <td>20000001</td>\n",
       "      <td>429</td>\n",
       "      <td>2000</td>\n",
       "      <td>1610612755</td>\n",
       "      <td>Philadelphia</td>\n",
       "      <td>76ers</td>\n",
       "      <td>1</td>\n",
       "      <td>0</td>\n",
       "      <td>101</td>\n",
       "      <td>72</td>\n",
       "      <td>False</td>\n",
       "      <td>1610612752</td>\n",
       "      <td>New York</td>\n",
       "      <td>Knicks</td>\n",
       "      <td>0</td>\n",
       "      <td>1</td>\n",
       "      <td>4</td>\n",
       "      <td>48.0</td>\n",
       "      <td>12</td>\n",
       "      <td>12</td>\n",
       "      <td>38</td>\n",
       "      <td>28</td>\n",
       "      <td>3</td>\n",
       "      <td>5</td>\n",
       "      <td>25</td>\n",
       "      <td>45</td>\n",
       "      <td>3</td>\n",
       "      <td>8</td>\n",
       "      <td>22</td>\n",
       "      <td>8</td>\n",
       "      <td>19</td>\n",
       "      <td>5</td>\n",
       "      <td>37</td>\n",
       "      <td>37</td>\n",
       "      <td>2</td>\n",
       "      <td>3</td>\n",
       "      <td>13</td>\n",
       "      <td>22</td>\n",
       "      <td>1</td>\n",
       "      <td>0</td>\n",
       "      <td>25</td>\n",
       "      <td>30</td>\n",
       "      <td>20</td>\n",
       "      <td>17</td>\n",
       "      <td>3</td>\n",
       "      <td>7</td>\n",
       "      <td>1</td>\n",
       "      <td>2</td>\n",
       "      <td>HOME_PLAYER</td>\n",
       "      <td>0</td>\n",
       "      <td>0</td>\n",
       "      <td>0</td>\n",
       "      <td>0</td>\n",
       "      <td>275</td>\n",
       "      <td>21.0</td>\n",
       "      <td>947</td>\n",
       "      <td>25.0</td>\n",
       "      <td>26.0</td>\n",
       "      <td>26.0</td>\n",
       "      <td>0.0</td>\n",
       "      <td>0.0</td>\n",
       "      <td>10.720000</td>\n",
       "      <td>9.263158</td>\n",
       "      <td>84.0</td>\n",
       "      <td>275.0</td>\n",
       "      <td>369.0</td>\n",
       "      <td>913.0</td>\n",
       "      <td>948.0</td>\n",
       "      <td>238.0</td>\n",
       "      <td>243.0</td>\n",
       "      <td>248.0</td>\n",
       "      <td>689.0</td>\n",
       "      <td>727.0</td>\n",
       "      <td>1</td>\n",
       "      <td>0</td>\n",
       "    </tr>\n",
       "    <tr>\n",
       "      <th>1</th>\n",
       "      <td>20000002</td>\n",
       "      <td>510</td>\n",
       "      <td>2000</td>\n",
       "      <td>1610612739</td>\n",
       "      <td>Cleveland</td>\n",
       "      <td>Cavaliers</td>\n",
       "      <td>1</td>\n",
       "      <td>0</td>\n",
       "      <td>86</td>\n",
       "      <td>82</td>\n",
       "      <td>False</td>\n",
       "      <td>1610612751</td>\n",
       "      <td>New Jersey</td>\n",
       "      <td>Nets</td>\n",
       "      <td>0</td>\n",
       "      <td>1</td>\n",
       "      <td>4</td>\n",
       "      <td>48.0</td>\n",
       "      <td>11</td>\n",
       "      <td>10</td>\n",
       "      <td>32</td>\n",
       "      <td>46</td>\n",
       "      <td>2</td>\n",
       "      <td>5</td>\n",
       "      <td>31</td>\n",
       "      <td>54</td>\n",
       "      <td>3</td>\n",
       "      <td>7</td>\n",
       "      <td>20</td>\n",
       "      <td>12</td>\n",
       "      <td>17</td>\n",
       "      <td>9</td>\n",
       "      <td>52</td>\n",
       "      <td>47</td>\n",
       "      <td>6</td>\n",
       "      <td>6</td>\n",
       "      <td>19</td>\n",
       "      <td>12</td>\n",
       "      <td>0</td>\n",
       "      <td>3</td>\n",
       "      <td>28</td>\n",
       "      <td>31</td>\n",
       "      <td>24</td>\n",
       "      <td>21</td>\n",
       "      <td>6</td>\n",
       "      <td>8</td>\n",
       "      <td>1</td>\n",
       "      <td>1</td>\n",
       "      <td>HOME_PLAYER</td>\n",
       "      <td>0</td>\n",
       "      <td>0</td>\n",
       "      <td>0</td>\n",
       "      <td>0</td>\n",
       "      <td>1425</td>\n",
       "      <td>20.0</td>\n",
       "      <td>441</td>\n",
       "      <td>17.0</td>\n",
       "      <td>27.0</td>\n",
       "      <td>27.0</td>\n",
       "      <td>0.0</td>\n",
       "      <td>0.0</td>\n",
       "      <td>8.129032</td>\n",
       "      <td>9.500000</td>\n",
       "      <td>383.0</td>\n",
       "      <td>950.0</td>\n",
       "      <td>1536.0</td>\n",
       "      <td>1915.0</td>\n",
       "      <td>2030.0</td>\n",
       "      <td>221.0</td>\n",
       "      <td>441.0</td>\n",
       "      <td>980.0</td>\n",
       "      <td>1723.0</td>\n",
       "      <td>1889.0</td>\n",
       "      <td>0</td>\n",
       "      <td>1</td>\n",
       "    </tr>\n",
       "    <tr>\n",
       "      <th>2</th>\n",
       "      <td>20000003</td>\n",
       "      <td>478</td>\n",
       "      <td>2000</td>\n",
       "      <td>1610612764</td>\n",
       "      <td>Washington</td>\n",
       "      <td>Wizards</td>\n",
       "      <td>0</td>\n",
       "      <td>1</td>\n",
       "      <td>86</td>\n",
       "      <td>97</td>\n",
       "      <td>True</td>\n",
       "      <td>1610612753</td>\n",
       "      <td>Orlando</td>\n",
       "      <td>Magic</td>\n",
       "      <td>1</td>\n",
       "      <td>0</td>\n",
       "      <td>4</td>\n",
       "      <td>48.0</td>\n",
       "      <td>12</td>\n",
       "      <td>10</td>\n",
       "      <td>33</td>\n",
       "      <td>39</td>\n",
       "      <td>4</td>\n",
       "      <td>3</td>\n",
       "      <td>34</td>\n",
       "      <td>45</td>\n",
       "      <td>6</td>\n",
       "      <td>10</td>\n",
       "      <td>16</td>\n",
       "      <td>8</td>\n",
       "      <td>23</td>\n",
       "      <td>10</td>\n",
       "      <td>44</td>\n",
       "      <td>37</td>\n",
       "      <td>5</td>\n",
       "      <td>7</td>\n",
       "      <td>26</td>\n",
       "      <td>15</td>\n",
       "      <td>1</td>\n",
       "      <td>0</td>\n",
       "      <td>28</td>\n",
       "      <td>24</td>\n",
       "      <td>28</td>\n",
       "      <td>18</td>\n",
       "      <td>7</td>\n",
       "      <td>5</td>\n",
       "      <td>0</td>\n",
       "      <td>1</td>\n",
       "      <td>HOME_PLAYER</td>\n",
       "      <td>0</td>\n",
       "      <td>0</td>\n",
       "      <td>0</td>\n",
       "      <td>0</td>\n",
       "      <td>1503</td>\n",
       "      <td>32.0</td>\n",
       "      <td>1732</td>\n",
       "      <td>16.0</td>\n",
       "      <td>25.0</td>\n",
       "      <td>25.0</td>\n",
       "      <td>0.0</td>\n",
       "      <td>0.0</td>\n",
       "      <td>10.794118</td>\n",
       "      <td>7.696970</td>\n",
       "      <td>255.0</td>\n",
       "      <td>353.0</td>\n",
       "      <td>448.0</td>\n",
       "      <td>680.0</td>\n",
       "      <td>1503.0</td>\n",
       "      <td>393.0</td>\n",
       "      <td>436.0</td>\n",
       "      <td>1732.0</td>\n",
       "      <td>1751.0</td>\n",
       "      <td>1918.0</td>\n",
       "      <td>0</td>\n",
       "      <td>0</td>\n",
       "    </tr>\n",
       "    <tr>\n",
       "      <th>3</th>\n",
       "      <td>20000004</td>\n",
       "      <td>448</td>\n",
       "      <td>2000</td>\n",
       "      <td>1610612766</td>\n",
       "      <td>Charlotte</td>\n",
       "      <td>Hornets</td>\n",
       "      <td>1</td>\n",
       "      <td>0</td>\n",
       "      <td>106</td>\n",
       "      <td>82</td>\n",
       "      <td>False</td>\n",
       "      <td>1610612737</td>\n",
       "      <td>Atlanta</td>\n",
       "      <td>Hawks</td>\n",
       "      <td>0</td>\n",
       "      <td>1</td>\n",
       "      <td>4</td>\n",
       "      <td>48.0</td>\n",
       "      <td>11</td>\n",
       "      <td>11</td>\n",
       "      <td>35</td>\n",
       "      <td>27</td>\n",
       "      <td>5</td>\n",
       "      <td>4</td>\n",
       "      <td>30</td>\n",
       "      <td>51</td>\n",
       "      <td>6</td>\n",
       "      <td>9</td>\n",
       "      <td>31</td>\n",
       "      <td>9</td>\n",
       "      <td>16</td>\n",
       "      <td>5</td>\n",
       "      <td>44</td>\n",
       "      <td>29</td>\n",
       "      <td>3</td>\n",
       "      <td>7</td>\n",
       "      <td>17</td>\n",
       "      <td>13</td>\n",
       "      <td>0</td>\n",
       "      <td>0</td>\n",
       "      <td>22</td>\n",
       "      <td>32</td>\n",
       "      <td>17</td>\n",
       "      <td>27</td>\n",
       "      <td>5</td>\n",
       "      <td>5</td>\n",
       "      <td>1</td>\n",
       "      <td>1</td>\n",
       "      <td>HOME_PLAYER</td>\n",
       "      <td>0</td>\n",
       "      <td>0</td>\n",
       "      <td>0</td>\n",
       "      <td>0</td>\n",
       "      <td>673</td>\n",
       "      <td>23.0</td>\n",
       "      <td>469</td>\n",
       "      <td>23.0</td>\n",
       "      <td>26.0</td>\n",
       "      <td>31.0</td>\n",
       "      <td>0.0</td>\n",
       "      <td>0.0</td>\n",
       "      <td>9.133333</td>\n",
       "      <td>8.657143</td>\n",
       "      <td>673.0</td>\n",
       "      <td>1728.0</td>\n",
       "      <td>1891.0</td>\n",
       "      <td>2035.0</td>\n",
       "      <td>2069.0</td>\n",
       "      <td>133.0</td>\n",
       "      <td>136.0</td>\n",
       "      <td>469.0</td>\n",
       "      <td>922.0</td>\n",
       "      <td>1884.0</td>\n",
       "      <td>0</td>\n",
       "      <td>1</td>\n",
       "    </tr>\n",
       "    <tr>\n",
       "      <th>4</th>\n",
       "      <td>20000005</td>\n",
       "      <td>505</td>\n",
       "      <td>2000</td>\n",
       "      <td>1610612765</td>\n",
       "      <td>Detroit</td>\n",
       "      <td>Pistons</td>\n",
       "      <td>1</td>\n",
       "      <td>0</td>\n",
       "      <td>104</td>\n",
       "      <td>95</td>\n",
       "      <td>False</td>\n",
       "      <td>1610612761</td>\n",
       "      <td>Toronto</td>\n",
       "      <td>Raptors</td>\n",
       "      <td>0</td>\n",
       "      <td>1</td>\n",
       "      <td>4</td>\n",
       "      <td>48.0</td>\n",
       "      <td>12</td>\n",
       "      <td>11</td>\n",
       "      <td>44</td>\n",
       "      <td>49</td>\n",
       "      <td>3</td>\n",
       "      <td>9</td>\n",
       "      <td>35</td>\n",
       "      <td>58</td>\n",
       "      <td>5</td>\n",
       "      <td>12</td>\n",
       "      <td>13</td>\n",
       "      <td>5</td>\n",
       "      <td>20</td>\n",
       "      <td>11</td>\n",
       "      <td>45</td>\n",
       "      <td>48</td>\n",
       "      <td>9</td>\n",
       "      <td>13</td>\n",
       "      <td>12</td>\n",
       "      <td>15</td>\n",
       "      <td>0</td>\n",
       "      <td>0</td>\n",
       "      <td>27</td>\n",
       "      <td>21</td>\n",
       "      <td>30</td>\n",
       "      <td>18</td>\n",
       "      <td>5</td>\n",
       "      <td>7</td>\n",
       "      <td>1</td>\n",
       "      <td>0</td>\n",
       "      <td>VISITOR_PLAYER</td>\n",
       "      <td>0</td>\n",
       "      <td>0</td>\n",
       "      <td>0</td>\n",
       "      <td>0</td>\n",
       "      <td>1713</td>\n",
       "      <td>26.0</td>\n",
       "      <td>711</td>\n",
       "      <td>44.0</td>\n",
       "      <td>26.0</td>\n",
       "      <td>26.0</td>\n",
       "      <td>0.0</td>\n",
       "      <td>0.0</td>\n",
       "      <td>12.400000</td>\n",
       "      <td>9.454545</td>\n",
       "      <td>213.0</td>\n",
       "      <td>349.0</td>\n",
       "      <td>722.0</td>\n",
       "      <td>891.0</td>\n",
       "      <td>1713.0</td>\n",
       "      <td>182.0</td>\n",
       "      <td>376.0</td>\n",
       "      <td>711.0</td>\n",
       "      <td>1088.0</td>\n",
       "      <td>1112.0</td>\n",
       "      <td>1</td>\n",
       "      <td>0</td>\n",
       "    </tr>\n",
       "    <tr>\n",
       "      <th>...</th>\n",
       "      <td>...</td>\n",
       "      <td>...</td>\n",
       "      <td>...</td>\n",
       "      <td>...</td>\n",
       "      <td>...</td>\n",
       "      <td>...</td>\n",
       "      <td>...</td>\n",
       "      <td>...</td>\n",
       "      <td>...</td>\n",
       "      <td>...</td>\n",
       "      <td>...</td>\n",
       "      <td>...</td>\n",
       "      <td>...</td>\n",
       "      <td>...</td>\n",
       "      <td>...</td>\n",
       "      <td>...</td>\n",
       "      <td>...</td>\n",
       "      <td>...</td>\n",
       "      <td>...</td>\n",
       "      <td>...</td>\n",
       "      <td>...</td>\n",
       "      <td>...</td>\n",
       "      <td>...</td>\n",
       "      <td>...</td>\n",
       "      <td>...</td>\n",
       "      <td>...</td>\n",
       "      <td>...</td>\n",
       "      <td>...</td>\n",
       "      <td>...</td>\n",
       "      <td>...</td>\n",
       "      <td>...</td>\n",
       "      <td>...</td>\n",
       "      <td>...</td>\n",
       "      <td>...</td>\n",
       "      <td>...</td>\n",
       "      <td>...</td>\n",
       "      <td>...</td>\n",
       "      <td>...</td>\n",
       "      <td>...</td>\n",
       "      <td>...</td>\n",
       "      <td>...</td>\n",
       "      <td>...</td>\n",
       "      <td>...</td>\n",
       "      <td>...</td>\n",
       "      <td>...</td>\n",
       "      <td>...</td>\n",
       "      <td>...</td>\n",
       "      <td>...</td>\n",
       "      <td>...</td>\n",
       "      <td>...</td>\n",
       "      <td>...</td>\n",
       "      <td>...</td>\n",
       "      <td>...</td>\n",
       "      <td>...</td>\n",
       "      <td>...</td>\n",
       "      <td>...</td>\n",
       "      <td>...</td>\n",
       "      <td>...</td>\n",
       "      <td>...</td>\n",
       "      <td>...</td>\n",
       "      <td>...</td>\n",
       "      <td>...</td>\n",
       "      <td>...</td>\n",
       "      <td>...</td>\n",
       "      <td>...</td>\n",
       "      <td>...</td>\n",
       "      <td>...</td>\n",
       "      <td>...</td>\n",
       "      <td>...</td>\n",
       "      <td>...</td>\n",
       "      <td>...</td>\n",
       "      <td>...</td>\n",
       "      <td>...</td>\n",
       "      <td>...</td>\n",
       "      <td>...</td>\n",
       "    </tr>\n",
       "    <tr>\n",
       "      <th>22960</th>\n",
       "      <td>21801226</td>\n",
       "      <td>474</td>\n",
       "      <td>2018</td>\n",
       "      <td>1610612760</td>\n",
       "      <td>Oklahoma City</td>\n",
       "      <td>Thunder</td>\n",
       "      <td>49</td>\n",
       "      <td>33</td>\n",
       "      <td>127</td>\n",
       "      <td>116</td>\n",
       "      <td>False</td>\n",
       "      <td>1610612749</td>\n",
       "      <td>Milwaukee</td>\n",
       "      <td>Bucks</td>\n",
       "      <td>60</td>\n",
       "      <td>22</td>\n",
       "      <td>4</td>\n",
       "      <td>48.0</td>\n",
       "      <td>11</td>\n",
       "      <td>8</td>\n",
       "      <td>48</td>\n",
       "      <td>51</td>\n",
       "      <td>23</td>\n",
       "      <td>31</td>\n",
       "      <td>43</td>\n",
       "      <td>57</td>\n",
       "      <td>15</td>\n",
       "      <td>31</td>\n",
       "      <td>8</td>\n",
       "      <td>5</td>\n",
       "      <td>15</td>\n",
       "      <td>6</td>\n",
       "      <td>53</td>\n",
       "      <td>53</td>\n",
       "      <td>1</td>\n",
       "      <td>7</td>\n",
       "      <td>12</td>\n",
       "      <td>14</td>\n",
       "      <td>1</td>\n",
       "      <td>1</td>\n",
       "      <td>20</td>\n",
       "      <td>14</td>\n",
       "      <td>23</td>\n",
       "      <td>17</td>\n",
       "      <td>3</td>\n",
       "      <td>6</td>\n",
       "      <td>1</td>\n",
       "      <td>0</td>\n",
       "      <td>VISITOR_PLAYER</td>\n",
       "      <td>0</td>\n",
       "      <td>0</td>\n",
       "      <td>0</td>\n",
       "      <td>0</td>\n",
       "      <td>204025</td>\n",
       "      <td>29.0</td>\n",
       "      <td>203471</td>\n",
       "      <td>32.0</td>\n",
       "      <td>28.0</td>\n",
       "      <td>28.0</td>\n",
       "      <td>1.0</td>\n",
       "      <td>1.0</td>\n",
       "      <td>12.418605</td>\n",
       "      <td>14.000000</td>\n",
       "      <td>101141.0</td>\n",
       "      <td>1626192.0</td>\n",
       "      <td>1628391.0</td>\n",
       "      <td>1628425.0</td>\n",
       "      <td>1629045.0</td>\n",
       "      <td>201566.0</td>\n",
       "      <td>203471.0</td>\n",
       "      <td>203500.0</td>\n",
       "      <td>203924.0</td>\n",
       "      <td>1628390.0</td>\n",
       "      <td>0</td>\n",
       "      <td>0</td>\n",
       "    </tr>\n",
       "    <tr>\n",
       "      <th>22961</th>\n",
       "      <td>21801227</td>\n",
       "      <td>443</td>\n",
       "      <td>2018</td>\n",
       "      <td>1610612742</td>\n",
       "      <td>Dallas</td>\n",
       "      <td>Mavericks</td>\n",
       "      <td>33</td>\n",
       "      <td>49</td>\n",
       "      <td>94</td>\n",
       "      <td>105</td>\n",
       "      <td>True</td>\n",
       "      <td>1610612759</td>\n",
       "      <td>San Antonio</td>\n",
       "      <td>Spurs</td>\n",
       "      <td>48</td>\n",
       "      <td>34</td>\n",
       "      <td>4</td>\n",
       "      <td>48.0</td>\n",
       "      <td>10</td>\n",
       "      <td>13</td>\n",
       "      <td>37</td>\n",
       "      <td>54</td>\n",
       "      <td>11</td>\n",
       "      <td>26</td>\n",
       "      <td>41</td>\n",
       "      <td>47</td>\n",
       "      <td>8</td>\n",
       "      <td>16</td>\n",
       "      <td>9</td>\n",
       "      <td>3</td>\n",
       "      <td>15</td>\n",
       "      <td>3</td>\n",
       "      <td>42</td>\n",
       "      <td>53</td>\n",
       "      <td>4</td>\n",
       "      <td>5</td>\n",
       "      <td>7</td>\n",
       "      <td>10</td>\n",
       "      <td>0</td>\n",
       "      <td>1</td>\n",
       "      <td>19</td>\n",
       "      <td>14</td>\n",
       "      <td>23</td>\n",
       "      <td>28</td>\n",
       "      <td>6</td>\n",
       "      <td>6</td>\n",
       "      <td>0</td>\n",
       "      <td>2</td>\n",
       "      <td>HOME_PLAYER</td>\n",
       "      <td>0</td>\n",
       "      <td>0</td>\n",
       "      <td>0</td>\n",
       "      <td>0</td>\n",
       "      <td>200746</td>\n",
       "      <td>34.0</td>\n",
       "      <td>1717</td>\n",
       "      <td>20.0</td>\n",
       "      <td>27.0</td>\n",
       "      <td>28.0</td>\n",
       "      <td>1.0</td>\n",
       "      <td>1.0</td>\n",
       "      <td>12.341463</td>\n",
       "      <td>14.513514</td>\n",
       "      <td>200746.0</td>\n",
       "      <td>201942.0</td>\n",
       "      <td>1627751.0</td>\n",
       "      <td>1627854.0</td>\n",
       "      <td>1628401.0</td>\n",
       "      <td>1717.0</td>\n",
       "      <td>2734.0</td>\n",
       "      <td>203939.0</td>\n",
       "      <td>1628382.0</td>\n",
       "      <td>1628973.0</td>\n",
       "      <td>0</td>\n",
       "      <td>0</td>\n",
       "    </tr>\n",
       "    <tr>\n",
       "      <th>22962</th>\n",
       "      <td>21801228</td>\n",
       "      <td>434</td>\n",
       "      <td>2018</td>\n",
       "      <td>1610612750</td>\n",
       "      <td>Minnesota</td>\n",
       "      <td>Timberwolves</td>\n",
       "      <td>36</td>\n",
       "      <td>46</td>\n",
       "      <td>95</td>\n",
       "      <td>99</td>\n",
       "      <td>True</td>\n",
       "      <td>1610612743</td>\n",
       "      <td>Denver</td>\n",
       "      <td>Nuggets</td>\n",
       "      <td>54</td>\n",
       "      <td>28</td>\n",
       "      <td>4</td>\n",
       "      <td>48.0</td>\n",
       "      <td>10</td>\n",
       "      <td>9</td>\n",
       "      <td>39</td>\n",
       "      <td>52</td>\n",
       "      <td>13</td>\n",
       "      <td>19</td>\n",
       "      <td>39</td>\n",
       "      <td>48</td>\n",
       "      <td>10</td>\n",
       "      <td>23</td>\n",
       "      <td>4</td>\n",
       "      <td>2</td>\n",
       "      <td>11</td>\n",
       "      <td>6</td>\n",
       "      <td>41</td>\n",
       "      <td>53</td>\n",
       "      <td>6</td>\n",
       "      <td>5</td>\n",
       "      <td>10</td>\n",
       "      <td>12</td>\n",
       "      <td>0</td>\n",
       "      <td>1</td>\n",
       "      <td>22</td>\n",
       "      <td>13</td>\n",
       "      <td>21</td>\n",
       "      <td>19</td>\n",
       "      <td>7</td>\n",
       "      <td>5</td>\n",
       "      <td>2</td>\n",
       "      <td>1</td>\n",
       "      <td>HOME_PLAYER</td>\n",
       "      <td>0</td>\n",
       "      <td>0</td>\n",
       "      <td>0</td>\n",
       "      <td>0</td>\n",
       "      <td>203999</td>\n",
       "      <td>29.0</td>\n",
       "      <td>203952</td>\n",
       "      <td>25.0</td>\n",
       "      <td>26.0</td>\n",
       "      <td>27.0</td>\n",
       "      <td>1.0</td>\n",
       "      <td>1.0</td>\n",
       "      <td>11.384615</td>\n",
       "      <td>11.948718</td>\n",
       "      <td>200794.0</td>\n",
       "      <td>203115.0</td>\n",
       "      <td>203914.0</td>\n",
       "      <td>203999.0</td>\n",
       "      <td>1627750.0</td>\n",
       "      <td>203476.0</td>\n",
       "      <td>203952.0</td>\n",
       "      <td>203967.0</td>\n",
       "      <td>1626145.0</td>\n",
       "      <td>1629006.0</td>\n",
       "      <td>1</td>\n",
       "      <td>0</td>\n",
       "    </tr>\n",
       "    <tr>\n",
       "      <th>22963</th>\n",
       "      <td>21801229</td>\n",
       "      <td>555</td>\n",
       "      <td>2018</td>\n",
       "      <td>1610612762</td>\n",
       "      <td>Utah</td>\n",
       "      <td>Jazz</td>\n",
       "      <td>50</td>\n",
       "      <td>32</td>\n",
       "      <td>137</td>\n",
       "      <td>143</td>\n",
       "      <td>True</td>\n",
       "      <td>1610612746</td>\n",
       "      <td>LA</td>\n",
       "      <td>Clippers</td>\n",
       "      <td>48</td>\n",
       "      <td>34</td>\n",
       "      <td>5</td>\n",
       "      <td>50.5</td>\n",
       "      <td>10</td>\n",
       "      <td>13</td>\n",
       "      <td>47</td>\n",
       "      <td>59</td>\n",
       "      <td>14</td>\n",
       "      <td>21</td>\n",
       "      <td>54</td>\n",
       "      <td>52</td>\n",
       "      <td>12</td>\n",
       "      <td>16</td>\n",
       "      <td>29</td>\n",
       "      <td>4</td>\n",
       "      <td>23</td>\n",
       "      <td>7</td>\n",
       "      <td>57</td>\n",
       "      <td>52</td>\n",
       "      <td>6</td>\n",
       "      <td>3</td>\n",
       "      <td>17</td>\n",
       "      <td>12</td>\n",
       "      <td>0</td>\n",
       "      <td>0</td>\n",
       "      <td>24</td>\n",
       "      <td>27</td>\n",
       "      <td>26</td>\n",
       "      <td>24</td>\n",
       "      <td>7</td>\n",
       "      <td>6</td>\n",
       "      <td>1</td>\n",
       "      <td>1</td>\n",
       "      <td>VISITOR_PLAYER</td>\n",
       "      <td>0</td>\n",
       "      <td>0</td>\n",
       "      <td>0</td>\n",
       "      <td>0</td>\n",
       "      <td>1626149</td>\n",
       "      <td>24.0</td>\n",
       "      <td>1628960</td>\n",
       "      <td>40.0</td>\n",
       "      <td>28.0</td>\n",
       "      <td>28.0</td>\n",
       "      <td>0.0</td>\n",
       "      <td>1.0</td>\n",
       "      <td>9.555556</td>\n",
       "      <td>12.085106</td>\n",
       "      <td>201568.0</td>\n",
       "      <td>201976.0</td>\n",
       "      <td>1627826.0</td>\n",
       "      <td>1628983.0</td>\n",
       "      <td>1629013.0</td>\n",
       "      <td>202327.0</td>\n",
       "      <td>203109.0</td>\n",
       "      <td>204060.0</td>\n",
       "      <td>1626220.0</td>\n",
       "      <td>1628960.0</td>\n",
       "      <td>0</td>\n",
       "      <td>0</td>\n",
       "    </tr>\n",
       "    <tr>\n",
       "      <th>22964</th>\n",
       "      <td>21801230</td>\n",
       "      <td>422</td>\n",
       "      <td>2018</td>\n",
       "      <td>1610612758</td>\n",
       "      <td>Sacramento</td>\n",
       "      <td>Kings</td>\n",
       "      <td>39</td>\n",
       "      <td>43</td>\n",
       "      <td>131</td>\n",
       "      <td>136</td>\n",
       "      <td>True</td>\n",
       "      <td>1610612757</td>\n",
       "      <td>Portland</td>\n",
       "      <td>Trail Blazers</td>\n",
       "      <td>53</td>\n",
       "      <td>29</td>\n",
       "      <td>4</td>\n",
       "      <td>48.0</td>\n",
       "      <td>13</td>\n",
       "      <td>6</td>\n",
       "      <td>50</td>\n",
       "      <td>46</td>\n",
       "      <td>18</td>\n",
       "      <td>25</td>\n",
       "      <td>53</td>\n",
       "      <td>38</td>\n",
       "      <td>14</td>\n",
       "      <td>10</td>\n",
       "      <td>13</td>\n",
       "      <td>3</td>\n",
       "      <td>16</td>\n",
       "      <td>6</td>\n",
       "      <td>35</td>\n",
       "      <td>44</td>\n",
       "      <td>6</td>\n",
       "      <td>3</td>\n",
       "      <td>10</td>\n",
       "      <td>12</td>\n",
       "      <td>0</td>\n",
       "      <td>1</td>\n",
       "      <td>17</td>\n",
       "      <td>17</td>\n",
       "      <td>18</td>\n",
       "      <td>6</td>\n",
       "      <td>6</td>\n",
       "      <td>6</td>\n",
       "      <td>0</td>\n",
       "      <td>1</td>\n",
       "      <td>HOME_PLAYER</td>\n",
       "      <td>0</td>\n",
       "      <td>0</td>\n",
       "      <td>0</td>\n",
       "      <td>0</td>\n",
       "      <td>1629014</td>\n",
       "      <td>37.0</td>\n",
       "      <td>1628963</td>\n",
       "      <td>20.0</td>\n",
       "      <td>29.0</td>\n",
       "      <td>30.0</td>\n",
       "      <td>0.0</td>\n",
       "      <td>1.0</td>\n",
       "      <td>11.867925</td>\n",
       "      <td>13.520000</td>\n",
       "      <td>203086.0</td>\n",
       "      <td>1627746.0</td>\n",
       "      <td>1627774.0</td>\n",
       "      <td>1629014.0</td>\n",
       "      <td>1629018.0</td>\n",
       "      <td>202357.0</td>\n",
       "      <td>203084.0</td>\n",
       "      <td>1626161.0</td>\n",
       "      <td>1627741.0</td>\n",
       "      <td>1628368.0</td>\n",
       "      <td>0</td>\n",
       "      <td>0</td>\n",
       "    </tr>\n",
       "  </tbody>\n",
       "</table>\n",
       "<p>22965 rows × 75 columns</p>\n",
       "</div>"
      ],
      "text/plain": [
       "        game_id  play_count  season_name  visitor_team_id visitor_team_city  \\\n",
       "0      20000001         429         2000       1610612755      Philadelphia   \n",
       "1      20000002         510         2000       1610612739         Cleveland   \n",
       "2      20000003         478         2000       1610612764        Washington   \n",
       "3      20000004         448         2000       1610612766         Charlotte   \n",
       "4      20000005         505         2000       1610612765           Detroit   \n",
       "...         ...         ...          ...              ...               ...   \n",
       "22960  21801226         474         2018       1610612760     Oklahoma City   \n",
       "22961  21801227         443         2018       1610612742            Dallas   \n",
       "22962  21801228         434         2018       1610612750         Minnesota   \n",
       "22963  21801229         555         2018       1610612762              Utah   \n",
       "22964  21801230         422         2018       1610612758        Sacramento   \n",
       "\n",
       "      visitor_team_nickname  visitor_record_wins  visitor_record_losses  \\\n",
       "0                     76ers                    1                      0   \n",
       "1                 Cavaliers                    1                      0   \n",
       "2                   Wizards                    0                      1   \n",
       "3                   Hornets                    1                      0   \n",
       "4                   Pistons                    1                      0   \n",
       "...                     ...                  ...                    ...   \n",
       "22960               Thunder                   49                     33   \n",
       "22961             Mavericks                   33                     49   \n",
       "22962          Timberwolves                   36                     46   \n",
       "22963                  Jazz                   50                     32   \n",
       "22964                 Kings                   39                     43   \n",
       "\n",
       "       visitor_final_score  home_final_score  home_win  home_team_id  \\\n",
       "0                      101                72     False    1610612752   \n",
       "1                       86                82     False    1610612751   \n",
       "2                       86                97      True    1610612753   \n",
       "3                      106                82     False    1610612737   \n",
       "4                      104                95     False    1610612761   \n",
       "...                    ...               ...       ...           ...   \n",
       "22960                  127               116     False    1610612749   \n",
       "22961                   94               105      True    1610612759   \n",
       "22962                   95                99      True    1610612743   \n",
       "22963                  137               143      True    1610612746   \n",
       "22964                  131               136      True    1610612757   \n",
       "\n",
       "      home_team_city home_team_nickname  home_record_wins  home_record_losses  \\\n",
       "0           New York             Knicks                 0                   1   \n",
       "1         New Jersey               Nets                 0                   1   \n",
       "2            Orlando              Magic                 1                   0   \n",
       "3            Atlanta              Hawks                 0                   1   \n",
       "4            Toronto            Raptors                 0                   1   \n",
       "...              ...                ...               ...                 ...   \n",
       "22960      Milwaukee              Bucks                60                  22   \n",
       "22961    San Antonio              Spurs                48                  34   \n",
       "22962         Denver            Nuggets                54                  28   \n",
       "22963             LA           Clippers                48                  34   \n",
       "22964       Portland      Trail Blazers                53                  29   \n",
       "\n",
       "       periods  minutes_played  visitor_players_deployed  \\\n",
       "0            4            48.0                        12   \n",
       "1            4            48.0                        11   \n",
       "2            4            48.0                        12   \n",
       "3            4            48.0                        11   \n",
       "4            4            48.0                        12   \n",
       "...        ...             ...                       ...   \n",
       "22960        4            48.0                        11   \n",
       "22961        4            48.0                        10   \n",
       "22962        4            48.0                        10   \n",
       "22963        5            50.5                        10   \n",
       "22964        4            48.0                        13   \n",
       "\n",
       "       home_players_deployed  visitor_fg_made  visitor_fg_missed  \\\n",
       "0                         12               38                 28   \n",
       "1                         10               32                 46   \n",
       "2                         10               33                 39   \n",
       "3                         11               35                 27   \n",
       "4                         11               44                 49   \n",
       "...                      ...              ...                ...   \n",
       "22960                      8               48                 51   \n",
       "22961                     13               37                 54   \n",
       "22962                      9               39                 52   \n",
       "22963                     13               47                 59   \n",
       "22964                      6               50                 46   \n",
       "\n",
       "       visitor_3PT_made  visitor_3PT_missed  home_fg_made  home_fg_missed  \\\n",
       "0                     3                   5            25              45   \n",
       "1                     2                   5            31              54   \n",
       "2                     4                   3            34              45   \n",
       "3                     5                   4            30              51   \n",
       "4                     3                   9            35              58   \n",
       "...                 ...                 ...           ...             ...   \n",
       "22960                23                  31            43              57   \n",
       "22961                11                  26            41              47   \n",
       "22962                13                  19            39              48   \n",
       "22963                14                  21            54              52   \n",
       "22964                18                  25            53              38   \n",
       "\n",
       "       home_3PT_made  home_3PT_missed  visitor_ft_made  visitor_ft_missed  \\\n",
       "0                  3                8               22                  8   \n",
       "1                  3                7               20                 12   \n",
       "2                  6               10               16                  8   \n",
       "3                  6                9               31                  9   \n",
       "4                  5               12               13                  5   \n",
       "...              ...              ...              ...                ...   \n",
       "22960             15               31                8                  5   \n",
       "22961              8               16                9                  3   \n",
       "22962             10               23                4                  2   \n",
       "22963             12               16               29                  4   \n",
       "22964             14               10               13                  3   \n",
       "\n",
       "       home_ft_made  home_ft_missed  visitor_rebound  home_rebound  \\\n",
       "0                19               5               37            37   \n",
       "1                17               9               52            47   \n",
       "2                23              10               44            37   \n",
       "3                16               5               44            29   \n",
       "4                20              11               45            48   \n",
       "...             ...             ...              ...           ...   \n",
       "22960            15               6               53            53   \n",
       "22961            15               3               42            53   \n",
       "22962            11               6               41            53   \n",
       "22963            23               7               57            52   \n",
       "22964            16               6               35            44   \n",
       "\n",
       "       visitor_team_rebound  home_team_rebound  visitor_turnover  \\\n",
       "0                         2                  3                13   \n",
       "1                         6                  6                19   \n",
       "2                         5                  7                26   \n",
       "3                         3                  7                17   \n",
       "4                         9                 13                12   \n",
       "...                     ...                ...               ...   \n",
       "22960                     1                  7                12   \n",
       "22961                     4                  5                 7   \n",
       "22962                     6                  5                10   \n",
       "22963                     6                  3                17   \n",
       "22964                     6                  3                10   \n",
       "\n",
       "       home_turnover  visitor_team_turnover  home_team_turnover  visitor_foul  \\\n",
       "0                 22                      1                   0            25   \n",
       "1                 12                      0                   3            28   \n",
       "2                 15                      1                   0            28   \n",
       "3                 13                      0                   0            22   \n",
       "4                 15                      0                   0            27   \n",
       "...              ...                    ...                 ...           ...   \n",
       "22960             14                      1                   1            20   \n",
       "22961             10                      0                   1            19   \n",
       "22962             12                      0                   1            22   \n",
       "22963             12                      0                   0            24   \n",
       "22964             12                      0                   1            17   \n",
       "\n",
       "       home_foul  visitor_subs  home_subs  visitor_timeout  home_timeout  \\\n",
       "0             30            20         17                3             7   \n",
       "1             31            24         21                6             8   \n",
       "2             24            28         18                7             5   \n",
       "3             32            17         27                5             5   \n",
       "4             21            30         18                5             7   \n",
       "...          ...           ...        ...              ...           ...   \n",
       "22960         14            23         17                3             6   \n",
       "22961         14            23         28                6             6   \n",
       "22962         13            21         19                7             5   \n",
       "22963         27            26         24                7             6   \n",
       "22964         17            18          6                6             6   \n",
       "\n",
       "       visitor_jump_balls_won  home_jump_balls_won  tip_off_winner  \\\n",
       "0                           1                    2     HOME_PLAYER   \n",
       "1                           1                    1     HOME_PLAYER   \n",
       "2                           0                    1     HOME_PLAYER   \n",
       "3                           1                    1     HOME_PLAYER   \n",
       "4                           1                    0  VISITOR_PLAYER   \n",
       "...                       ...                  ...             ...   \n",
       "22960                       1                    0  VISITOR_PLAYER   \n",
       "22961                       0                    2     HOME_PLAYER   \n",
       "22962                       2                    1     HOME_PLAYER   \n",
       "22963                       1                    1  VISITOR_PLAYER   \n",
       "22964                       0                    1     HOME_PLAYER   \n",
       "\n",
       "       visitor_ejection  home_ejection  visitor_team_ejection  \\\n",
       "0                     0              0                      0   \n",
       "1                     0              0                      0   \n",
       "2                     0              0                      0   \n",
       "3                     0              0                      0   \n",
       "4                     0              0                      0   \n",
       "...                 ...            ...                    ...   \n",
       "22960                 0              0                      0   \n",
       "22961                 0              0                      0   \n",
       "22962                 0              0                      0   \n",
       "22963                 0              0                      0   \n",
       "22964                 0              0                      0   \n",
       "\n",
       "       home_team_ejection  home_scoring_leader  home_scoring_leader_points  \\\n",
       "0                       0                  275                        21.0   \n",
       "1                       0                 1425                        20.0   \n",
       "2                       0                 1503                        32.0   \n",
       "3                       0                  673                        23.0   \n",
       "4                       0                 1713                        26.0   \n",
       "...                   ...                  ...                         ...   \n",
       "22960                   0               204025                        29.0   \n",
       "22961                   0               200746                        34.0   \n",
       "22962                   0               203999                        29.0   \n",
       "22963                   0              1626149                        24.0   \n",
       "22964                   0              1629014                        37.0   \n",
       "\n",
       "       visitor_scoring_leader  visitor_scoring_leader_points  \\\n",
       "0                         947                           25.0   \n",
       "1                         441                           17.0   \n",
       "2                        1732                           16.0   \n",
       "3                         469                           23.0   \n",
       "4                         711                           44.0   \n",
       "...                       ...                            ...   \n",
       "22960                  203471                           32.0   \n",
       "22961                    1717                           20.0   \n",
       "22962                  203952                           25.0   \n",
       "22963                 1628960                           40.0   \n",
       "22964                 1628963                           20.0   \n",
       "\n",
       "       home_made_max_shot_distance  visitor_made_max_shot_distance  \\\n",
       "0                             26.0                            26.0   \n",
       "1                             27.0                            27.0   \n",
       "2                             25.0                            25.0   \n",
       "3                             26.0                            31.0   \n",
       "4                             26.0                            26.0   \n",
       "...                            ...                             ...   \n",
       "22960                         28.0                            28.0   \n",
       "22961                         27.0                            28.0   \n",
       "22962                         26.0                            27.0   \n",
       "22963                         28.0                            28.0   \n",
       "22964                         29.0                            30.0   \n",
       "\n",
       "       home_made_min_shot_distance  visitor_made_min_shot_distance  \\\n",
       "0                              0.0                             0.0   \n",
       "1                              0.0                             0.0   \n",
       "2                              0.0                             0.0   \n",
       "3                              0.0                             0.0   \n",
       "4                              0.0                             0.0   \n",
       "...                            ...                             ...   \n",
       "22960                          1.0                             1.0   \n",
       "22961                          1.0                             1.0   \n",
       "22962                          1.0                             1.0   \n",
       "22963                          0.0                             1.0   \n",
       "22964                          0.0                             1.0   \n",
       "\n",
       "       home_made_mean_shot_distance  visitor_made_mean_shot_distance  \\\n",
       "0                         10.720000                         9.263158   \n",
       "1                          8.129032                         9.500000   \n",
       "2                         10.794118                         7.696970   \n",
       "3                          9.133333                         8.657143   \n",
       "4                         12.400000                         9.454545   \n",
       "...                             ...                              ...   \n",
       "22960                     12.418605                        14.000000   \n",
       "22961                     12.341463                        14.513514   \n",
       "22962                     11.384615                        11.948718   \n",
       "22963                      9.555556                        12.085106   \n",
       "22964                     11.867925                        13.520000   \n",
       "\n",
       "       home_player1_id  home_player2_id  home_player3_id  home_player4_id  \\\n",
       "0                 84.0            275.0            369.0            913.0   \n",
       "1                383.0            950.0           1536.0           1915.0   \n",
       "2                255.0            353.0            448.0            680.0   \n",
       "3                673.0           1728.0           1891.0           2035.0   \n",
       "4                213.0            349.0            722.0            891.0   \n",
       "...                ...              ...              ...              ...   \n",
       "22960         101141.0        1626192.0        1628391.0        1628425.0   \n",
       "22961         200746.0         201942.0        1627751.0        1627854.0   \n",
       "22962         200794.0         203115.0         203914.0         203999.0   \n",
       "22963         201568.0         201976.0        1627826.0        1628983.0   \n",
       "22964         203086.0        1627746.0        1627774.0        1629014.0   \n",
       "\n",
       "       home_player5_id  visitor_player1_id  visitor_player2_id  \\\n",
       "0                948.0               238.0               243.0   \n",
       "1               2030.0               221.0               441.0   \n",
       "2               1503.0               393.0               436.0   \n",
       "3               2069.0               133.0               136.0   \n",
       "4               1713.0               182.0               376.0   \n",
       "...                ...                 ...                 ...   \n",
       "22960        1629045.0            201566.0            203471.0   \n",
       "22961        1628401.0              1717.0              2734.0   \n",
       "22962        1627750.0            203476.0            203952.0   \n",
       "22963        1629013.0            202327.0            203109.0   \n",
       "22964        1629018.0            202357.0            203084.0   \n",
       "\n",
       "       visitor_player3_id  visitor_player4_id  visitor_player5_id  \\\n",
       "0                   248.0               689.0               727.0   \n",
       "1                   980.0              1723.0              1889.0   \n",
       "2                  1732.0              1751.0              1918.0   \n",
       "3                   469.0               922.0              1884.0   \n",
       "4                   711.0              1088.0              1112.0   \n",
       "...                   ...                 ...                 ...   \n",
       "22960            203500.0            203924.0           1628390.0   \n",
       "22961            203939.0           1628382.0           1628973.0   \n",
       "22962            203967.0           1626145.0           1629006.0   \n",
       "22963            204060.0           1626220.0           1628960.0   \n",
       "22964           1626161.0           1627741.0           1628368.0   \n",
       "\n",
       "       home_team_common_lineup  visitor_team_common_lineup  \n",
       "0                            1                           0  \n",
       "1                            0                           1  \n",
       "2                            0                           0  \n",
       "3                            0                           1  \n",
       "4                            1                           0  \n",
       "...                        ...                         ...  \n",
       "22960                        0                           0  \n",
       "22961                        0                           0  \n",
       "22962                        1                           0  \n",
       "22963                        0                           0  \n",
       "22964                        0                           0  \n",
       "\n",
       "[22965 rows x 75 columns]"
      ]
     },
     "execution_count": 8,
     "metadata": {},
     "output_type": "execute_result"
    }
   ],
   "source": [
    "game_data"
   ]
  },
  {
   "cell_type": "markdown",
   "metadata": {},
   "source": [
    "* * *\n",
    "### Win/Loss ratio - Most common starting lineups"
   ]
  },
  {
   "cell_type": "code",
   "execution_count": 41,
   "metadata": {},
   "outputs": [
    {
     "data": {
      "text/plain": [
       "home_team_common_lineup\n",
       "0    8951\n",
       "1    4750\n",
       "Name: home_win, dtype: int64"
      ]
     },
     "execution_count": 41,
     "metadata": {},
     "output_type": "execute_result"
    }
   ],
   "source": [
    "home_common_won = game_data.groupby([\"home_team_common_lineup\"])[\"home_win\"].sum()\n",
    "home_common_lost = game_data.groupby([\"home_team_common_lineup\"])[\"home_win\"].count() - home_common_won\n",
    "home_common_won"
   ]
  },
  {
   "cell_type": "code",
   "execution_count": 46,
   "metadata": {},
   "outputs": [],
   "source": [
    "visitor_common_lost = game_data.groupby([\"visitor_team_common_lineup\"])[\"home_win\"].sum()\n",
    "visitor_common_won = game_data.groupby([\"visitor_team_common_lineup\"])[\"home_win\"].count() - visitor_common_lost"
   ]
  },
  {
   "cell_type": "code",
   "execution_count": 40,
   "metadata": {},
   "outputs": [
    {
     "data": {
      "application/vnd.plotly.v1+json": {
       "config": {
        "plotlyServerURL": "https://plot.ly"
       },
       "data": [
        {
         "domain": {
          "x": [
           0,
           0.45
          ],
          "y": [
           0,
           1
          ]
         },
         "labels": [
          "Different lineup",
          "Most common lineup"
         ],
         "name": "Home team won",
         "type": "pie",
         "values": [
          8951,
          4750
         ]
        },
        {
         "domain": {
          "x": [
           0.55,
           1
          ],
          "y": [
           0,
           1
          ]
         },
         "labels": [
          "Different lineup",
          "Most common lineup"
         ],
         "name": "Home team lost",
         "type": "pie",
         "values": [
          7060,
          2204
         ]
        }
       ],
       "layout": {
        "annotations": [
         {
          "font": {
           "size": 16
          },
          "showarrow": false,
          "text": "Home team won",
          "x": 0.225,
          "xanchor": "center",
          "xref": "paper",
          "y": 1,
          "yanchor": "bottom",
          "yref": "paper"
         },
         {
          "font": {
           "size": 16
          },
          "showarrow": false,
          "text": "Home team lost",
          "x": 0.775,
          "xanchor": "center",
          "xref": "paper",
          "y": 1,
          "yanchor": "bottom",
          "yref": "paper"
         }
        ],
        "height": 500,
        "template": {
         "data": {
          "bar": [
           {
            "error_x": {
             "color": "#2a3f5f"
            },
            "error_y": {
             "color": "#2a3f5f"
            },
            "marker": {
             "line": {
              "color": "#E5ECF6",
              "width": 0.5
             },
             "pattern": {
              "fillmode": "overlay",
              "size": 10,
              "solidity": 0.2
             }
            },
            "type": "bar"
           }
          ],
          "barpolar": [
           {
            "marker": {
             "line": {
              "color": "#E5ECF6",
              "width": 0.5
             },
             "pattern": {
              "fillmode": "overlay",
              "size": 10,
              "solidity": 0.2
             }
            },
            "type": "barpolar"
           }
          ],
          "carpet": [
           {
            "aaxis": {
             "endlinecolor": "#2a3f5f",
             "gridcolor": "white",
             "linecolor": "white",
             "minorgridcolor": "white",
             "startlinecolor": "#2a3f5f"
            },
            "baxis": {
             "endlinecolor": "#2a3f5f",
             "gridcolor": "white",
             "linecolor": "white",
             "minorgridcolor": "white",
             "startlinecolor": "#2a3f5f"
            },
            "type": "carpet"
           }
          ],
          "choropleth": [
           {
            "colorbar": {
             "outlinewidth": 0,
             "ticks": ""
            },
            "type": "choropleth"
           }
          ],
          "contour": [
           {
            "colorbar": {
             "outlinewidth": 0,
             "ticks": ""
            },
            "colorscale": [
             [
              0,
              "#0d0887"
             ],
             [
              0.1111111111111111,
              "#46039f"
             ],
             [
              0.2222222222222222,
              "#7201a8"
             ],
             [
              0.3333333333333333,
              "#9c179e"
             ],
             [
              0.4444444444444444,
              "#bd3786"
             ],
             [
              0.5555555555555556,
              "#d8576b"
             ],
             [
              0.6666666666666666,
              "#ed7953"
             ],
             [
              0.7777777777777778,
              "#fb9f3a"
             ],
             [
              0.8888888888888888,
              "#fdca26"
             ],
             [
              1,
              "#f0f921"
             ]
            ],
            "type": "contour"
           }
          ],
          "contourcarpet": [
           {
            "colorbar": {
             "outlinewidth": 0,
             "ticks": ""
            },
            "type": "contourcarpet"
           }
          ],
          "heatmap": [
           {
            "colorbar": {
             "outlinewidth": 0,
             "ticks": ""
            },
            "colorscale": [
             [
              0,
              "#0d0887"
             ],
             [
              0.1111111111111111,
              "#46039f"
             ],
             [
              0.2222222222222222,
              "#7201a8"
             ],
             [
              0.3333333333333333,
              "#9c179e"
             ],
             [
              0.4444444444444444,
              "#bd3786"
             ],
             [
              0.5555555555555556,
              "#d8576b"
             ],
             [
              0.6666666666666666,
              "#ed7953"
             ],
             [
              0.7777777777777778,
              "#fb9f3a"
             ],
             [
              0.8888888888888888,
              "#fdca26"
             ],
             [
              1,
              "#f0f921"
             ]
            ],
            "type": "heatmap"
           }
          ],
          "heatmapgl": [
           {
            "colorbar": {
             "outlinewidth": 0,
             "ticks": ""
            },
            "colorscale": [
             [
              0,
              "#0d0887"
             ],
             [
              0.1111111111111111,
              "#46039f"
             ],
             [
              0.2222222222222222,
              "#7201a8"
             ],
             [
              0.3333333333333333,
              "#9c179e"
             ],
             [
              0.4444444444444444,
              "#bd3786"
             ],
             [
              0.5555555555555556,
              "#d8576b"
             ],
             [
              0.6666666666666666,
              "#ed7953"
             ],
             [
              0.7777777777777778,
              "#fb9f3a"
             ],
             [
              0.8888888888888888,
              "#fdca26"
             ],
             [
              1,
              "#f0f921"
             ]
            ],
            "type": "heatmapgl"
           }
          ],
          "histogram": [
           {
            "marker": {
             "pattern": {
              "fillmode": "overlay",
              "size": 10,
              "solidity": 0.2
             }
            },
            "type": "histogram"
           }
          ],
          "histogram2d": [
           {
            "colorbar": {
             "outlinewidth": 0,
             "ticks": ""
            },
            "colorscale": [
             [
              0,
              "#0d0887"
             ],
             [
              0.1111111111111111,
              "#46039f"
             ],
             [
              0.2222222222222222,
              "#7201a8"
             ],
             [
              0.3333333333333333,
              "#9c179e"
             ],
             [
              0.4444444444444444,
              "#bd3786"
             ],
             [
              0.5555555555555556,
              "#d8576b"
             ],
             [
              0.6666666666666666,
              "#ed7953"
             ],
             [
              0.7777777777777778,
              "#fb9f3a"
             ],
             [
              0.8888888888888888,
              "#fdca26"
             ],
             [
              1,
              "#f0f921"
             ]
            ],
            "type": "histogram2d"
           }
          ],
          "histogram2dcontour": [
           {
            "colorbar": {
             "outlinewidth": 0,
             "ticks": ""
            },
            "colorscale": [
             [
              0,
              "#0d0887"
             ],
             [
              0.1111111111111111,
              "#46039f"
             ],
             [
              0.2222222222222222,
              "#7201a8"
             ],
             [
              0.3333333333333333,
              "#9c179e"
             ],
             [
              0.4444444444444444,
              "#bd3786"
             ],
             [
              0.5555555555555556,
              "#d8576b"
             ],
             [
              0.6666666666666666,
              "#ed7953"
             ],
             [
              0.7777777777777778,
              "#fb9f3a"
             ],
             [
              0.8888888888888888,
              "#fdca26"
             ],
             [
              1,
              "#f0f921"
             ]
            ],
            "type": "histogram2dcontour"
           }
          ],
          "mesh3d": [
           {
            "colorbar": {
             "outlinewidth": 0,
             "ticks": ""
            },
            "type": "mesh3d"
           }
          ],
          "parcoords": [
           {
            "line": {
             "colorbar": {
              "outlinewidth": 0,
              "ticks": ""
             }
            },
            "type": "parcoords"
           }
          ],
          "pie": [
           {
            "automargin": true,
            "type": "pie"
           }
          ],
          "scatter": [
           {
            "fillpattern": {
             "fillmode": "overlay",
             "size": 10,
             "solidity": 0.2
            },
            "type": "scatter"
           }
          ],
          "scatter3d": [
           {
            "line": {
             "colorbar": {
              "outlinewidth": 0,
              "ticks": ""
             }
            },
            "marker": {
             "colorbar": {
              "outlinewidth": 0,
              "ticks": ""
             }
            },
            "type": "scatter3d"
           }
          ],
          "scattercarpet": [
           {
            "marker": {
             "colorbar": {
              "outlinewidth": 0,
              "ticks": ""
             }
            },
            "type": "scattercarpet"
           }
          ],
          "scattergeo": [
           {
            "marker": {
             "colorbar": {
              "outlinewidth": 0,
              "ticks": ""
             }
            },
            "type": "scattergeo"
           }
          ],
          "scattergl": [
           {
            "marker": {
             "colorbar": {
              "outlinewidth": 0,
              "ticks": ""
             }
            },
            "type": "scattergl"
           }
          ],
          "scattermapbox": [
           {
            "marker": {
             "colorbar": {
              "outlinewidth": 0,
              "ticks": ""
             }
            },
            "type": "scattermapbox"
           }
          ],
          "scatterpolar": [
           {
            "marker": {
             "colorbar": {
              "outlinewidth": 0,
              "ticks": ""
             }
            },
            "type": "scatterpolar"
           }
          ],
          "scatterpolargl": [
           {
            "marker": {
             "colorbar": {
              "outlinewidth": 0,
              "ticks": ""
             }
            },
            "type": "scatterpolargl"
           }
          ],
          "scatterternary": [
           {
            "marker": {
             "colorbar": {
              "outlinewidth": 0,
              "ticks": ""
             }
            },
            "type": "scatterternary"
           }
          ],
          "surface": [
           {
            "colorbar": {
             "outlinewidth": 0,
             "ticks": ""
            },
            "colorscale": [
             [
              0,
              "#0d0887"
             ],
             [
              0.1111111111111111,
              "#46039f"
             ],
             [
              0.2222222222222222,
              "#7201a8"
             ],
             [
              0.3333333333333333,
              "#9c179e"
             ],
             [
              0.4444444444444444,
              "#bd3786"
             ],
             [
              0.5555555555555556,
              "#d8576b"
             ],
             [
              0.6666666666666666,
              "#ed7953"
             ],
             [
              0.7777777777777778,
              "#fb9f3a"
             ],
             [
              0.8888888888888888,
              "#fdca26"
             ],
             [
              1,
              "#f0f921"
             ]
            ],
            "type": "surface"
           }
          ],
          "table": [
           {
            "cells": {
             "fill": {
              "color": "#EBF0F8"
             },
             "line": {
              "color": "white"
             }
            },
            "header": {
             "fill": {
              "color": "#C8D4E3"
             },
             "line": {
              "color": "white"
             }
            },
            "type": "table"
           }
          ]
         },
         "layout": {
          "annotationdefaults": {
           "arrowcolor": "#2a3f5f",
           "arrowhead": 0,
           "arrowwidth": 1
          },
          "autotypenumbers": "strict",
          "coloraxis": {
           "colorbar": {
            "outlinewidth": 0,
            "ticks": ""
           }
          },
          "colorscale": {
           "diverging": [
            [
             0,
             "#8e0152"
            ],
            [
             0.1,
             "#c51b7d"
            ],
            [
             0.2,
             "#de77ae"
            ],
            [
             0.3,
             "#f1b6da"
            ],
            [
             0.4,
             "#fde0ef"
            ],
            [
             0.5,
             "#f7f7f7"
            ],
            [
             0.6,
             "#e6f5d0"
            ],
            [
             0.7,
             "#b8e186"
            ],
            [
             0.8,
             "#7fbc41"
            ],
            [
             0.9,
             "#4d9221"
            ],
            [
             1,
             "#276419"
            ]
           ],
           "sequential": [
            [
             0,
             "#0d0887"
            ],
            [
             0.1111111111111111,
             "#46039f"
            ],
            [
             0.2222222222222222,
             "#7201a8"
            ],
            [
             0.3333333333333333,
             "#9c179e"
            ],
            [
             0.4444444444444444,
             "#bd3786"
            ],
            [
             0.5555555555555556,
             "#d8576b"
            ],
            [
             0.6666666666666666,
             "#ed7953"
            ],
            [
             0.7777777777777778,
             "#fb9f3a"
            ],
            [
             0.8888888888888888,
             "#fdca26"
            ],
            [
             1,
             "#f0f921"
            ]
           ],
           "sequentialminus": [
            [
             0,
             "#0d0887"
            ],
            [
             0.1111111111111111,
             "#46039f"
            ],
            [
             0.2222222222222222,
             "#7201a8"
            ],
            [
             0.3333333333333333,
             "#9c179e"
            ],
            [
             0.4444444444444444,
             "#bd3786"
            ],
            [
             0.5555555555555556,
             "#d8576b"
            ],
            [
             0.6666666666666666,
             "#ed7953"
            ],
            [
             0.7777777777777778,
             "#fb9f3a"
            ],
            [
             0.8888888888888888,
             "#fdca26"
            ],
            [
             1,
             "#f0f921"
            ]
           ]
          },
          "colorway": [
           "#636efa",
           "#EF553B",
           "#00cc96",
           "#ab63fa",
           "#FFA15A",
           "#19d3f3",
           "#FF6692",
           "#B6E880",
           "#FF97FF",
           "#FECB52"
          ],
          "font": {
           "color": "#2a3f5f"
          },
          "geo": {
           "bgcolor": "white",
           "lakecolor": "white",
           "landcolor": "#E5ECF6",
           "showlakes": true,
           "showland": true,
           "subunitcolor": "white"
          },
          "hoverlabel": {
           "align": "left"
          },
          "hovermode": "closest",
          "mapbox": {
           "style": "light"
          },
          "paper_bgcolor": "white",
          "plot_bgcolor": "#E5ECF6",
          "polar": {
           "angularaxis": {
            "gridcolor": "white",
            "linecolor": "white",
            "ticks": ""
           },
           "bgcolor": "#E5ECF6",
           "radialaxis": {
            "gridcolor": "white",
            "linecolor": "white",
            "ticks": ""
           }
          },
          "scene": {
           "xaxis": {
            "backgroundcolor": "#E5ECF6",
            "gridcolor": "white",
            "gridwidth": 2,
            "linecolor": "white",
            "showbackground": true,
            "ticks": "",
            "zerolinecolor": "white"
           },
           "yaxis": {
            "backgroundcolor": "#E5ECF6",
            "gridcolor": "white",
            "gridwidth": 2,
            "linecolor": "white",
            "showbackground": true,
            "ticks": "",
            "zerolinecolor": "white"
           },
           "zaxis": {
            "backgroundcolor": "#E5ECF6",
            "gridcolor": "white",
            "gridwidth": 2,
            "linecolor": "white",
            "showbackground": true,
            "ticks": "",
            "zerolinecolor": "white"
           }
          },
          "shapedefaults": {
           "line": {
            "color": "#2a3f5f"
           }
          },
          "ternary": {
           "aaxis": {
            "gridcolor": "white",
            "linecolor": "white",
            "ticks": ""
           },
           "baxis": {
            "gridcolor": "white",
            "linecolor": "white",
            "ticks": ""
           },
           "bgcolor": "#E5ECF6",
           "caxis": {
            "gridcolor": "white",
            "linecolor": "white",
            "ticks": ""
           }
          },
          "title": {
           "x": 0.05
          },
          "xaxis": {
           "automargin": true,
           "gridcolor": "white",
           "linecolor": "white",
           "ticks": "",
           "title": {
            "standoff": 15
           },
           "zerolinecolor": "white",
           "zerolinewidth": 2
          },
          "yaxis": {
           "automargin": true,
           "gridcolor": "white",
           "linecolor": "white",
           "ticks": "",
           "title": {
            "standoff": 15
           },
           "zerolinecolor": "white",
           "zerolinewidth": 2
          }
         }
        },
        "width": 1500
       }
      }
     },
     "metadata": {},
     "output_type": "display_data"
    }
   ],
   "source": [
    "labels = [\"Different lineup\", \"Most common lineup\"]\n",
    "titles = [\"Home team won\", \"Home team lost\"]\n",
    "\n",
    "fig = make_subplots(rows=1, cols=2, specs=[[{'type':'domain'}, {'type':'domain'}]], subplot_titles=titles)\n",
    "fig.add_trace(go.Pie(labels=labels, values=home_common_won, name=\"Home team won\"),1, 1)\n",
    "fig.add_trace(go.Pie(labels=labels, values=home_common_lost, name=\"Home team lost\"),1, 2)\n",
    "fig.update_layout(width=1500, height=500)\n",
    "fig.show()"
   ]
  },
  {
   "cell_type": "code",
   "execution_count": 47,
   "metadata": {},
   "outputs": [
    {
     "data": {
      "application/vnd.plotly.v1+json": {
       "config": {
        "plotlyServerURL": "https://plot.ly"
       },
       "data": [
        {
         "domain": {
          "x": [
           0,
           0.45
          ],
          "y": [
           0,
           1
          ]
         },
         "labels": [
          "Different lineup",
          "Most common lineup"
         ],
         "name": "Visitor team won",
         "type": "pie",
         "values": [
          6021,
          3243
         ]
        },
        {
         "domain": {
          "x": [
           0.55,
           1
          ],
          "y": [
           0,
           1
          ]
         },
         "labels": [
          "Different lineup",
          "Most common lineup"
         ],
         "name": "Visitor team lost",
         "type": "pie",
         "values": [
          10308,
          3393
         ]
        }
       ],
       "layout": {
        "annotations": [
         {
          "font": {
           "size": 16
          },
          "showarrow": false,
          "text": "Visitor team won",
          "x": 0.225,
          "xanchor": "center",
          "xref": "paper",
          "y": 1,
          "yanchor": "bottom",
          "yref": "paper"
         },
         {
          "font": {
           "size": 16
          },
          "showarrow": false,
          "text": "Visitor team lost",
          "x": 0.775,
          "xanchor": "center",
          "xref": "paper",
          "y": 1,
          "yanchor": "bottom",
          "yref": "paper"
         }
        ],
        "height": 500,
        "template": {
         "data": {
          "bar": [
           {
            "error_x": {
             "color": "#2a3f5f"
            },
            "error_y": {
             "color": "#2a3f5f"
            },
            "marker": {
             "line": {
              "color": "#E5ECF6",
              "width": 0.5
             },
             "pattern": {
              "fillmode": "overlay",
              "size": 10,
              "solidity": 0.2
             }
            },
            "type": "bar"
           }
          ],
          "barpolar": [
           {
            "marker": {
             "line": {
              "color": "#E5ECF6",
              "width": 0.5
             },
             "pattern": {
              "fillmode": "overlay",
              "size": 10,
              "solidity": 0.2
             }
            },
            "type": "barpolar"
           }
          ],
          "carpet": [
           {
            "aaxis": {
             "endlinecolor": "#2a3f5f",
             "gridcolor": "white",
             "linecolor": "white",
             "minorgridcolor": "white",
             "startlinecolor": "#2a3f5f"
            },
            "baxis": {
             "endlinecolor": "#2a3f5f",
             "gridcolor": "white",
             "linecolor": "white",
             "minorgridcolor": "white",
             "startlinecolor": "#2a3f5f"
            },
            "type": "carpet"
           }
          ],
          "choropleth": [
           {
            "colorbar": {
             "outlinewidth": 0,
             "ticks": ""
            },
            "type": "choropleth"
           }
          ],
          "contour": [
           {
            "colorbar": {
             "outlinewidth": 0,
             "ticks": ""
            },
            "colorscale": [
             [
              0,
              "#0d0887"
             ],
             [
              0.1111111111111111,
              "#46039f"
             ],
             [
              0.2222222222222222,
              "#7201a8"
             ],
             [
              0.3333333333333333,
              "#9c179e"
             ],
             [
              0.4444444444444444,
              "#bd3786"
             ],
             [
              0.5555555555555556,
              "#d8576b"
             ],
             [
              0.6666666666666666,
              "#ed7953"
             ],
             [
              0.7777777777777778,
              "#fb9f3a"
             ],
             [
              0.8888888888888888,
              "#fdca26"
             ],
             [
              1,
              "#f0f921"
             ]
            ],
            "type": "contour"
           }
          ],
          "contourcarpet": [
           {
            "colorbar": {
             "outlinewidth": 0,
             "ticks": ""
            },
            "type": "contourcarpet"
           }
          ],
          "heatmap": [
           {
            "colorbar": {
             "outlinewidth": 0,
             "ticks": ""
            },
            "colorscale": [
             [
              0,
              "#0d0887"
             ],
             [
              0.1111111111111111,
              "#46039f"
             ],
             [
              0.2222222222222222,
              "#7201a8"
             ],
             [
              0.3333333333333333,
              "#9c179e"
             ],
             [
              0.4444444444444444,
              "#bd3786"
             ],
             [
              0.5555555555555556,
              "#d8576b"
             ],
             [
              0.6666666666666666,
              "#ed7953"
             ],
             [
              0.7777777777777778,
              "#fb9f3a"
             ],
             [
              0.8888888888888888,
              "#fdca26"
             ],
             [
              1,
              "#f0f921"
             ]
            ],
            "type": "heatmap"
           }
          ],
          "heatmapgl": [
           {
            "colorbar": {
             "outlinewidth": 0,
             "ticks": ""
            },
            "colorscale": [
             [
              0,
              "#0d0887"
             ],
             [
              0.1111111111111111,
              "#46039f"
             ],
             [
              0.2222222222222222,
              "#7201a8"
             ],
             [
              0.3333333333333333,
              "#9c179e"
             ],
             [
              0.4444444444444444,
              "#bd3786"
             ],
             [
              0.5555555555555556,
              "#d8576b"
             ],
             [
              0.6666666666666666,
              "#ed7953"
             ],
             [
              0.7777777777777778,
              "#fb9f3a"
             ],
             [
              0.8888888888888888,
              "#fdca26"
             ],
             [
              1,
              "#f0f921"
             ]
            ],
            "type": "heatmapgl"
           }
          ],
          "histogram": [
           {
            "marker": {
             "pattern": {
              "fillmode": "overlay",
              "size": 10,
              "solidity": 0.2
             }
            },
            "type": "histogram"
           }
          ],
          "histogram2d": [
           {
            "colorbar": {
             "outlinewidth": 0,
             "ticks": ""
            },
            "colorscale": [
             [
              0,
              "#0d0887"
             ],
             [
              0.1111111111111111,
              "#46039f"
             ],
             [
              0.2222222222222222,
              "#7201a8"
             ],
             [
              0.3333333333333333,
              "#9c179e"
             ],
             [
              0.4444444444444444,
              "#bd3786"
             ],
             [
              0.5555555555555556,
              "#d8576b"
             ],
             [
              0.6666666666666666,
              "#ed7953"
             ],
             [
              0.7777777777777778,
              "#fb9f3a"
             ],
             [
              0.8888888888888888,
              "#fdca26"
             ],
             [
              1,
              "#f0f921"
             ]
            ],
            "type": "histogram2d"
           }
          ],
          "histogram2dcontour": [
           {
            "colorbar": {
             "outlinewidth": 0,
             "ticks": ""
            },
            "colorscale": [
             [
              0,
              "#0d0887"
             ],
             [
              0.1111111111111111,
              "#46039f"
             ],
             [
              0.2222222222222222,
              "#7201a8"
             ],
             [
              0.3333333333333333,
              "#9c179e"
             ],
             [
              0.4444444444444444,
              "#bd3786"
             ],
             [
              0.5555555555555556,
              "#d8576b"
             ],
             [
              0.6666666666666666,
              "#ed7953"
             ],
             [
              0.7777777777777778,
              "#fb9f3a"
             ],
             [
              0.8888888888888888,
              "#fdca26"
             ],
             [
              1,
              "#f0f921"
             ]
            ],
            "type": "histogram2dcontour"
           }
          ],
          "mesh3d": [
           {
            "colorbar": {
             "outlinewidth": 0,
             "ticks": ""
            },
            "type": "mesh3d"
           }
          ],
          "parcoords": [
           {
            "line": {
             "colorbar": {
              "outlinewidth": 0,
              "ticks": ""
             }
            },
            "type": "parcoords"
           }
          ],
          "pie": [
           {
            "automargin": true,
            "type": "pie"
           }
          ],
          "scatter": [
           {
            "fillpattern": {
             "fillmode": "overlay",
             "size": 10,
             "solidity": 0.2
            },
            "type": "scatter"
           }
          ],
          "scatter3d": [
           {
            "line": {
             "colorbar": {
              "outlinewidth": 0,
              "ticks": ""
             }
            },
            "marker": {
             "colorbar": {
              "outlinewidth": 0,
              "ticks": ""
             }
            },
            "type": "scatter3d"
           }
          ],
          "scattercarpet": [
           {
            "marker": {
             "colorbar": {
              "outlinewidth": 0,
              "ticks": ""
             }
            },
            "type": "scattercarpet"
           }
          ],
          "scattergeo": [
           {
            "marker": {
             "colorbar": {
              "outlinewidth": 0,
              "ticks": ""
             }
            },
            "type": "scattergeo"
           }
          ],
          "scattergl": [
           {
            "marker": {
             "colorbar": {
              "outlinewidth": 0,
              "ticks": ""
             }
            },
            "type": "scattergl"
           }
          ],
          "scattermapbox": [
           {
            "marker": {
             "colorbar": {
              "outlinewidth": 0,
              "ticks": ""
             }
            },
            "type": "scattermapbox"
           }
          ],
          "scatterpolar": [
           {
            "marker": {
             "colorbar": {
              "outlinewidth": 0,
              "ticks": ""
             }
            },
            "type": "scatterpolar"
           }
          ],
          "scatterpolargl": [
           {
            "marker": {
             "colorbar": {
              "outlinewidth": 0,
              "ticks": ""
             }
            },
            "type": "scatterpolargl"
           }
          ],
          "scatterternary": [
           {
            "marker": {
             "colorbar": {
              "outlinewidth": 0,
              "ticks": ""
             }
            },
            "type": "scatterternary"
           }
          ],
          "surface": [
           {
            "colorbar": {
             "outlinewidth": 0,
             "ticks": ""
            },
            "colorscale": [
             [
              0,
              "#0d0887"
             ],
             [
              0.1111111111111111,
              "#46039f"
             ],
             [
              0.2222222222222222,
              "#7201a8"
             ],
             [
              0.3333333333333333,
              "#9c179e"
             ],
             [
              0.4444444444444444,
              "#bd3786"
             ],
             [
              0.5555555555555556,
              "#d8576b"
             ],
             [
              0.6666666666666666,
              "#ed7953"
             ],
             [
              0.7777777777777778,
              "#fb9f3a"
             ],
             [
              0.8888888888888888,
              "#fdca26"
             ],
             [
              1,
              "#f0f921"
             ]
            ],
            "type": "surface"
           }
          ],
          "table": [
           {
            "cells": {
             "fill": {
              "color": "#EBF0F8"
             },
             "line": {
              "color": "white"
             }
            },
            "header": {
             "fill": {
              "color": "#C8D4E3"
             },
             "line": {
              "color": "white"
             }
            },
            "type": "table"
           }
          ]
         },
         "layout": {
          "annotationdefaults": {
           "arrowcolor": "#2a3f5f",
           "arrowhead": 0,
           "arrowwidth": 1
          },
          "autotypenumbers": "strict",
          "coloraxis": {
           "colorbar": {
            "outlinewidth": 0,
            "ticks": ""
           }
          },
          "colorscale": {
           "diverging": [
            [
             0,
             "#8e0152"
            ],
            [
             0.1,
             "#c51b7d"
            ],
            [
             0.2,
             "#de77ae"
            ],
            [
             0.3,
             "#f1b6da"
            ],
            [
             0.4,
             "#fde0ef"
            ],
            [
             0.5,
             "#f7f7f7"
            ],
            [
             0.6,
             "#e6f5d0"
            ],
            [
             0.7,
             "#b8e186"
            ],
            [
             0.8,
             "#7fbc41"
            ],
            [
             0.9,
             "#4d9221"
            ],
            [
             1,
             "#276419"
            ]
           ],
           "sequential": [
            [
             0,
             "#0d0887"
            ],
            [
             0.1111111111111111,
             "#46039f"
            ],
            [
             0.2222222222222222,
             "#7201a8"
            ],
            [
             0.3333333333333333,
             "#9c179e"
            ],
            [
             0.4444444444444444,
             "#bd3786"
            ],
            [
             0.5555555555555556,
             "#d8576b"
            ],
            [
             0.6666666666666666,
             "#ed7953"
            ],
            [
             0.7777777777777778,
             "#fb9f3a"
            ],
            [
             0.8888888888888888,
             "#fdca26"
            ],
            [
             1,
             "#f0f921"
            ]
           ],
           "sequentialminus": [
            [
             0,
             "#0d0887"
            ],
            [
             0.1111111111111111,
             "#46039f"
            ],
            [
             0.2222222222222222,
             "#7201a8"
            ],
            [
             0.3333333333333333,
             "#9c179e"
            ],
            [
             0.4444444444444444,
             "#bd3786"
            ],
            [
             0.5555555555555556,
             "#d8576b"
            ],
            [
             0.6666666666666666,
             "#ed7953"
            ],
            [
             0.7777777777777778,
             "#fb9f3a"
            ],
            [
             0.8888888888888888,
             "#fdca26"
            ],
            [
             1,
             "#f0f921"
            ]
           ]
          },
          "colorway": [
           "#636efa",
           "#EF553B",
           "#00cc96",
           "#ab63fa",
           "#FFA15A",
           "#19d3f3",
           "#FF6692",
           "#B6E880",
           "#FF97FF",
           "#FECB52"
          ],
          "font": {
           "color": "#2a3f5f"
          },
          "geo": {
           "bgcolor": "white",
           "lakecolor": "white",
           "landcolor": "#E5ECF6",
           "showlakes": true,
           "showland": true,
           "subunitcolor": "white"
          },
          "hoverlabel": {
           "align": "left"
          },
          "hovermode": "closest",
          "mapbox": {
           "style": "light"
          },
          "paper_bgcolor": "white",
          "plot_bgcolor": "#E5ECF6",
          "polar": {
           "angularaxis": {
            "gridcolor": "white",
            "linecolor": "white",
            "ticks": ""
           },
           "bgcolor": "#E5ECF6",
           "radialaxis": {
            "gridcolor": "white",
            "linecolor": "white",
            "ticks": ""
           }
          },
          "scene": {
           "xaxis": {
            "backgroundcolor": "#E5ECF6",
            "gridcolor": "white",
            "gridwidth": 2,
            "linecolor": "white",
            "showbackground": true,
            "ticks": "",
            "zerolinecolor": "white"
           },
           "yaxis": {
            "backgroundcolor": "#E5ECF6",
            "gridcolor": "white",
            "gridwidth": 2,
            "linecolor": "white",
            "showbackground": true,
            "ticks": "",
            "zerolinecolor": "white"
           },
           "zaxis": {
            "backgroundcolor": "#E5ECF6",
            "gridcolor": "white",
            "gridwidth": 2,
            "linecolor": "white",
            "showbackground": true,
            "ticks": "",
            "zerolinecolor": "white"
           }
          },
          "shapedefaults": {
           "line": {
            "color": "#2a3f5f"
           }
          },
          "ternary": {
           "aaxis": {
            "gridcolor": "white",
            "linecolor": "white",
            "ticks": ""
           },
           "baxis": {
            "gridcolor": "white",
            "linecolor": "white",
            "ticks": ""
           },
           "bgcolor": "#E5ECF6",
           "caxis": {
            "gridcolor": "white",
            "linecolor": "white",
            "ticks": ""
           }
          },
          "title": {
           "x": 0.05
          },
          "xaxis": {
           "automargin": true,
           "gridcolor": "white",
           "linecolor": "white",
           "ticks": "",
           "title": {
            "standoff": 15
           },
           "zerolinecolor": "white",
           "zerolinewidth": 2
          },
          "yaxis": {
           "automargin": true,
           "gridcolor": "white",
           "linecolor": "white",
           "ticks": "",
           "title": {
            "standoff": 15
           },
           "zerolinecolor": "white",
           "zerolinewidth": 2
          }
         }
        },
        "width": 1500
       }
      }
     },
     "metadata": {},
     "output_type": "display_data"
    }
   ],
   "source": [
    "labels = [\"Different lineup\", \"Most common lineup\"]\n",
    "titles = [\"Visitor team won\", \"Visitor team lost\"]\n",
    "\n",
    "fig = make_subplots(rows=1, cols=2, specs=[[{'type':'domain'}, {'type':'domain'}]], subplot_titles=titles)\n",
    "fig.add_trace(go.Pie(labels=labels, values=visitor_common_won, name=\"Visitor team won\"),1, 1)\n",
    "fig.add_trace(go.Pie(labels=labels, values=visitor_common_lost, name=\"Visitor team lost\"),1, 2)\n",
    "fig.update_layout(width=1500, height=500)\n",
    "fig.show()"
   ]
  }
 ],
 "metadata": {
  "kernelspec": {
   "display_name": "Python 3.9.7 ('base')",
   "language": "python",
   "name": "python3"
  },
  "language_info": {
   "codemirror_mode": {
    "name": "ipython",
    "version": 3
   },
   "file_extension": ".py",
   "mimetype": "text/x-python",
   "name": "python",
   "nbconvert_exporter": "python",
   "pygments_lexer": "ipython3",
   "version": "3.9.7"
  },
  "orig_nbformat": 4,
  "vscode": {
   "interpreter": {
    "hash": "b31df5e40a2ea5614eea9e37cfea4cb8c906f1ee256973763ea3407ba03e30ed"
   }
  }
 },
 "nbformat": 4,
 "nbformat_minor": 2
}
