{
 "cells": [
  {
   "cell_type": "code",
   "execution_count": 2,
   "id": "6af3aa32",
   "metadata": {},
   "outputs": [],
   "source": [
    "import numpy as np\n",
    "import pandas as pd\n",
    "import matplotlib.pyplot as plt\n",
    "from functools import reduce\n",
    "import os\n",
    "import sys\n",
    "sys.path.insert(0, '../../src/')\n",
    "import data_loader\n",
    "pd.set_option('display.max_columns', None)"
   ]
  },
  {
   "cell_type": "code",
   "execution_count": null,
   "id": "027d7f6b",
   "metadata": {},
   "outputs": [],
   "source": [
    "# seasons_data = data_loader.load_data()\n",
    "# season_2018 = data_loader.load_data(seasons=[\"2018-19\"])\n",
    "# game_data = data_loader.load_game_data(seasons=[\"2018-19\"])\n",
    "# seasons_game_data = data_loader.load_game_data()"
   ]
  },
  {
   "cell_type": "code",
   "execution_count": null,
   "id": "ebb7efc1",
   "metadata": {},
   "outputs": [],
   "source": [
    "seasons_data = data_loader.load_data()\n",
    "seasons_data"
   ]
  },
  {
   "cell_type": "code",
   "execution_count": 8,
   "id": "544e3973",
   "metadata": {},
   "outputs": [],
   "source": [
    "GAME_ID_STR = \"GAME_ID\"\n",
    "pbp_grouped = seasons_data.groupby(GAME_ID_STR)\n",
    "game_data = pbp_grouped.size().to_frame(name=\"play_count\")\n",
    "\n",
    "game_data[\"HOME TEAM ID\"] = pbp_grouped.apply(lambda x: x[x[\"PERSON1TYPE\"] == 'HOME_PLAYER'][\"PLAYER1_TEAM_ID\"].iloc[0])\n",
    "game_data[\"VISITOR TEAM ID\"] = pbp_grouped.apply(lambda x: x[x[\"PERSON1TYPE\"] == 'VISITOR_PLAYER'][\"PLAYER1_TEAM_ID\"].iloc[0])\n",
    "game_data[[\"HOME_PLAYER_1\", \"HOME_PLAYER_2\", \"HOME_PLAYER_3\", \"HOME_PLAYER_4\", \"HOME_PLAYER_5\", \"VISITOR_PLAYER_1\", \"VISITOR_PLAYER_2\", \"VISITOR_PLAYER_3\", \"VISITOR_PLAYER_4\", \"VISITOR_PLAYER_5\"]] = np.nan\n",
    "\n",
    "errors = []"
   ]
  },
  {
   "cell_type": "code",
   "execution_count": null,
   "id": "1c33324b",
   "metadata": {},
   "outputs": [],
   "source": [
    "for year in range(0, 19):\n",
    "\n",
    "    file_str = \"\"\n",
    "\n",
    "    if year < 9:\n",
    "        file_str = \"200{}-0{}\".format(year, year + 1)\n",
    "    elif year == 9:\n",
    "        file_str = \"200{}-{}\".format(year, year + 1)\n",
    "    else:\n",
    "        file_str = \"20{}-{}\".format(year, year + 1)\n",
    "\n",
    "    print(\"Starting loading season {}\".format(file_str))\n",
    "    seasons_data = data_loader.load_data(seasons=[file_str])\n",
    "    print(\"Finished loading season {}\".format(file_str))\n",
    "\n",
    "    pbp_grouped = seasons_data.groupby(\"GAME_ID\")\n",
    "    game_data = pbp_grouped.size().to_frame(name=\"play_count\")\n",
    "\n",
    "    game_data[\"HOME TEAM ID\"] = pbp_grouped.apply(lambda x: x[x[\"PERSON1TYPE\"] == 'HOME_PLAYER'][\"PLAYER1_TEAM_ID\"].iloc[0])\n",
    "    game_data[\"VISITOR TEAM ID\"] = pbp_grouped.apply(lambda x: x[x[\"PERSON1TYPE\"] == 'VISITOR_PLAYER'][\"PLAYER1_TEAM_ID\"].iloc[0])\n",
    "    game_data[[\"HOME_PLAYER_1\", \"HOME_PLAYER_2\", \"HOME_PLAYER_3\", \"HOME_PLAYER_4\", \"HOME_PLAYER_5\", \"VISITOR_PLAYER_1\", \"VISITOR_PLAYER_2\", \"VISITOR_PLAYER_3\", \"VISITOR_PLAYER_4\", \"VISITOR_PLAYER_5\"]] = np.nan\n",
    "\n",
    "\n",
    "    for i, row in game_data.iterrows():\n",
    "        errors = []\n",
    "\n",
    "        home_team_id = row[\"HOME TEAM ID\"]\n",
    "        visitor_team_id = row[\"VISITOR TEAM ID\"]\n",
    "        \n",
    "        home_players = seasons_data[(seasons_data[\"EVENTMSGTYPE\"] == \"SUBSTITUTION\") & (seasons_data[\"GAME_ID\"] == i) & (seasons_data[\"PERIOD\"] == 1) &(seasons_data[\"PLAYER1_TEAM_ID\"] == home_team_id)][\"PLAYER1_ID\"].dropna().unique()\n",
    "        visitor_players = seasons_data[(seasons_data[\"EVENTMSGTYPE\"] == \"SUBSTITUTION\") & (seasons_data[\"GAME_ID\"] == i) & (seasons_data[\"PERIOD\"] == 1) &(seasons_data[\"PLAYER1_TEAM_ID\"] == visitor_team_id)][\"PLAYER1_ID\"].dropna().unique()\n",
    "\n",
    "        # print(i)\n",
    "        \n",
    "        if len(home_players) < 5:\n",
    "            players_1 = seasons_data[(seasons_data[\"GAME_ID\"] == i) & (seasons_data[\"PERIOD\"] == 1) & (seasons_data[\"PLAYER1_TEAM_ID\"] == home_team_id)][\"PLAYER1_ID\"].dropna().unique()\n",
    "            players_2 = seasons_data[(seasons_data[\"GAME_ID\"] == i) & (seasons_data[\"PERIOD\"] == 1) & (seasons_data[\"PLAYER2_TEAM_ID\"] == home_team_id)][\"PLAYER2_ID\"].dropna().unique()\n",
    "            players_3 = seasons_data[(seasons_data[\"GAME_ID\"] == i) & (seasons_data[\"PERIOD\"] == 1) & (seasons_data[\"PLAYER3_TEAM_ID\"] == home_team_id)][\"PLAYER3_ID\"].dropna().unique()\n",
    "            out_players = seasons_data[(seasons_data[\"EVENTMSGTYPE\"] == \"SUBSTITUTION\") & (seasons_data[\"GAME_ID\"] == i) & (seasons_data[\"PERIOD\"] == 1) &(seasons_data[\"PLAYER1_TEAM_ID\"] == home_team_id)][\"PLAYER1_ID\"].dropna().unique()\n",
    "            in_players = seasons_data[(seasons_data[\"EVENTMSGTYPE\"] == \"SUBSTITUTION\") & (seasons_data[\"GAME_ID\"] == i) & (seasons_data[\"PERIOD\"] == 1) &(seasons_data[\"PLAYER2_TEAM_ID\"] == home_team_id)][\"PLAYER2_ID\"].dropna().unique()\n",
    "\n",
    "            lineup = reduce(np.union1d, (players_1, players_2, players_3, home_players))\n",
    "            lineup = np.setdiff1d(lineup, in_players)\n",
    "            lineup = np.setdiff1d(lineup, out_players)\n",
    "            home_players = np.union1d(lineup, out_players)\n",
    "        \n",
    "        if len(visitor_players) < 5:\n",
    "            players_1 = seasons_data[(seasons_data[\"GAME_ID\"] == i) & (seasons_data[\"PERIOD\"] == 1) & (seasons_data[\"PLAYER1_TEAM_ID\"] == visitor_team_id)][\"PLAYER1_ID\"].dropna().unique()\n",
    "            players_2 = seasons_data[(seasons_data[\"GAME_ID\"] == i) & (seasons_data[\"PERIOD\"] == 1) & (seasons_data[\"PLAYER2_TEAM_ID\"] == visitor_team_id)][\"PLAYER2_ID\"].dropna().unique()\n",
    "            players_3 = seasons_data[(seasons_data[\"GAME_ID\"] == i) & (seasons_data[\"PERIOD\"] == 1) & (seasons_data[\"PLAYER3_TEAM_ID\"] == visitor_team_id)][\"PLAYER3_ID\"].dropna().unique()\n",
    "            out_players = seasons_data[(seasons_data[\"EVENTMSGTYPE\"] == \"SUBSTITUTION\") & (seasons_data[\"GAME_ID\"] == i) & (seasons_data[\"PERIOD\"] == 1) &(seasons_data[\"PLAYER1_TEAM_ID\"] == visitor_team_id)][\"PLAYER1_ID\"].dropna().unique()\n",
    "            in_players = seasons_data[(seasons_data[\"EVENTMSGTYPE\"] == \"SUBSTITUTION\") & (seasons_data[\"GAME_ID\"] == i) & (seasons_data[\"PERIOD\"] == 1) &(seasons_data[\"PLAYER2_TEAM_ID\"] == visitor_team_id)][\"PLAYER2_ID\"].dropna().unique()\n",
    "\n",
    "            lineup = reduce(np.union1d, (players_1, players_2, players_3, visitor_players))\n",
    "            lineup = np.setdiff1d(lineup, in_players)\n",
    "            lineup = np.setdiff1d(lineup, out_players)\n",
    "            visitor_players = np.union1d(lineup, out_players)\n",
    "        try:\n",
    "            game_data.at[i, \"HOME_PLAYER_1\":\"HOME_PLAYER_5\"] = np.asarray(home_players[:5])\n",
    "            game_data.at[i, \"VISITOR_PLAYER_1\" :] = np.asarray(visitor_players[:5])\n",
    "        except:\n",
    "            game_data.at[i, \"HOME_PLAYER_1\":\"HOME_PLAYER_5\"] = np.nan\n",
    "            game_data.at[i, \"VISITOR_PLAYER_1\" :] = np.nan\n",
    "            errors.append(i)\n",
    "\n",
    "    file_name = \"lineup-{}-id.csv\".format(file_str)\n",
    "    game_data.to_csv(file_name, index=True)\n",
    "\n",
    "    if len(errors) > 0:\n",
    "        print(\"CHECK ERRORS season {}\".format(file_str))\n",
    "        print(errors)\n",
    "    else:\n",
    "        print(\"DONE season {}\".format(file_str))"
   ]
  },
  {
   "cell_type": "code",
   "execution_count": 41,
   "id": "6fb6830f",
   "metadata": {},
   "outputs": [],
   "source": [
    "frames = []\n",
    "\n",
    "for year in range(0, 19):\n",
    "\n",
    "    file_str = \"\"\n",
    "\n",
    "    if year < 9:\n",
    "        file_str = \"lineup-200{}-0{}-id.csv\".format(year, year + 1)\n",
    "    elif year == 9:\n",
    "        file_str = \"lineup-200{}-{}-id.csv\".format(year, year + 1)\n",
    "    else:\n",
    "        file_str = \"lineup-20{}-{}-id.csv\".format(year, year + 1)\n",
    "\n",
    "    df = pd.read_csv(file_str)\n",
    "    df.set_index(\"GAME_ID\", inplace=True)\n",
    "    frames.append(df)\n",
    "\n",
    "lineup_all = pd.concat(frames)"
   ]
  },
  {
   "cell_type": "code",
   "execution_count": 45,
   "id": "9a073bc1",
   "metadata": {},
   "outputs": [],
   "source": [
    "lineup_all.to_csv(\"lineups-all-seasons.csv\", index=True)"
   ]
  }
 ],
 "metadata": {
  "interpreter": {
   "hash": "c628b93497997d4bb00fe0f8ab9aabae77a7987d6c3da1629c7d5846200fe286"
  },
  "kernelspec": {
   "display_name": "Python 3.8.8 ('base')",
   "language": "python",
   "name": "python3"
  },
  "language_info": {
   "codemirror_mode": {
    "name": "ipython",
    "version": 3
   },
   "file_extension": ".py",
   "mimetype": "text/x-python",
   "name": "python",
   "nbconvert_exporter": "python",
   "pygments_lexer": "ipython3",
   "version": "3.8.8"
  }
 },
 "nbformat": 4,
 "nbformat_minor": 5
}
