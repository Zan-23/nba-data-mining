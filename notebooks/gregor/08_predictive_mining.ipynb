{
 "cells": [
  {
   "cell_type": "code",
   "execution_count": 75,
   "metadata": {},
   "outputs": [],
   "source": [
    "import numpy as np\n",
    "import pandas as pd\n",
    "import plotly.express as px\n",
    "import plotly.graph_objects as go\n",
    "from plotly.subplots import make_subplots\n",
    "import matplotlib.pyplot as plt\n",
    "import seaborn as sns\n",
    "from sklearn.model_selection import train_test_split, GridSearchCV\n",
    "from sklearn.linear_model import LogisticRegression\n",
    "from sklearn.feature_selection import RFE\n",
    "from sklearn.metrics import classification_report, roc_curve, auc\n",
    "from sklearn.preprocessing import LabelEncoder, MinMaxScaler\n",
    "import sys\n",
    "sys.path.insert(0, \"./../../\")\n",
    "from src.data_loader import add_recent_stats, load_game_data_zan, add_season_rankings\n",
    "pd.set_option('display.max_columns', None)\n",
    "\n",
    "%reload_ext autoreload\n",
    "%autoreload 2"
   ]
  },
  {
   "cell_type": "code",
   "execution_count": 129,
   "metadata": {},
   "outputs": [],
   "source": [
    "# game_data = load_game_data_zan()\n",
    "# game_data_recent = add_recent_stats(game_data, recent_range=15)"
   ]
  },
  {
   "cell_type": "code",
   "execution_count": 35,
   "metadata": {},
   "outputs": [],
   "source": [
    "path_game_data_recent = \"/home/matej/Documents/Projects/nba-data-mining/data/processed/game-data-recent-15.csv\"\n",
    "game_data_recent = pd.read_csv(path_game_data_recent)\n",
    "game_data_recent = add_season_rankings(game_data_recent)\n",
    "game_data_recent = game_data_recent[game_data_recent[\"season_name\"] > 2000]\n",
    "game_data_recent = game_data_recent[(game_data_recent[\"home_rank\"] > 0) & (game_data_recent[\"visitor_rank\"] > 0)]"
   ]
  },
  {
   "cell_type": "markdown",
   "metadata": {},
   "source": [
    "* * *\n",
    "### Analysis of features (AFTER GAME)\n",
    "\n",
    "Following pairs of features are highly correlated:\n",
    "- home_final_score & home_fg_made\n",
    "- visitor_final_score & visitor_fg_made\n",
    "- home_final_score & home_TSP\n",
    "- visitor_final_score & visitor_TSP\n",
    "- home_rebound & visitor_fg_missed\n",
    "- visitor_rebound & home_fg_missed\n",
    "\n",
    "Suggested features to be included in the model:\n",
    "- home_TSP\n",
    "- home_fg_made (????)\n",
    "- home_timeout\n",
    "- visitor TSP\n",
    "- visitor_fg_made (????)\n",
    "- visitor_timeout\n",
    "- home_final_score_diff\n"
   ]
  },
  {
   "cell_type": "code",
   "execution_count": 36,
   "metadata": {},
   "outputs": [
    {
     "data": {
      "text/plain": [
       "home_rebound             0.241544\n",
       "visitor_timeout          0.285803\n",
       "visitor_fg_missed        0.327362\n",
       "home_fg_made             0.346392\n",
       "home_final_score         0.416843\n",
       "home_TSP                 0.452848\n",
       "home_final_score_diff    0.802578\n",
       "home_win                 1.000000\n",
       "Name: home_win, dtype: float64"
      ]
     },
     "execution_count": 36,
     "metadata": {},
     "output_type": "execute_result"
    }
   ],
   "source": [
    "correlations = game_data_recent.corr()\n",
    "correlations_home_win = correlations[\"home_win\"].sort_values()\n",
    "correlations_home_win[correlations_home_win > 0.2]"
   ]
  },
  {
   "cell_type": "code",
   "execution_count": 38,
   "metadata": {},
   "outputs": [
    {
     "data": {
      "application/vnd.plotly.v1+json": {
       "config": {
        "plotlyServerURL": "https://plot.ly"
       },
       "data": [
        {
         "coloraxis": "coloraxis",
         "hovertemplate": "x: %{x}<br>y: %{y}<br>color: %{z}<extra></extra>",
         "name": "0",
         "type": "heatmap",
         "x": [
          "home_rebound",
          "visitor_timeout",
          "visitor_fg_missed",
          "home_fg_made",
          "home_final_score",
          "home_TSP",
          "home_final_score_diff"
         ],
         "xaxis": "x",
         "y": [
          "home_rebound",
          "visitor_timeout",
          "visitor_fg_missed",
          "home_fg_made",
          "home_final_score",
          "home_TSP",
          "home_final_score_diff"
         ],
         "yaxis": "y",
         "z": [
          [
           1,
           0.12813229610793378,
           0.5392098496511942,
           0.11835867406385615,
           0.13300589397116186,
           -0.2126147348535425,
           0.3027868214238074
          ],
          [
           0.12813229610793378,
           1,
           0.18098495938816564,
           0.10114812441483423,
           0.17041297809840972,
           0.10946724101692357,
           0.15482098036346775
          ],
          [
           0.5392098496511942,
           0.18098495938816564,
           1,
           0.12569738387254395,
           0.1565256145533808,
           0.0338686665751977,
           0.3583172181679305
          ],
          [
           0.11835867406385615,
           0.10114812441483423,
           0.12569738387254395,
           1,
           0.8409899353257027,
           0.4219271740409649,
           0.4711142477717483
          ],
          [
           0.13300589397116186,
           0.17041297809840972,
           0.1565256145533808,
           0.8409899353257027,
           1,
           0.6373024151524729,
           0.518188214952716
          ],
          [
           -0.2126147348535425,
           0.10946724101692357,
           0.0338686665751977,
           0.4219271740409649,
           0.6373024151524729,
           1,
           0.5040822049250047
          ],
          [
           0.3027868214238074,
           0.15482098036346775,
           0.3583172181679305,
           0.4711142477717483,
           0.518188214952716,
           0.5040822049250047,
           1
          ]
         ]
        }
       ],
       "layout": {
        "coloraxis": {
         "colorscale": [
          [
           0,
           "#0d0887"
          ],
          [
           0.1111111111111111,
           "#46039f"
          ],
          [
           0.2222222222222222,
           "#7201a8"
          ],
          [
           0.3333333333333333,
           "#9c179e"
          ],
          [
           0.4444444444444444,
           "#bd3786"
          ],
          [
           0.5555555555555556,
           "#d8576b"
          ],
          [
           0.6666666666666666,
           "#ed7953"
          ],
          [
           0.7777777777777778,
           "#fb9f3a"
          ],
          [
           0.8888888888888888,
           "#fdca26"
          ],
          [
           1,
           "#f0f921"
          ]
         ]
        },
        "margin": {
         "t": 60
        },
        "template": {
         "data": {
          "bar": [
           {
            "error_x": {
             "color": "#2a3f5f"
            },
            "error_y": {
             "color": "#2a3f5f"
            },
            "marker": {
             "line": {
              "color": "#E5ECF6",
              "width": 0.5
             },
             "pattern": {
              "fillmode": "overlay",
              "size": 10,
              "solidity": 0.2
             }
            },
            "type": "bar"
           }
          ],
          "barpolar": [
           {
            "marker": {
             "line": {
              "color": "#E5ECF6",
              "width": 0.5
             },
             "pattern": {
              "fillmode": "overlay",
              "size": 10,
              "solidity": 0.2
             }
            },
            "type": "barpolar"
           }
          ],
          "carpet": [
           {
            "aaxis": {
             "endlinecolor": "#2a3f5f",
             "gridcolor": "white",
             "linecolor": "white",
             "minorgridcolor": "white",
             "startlinecolor": "#2a3f5f"
            },
            "baxis": {
             "endlinecolor": "#2a3f5f",
             "gridcolor": "white",
             "linecolor": "white",
             "minorgridcolor": "white",
             "startlinecolor": "#2a3f5f"
            },
            "type": "carpet"
           }
          ],
          "choropleth": [
           {
            "colorbar": {
             "outlinewidth": 0,
             "ticks": ""
            },
            "type": "choropleth"
           }
          ],
          "contour": [
           {
            "colorbar": {
             "outlinewidth": 0,
             "ticks": ""
            },
            "colorscale": [
             [
              0,
              "#0d0887"
             ],
             [
              0.1111111111111111,
              "#46039f"
             ],
             [
              0.2222222222222222,
              "#7201a8"
             ],
             [
              0.3333333333333333,
              "#9c179e"
             ],
             [
              0.4444444444444444,
              "#bd3786"
             ],
             [
              0.5555555555555556,
              "#d8576b"
             ],
             [
              0.6666666666666666,
              "#ed7953"
             ],
             [
              0.7777777777777778,
              "#fb9f3a"
             ],
             [
              0.8888888888888888,
              "#fdca26"
             ],
             [
              1,
              "#f0f921"
             ]
            ],
            "type": "contour"
           }
          ],
          "contourcarpet": [
           {
            "colorbar": {
             "outlinewidth": 0,
             "ticks": ""
            },
            "type": "contourcarpet"
           }
          ],
          "heatmap": [
           {
            "colorbar": {
             "outlinewidth": 0,
             "ticks": ""
            },
            "colorscale": [
             [
              0,
              "#0d0887"
             ],
             [
              0.1111111111111111,
              "#46039f"
             ],
             [
              0.2222222222222222,
              "#7201a8"
             ],
             [
              0.3333333333333333,
              "#9c179e"
             ],
             [
              0.4444444444444444,
              "#bd3786"
             ],
             [
              0.5555555555555556,
              "#d8576b"
             ],
             [
              0.6666666666666666,
              "#ed7953"
             ],
             [
              0.7777777777777778,
              "#fb9f3a"
             ],
             [
              0.8888888888888888,
              "#fdca26"
             ],
             [
              1,
              "#f0f921"
             ]
            ],
            "type": "heatmap"
           }
          ],
          "heatmapgl": [
           {
            "colorbar": {
             "outlinewidth": 0,
             "ticks": ""
            },
            "colorscale": [
             [
              0,
              "#0d0887"
             ],
             [
              0.1111111111111111,
              "#46039f"
             ],
             [
              0.2222222222222222,
              "#7201a8"
             ],
             [
              0.3333333333333333,
              "#9c179e"
             ],
             [
              0.4444444444444444,
              "#bd3786"
             ],
             [
              0.5555555555555556,
              "#d8576b"
             ],
             [
              0.6666666666666666,
              "#ed7953"
             ],
             [
              0.7777777777777778,
              "#fb9f3a"
             ],
             [
              0.8888888888888888,
              "#fdca26"
             ],
             [
              1,
              "#f0f921"
             ]
            ],
            "type": "heatmapgl"
           }
          ],
          "histogram": [
           {
            "marker": {
             "pattern": {
              "fillmode": "overlay",
              "size": 10,
              "solidity": 0.2
             }
            },
            "type": "histogram"
           }
          ],
          "histogram2d": [
           {
            "colorbar": {
             "outlinewidth": 0,
             "ticks": ""
            },
            "colorscale": [
             [
              0,
              "#0d0887"
             ],
             [
              0.1111111111111111,
              "#46039f"
             ],
             [
              0.2222222222222222,
              "#7201a8"
             ],
             [
              0.3333333333333333,
              "#9c179e"
             ],
             [
              0.4444444444444444,
              "#bd3786"
             ],
             [
              0.5555555555555556,
              "#d8576b"
             ],
             [
              0.6666666666666666,
              "#ed7953"
             ],
             [
              0.7777777777777778,
              "#fb9f3a"
             ],
             [
              0.8888888888888888,
              "#fdca26"
             ],
             [
              1,
              "#f0f921"
             ]
            ],
            "type": "histogram2d"
           }
          ],
          "histogram2dcontour": [
           {
            "colorbar": {
             "outlinewidth": 0,
             "ticks": ""
            },
            "colorscale": [
             [
              0,
              "#0d0887"
             ],
             [
              0.1111111111111111,
              "#46039f"
             ],
             [
              0.2222222222222222,
              "#7201a8"
             ],
             [
              0.3333333333333333,
              "#9c179e"
             ],
             [
              0.4444444444444444,
              "#bd3786"
             ],
             [
              0.5555555555555556,
              "#d8576b"
             ],
             [
              0.6666666666666666,
              "#ed7953"
             ],
             [
              0.7777777777777778,
              "#fb9f3a"
             ],
             [
              0.8888888888888888,
              "#fdca26"
             ],
             [
              1,
              "#f0f921"
             ]
            ],
            "type": "histogram2dcontour"
           }
          ],
          "mesh3d": [
           {
            "colorbar": {
             "outlinewidth": 0,
             "ticks": ""
            },
            "type": "mesh3d"
           }
          ],
          "parcoords": [
           {
            "line": {
             "colorbar": {
              "outlinewidth": 0,
              "ticks": ""
             }
            },
            "type": "parcoords"
           }
          ],
          "pie": [
           {
            "automargin": true,
            "type": "pie"
           }
          ],
          "scatter": [
           {
            "fillpattern": {
             "fillmode": "overlay",
             "size": 10,
             "solidity": 0.2
            },
            "type": "scatter"
           }
          ],
          "scatter3d": [
           {
            "line": {
             "colorbar": {
              "outlinewidth": 0,
              "ticks": ""
             }
            },
            "marker": {
             "colorbar": {
              "outlinewidth": 0,
              "ticks": ""
             }
            },
            "type": "scatter3d"
           }
          ],
          "scattercarpet": [
           {
            "marker": {
             "colorbar": {
              "outlinewidth": 0,
              "ticks": ""
             }
            },
            "type": "scattercarpet"
           }
          ],
          "scattergeo": [
           {
            "marker": {
             "colorbar": {
              "outlinewidth": 0,
              "ticks": ""
             }
            },
            "type": "scattergeo"
           }
          ],
          "scattergl": [
           {
            "marker": {
             "colorbar": {
              "outlinewidth": 0,
              "ticks": ""
             }
            },
            "type": "scattergl"
           }
          ],
          "scattermapbox": [
           {
            "marker": {
             "colorbar": {
              "outlinewidth": 0,
              "ticks": ""
             }
            },
            "type": "scattermapbox"
           }
          ],
          "scatterpolar": [
           {
            "marker": {
             "colorbar": {
              "outlinewidth": 0,
              "ticks": ""
             }
            },
            "type": "scatterpolar"
           }
          ],
          "scatterpolargl": [
           {
            "marker": {
             "colorbar": {
              "outlinewidth": 0,
              "ticks": ""
             }
            },
            "type": "scatterpolargl"
           }
          ],
          "scatterternary": [
           {
            "marker": {
             "colorbar": {
              "outlinewidth": 0,
              "ticks": ""
             }
            },
            "type": "scatterternary"
           }
          ],
          "surface": [
           {
            "colorbar": {
             "outlinewidth": 0,
             "ticks": ""
            },
            "colorscale": [
             [
              0,
              "#0d0887"
             ],
             [
              0.1111111111111111,
              "#46039f"
             ],
             [
              0.2222222222222222,
              "#7201a8"
             ],
             [
              0.3333333333333333,
              "#9c179e"
             ],
             [
              0.4444444444444444,
              "#bd3786"
             ],
             [
              0.5555555555555556,
              "#d8576b"
             ],
             [
              0.6666666666666666,
              "#ed7953"
             ],
             [
              0.7777777777777778,
              "#fb9f3a"
             ],
             [
              0.8888888888888888,
              "#fdca26"
             ],
             [
              1,
              "#f0f921"
             ]
            ],
            "type": "surface"
           }
          ],
          "table": [
           {
            "cells": {
             "fill": {
              "color": "#EBF0F8"
             },
             "line": {
              "color": "white"
             }
            },
            "header": {
             "fill": {
              "color": "#C8D4E3"
             },
             "line": {
              "color": "white"
             }
            },
            "type": "table"
           }
          ]
         },
         "layout": {
          "annotationdefaults": {
           "arrowcolor": "#2a3f5f",
           "arrowhead": 0,
           "arrowwidth": 1
          },
          "autotypenumbers": "strict",
          "coloraxis": {
           "colorbar": {
            "outlinewidth": 0,
            "ticks": ""
           }
          },
          "colorscale": {
           "diverging": [
            [
             0,
             "#8e0152"
            ],
            [
             0.1,
             "#c51b7d"
            ],
            [
             0.2,
             "#de77ae"
            ],
            [
             0.3,
             "#f1b6da"
            ],
            [
             0.4,
             "#fde0ef"
            ],
            [
             0.5,
             "#f7f7f7"
            ],
            [
             0.6,
             "#e6f5d0"
            ],
            [
             0.7,
             "#b8e186"
            ],
            [
             0.8,
             "#7fbc41"
            ],
            [
             0.9,
             "#4d9221"
            ],
            [
             1,
             "#276419"
            ]
           ],
           "sequential": [
            [
             0,
             "#0d0887"
            ],
            [
             0.1111111111111111,
             "#46039f"
            ],
            [
             0.2222222222222222,
             "#7201a8"
            ],
            [
             0.3333333333333333,
             "#9c179e"
            ],
            [
             0.4444444444444444,
             "#bd3786"
            ],
            [
             0.5555555555555556,
             "#d8576b"
            ],
            [
             0.6666666666666666,
             "#ed7953"
            ],
            [
             0.7777777777777778,
             "#fb9f3a"
            ],
            [
             0.8888888888888888,
             "#fdca26"
            ],
            [
             1,
             "#f0f921"
            ]
           ],
           "sequentialminus": [
            [
             0,
             "#0d0887"
            ],
            [
             0.1111111111111111,
             "#46039f"
            ],
            [
             0.2222222222222222,
             "#7201a8"
            ],
            [
             0.3333333333333333,
             "#9c179e"
            ],
            [
             0.4444444444444444,
             "#bd3786"
            ],
            [
             0.5555555555555556,
             "#d8576b"
            ],
            [
             0.6666666666666666,
             "#ed7953"
            ],
            [
             0.7777777777777778,
             "#fb9f3a"
            ],
            [
             0.8888888888888888,
             "#fdca26"
            ],
            [
             1,
             "#f0f921"
            ]
           ]
          },
          "colorway": [
           "#636efa",
           "#EF553B",
           "#00cc96",
           "#ab63fa",
           "#FFA15A",
           "#19d3f3",
           "#FF6692",
           "#B6E880",
           "#FF97FF",
           "#FECB52"
          ],
          "font": {
           "color": "#2a3f5f"
          },
          "geo": {
           "bgcolor": "white",
           "lakecolor": "white",
           "landcolor": "#E5ECF6",
           "showlakes": true,
           "showland": true,
           "subunitcolor": "white"
          },
          "hoverlabel": {
           "align": "left"
          },
          "hovermode": "closest",
          "mapbox": {
           "style": "light"
          },
          "paper_bgcolor": "white",
          "plot_bgcolor": "#E5ECF6",
          "polar": {
           "angularaxis": {
            "gridcolor": "white",
            "linecolor": "white",
            "ticks": ""
           },
           "bgcolor": "#E5ECF6",
           "radialaxis": {
            "gridcolor": "white",
            "linecolor": "white",
            "ticks": ""
           }
          },
          "scene": {
           "xaxis": {
            "backgroundcolor": "#E5ECF6",
            "gridcolor": "white",
            "gridwidth": 2,
            "linecolor": "white",
            "showbackground": true,
            "ticks": "",
            "zerolinecolor": "white"
           },
           "yaxis": {
            "backgroundcolor": "#E5ECF6",
            "gridcolor": "white",
            "gridwidth": 2,
            "linecolor": "white",
            "showbackground": true,
            "ticks": "",
            "zerolinecolor": "white"
           },
           "zaxis": {
            "backgroundcolor": "#E5ECF6",
            "gridcolor": "white",
            "gridwidth": 2,
            "linecolor": "white",
            "showbackground": true,
            "ticks": "",
            "zerolinecolor": "white"
           }
          },
          "shapedefaults": {
           "line": {
            "color": "#2a3f5f"
           }
          },
          "ternary": {
           "aaxis": {
            "gridcolor": "white",
            "linecolor": "white",
            "ticks": ""
           },
           "baxis": {
            "gridcolor": "white",
            "linecolor": "white",
            "ticks": ""
           },
           "bgcolor": "#E5ECF6",
           "caxis": {
            "gridcolor": "white",
            "linecolor": "white",
            "ticks": ""
           }
          },
          "title": {
           "x": 0.05
          },
          "xaxis": {
           "automargin": true,
           "gridcolor": "white",
           "linecolor": "white",
           "ticks": "",
           "title": {
            "standoff": 15
           },
           "zerolinecolor": "white",
           "zerolinewidth": 2
          },
          "yaxis": {
           "automargin": true,
           "gridcolor": "white",
           "linecolor": "white",
           "ticks": "",
           "title": {
            "standoff": 15
           },
           "zerolinecolor": "white",
           "zerolinewidth": 2
          }
         }
        },
        "xaxis": {
         "anchor": "y",
         "constrain": "domain",
         "domain": [
          0,
          1
         ],
         "scaleanchor": "y"
        },
        "yaxis": {
         "anchor": "x",
         "autorange": "reversed",
         "constrain": "domain",
         "domain": [
          0,
          1
         ]
        }
       }
      }
     },
     "metadata": {},
     "output_type": "display_data"
    }
   ],
   "source": [
    "correlations_positive = game_data_recent[[\"home_rebound\", \"visitor_timeout\", \"visitor_fg_missed\", \"home_fg_made\", \"home_final_score\", \"home_TSP\", \"home_final_score_diff\"]].corr()\n",
    "\n",
    "fig = px.imshow(correlations_positive)\n",
    "fig.show()"
   ]
  },
  {
   "cell_type": "code",
   "execution_count": 39,
   "metadata": {},
   "outputs": [
    {
     "data": {
      "text/plain": [
       "visitor_final_score_diff        -0.802578\n",
       "visitor_TSP                     -0.453650\n",
       "home_timeout                    -0.421919\n",
       "visitor_final_score             -0.413824\n",
       "visitor_fg_made                 -0.338465\n",
       "home_fg_missed                  -0.324381\n",
       "visitor_scoring_leader_points   -0.235978\n",
       "visitor_rebound                 -0.232083\n",
       "Name: home_win, dtype: float64"
      ]
     },
     "execution_count": 39,
     "metadata": {},
     "output_type": "execute_result"
    }
   ],
   "source": [
    "correlations_home_win[correlations_home_win < -0.2]"
   ]
  },
  {
   "cell_type": "code",
   "execution_count": 40,
   "metadata": {},
   "outputs": [
    {
     "data": {
      "application/vnd.plotly.v1+json": {
       "config": {
        "plotlyServerURL": "https://plot.ly"
       },
       "data": [
        {
         "coloraxis": "coloraxis",
         "hovertemplate": "x: %{x}<br>y: %{y}<br>color: %{z}<extra></extra>",
         "name": "0",
         "type": "heatmap",
         "x": [
          "visitor_rebound",
          "home_timeout",
          "home_fg_missed",
          "visitor_fg_made",
          "visitor_final_score",
          "visitor_TSP",
          "visitor_final_score_diff",
          "visitor_scoring_leader_points"
         ],
         "xaxis": "x",
         "y": [
          "visitor_rebound",
          "home_timeout",
          "home_fg_missed",
          "visitor_fg_made",
          "visitor_final_score",
          "visitor_TSP",
          "visitor_final_score_diff",
          "visitor_scoring_leader_points"
         ],
         "yaxis": "y",
         "z": [
          [
           1,
           0.17630086084539973,
           0.5307867608308973,
           0.1332800984634655,
           0.14531094906726436,
           -0.2012459229234659,
           0.2944580711703001,
           0.06815148863598854
          ],
          [
           0.17630086084539973,
           1,
           0.2538065795456865,
           0.21681548864717998,
           0.28468551697699224,
           0.2243428560618035,
           0.3890313784400781,
           0.2578163187808293
          ],
          [
           0.5307867608308973,
           0.2538065795456865,
           1,
           0.11362498234127395,
           0.14651905999017104,
           0.03279395964486365,
           0.3655721048723172,
           0.10047305831086559
          ],
          [
           0.1332800984634655,
           0.21681548864717998,
           0.11362498234127395,
           1,
           0.8454115807601679,
           0.4330733981648446,
           0.4579081454682322,
           0.3648731304970926
          ],
          [
           0.14531094906726436,
           0.28468551697699224,
           0.14651905999017104,
           0.8454115807601679,
           1,
           0.6468395966787908,
           0.5168111572472945,
           0.48681921012787693
          ],
          [
           -0.2012459229234659,
           0.2243428560618035,
           0.03279395964486365,
           0.4330733981648446,
           0.6468395966787908,
           1,
           0.5054570654103984,
           0.3611182151767446
          ],
          [
           0.2944580711703001,
           0.3890313784400781,
           0.3655721048723172,
           0.4579081454682322,
           0.5168111572472945,
           0.5054570654103984,
           1,
           0.2956229397369634
          ],
          [
           0.06815148863598854,
           0.2578163187808293,
           0.10047305831086559,
           0.3648731304970926,
           0.48681921012787693,
           0.3611182151767446,
           0.2956229397369634,
           1
          ]
         ]
        }
       ],
       "layout": {
        "coloraxis": {
         "colorscale": [
          [
           0,
           "#0d0887"
          ],
          [
           0.1111111111111111,
           "#46039f"
          ],
          [
           0.2222222222222222,
           "#7201a8"
          ],
          [
           0.3333333333333333,
           "#9c179e"
          ],
          [
           0.4444444444444444,
           "#bd3786"
          ],
          [
           0.5555555555555556,
           "#d8576b"
          ],
          [
           0.6666666666666666,
           "#ed7953"
          ],
          [
           0.7777777777777778,
           "#fb9f3a"
          ],
          [
           0.8888888888888888,
           "#fdca26"
          ],
          [
           1,
           "#f0f921"
          ]
         ]
        },
        "margin": {
         "t": 60
        },
        "template": {
         "data": {
          "bar": [
           {
            "error_x": {
             "color": "#2a3f5f"
            },
            "error_y": {
             "color": "#2a3f5f"
            },
            "marker": {
             "line": {
              "color": "#E5ECF6",
              "width": 0.5
             },
             "pattern": {
              "fillmode": "overlay",
              "size": 10,
              "solidity": 0.2
             }
            },
            "type": "bar"
           }
          ],
          "barpolar": [
           {
            "marker": {
             "line": {
              "color": "#E5ECF6",
              "width": 0.5
             },
             "pattern": {
              "fillmode": "overlay",
              "size": 10,
              "solidity": 0.2
             }
            },
            "type": "barpolar"
           }
          ],
          "carpet": [
           {
            "aaxis": {
             "endlinecolor": "#2a3f5f",
             "gridcolor": "white",
             "linecolor": "white",
             "minorgridcolor": "white",
             "startlinecolor": "#2a3f5f"
            },
            "baxis": {
             "endlinecolor": "#2a3f5f",
             "gridcolor": "white",
             "linecolor": "white",
             "minorgridcolor": "white",
             "startlinecolor": "#2a3f5f"
            },
            "type": "carpet"
           }
          ],
          "choropleth": [
           {
            "colorbar": {
             "outlinewidth": 0,
             "ticks": ""
            },
            "type": "choropleth"
           }
          ],
          "contour": [
           {
            "colorbar": {
             "outlinewidth": 0,
             "ticks": ""
            },
            "colorscale": [
             [
              0,
              "#0d0887"
             ],
             [
              0.1111111111111111,
              "#46039f"
             ],
             [
              0.2222222222222222,
              "#7201a8"
             ],
             [
              0.3333333333333333,
              "#9c179e"
             ],
             [
              0.4444444444444444,
              "#bd3786"
             ],
             [
              0.5555555555555556,
              "#d8576b"
             ],
             [
              0.6666666666666666,
              "#ed7953"
             ],
             [
              0.7777777777777778,
              "#fb9f3a"
             ],
             [
              0.8888888888888888,
              "#fdca26"
             ],
             [
              1,
              "#f0f921"
             ]
            ],
            "type": "contour"
           }
          ],
          "contourcarpet": [
           {
            "colorbar": {
             "outlinewidth": 0,
             "ticks": ""
            },
            "type": "contourcarpet"
           }
          ],
          "heatmap": [
           {
            "colorbar": {
             "outlinewidth": 0,
             "ticks": ""
            },
            "colorscale": [
             [
              0,
              "#0d0887"
             ],
             [
              0.1111111111111111,
              "#46039f"
             ],
             [
              0.2222222222222222,
              "#7201a8"
             ],
             [
              0.3333333333333333,
              "#9c179e"
             ],
             [
              0.4444444444444444,
              "#bd3786"
             ],
             [
              0.5555555555555556,
              "#d8576b"
             ],
             [
              0.6666666666666666,
              "#ed7953"
             ],
             [
              0.7777777777777778,
              "#fb9f3a"
             ],
             [
              0.8888888888888888,
              "#fdca26"
             ],
             [
              1,
              "#f0f921"
             ]
            ],
            "type": "heatmap"
           }
          ],
          "heatmapgl": [
           {
            "colorbar": {
             "outlinewidth": 0,
             "ticks": ""
            },
            "colorscale": [
             [
              0,
              "#0d0887"
             ],
             [
              0.1111111111111111,
              "#46039f"
             ],
             [
              0.2222222222222222,
              "#7201a8"
             ],
             [
              0.3333333333333333,
              "#9c179e"
             ],
             [
              0.4444444444444444,
              "#bd3786"
             ],
             [
              0.5555555555555556,
              "#d8576b"
             ],
             [
              0.6666666666666666,
              "#ed7953"
             ],
             [
              0.7777777777777778,
              "#fb9f3a"
             ],
             [
              0.8888888888888888,
              "#fdca26"
             ],
             [
              1,
              "#f0f921"
             ]
            ],
            "type": "heatmapgl"
           }
          ],
          "histogram": [
           {
            "marker": {
             "pattern": {
              "fillmode": "overlay",
              "size": 10,
              "solidity": 0.2
             }
            },
            "type": "histogram"
           }
          ],
          "histogram2d": [
           {
            "colorbar": {
             "outlinewidth": 0,
             "ticks": ""
            },
            "colorscale": [
             [
              0,
              "#0d0887"
             ],
             [
              0.1111111111111111,
              "#46039f"
             ],
             [
              0.2222222222222222,
              "#7201a8"
             ],
             [
              0.3333333333333333,
              "#9c179e"
             ],
             [
              0.4444444444444444,
              "#bd3786"
             ],
             [
              0.5555555555555556,
              "#d8576b"
             ],
             [
              0.6666666666666666,
              "#ed7953"
             ],
             [
              0.7777777777777778,
              "#fb9f3a"
             ],
             [
              0.8888888888888888,
              "#fdca26"
             ],
             [
              1,
              "#f0f921"
             ]
            ],
            "type": "histogram2d"
           }
          ],
          "histogram2dcontour": [
           {
            "colorbar": {
             "outlinewidth": 0,
             "ticks": ""
            },
            "colorscale": [
             [
              0,
              "#0d0887"
             ],
             [
              0.1111111111111111,
              "#46039f"
             ],
             [
              0.2222222222222222,
              "#7201a8"
             ],
             [
              0.3333333333333333,
              "#9c179e"
             ],
             [
              0.4444444444444444,
              "#bd3786"
             ],
             [
              0.5555555555555556,
              "#d8576b"
             ],
             [
              0.6666666666666666,
              "#ed7953"
             ],
             [
              0.7777777777777778,
              "#fb9f3a"
             ],
             [
              0.8888888888888888,
              "#fdca26"
             ],
             [
              1,
              "#f0f921"
             ]
            ],
            "type": "histogram2dcontour"
           }
          ],
          "mesh3d": [
           {
            "colorbar": {
             "outlinewidth": 0,
             "ticks": ""
            },
            "type": "mesh3d"
           }
          ],
          "parcoords": [
           {
            "line": {
             "colorbar": {
              "outlinewidth": 0,
              "ticks": ""
             }
            },
            "type": "parcoords"
           }
          ],
          "pie": [
           {
            "automargin": true,
            "type": "pie"
           }
          ],
          "scatter": [
           {
            "fillpattern": {
             "fillmode": "overlay",
             "size": 10,
             "solidity": 0.2
            },
            "type": "scatter"
           }
          ],
          "scatter3d": [
           {
            "line": {
             "colorbar": {
              "outlinewidth": 0,
              "ticks": ""
             }
            },
            "marker": {
             "colorbar": {
              "outlinewidth": 0,
              "ticks": ""
             }
            },
            "type": "scatter3d"
           }
          ],
          "scattercarpet": [
           {
            "marker": {
             "colorbar": {
              "outlinewidth": 0,
              "ticks": ""
             }
            },
            "type": "scattercarpet"
           }
          ],
          "scattergeo": [
           {
            "marker": {
             "colorbar": {
              "outlinewidth": 0,
              "ticks": ""
             }
            },
            "type": "scattergeo"
           }
          ],
          "scattergl": [
           {
            "marker": {
             "colorbar": {
              "outlinewidth": 0,
              "ticks": ""
             }
            },
            "type": "scattergl"
           }
          ],
          "scattermapbox": [
           {
            "marker": {
             "colorbar": {
              "outlinewidth": 0,
              "ticks": ""
             }
            },
            "type": "scattermapbox"
           }
          ],
          "scatterpolar": [
           {
            "marker": {
             "colorbar": {
              "outlinewidth": 0,
              "ticks": ""
             }
            },
            "type": "scatterpolar"
           }
          ],
          "scatterpolargl": [
           {
            "marker": {
             "colorbar": {
              "outlinewidth": 0,
              "ticks": ""
             }
            },
            "type": "scatterpolargl"
           }
          ],
          "scatterternary": [
           {
            "marker": {
             "colorbar": {
              "outlinewidth": 0,
              "ticks": ""
             }
            },
            "type": "scatterternary"
           }
          ],
          "surface": [
           {
            "colorbar": {
             "outlinewidth": 0,
             "ticks": ""
            },
            "colorscale": [
             [
              0,
              "#0d0887"
             ],
             [
              0.1111111111111111,
              "#46039f"
             ],
             [
              0.2222222222222222,
              "#7201a8"
             ],
             [
              0.3333333333333333,
              "#9c179e"
             ],
             [
              0.4444444444444444,
              "#bd3786"
             ],
             [
              0.5555555555555556,
              "#d8576b"
             ],
             [
              0.6666666666666666,
              "#ed7953"
             ],
             [
              0.7777777777777778,
              "#fb9f3a"
             ],
             [
              0.8888888888888888,
              "#fdca26"
             ],
             [
              1,
              "#f0f921"
             ]
            ],
            "type": "surface"
           }
          ],
          "table": [
           {
            "cells": {
             "fill": {
              "color": "#EBF0F8"
             },
             "line": {
              "color": "white"
             }
            },
            "header": {
             "fill": {
              "color": "#C8D4E3"
             },
             "line": {
              "color": "white"
             }
            },
            "type": "table"
           }
          ]
         },
         "layout": {
          "annotationdefaults": {
           "arrowcolor": "#2a3f5f",
           "arrowhead": 0,
           "arrowwidth": 1
          },
          "autotypenumbers": "strict",
          "coloraxis": {
           "colorbar": {
            "outlinewidth": 0,
            "ticks": ""
           }
          },
          "colorscale": {
           "diverging": [
            [
             0,
             "#8e0152"
            ],
            [
             0.1,
             "#c51b7d"
            ],
            [
             0.2,
             "#de77ae"
            ],
            [
             0.3,
             "#f1b6da"
            ],
            [
             0.4,
             "#fde0ef"
            ],
            [
             0.5,
             "#f7f7f7"
            ],
            [
             0.6,
             "#e6f5d0"
            ],
            [
             0.7,
             "#b8e186"
            ],
            [
             0.8,
             "#7fbc41"
            ],
            [
             0.9,
             "#4d9221"
            ],
            [
             1,
             "#276419"
            ]
           ],
           "sequential": [
            [
             0,
             "#0d0887"
            ],
            [
             0.1111111111111111,
             "#46039f"
            ],
            [
             0.2222222222222222,
             "#7201a8"
            ],
            [
             0.3333333333333333,
             "#9c179e"
            ],
            [
             0.4444444444444444,
             "#bd3786"
            ],
            [
             0.5555555555555556,
             "#d8576b"
            ],
            [
             0.6666666666666666,
             "#ed7953"
            ],
            [
             0.7777777777777778,
             "#fb9f3a"
            ],
            [
             0.8888888888888888,
             "#fdca26"
            ],
            [
             1,
             "#f0f921"
            ]
           ],
           "sequentialminus": [
            [
             0,
             "#0d0887"
            ],
            [
             0.1111111111111111,
             "#46039f"
            ],
            [
             0.2222222222222222,
             "#7201a8"
            ],
            [
             0.3333333333333333,
             "#9c179e"
            ],
            [
             0.4444444444444444,
             "#bd3786"
            ],
            [
             0.5555555555555556,
             "#d8576b"
            ],
            [
             0.6666666666666666,
             "#ed7953"
            ],
            [
             0.7777777777777778,
             "#fb9f3a"
            ],
            [
             0.8888888888888888,
             "#fdca26"
            ],
            [
             1,
             "#f0f921"
            ]
           ]
          },
          "colorway": [
           "#636efa",
           "#EF553B",
           "#00cc96",
           "#ab63fa",
           "#FFA15A",
           "#19d3f3",
           "#FF6692",
           "#B6E880",
           "#FF97FF",
           "#FECB52"
          ],
          "font": {
           "color": "#2a3f5f"
          },
          "geo": {
           "bgcolor": "white",
           "lakecolor": "white",
           "landcolor": "#E5ECF6",
           "showlakes": true,
           "showland": true,
           "subunitcolor": "white"
          },
          "hoverlabel": {
           "align": "left"
          },
          "hovermode": "closest",
          "mapbox": {
           "style": "light"
          },
          "paper_bgcolor": "white",
          "plot_bgcolor": "#E5ECF6",
          "polar": {
           "angularaxis": {
            "gridcolor": "white",
            "linecolor": "white",
            "ticks": ""
           },
           "bgcolor": "#E5ECF6",
           "radialaxis": {
            "gridcolor": "white",
            "linecolor": "white",
            "ticks": ""
           }
          },
          "scene": {
           "xaxis": {
            "backgroundcolor": "#E5ECF6",
            "gridcolor": "white",
            "gridwidth": 2,
            "linecolor": "white",
            "showbackground": true,
            "ticks": "",
            "zerolinecolor": "white"
           },
           "yaxis": {
            "backgroundcolor": "#E5ECF6",
            "gridcolor": "white",
            "gridwidth": 2,
            "linecolor": "white",
            "showbackground": true,
            "ticks": "",
            "zerolinecolor": "white"
           },
           "zaxis": {
            "backgroundcolor": "#E5ECF6",
            "gridcolor": "white",
            "gridwidth": 2,
            "linecolor": "white",
            "showbackground": true,
            "ticks": "",
            "zerolinecolor": "white"
           }
          },
          "shapedefaults": {
           "line": {
            "color": "#2a3f5f"
           }
          },
          "ternary": {
           "aaxis": {
            "gridcolor": "white",
            "linecolor": "white",
            "ticks": ""
           },
           "baxis": {
            "gridcolor": "white",
            "linecolor": "white",
            "ticks": ""
           },
           "bgcolor": "#E5ECF6",
           "caxis": {
            "gridcolor": "white",
            "linecolor": "white",
            "ticks": ""
           }
          },
          "title": {
           "x": 0.05
          },
          "xaxis": {
           "automargin": true,
           "gridcolor": "white",
           "linecolor": "white",
           "ticks": "",
           "title": {
            "standoff": 15
           },
           "zerolinecolor": "white",
           "zerolinewidth": 2
          },
          "yaxis": {
           "automargin": true,
           "gridcolor": "white",
           "linecolor": "white",
           "ticks": "",
           "title": {
            "standoff": 15
           },
           "zerolinecolor": "white",
           "zerolinewidth": 2
          }
         }
        },
        "xaxis": {
         "anchor": "y",
         "constrain": "domain",
         "domain": [
          0,
          1
         ],
         "scaleanchor": "y"
        },
        "yaxis": {
         "anchor": "x",
         "autorange": "reversed",
         "constrain": "domain",
         "domain": [
          0,
          1
         ]
        }
       }
      }
     },
     "metadata": {},
     "output_type": "display_data"
    }
   ],
   "source": [
    "correlations_negative = game_data_recent[[\"visitor_rebound\", \"home_timeout\", \"home_fg_missed\", \"visitor_fg_made\", \"visitor_final_score\", \"visitor_TSP\", \"visitor_final_score_diff\", \"visitor_scoring_leader_points\"]].corr()\n",
    "\n",
    "fig = px.imshow(correlations_negative)\n",
    "fig.show()"
   ]
  },
  {
   "cell_type": "markdown",
   "metadata": {},
   "source": [
    "* * *\n",
    "### Analysis of recent features (BEFORE GAME)\n",
    "\n",
    "Following pairs of recent features are highly correlated:\n",
    "- home_recent_fg_made & home_recent_points\n",
    "- home_recent_fg_made & home_recent_3PT_made\n",
    "- home_recent_3PT_made & home_recent_points\n",
    "- home_recent_TSP & home_recent_ft_made\n",
    "\n",
    "Suggested recent features to be included in the model:\n",
    "- home_recent_TSP\n",
    "- home_recent_timeout\n",
    "- home_recent_points\n",
    "- home_rank\n",
    "- visitor_recent_TSP\n",
    "- visitor_recent_timeout\n",
    "- visitor_recent_points\n",
    "- visitor_rank"
   ]
  },
  {
   "cell_type": "code",
   "execution_count": 44,
   "metadata": {},
   "outputs": [],
   "source": [
    "data_recent = game_data_recent.loc[:, \"home_recent_home_game_ratio\" : \"visitor_rank\"].copy()\n",
    "data_recent[\"home_win\"] = game_data_recent[\"home_win\"]"
   ]
  },
  {
   "cell_type": "code",
   "execution_count": 45,
   "metadata": {},
   "outputs": [
    {
     "data": {
      "text/plain": [
       "home_recent_ft_made         0.049301\n",
       "home_recent_3PT_made        0.049588\n",
       "visitor_recent_foul         0.050640\n",
       "home_recent_rebound         0.057152\n",
       "visitor_recent_turnover     0.067339\n",
       "home_recent_fg_made         0.078980\n",
       "visitor_recent_fg_missed    0.085874\n",
       "home_recent_points          0.096128\n",
       "visitor_recent_timeout      0.102315\n",
       "home_recent_TSP             0.129539\n",
       "visitor_rank                0.183250\n",
       "home_win                    1.000000\n",
       "Name: home_win, dtype: float64"
      ]
     },
     "execution_count": 45,
     "metadata": {},
     "output_type": "execute_result"
    }
   ],
   "source": [
    "correlations_recent = data_recent.corr()\n",
    "correlations_recent_home_win = correlations_recent[\"home_win\"].sort_values()\n",
    "correlations_recent_home_win[correlations_recent_home_win > 0.04]"
   ]
  },
  {
   "cell_type": "code",
   "execution_count": 46,
   "metadata": {},
   "outputs": [
    {
     "data": {
      "application/vnd.plotly.v1+json": {
       "config": {
        "plotlyServerURL": "https://plot.ly"
       },
       "data": [
        {
         "coloraxis": "coloraxis",
         "hovertemplate": "x: %{x}<br>y: %{y}<br>color: %{z}<extra></extra>",
         "name": "0",
         "type": "heatmap",
         "x": [
          "visitor_recent_foul",
          "home_recent_ft_made",
          "home_recent_3PT_made",
          "home_recent_rebound",
          "visitor_recent_turnover",
          "home_recent_fg_made",
          "visitor_recent_fg_missed",
          "home_recent_points",
          "visitor_recent_timeout",
          "home_recent_TSP",
          "home_rank",
          "visitor_rank"
         ],
         "xaxis": "x",
         "y": [
          "visitor_recent_foul",
          "home_recent_ft_made",
          "home_recent_3PT_made",
          "home_recent_rebound",
          "visitor_recent_turnover",
          "home_recent_fg_made",
          "visitor_recent_fg_missed",
          "home_recent_points",
          "visitor_recent_timeout",
          "home_recent_TSP",
          "home_rank",
          "visitor_rank"
         ],
         "yaxis": "y",
         "z": [
          [
           1,
           0.17253800024668522,
           -0.21573783120818893,
           -0.10086029153237108,
           0.3298887063232959,
           -0.17552738772489,
           -0.045096040647341525,
           -0.1444570925414022,
           0.12825142487714253,
           0.12683482271767205,
           0.0033939337646263215,
           0.1544297595406432
          ],
          [
           0.17253800024668522,
           1,
           -0.1973776287022138,
           0.024903231973269043,
           0.012708493312108538,
           -0.1179946809905936,
           -0.11135653094710542,
           0.21410335800215421,
           0.015079394000766884,
           0.634479541325488,
           -0.02258777911872441,
           0.014002753428617813
          ],
          [
           -0.21573783120818893,
           -0.1973776287022138,
           1,
           0.23888601035705728,
           -0.07285676469979872,
           0.5384613408493224,
           0.24554447397697587,
           0.6918436139392664,
           -0.04803694495196897,
           -0.1247709350522787,
           -0.1632108217490551,
           -0.008015651787163644
          ],
          [
           -0.10086029153237108,
           0.024903231973269043,
           0.23888601035705728,
           1,
           -0.009901901809558338,
           0.3419890862073083,
           0.18642712247075166,
           0.35146998993754097,
           -0.03160808767293508,
           -0.1813336171456448,
           -0.08695252333571554,
           -0.017744534345860274
          ],
          [
           0.3298887063232959,
           0.012708493312108538,
           -0.07285676469979872,
           -0.009901901809558338,
           1,
           -0.08841183655472958,
           -0.07061735797518295,
           -0.0878009193593484,
           0.10423297950023595,
           -0.011970339845214483,
           -0.011040117665956237,
           0.21202010240589036
          ],
          [
           -0.17552738772489,
           -0.1179946809905936,
           0.5384613408493224,
           0.3419890862073083,
           -0.08841183655472958,
           1,
           0.17475352880447473,
           0.8881002422369587,
           -0.0663614016781579,
           0.2487528332041613,
           -0.15397450316172304,
           -0.009190110297882392
          ],
          [
           -0.045096040647341525,
           -0.11135653094710542,
           0.24554447397697587,
           0.18642712247075166,
           -0.07061735797518295,
           0.17475352880447473,
           1,
           0.17913054944959614,
           0.14223396249949896,
           -0.13903605365049318,
           -0.02771698779784273,
           0.23577678231389176
          ],
          [
           -0.1444570925414022,
           0.21410335800215421,
           0.6918436139392664,
           0.35146998993754097,
           -0.0878009193593484,
           0.8881002422369587,
           0.17913054944959614,
           1,
           -0.061084881928112185,
           0.37987430311673315,
           -0.1836115858837917,
           -0.005603089941938066
          ],
          [
           0.12825142487714253,
           0.015079394000766884,
           -0.04803694495196897,
           -0.03160808767293508,
           0.10423297950023595,
           -0.0663614016781579,
           0.14223396249949896,
           -0.061084881928112185,
           1,
           0.0001283142309850744,
           0.00015184135530233874,
           0.2794952456851964
          ],
          [
           0.12683482271767205,
           0.634479541325488,
           -0.1247709350522787,
           -0.1813336171456448,
           -0.011970339845214483,
           0.2487528332041613,
           -0.13903605365049318,
           0.37987430311673315,
           0.0001283142309850744,
           1,
           -0.2197191986716968,
           0.02385926825494031
          ],
          [
           0.0033939337646263215,
           -0.02258777911872441,
           -0.1632108217490551,
           -0.08695252333571554,
           -0.011040117665956237,
           -0.15397450316172304,
           -0.02771698779784273,
           -0.1836115858837917,
           0.00015184135530233874,
           -0.2197191986716968,
           1,
           -0.009405173459280783
          ],
          [
           0.1544297595406432,
           0.014002753428617813,
           -0.008015651787163644,
           -0.017744534345860274,
           0.21202010240589036,
           -0.009190110297882392,
           0.23577678231389176,
           -0.005603089941938066,
           0.2794952456851964,
           0.02385926825494031,
           -0.009405173459280783,
           1
          ]
         ]
        }
       ],
       "layout": {
        "coloraxis": {
         "colorscale": [
          [
           0,
           "#0d0887"
          ],
          [
           0.1111111111111111,
           "#46039f"
          ],
          [
           0.2222222222222222,
           "#7201a8"
          ],
          [
           0.3333333333333333,
           "#9c179e"
          ],
          [
           0.4444444444444444,
           "#bd3786"
          ],
          [
           0.5555555555555556,
           "#d8576b"
          ],
          [
           0.6666666666666666,
           "#ed7953"
          ],
          [
           0.7777777777777778,
           "#fb9f3a"
          ],
          [
           0.8888888888888888,
           "#fdca26"
          ],
          [
           1,
           "#f0f921"
          ]
         ]
        },
        "height": 700,
        "margin": {
         "t": 60
        },
        "template": {
         "data": {
          "bar": [
           {
            "error_x": {
             "color": "#2a3f5f"
            },
            "error_y": {
             "color": "#2a3f5f"
            },
            "marker": {
             "line": {
              "color": "#E5ECF6",
              "width": 0.5
             },
             "pattern": {
              "fillmode": "overlay",
              "size": 10,
              "solidity": 0.2
             }
            },
            "type": "bar"
           }
          ],
          "barpolar": [
           {
            "marker": {
             "line": {
              "color": "#E5ECF6",
              "width": 0.5
             },
             "pattern": {
              "fillmode": "overlay",
              "size": 10,
              "solidity": 0.2
             }
            },
            "type": "barpolar"
           }
          ],
          "carpet": [
           {
            "aaxis": {
             "endlinecolor": "#2a3f5f",
             "gridcolor": "white",
             "linecolor": "white",
             "minorgridcolor": "white",
             "startlinecolor": "#2a3f5f"
            },
            "baxis": {
             "endlinecolor": "#2a3f5f",
             "gridcolor": "white",
             "linecolor": "white",
             "minorgridcolor": "white",
             "startlinecolor": "#2a3f5f"
            },
            "type": "carpet"
           }
          ],
          "choropleth": [
           {
            "colorbar": {
             "outlinewidth": 0,
             "ticks": ""
            },
            "type": "choropleth"
           }
          ],
          "contour": [
           {
            "colorbar": {
             "outlinewidth": 0,
             "ticks": ""
            },
            "colorscale": [
             [
              0,
              "#0d0887"
             ],
             [
              0.1111111111111111,
              "#46039f"
             ],
             [
              0.2222222222222222,
              "#7201a8"
             ],
             [
              0.3333333333333333,
              "#9c179e"
             ],
             [
              0.4444444444444444,
              "#bd3786"
             ],
             [
              0.5555555555555556,
              "#d8576b"
             ],
             [
              0.6666666666666666,
              "#ed7953"
             ],
             [
              0.7777777777777778,
              "#fb9f3a"
             ],
             [
              0.8888888888888888,
              "#fdca26"
             ],
             [
              1,
              "#f0f921"
             ]
            ],
            "type": "contour"
           }
          ],
          "contourcarpet": [
           {
            "colorbar": {
             "outlinewidth": 0,
             "ticks": ""
            },
            "type": "contourcarpet"
           }
          ],
          "heatmap": [
           {
            "colorbar": {
             "outlinewidth": 0,
             "ticks": ""
            },
            "colorscale": [
             [
              0,
              "#0d0887"
             ],
             [
              0.1111111111111111,
              "#46039f"
             ],
             [
              0.2222222222222222,
              "#7201a8"
             ],
             [
              0.3333333333333333,
              "#9c179e"
             ],
             [
              0.4444444444444444,
              "#bd3786"
             ],
             [
              0.5555555555555556,
              "#d8576b"
             ],
             [
              0.6666666666666666,
              "#ed7953"
             ],
             [
              0.7777777777777778,
              "#fb9f3a"
             ],
             [
              0.8888888888888888,
              "#fdca26"
             ],
             [
              1,
              "#f0f921"
             ]
            ],
            "type": "heatmap"
           }
          ],
          "heatmapgl": [
           {
            "colorbar": {
             "outlinewidth": 0,
             "ticks": ""
            },
            "colorscale": [
             [
              0,
              "#0d0887"
             ],
             [
              0.1111111111111111,
              "#46039f"
             ],
             [
              0.2222222222222222,
              "#7201a8"
             ],
             [
              0.3333333333333333,
              "#9c179e"
             ],
             [
              0.4444444444444444,
              "#bd3786"
             ],
             [
              0.5555555555555556,
              "#d8576b"
             ],
             [
              0.6666666666666666,
              "#ed7953"
             ],
             [
              0.7777777777777778,
              "#fb9f3a"
             ],
             [
              0.8888888888888888,
              "#fdca26"
             ],
             [
              1,
              "#f0f921"
             ]
            ],
            "type": "heatmapgl"
           }
          ],
          "histogram": [
           {
            "marker": {
             "pattern": {
              "fillmode": "overlay",
              "size": 10,
              "solidity": 0.2
             }
            },
            "type": "histogram"
           }
          ],
          "histogram2d": [
           {
            "colorbar": {
             "outlinewidth": 0,
             "ticks": ""
            },
            "colorscale": [
             [
              0,
              "#0d0887"
             ],
             [
              0.1111111111111111,
              "#46039f"
             ],
             [
              0.2222222222222222,
              "#7201a8"
             ],
             [
              0.3333333333333333,
              "#9c179e"
             ],
             [
              0.4444444444444444,
              "#bd3786"
             ],
             [
              0.5555555555555556,
              "#d8576b"
             ],
             [
              0.6666666666666666,
              "#ed7953"
             ],
             [
              0.7777777777777778,
              "#fb9f3a"
             ],
             [
              0.8888888888888888,
              "#fdca26"
             ],
             [
              1,
              "#f0f921"
             ]
            ],
            "type": "histogram2d"
           }
          ],
          "histogram2dcontour": [
           {
            "colorbar": {
             "outlinewidth": 0,
             "ticks": ""
            },
            "colorscale": [
             [
              0,
              "#0d0887"
             ],
             [
              0.1111111111111111,
              "#46039f"
             ],
             [
              0.2222222222222222,
              "#7201a8"
             ],
             [
              0.3333333333333333,
              "#9c179e"
             ],
             [
              0.4444444444444444,
              "#bd3786"
             ],
             [
              0.5555555555555556,
              "#d8576b"
             ],
             [
              0.6666666666666666,
              "#ed7953"
             ],
             [
              0.7777777777777778,
              "#fb9f3a"
             ],
             [
              0.8888888888888888,
              "#fdca26"
             ],
             [
              1,
              "#f0f921"
             ]
            ],
            "type": "histogram2dcontour"
           }
          ],
          "mesh3d": [
           {
            "colorbar": {
             "outlinewidth": 0,
             "ticks": ""
            },
            "type": "mesh3d"
           }
          ],
          "parcoords": [
           {
            "line": {
             "colorbar": {
              "outlinewidth": 0,
              "ticks": ""
             }
            },
            "type": "parcoords"
           }
          ],
          "pie": [
           {
            "automargin": true,
            "type": "pie"
           }
          ],
          "scatter": [
           {
            "fillpattern": {
             "fillmode": "overlay",
             "size": 10,
             "solidity": 0.2
            },
            "type": "scatter"
           }
          ],
          "scatter3d": [
           {
            "line": {
             "colorbar": {
              "outlinewidth": 0,
              "ticks": ""
             }
            },
            "marker": {
             "colorbar": {
              "outlinewidth": 0,
              "ticks": ""
             }
            },
            "type": "scatter3d"
           }
          ],
          "scattercarpet": [
           {
            "marker": {
             "colorbar": {
              "outlinewidth": 0,
              "ticks": ""
             }
            },
            "type": "scattercarpet"
           }
          ],
          "scattergeo": [
           {
            "marker": {
             "colorbar": {
              "outlinewidth": 0,
              "ticks": ""
             }
            },
            "type": "scattergeo"
           }
          ],
          "scattergl": [
           {
            "marker": {
             "colorbar": {
              "outlinewidth": 0,
              "ticks": ""
             }
            },
            "type": "scattergl"
           }
          ],
          "scattermapbox": [
           {
            "marker": {
             "colorbar": {
              "outlinewidth": 0,
              "ticks": ""
             }
            },
            "type": "scattermapbox"
           }
          ],
          "scatterpolar": [
           {
            "marker": {
             "colorbar": {
              "outlinewidth": 0,
              "ticks": ""
             }
            },
            "type": "scatterpolar"
           }
          ],
          "scatterpolargl": [
           {
            "marker": {
             "colorbar": {
              "outlinewidth": 0,
              "ticks": ""
             }
            },
            "type": "scatterpolargl"
           }
          ],
          "scatterternary": [
           {
            "marker": {
             "colorbar": {
              "outlinewidth": 0,
              "ticks": ""
             }
            },
            "type": "scatterternary"
           }
          ],
          "surface": [
           {
            "colorbar": {
             "outlinewidth": 0,
             "ticks": ""
            },
            "colorscale": [
             [
              0,
              "#0d0887"
             ],
             [
              0.1111111111111111,
              "#46039f"
             ],
             [
              0.2222222222222222,
              "#7201a8"
             ],
             [
              0.3333333333333333,
              "#9c179e"
             ],
             [
              0.4444444444444444,
              "#bd3786"
             ],
             [
              0.5555555555555556,
              "#d8576b"
             ],
             [
              0.6666666666666666,
              "#ed7953"
             ],
             [
              0.7777777777777778,
              "#fb9f3a"
             ],
             [
              0.8888888888888888,
              "#fdca26"
             ],
             [
              1,
              "#f0f921"
             ]
            ],
            "type": "surface"
           }
          ],
          "table": [
           {
            "cells": {
             "fill": {
              "color": "#EBF0F8"
             },
             "line": {
              "color": "white"
             }
            },
            "header": {
             "fill": {
              "color": "#C8D4E3"
             },
             "line": {
              "color": "white"
             }
            },
            "type": "table"
           }
          ]
         },
         "layout": {
          "annotationdefaults": {
           "arrowcolor": "#2a3f5f",
           "arrowhead": 0,
           "arrowwidth": 1
          },
          "autotypenumbers": "strict",
          "coloraxis": {
           "colorbar": {
            "outlinewidth": 0,
            "ticks": ""
           }
          },
          "colorscale": {
           "diverging": [
            [
             0,
             "#8e0152"
            ],
            [
             0.1,
             "#c51b7d"
            ],
            [
             0.2,
             "#de77ae"
            ],
            [
             0.3,
             "#f1b6da"
            ],
            [
             0.4,
             "#fde0ef"
            ],
            [
             0.5,
             "#f7f7f7"
            ],
            [
             0.6,
             "#e6f5d0"
            ],
            [
             0.7,
             "#b8e186"
            ],
            [
             0.8,
             "#7fbc41"
            ],
            [
             0.9,
             "#4d9221"
            ],
            [
             1,
             "#276419"
            ]
           ],
           "sequential": [
            [
             0,
             "#0d0887"
            ],
            [
             0.1111111111111111,
             "#46039f"
            ],
            [
             0.2222222222222222,
             "#7201a8"
            ],
            [
             0.3333333333333333,
             "#9c179e"
            ],
            [
             0.4444444444444444,
             "#bd3786"
            ],
            [
             0.5555555555555556,
             "#d8576b"
            ],
            [
             0.6666666666666666,
             "#ed7953"
            ],
            [
             0.7777777777777778,
             "#fb9f3a"
            ],
            [
             0.8888888888888888,
             "#fdca26"
            ],
            [
             1,
             "#f0f921"
            ]
           ],
           "sequentialminus": [
            [
             0,
             "#0d0887"
            ],
            [
             0.1111111111111111,
             "#46039f"
            ],
            [
             0.2222222222222222,
             "#7201a8"
            ],
            [
             0.3333333333333333,
             "#9c179e"
            ],
            [
             0.4444444444444444,
             "#bd3786"
            ],
            [
             0.5555555555555556,
             "#d8576b"
            ],
            [
             0.6666666666666666,
             "#ed7953"
            ],
            [
             0.7777777777777778,
             "#fb9f3a"
            ],
            [
             0.8888888888888888,
             "#fdca26"
            ],
            [
             1,
             "#f0f921"
            ]
           ]
          },
          "colorway": [
           "#636efa",
           "#EF553B",
           "#00cc96",
           "#ab63fa",
           "#FFA15A",
           "#19d3f3",
           "#FF6692",
           "#B6E880",
           "#FF97FF",
           "#FECB52"
          ],
          "font": {
           "color": "#2a3f5f"
          },
          "geo": {
           "bgcolor": "white",
           "lakecolor": "white",
           "landcolor": "#E5ECF6",
           "showlakes": true,
           "showland": true,
           "subunitcolor": "white"
          },
          "hoverlabel": {
           "align": "left"
          },
          "hovermode": "closest",
          "mapbox": {
           "style": "light"
          },
          "paper_bgcolor": "white",
          "plot_bgcolor": "#E5ECF6",
          "polar": {
           "angularaxis": {
            "gridcolor": "white",
            "linecolor": "white",
            "ticks": ""
           },
           "bgcolor": "#E5ECF6",
           "radialaxis": {
            "gridcolor": "white",
            "linecolor": "white",
            "ticks": ""
           }
          },
          "scene": {
           "xaxis": {
            "backgroundcolor": "#E5ECF6",
            "gridcolor": "white",
            "gridwidth": 2,
            "linecolor": "white",
            "showbackground": true,
            "ticks": "",
            "zerolinecolor": "white"
           },
           "yaxis": {
            "backgroundcolor": "#E5ECF6",
            "gridcolor": "white",
            "gridwidth": 2,
            "linecolor": "white",
            "showbackground": true,
            "ticks": "",
            "zerolinecolor": "white"
           },
           "zaxis": {
            "backgroundcolor": "#E5ECF6",
            "gridcolor": "white",
            "gridwidth": 2,
            "linecolor": "white",
            "showbackground": true,
            "ticks": "",
            "zerolinecolor": "white"
           }
          },
          "shapedefaults": {
           "line": {
            "color": "#2a3f5f"
           }
          },
          "ternary": {
           "aaxis": {
            "gridcolor": "white",
            "linecolor": "white",
            "ticks": ""
           },
           "baxis": {
            "gridcolor": "white",
            "linecolor": "white",
            "ticks": ""
           },
           "bgcolor": "#E5ECF6",
           "caxis": {
            "gridcolor": "white",
            "linecolor": "white",
            "ticks": ""
           }
          },
          "title": {
           "x": 0.05
          },
          "xaxis": {
           "automargin": true,
           "gridcolor": "white",
           "linecolor": "white",
           "ticks": "",
           "title": {
            "standoff": 15
           },
           "zerolinecolor": "white",
           "zerolinewidth": 2
          },
          "yaxis": {
           "automargin": true,
           "gridcolor": "white",
           "linecolor": "white",
           "ticks": "",
           "title": {
            "standoff": 15
           },
           "zerolinecolor": "white",
           "zerolinewidth": 2
          }
         }
        },
        "width": 700,
        "xaxis": {
         "anchor": "y",
         "constrain": "domain",
         "domain": [
          0,
          1
         ],
         "scaleanchor": "y"
        },
        "yaxis": {
         "anchor": "x",
         "autorange": "reversed",
         "constrain": "domain",
         "domain": [
          0,
          1
         ]
        }
       }
      }
     },
     "metadata": {},
     "output_type": "display_data"
    }
   ],
   "source": [
    "correlations_recent_subset = data_recent[[\"visitor_recent_foul\", \"home_recent_ft_made\", \"home_recent_3PT_made\", \"home_recent_rebound\",\n",
    "                                            \"visitor_recent_turnover\", \"home_recent_fg_made\", \"visitor_recent_fg_missed\", \"home_recent_points\",\n",
    "                                            \"visitor_recent_timeout\", \"home_recent_TSP\", \"home_rank\", \"visitor_rank\"]].corr()\n",
    "\n",
    "fig = px.imshow(correlations_recent_subset, width=700, height=700)\n",
    "fig.show()                                            "
   ]
  },
  {
   "cell_type": "markdown",
   "metadata": {},
   "source": [
    "## Predictions"
   ]
  },
  {
   "cell_type": "code",
   "execution_count": 115,
   "metadata": {},
   "outputs": [],
   "source": [
    "scaler = MinMaxScaler()\n",
    "label_encoder = LabelEncoder()\n",
    "model = LogisticRegression(solver='saga', max_iter=1000, C=0.11)"
   ]
  },
  {
   "cell_type": "markdown",
   "metadata": {},
   "source": [
    "### Prediction before the game"
   ]
  },
  {
   "cell_type": "code",
   "execution_count": 58,
   "metadata": {},
   "outputs": [
    {
     "data": {
      "text/html": [
       "<div>\n",
       "<style scoped>\n",
       "    .dataframe tbody tr th:only-of-type {\n",
       "        vertical-align: middle;\n",
       "    }\n",
       "\n",
       "    .dataframe tbody tr th {\n",
       "        vertical-align: top;\n",
       "    }\n",
       "\n",
       "    .dataframe thead th {\n",
       "        text-align: right;\n",
       "    }\n",
       "</style>\n",
       "<table border=\"1\" class=\"dataframe\">\n",
       "  <thead>\n",
       "    <tr style=\"text-align: right;\">\n",
       "      <th></th>\n",
       "      <th>home_team_id</th>\n",
       "      <th>visitor_team_id</th>\n",
       "      <th>home_recent_TSP</th>\n",
       "      <th>visitor_recent_TSP</th>\n",
       "      <th>home_recent_timeout</th>\n",
       "      <th>visitor_recent_timeout</th>\n",
       "      <th>home_recent_points</th>\n",
       "      <th>visitor_recent_points</th>\n",
       "      <th>home_rank</th>\n",
       "      <th>visitor_rank</th>\n",
       "      <th>home_win</th>\n",
       "    </tr>\n",
       "  </thead>\n",
       "  <tbody>\n",
       "    <tr>\n",
       "      <th>16815</th>\n",
       "      <td>3</td>\n",
       "      <td>16</td>\n",
       "      <td>0.696852</td>\n",
       "      <td>0.506770</td>\n",
       "      <td>0.50</td>\n",
       "      <td>0.50</td>\n",
       "      <td>0.317073</td>\n",
       "      <td>0.195122</td>\n",
       "      <td>0.652174</td>\n",
       "      <td>0.913043</td>\n",
       "      <td>1</td>\n",
       "    </tr>\n",
       "    <tr>\n",
       "      <th>16816</th>\n",
       "      <td>22</td>\n",
       "      <td>5</td>\n",
       "      <td>0.532789</td>\n",
       "      <td>0.597526</td>\n",
       "      <td>0.25</td>\n",
       "      <td>1.00</td>\n",
       "      <td>0.512195</td>\n",
       "      <td>0.512195</td>\n",
       "      <td>0.000000</td>\n",
       "      <td>0.304348</td>\n",
       "      <td>1</td>\n",
       "    </tr>\n",
       "    <tr>\n",
       "      <th>16817</th>\n",
       "      <td>10</td>\n",
       "      <td>8</td>\n",
       "      <td>0.530567</td>\n",
       "      <td>0.719699</td>\n",
       "      <td>0.50</td>\n",
       "      <td>0.50</td>\n",
       "      <td>0.512195</td>\n",
       "      <td>0.658537</td>\n",
       "      <td>0.826087</td>\n",
       "      <td>0.173913</td>\n",
       "      <td>0</td>\n",
       "    </tr>\n",
       "    <tr>\n",
       "      <th>16818</th>\n",
       "      <td>29</td>\n",
       "      <td>12</td>\n",
       "      <td>0.464036</td>\n",
       "      <td>0.767927</td>\n",
       "      <td>0.50</td>\n",
       "      <td>0.75</td>\n",
       "      <td>0.365854</td>\n",
       "      <td>0.317073</td>\n",
       "      <td>0.434783</td>\n",
       "      <td>1.000000</td>\n",
       "      <td>1</td>\n",
       "    </tr>\n",
       "    <tr>\n",
       "      <th>16819</th>\n",
       "      <td>17</td>\n",
       "      <td>18</td>\n",
       "      <td>0.376304</td>\n",
       "      <td>0.442706</td>\n",
       "      <td>0.75</td>\n",
       "      <td>0.75</td>\n",
       "      <td>0.024390</td>\n",
       "      <td>0.341463</td>\n",
       "      <td>0.130435</td>\n",
       "      <td>0.956522</td>\n",
       "      <td>1</td>\n",
       "    </tr>\n",
       "    <tr>\n",
       "      <th>...</th>\n",
       "      <td>...</td>\n",
       "      <td>...</td>\n",
       "      <td>...</td>\n",
       "      <td>...</td>\n",
       "      <td>...</td>\n",
       "      <td>...</td>\n",
       "      <td>...</td>\n",
       "      <td>...</td>\n",
       "      <td>...</td>\n",
       "      <td>...</td>\n",
       "      <td>...</td>\n",
       "    </tr>\n",
       "    <tr>\n",
       "      <th>22960</th>\n",
       "      <td>12</td>\n",
       "      <td>23</td>\n",
       "      <td>0.593213</td>\n",
       "      <td>0.253085</td>\n",
       "      <td>0.50</td>\n",
       "      <td>0.50</td>\n",
       "      <td>0.853659</td>\n",
       "      <td>0.560976</td>\n",
       "      <td>0.434783</td>\n",
       "      <td>0.304348</td>\n",
       "      <td>0</td>\n",
       "    </tr>\n",
       "    <tr>\n",
       "      <th>22961</th>\n",
       "      <td>22</td>\n",
       "      <td>5</td>\n",
       "      <td>0.581376</td>\n",
       "      <td>0.420659</td>\n",
       "      <td>0.50</td>\n",
       "      <td>0.75</td>\n",
       "      <td>0.609756</td>\n",
       "      <td>0.682927</td>\n",
       "      <td>0.347826</td>\n",
       "      <td>0.869565</td>\n",
       "      <td>1</td>\n",
       "    </tr>\n",
       "    <tr>\n",
       "      <th>22962</th>\n",
       "      <td>6</td>\n",
       "      <td>13</td>\n",
       "      <td>0.294328</td>\n",
       "      <td>0.467019</td>\n",
       "      <td>0.50</td>\n",
       "      <td>0.50</td>\n",
       "      <td>0.439024</td>\n",
       "      <td>0.585366</td>\n",
       "      <td>0.391304</td>\n",
       "      <td>0.347826</td>\n",
       "      <td>1</td>\n",
       "    </tr>\n",
       "    <tr>\n",
       "      <th>22963</th>\n",
       "      <td>9</td>\n",
       "      <td>25</td>\n",
       "      <td>0.824276</td>\n",
       "      <td>0.774478</td>\n",
       "      <td>0.50</td>\n",
       "      <td>0.25</td>\n",
       "      <td>0.756098</td>\n",
       "      <td>0.780488</td>\n",
       "      <td>0.521739</td>\n",
       "      <td>0.304348</td>\n",
       "      <td>1</td>\n",
       "    </tr>\n",
       "    <tr>\n",
       "      <th>22964</th>\n",
       "      <td>20</td>\n",
       "      <td>21</td>\n",
       "      <td>0.551518</td>\n",
       "      <td>0.479344</td>\n",
       "      <td>0.25</td>\n",
       "      <td>0.50</td>\n",
       "      <td>0.731707</td>\n",
       "      <td>0.707317</td>\n",
       "      <td>0.260870</td>\n",
       "      <td>0.782609</td>\n",
       "      <td>1</td>\n",
       "    </tr>\n",
       "  </tbody>\n",
       "</table>\n",
       "<p>6150 rows × 11 columns</p>\n",
       "</div>"
      ],
      "text/plain": [
       "       home_team_id  visitor_team_id  home_recent_TSP  visitor_recent_TSP  \\\n",
       "16815             3               16         0.696852            0.506770   \n",
       "16816            22                5         0.532789            0.597526   \n",
       "16817            10                8         0.530567            0.719699   \n",
       "16818            29               12         0.464036            0.767927   \n",
       "16819            17               18         0.376304            0.442706   \n",
       "...             ...              ...              ...                 ...   \n",
       "22960            12               23         0.593213            0.253085   \n",
       "22961            22                5         0.581376            0.420659   \n",
       "22962             6               13         0.294328            0.467019   \n",
       "22963             9               25         0.824276            0.774478   \n",
       "22964            20               21         0.551518            0.479344   \n",
       "\n",
       "       home_recent_timeout  visitor_recent_timeout  home_recent_points  \\\n",
       "16815                 0.50                    0.50            0.317073   \n",
       "16816                 0.25                    1.00            0.512195   \n",
       "16817                 0.50                    0.50            0.512195   \n",
       "16818                 0.50                    0.75            0.365854   \n",
       "16819                 0.75                    0.75            0.024390   \n",
       "...                    ...                     ...                 ...   \n",
       "22960                 0.50                    0.50            0.853659   \n",
       "22961                 0.50                    0.75            0.609756   \n",
       "22962                 0.50                    0.50            0.439024   \n",
       "22963                 0.50                    0.25            0.756098   \n",
       "22964                 0.25                    0.50            0.731707   \n",
       "\n",
       "       visitor_recent_points  home_rank  visitor_rank  home_win  \n",
       "16815               0.195122   0.652174      0.913043         1  \n",
       "16816               0.512195   0.000000      0.304348         1  \n",
       "16817               0.658537   0.826087      0.173913         0  \n",
       "16818               0.317073   0.434783      1.000000         1  \n",
       "16819               0.341463   0.130435      0.956522         1  \n",
       "...                      ...        ...           ...       ...  \n",
       "22960               0.560976   0.434783      0.304348         0  \n",
       "22961               0.682927   0.347826      0.869565         1  \n",
       "22962               0.585366   0.391304      0.347826         1  \n",
       "22963               0.780488   0.521739      0.304348         1  \n",
       "22964               0.707317   0.260870      0.782609         1  \n",
       "\n",
       "[6150 rows x 11 columns]"
      ]
     },
     "execution_count": 58,
     "metadata": {},
     "output_type": "execute_result"
    }
   ],
   "source": [
    "# last three seasons\n",
    "cols = [\"home_team_id\", \"visitor_team_id\", \"home_recent_TSP\", \"visitor_recent_TSP\", \"home_recent_timeout\", \"visitor_recent_timeout\",\n",
    "        \"home_recent_points\", \"visitor_recent_points\", \"home_rank\", \"visitor_rank\", \"home_win\"]\n",
    "\n",
    "to_normalize = [\"home_recent_TSP\", \"home_recent_timeout\", \"visitor_recent_TSP\", \"visitor_recent_timeout\", \"home_recent_points\", \"visitor_recent_points\", \"home_rank\", \"visitor_rank\"]\n",
    "\n",
    "data = game_data_recent[game_data_recent[\"season_name\"] >= 2014][cols].copy()\n",
    "\n",
    "data[\"home_team_id\"] = label_encoder.fit_transform(game_data_recent[game_data_recent[\"season_name\"] >= 2014][\"home_team_id\"])\n",
    "data[\"visitor_team_id\"] = label_encoder.fit_transform(game_data_recent[game_data_recent[\"season_name\"] >= 2014][\"visitor_team_id\"])\n",
    "data[to_normalize] = scaler.fit_transform(data[to_normalize])\n",
    "data"
   ]
  },
  {
   "cell_type": "code",
   "execution_count": 133,
   "metadata": {},
   "outputs": [
    {
     "data": {
      "text/html": [
       "<div>\n",
       "<style scoped>\n",
       "    .dataframe tbody tr th:only-of-type {\n",
       "        vertical-align: middle;\n",
       "    }\n",
       "\n",
       "    .dataframe tbody tr th {\n",
       "        vertical-align: top;\n",
       "    }\n",
       "\n",
       "    .dataframe thead th {\n",
       "        text-align: right;\n",
       "    }\n",
       "</style>\n",
       "<table border=\"1\" class=\"dataframe\">\n",
       "  <thead>\n",
       "    <tr style=\"text-align: right;\">\n",
       "      <th></th>\n",
       "      <th>home_recent_points</th>\n",
       "      <th>home_recent_timeout</th>\n",
       "      <th>home_recent_TSP</th>\n",
       "      <th>home_recent_fg_made</th>\n",
       "      <th>home_recent_fg_missed</th>\n",
       "      <th>home_recent_3PT_made</th>\n",
       "      <th>home_recent_3PT_missed</th>\n",
       "      <th>home_recent_ft_made</th>\n",
       "      <th>home_recent_ft_missed</th>\n",
       "      <th>home_recent_players_deployed</th>\n",
       "      <th>home_recent_rebound</th>\n",
       "      <th>home_recent_turnover</th>\n",
       "      <th>home_recent_foul</th>\n",
       "      <th>visitor_recent_home_game_ratio</th>\n",
       "      <th>visitor_recent_win_ratio</th>\n",
       "      <th>visitor_recent_points</th>\n",
       "      <th>visitor_recent_timeout</th>\n",
       "      <th>visitor_recent_TSP</th>\n",
       "      <th>visitor_recent_fg_made</th>\n",
       "      <th>visitor_recent_fg_missed</th>\n",
       "      <th>visitor_recent_3PT_made</th>\n",
       "      <th>visitor_recent_3PT_missed</th>\n",
       "      <th>visitor_recent_ft_made</th>\n",
       "      <th>visitor_recent_ft_missed</th>\n",
       "      <th>visitor_recent_players_deployed</th>\n",
       "      <th>visitor_recent_rebound</th>\n",
       "      <th>visitor_recent_turnover</th>\n",
       "      <th>visitor_recent_foul</th>\n",
       "      <th>home_rank</th>\n",
       "      <th>visitor_rank</th>\n",
       "      <th>home_team_id</th>\n",
       "      <th>visitor_team_id</th>\n",
       "      <th>home_win</th>\n",
       "    </tr>\n",
       "  </thead>\n",
       "  <tbody>\n",
       "    <tr>\n",
       "      <th>1189</th>\n",
       "      <td>0.411765</td>\n",
       "      <td>0.6</td>\n",
       "      <td>0.614958</td>\n",
       "      <td>0.368421</td>\n",
       "      <td>0.428571</td>\n",
       "      <td>0.117647</td>\n",
       "      <td>0.035714</td>\n",
       "      <td>0.722222</td>\n",
       "      <td>0.333333</td>\n",
       "      <td>0.6</td>\n",
       "      <td>0.444444</td>\n",
       "      <td>0.583333</td>\n",
       "      <td>0.533333</td>\n",
       "      <td>0.0</td>\n",
       "      <td>0.0</td>\n",
       "      <td>0.431373</td>\n",
       "      <td>0.4</td>\n",
       "      <td>0.413002</td>\n",
       "      <td>0.30</td>\n",
       "      <td>0.476190</td>\n",
       "      <td>0.411765</td>\n",
       "      <td>0.392857</td>\n",
       "      <td>0.555556</td>\n",
       "      <td>0.5</td>\n",
       "      <td>0.6</td>\n",
       "      <td>0.315789</td>\n",
       "      <td>0.461538</td>\n",
       "      <td>0.600000</td>\n",
       "      <td>0.692308</td>\n",
       "      <td>0.576923</td>\n",
       "      <td>2</td>\n",
       "      <td>1</td>\n",
       "      <td>0</td>\n",
       "    </tr>\n",
       "    <tr>\n",
       "      <th>1190</th>\n",
       "      <td>0.254902</td>\n",
       "      <td>0.6</td>\n",
       "      <td>0.421491</td>\n",
       "      <td>0.368421</td>\n",
       "      <td>0.333333</td>\n",
       "      <td>0.176471</td>\n",
       "      <td>0.142857</td>\n",
       "      <td>0.333333</td>\n",
       "      <td>0.222222</td>\n",
       "      <td>0.4</td>\n",
       "      <td>0.388889</td>\n",
       "      <td>0.500000</td>\n",
       "      <td>0.600000</td>\n",
       "      <td>0.0</td>\n",
       "      <td>0.0</td>\n",
       "      <td>0.411765</td>\n",
       "      <td>0.6</td>\n",
       "      <td>0.729988</td>\n",
       "      <td>0.40</td>\n",
       "      <td>0.238095</td>\n",
       "      <td>0.058824</td>\n",
       "      <td>0.000000</td>\n",
       "      <td>0.722222</td>\n",
       "      <td>0.6</td>\n",
       "      <td>0.4</td>\n",
       "      <td>0.315789</td>\n",
       "      <td>0.692308</td>\n",
       "      <td>0.400000</td>\n",
       "      <td>0.269231</td>\n",
       "      <td>0.846154</td>\n",
       "      <td>15</td>\n",
       "      <td>27</td>\n",
       "      <td>1</td>\n",
       "    </tr>\n",
       "    <tr>\n",
       "      <th>1191</th>\n",
       "      <td>0.294118</td>\n",
       "      <td>0.4</td>\n",
       "      <td>0.367045</td>\n",
       "      <td>0.315789</td>\n",
       "      <td>0.571429</td>\n",
       "      <td>0.117647</td>\n",
       "      <td>0.178571</td>\n",
       "      <td>0.500000</td>\n",
       "      <td>0.222222</td>\n",
       "      <td>0.4</td>\n",
       "      <td>0.333333</td>\n",
       "      <td>0.583333</td>\n",
       "      <td>0.533333</td>\n",
       "      <td>0.0</td>\n",
       "      <td>0.0</td>\n",
       "      <td>0.431373</td>\n",
       "      <td>0.4</td>\n",
       "      <td>0.521625</td>\n",
       "      <td>0.45</td>\n",
       "      <td>0.428571</td>\n",
       "      <td>0.176471</td>\n",
       "      <td>0.142857</td>\n",
       "      <td>0.555556</td>\n",
       "      <td>0.4</td>\n",
       "      <td>0.6</td>\n",
       "      <td>0.526316</td>\n",
       "      <td>0.538462</td>\n",
       "      <td>0.600000</td>\n",
       "      <td>0.730769</td>\n",
       "      <td>0.500000</td>\n",
       "      <td>14</td>\n",
       "      <td>17</td>\n",
       "      <td>1</td>\n",
       "    </tr>\n",
       "    <tr>\n",
       "      <th>1192</th>\n",
       "      <td>0.372549</td>\n",
       "      <td>0.4</td>\n",
       "      <td>0.416921</td>\n",
       "      <td>0.421053</td>\n",
       "      <td>0.428571</td>\n",
       "      <td>0.294118</td>\n",
       "      <td>0.214286</td>\n",
       "      <td>0.333333</td>\n",
       "      <td>0.444444</td>\n",
       "      <td>0.6</td>\n",
       "      <td>0.277778</td>\n",
       "      <td>0.500000</td>\n",
       "      <td>0.666667</td>\n",
       "      <td>0.0</td>\n",
       "      <td>0.0</td>\n",
       "      <td>0.450980</td>\n",
       "      <td>0.4</td>\n",
       "      <td>0.363993</td>\n",
       "      <td>0.50</td>\n",
       "      <td>0.571429</td>\n",
       "      <td>0.235294</td>\n",
       "      <td>0.178571</td>\n",
       "      <td>0.333333</td>\n",
       "      <td>0.4</td>\n",
       "      <td>0.4</td>\n",
       "      <td>0.473684</td>\n",
       "      <td>0.384615</td>\n",
       "      <td>0.400000</td>\n",
       "      <td>0.461538</td>\n",
       "      <td>0.307692</td>\n",
       "      <td>16</td>\n",
       "      <td>24</td>\n",
       "      <td>1</td>\n",
       "    </tr>\n",
       "    <tr>\n",
       "      <th>1193</th>\n",
       "      <td>0.450980</td>\n",
       "      <td>0.4</td>\n",
       "      <td>0.524950</td>\n",
       "      <td>0.578947</td>\n",
       "      <td>0.476190</td>\n",
       "      <td>0.117647</td>\n",
       "      <td>0.035714</td>\n",
       "      <td>0.388889</td>\n",
       "      <td>0.333333</td>\n",
       "      <td>0.6</td>\n",
       "      <td>0.444444</td>\n",
       "      <td>0.333333</td>\n",
       "      <td>0.666667</td>\n",
       "      <td>0.0</td>\n",
       "      <td>0.0</td>\n",
       "      <td>0.274510</td>\n",
       "      <td>0.4</td>\n",
       "      <td>0.317161</td>\n",
       "      <td>0.30</td>\n",
       "      <td>0.619048</td>\n",
       "      <td>0.058824</td>\n",
       "      <td>0.071429</td>\n",
       "      <td>0.500000</td>\n",
       "      <td>0.5</td>\n",
       "      <td>0.6</td>\n",
       "      <td>0.684211</td>\n",
       "      <td>0.461538</td>\n",
       "      <td>0.400000</td>\n",
       "      <td>0.307692</td>\n",
       "      <td>0.038462</td>\n",
       "      <td>13</td>\n",
       "      <td>18</td>\n",
       "      <td>1</td>\n",
       "    </tr>\n",
       "    <tr>\n",
       "      <th>...</th>\n",
       "      <td>...</td>\n",
       "      <td>...</td>\n",
       "      <td>...</td>\n",
       "      <td>...</td>\n",
       "      <td>...</td>\n",
       "      <td>...</td>\n",
       "      <td>...</td>\n",
       "      <td>...</td>\n",
       "      <td>...</td>\n",
       "      <td>...</td>\n",
       "      <td>...</td>\n",
       "      <td>...</td>\n",
       "      <td>...</td>\n",
       "      <td>...</td>\n",
       "      <td>...</td>\n",
       "      <td>...</td>\n",
       "      <td>...</td>\n",
       "      <td>...</td>\n",
       "      <td>...</td>\n",
       "      <td>...</td>\n",
       "      <td>...</td>\n",
       "      <td>...</td>\n",
       "      <td>...</td>\n",
       "      <td>...</td>\n",
       "      <td>...</td>\n",
       "      <td>...</td>\n",
       "      <td>...</td>\n",
       "      <td>...</td>\n",
       "      <td>...</td>\n",
       "      <td>...</td>\n",
       "      <td>...</td>\n",
       "      <td>...</td>\n",
       "      <td>...</td>\n",
       "    </tr>\n",
       "    <tr>\n",
       "      <th>22960</th>\n",
       "      <td>0.882353</td>\n",
       "      <td>0.4</td>\n",
       "      <td>0.502180</td>\n",
       "      <td>0.789474</td>\n",
       "      <td>0.619048</td>\n",
       "      <td>0.705882</td>\n",
       "      <td>0.714286</td>\n",
       "      <td>0.555556</td>\n",
       "      <td>0.333333</td>\n",
       "      <td>0.6</td>\n",
       "      <td>0.944444</td>\n",
       "      <td>0.333333</td>\n",
       "      <td>0.333333</td>\n",
       "      <td>0.0</td>\n",
       "      <td>0.0</td>\n",
       "      <td>0.647059</td>\n",
       "      <td>0.4</td>\n",
       "      <td>0.210333</td>\n",
       "      <td>0.60</td>\n",
       "      <td>0.809524</td>\n",
       "      <td>0.647059</td>\n",
       "      <td>0.678571</td>\n",
       "      <td>0.333333</td>\n",
       "      <td>0.5</td>\n",
       "      <td>0.6</td>\n",
       "      <td>0.736842</td>\n",
       "      <td>0.461538</td>\n",
       "      <td>0.466667</td>\n",
       "      <td>0.384615</td>\n",
       "      <td>0.269231</td>\n",
       "      <td>12</td>\n",
       "      <td>23</td>\n",
       "      <td>0</td>\n",
       "    </tr>\n",
       "    <tr>\n",
       "      <th>22961</th>\n",
       "      <td>0.686275</td>\n",
       "      <td>0.4</td>\n",
       "      <td>0.492815</td>\n",
       "      <td>0.789474</td>\n",
       "      <td>0.476190</td>\n",
       "      <td>0.470588</td>\n",
       "      <td>0.428571</td>\n",
       "      <td>0.333333</td>\n",
       "      <td>0.111111</td>\n",
       "      <td>0.6</td>\n",
       "      <td>0.555556</td>\n",
       "      <td>0.166667</td>\n",
       "      <td>0.200000</td>\n",
       "      <td>0.0</td>\n",
       "      <td>0.0</td>\n",
       "      <td>0.745098</td>\n",
       "      <td>0.6</td>\n",
       "      <td>0.345632</td>\n",
       "      <td>0.65</td>\n",
       "      <td>0.666667</td>\n",
       "      <td>0.705882</td>\n",
       "      <td>0.785714</td>\n",
       "      <td>0.500000</td>\n",
       "      <td>0.4</td>\n",
       "      <td>0.8</td>\n",
       "      <td>0.684211</td>\n",
       "      <td>0.230769</td>\n",
       "      <td>0.466667</td>\n",
       "      <td>0.307692</td>\n",
       "      <td>0.769231</td>\n",
       "      <td>22</td>\n",
       "      <td>5</td>\n",
       "      <td>1</td>\n",
       "    </tr>\n",
       "    <tr>\n",
       "      <th>22962</th>\n",
       "      <td>0.549020</td>\n",
       "      <td>0.4</td>\n",
       "      <td>0.265723</td>\n",
       "      <td>0.631579</td>\n",
       "      <td>0.619048</td>\n",
       "      <td>0.529412</td>\n",
       "      <td>0.607143</td>\n",
       "      <td>0.222222</td>\n",
       "      <td>0.222222</td>\n",
       "      <td>0.6</td>\n",
       "      <td>0.555556</td>\n",
       "      <td>0.250000</td>\n",
       "      <td>0.400000</td>\n",
       "      <td>0.0</td>\n",
       "      <td>0.0</td>\n",
       "      <td>0.666667</td>\n",
       "      <td>0.4</td>\n",
       "      <td>0.383063</td>\n",
       "      <td>0.65</td>\n",
       "      <td>0.619048</td>\n",
       "      <td>0.529412</td>\n",
       "      <td>0.535714</td>\n",
       "      <td>0.444444</td>\n",
       "      <td>0.4</td>\n",
       "      <td>0.6</td>\n",
       "      <td>0.473684</td>\n",
       "      <td>0.384615</td>\n",
       "      <td>0.333333</td>\n",
       "      <td>0.346154</td>\n",
       "      <td>0.307692</td>\n",
       "      <td>6</td>\n",
       "      <td>13</td>\n",
       "      <td>1</td>\n",
       "    </tr>\n",
       "    <tr>\n",
       "      <th>22963</th>\n",
       "      <td>0.803922</td>\n",
       "      <td>0.4</td>\n",
       "      <td>0.684981</td>\n",
       "      <td>0.736842</td>\n",
       "      <td>0.476190</td>\n",
       "      <td>0.588235</td>\n",
       "      <td>0.428571</td>\n",
       "      <td>0.722222</td>\n",
       "      <td>0.444444</td>\n",
       "      <td>0.8</td>\n",
       "      <td>0.611111</td>\n",
       "      <td>0.416667</td>\n",
       "      <td>0.600000</td>\n",
       "      <td>0.0</td>\n",
       "      <td>0.0</td>\n",
       "      <td>0.823529</td>\n",
       "      <td>0.2</td>\n",
       "      <td>0.631306</td>\n",
       "      <td>0.75</td>\n",
       "      <td>0.333333</td>\n",
       "      <td>0.705882</td>\n",
       "      <td>0.571429</td>\n",
       "      <td>0.500000</td>\n",
       "      <td>0.5</td>\n",
       "      <td>0.8</td>\n",
       "      <td>0.736842</td>\n",
       "      <td>0.538462</td>\n",
       "      <td>0.466667</td>\n",
       "      <td>0.461538</td>\n",
       "      <td>0.269231</td>\n",
       "      <td>9</td>\n",
       "      <td>25</td>\n",
       "      <td>1</td>\n",
       "    </tr>\n",
       "    <tr>\n",
       "      <th>22964</th>\n",
       "      <td>0.784314</td>\n",
       "      <td>0.2</td>\n",
       "      <td>0.469194</td>\n",
       "      <td>0.789474</td>\n",
       "      <td>0.666667</td>\n",
       "      <td>0.529412</td>\n",
       "      <td>0.571429</td>\n",
       "      <td>0.500000</td>\n",
       "      <td>0.222222</td>\n",
       "      <td>0.6</td>\n",
       "      <td>0.833333</td>\n",
       "      <td>0.333333</td>\n",
       "      <td>0.266667</td>\n",
       "      <td>0.0</td>\n",
       "      <td>0.0</td>\n",
       "      <td>0.764706</td>\n",
       "      <td>0.4</td>\n",
       "      <td>0.393014</td>\n",
       "      <td>0.80</td>\n",
       "      <td>0.714286</td>\n",
       "      <td>0.588235</td>\n",
       "      <td>0.464286</td>\n",
       "      <td>0.333333</td>\n",
       "      <td>0.4</td>\n",
       "      <td>0.6</td>\n",
       "      <td>0.684211</td>\n",
       "      <td>0.307692</td>\n",
       "      <td>0.333333</td>\n",
       "      <td>0.230769</td>\n",
       "      <td>0.692308</td>\n",
       "      <td>20</td>\n",
       "      <td>21</td>\n",
       "      <td>1</td>\n",
       "    </tr>\n",
       "  </tbody>\n",
       "</table>\n",
       "<p>21452 rows × 33 columns</p>\n",
       "</div>"
      ],
      "text/plain": [
       "       home_recent_points  home_recent_timeout  home_recent_TSP  \\\n",
       "1189             0.411765                  0.6         0.614958   \n",
       "1190             0.254902                  0.6         0.421491   \n",
       "1191             0.294118                  0.4         0.367045   \n",
       "1192             0.372549                  0.4         0.416921   \n",
       "1193             0.450980                  0.4         0.524950   \n",
       "...                   ...                  ...              ...   \n",
       "22960            0.882353                  0.4         0.502180   \n",
       "22961            0.686275                  0.4         0.492815   \n",
       "22962            0.549020                  0.4         0.265723   \n",
       "22963            0.803922                  0.4         0.684981   \n",
       "22964            0.784314                  0.2         0.469194   \n",
       "\n",
       "       home_recent_fg_made  home_recent_fg_missed  home_recent_3PT_made  \\\n",
       "1189              0.368421               0.428571              0.117647   \n",
       "1190              0.368421               0.333333              0.176471   \n",
       "1191              0.315789               0.571429              0.117647   \n",
       "1192              0.421053               0.428571              0.294118   \n",
       "1193              0.578947               0.476190              0.117647   \n",
       "...                    ...                    ...                   ...   \n",
       "22960             0.789474               0.619048              0.705882   \n",
       "22961             0.789474               0.476190              0.470588   \n",
       "22962             0.631579               0.619048              0.529412   \n",
       "22963             0.736842               0.476190              0.588235   \n",
       "22964             0.789474               0.666667              0.529412   \n",
       "\n",
       "       home_recent_3PT_missed  home_recent_ft_made  home_recent_ft_missed  \\\n",
       "1189                 0.035714             0.722222               0.333333   \n",
       "1190                 0.142857             0.333333               0.222222   \n",
       "1191                 0.178571             0.500000               0.222222   \n",
       "1192                 0.214286             0.333333               0.444444   \n",
       "1193                 0.035714             0.388889               0.333333   \n",
       "...                       ...                  ...                    ...   \n",
       "22960                0.714286             0.555556               0.333333   \n",
       "22961                0.428571             0.333333               0.111111   \n",
       "22962                0.607143             0.222222               0.222222   \n",
       "22963                0.428571             0.722222               0.444444   \n",
       "22964                0.571429             0.500000               0.222222   \n",
       "\n",
       "       home_recent_players_deployed  home_recent_rebound  \\\n",
       "1189                            0.6             0.444444   \n",
       "1190                            0.4             0.388889   \n",
       "1191                            0.4             0.333333   \n",
       "1192                            0.6             0.277778   \n",
       "1193                            0.6             0.444444   \n",
       "...                             ...                  ...   \n",
       "22960                           0.6             0.944444   \n",
       "22961                           0.6             0.555556   \n",
       "22962                           0.6             0.555556   \n",
       "22963                           0.8             0.611111   \n",
       "22964                           0.6             0.833333   \n",
       "\n",
       "       home_recent_turnover  home_recent_foul  visitor_recent_home_game_ratio  \\\n",
       "1189               0.583333          0.533333                             0.0   \n",
       "1190               0.500000          0.600000                             0.0   \n",
       "1191               0.583333          0.533333                             0.0   \n",
       "1192               0.500000          0.666667                             0.0   \n",
       "1193               0.333333          0.666667                             0.0   \n",
       "...                     ...               ...                             ...   \n",
       "22960              0.333333          0.333333                             0.0   \n",
       "22961              0.166667          0.200000                             0.0   \n",
       "22962              0.250000          0.400000                             0.0   \n",
       "22963              0.416667          0.600000                             0.0   \n",
       "22964              0.333333          0.266667                             0.0   \n",
       "\n",
       "       visitor_recent_win_ratio  visitor_recent_points  \\\n",
       "1189                        0.0               0.431373   \n",
       "1190                        0.0               0.411765   \n",
       "1191                        0.0               0.431373   \n",
       "1192                        0.0               0.450980   \n",
       "1193                        0.0               0.274510   \n",
       "...                         ...                    ...   \n",
       "22960                       0.0               0.647059   \n",
       "22961                       0.0               0.745098   \n",
       "22962                       0.0               0.666667   \n",
       "22963                       0.0               0.823529   \n",
       "22964                       0.0               0.764706   \n",
       "\n",
       "       visitor_recent_timeout  visitor_recent_TSP  visitor_recent_fg_made  \\\n",
       "1189                      0.4            0.413002                    0.30   \n",
       "1190                      0.6            0.729988                    0.40   \n",
       "1191                      0.4            0.521625                    0.45   \n",
       "1192                      0.4            0.363993                    0.50   \n",
       "1193                      0.4            0.317161                    0.30   \n",
       "...                       ...                 ...                     ...   \n",
       "22960                     0.4            0.210333                    0.60   \n",
       "22961                     0.6            0.345632                    0.65   \n",
       "22962                     0.4            0.383063                    0.65   \n",
       "22963                     0.2            0.631306                    0.75   \n",
       "22964                     0.4            0.393014                    0.80   \n",
       "\n",
       "       visitor_recent_fg_missed  visitor_recent_3PT_made  \\\n",
       "1189                   0.476190                 0.411765   \n",
       "1190                   0.238095                 0.058824   \n",
       "1191                   0.428571                 0.176471   \n",
       "1192                   0.571429                 0.235294   \n",
       "1193                   0.619048                 0.058824   \n",
       "...                         ...                      ...   \n",
       "22960                  0.809524                 0.647059   \n",
       "22961                  0.666667                 0.705882   \n",
       "22962                  0.619048                 0.529412   \n",
       "22963                  0.333333                 0.705882   \n",
       "22964                  0.714286                 0.588235   \n",
       "\n",
       "       visitor_recent_3PT_missed  visitor_recent_ft_made  \\\n",
       "1189                    0.392857                0.555556   \n",
       "1190                    0.000000                0.722222   \n",
       "1191                    0.142857                0.555556   \n",
       "1192                    0.178571                0.333333   \n",
       "1193                    0.071429                0.500000   \n",
       "...                          ...                     ...   \n",
       "22960                   0.678571                0.333333   \n",
       "22961                   0.785714                0.500000   \n",
       "22962                   0.535714                0.444444   \n",
       "22963                   0.571429                0.500000   \n",
       "22964                   0.464286                0.333333   \n",
       "\n",
       "       visitor_recent_ft_missed  visitor_recent_players_deployed  \\\n",
       "1189                        0.5                              0.6   \n",
       "1190                        0.6                              0.4   \n",
       "1191                        0.4                              0.6   \n",
       "1192                        0.4                              0.4   \n",
       "1193                        0.5                              0.6   \n",
       "...                         ...                              ...   \n",
       "22960                       0.5                              0.6   \n",
       "22961                       0.4                              0.8   \n",
       "22962                       0.4                              0.6   \n",
       "22963                       0.5                              0.8   \n",
       "22964                       0.4                              0.6   \n",
       "\n",
       "       visitor_recent_rebound  visitor_recent_turnover  visitor_recent_foul  \\\n",
       "1189                 0.315789                 0.461538             0.600000   \n",
       "1190                 0.315789                 0.692308             0.400000   \n",
       "1191                 0.526316                 0.538462             0.600000   \n",
       "1192                 0.473684                 0.384615             0.400000   \n",
       "1193                 0.684211                 0.461538             0.400000   \n",
       "...                       ...                      ...                  ...   \n",
       "22960                0.736842                 0.461538             0.466667   \n",
       "22961                0.684211                 0.230769             0.466667   \n",
       "22962                0.473684                 0.384615             0.333333   \n",
       "22963                0.736842                 0.538462             0.466667   \n",
       "22964                0.684211                 0.307692             0.333333   \n",
       "\n",
       "       home_rank  visitor_rank  home_team_id  visitor_team_id  home_win  \n",
       "1189    0.692308      0.576923             2                1         0  \n",
       "1190    0.269231      0.846154            15               27         1  \n",
       "1191    0.730769      0.500000            14               17         1  \n",
       "1192    0.461538      0.307692            16               24         1  \n",
       "1193    0.307692      0.038462            13               18         1  \n",
       "...          ...           ...           ...              ...       ...  \n",
       "22960   0.384615      0.269231            12               23         0  \n",
       "22961   0.307692      0.769231            22                5         1  \n",
       "22962   0.346154      0.307692             6               13         1  \n",
       "22963   0.461538      0.269231             9               25         1  \n",
       "22964   0.230769      0.692308            20               21         1  \n",
       "\n",
       "[21452 rows x 33 columns]"
      ]
     },
     "execution_count": 133,
     "metadata": {},
     "output_type": "execute_result"
    }
   ],
   "source": [
    "# all seasons - all features\n",
    "data = game_data_recent.loc[:,\"home_recent_points\":\"visitor_rank\"].copy()\n",
    "data[\"home_team_id\"] = label_encoder.fit_transform(game_data_recent[\"home_team_id\"])\n",
    "data[\"visitor_team_id\"] = label_encoder.fit_transform(game_data_recent[\"visitor_team_id\"])\n",
    "data[\"home_win\"] = game_data_recent[\"home_win\"]\n",
    "data.loc[:,\"home_recent_points\":\"visitor_rank\"] = scaler.fit_transform(data.loc[:,\"home_recent_points\":\"visitor_rank\"])\n",
    "data"
   ]
  },
  {
   "cell_type": "code",
   "execution_count": 116,
   "metadata": {},
   "outputs": [
    {
     "data": {
      "text/html": [
       "<div>\n",
       "<style scoped>\n",
       "    .dataframe tbody tr th:only-of-type {\n",
       "        vertical-align: middle;\n",
       "    }\n",
       "\n",
       "    .dataframe tbody tr th {\n",
       "        vertical-align: top;\n",
       "    }\n",
       "\n",
       "    .dataframe thead th {\n",
       "        text-align: right;\n",
       "    }\n",
       "</style>\n",
       "<table border=\"1\" class=\"dataframe\">\n",
       "  <thead>\n",
       "    <tr style=\"text-align: right;\">\n",
       "      <th></th>\n",
       "      <th>home_team_id</th>\n",
       "      <th>visitor_team_id</th>\n",
       "      <th>home_recent_TSP</th>\n",
       "      <th>visitor_recent_TSP</th>\n",
       "      <th>home_recent_timeout</th>\n",
       "      <th>visitor_recent_timeout</th>\n",
       "      <th>home_recent_points</th>\n",
       "      <th>visitor_recent_points</th>\n",
       "      <th>home_rank</th>\n",
       "      <th>visitor_rank</th>\n",
       "      <th>home_win</th>\n",
       "    </tr>\n",
       "  </thead>\n",
       "  <tbody>\n",
       "    <tr>\n",
       "      <th>1189</th>\n",
       "      <td>2</td>\n",
       "      <td>1</td>\n",
       "      <td>0.614958</td>\n",
       "      <td>0.413002</td>\n",
       "      <td>0.6</td>\n",
       "      <td>0.4</td>\n",
       "      <td>0.411765</td>\n",
       "      <td>0.431373</td>\n",
       "      <td>0.692308</td>\n",
       "      <td>0.576923</td>\n",
       "      <td>0</td>\n",
       "    </tr>\n",
       "    <tr>\n",
       "      <th>1190</th>\n",
       "      <td>15</td>\n",
       "      <td>27</td>\n",
       "      <td>0.421491</td>\n",
       "      <td>0.729988</td>\n",
       "      <td>0.6</td>\n",
       "      <td>0.6</td>\n",
       "      <td>0.254902</td>\n",
       "      <td>0.411765</td>\n",
       "      <td>0.269231</td>\n",
       "      <td>0.846154</td>\n",
       "      <td>1</td>\n",
       "    </tr>\n",
       "    <tr>\n",
       "      <th>1191</th>\n",
       "      <td>14</td>\n",
       "      <td>17</td>\n",
       "      <td>0.367045</td>\n",
       "      <td>0.521625</td>\n",
       "      <td>0.4</td>\n",
       "      <td>0.4</td>\n",
       "      <td>0.294118</td>\n",
       "      <td>0.431373</td>\n",
       "      <td>0.730769</td>\n",
       "      <td>0.500000</td>\n",
       "      <td>1</td>\n",
       "    </tr>\n",
       "    <tr>\n",
       "      <th>1192</th>\n",
       "      <td>16</td>\n",
       "      <td>24</td>\n",
       "      <td>0.416921</td>\n",
       "      <td>0.363993</td>\n",
       "      <td>0.4</td>\n",
       "      <td>0.4</td>\n",
       "      <td>0.372549</td>\n",
       "      <td>0.450980</td>\n",
       "      <td>0.461538</td>\n",
       "      <td>0.307692</td>\n",
       "      <td>1</td>\n",
       "    </tr>\n",
       "    <tr>\n",
       "      <th>1193</th>\n",
       "      <td>13</td>\n",
       "      <td>18</td>\n",
       "      <td>0.524950</td>\n",
       "      <td>0.317161</td>\n",
       "      <td>0.4</td>\n",
       "      <td>0.4</td>\n",
       "      <td>0.450980</td>\n",
       "      <td>0.274510</td>\n",
       "      <td>0.307692</td>\n",
       "      <td>0.038462</td>\n",
       "      <td>1</td>\n",
       "    </tr>\n",
       "    <tr>\n",
       "      <th>...</th>\n",
       "      <td>...</td>\n",
       "      <td>...</td>\n",
       "      <td>...</td>\n",
       "      <td>...</td>\n",
       "      <td>...</td>\n",
       "      <td>...</td>\n",
       "      <td>...</td>\n",
       "      <td>...</td>\n",
       "      <td>...</td>\n",
       "      <td>...</td>\n",
       "      <td>...</td>\n",
       "    </tr>\n",
       "    <tr>\n",
       "      <th>22960</th>\n",
       "      <td>12</td>\n",
       "      <td>23</td>\n",
       "      <td>0.502180</td>\n",
       "      <td>0.210333</td>\n",
       "      <td>0.4</td>\n",
       "      <td>0.4</td>\n",
       "      <td>0.882353</td>\n",
       "      <td>0.647059</td>\n",
       "      <td>0.384615</td>\n",
       "      <td>0.269231</td>\n",
       "      <td>0</td>\n",
       "    </tr>\n",
       "    <tr>\n",
       "      <th>22961</th>\n",
       "      <td>22</td>\n",
       "      <td>5</td>\n",
       "      <td>0.492815</td>\n",
       "      <td>0.345632</td>\n",
       "      <td>0.4</td>\n",
       "      <td>0.6</td>\n",
       "      <td>0.686275</td>\n",
       "      <td>0.745098</td>\n",
       "      <td>0.307692</td>\n",
       "      <td>0.769231</td>\n",
       "      <td>1</td>\n",
       "    </tr>\n",
       "    <tr>\n",
       "      <th>22962</th>\n",
       "      <td>6</td>\n",
       "      <td>13</td>\n",
       "      <td>0.265723</td>\n",
       "      <td>0.383063</td>\n",
       "      <td>0.4</td>\n",
       "      <td>0.4</td>\n",
       "      <td>0.549020</td>\n",
       "      <td>0.666667</td>\n",
       "      <td>0.346154</td>\n",
       "      <td>0.307692</td>\n",
       "      <td>1</td>\n",
       "    </tr>\n",
       "    <tr>\n",
       "      <th>22963</th>\n",
       "      <td>9</td>\n",
       "      <td>25</td>\n",
       "      <td>0.684981</td>\n",
       "      <td>0.631306</td>\n",
       "      <td>0.4</td>\n",
       "      <td>0.2</td>\n",
       "      <td>0.803922</td>\n",
       "      <td>0.823529</td>\n",
       "      <td>0.461538</td>\n",
       "      <td>0.269231</td>\n",
       "      <td>1</td>\n",
       "    </tr>\n",
       "    <tr>\n",
       "      <th>22964</th>\n",
       "      <td>20</td>\n",
       "      <td>21</td>\n",
       "      <td>0.469194</td>\n",
       "      <td>0.393014</td>\n",
       "      <td>0.2</td>\n",
       "      <td>0.4</td>\n",
       "      <td>0.784314</td>\n",
       "      <td>0.764706</td>\n",
       "      <td>0.230769</td>\n",
       "      <td>0.692308</td>\n",
       "      <td>1</td>\n",
       "    </tr>\n",
       "  </tbody>\n",
       "</table>\n",
       "<p>21452 rows × 11 columns</p>\n",
       "</div>"
      ],
      "text/plain": [
       "       home_team_id  visitor_team_id  home_recent_TSP  visitor_recent_TSP  \\\n",
       "1189              2                1         0.614958            0.413002   \n",
       "1190             15               27         0.421491            0.729988   \n",
       "1191             14               17         0.367045            0.521625   \n",
       "1192             16               24         0.416921            0.363993   \n",
       "1193             13               18         0.524950            0.317161   \n",
       "...             ...              ...              ...                 ...   \n",
       "22960            12               23         0.502180            0.210333   \n",
       "22961            22                5         0.492815            0.345632   \n",
       "22962             6               13         0.265723            0.383063   \n",
       "22963             9               25         0.684981            0.631306   \n",
       "22964            20               21         0.469194            0.393014   \n",
       "\n",
       "       home_recent_timeout  visitor_recent_timeout  home_recent_points  \\\n",
       "1189                   0.6                     0.4            0.411765   \n",
       "1190                   0.6                     0.6            0.254902   \n",
       "1191                   0.4                     0.4            0.294118   \n",
       "1192                   0.4                     0.4            0.372549   \n",
       "1193                   0.4                     0.4            0.450980   \n",
       "...                    ...                     ...                 ...   \n",
       "22960                  0.4                     0.4            0.882353   \n",
       "22961                  0.4                     0.6            0.686275   \n",
       "22962                  0.4                     0.4            0.549020   \n",
       "22963                  0.4                     0.2            0.803922   \n",
       "22964                  0.2                     0.4            0.784314   \n",
       "\n",
       "       visitor_recent_points  home_rank  visitor_rank  home_win  \n",
       "1189                0.431373   0.692308      0.576923         0  \n",
       "1190                0.411765   0.269231      0.846154         1  \n",
       "1191                0.431373   0.730769      0.500000         1  \n",
       "1192                0.450980   0.461538      0.307692         1  \n",
       "1193                0.274510   0.307692      0.038462         1  \n",
       "...                      ...        ...           ...       ...  \n",
       "22960               0.647059   0.384615      0.269231         0  \n",
       "22961               0.745098   0.307692      0.769231         1  \n",
       "22962               0.666667   0.346154      0.307692         1  \n",
       "22963               0.823529   0.461538      0.269231         1  \n",
       "22964               0.764706   0.230769      0.692308         1  \n",
       "\n",
       "[21452 rows x 11 columns]"
      ]
     },
     "execution_count": 116,
     "metadata": {},
     "output_type": "execute_result"
    }
   ],
   "source": [
    "# all seasons - few features\n",
    "cols = [\"home_team_id\", \"visitor_team_id\", \"home_recent_TSP\", \"visitor_recent_TSP\", \"home_recent_timeout\", \"visitor_recent_timeout\",\n",
    "        \"home_recent_points\", \"visitor_recent_points\", \"home_rank\", \"visitor_rank\", \"home_win\"]\n",
    "\n",
    "to_normalize = [\"home_recent_TSP\", \"home_recent_timeout\", \"visitor_recent_TSP\", \"visitor_recent_timeout\", \"home_recent_points\", \"visitor_recent_points\", \"home_rank\", \"visitor_rank\"]\n",
    "\n",
    "data = game_data_recent[cols].copy()\n",
    "data[\"home_team_id\"] = label_encoder.fit_transform(game_data_recent[\"home_team_id\"])\n",
    "data[\"visitor_team_id\"] = label_encoder.fit_transform(game_data_recent[\"visitor_team_id\"])\n",
    "data[to_normalize] = scaler.fit_transform(data[to_normalize])\n",
    "data"
   ]
  },
  {
   "cell_type": "code",
   "execution_count": 134,
   "metadata": {},
   "outputs": [
    {
     "name": "stdout",
     "output_type": "stream",
     "text": [
      "Train dataset: 59.99440611597986%\n",
      "Validate dataset: 20.002796942010068%\n",
      "Test dataset: 20.002796942010068%\n"
     ]
    }
   ],
   "source": [
    "X_train, X_test, y_train, y_test = train_test_split(data.drop(columns=[\"home_win\"]), data[\"home_win\"], test_size=0.2, random_state=1)\n",
    "X_train, X_val, y_train, y_val = train_test_split(X_train, y_train, test_size=0.25, random_state=1)\n",
    "\n",
    "print(\"Train dataset: {}%\".format((X_train.shape[0] / data.shape[0]) * 100))\n",
    "print(\"Validate dataset: {}%\".format((X_val.shape[0] / data.shape[0]) * 100))\n",
    "print(\"Test dataset: {}%\".format((X_test.shape[0] / data.shape[0]) * 100))"
   ]
  },
  {
   "cell_type": "code",
   "execution_count": 114,
   "metadata": {},
   "outputs": [
    {
     "name": "stdout",
     "output_type": "stream",
     "text": [
      "tuned hpyerparameters :(best parameters)  {'C': 0.11, 'penalty': 'l2'}\n",
      "accuracy : 0.6413364413364413\n"
     ]
    }
   ],
   "source": [
    "grid = {\"C\":np.arange(0.01, 5, 0.1), \"penalty\":[\"l2\"]}\n",
    "logreg_cv = GridSearchCV(model, grid, cv=10)\n",
    "logreg_cv.fit(X_train,y_train)\n",
    "\n",
    "print(\"tuned hpyerparameters :(best parameters) \",logreg_cv.best_params_)\n",
    "print(\"accuracy :\",logreg_cv.best_score_)"
   ]
  },
  {
   "cell_type": "code",
   "execution_count": 135,
   "metadata": {},
   "outputs": [
    {
     "name": "stdout",
     "output_type": "stream",
     "text": [
      "              precision    recall  f1-score   support\n",
      "\n",
      "           0       0.59      0.40      0.47      1703\n",
      "           1       0.67      0.82      0.74      2588\n",
      "\n",
      "    accuracy                           0.65      4291\n",
      "   macro avg       0.63      0.61      0.61      4291\n",
      "weighted avg       0.64      0.65      0.63      4291\n",
      "\n"
     ]
    }
   ],
   "source": [
    "model.fit(X_train, y_train)\n",
    "predictions = model.predict(X_val)\n",
    "\n",
    "fpr, tpr, thresholds = roc_curve(y_val, predictions)\n",
    "print(classification_report(y_val, predictions))"
   ]
  },
  {
   "cell_type": "code",
   "execution_count": 136,
   "metadata": {},
   "outputs": [
    {
     "data": {
      "application/vnd.plotly.v1+json": {
       "config": {
        "plotlyServerURL": "https://plot.ly"
       },
       "data": [
        {
         "fillpattern": {
          "shape": ""
         },
         "hovertemplate": "False Positive Rate=%{x}<br>True Positive Rate=%{y}<extra></extra>",
         "legendgroup": "",
         "line": {
          "color": "#636efa"
         },
         "marker": {
          "symbol": "circle"
         },
         "mode": "lines",
         "name": "",
         "orientation": "v",
         "showlegend": false,
         "stackgroup": "1",
         "type": "scatter",
         "x": [
          0,
          0.6036406341749854,
          1
         ],
         "xaxis": "x",
         "y": [
          0,
          0.8187789799072643,
          1
         ],
         "yaxis": "y"
        }
       ],
       "layout": {
        "height": 500,
        "legend": {
         "tracegroupgap": 0
        },
        "shapes": [
         {
          "line": {
           "dash": "dash"
          },
          "type": "line",
          "x0": 0,
          "x1": 1,
          "y0": 0,
          "y1": 1
         }
        ],
        "template": {
         "data": {
          "bar": [
           {
            "error_x": {
             "color": "#2a3f5f"
            },
            "error_y": {
             "color": "#2a3f5f"
            },
            "marker": {
             "line": {
              "color": "#E5ECF6",
              "width": 0.5
             },
             "pattern": {
              "fillmode": "overlay",
              "size": 10,
              "solidity": 0.2
             }
            },
            "type": "bar"
           }
          ],
          "barpolar": [
           {
            "marker": {
             "line": {
              "color": "#E5ECF6",
              "width": 0.5
             },
             "pattern": {
              "fillmode": "overlay",
              "size": 10,
              "solidity": 0.2
             }
            },
            "type": "barpolar"
           }
          ],
          "carpet": [
           {
            "aaxis": {
             "endlinecolor": "#2a3f5f",
             "gridcolor": "white",
             "linecolor": "white",
             "minorgridcolor": "white",
             "startlinecolor": "#2a3f5f"
            },
            "baxis": {
             "endlinecolor": "#2a3f5f",
             "gridcolor": "white",
             "linecolor": "white",
             "minorgridcolor": "white",
             "startlinecolor": "#2a3f5f"
            },
            "type": "carpet"
           }
          ],
          "choropleth": [
           {
            "colorbar": {
             "outlinewidth": 0,
             "ticks": ""
            },
            "type": "choropleth"
           }
          ],
          "contour": [
           {
            "colorbar": {
             "outlinewidth": 0,
             "ticks": ""
            },
            "colorscale": [
             [
              0,
              "#0d0887"
             ],
             [
              0.1111111111111111,
              "#46039f"
             ],
             [
              0.2222222222222222,
              "#7201a8"
             ],
             [
              0.3333333333333333,
              "#9c179e"
             ],
             [
              0.4444444444444444,
              "#bd3786"
             ],
             [
              0.5555555555555556,
              "#d8576b"
             ],
             [
              0.6666666666666666,
              "#ed7953"
             ],
             [
              0.7777777777777778,
              "#fb9f3a"
             ],
             [
              0.8888888888888888,
              "#fdca26"
             ],
             [
              1,
              "#f0f921"
             ]
            ],
            "type": "contour"
           }
          ],
          "contourcarpet": [
           {
            "colorbar": {
             "outlinewidth": 0,
             "ticks": ""
            },
            "type": "contourcarpet"
           }
          ],
          "heatmap": [
           {
            "colorbar": {
             "outlinewidth": 0,
             "ticks": ""
            },
            "colorscale": [
             [
              0,
              "#0d0887"
             ],
             [
              0.1111111111111111,
              "#46039f"
             ],
             [
              0.2222222222222222,
              "#7201a8"
             ],
             [
              0.3333333333333333,
              "#9c179e"
             ],
             [
              0.4444444444444444,
              "#bd3786"
             ],
             [
              0.5555555555555556,
              "#d8576b"
             ],
             [
              0.6666666666666666,
              "#ed7953"
             ],
             [
              0.7777777777777778,
              "#fb9f3a"
             ],
             [
              0.8888888888888888,
              "#fdca26"
             ],
             [
              1,
              "#f0f921"
             ]
            ],
            "type": "heatmap"
           }
          ],
          "heatmapgl": [
           {
            "colorbar": {
             "outlinewidth": 0,
             "ticks": ""
            },
            "colorscale": [
             [
              0,
              "#0d0887"
             ],
             [
              0.1111111111111111,
              "#46039f"
             ],
             [
              0.2222222222222222,
              "#7201a8"
             ],
             [
              0.3333333333333333,
              "#9c179e"
             ],
             [
              0.4444444444444444,
              "#bd3786"
             ],
             [
              0.5555555555555556,
              "#d8576b"
             ],
             [
              0.6666666666666666,
              "#ed7953"
             ],
             [
              0.7777777777777778,
              "#fb9f3a"
             ],
             [
              0.8888888888888888,
              "#fdca26"
             ],
             [
              1,
              "#f0f921"
             ]
            ],
            "type": "heatmapgl"
           }
          ],
          "histogram": [
           {
            "marker": {
             "pattern": {
              "fillmode": "overlay",
              "size": 10,
              "solidity": 0.2
             }
            },
            "type": "histogram"
           }
          ],
          "histogram2d": [
           {
            "colorbar": {
             "outlinewidth": 0,
             "ticks": ""
            },
            "colorscale": [
             [
              0,
              "#0d0887"
             ],
             [
              0.1111111111111111,
              "#46039f"
             ],
             [
              0.2222222222222222,
              "#7201a8"
             ],
             [
              0.3333333333333333,
              "#9c179e"
             ],
             [
              0.4444444444444444,
              "#bd3786"
             ],
             [
              0.5555555555555556,
              "#d8576b"
             ],
             [
              0.6666666666666666,
              "#ed7953"
             ],
             [
              0.7777777777777778,
              "#fb9f3a"
             ],
             [
              0.8888888888888888,
              "#fdca26"
             ],
             [
              1,
              "#f0f921"
             ]
            ],
            "type": "histogram2d"
           }
          ],
          "histogram2dcontour": [
           {
            "colorbar": {
             "outlinewidth": 0,
             "ticks": ""
            },
            "colorscale": [
             [
              0,
              "#0d0887"
             ],
             [
              0.1111111111111111,
              "#46039f"
             ],
             [
              0.2222222222222222,
              "#7201a8"
             ],
             [
              0.3333333333333333,
              "#9c179e"
             ],
             [
              0.4444444444444444,
              "#bd3786"
             ],
             [
              0.5555555555555556,
              "#d8576b"
             ],
             [
              0.6666666666666666,
              "#ed7953"
             ],
             [
              0.7777777777777778,
              "#fb9f3a"
             ],
             [
              0.8888888888888888,
              "#fdca26"
             ],
             [
              1,
              "#f0f921"
             ]
            ],
            "type": "histogram2dcontour"
           }
          ],
          "mesh3d": [
           {
            "colorbar": {
             "outlinewidth": 0,
             "ticks": ""
            },
            "type": "mesh3d"
           }
          ],
          "parcoords": [
           {
            "line": {
             "colorbar": {
              "outlinewidth": 0,
              "ticks": ""
             }
            },
            "type": "parcoords"
           }
          ],
          "pie": [
           {
            "automargin": true,
            "type": "pie"
           }
          ],
          "scatter": [
           {
            "fillpattern": {
             "fillmode": "overlay",
             "size": 10,
             "solidity": 0.2
            },
            "type": "scatter"
           }
          ],
          "scatter3d": [
           {
            "line": {
             "colorbar": {
              "outlinewidth": 0,
              "ticks": ""
             }
            },
            "marker": {
             "colorbar": {
              "outlinewidth": 0,
              "ticks": ""
             }
            },
            "type": "scatter3d"
           }
          ],
          "scattercarpet": [
           {
            "marker": {
             "colorbar": {
              "outlinewidth": 0,
              "ticks": ""
             }
            },
            "type": "scattercarpet"
           }
          ],
          "scattergeo": [
           {
            "marker": {
             "colorbar": {
              "outlinewidth": 0,
              "ticks": ""
             }
            },
            "type": "scattergeo"
           }
          ],
          "scattergl": [
           {
            "marker": {
             "colorbar": {
              "outlinewidth": 0,
              "ticks": ""
             }
            },
            "type": "scattergl"
           }
          ],
          "scattermapbox": [
           {
            "marker": {
             "colorbar": {
              "outlinewidth": 0,
              "ticks": ""
             }
            },
            "type": "scattermapbox"
           }
          ],
          "scatterpolar": [
           {
            "marker": {
             "colorbar": {
              "outlinewidth": 0,
              "ticks": ""
             }
            },
            "type": "scatterpolar"
           }
          ],
          "scatterpolargl": [
           {
            "marker": {
             "colorbar": {
              "outlinewidth": 0,
              "ticks": ""
             }
            },
            "type": "scatterpolargl"
           }
          ],
          "scatterternary": [
           {
            "marker": {
             "colorbar": {
              "outlinewidth": 0,
              "ticks": ""
             }
            },
            "type": "scatterternary"
           }
          ],
          "surface": [
           {
            "colorbar": {
             "outlinewidth": 0,
             "ticks": ""
            },
            "colorscale": [
             [
              0,
              "#0d0887"
             ],
             [
              0.1111111111111111,
              "#46039f"
             ],
             [
              0.2222222222222222,
              "#7201a8"
             ],
             [
              0.3333333333333333,
              "#9c179e"
             ],
             [
              0.4444444444444444,
              "#bd3786"
             ],
             [
              0.5555555555555556,
              "#d8576b"
             ],
             [
              0.6666666666666666,
              "#ed7953"
             ],
             [
              0.7777777777777778,
              "#fb9f3a"
             ],
             [
              0.8888888888888888,
              "#fdca26"
             ],
             [
              1,
              "#f0f921"
             ]
            ],
            "type": "surface"
           }
          ],
          "table": [
           {
            "cells": {
             "fill": {
              "color": "#EBF0F8"
             },
             "line": {
              "color": "white"
             }
            },
            "header": {
             "fill": {
              "color": "#C8D4E3"
             },
             "line": {
              "color": "white"
             }
            },
            "type": "table"
           }
          ]
         },
         "layout": {
          "annotationdefaults": {
           "arrowcolor": "#2a3f5f",
           "arrowhead": 0,
           "arrowwidth": 1
          },
          "autotypenumbers": "strict",
          "coloraxis": {
           "colorbar": {
            "outlinewidth": 0,
            "ticks": ""
           }
          },
          "colorscale": {
           "diverging": [
            [
             0,
             "#8e0152"
            ],
            [
             0.1,
             "#c51b7d"
            ],
            [
             0.2,
             "#de77ae"
            ],
            [
             0.3,
             "#f1b6da"
            ],
            [
             0.4,
             "#fde0ef"
            ],
            [
             0.5,
             "#f7f7f7"
            ],
            [
             0.6,
             "#e6f5d0"
            ],
            [
             0.7,
             "#b8e186"
            ],
            [
             0.8,
             "#7fbc41"
            ],
            [
             0.9,
             "#4d9221"
            ],
            [
             1,
             "#276419"
            ]
           ],
           "sequential": [
            [
             0,
             "#0d0887"
            ],
            [
             0.1111111111111111,
             "#46039f"
            ],
            [
             0.2222222222222222,
             "#7201a8"
            ],
            [
             0.3333333333333333,
             "#9c179e"
            ],
            [
             0.4444444444444444,
             "#bd3786"
            ],
            [
             0.5555555555555556,
             "#d8576b"
            ],
            [
             0.6666666666666666,
             "#ed7953"
            ],
            [
             0.7777777777777778,
             "#fb9f3a"
            ],
            [
             0.8888888888888888,
             "#fdca26"
            ],
            [
             1,
             "#f0f921"
            ]
           ],
           "sequentialminus": [
            [
             0,
             "#0d0887"
            ],
            [
             0.1111111111111111,
             "#46039f"
            ],
            [
             0.2222222222222222,
             "#7201a8"
            ],
            [
             0.3333333333333333,
             "#9c179e"
            ],
            [
             0.4444444444444444,
             "#bd3786"
            ],
            [
             0.5555555555555556,
             "#d8576b"
            ],
            [
             0.6666666666666666,
             "#ed7953"
            ],
            [
             0.7777777777777778,
             "#fb9f3a"
            ],
            [
             0.8888888888888888,
             "#fdca26"
            ],
            [
             1,
             "#f0f921"
            ]
           ]
          },
          "colorway": [
           "#636efa",
           "#EF553B",
           "#00cc96",
           "#ab63fa",
           "#FFA15A",
           "#19d3f3",
           "#FF6692",
           "#B6E880",
           "#FF97FF",
           "#FECB52"
          ],
          "font": {
           "color": "#2a3f5f"
          },
          "geo": {
           "bgcolor": "white",
           "lakecolor": "white",
           "landcolor": "#E5ECF6",
           "showlakes": true,
           "showland": true,
           "subunitcolor": "white"
          },
          "hoverlabel": {
           "align": "left"
          },
          "hovermode": "closest",
          "mapbox": {
           "style": "light"
          },
          "paper_bgcolor": "white",
          "plot_bgcolor": "#E5ECF6",
          "polar": {
           "angularaxis": {
            "gridcolor": "white",
            "linecolor": "white",
            "ticks": ""
           },
           "bgcolor": "#E5ECF6",
           "radialaxis": {
            "gridcolor": "white",
            "linecolor": "white",
            "ticks": ""
           }
          },
          "scene": {
           "xaxis": {
            "backgroundcolor": "#E5ECF6",
            "gridcolor": "white",
            "gridwidth": 2,
            "linecolor": "white",
            "showbackground": true,
            "ticks": "",
            "zerolinecolor": "white"
           },
           "yaxis": {
            "backgroundcolor": "#E5ECF6",
            "gridcolor": "white",
            "gridwidth": 2,
            "linecolor": "white",
            "showbackground": true,
            "ticks": "",
            "zerolinecolor": "white"
           },
           "zaxis": {
            "backgroundcolor": "#E5ECF6",
            "gridcolor": "white",
            "gridwidth": 2,
            "linecolor": "white",
            "showbackground": true,
            "ticks": "",
            "zerolinecolor": "white"
           }
          },
          "shapedefaults": {
           "line": {
            "color": "#2a3f5f"
           }
          },
          "ternary": {
           "aaxis": {
            "gridcolor": "white",
            "linecolor": "white",
            "ticks": ""
           },
           "baxis": {
            "gridcolor": "white",
            "linecolor": "white",
            "ticks": ""
           },
           "bgcolor": "#E5ECF6",
           "caxis": {
            "gridcolor": "white",
            "linecolor": "white",
            "ticks": ""
           }
          },
          "title": {
           "x": 0.05
          },
          "xaxis": {
           "automargin": true,
           "gridcolor": "white",
           "linecolor": "white",
           "ticks": "",
           "title": {
            "standoff": 15
           },
           "zerolinecolor": "white",
           "zerolinewidth": 2
          },
          "yaxis": {
           "automargin": true,
           "gridcolor": "white",
           "linecolor": "white",
           "ticks": "",
           "title": {
            "standoff": 15
           },
           "zerolinecolor": "white",
           "zerolinewidth": 2
          }
         }
        },
        "title": {
         "text": "ROC Curve (AUC=0.6076)"
        },
        "width": 700,
        "xaxis": {
         "anchor": "y",
         "constrain": "domain",
         "domain": [
          0,
          1
         ],
         "title": {
          "text": "False Positive Rate"
         }
        },
        "yaxis": {
         "anchor": "x",
         "domain": [
          0,
          1
         ],
         "scaleanchor": "x",
         "scaleratio": 1,
         "title": {
          "text": "True Positive Rate"
         }
        }
       }
      }
     },
     "metadata": {},
     "output_type": "display_data"
    }
   ],
   "source": [
    "fig = px.area(\n",
    "    x=fpr, y=tpr,\n",
    "    title=f'ROC Curve (AUC={auc(fpr, tpr):.4f})',\n",
    "    labels=dict(x='False Positive Rate', y='True Positive Rate'),\n",
    "    width=700, height=500\n",
    ")\n",
    "fig.add_shape(\n",
    "    type='line', line=dict(dash='dash'),\n",
    "    x0=0, x1=1, y0=0, y1=1\n",
    ")\n",
    "\n",
    "fig.update_yaxes(scaleanchor=\"x\", scaleratio=1)\n",
    "fig.update_xaxes(constrain='domain')\n",
    "fig.show()"
   ]
  },
  {
   "cell_type": "markdown",
   "metadata": {},
   "source": [
    "### Prediction after the game"
   ]
  },
  {
   "cell_type": "code",
   "execution_count": 86,
   "metadata": {},
   "outputs": [
    {
     "data": {
      "text/html": [
       "<div>\n",
       "<style scoped>\n",
       "    .dataframe tbody tr th:only-of-type {\n",
       "        vertical-align: middle;\n",
       "    }\n",
       "\n",
       "    .dataframe tbody tr th {\n",
       "        vertical-align: top;\n",
       "    }\n",
       "\n",
       "    .dataframe thead th {\n",
       "        text-align: right;\n",
       "    }\n",
       "</style>\n",
       "<table border=\"1\" class=\"dataframe\">\n",
       "  <thead>\n",
       "    <tr style=\"text-align: right;\">\n",
       "      <th></th>\n",
       "      <th>home_team_id</th>\n",
       "      <th>visitor_team_id</th>\n",
       "      <th>home_TSP</th>\n",
       "      <th>home_timeout</th>\n",
       "      <th>visitor_TSP</th>\n",
       "      <th>visitor_timeout</th>\n",
       "      <th>home_win</th>\n",
       "    </tr>\n",
       "  </thead>\n",
       "  <tbody>\n",
       "    <tr>\n",
       "      <th>0</th>\n",
       "      <td>15</td>\n",
       "      <td>18</td>\n",
       "      <td>0.294900</td>\n",
       "      <td>0.400000</td>\n",
       "      <td>0.750004</td>\n",
       "      <td>0.117647</td>\n",
       "      <td>0</td>\n",
       "    </tr>\n",
       "    <tr>\n",
       "      <th>1</th>\n",
       "      <td>14</td>\n",
       "      <td>2</td>\n",
       "      <td>0.255317</td>\n",
       "      <td>0.466667</td>\n",
       "      <td>0.399886</td>\n",
       "      <td>0.294118</td>\n",
       "      <td>0</td>\n",
       "    </tr>\n",
       "    <tr>\n",
       "      <th>2</th>\n",
       "      <td>16</td>\n",
       "      <td>27</td>\n",
       "      <td>0.440890</td>\n",
       "      <td>0.266667</td>\n",
       "      <td>0.475567</td>\n",
       "      <td>0.352941</td>\n",
       "      <td>1</td>\n",
       "    </tr>\n",
       "    <tr>\n",
       "      <th>3</th>\n",
       "      <td>0</td>\n",
       "      <td>29</td>\n",
       "      <td>0.271960</td>\n",
       "      <td>0.266667</td>\n",
       "      <td>0.887694</td>\n",
       "      <td>0.235294</td>\n",
       "      <td>0</td>\n",
       "    </tr>\n",
       "    <tr>\n",
       "      <th>4</th>\n",
       "      <td>24</td>\n",
       "      <td>28</td>\n",
       "      <td>0.280250</td>\n",
       "      <td>0.400000</td>\n",
       "      <td>0.397672</td>\n",
       "      <td>0.235294</td>\n",
       "      <td>0</td>\n",
       "    </tr>\n",
       "    <tr>\n",
       "      <th>...</th>\n",
       "      <td>...</td>\n",
       "      <td>...</td>\n",
       "      <td>...</td>\n",
       "      <td>...</td>\n",
       "      <td>...</td>\n",
       "      <td>...</td>\n",
       "      <td>...</td>\n",
       "    </tr>\n",
       "    <tr>\n",
       "      <th>22960</th>\n",
       "      <td>12</td>\n",
       "      <td>23</td>\n",
       "      <td>0.297271</td>\n",
       "      <td>0.333333</td>\n",
       "      <td>0.376546</td>\n",
       "      <td>0.117647</td>\n",
       "      <td>0</td>\n",
       "    </tr>\n",
       "    <tr>\n",
       "      <th>22961</th>\n",
       "      <td>22</td>\n",
       "      <td>5</td>\n",
       "      <td>0.386106</td>\n",
       "      <td>0.333333</td>\n",
       "      <td>0.235184</td>\n",
       "      <td>0.294118</td>\n",
       "      <td>1</td>\n",
       "    </tr>\n",
       "    <tr>\n",
       "      <th>22962</th>\n",
       "      <td>6</td>\n",
       "      <td>13</td>\n",
       "      <td>0.306490</td>\n",
       "      <td>0.266667</td>\n",
       "      <td>0.260060</td>\n",
       "      <td>0.352941</td>\n",
       "      <td>1</td>\n",
       "    </tr>\n",
       "    <tr>\n",
       "      <th>22963</th>\n",
       "      <td>9</td>\n",
       "      <td>25</td>\n",
       "      <td>0.512595</td>\n",
       "      <td>0.333333</td>\n",
       "      <td>0.460439</td>\n",
       "      <td>0.352941</td>\n",
       "      <td>1</td>\n",
       "    </tr>\n",
       "    <tr>\n",
       "      <th>22964</th>\n",
       "      <td>20</td>\n",
       "      <td>21</td>\n",
       "      <td>0.627849</td>\n",
       "      <td>0.333333</td>\n",
       "      <td>0.470637</td>\n",
       "      <td>0.294118</td>\n",
       "      <td>1</td>\n",
       "    </tr>\n",
       "  </tbody>\n",
       "</table>\n",
       "<p>22965 rows × 7 columns</p>\n",
       "</div>"
      ],
      "text/plain": [
       "       home_team_id  visitor_team_id  home_TSP  home_timeout  visitor_TSP  \\\n",
       "0                15               18  0.294900      0.400000     0.750004   \n",
       "1                14                2  0.255317      0.466667     0.399886   \n",
       "2                16               27  0.440890      0.266667     0.475567   \n",
       "3                 0               29  0.271960      0.266667     0.887694   \n",
       "4                24               28  0.280250      0.400000     0.397672   \n",
       "...             ...              ...       ...           ...          ...   \n",
       "22960            12               23  0.297271      0.333333     0.376546   \n",
       "22961            22                5  0.386106      0.333333     0.235184   \n",
       "22962             6               13  0.306490      0.266667     0.260060   \n",
       "22963             9               25  0.512595      0.333333     0.460439   \n",
       "22964            20               21  0.627849      0.333333     0.470637   \n",
       "\n",
       "       visitor_timeout  home_win  \n",
       "0             0.117647         0  \n",
       "1             0.294118         0  \n",
       "2             0.352941         1  \n",
       "3             0.235294         0  \n",
       "4             0.235294         0  \n",
       "...                ...       ...  \n",
       "22960         0.117647         0  \n",
       "22961         0.294118         1  \n",
       "22962         0.352941         1  \n",
       "22963         0.352941         1  \n",
       "22964         0.294118         1  \n",
       "\n",
       "[22965 rows x 7 columns]"
      ]
     },
     "execution_count": 86,
     "metadata": {},
     "output_type": "execute_result"
    }
   ],
   "source": [
    "data = game_data_recent[[\"home_team_id\", \"visitor_team_id\", \"home_TSP\", \"home_timeout\", \"visitor_TSP\", \"visitor_timeout\", \"home_win\"]].copy()\n",
    "data[\"home_team_id\"] = label_encoder.fit_transform(game_data_recent[\"home_team_id\"])\n",
    "data[\"visitor_team_id\"] = label_encoder.fit_transform(game_data_recent[\"visitor_team_id\"])\n",
    "data[[\"home_TSP\", \"home_timeout\", \"visitor_TSP\", \"visitor_timeout\"]] = scaler.fit_transform(data[[\"home_TSP\", \"home_timeout\", \"visitor_TSP\", \"visitor_timeout\"]])\n",
    "data"
   ]
  },
  {
   "cell_type": "code",
   "execution_count": 88,
   "metadata": {},
   "outputs": [
    {
     "name": "stdout",
     "output_type": "stream",
     "text": [
      "Train dataset: 60.0%\n",
      "Validate dataset: 20.0%\n",
      "Test dataset: 20.0%\n"
     ]
    }
   ],
   "source": [
    "X_train, X_test, y_train, y_test = train_test_split(data.drop(columns=[\"home_win\"]), data[\"home_win\"], test_size=0.2, random_state=1)\n",
    "X_train, X_val, y_train, y_val = train_test_split(X_train, y_train, test_size=0.25, random_state=1)\n",
    "\n",
    "print(\"Train dataset: {}%\".format((X_train.shape[0] / data.shape[0]) * 100))\n",
    "print(\"Validate dataset: {}%\".format((X_val.shape[0] / data.shape[0]) * 100))\n",
    "print(\"Test dataset: {}%\".format((X_test.shape[0] / data.shape[0]) * 100))"
   ]
  },
  {
   "cell_type": "code",
   "execution_count": 89,
   "metadata": {},
   "outputs": [
    {
     "name": "stdout",
     "output_type": "stream",
     "text": [
      "              precision    recall  f1-score   support\n",
      "\n",
      "           0       0.86      0.84      0.85      1842\n",
      "           1       0.89      0.91      0.90      2751\n",
      "\n",
      "    accuracy                           0.88      4593\n",
      "   macro avg       0.88      0.87      0.87      4593\n",
      "weighted avg       0.88      0.88      0.88      4593\n",
      "\n"
     ]
    }
   ],
   "source": [
    "model.fit(X_train, y_train)\n",
    "predictions = model.predict(X_val)\n",
    "\n",
    "fpr, tpr, thresholds = roc_curve(y_val, predictions)\n",
    "print(classification_report(y_val, predictions))"
   ]
  },
  {
   "cell_type": "code",
   "execution_count": null,
   "metadata": {},
   "outputs": [],
   "source": []
  },
  {
   "cell_type": "code",
   "execution_count": 120,
   "metadata": {},
   "outputs": [
    {
     "data": {
      "text/html": [
       "<div>\n",
       "<style scoped>\n",
       "    .dataframe tbody tr th:only-of-type {\n",
       "        vertical-align: middle;\n",
       "    }\n",
       "\n",
       "    .dataframe tbody tr th {\n",
       "        vertical-align: top;\n",
       "    }\n",
       "\n",
       "    .dataframe thead th {\n",
       "        text-align: right;\n",
       "    }\n",
       "</style>\n",
       "<table border=\"1\" class=\"dataframe\">\n",
       "  <thead>\n",
       "    <tr style=\"text-align: right;\">\n",
       "      <th></th>\n",
       "      <th>GAME_ID</th>\n",
       "      <th>play_count</th>\n",
       "      <th>home_team_id</th>\n",
       "      <th>visitor_team_id</th>\n",
       "      <th>home_record_wins</th>\n",
       "      <th>home_record_losses</th>\n",
       "      <th>season_name</th>\n",
       "      <th>visitor_team_city</th>\n",
       "      <th>visitor_team_nickname</th>\n",
       "      <th>home_final_score</th>\n",
       "      <th>visitor_final_score</th>\n",
       "      <th>home_win</th>\n",
       "      <th>home_team_city</th>\n",
       "      <th>home_team_nickname</th>\n",
       "      <th>periods</th>\n",
       "      <th>minutes_played</th>\n",
       "      <th>visitor_players_deployed_ids</th>\n",
       "      <th>visitor_players_deployed</th>\n",
       "      <th>home_players_deployed_ids</th>\n",
       "      <th>home_players_deployed</th>\n",
       "      <th>visitor_fg_made</th>\n",
       "      <th>visitor_fg_missed</th>\n",
       "      <th>visitor_3PT_made</th>\n",
       "      <th>visitor_3PT_missed</th>\n",
       "      <th>home_fg_made</th>\n",
       "      <th>home_fg_missed</th>\n",
       "      <th>home_3PT_made</th>\n",
       "      <th>home_3PT_missed</th>\n",
       "      <th>visitor_ft_made</th>\n",
       "      <th>visitor_ft_missed</th>\n",
       "      <th>home_ft_made</th>\n",
       "      <th>home_ft_missed</th>\n",
       "      <th>visitor_rebound</th>\n",
       "      <th>home_rebound</th>\n",
       "      <th>visitor_team_rebound</th>\n",
       "      <th>home_team_rebound</th>\n",
       "      <th>visitor_turnover</th>\n",
       "      <th>home_turnover</th>\n",
       "      <th>visitor_team_turnover</th>\n",
       "      <th>home_team_turnover</th>\n",
       "      <th>visitor_foul</th>\n",
       "      <th>home_foul</th>\n",
       "      <th>visitor_subs</th>\n",
       "      <th>home_subs</th>\n",
       "      <th>visitor_timeout</th>\n",
       "      <th>home_timeout</th>\n",
       "      <th>visitor_jump_balls_won</th>\n",
       "      <th>home_jump_balls_won</th>\n",
       "      <th>tip_off_winner</th>\n",
       "      <th>visitor_ejection</th>\n",
       "      <th>home_ejection</th>\n",
       "      <th>visitor_team_ejection</th>\n",
       "      <th>home_team_ejection</th>\n",
       "      <th>home_scoring_leader</th>\n",
       "      <th>home_scoring_leader_points</th>\n",
       "      <th>visitor_scoring_leader</th>\n",
       "      <th>visitor_scoring_leader_points</th>\n",
       "      <th>home_made_max_shot_distance</th>\n",
       "      <th>visitor_made_max_shot_distance</th>\n",
       "      <th>home_made_min_shot_distance</th>\n",
       "      <th>visitor_made_min_shot_distance</th>\n",
       "      <th>home_made_mean_shot_distance</th>\n",
       "      <th>visitor_made_mean_shot_distance</th>\n",
       "      <th>visitor_record_wins</th>\n",
       "      <th>visitor_record_losses</th>\n",
       "      <th>games_already_played_in_season</th>\n",
       "      <th>home_TSP</th>\n",
       "      <th>visitor_TSP</th>\n",
       "      <th>home_final_score_diff</th>\n",
       "      <th>visitor_final_score_diff</th>\n",
       "      <th>home_common_lineup</th>\n",
       "      <th>visitor_common_lineup</th>\n",
       "      <th>home_recent_home_game_ratio</th>\n",
       "      <th>home_recent_win_ratio</th>\n",
       "      <th>home_recent_points</th>\n",
       "      <th>home_recent_timeout</th>\n",
       "      <th>home_recent_TSP</th>\n",
       "      <th>home_recent_fg_made</th>\n",
       "      <th>home_recent_fg_missed</th>\n",
       "      <th>home_recent_3PT_made</th>\n",
       "      <th>home_recent_3PT_missed</th>\n",
       "      <th>home_recent_ft_made</th>\n",
       "      <th>home_recent_ft_missed</th>\n",
       "      <th>home_recent_players_deployed</th>\n",
       "      <th>home_recent_rebound</th>\n",
       "      <th>home_recent_turnover</th>\n",
       "      <th>home_recent_foul</th>\n",
       "      <th>visitor_recent_home_game_ratio</th>\n",
       "      <th>visitor_recent_win_ratio</th>\n",
       "      <th>visitor_recent_points</th>\n",
       "      <th>visitor_recent_timeout</th>\n",
       "      <th>visitor_recent_TSP</th>\n",
       "      <th>visitor_recent_fg_made</th>\n",
       "      <th>visitor_recent_fg_missed</th>\n",
       "      <th>visitor_recent_3PT_made</th>\n",
       "      <th>visitor_recent_3PT_missed</th>\n",
       "      <th>visitor_recent_ft_made</th>\n",
       "      <th>visitor_recent_ft_missed</th>\n",
       "      <th>visitor_recent_players_deployed</th>\n",
       "      <th>visitor_recent_rebound</th>\n",
       "      <th>visitor_recent_turnover</th>\n",
       "      <th>visitor_recent_foul</th>\n",
       "      <th>home_rank</th>\n",
       "      <th>visitor_rank</th>\n",
       "    </tr>\n",
       "  </thead>\n",
       "  <tbody>\n",
       "    <tr>\n",
       "      <th>1189</th>\n",
       "      <td>20100001</td>\n",
       "      <td>448</td>\n",
       "      <td>1610612739</td>\n",
       "      <td>1610612738</td>\n",
       "      <td>0</td>\n",
       "      <td>1</td>\n",
       "      <td>2001</td>\n",
       "      <td>Boston</td>\n",
       "      <td>Celtics</td>\n",
       "      <td>89</td>\n",
       "      <td>108</td>\n",
       "      <td>0</td>\n",
       "      <td>Cleveland</td>\n",
       "      <td>Cavaliers</td>\n",
       "      <td>4</td>\n",
       "      <td>48</td>\n",
       "      <td>[{2208, 962, 677, 72, 1960, 2218, 1548, 1718, ...</td>\n",
       "      <td>12</td>\n",
       "      <td>[{1889, 1730, 1729, 1892, 902, 179, 2036, 1908...</td>\n",
       "      <td>12</td>\n",
       "      <td>36</td>\n",
       "      <td>45</td>\n",
       "      <td>8</td>\n",
       "      <td>10</td>\n",
       "      <td>39</td>\n",
       "      <td>51</td>\n",
       "      <td>3</td>\n",
       "      <td>14</td>\n",
       "      <td>28</td>\n",
       "      <td>3</td>\n",
       "      <td>8</td>\n",
       "      <td>2</td>\n",
       "      <td>48</td>\n",
       "      <td>36</td>\n",
       "      <td>7</td>\n",
       "      <td>7</td>\n",
       "      <td>14</td>\n",
       "      <td>13</td>\n",
       "      <td>1</td>\n",
       "      <td>1</td>\n",
       "      <td>15</td>\n",
       "      <td>22</td>\n",
       "      <td>26</td>\n",
       "      <td>21</td>\n",
       "      <td>3</td>\n",
       "      <td>6</td>\n",
       "      <td>1</td>\n",
       "      <td>1</td>\n",
       "      <td>HOME_PLAYER</td>\n",
       "      <td>0</td>\n",
       "      <td>0</td>\n",
       "      <td>0</td>\n",
       "      <td>0</td>\n",
       "      <td>445</td>\n",
       "      <td>13</td>\n",
       "      <td>1718</td>\n",
       "      <td>29</td>\n",
       "      <td>27</td>\n",
       "      <td>26</td>\n",
       "      <td>0</td>\n",
       "      <td>0</td>\n",
       "      <td>12.435897</td>\n",
       "      <td>11.166667</td>\n",
       "      <td>1</td>\n",
       "      <td>0</td>\n",
       "      <td>1</td>\n",
       "      <td>0.456504</td>\n",
       "      <td>0.607287</td>\n",
       "      <td>-19.0</td>\n",
       "      <td>19.0</td>\n",
       "      <td>0</td>\n",
       "      <td>0</td>\n",
       "      <td>0</td>\n",
       "      <td>0</td>\n",
       "      <td>97</td>\n",
       "      <td>6</td>\n",
       "      <td>0.579838</td>\n",
       "      <td>35</td>\n",
       "      <td>44</td>\n",
       "      <td>3</td>\n",
       "      <td>5</td>\n",
       "      <td>22</td>\n",
       "      <td>5</td>\n",
       "      <td>10</td>\n",
       "      <td>42</td>\n",
       "      <td>15</td>\n",
       "      <td>22</td>\n",
       "      <td>0</td>\n",
       "      <td>0</td>\n",
       "      <td>98</td>\n",
       "      <td>5</td>\n",
       "      <td>0.543054</td>\n",
       "      <td>34</td>\n",
       "      <td>45</td>\n",
       "      <td>8</td>\n",
       "      <td>15</td>\n",
       "      <td>19</td>\n",
       "      <td>6</td>\n",
       "      <td>10</td>\n",
       "      <td>39</td>\n",
       "      <td>13</td>\n",
       "      <td>23</td>\n",
       "      <td>19</td>\n",
       "      <td>16</td>\n",
       "    </tr>\n",
       "    <tr>\n",
       "      <th>1190</th>\n",
       "      <td>20100002</td>\n",
       "      <td>455</td>\n",
       "      <td>1610612752</td>\n",
       "      <td>1610612764</td>\n",
       "      <td>1</td>\n",
       "      <td>0</td>\n",
       "      <td>2001</td>\n",
       "      <td>Washington</td>\n",
       "      <td>Wizards</td>\n",
       "      <td>93</td>\n",
       "      <td>91</td>\n",
       "      <td>1</td>\n",
       "      <td>New York</td>\n",
       "      <td>Knicks</td>\n",
       "      <td>4</td>\n",
       "      <td>48</td>\n",
       "      <td>[{1888, 363, 43, 461, 1838, 2198, 1751, 2042, ...</td>\n",
       "      <td>9</td>\n",
       "      <td>[{1000, 970, 369, 275, 84, 280, 221, 349, 703}]</td>\n",
       "      <td>9</td>\n",
       "      <td>36</td>\n",
       "      <td>46</td>\n",
       "      <td>6</td>\n",
       "      <td>7</td>\n",
       "      <td>32</td>\n",
       "      <td>43</td>\n",
       "      <td>6</td>\n",
       "      <td>14</td>\n",
       "      <td>13</td>\n",
       "      <td>5</td>\n",
       "      <td>23</td>\n",
       "      <td>10</td>\n",
       "      <td>39</td>\n",
       "      <td>46</td>\n",
       "      <td>5</td>\n",
       "      <td>7</td>\n",
       "      <td>14</td>\n",
       "      <td>17</td>\n",
       "      <td>1</td>\n",
       "      <td>0</td>\n",
       "      <td>27</td>\n",
       "      <td>21</td>\n",
       "      <td>16</td>\n",
       "      <td>18</td>\n",
       "      <td>8</td>\n",
       "      <td>6</td>\n",
       "      <td>2</td>\n",
       "      <td>0</td>\n",
       "      <td>VISITOR_PLAYER</td>\n",
       "      <td>0</td>\n",
       "      <td>1</td>\n",
       "      <td>0</td>\n",
       "      <td>0</td>\n",
       "      <td>84</td>\n",
       "      <td>28</td>\n",
       "      <td>893</td>\n",
       "      <td>19</td>\n",
       "      <td>26</td>\n",
       "      <td>27</td>\n",
       "      <td>0</td>\n",
       "      <td>0</td>\n",
       "      <td>11.843750</td>\n",
       "      <td>12.500000</td>\n",
       "      <td>0</td>\n",
       "      <td>1</td>\n",
       "      <td>1</td>\n",
       "      <td>0.554893</td>\n",
       "      <td>0.518696</td>\n",
       "      <td>2.0</td>\n",
       "      <td>-2.0</td>\n",
       "      <td>0</td>\n",
       "      <td>0</td>\n",
       "      <td>0</td>\n",
       "      <td>0</td>\n",
       "      <td>89</td>\n",
       "      <td>6</td>\n",
       "      <td>0.540731</td>\n",
       "      <td>35</td>\n",
       "      <td>42</td>\n",
       "      <td>4</td>\n",
       "      <td>8</td>\n",
       "      <td>15</td>\n",
       "      <td>4</td>\n",
       "      <td>9</td>\n",
       "      <td>41</td>\n",
       "      <td>14</td>\n",
       "      <td>23</td>\n",
       "      <td>0</td>\n",
       "      <td>0</td>\n",
       "      <td>97</td>\n",
       "      <td>6</td>\n",
       "      <td>0.606619</td>\n",
       "      <td>36</td>\n",
       "      <td>40</td>\n",
       "      <td>2</td>\n",
       "      <td>4</td>\n",
       "      <td>22</td>\n",
       "      <td>7</td>\n",
       "      <td>9</td>\n",
       "      <td>39</td>\n",
       "      <td>16</td>\n",
       "      <td>20</td>\n",
       "      <td>8</td>\n",
       "      <td>23</td>\n",
       "    </tr>\n",
       "    <tr>\n",
       "      <th>1191</th>\n",
       "      <td>20100003</td>\n",
       "      <td>490</td>\n",
       "      <td>1610612751</td>\n",
       "      <td>1610612754</td>\n",
       "      <td>1</td>\n",
       "      <td>0</td>\n",
       "      <td>2001</td>\n",
       "      <td>Indiana</td>\n",
       "      <td>Pacers</td>\n",
       "      <td>103</td>\n",
       "      <td>97</td>\n",
       "      <td>1</td>\n",
       "      <td>New Jersey</td>\n",
       "      <td>Nets</td>\n",
       "      <td>4</td>\n",
       "      <td>48</td>\n",
       "      <td>[{1506, 1733, 397, 1902, 2224, 979, 147, 696, ...</td>\n",
       "      <td>9</td>\n",
       "      <td>[{1760, 2210, 1928, 2030, 1425, 467, 1496, 954...</td>\n",
       "      <td>9</td>\n",
       "      <td>37</td>\n",
       "      <td>44</td>\n",
       "      <td>6</td>\n",
       "      <td>9</td>\n",
       "      <td>37</td>\n",
       "      <td>58</td>\n",
       "      <td>6</td>\n",
       "      <td>10</td>\n",
       "      <td>17</td>\n",
       "      <td>3</td>\n",
       "      <td>23</td>\n",
       "      <td>8</td>\n",
       "      <td>42</td>\n",
       "      <td>47</td>\n",
       "      <td>12</td>\n",
       "      <td>6</td>\n",
       "      <td>20</td>\n",
       "      <td>11</td>\n",
       "      <td>2</td>\n",
       "      <td>0</td>\n",
       "      <td>25</td>\n",
       "      <td>23</td>\n",
       "      <td>26</td>\n",
       "      <td>17</td>\n",
       "      <td>7</td>\n",
       "      <td>5</td>\n",
       "      <td>0</td>\n",
       "      <td>1</td>\n",
       "      <td>HOME_PLAYER</td>\n",
       "      <td>0</td>\n",
       "      <td>0</td>\n",
       "      <td>0</td>\n",
       "      <td>0</td>\n",
       "      <td>1496</td>\n",
       "      <td>26</td>\n",
       "      <td>147</td>\n",
       "      <td>43</td>\n",
       "      <td>25</td>\n",
       "      <td>26</td>\n",
       "      <td>0</td>\n",
       "      <td>0</td>\n",
       "      <td>10.459459</td>\n",
       "      <td>13.594595</td>\n",
       "      <td>0</td>\n",
       "      <td>1</td>\n",
       "      <td>1</td>\n",
       "      <td>0.504704</td>\n",
       "      <td>0.553653</td>\n",
       "      <td>6.0</td>\n",
       "      <td>-6.0</td>\n",
       "      <td>1</td>\n",
       "      <td>1</td>\n",
       "      <td>0</td>\n",
       "      <td>0</td>\n",
       "      <td>91</td>\n",
       "      <td>5</td>\n",
       "      <td>0.529725</td>\n",
       "      <td>34</td>\n",
       "      <td>47</td>\n",
       "      <td>3</td>\n",
       "      <td>9</td>\n",
       "      <td>18</td>\n",
       "      <td>4</td>\n",
       "      <td>9</td>\n",
       "      <td>40</td>\n",
       "      <td>15</td>\n",
       "      <td>22</td>\n",
       "      <td>0</td>\n",
       "      <td>0</td>\n",
       "      <td>98</td>\n",
       "      <td>5</td>\n",
       "      <td>0.564836</td>\n",
       "      <td>37</td>\n",
       "      <td>44</td>\n",
       "      <td>4</td>\n",
       "      <td>8</td>\n",
       "      <td>19</td>\n",
       "      <td>5</td>\n",
       "      <td>10</td>\n",
       "      <td>43</td>\n",
       "      <td>14</td>\n",
       "      <td>23</td>\n",
       "      <td>20</td>\n",
       "      <td>14</td>\n",
       "    </tr>\n",
       "    <tr>\n",
       "      <th>1192</th>\n",
       "      <td>20100004</td>\n",
       "      <td>484</td>\n",
       "      <td>1610612753</td>\n",
       "      <td>1610612761</td>\n",
       "      <td>1</td>\n",
       "      <td>0</td>\n",
       "      <td>2001</td>\n",
       "      <td>Toronto</td>\n",
       "      <td>Raptors</td>\n",
       "      <td>114</td>\n",
       "      <td>85</td>\n",
       "      <td>1</td>\n",
       "      <td>Orlando</td>\n",
       "      <td>Magic</td>\n",
       "      <td>4</td>\n",
       "      <td>48</td>\n",
       "      <td>[{2050, 2306, 164, 1541, 165, 966, 2214, 1713,...</td>\n",
       "      <td>12</td>\n",
       "      <td>[{448, 353, 255, 2212, 1607, 42, 270, 1727, 69...</td>\n",
       "      <td>12</td>\n",
       "      <td>27</td>\n",
       "      <td>48</td>\n",
       "      <td>3</td>\n",
       "      <td>9</td>\n",
       "      <td>44</td>\n",
       "      <td>28</td>\n",
       "      <td>4</td>\n",
       "      <td>4</td>\n",
       "      <td>28</td>\n",
       "      <td>17</td>\n",
       "      <td>22</td>\n",
       "      <td>9</td>\n",
       "      <td>38</td>\n",
       "      <td>37</td>\n",
       "      <td>8</td>\n",
       "      <td>5</td>\n",
       "      <td>21</td>\n",
       "      <td>17</td>\n",
       "      <td>0</td>\n",
       "      <td>2</td>\n",
       "      <td>29</td>\n",
       "      <td>32</td>\n",
       "      <td>16</td>\n",
       "      <td>20</td>\n",
       "      <td>6</td>\n",
       "      <td>4</td>\n",
       "      <td>1</td>\n",
       "      <td>0</td>\n",
       "      <td>VISITOR_PLAYER</td>\n",
       "      <td>0</td>\n",
       "      <td>0</td>\n",
       "      <td>0</td>\n",
       "      <td>0</td>\n",
       "      <td>1503</td>\n",
       "      <td>23</td>\n",
       "      <td>164</td>\n",
       "      <td>13</td>\n",
       "      <td>26</td>\n",
       "      <td>25</td>\n",
       "      <td>0</td>\n",
       "      <td>0</td>\n",
       "      <td>9.204545</td>\n",
       "      <td>10.555556</td>\n",
       "      <td>0</td>\n",
       "      <td>1</td>\n",
       "      <td>1</td>\n",
       "      <td>0.754767</td>\n",
       "      <td>0.529397</td>\n",
       "      <td>29.0</td>\n",
       "      <td>-29.0</td>\n",
       "      <td>0</td>\n",
       "      <td>1</td>\n",
       "      <td>0</td>\n",
       "      <td>0</td>\n",
       "      <td>95</td>\n",
       "      <td>5</td>\n",
       "      <td>0.539807</td>\n",
       "      <td>36</td>\n",
       "      <td>44</td>\n",
       "      <td>6</td>\n",
       "      <td>10</td>\n",
       "      <td>15</td>\n",
       "      <td>6</td>\n",
       "      <td>10</td>\n",
       "      <td>39</td>\n",
       "      <td>14</td>\n",
       "      <td>24</td>\n",
       "      <td>0</td>\n",
       "      <td>0</td>\n",
       "      <td>99</td>\n",
       "      <td>5</td>\n",
       "      <td>0.533226</td>\n",
       "      <td>38</td>\n",
       "      <td>47</td>\n",
       "      <td>5</td>\n",
       "      <td>9</td>\n",
       "      <td>15</td>\n",
       "      <td>5</td>\n",
       "      <td>9</td>\n",
       "      <td>42</td>\n",
       "      <td>12</td>\n",
       "      <td>20</td>\n",
       "      <td>13</td>\n",
       "      <td>9</td>\n",
       "    </tr>\n",
       "    <tr>\n",
       "      <th>1193</th>\n",
       "      <td>20100005</td>\n",
       "      <td>429</td>\n",
       "      <td>1610612750</td>\n",
       "      <td>1610612755</td>\n",
       "      <td>1</td>\n",
       "      <td>0</td>\n",
       "      <td>2001</td>\n",
       "      <td>Philadelphia</td>\n",
       "      <td>76ers</td>\n",
       "      <td>83</td>\n",
       "      <td>74</td>\n",
       "      <td>1</td>\n",
       "      <td>Minnesota</td>\n",
       "      <td>Timberwolves</td>\n",
       "      <td>4</td>\n",
       "      <td>48</td>\n",
       "      <td>[{1952, 2049, 2245, 934, 1907, 916, 87, 761, 1...</td>\n",
       "      <td>10</td>\n",
       "      <td>[{708, 324, 718, 2254, 210, 693, 1497, 1051, 1...</td>\n",
       "      <td>10</td>\n",
       "      <td>27</td>\n",
       "      <td>45</td>\n",
       "      <td>5</td>\n",
       "      <td>5</td>\n",
       "      <td>34</td>\n",
       "      <td>47</td>\n",
       "      <td>3</td>\n",
       "      <td>6</td>\n",
       "      <td>15</td>\n",
       "      <td>8</td>\n",
       "      <td>12</td>\n",
       "      <td>3</td>\n",
       "      <td>41</td>\n",
       "      <td>37</td>\n",
       "      <td>11</td>\n",
       "      <td>9</td>\n",
       "      <td>18</td>\n",
       "      <td>10</td>\n",
       "      <td>3</td>\n",
       "      <td>1</td>\n",
       "      <td>20</td>\n",
       "      <td>22</td>\n",
       "      <td>24</td>\n",
       "      <td>12</td>\n",
       "      <td>4</td>\n",
       "      <td>4</td>\n",
       "      <td>1</td>\n",
       "      <td>2</td>\n",
       "      <td>HOME_PLAYER</td>\n",
       "      <td>0</td>\n",
       "      <td>0</td>\n",
       "      <td>0</td>\n",
       "      <td>0</td>\n",
       "      <td>1497</td>\n",
       "      <td>22</td>\n",
       "      <td>2049</td>\n",
       "      <td>20</td>\n",
       "      <td>25</td>\n",
       "      <td>25</td>\n",
       "      <td>0</td>\n",
       "      <td>0</td>\n",
       "      <td>12.000000</td>\n",
       "      <td>10.592593</td>\n",
       "      <td>0</td>\n",
       "      <td>1</td>\n",
       "      <td>1</td>\n",
       "      <td>0.488465</td>\n",
       "      <td>0.484293</td>\n",
       "      <td>9.0</td>\n",
       "      <td>-9.0</td>\n",
       "      <td>1</td>\n",
       "      <td>0</td>\n",
       "      <td>0</td>\n",
       "      <td>0</td>\n",
       "      <td>99</td>\n",
       "      <td>5</td>\n",
       "      <td>0.561644</td>\n",
       "      <td>39</td>\n",
       "      <td>45</td>\n",
       "      <td>3</td>\n",
       "      <td>5</td>\n",
       "      <td>16</td>\n",
       "      <td>5</td>\n",
       "      <td>10</td>\n",
       "      <td>42</td>\n",
       "      <td>12</td>\n",
       "      <td>24</td>\n",
       "      <td>0</td>\n",
       "      <td>0</td>\n",
       "      <td>90</td>\n",
       "      <td>5</td>\n",
       "      <td>0.523834</td>\n",
       "      <td>34</td>\n",
       "      <td>48</td>\n",
       "      <td>2</td>\n",
       "      <td>6</td>\n",
       "      <td>18</td>\n",
       "      <td>6</td>\n",
       "      <td>10</td>\n",
       "      <td>46</td>\n",
       "      <td>13</td>\n",
       "      <td>20</td>\n",
       "      <td>9</td>\n",
       "      <td>2</td>\n",
       "    </tr>\n",
       "    <tr>\n",
       "      <th>...</th>\n",
       "      <td>...</td>\n",
       "      <td>...</td>\n",
       "      <td>...</td>\n",
       "      <td>...</td>\n",
       "      <td>...</td>\n",
       "      <td>...</td>\n",
       "      <td>...</td>\n",
       "      <td>...</td>\n",
       "      <td>...</td>\n",
       "      <td>...</td>\n",
       "      <td>...</td>\n",
       "      <td>...</td>\n",
       "      <td>...</td>\n",
       "      <td>...</td>\n",
       "      <td>...</td>\n",
       "      <td>...</td>\n",
       "      <td>...</td>\n",
       "      <td>...</td>\n",
       "      <td>...</td>\n",
       "      <td>...</td>\n",
       "      <td>...</td>\n",
       "      <td>...</td>\n",
       "      <td>...</td>\n",
       "      <td>...</td>\n",
       "      <td>...</td>\n",
       "      <td>...</td>\n",
       "      <td>...</td>\n",
       "      <td>...</td>\n",
       "      <td>...</td>\n",
       "      <td>...</td>\n",
       "      <td>...</td>\n",
       "      <td>...</td>\n",
       "      <td>...</td>\n",
       "      <td>...</td>\n",
       "      <td>...</td>\n",
       "      <td>...</td>\n",
       "      <td>...</td>\n",
       "      <td>...</td>\n",
       "      <td>...</td>\n",
       "      <td>...</td>\n",
       "      <td>...</td>\n",
       "      <td>...</td>\n",
       "      <td>...</td>\n",
       "      <td>...</td>\n",
       "      <td>...</td>\n",
       "      <td>...</td>\n",
       "      <td>...</td>\n",
       "      <td>...</td>\n",
       "      <td>...</td>\n",
       "      <td>...</td>\n",
       "      <td>...</td>\n",
       "      <td>...</td>\n",
       "      <td>...</td>\n",
       "      <td>...</td>\n",
       "      <td>...</td>\n",
       "      <td>...</td>\n",
       "      <td>...</td>\n",
       "      <td>...</td>\n",
       "      <td>...</td>\n",
       "      <td>...</td>\n",
       "      <td>...</td>\n",
       "      <td>...</td>\n",
       "      <td>...</td>\n",
       "      <td>...</td>\n",
       "      <td>...</td>\n",
       "      <td>...</td>\n",
       "      <td>...</td>\n",
       "      <td>...</td>\n",
       "      <td>...</td>\n",
       "      <td>...</td>\n",
       "      <td>...</td>\n",
       "      <td>...</td>\n",
       "      <td>...</td>\n",
       "      <td>...</td>\n",
       "      <td>...</td>\n",
       "      <td>...</td>\n",
       "      <td>...</td>\n",
       "      <td>...</td>\n",
       "      <td>...</td>\n",
       "      <td>...</td>\n",
       "      <td>...</td>\n",
       "      <td>...</td>\n",
       "      <td>...</td>\n",
       "      <td>...</td>\n",
       "      <td>...</td>\n",
       "      <td>...</td>\n",
       "      <td>...</td>\n",
       "      <td>...</td>\n",
       "      <td>...</td>\n",
       "      <td>...</td>\n",
       "      <td>...</td>\n",
       "      <td>...</td>\n",
       "      <td>...</td>\n",
       "      <td>...</td>\n",
       "      <td>...</td>\n",
       "      <td>...</td>\n",
       "      <td>...</td>\n",
       "      <td>...</td>\n",
       "      <td>...</td>\n",
       "      <td>...</td>\n",
       "      <td>...</td>\n",
       "      <td>...</td>\n",
       "      <td>...</td>\n",
       "      <td>...</td>\n",
       "    </tr>\n",
       "    <tr>\n",
       "      <th>22960</th>\n",
       "      <td>21801226</td>\n",
       "      <td>474</td>\n",
       "      <td>1610612749</td>\n",
       "      <td>1610612760</td>\n",
       "      <td>60</td>\n",
       "      <td>22</td>\n",
       "      <td>2018</td>\n",
       "      <td>Oklahoma City</td>\n",
       "      <td>Thunder</td>\n",
       "      <td>116</td>\n",
       "      <td>127</td>\n",
       "      <td>0</td>\n",
       "      <td>Milwaukee</td>\n",
       "      <td>Bucks</td>\n",
       "      <td>4</td>\n",
       "      <td>48</td>\n",
       "      <td>[{203457, 202693, 1628390, 1627846, 1629126, 1...</td>\n",
       "      <td>11</td>\n",
       "      <td>[{1628391, 1628425, 203114, 1626192, 201588, 1...</td>\n",
       "      <td>8</td>\n",
       "      <td>48</td>\n",
       "      <td>51</td>\n",
       "      <td>23</td>\n",
       "      <td>31</td>\n",
       "      <td>43</td>\n",
       "      <td>57</td>\n",
       "      <td>15</td>\n",
       "      <td>31</td>\n",
       "      <td>8</td>\n",
       "      <td>5</td>\n",
       "      <td>15</td>\n",
       "      <td>6</td>\n",
       "      <td>53</td>\n",
       "      <td>53</td>\n",
       "      <td>1</td>\n",
       "      <td>7</td>\n",
       "      <td>12</td>\n",
       "      <td>14</td>\n",
       "      <td>1</td>\n",
       "      <td>1</td>\n",
       "      <td>20</td>\n",
       "      <td>14</td>\n",
       "      <td>23</td>\n",
       "      <td>17</td>\n",
       "      <td>3</td>\n",
       "      <td>6</td>\n",
       "      <td>1</td>\n",
       "      <td>0</td>\n",
       "      <td>VISITOR_PLAYER</td>\n",
       "      <td>0</td>\n",
       "      <td>0</td>\n",
       "      <td>0</td>\n",
       "      <td>0</td>\n",
       "      <td>204025</td>\n",
       "      <td>29</td>\n",
       "      <td>203471</td>\n",
       "      <td>32</td>\n",
       "      <td>28</td>\n",
       "      <td>28</td>\n",
       "      <td>1</td>\n",
       "      <td>1</td>\n",
       "      <td>12.418605</td>\n",
       "      <td>14.000000</td>\n",
       "      <td>49</td>\n",
       "      <td>33</td>\n",
       "      <td>82</td>\n",
       "      <td>0.482369</td>\n",
       "      <td>0.517269</td>\n",
       "      <td>-11.0</td>\n",
       "      <td>11.0</td>\n",
       "      <td>0</td>\n",
       "      <td>0</td>\n",
       "      <td>0</td>\n",
       "      <td>0</td>\n",
       "      <td>121</td>\n",
       "      <td>5</td>\n",
       "      <td>0.557041</td>\n",
       "      <td>43</td>\n",
       "      <td>48</td>\n",
       "      <td>13</td>\n",
       "      <td>24</td>\n",
       "      <td>19</td>\n",
       "      <td>5</td>\n",
       "      <td>10</td>\n",
       "      <td>51</td>\n",
       "      <td>12</td>\n",
       "      <td>19</td>\n",
       "      <td>0</td>\n",
       "      <td>0</td>\n",
       "      <td>109</td>\n",
       "      <td>5</td>\n",
       "      <td>0.502412</td>\n",
       "      <td>40</td>\n",
       "      <td>52</td>\n",
       "      <td>12</td>\n",
       "      <td>23</td>\n",
       "      <td>15</td>\n",
       "      <td>6</td>\n",
       "      <td>10</td>\n",
       "      <td>47</td>\n",
       "      <td>13</td>\n",
       "      <td>21</td>\n",
       "      <td>11</td>\n",
       "      <td>8</td>\n",
       "    </tr>\n",
       "    <tr>\n",
       "      <th>22961</th>\n",
       "      <td>21801227</td>\n",
       "      <td>443</td>\n",
       "      <td>1610612759</td>\n",
       "      <td>1610612742</td>\n",
       "      <td>48</td>\n",
       "      <td>34</td>\n",
       "      <td>2018</td>\n",
       "      <td>Dallas</td>\n",
       "      <td>Mavericks</td>\n",
       "      <td>105</td>\n",
       "      <td>94</td>\n",
       "      <td>1</td>\n",
       "      <td>San Antonio</td>\n",
       "      <td>Spurs</td>\n",
       "      <td>4</td>\n",
       "      <td>48</td>\n",
       "      <td>[{203939, 1628973, 2734, 201584, 1626257, 2035...</td>\n",
       "      <td>10</td>\n",
       "      <td>[{202722, 201988, 201158, 1627751, 200746, 202...</td>\n",
       "      <td>13</td>\n",
       "      <td>37</td>\n",
       "      <td>54</td>\n",
       "      <td>11</td>\n",
       "      <td>26</td>\n",
       "      <td>41</td>\n",
       "      <td>47</td>\n",
       "      <td>8</td>\n",
       "      <td>16</td>\n",
       "      <td>9</td>\n",
       "      <td>3</td>\n",
       "      <td>15</td>\n",
       "      <td>3</td>\n",
       "      <td>42</td>\n",
       "      <td>53</td>\n",
       "      <td>4</td>\n",
       "      <td>5</td>\n",
       "      <td>7</td>\n",
       "      <td>10</td>\n",
       "      <td>0</td>\n",
       "      <td>1</td>\n",
       "      <td>19</td>\n",
       "      <td>14</td>\n",
       "      <td>23</td>\n",
       "      <td>28</td>\n",
       "      <td>6</td>\n",
       "      <td>6</td>\n",
       "      <td>0</td>\n",
       "      <td>2</td>\n",
       "      <td>HOME_PLAYER</td>\n",
       "      <td>0</td>\n",
       "      <td>0</td>\n",
       "      <td>0</td>\n",
       "      <td>0</td>\n",
       "      <td>200746</td>\n",
       "      <td>34</td>\n",
       "      <td>1717</td>\n",
       "      <td>20</td>\n",
       "      <td>27</td>\n",
       "      <td>28</td>\n",
       "      <td>1</td>\n",
       "      <td>1</td>\n",
       "      <td>12.341463</td>\n",
       "      <td>14.513514</td>\n",
       "      <td>33</td>\n",
       "      <td>49</td>\n",
       "      <td>82</td>\n",
       "      <td>0.532670</td>\n",
       "      <td>0.438106</td>\n",
       "      <td>11.0</td>\n",
       "      <td>-11.0</td>\n",
       "      <td>0</td>\n",
       "      <td>0</td>\n",
       "      <td>0</td>\n",
       "      <td>0</td>\n",
       "      <td>111</td>\n",
       "      <td>5</td>\n",
       "      <td>0.555148</td>\n",
       "      <td>43</td>\n",
       "      <td>45</td>\n",
       "      <td>9</td>\n",
       "      <td>16</td>\n",
       "      <td>15</td>\n",
       "      <td>3</td>\n",
       "      <td>10</td>\n",
       "      <td>44</td>\n",
       "      <td>10</td>\n",
       "      <td>17</td>\n",
       "      <td>0</td>\n",
       "      <td>0</td>\n",
       "      <td>114</td>\n",
       "      <td>6</td>\n",
       "      <td>0.529544</td>\n",
       "      <td>41</td>\n",
       "      <td>49</td>\n",
       "      <td>13</td>\n",
       "      <td>26</td>\n",
       "      <td>18</td>\n",
       "      <td>5</td>\n",
       "      <td>11</td>\n",
       "      <td>46</td>\n",
       "      <td>10</td>\n",
       "      <td>21</td>\n",
       "      <td>9</td>\n",
       "      <td>21</td>\n",
       "    </tr>\n",
       "    <tr>\n",
       "      <th>22962</th>\n",
       "      <td>21801228</td>\n",
       "      <td>434</td>\n",
       "      <td>1610612743</td>\n",
       "      <td>1610612750</td>\n",
       "      <td>54</td>\n",
       "      <td>28</td>\n",
       "      <td>2018</td>\n",
       "      <td>Minnesota</td>\n",
       "      <td>Timberwolves</td>\n",
       "      <td>99</td>\n",
       "      <td>95</td>\n",
       "      <td>1</td>\n",
       "      <td>Denver</td>\n",
       "      <td>Nuggets</td>\n",
       "      <td>4</td>\n",
       "      <td>48</td>\n",
       "      <td>[{1626145, 1629123, 1628966, 201229, 1629006, ...</td>\n",
       "      <td>10</td>\n",
       "      <td>[{1628420, 1627750, 203914, 203115, 1628470, 1...</td>\n",
       "      <td>9</td>\n",
       "      <td>39</td>\n",
       "      <td>52</td>\n",
       "      <td>13</td>\n",
       "      <td>19</td>\n",
       "      <td>39</td>\n",
       "      <td>48</td>\n",
       "      <td>10</td>\n",
       "      <td>23</td>\n",
       "      <td>4</td>\n",
       "      <td>2</td>\n",
       "      <td>11</td>\n",
       "      <td>6</td>\n",
       "      <td>41</td>\n",
       "      <td>53</td>\n",
       "      <td>6</td>\n",
       "      <td>5</td>\n",
       "      <td>10</td>\n",
       "      <td>12</td>\n",
       "      <td>0</td>\n",
       "      <td>1</td>\n",
       "      <td>22</td>\n",
       "      <td>13</td>\n",
       "      <td>21</td>\n",
       "      <td>19</td>\n",
       "      <td>7</td>\n",
       "      <td>5</td>\n",
       "      <td>2</td>\n",
       "      <td>1</td>\n",
       "      <td>HOME_PLAYER</td>\n",
       "      <td>0</td>\n",
       "      <td>0</td>\n",
       "      <td>0</td>\n",
       "      <td>0</td>\n",
       "      <td>203999</td>\n",
       "      <td>29</td>\n",
       "      <td>203952</td>\n",
       "      <td>25</td>\n",
       "      <td>26</td>\n",
       "      <td>27</td>\n",
       "      <td>1</td>\n",
       "      <td>1</td>\n",
       "      <td>11.384615</td>\n",
       "      <td>11.948718</td>\n",
       "      <td>36</td>\n",
       "      <td>46</td>\n",
       "      <td>82</td>\n",
       "      <td>0.487589</td>\n",
       "      <td>0.452037</td>\n",
       "      <td>4.0</td>\n",
       "      <td>-4.0</td>\n",
       "      <td>1</td>\n",
       "      <td>0</td>\n",
       "      <td>0</td>\n",
       "      <td>0</td>\n",
       "      <td>104</td>\n",
       "      <td>5</td>\n",
       "      <td>0.509244</td>\n",
       "      <td>40</td>\n",
       "      <td>48</td>\n",
       "      <td>10</td>\n",
       "      <td>21</td>\n",
       "      <td>13</td>\n",
       "      <td>4</td>\n",
       "      <td>10</td>\n",
       "      <td>44</td>\n",
       "      <td>11</td>\n",
       "      <td>20</td>\n",
       "      <td>0</td>\n",
       "      <td>0</td>\n",
       "      <td>110</td>\n",
       "      <td>5</td>\n",
       "      <td>0.537050</td>\n",
       "      <td>41</td>\n",
       "      <td>48</td>\n",
       "      <td>10</td>\n",
       "      <td>19</td>\n",
       "      <td>17</td>\n",
       "      <td>5</td>\n",
       "      <td>10</td>\n",
       "      <td>42</td>\n",
       "      <td>12</td>\n",
       "      <td>19</td>\n",
       "      <td>10</td>\n",
       "      <td>9</td>\n",
       "    </tr>\n",
       "    <tr>\n",
       "      <th>22963</th>\n",
       "      <td>21801229</td>\n",
       "      <td>555</td>\n",
       "      <td>1610612746</td>\n",
       "      <td>1610612762</td>\n",
       "      <td>48</td>\n",
       "      <td>34</td>\n",
       "      <td>2018</td>\n",
       "      <td>Utah</td>\n",
       "      <td>Jazz</td>\n",
       "      <td>143</td>\n",
       "      <td>137</td>\n",
       "      <td>1</td>\n",
       "      <td>LA</td>\n",
       "      <td>Clippers</td>\n",
       "      <td>5</td>\n",
       "      <td>50</td>\n",
       "      <td>[{1628960, 1628513, 1627777, 203109, 1626220, ...</td>\n",
       "      <td>10</td>\n",
       "      <td>[{201568, 1626149, 203210, 201163, 1627820, 16...</td>\n",
       "      <td>13</td>\n",
       "      <td>47</td>\n",
       "      <td>59</td>\n",
       "      <td>14</td>\n",
       "      <td>21</td>\n",
       "      <td>54</td>\n",
       "      <td>52</td>\n",
       "      <td>12</td>\n",
       "      <td>16</td>\n",
       "      <td>29</td>\n",
       "      <td>4</td>\n",
       "      <td>23</td>\n",
       "      <td>7</td>\n",
       "      <td>57</td>\n",
       "      <td>52</td>\n",
       "      <td>6</td>\n",
       "      <td>3</td>\n",
       "      <td>17</td>\n",
       "      <td>12</td>\n",
       "      <td>0</td>\n",
       "      <td>0</td>\n",
       "      <td>24</td>\n",
       "      <td>27</td>\n",
       "      <td>26</td>\n",
       "      <td>24</td>\n",
       "      <td>7</td>\n",
       "      <td>6</td>\n",
       "      <td>1</td>\n",
       "      <td>1</td>\n",
       "      <td>VISITOR_PLAYER</td>\n",
       "      <td>0</td>\n",
       "      <td>0</td>\n",
       "      <td>0</td>\n",
       "      <td>0</td>\n",
       "      <td>1626149</td>\n",
       "      <td>24</td>\n",
       "      <td>1628960</td>\n",
       "      <td>40</td>\n",
       "      <td>28</td>\n",
       "      <td>28</td>\n",
       "      <td>0</td>\n",
       "      <td>1</td>\n",
       "      <td>9.555556</td>\n",
       "      <td>12.085106</td>\n",
       "      <td>50</td>\n",
       "      <td>32</td>\n",
       "      <td>82</td>\n",
       "      <td>0.604293</td>\n",
       "      <td>0.564250</td>\n",
       "      <td>6.0</td>\n",
       "      <td>-6.0</td>\n",
       "      <td>0</td>\n",
       "      <td>0</td>\n",
       "      <td>0</td>\n",
       "      <td>0</td>\n",
       "      <td>117</td>\n",
       "      <td>5</td>\n",
       "      <td>0.593993</td>\n",
       "      <td>42</td>\n",
       "      <td>45</td>\n",
       "      <td>11</td>\n",
       "      <td>16</td>\n",
       "      <td>22</td>\n",
       "      <td>6</td>\n",
       "      <td>11</td>\n",
       "      <td>45</td>\n",
       "      <td>13</td>\n",
       "      <td>23</td>\n",
       "      <td>0</td>\n",
       "      <td>0</td>\n",
       "      <td>118</td>\n",
       "      <td>4</td>\n",
       "      <td>0.586830</td>\n",
       "      <td>43</td>\n",
       "      <td>42</td>\n",
       "      <td>13</td>\n",
       "      <td>20</td>\n",
       "      <td>18</td>\n",
       "      <td>6</td>\n",
       "      <td>11</td>\n",
       "      <td>47</td>\n",
       "      <td>14</td>\n",
       "      <td>21</td>\n",
       "      <td>13</td>\n",
       "      <td>8</td>\n",
       "    </tr>\n",
       "    <tr>\n",
       "      <th>22964</th>\n",
       "      <td>21801230</td>\n",
       "      <td>422</td>\n",
       "      <td>1610612757</td>\n",
       "      <td>1610612758</td>\n",
       "      <td>53</td>\n",
       "      <td>29</td>\n",
       "      <td>2018</td>\n",
       "      <td>Sacramento</td>\n",
       "      <td>Kings</td>\n",
       "      <td>136</td>\n",
       "      <td>131</td>\n",
       "      <td>1</td>\n",
       "      <td>Portland</td>\n",
       "      <td>Trail Blazers</td>\n",
       "      <td>4</td>\n",
       "      <td>48</td>\n",
       "      <td>[{1628963, 1627812, 1627786, 203084, 1628368, ...</td>\n",
       "      <td>13</td>\n",
       "      <td>[{1627746, 1629014, 1627774, 1629018, 1628380,...</td>\n",
       "      <td>6</td>\n",
       "      <td>50</td>\n",
       "      <td>46</td>\n",
       "      <td>18</td>\n",
       "      <td>25</td>\n",
       "      <td>53</td>\n",
       "      <td>38</td>\n",
       "      <td>14</td>\n",
       "      <td>10</td>\n",
       "      <td>13</td>\n",
       "      <td>3</td>\n",
       "      <td>16</td>\n",
       "      <td>6</td>\n",
       "      <td>35</td>\n",
       "      <td>44</td>\n",
       "      <td>6</td>\n",
       "      <td>3</td>\n",
       "      <td>10</td>\n",
       "      <td>12</td>\n",
       "      <td>0</td>\n",
       "      <td>1</td>\n",
       "      <td>17</td>\n",
       "      <td>17</td>\n",
       "      <td>18</td>\n",
       "      <td>6</td>\n",
       "      <td>6</td>\n",
       "      <td>6</td>\n",
       "      <td>0</td>\n",
       "      <td>1</td>\n",
       "      <td>HOME_PLAYER</td>\n",
       "      <td>0</td>\n",
       "      <td>0</td>\n",
       "      <td>0</td>\n",
       "      <td>0</td>\n",
       "      <td>1629014</td>\n",
       "      <td>37</td>\n",
       "      <td>1628963</td>\n",
       "      <td>20</td>\n",
       "      <td>29</td>\n",
       "      <td>30</td>\n",
       "      <td>0</td>\n",
       "      <td>1</td>\n",
       "      <td>11.867925</td>\n",
       "      <td>13.520000</td>\n",
       "      <td>39</td>\n",
       "      <td>43</td>\n",
       "      <td>82</td>\n",
       "      <td>0.669555</td>\n",
       "      <td>0.569962</td>\n",
       "      <td>5.0</td>\n",
       "      <td>-5.0</td>\n",
       "      <td>0</td>\n",
       "      <td>0</td>\n",
       "      <td>0</td>\n",
       "      <td>0</td>\n",
       "      <td>116</td>\n",
       "      <td>4</td>\n",
       "      <td>0.550373</td>\n",
       "      <td>43</td>\n",
       "      <td>49</td>\n",
       "      <td>10</td>\n",
       "      <td>20</td>\n",
       "      <td>18</td>\n",
       "      <td>4</td>\n",
       "      <td>10</td>\n",
       "      <td>49</td>\n",
       "      <td>12</td>\n",
       "      <td>18</td>\n",
       "      <td>0</td>\n",
       "      <td>0</td>\n",
       "      <td>115</td>\n",
       "      <td>5</td>\n",
       "      <td>0.539045</td>\n",
       "      <td>44</td>\n",
       "      <td>50</td>\n",
       "      <td>11</td>\n",
       "      <td>17</td>\n",
       "      <td>15</td>\n",
       "      <td>5</td>\n",
       "      <td>10</td>\n",
       "      <td>46</td>\n",
       "      <td>11</td>\n",
       "      <td>19</td>\n",
       "      <td>7</td>\n",
       "      <td>19</td>\n",
       "    </tr>\n",
       "  </tbody>\n",
       "</table>\n",
       "<p>21452 rows × 104 columns</p>\n",
       "</div>"
      ],
      "text/plain": [
       "        GAME_ID  play_count  home_team_id  visitor_team_id  home_record_wins  \\\n",
       "1189   20100001         448    1610612739       1610612738                 0   \n",
       "1190   20100002         455    1610612752       1610612764                 1   \n",
       "1191   20100003         490    1610612751       1610612754                 1   \n",
       "1192   20100004         484    1610612753       1610612761                 1   \n",
       "1193   20100005         429    1610612750       1610612755                 1   \n",
       "...         ...         ...           ...              ...               ...   \n",
       "22960  21801226         474    1610612749       1610612760                60   \n",
       "22961  21801227         443    1610612759       1610612742                48   \n",
       "22962  21801228         434    1610612743       1610612750                54   \n",
       "22963  21801229         555    1610612746       1610612762                48   \n",
       "22964  21801230         422    1610612757       1610612758                53   \n",
       "\n",
       "       home_record_losses  season_name visitor_team_city  \\\n",
       "1189                    1         2001            Boston   \n",
       "1190                    0         2001        Washington   \n",
       "1191                    0         2001           Indiana   \n",
       "1192                    0         2001           Toronto   \n",
       "1193                    0         2001      Philadelphia   \n",
       "...                   ...          ...               ...   \n",
       "22960                  22         2018     Oklahoma City   \n",
       "22961                  34         2018            Dallas   \n",
       "22962                  28         2018         Minnesota   \n",
       "22963                  34         2018              Utah   \n",
       "22964                  29         2018        Sacramento   \n",
       "\n",
       "      visitor_team_nickname  home_final_score  visitor_final_score  home_win  \\\n",
       "1189                Celtics                89                  108         0   \n",
       "1190                Wizards                93                   91         1   \n",
       "1191                 Pacers               103                   97         1   \n",
       "1192                Raptors               114                   85         1   \n",
       "1193                  76ers                83                   74         1   \n",
       "...                     ...               ...                  ...       ...   \n",
       "22960               Thunder               116                  127         0   \n",
       "22961             Mavericks               105                   94         1   \n",
       "22962          Timberwolves                99                   95         1   \n",
       "22963                  Jazz               143                  137         1   \n",
       "22964                 Kings               136                  131         1   \n",
       "\n",
       "      home_team_city home_team_nickname  periods  minutes_played  \\\n",
       "1189       Cleveland          Cavaliers        4              48   \n",
       "1190        New York             Knicks        4              48   \n",
       "1191      New Jersey               Nets        4              48   \n",
       "1192         Orlando              Magic        4              48   \n",
       "1193       Minnesota       Timberwolves        4              48   \n",
       "...              ...                ...      ...             ...   \n",
       "22960      Milwaukee              Bucks        4              48   \n",
       "22961    San Antonio              Spurs        4              48   \n",
       "22962         Denver            Nuggets        4              48   \n",
       "22963             LA           Clippers        5              50   \n",
       "22964       Portland      Trail Blazers        4              48   \n",
       "\n",
       "                            visitor_players_deployed_ids  \\\n",
       "1189   [{2208, 962, 677, 72, 1960, 2218, 1548, 1718, ...   \n",
       "1190   [{1888, 363, 43, 461, 1838, 2198, 1751, 2042, ...   \n",
       "1191   [{1506, 1733, 397, 1902, 2224, 979, 147, 696, ...   \n",
       "1192   [{2050, 2306, 164, 1541, 165, 966, 2214, 1713,...   \n",
       "1193   [{1952, 2049, 2245, 934, 1907, 916, 87, 761, 1...   \n",
       "...                                                  ...   \n",
       "22960  [{203457, 202693, 1628390, 1627846, 1629126, 1...   \n",
       "22961  [{203939, 1628973, 2734, 201584, 1626257, 2035...   \n",
       "22962  [{1626145, 1629123, 1628966, 201229, 1629006, ...   \n",
       "22963  [{1628960, 1628513, 1627777, 203109, 1626220, ...   \n",
       "22964  [{1628963, 1627812, 1627786, 203084, 1628368, ...   \n",
       "\n",
       "       visitor_players_deployed  \\\n",
       "1189                         12   \n",
       "1190                          9   \n",
       "1191                          9   \n",
       "1192                         12   \n",
       "1193                         10   \n",
       "...                         ...   \n",
       "22960                        11   \n",
       "22961                        10   \n",
       "22962                        10   \n",
       "22963                        10   \n",
       "22964                        13   \n",
       "\n",
       "                               home_players_deployed_ids  \\\n",
       "1189   [{1889, 1730, 1729, 1892, 902, 179, 2036, 1908...   \n",
       "1190     [{1000, 970, 369, 275, 84, 280, 221, 349, 703}]   \n",
       "1191   [{1760, 2210, 1928, 2030, 1425, 467, 1496, 954...   \n",
       "1192   [{448, 353, 255, 2212, 1607, 42, 270, 1727, 69...   \n",
       "1193   [{708, 324, 718, 2254, 210, 693, 1497, 1051, 1...   \n",
       "...                                                  ...   \n",
       "22960  [{1628391, 1628425, 203114, 1626192, 201588, 1...   \n",
       "22961  [{202722, 201988, 201158, 1627751, 200746, 202...   \n",
       "22962  [{1628420, 1627750, 203914, 203115, 1628470, 1...   \n",
       "22963  [{201568, 1626149, 203210, 201163, 1627820, 16...   \n",
       "22964  [{1627746, 1629014, 1627774, 1629018, 1628380,...   \n",
       "\n",
       "       home_players_deployed  visitor_fg_made  visitor_fg_missed  \\\n",
       "1189                      12               36                 45   \n",
       "1190                       9               36                 46   \n",
       "1191                       9               37                 44   \n",
       "1192                      12               27                 48   \n",
       "1193                      10               27                 45   \n",
       "...                      ...              ...                ...   \n",
       "22960                      8               48                 51   \n",
       "22961                     13               37                 54   \n",
       "22962                      9               39                 52   \n",
       "22963                     13               47                 59   \n",
       "22964                      6               50                 46   \n",
       "\n",
       "       visitor_3PT_made  visitor_3PT_missed  home_fg_made  home_fg_missed  \\\n",
       "1189                  8                  10            39              51   \n",
       "1190                  6                   7            32              43   \n",
       "1191                  6                   9            37              58   \n",
       "1192                  3                   9            44              28   \n",
       "1193                  5                   5            34              47   \n",
       "...                 ...                 ...           ...             ...   \n",
       "22960                23                  31            43              57   \n",
       "22961                11                  26            41              47   \n",
       "22962                13                  19            39              48   \n",
       "22963                14                  21            54              52   \n",
       "22964                18                  25            53              38   \n",
       "\n",
       "       home_3PT_made  home_3PT_missed  visitor_ft_made  visitor_ft_missed  \\\n",
       "1189               3               14               28                  3   \n",
       "1190               6               14               13                  5   \n",
       "1191               6               10               17                  3   \n",
       "1192               4                4               28                 17   \n",
       "1193               3                6               15                  8   \n",
       "...              ...              ...              ...                ...   \n",
       "22960             15               31                8                  5   \n",
       "22961              8               16                9                  3   \n",
       "22962             10               23                4                  2   \n",
       "22963             12               16               29                  4   \n",
       "22964             14               10               13                  3   \n",
       "\n",
       "       home_ft_made  home_ft_missed  visitor_rebound  home_rebound  \\\n",
       "1189              8               2               48            36   \n",
       "1190             23              10               39            46   \n",
       "1191             23               8               42            47   \n",
       "1192             22               9               38            37   \n",
       "1193             12               3               41            37   \n",
       "...             ...             ...              ...           ...   \n",
       "22960            15               6               53            53   \n",
       "22961            15               3               42            53   \n",
       "22962            11               6               41            53   \n",
       "22963            23               7               57            52   \n",
       "22964            16               6               35            44   \n",
       "\n",
       "       visitor_team_rebound  home_team_rebound  visitor_turnover  \\\n",
       "1189                      7                  7                14   \n",
       "1190                      5                  7                14   \n",
       "1191                     12                  6                20   \n",
       "1192                      8                  5                21   \n",
       "1193                     11                  9                18   \n",
       "...                     ...                ...               ...   \n",
       "22960                     1                  7                12   \n",
       "22961                     4                  5                 7   \n",
       "22962                     6                  5                10   \n",
       "22963                     6                  3                17   \n",
       "22964                     6                  3                10   \n",
       "\n",
       "       home_turnover  visitor_team_turnover  home_team_turnover  visitor_foul  \\\n",
       "1189              13                      1                   1            15   \n",
       "1190              17                      1                   0            27   \n",
       "1191              11                      2                   0            25   \n",
       "1192              17                      0                   2            29   \n",
       "1193              10                      3                   1            20   \n",
       "...              ...                    ...                 ...           ...   \n",
       "22960             14                      1                   1            20   \n",
       "22961             10                      0                   1            19   \n",
       "22962             12                      0                   1            22   \n",
       "22963             12                      0                   0            24   \n",
       "22964             12                      0                   1            17   \n",
       "\n",
       "       home_foul  visitor_subs  home_subs  visitor_timeout  home_timeout  \\\n",
       "1189          22            26         21                3             6   \n",
       "1190          21            16         18                8             6   \n",
       "1191          23            26         17                7             5   \n",
       "1192          32            16         20                6             4   \n",
       "1193          22            24         12                4             4   \n",
       "...          ...           ...        ...              ...           ...   \n",
       "22960         14            23         17                3             6   \n",
       "22961         14            23         28                6             6   \n",
       "22962         13            21         19                7             5   \n",
       "22963         27            26         24                7             6   \n",
       "22964         17            18          6                6             6   \n",
       "\n",
       "       visitor_jump_balls_won  home_jump_balls_won  tip_off_winner  \\\n",
       "1189                        1                    1     HOME_PLAYER   \n",
       "1190                        2                    0  VISITOR_PLAYER   \n",
       "1191                        0                    1     HOME_PLAYER   \n",
       "1192                        1                    0  VISITOR_PLAYER   \n",
       "1193                        1                    2     HOME_PLAYER   \n",
       "...                       ...                  ...             ...   \n",
       "22960                       1                    0  VISITOR_PLAYER   \n",
       "22961                       0                    2     HOME_PLAYER   \n",
       "22962                       2                    1     HOME_PLAYER   \n",
       "22963                       1                    1  VISITOR_PLAYER   \n",
       "22964                       0                    1     HOME_PLAYER   \n",
       "\n",
       "       visitor_ejection  home_ejection  visitor_team_ejection  \\\n",
       "1189                  0              0                      0   \n",
       "1190                  0              1                      0   \n",
       "1191                  0              0                      0   \n",
       "1192                  0              0                      0   \n",
       "1193                  0              0                      0   \n",
       "...                 ...            ...                    ...   \n",
       "22960                 0              0                      0   \n",
       "22961                 0              0                      0   \n",
       "22962                 0              0                      0   \n",
       "22963                 0              0                      0   \n",
       "22964                 0              0                      0   \n",
       "\n",
       "       home_team_ejection  home_scoring_leader  home_scoring_leader_points  \\\n",
       "1189                    0                  445                          13   \n",
       "1190                    0                   84                          28   \n",
       "1191                    0                 1496                          26   \n",
       "1192                    0                 1503                          23   \n",
       "1193                    0                 1497                          22   \n",
       "...                   ...                  ...                         ...   \n",
       "22960                   0               204025                          29   \n",
       "22961                   0               200746                          34   \n",
       "22962                   0               203999                          29   \n",
       "22963                   0              1626149                          24   \n",
       "22964                   0              1629014                          37   \n",
       "\n",
       "       visitor_scoring_leader  visitor_scoring_leader_points  \\\n",
       "1189                     1718                             29   \n",
       "1190                      893                             19   \n",
       "1191                      147                             43   \n",
       "1192                      164                             13   \n",
       "1193                     2049                             20   \n",
       "...                       ...                            ...   \n",
       "22960                  203471                             32   \n",
       "22961                    1717                             20   \n",
       "22962                  203952                             25   \n",
       "22963                 1628960                             40   \n",
       "22964                 1628963                             20   \n",
       "\n",
       "       home_made_max_shot_distance  visitor_made_max_shot_distance  \\\n",
       "1189                            27                              26   \n",
       "1190                            26                              27   \n",
       "1191                            25                              26   \n",
       "1192                            26                              25   \n",
       "1193                            25                              25   \n",
       "...                            ...                             ...   \n",
       "22960                           28                              28   \n",
       "22961                           27                              28   \n",
       "22962                           26                              27   \n",
       "22963                           28                              28   \n",
       "22964                           29                              30   \n",
       "\n",
       "       home_made_min_shot_distance  visitor_made_min_shot_distance  \\\n",
       "1189                             0                               0   \n",
       "1190                             0                               0   \n",
       "1191                             0                               0   \n",
       "1192                             0                               0   \n",
       "1193                             0                               0   \n",
       "...                            ...                             ...   \n",
       "22960                            1                               1   \n",
       "22961                            1                               1   \n",
       "22962                            1                               1   \n",
       "22963                            0                               1   \n",
       "22964                            0                               1   \n",
       "\n",
       "       home_made_mean_shot_distance  visitor_made_mean_shot_distance  \\\n",
       "1189                      12.435897                        11.166667   \n",
       "1190                      11.843750                        12.500000   \n",
       "1191                      10.459459                        13.594595   \n",
       "1192                       9.204545                        10.555556   \n",
       "1193                      12.000000                        10.592593   \n",
       "...                             ...                              ...   \n",
       "22960                     12.418605                        14.000000   \n",
       "22961                     12.341463                        14.513514   \n",
       "22962                     11.384615                        11.948718   \n",
       "22963                      9.555556                        12.085106   \n",
       "22964                     11.867925                        13.520000   \n",
       "\n",
       "       visitor_record_wins  visitor_record_losses  \\\n",
       "1189                     1                      0   \n",
       "1190                     0                      1   \n",
       "1191                     0                      1   \n",
       "1192                     0                      1   \n",
       "1193                     0                      1   \n",
       "...                    ...                    ...   \n",
       "22960                   49                     33   \n",
       "22961                   33                     49   \n",
       "22962                   36                     46   \n",
       "22963                   50                     32   \n",
       "22964                   39                     43   \n",
       "\n",
       "       games_already_played_in_season  home_TSP  visitor_TSP  \\\n",
       "1189                                1  0.456504     0.607287   \n",
       "1190                                1  0.554893     0.518696   \n",
       "1191                                1  0.504704     0.553653   \n",
       "1192                                1  0.754767     0.529397   \n",
       "1193                                1  0.488465     0.484293   \n",
       "...                               ...       ...          ...   \n",
       "22960                              82  0.482369     0.517269   \n",
       "22961                              82  0.532670     0.438106   \n",
       "22962                              82  0.487589     0.452037   \n",
       "22963                              82  0.604293     0.564250   \n",
       "22964                              82  0.669555     0.569962   \n",
       "\n",
       "       home_final_score_diff  visitor_final_score_diff  home_common_lineup  \\\n",
       "1189                   -19.0                      19.0                   0   \n",
       "1190                     2.0                      -2.0                   0   \n",
       "1191                     6.0                      -6.0                   1   \n",
       "1192                    29.0                     -29.0                   0   \n",
       "1193                     9.0                      -9.0                   1   \n",
       "...                      ...                       ...                 ...   \n",
       "22960                  -11.0                      11.0                   0   \n",
       "22961                   11.0                     -11.0                   0   \n",
       "22962                    4.0                      -4.0                   1   \n",
       "22963                    6.0                      -6.0                   0   \n",
       "22964                    5.0                      -5.0                   0   \n",
       "\n",
       "       visitor_common_lineup  home_recent_home_game_ratio  \\\n",
       "1189                       0                            0   \n",
       "1190                       0                            0   \n",
       "1191                       1                            0   \n",
       "1192                       1                            0   \n",
       "1193                       0                            0   \n",
       "...                      ...                          ...   \n",
       "22960                      0                            0   \n",
       "22961                      0                            0   \n",
       "22962                      0                            0   \n",
       "22963                      0                            0   \n",
       "22964                      0                            0   \n",
       "\n",
       "       home_recent_win_ratio  home_recent_points  home_recent_timeout  \\\n",
       "1189                       0                  97                    6   \n",
       "1190                       0                  89                    6   \n",
       "1191                       0                  91                    5   \n",
       "1192                       0                  95                    5   \n",
       "1193                       0                  99                    5   \n",
       "...                      ...                 ...                  ...   \n",
       "22960                      0                 121                    5   \n",
       "22961                      0                 111                    5   \n",
       "22962                      0                 104                    5   \n",
       "22963                      0                 117                    5   \n",
       "22964                      0                 116                    4   \n",
       "\n",
       "       home_recent_TSP  home_recent_fg_made  home_recent_fg_missed  \\\n",
       "1189          0.579838                   35                     44   \n",
       "1190          0.540731                   35                     42   \n",
       "1191          0.529725                   34                     47   \n",
       "1192          0.539807                   36                     44   \n",
       "1193          0.561644                   39                     45   \n",
       "...                ...                  ...                    ...   \n",
       "22960         0.557041                   43                     48   \n",
       "22961         0.555148                   43                     45   \n",
       "22962         0.509244                   40                     48   \n",
       "22963         0.593993                   42                     45   \n",
       "22964         0.550373                   43                     49   \n",
       "\n",
       "       home_recent_3PT_made  home_recent_3PT_missed  home_recent_ft_made  \\\n",
       "1189                      3                       5                   22   \n",
       "1190                      4                       8                   15   \n",
       "1191                      3                       9                   18   \n",
       "1192                      6                      10                   15   \n",
       "1193                      3                       5                   16   \n",
       "...                     ...                     ...                  ...   \n",
       "22960                    13                      24                   19   \n",
       "22961                     9                      16                   15   \n",
       "22962                    10                      21                   13   \n",
       "22963                    11                      16                   22   \n",
       "22964                    10                      20                   18   \n",
       "\n",
       "       home_recent_ft_missed  home_recent_players_deployed  \\\n",
       "1189                       5                            10   \n",
       "1190                       4                             9   \n",
       "1191                       4                             9   \n",
       "1192                       6                            10   \n",
       "1193                       5                            10   \n",
       "...                      ...                           ...   \n",
       "22960                      5                            10   \n",
       "22961                      3                            10   \n",
       "22962                      4                            10   \n",
       "22963                      6                            11   \n",
       "22964                      4                            10   \n",
       "\n",
       "       home_recent_rebound  home_recent_turnover  home_recent_foul  \\\n",
       "1189                    42                    15                22   \n",
       "1190                    41                    14                23   \n",
       "1191                    40                    15                22   \n",
       "1192                    39                    14                24   \n",
       "1193                    42                    12                24   \n",
       "...                    ...                   ...               ...   \n",
       "22960                   51                    12                19   \n",
       "22961                   44                    10                17   \n",
       "22962                   44                    11                20   \n",
       "22963                   45                    13                23   \n",
       "22964                   49                    12                18   \n",
       "\n",
       "       visitor_recent_home_game_ratio  visitor_recent_win_ratio  \\\n",
       "1189                                0                         0   \n",
       "1190                                0                         0   \n",
       "1191                                0                         0   \n",
       "1192                                0                         0   \n",
       "1193                                0                         0   \n",
       "...                               ...                       ...   \n",
       "22960                               0                         0   \n",
       "22961                               0                         0   \n",
       "22962                               0                         0   \n",
       "22963                               0                         0   \n",
       "22964                               0                         0   \n",
       "\n",
       "       visitor_recent_points  visitor_recent_timeout  visitor_recent_TSP  \\\n",
       "1189                      98                       5            0.543054   \n",
       "1190                      97                       6            0.606619   \n",
       "1191                      98                       5            0.564836   \n",
       "1192                      99                       5            0.533226   \n",
       "1193                      90                       5            0.523834   \n",
       "...                      ...                     ...                 ...   \n",
       "22960                    109                       5            0.502412   \n",
       "22961                    114                       6            0.529544   \n",
       "22962                    110                       5            0.537050   \n",
       "22963                    118                       4            0.586830   \n",
       "22964                    115                       5            0.539045   \n",
       "\n",
       "       visitor_recent_fg_made  visitor_recent_fg_missed  \\\n",
       "1189                       34                        45   \n",
       "1190                       36                        40   \n",
       "1191                       37                        44   \n",
       "1192                       38                        47   \n",
       "1193                       34                        48   \n",
       "...                       ...                       ...   \n",
       "22960                      40                        52   \n",
       "22961                      41                        49   \n",
       "22962                      41                        48   \n",
       "22963                      43                        42   \n",
       "22964                      44                        50   \n",
       "\n",
       "       visitor_recent_3PT_made  visitor_recent_3PT_missed  \\\n",
       "1189                         8                         15   \n",
       "1190                         2                          4   \n",
       "1191                         4                          8   \n",
       "1192                         5                          9   \n",
       "1193                         2                          6   \n",
       "...                        ...                        ...   \n",
       "22960                       12                         23   \n",
       "22961                       13                         26   \n",
       "22962                       10                         19   \n",
       "22963                       13                         20   \n",
       "22964                       11                         17   \n",
       "\n",
       "       visitor_recent_ft_made  visitor_recent_ft_missed  \\\n",
       "1189                       19                         6   \n",
       "1190                       22                         7   \n",
       "1191                       19                         5   \n",
       "1192                       15                         5   \n",
       "1193                       18                         6   \n",
       "...                       ...                       ...   \n",
       "22960                      15                         6   \n",
       "22961                      18                         5   \n",
       "22962                      17                         5   \n",
       "22963                      18                         6   \n",
       "22964                      15                         5   \n",
       "\n",
       "       visitor_recent_players_deployed  visitor_recent_rebound  \\\n",
       "1189                                10                      39   \n",
       "1190                                 9                      39   \n",
       "1191                                10                      43   \n",
       "1192                                 9                      42   \n",
       "1193                                10                      46   \n",
       "...                                ...                     ...   \n",
       "22960                               10                      47   \n",
       "22961                               11                      46   \n",
       "22962                               10                      42   \n",
       "22963                               11                      47   \n",
       "22964                               10                      46   \n",
       "\n",
       "       visitor_recent_turnover  visitor_recent_foul  home_rank  visitor_rank  \n",
       "1189                        13                   23         19            16  \n",
       "1190                        16                   20          8            23  \n",
       "1191                        14                   23         20            14  \n",
       "1192                        12                   20         13             9  \n",
       "1193                        13                   20          9             2  \n",
       "...                        ...                  ...        ...           ...  \n",
       "22960                       13                   21         11             8  \n",
       "22961                       10                   21          9            21  \n",
       "22962                       12                   19         10             9  \n",
       "22963                       14                   21         13             8  \n",
       "22964                       11                   19          7            19  \n",
       "\n",
       "[21452 rows x 104 columns]"
      ]
     },
     "execution_count": 120,
     "metadata": {},
     "output_type": "execute_result"
    }
   ],
   "source": [
    "game_data_recent"
   ]
  },
  {
   "cell_type": "code",
   "execution_count": 128,
   "metadata": {},
   "outputs": [],
   "source": []
  },
  {
   "cell_type": "code",
   "execution_count": 129,
   "metadata": {},
   "outputs": [
    {
     "data": {
      "text/html": [
       "<div>\n",
       "<style scoped>\n",
       "    .dataframe tbody tr th:only-of-type {\n",
       "        vertical-align: middle;\n",
       "    }\n",
       "\n",
       "    .dataframe tbody tr th {\n",
       "        vertical-align: top;\n",
       "    }\n",
       "\n",
       "    .dataframe thead th {\n",
       "        text-align: right;\n",
       "    }\n",
       "</style>\n",
       "<table border=\"1\" class=\"dataframe\">\n",
       "  <thead>\n",
       "    <tr style=\"text-align: right;\">\n",
       "      <th></th>\n",
       "      <th>home_recent_points</th>\n",
       "      <th>home_recent_timeout</th>\n",
       "      <th>home_recent_TSP</th>\n",
       "      <th>home_recent_fg_made</th>\n",
       "      <th>home_recent_fg_missed</th>\n",
       "      <th>home_recent_3PT_made</th>\n",
       "      <th>home_recent_3PT_missed</th>\n",
       "      <th>home_recent_ft_made</th>\n",
       "      <th>home_recent_ft_missed</th>\n",
       "      <th>home_recent_players_deployed</th>\n",
       "      <th>home_recent_rebound</th>\n",
       "      <th>home_recent_turnover</th>\n",
       "      <th>home_recent_foul</th>\n",
       "      <th>visitor_recent_home_game_ratio</th>\n",
       "      <th>visitor_recent_win_ratio</th>\n",
       "      <th>visitor_recent_points</th>\n",
       "      <th>visitor_recent_timeout</th>\n",
       "      <th>visitor_recent_TSP</th>\n",
       "      <th>visitor_recent_fg_made</th>\n",
       "      <th>visitor_recent_fg_missed</th>\n",
       "      <th>visitor_recent_3PT_made</th>\n",
       "      <th>visitor_recent_3PT_missed</th>\n",
       "      <th>visitor_recent_ft_made</th>\n",
       "      <th>visitor_recent_ft_missed</th>\n",
       "      <th>visitor_recent_players_deployed</th>\n",
       "      <th>visitor_recent_rebound</th>\n",
       "      <th>visitor_recent_turnover</th>\n",
       "      <th>visitor_recent_foul</th>\n",
       "      <th>home_rank</th>\n",
       "      <th>visitor_rank</th>\n",
       "      <th>home_team_id</th>\n",
       "      <th>visitor_team_id</th>\n",
       "    </tr>\n",
       "  </thead>\n",
       "  <tbody>\n",
       "    <tr>\n",
       "      <th>1189</th>\n",
       "      <td>0.411765</td>\n",
       "      <td>0.6</td>\n",
       "      <td>0.614958</td>\n",
       "      <td>0.368421</td>\n",
       "      <td>0.428571</td>\n",
       "      <td>0.117647</td>\n",
       "      <td>0.035714</td>\n",
       "      <td>0.722222</td>\n",
       "      <td>0.333333</td>\n",
       "      <td>0.6</td>\n",
       "      <td>0.444444</td>\n",
       "      <td>0.583333</td>\n",
       "      <td>0.533333</td>\n",
       "      <td>0.0</td>\n",
       "      <td>0.0</td>\n",
       "      <td>0.431373</td>\n",
       "      <td>0.4</td>\n",
       "      <td>0.413002</td>\n",
       "      <td>0.30</td>\n",
       "      <td>0.476190</td>\n",
       "      <td>0.411765</td>\n",
       "      <td>0.392857</td>\n",
       "      <td>0.555556</td>\n",
       "      <td>0.5</td>\n",
       "      <td>0.6</td>\n",
       "      <td>0.315789</td>\n",
       "      <td>0.461538</td>\n",
       "      <td>0.600000</td>\n",
       "      <td>0.692308</td>\n",
       "      <td>0.576923</td>\n",
       "      <td>2</td>\n",
       "      <td>1</td>\n",
       "    </tr>\n",
       "    <tr>\n",
       "      <th>1190</th>\n",
       "      <td>0.254902</td>\n",
       "      <td>0.6</td>\n",
       "      <td>0.421491</td>\n",
       "      <td>0.368421</td>\n",
       "      <td>0.333333</td>\n",
       "      <td>0.176471</td>\n",
       "      <td>0.142857</td>\n",
       "      <td>0.333333</td>\n",
       "      <td>0.222222</td>\n",
       "      <td>0.4</td>\n",
       "      <td>0.388889</td>\n",
       "      <td>0.500000</td>\n",
       "      <td>0.600000</td>\n",
       "      <td>0.0</td>\n",
       "      <td>0.0</td>\n",
       "      <td>0.411765</td>\n",
       "      <td>0.6</td>\n",
       "      <td>0.729988</td>\n",
       "      <td>0.40</td>\n",
       "      <td>0.238095</td>\n",
       "      <td>0.058824</td>\n",
       "      <td>0.000000</td>\n",
       "      <td>0.722222</td>\n",
       "      <td>0.6</td>\n",
       "      <td>0.4</td>\n",
       "      <td>0.315789</td>\n",
       "      <td>0.692308</td>\n",
       "      <td>0.400000</td>\n",
       "      <td>0.269231</td>\n",
       "      <td>0.846154</td>\n",
       "      <td>15</td>\n",
       "      <td>27</td>\n",
       "    </tr>\n",
       "    <tr>\n",
       "      <th>1191</th>\n",
       "      <td>0.294118</td>\n",
       "      <td>0.4</td>\n",
       "      <td>0.367045</td>\n",
       "      <td>0.315789</td>\n",
       "      <td>0.571429</td>\n",
       "      <td>0.117647</td>\n",
       "      <td>0.178571</td>\n",
       "      <td>0.500000</td>\n",
       "      <td>0.222222</td>\n",
       "      <td>0.4</td>\n",
       "      <td>0.333333</td>\n",
       "      <td>0.583333</td>\n",
       "      <td>0.533333</td>\n",
       "      <td>0.0</td>\n",
       "      <td>0.0</td>\n",
       "      <td>0.431373</td>\n",
       "      <td>0.4</td>\n",
       "      <td>0.521625</td>\n",
       "      <td>0.45</td>\n",
       "      <td>0.428571</td>\n",
       "      <td>0.176471</td>\n",
       "      <td>0.142857</td>\n",
       "      <td>0.555556</td>\n",
       "      <td>0.4</td>\n",
       "      <td>0.6</td>\n",
       "      <td>0.526316</td>\n",
       "      <td>0.538462</td>\n",
       "      <td>0.600000</td>\n",
       "      <td>0.730769</td>\n",
       "      <td>0.500000</td>\n",
       "      <td>14</td>\n",
       "      <td>17</td>\n",
       "    </tr>\n",
       "    <tr>\n",
       "      <th>1192</th>\n",
       "      <td>0.372549</td>\n",
       "      <td>0.4</td>\n",
       "      <td>0.416921</td>\n",
       "      <td>0.421053</td>\n",
       "      <td>0.428571</td>\n",
       "      <td>0.294118</td>\n",
       "      <td>0.214286</td>\n",
       "      <td>0.333333</td>\n",
       "      <td>0.444444</td>\n",
       "      <td>0.6</td>\n",
       "      <td>0.277778</td>\n",
       "      <td>0.500000</td>\n",
       "      <td>0.666667</td>\n",
       "      <td>0.0</td>\n",
       "      <td>0.0</td>\n",
       "      <td>0.450980</td>\n",
       "      <td>0.4</td>\n",
       "      <td>0.363993</td>\n",
       "      <td>0.50</td>\n",
       "      <td>0.571429</td>\n",
       "      <td>0.235294</td>\n",
       "      <td>0.178571</td>\n",
       "      <td>0.333333</td>\n",
       "      <td>0.4</td>\n",
       "      <td>0.4</td>\n",
       "      <td>0.473684</td>\n",
       "      <td>0.384615</td>\n",
       "      <td>0.400000</td>\n",
       "      <td>0.461538</td>\n",
       "      <td>0.307692</td>\n",
       "      <td>16</td>\n",
       "      <td>24</td>\n",
       "    </tr>\n",
       "    <tr>\n",
       "      <th>1193</th>\n",
       "      <td>0.450980</td>\n",
       "      <td>0.4</td>\n",
       "      <td>0.524950</td>\n",
       "      <td>0.578947</td>\n",
       "      <td>0.476190</td>\n",
       "      <td>0.117647</td>\n",
       "      <td>0.035714</td>\n",
       "      <td>0.388889</td>\n",
       "      <td>0.333333</td>\n",
       "      <td>0.6</td>\n",
       "      <td>0.444444</td>\n",
       "      <td>0.333333</td>\n",
       "      <td>0.666667</td>\n",
       "      <td>0.0</td>\n",
       "      <td>0.0</td>\n",
       "      <td>0.274510</td>\n",
       "      <td>0.4</td>\n",
       "      <td>0.317161</td>\n",
       "      <td>0.30</td>\n",
       "      <td>0.619048</td>\n",
       "      <td>0.058824</td>\n",
       "      <td>0.071429</td>\n",
       "      <td>0.500000</td>\n",
       "      <td>0.5</td>\n",
       "      <td>0.6</td>\n",
       "      <td>0.684211</td>\n",
       "      <td>0.461538</td>\n",
       "      <td>0.400000</td>\n",
       "      <td>0.307692</td>\n",
       "      <td>0.038462</td>\n",
       "      <td>13</td>\n",
       "      <td>18</td>\n",
       "    </tr>\n",
       "    <tr>\n",
       "      <th>...</th>\n",
       "      <td>...</td>\n",
       "      <td>...</td>\n",
       "      <td>...</td>\n",
       "      <td>...</td>\n",
       "      <td>...</td>\n",
       "      <td>...</td>\n",
       "      <td>...</td>\n",
       "      <td>...</td>\n",
       "      <td>...</td>\n",
       "      <td>...</td>\n",
       "      <td>...</td>\n",
       "      <td>...</td>\n",
       "      <td>...</td>\n",
       "      <td>...</td>\n",
       "      <td>...</td>\n",
       "      <td>...</td>\n",
       "      <td>...</td>\n",
       "      <td>...</td>\n",
       "      <td>...</td>\n",
       "      <td>...</td>\n",
       "      <td>...</td>\n",
       "      <td>...</td>\n",
       "      <td>...</td>\n",
       "      <td>...</td>\n",
       "      <td>...</td>\n",
       "      <td>...</td>\n",
       "      <td>...</td>\n",
       "      <td>...</td>\n",
       "      <td>...</td>\n",
       "      <td>...</td>\n",
       "      <td>...</td>\n",
       "      <td>...</td>\n",
       "    </tr>\n",
       "    <tr>\n",
       "      <th>22960</th>\n",
       "      <td>0.882353</td>\n",
       "      <td>0.4</td>\n",
       "      <td>0.502180</td>\n",
       "      <td>0.789474</td>\n",
       "      <td>0.619048</td>\n",
       "      <td>0.705882</td>\n",
       "      <td>0.714286</td>\n",
       "      <td>0.555556</td>\n",
       "      <td>0.333333</td>\n",
       "      <td>0.6</td>\n",
       "      <td>0.944444</td>\n",
       "      <td>0.333333</td>\n",
       "      <td>0.333333</td>\n",
       "      <td>0.0</td>\n",
       "      <td>0.0</td>\n",
       "      <td>0.647059</td>\n",
       "      <td>0.4</td>\n",
       "      <td>0.210333</td>\n",
       "      <td>0.60</td>\n",
       "      <td>0.809524</td>\n",
       "      <td>0.647059</td>\n",
       "      <td>0.678571</td>\n",
       "      <td>0.333333</td>\n",
       "      <td>0.5</td>\n",
       "      <td>0.6</td>\n",
       "      <td>0.736842</td>\n",
       "      <td>0.461538</td>\n",
       "      <td>0.466667</td>\n",
       "      <td>0.384615</td>\n",
       "      <td>0.269231</td>\n",
       "      <td>12</td>\n",
       "      <td>23</td>\n",
       "    </tr>\n",
       "    <tr>\n",
       "      <th>22961</th>\n",
       "      <td>0.686275</td>\n",
       "      <td>0.4</td>\n",
       "      <td>0.492815</td>\n",
       "      <td>0.789474</td>\n",
       "      <td>0.476190</td>\n",
       "      <td>0.470588</td>\n",
       "      <td>0.428571</td>\n",
       "      <td>0.333333</td>\n",
       "      <td>0.111111</td>\n",
       "      <td>0.6</td>\n",
       "      <td>0.555556</td>\n",
       "      <td>0.166667</td>\n",
       "      <td>0.200000</td>\n",
       "      <td>0.0</td>\n",
       "      <td>0.0</td>\n",
       "      <td>0.745098</td>\n",
       "      <td>0.6</td>\n",
       "      <td>0.345632</td>\n",
       "      <td>0.65</td>\n",
       "      <td>0.666667</td>\n",
       "      <td>0.705882</td>\n",
       "      <td>0.785714</td>\n",
       "      <td>0.500000</td>\n",
       "      <td>0.4</td>\n",
       "      <td>0.8</td>\n",
       "      <td>0.684211</td>\n",
       "      <td>0.230769</td>\n",
       "      <td>0.466667</td>\n",
       "      <td>0.307692</td>\n",
       "      <td>0.769231</td>\n",
       "      <td>22</td>\n",
       "      <td>5</td>\n",
       "    </tr>\n",
       "    <tr>\n",
       "      <th>22962</th>\n",
       "      <td>0.549020</td>\n",
       "      <td>0.4</td>\n",
       "      <td>0.265723</td>\n",
       "      <td>0.631579</td>\n",
       "      <td>0.619048</td>\n",
       "      <td>0.529412</td>\n",
       "      <td>0.607143</td>\n",
       "      <td>0.222222</td>\n",
       "      <td>0.222222</td>\n",
       "      <td>0.6</td>\n",
       "      <td>0.555556</td>\n",
       "      <td>0.250000</td>\n",
       "      <td>0.400000</td>\n",
       "      <td>0.0</td>\n",
       "      <td>0.0</td>\n",
       "      <td>0.666667</td>\n",
       "      <td>0.4</td>\n",
       "      <td>0.383063</td>\n",
       "      <td>0.65</td>\n",
       "      <td>0.619048</td>\n",
       "      <td>0.529412</td>\n",
       "      <td>0.535714</td>\n",
       "      <td>0.444444</td>\n",
       "      <td>0.4</td>\n",
       "      <td>0.6</td>\n",
       "      <td>0.473684</td>\n",
       "      <td>0.384615</td>\n",
       "      <td>0.333333</td>\n",
       "      <td>0.346154</td>\n",
       "      <td>0.307692</td>\n",
       "      <td>6</td>\n",
       "      <td>13</td>\n",
       "    </tr>\n",
       "    <tr>\n",
       "      <th>22963</th>\n",
       "      <td>0.803922</td>\n",
       "      <td>0.4</td>\n",
       "      <td>0.684981</td>\n",
       "      <td>0.736842</td>\n",
       "      <td>0.476190</td>\n",
       "      <td>0.588235</td>\n",
       "      <td>0.428571</td>\n",
       "      <td>0.722222</td>\n",
       "      <td>0.444444</td>\n",
       "      <td>0.8</td>\n",
       "      <td>0.611111</td>\n",
       "      <td>0.416667</td>\n",
       "      <td>0.600000</td>\n",
       "      <td>0.0</td>\n",
       "      <td>0.0</td>\n",
       "      <td>0.823529</td>\n",
       "      <td>0.2</td>\n",
       "      <td>0.631306</td>\n",
       "      <td>0.75</td>\n",
       "      <td>0.333333</td>\n",
       "      <td>0.705882</td>\n",
       "      <td>0.571429</td>\n",
       "      <td>0.500000</td>\n",
       "      <td>0.5</td>\n",
       "      <td>0.8</td>\n",
       "      <td>0.736842</td>\n",
       "      <td>0.538462</td>\n",
       "      <td>0.466667</td>\n",
       "      <td>0.461538</td>\n",
       "      <td>0.269231</td>\n",
       "      <td>9</td>\n",
       "      <td>25</td>\n",
       "    </tr>\n",
       "    <tr>\n",
       "      <th>22964</th>\n",
       "      <td>0.784314</td>\n",
       "      <td>0.2</td>\n",
       "      <td>0.469194</td>\n",
       "      <td>0.789474</td>\n",
       "      <td>0.666667</td>\n",
       "      <td>0.529412</td>\n",
       "      <td>0.571429</td>\n",
       "      <td>0.500000</td>\n",
       "      <td>0.222222</td>\n",
       "      <td>0.6</td>\n",
       "      <td>0.833333</td>\n",
       "      <td>0.333333</td>\n",
       "      <td>0.266667</td>\n",
       "      <td>0.0</td>\n",
       "      <td>0.0</td>\n",
       "      <td>0.764706</td>\n",
       "      <td>0.4</td>\n",
       "      <td>0.393014</td>\n",
       "      <td>0.80</td>\n",
       "      <td>0.714286</td>\n",
       "      <td>0.588235</td>\n",
       "      <td>0.464286</td>\n",
       "      <td>0.333333</td>\n",
       "      <td>0.4</td>\n",
       "      <td>0.6</td>\n",
       "      <td>0.684211</td>\n",
       "      <td>0.307692</td>\n",
       "      <td>0.333333</td>\n",
       "      <td>0.230769</td>\n",
       "      <td>0.692308</td>\n",
       "      <td>20</td>\n",
       "      <td>21</td>\n",
       "    </tr>\n",
       "  </tbody>\n",
       "</table>\n",
       "<p>21452 rows × 32 columns</p>\n",
       "</div>"
      ],
      "text/plain": [
       "       home_recent_points  home_recent_timeout  home_recent_TSP  \\\n",
       "1189             0.411765                  0.6         0.614958   \n",
       "1190             0.254902                  0.6         0.421491   \n",
       "1191             0.294118                  0.4         0.367045   \n",
       "1192             0.372549                  0.4         0.416921   \n",
       "1193             0.450980                  0.4         0.524950   \n",
       "...                   ...                  ...              ...   \n",
       "22960            0.882353                  0.4         0.502180   \n",
       "22961            0.686275                  0.4         0.492815   \n",
       "22962            0.549020                  0.4         0.265723   \n",
       "22963            0.803922                  0.4         0.684981   \n",
       "22964            0.784314                  0.2         0.469194   \n",
       "\n",
       "       home_recent_fg_made  home_recent_fg_missed  home_recent_3PT_made  \\\n",
       "1189              0.368421               0.428571              0.117647   \n",
       "1190              0.368421               0.333333              0.176471   \n",
       "1191              0.315789               0.571429              0.117647   \n",
       "1192              0.421053               0.428571              0.294118   \n",
       "1193              0.578947               0.476190              0.117647   \n",
       "...                    ...                    ...                   ...   \n",
       "22960             0.789474               0.619048              0.705882   \n",
       "22961             0.789474               0.476190              0.470588   \n",
       "22962             0.631579               0.619048              0.529412   \n",
       "22963             0.736842               0.476190              0.588235   \n",
       "22964             0.789474               0.666667              0.529412   \n",
       "\n",
       "       home_recent_3PT_missed  home_recent_ft_made  home_recent_ft_missed  \\\n",
       "1189                 0.035714             0.722222               0.333333   \n",
       "1190                 0.142857             0.333333               0.222222   \n",
       "1191                 0.178571             0.500000               0.222222   \n",
       "1192                 0.214286             0.333333               0.444444   \n",
       "1193                 0.035714             0.388889               0.333333   \n",
       "...                       ...                  ...                    ...   \n",
       "22960                0.714286             0.555556               0.333333   \n",
       "22961                0.428571             0.333333               0.111111   \n",
       "22962                0.607143             0.222222               0.222222   \n",
       "22963                0.428571             0.722222               0.444444   \n",
       "22964                0.571429             0.500000               0.222222   \n",
       "\n",
       "       home_recent_players_deployed  home_recent_rebound  \\\n",
       "1189                            0.6             0.444444   \n",
       "1190                            0.4             0.388889   \n",
       "1191                            0.4             0.333333   \n",
       "1192                            0.6             0.277778   \n",
       "1193                            0.6             0.444444   \n",
       "...                             ...                  ...   \n",
       "22960                           0.6             0.944444   \n",
       "22961                           0.6             0.555556   \n",
       "22962                           0.6             0.555556   \n",
       "22963                           0.8             0.611111   \n",
       "22964                           0.6             0.833333   \n",
       "\n",
       "       home_recent_turnover  home_recent_foul  visitor_recent_home_game_ratio  \\\n",
       "1189               0.583333          0.533333                             0.0   \n",
       "1190               0.500000          0.600000                             0.0   \n",
       "1191               0.583333          0.533333                             0.0   \n",
       "1192               0.500000          0.666667                             0.0   \n",
       "1193               0.333333          0.666667                             0.0   \n",
       "...                     ...               ...                             ...   \n",
       "22960              0.333333          0.333333                             0.0   \n",
       "22961              0.166667          0.200000                             0.0   \n",
       "22962              0.250000          0.400000                             0.0   \n",
       "22963              0.416667          0.600000                             0.0   \n",
       "22964              0.333333          0.266667                             0.0   \n",
       "\n",
       "       visitor_recent_win_ratio  visitor_recent_points  \\\n",
       "1189                        0.0               0.431373   \n",
       "1190                        0.0               0.411765   \n",
       "1191                        0.0               0.431373   \n",
       "1192                        0.0               0.450980   \n",
       "1193                        0.0               0.274510   \n",
       "...                         ...                    ...   \n",
       "22960                       0.0               0.647059   \n",
       "22961                       0.0               0.745098   \n",
       "22962                       0.0               0.666667   \n",
       "22963                       0.0               0.823529   \n",
       "22964                       0.0               0.764706   \n",
       "\n",
       "       visitor_recent_timeout  visitor_recent_TSP  visitor_recent_fg_made  \\\n",
       "1189                      0.4            0.413002                    0.30   \n",
       "1190                      0.6            0.729988                    0.40   \n",
       "1191                      0.4            0.521625                    0.45   \n",
       "1192                      0.4            0.363993                    0.50   \n",
       "1193                      0.4            0.317161                    0.30   \n",
       "...                       ...                 ...                     ...   \n",
       "22960                     0.4            0.210333                    0.60   \n",
       "22961                     0.6            0.345632                    0.65   \n",
       "22962                     0.4            0.383063                    0.65   \n",
       "22963                     0.2            0.631306                    0.75   \n",
       "22964                     0.4            0.393014                    0.80   \n",
       "\n",
       "       visitor_recent_fg_missed  visitor_recent_3PT_made  \\\n",
       "1189                   0.476190                 0.411765   \n",
       "1190                   0.238095                 0.058824   \n",
       "1191                   0.428571                 0.176471   \n",
       "1192                   0.571429                 0.235294   \n",
       "1193                   0.619048                 0.058824   \n",
       "...                         ...                      ...   \n",
       "22960                  0.809524                 0.647059   \n",
       "22961                  0.666667                 0.705882   \n",
       "22962                  0.619048                 0.529412   \n",
       "22963                  0.333333                 0.705882   \n",
       "22964                  0.714286                 0.588235   \n",
       "\n",
       "       visitor_recent_3PT_missed  visitor_recent_ft_made  \\\n",
       "1189                    0.392857                0.555556   \n",
       "1190                    0.000000                0.722222   \n",
       "1191                    0.142857                0.555556   \n",
       "1192                    0.178571                0.333333   \n",
       "1193                    0.071429                0.500000   \n",
       "...                          ...                     ...   \n",
       "22960                   0.678571                0.333333   \n",
       "22961                   0.785714                0.500000   \n",
       "22962                   0.535714                0.444444   \n",
       "22963                   0.571429                0.500000   \n",
       "22964                   0.464286                0.333333   \n",
       "\n",
       "       visitor_recent_ft_missed  visitor_recent_players_deployed  \\\n",
       "1189                        0.5                              0.6   \n",
       "1190                        0.6                              0.4   \n",
       "1191                        0.4                              0.6   \n",
       "1192                        0.4                              0.4   \n",
       "1193                        0.5                              0.6   \n",
       "...                         ...                              ...   \n",
       "22960                       0.5                              0.6   \n",
       "22961                       0.4                              0.8   \n",
       "22962                       0.4                              0.6   \n",
       "22963                       0.5                              0.8   \n",
       "22964                       0.4                              0.6   \n",
       "\n",
       "       visitor_recent_rebound  visitor_recent_turnover  visitor_recent_foul  \\\n",
       "1189                 0.315789                 0.461538             0.600000   \n",
       "1190                 0.315789                 0.692308             0.400000   \n",
       "1191                 0.526316                 0.538462             0.600000   \n",
       "1192                 0.473684                 0.384615             0.400000   \n",
       "1193                 0.684211                 0.461538             0.400000   \n",
       "...                       ...                      ...                  ...   \n",
       "22960                0.736842                 0.461538             0.466667   \n",
       "22961                0.684211                 0.230769             0.466667   \n",
       "22962                0.473684                 0.384615             0.333333   \n",
       "22963                0.736842                 0.538462             0.466667   \n",
       "22964                0.684211                 0.307692             0.333333   \n",
       "\n",
       "       home_rank  visitor_rank  home_team_id  visitor_team_id  \n",
       "1189    0.692308      0.576923             2                1  \n",
       "1190    0.269231      0.846154            15               27  \n",
       "1191    0.730769      0.500000            14               17  \n",
       "1192    0.461538      0.307692            16               24  \n",
       "1193    0.307692      0.038462            13               18  \n",
       "...          ...           ...           ...              ...  \n",
       "22960   0.384615      0.269231            12               23  \n",
       "22961   0.307692      0.769231            22                5  \n",
       "22962   0.346154      0.307692             6               13  \n",
       "22963   0.461538      0.269231             9               25  \n",
       "22964   0.230769      0.692308            20               21  \n",
       "\n",
       "[21452 rows x 32 columns]"
      ]
     },
     "execution_count": 129,
     "metadata": {},
     "output_type": "execute_result"
    }
   ],
   "source": [
    "data"
   ]
  },
  {
   "cell_type": "code",
   "execution_count": null,
   "metadata": {},
   "outputs": [],
   "source": []
  },
  {
   "cell_type": "code",
   "execution_count": null,
   "metadata": {},
   "outputs": [],
   "source": []
  },
  {
   "cell_type": "code",
   "execution_count": null,
   "metadata": {},
   "outputs": [],
   "source": []
  },
  {
   "cell_type": "code",
   "execution_count": null,
   "metadata": {},
   "outputs": [],
   "source": []
  }
 ],
 "metadata": {
  "kernelspec": {
   "display_name": "Python 3.9.7 ('base')",
   "language": "python",
   "name": "python3"
  },
  "language_info": {
   "codemirror_mode": {
    "name": "ipython",
    "version": 3
   },
   "file_extension": ".py",
   "mimetype": "text/x-python",
   "name": "python",
   "nbconvert_exporter": "python",
   "pygments_lexer": "ipython3",
   "version": "3.9.7"
  },
  "orig_nbformat": 4,
  "vscode": {
   "interpreter": {
    "hash": "b31df5e40a2ea5614eea9e37cfea4cb8c906f1ee256973763ea3407ba03e30ed"
   }
  }
 },
 "nbformat": 4,
 "nbformat_minor": 2
}
