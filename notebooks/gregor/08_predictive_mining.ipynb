{
 "cells": [
  {
   "cell_type": "code",
   "execution_count": 127,
   "metadata": {},
   "outputs": [],
   "source": [
    "import numpy as np\n",
    "import pandas as pd\n",
    "import plotly.express as px\n",
    "import plotly.graph_objects as go\n",
    "from plotly.subplots import make_subplots\n",
    "import matplotlib.pyplot as plt\n",
    "import seaborn as sns\n",
    "from sklearn.model_selection import train_test_split\n",
    "from sklearn.linear_model import LogisticRegression\n",
    "from sklearn.feature_selection import RFE\n",
    "from sklearn.metrics import classification_report, roc_curve, auc\n",
    "from sklearn.preprocessing import LabelEncoder, MinMaxScaler\n",
    "import sys\n",
    "sys.path.insert(0, \"./../../\")\n",
    "from src.data_loader import add_recent_stats, load_game_data_zan\n",
    "pd.set_option('display.max_columns', None)\n",
    "\n",
    "%reload_ext autoreload\n",
    "%autoreload 2"
   ]
  },
  {
   "cell_type": "code",
   "execution_count": 129,
   "metadata": {},
   "outputs": [],
   "source": [
    "# game_data = load_game_data_zan()\n",
    "# game_data_recent = add_recent_stats(game_data, recent_range=15)"
   ]
  },
  {
   "cell_type": "code",
   "execution_count": 186,
   "metadata": {},
   "outputs": [],
   "source": [
    "path_game_data_recent = \"/home/matej/Documents/Projects/nba-data-mining/data/processed/game-data-recent-15.csv\"\n",
    "game_data_recent = pd.read_csv(path_game_data_recent)\n",
    "game_data_recent[\"season_name\"] = game_data_recent[\"season_name\"].str.split(\"-\").str[0].astype(int)"
   ]
  },
  {
   "cell_type": "markdown",
   "metadata": {},
   "source": [
    "* * *\n",
    "### Analysis of features (AFTER GAME)\n",
    "\n",
    "Following pairs of features are highly correlated:\n",
    "- home_final_score & home_fg_made\n",
    "- visitor_final_score & visitor_fg_made\n",
    "- home_final_score & home_TSP\n",
    "- visitor_final_score & visitor_TSP\n",
    "- home_rebound & visitor_fg_missed\n",
    "- visitor_rebound & home_fg_missed\n",
    "\n",
    "Suggested features to be included in the model:\n",
    "- home_TSP\n",
    "- home_fg_made (????)\n",
    "- home_timeout\n",
    "- visitor TSP\n",
    "- visitor_fg_made (????)\n",
    "- visitor_timeout\n",
    "- home_final_score_diff\n"
   ]
  },
  {
   "cell_type": "code",
   "execution_count": 35,
   "metadata": {},
   "outputs": [
    {
     "data": {
      "text/plain": [
       "home_rebound             0.238655\n",
       "visitor_timeout          0.285202\n",
       "visitor_fg_missed        0.328124\n",
       "home_fg_made             0.347027\n",
       "home_final_score         0.416214\n",
       "home_TSP                 0.452732\n",
       "home_final_score_diff    0.802811\n",
       "home_win                 1.000000\n",
       "Name: home_win, dtype: float64"
      ]
     },
     "execution_count": 35,
     "metadata": {},
     "output_type": "execute_result"
    }
   ],
   "source": [
    "correlations = game_data_recent.corr()\n",
    "correlations_home_win = correlations[\"home_win\"].sort_values()\n",
    "correlations_home_win[correlations_home_win > 0.2]"
   ]
  },
  {
   "cell_type": "code",
   "execution_count": 36,
   "metadata": {},
   "outputs": [
    {
     "data": {
      "application/vnd.plotly.v1+json": {
       "config": {
        "plotlyServerURL": "https://plot.ly"
       },
       "data": [
        {
         "coloraxis": "coloraxis",
         "hovertemplate": "x: %{x}<br>y: %{y}<br>color: %{z}<extra></extra>",
         "name": "0",
         "type": "heatmap",
         "x": [
          "home_rebound",
          "visitor_timeout",
          "visitor_fg_missed",
          "home_fg_made",
          "home_final_score",
          "home_TSP",
          "home_final_score_diff"
         ],
         "xaxis": "x",
         "y": [
          "home_rebound",
          "visitor_timeout",
          "visitor_fg_missed",
          "home_fg_made",
          "home_final_score",
          "home_TSP",
          "home_final_score_diff"
         ],
         "yaxis": "y",
         "z": [
          [
           1,
           0.12478111318617317,
           0.5381142381559567,
           0.11555690294443237,
           0.12925317628198066,
           -0.21356395046081933,
           0.29938455880360987
          ],
          [
           0.12478111318617317,
           1,
           0.17976381869802568,
           0.09929803718917067,
           0.16902922234970966,
           0.11046293990107042,
           0.15258192388126848
          ],
          [
           0.5381142381559567,
           0.17976381869802568,
           1,
           0.12405770418317552,
           0.15517139112541112,
           0.0386853120128657,
           0.36027247511429034
          ],
          [
           0.11555690294443237,
           0.09929803718917067,
           0.12405770418317552,
           1,
           0.8404287879936776,
           0.42251920394418035,
           0.4722093548512344
          ],
          [
           0.12925317628198066,
           0.16902922234970966,
           0.15517139112541112,
           0.8404287879936776,
           1,
           0.6387755149878698,
           0.5185142459581283
          ],
          [
           -0.21356395046081933,
           0.11046293990107042,
           0.0386853120128657,
           0.42251920394418035,
           0.6387755149878698,
           1,
           0.5048702463409203
          ],
          [
           0.29938455880360987,
           0.15258192388126848,
           0.36027247511429034,
           0.4722093548512344,
           0.5185142459581283,
           0.5048702463409203,
           1
          ]
         ]
        }
       ],
       "layout": {
        "coloraxis": {
         "colorscale": [
          [
           0,
           "#0d0887"
          ],
          [
           0.1111111111111111,
           "#46039f"
          ],
          [
           0.2222222222222222,
           "#7201a8"
          ],
          [
           0.3333333333333333,
           "#9c179e"
          ],
          [
           0.4444444444444444,
           "#bd3786"
          ],
          [
           0.5555555555555556,
           "#d8576b"
          ],
          [
           0.6666666666666666,
           "#ed7953"
          ],
          [
           0.7777777777777778,
           "#fb9f3a"
          ],
          [
           0.8888888888888888,
           "#fdca26"
          ],
          [
           1,
           "#f0f921"
          ]
         ]
        },
        "margin": {
         "t": 60
        },
        "template": {
         "data": {
          "bar": [
           {
            "error_x": {
             "color": "#2a3f5f"
            },
            "error_y": {
             "color": "#2a3f5f"
            },
            "marker": {
             "line": {
              "color": "#E5ECF6",
              "width": 0.5
             },
             "pattern": {
              "fillmode": "overlay",
              "size": 10,
              "solidity": 0.2
             }
            },
            "type": "bar"
           }
          ],
          "barpolar": [
           {
            "marker": {
             "line": {
              "color": "#E5ECF6",
              "width": 0.5
             },
             "pattern": {
              "fillmode": "overlay",
              "size": 10,
              "solidity": 0.2
             }
            },
            "type": "barpolar"
           }
          ],
          "carpet": [
           {
            "aaxis": {
             "endlinecolor": "#2a3f5f",
             "gridcolor": "white",
             "linecolor": "white",
             "minorgridcolor": "white",
             "startlinecolor": "#2a3f5f"
            },
            "baxis": {
             "endlinecolor": "#2a3f5f",
             "gridcolor": "white",
             "linecolor": "white",
             "minorgridcolor": "white",
             "startlinecolor": "#2a3f5f"
            },
            "type": "carpet"
           }
          ],
          "choropleth": [
           {
            "colorbar": {
             "outlinewidth": 0,
             "ticks": ""
            },
            "type": "choropleth"
           }
          ],
          "contour": [
           {
            "colorbar": {
             "outlinewidth": 0,
             "ticks": ""
            },
            "colorscale": [
             [
              0,
              "#0d0887"
             ],
             [
              0.1111111111111111,
              "#46039f"
             ],
             [
              0.2222222222222222,
              "#7201a8"
             ],
             [
              0.3333333333333333,
              "#9c179e"
             ],
             [
              0.4444444444444444,
              "#bd3786"
             ],
             [
              0.5555555555555556,
              "#d8576b"
             ],
             [
              0.6666666666666666,
              "#ed7953"
             ],
             [
              0.7777777777777778,
              "#fb9f3a"
             ],
             [
              0.8888888888888888,
              "#fdca26"
             ],
             [
              1,
              "#f0f921"
             ]
            ],
            "type": "contour"
           }
          ],
          "contourcarpet": [
           {
            "colorbar": {
             "outlinewidth": 0,
             "ticks": ""
            },
            "type": "contourcarpet"
           }
          ],
          "heatmap": [
           {
            "colorbar": {
             "outlinewidth": 0,
             "ticks": ""
            },
            "colorscale": [
             [
              0,
              "#0d0887"
             ],
             [
              0.1111111111111111,
              "#46039f"
             ],
             [
              0.2222222222222222,
              "#7201a8"
             ],
             [
              0.3333333333333333,
              "#9c179e"
             ],
             [
              0.4444444444444444,
              "#bd3786"
             ],
             [
              0.5555555555555556,
              "#d8576b"
             ],
             [
              0.6666666666666666,
              "#ed7953"
             ],
             [
              0.7777777777777778,
              "#fb9f3a"
             ],
             [
              0.8888888888888888,
              "#fdca26"
             ],
             [
              1,
              "#f0f921"
             ]
            ],
            "type": "heatmap"
           }
          ],
          "heatmapgl": [
           {
            "colorbar": {
             "outlinewidth": 0,
             "ticks": ""
            },
            "colorscale": [
             [
              0,
              "#0d0887"
             ],
             [
              0.1111111111111111,
              "#46039f"
             ],
             [
              0.2222222222222222,
              "#7201a8"
             ],
             [
              0.3333333333333333,
              "#9c179e"
             ],
             [
              0.4444444444444444,
              "#bd3786"
             ],
             [
              0.5555555555555556,
              "#d8576b"
             ],
             [
              0.6666666666666666,
              "#ed7953"
             ],
             [
              0.7777777777777778,
              "#fb9f3a"
             ],
             [
              0.8888888888888888,
              "#fdca26"
             ],
             [
              1,
              "#f0f921"
             ]
            ],
            "type": "heatmapgl"
           }
          ],
          "histogram": [
           {
            "marker": {
             "pattern": {
              "fillmode": "overlay",
              "size": 10,
              "solidity": 0.2
             }
            },
            "type": "histogram"
           }
          ],
          "histogram2d": [
           {
            "colorbar": {
             "outlinewidth": 0,
             "ticks": ""
            },
            "colorscale": [
             [
              0,
              "#0d0887"
             ],
             [
              0.1111111111111111,
              "#46039f"
             ],
             [
              0.2222222222222222,
              "#7201a8"
             ],
             [
              0.3333333333333333,
              "#9c179e"
             ],
             [
              0.4444444444444444,
              "#bd3786"
             ],
             [
              0.5555555555555556,
              "#d8576b"
             ],
             [
              0.6666666666666666,
              "#ed7953"
             ],
             [
              0.7777777777777778,
              "#fb9f3a"
             ],
             [
              0.8888888888888888,
              "#fdca26"
             ],
             [
              1,
              "#f0f921"
             ]
            ],
            "type": "histogram2d"
           }
          ],
          "histogram2dcontour": [
           {
            "colorbar": {
             "outlinewidth": 0,
             "ticks": ""
            },
            "colorscale": [
             [
              0,
              "#0d0887"
             ],
             [
              0.1111111111111111,
              "#46039f"
             ],
             [
              0.2222222222222222,
              "#7201a8"
             ],
             [
              0.3333333333333333,
              "#9c179e"
             ],
             [
              0.4444444444444444,
              "#bd3786"
             ],
             [
              0.5555555555555556,
              "#d8576b"
             ],
             [
              0.6666666666666666,
              "#ed7953"
             ],
             [
              0.7777777777777778,
              "#fb9f3a"
             ],
             [
              0.8888888888888888,
              "#fdca26"
             ],
             [
              1,
              "#f0f921"
             ]
            ],
            "type": "histogram2dcontour"
           }
          ],
          "mesh3d": [
           {
            "colorbar": {
             "outlinewidth": 0,
             "ticks": ""
            },
            "type": "mesh3d"
           }
          ],
          "parcoords": [
           {
            "line": {
             "colorbar": {
              "outlinewidth": 0,
              "ticks": ""
             }
            },
            "type": "parcoords"
           }
          ],
          "pie": [
           {
            "automargin": true,
            "type": "pie"
           }
          ],
          "scatter": [
           {
            "fillpattern": {
             "fillmode": "overlay",
             "size": 10,
             "solidity": 0.2
            },
            "type": "scatter"
           }
          ],
          "scatter3d": [
           {
            "line": {
             "colorbar": {
              "outlinewidth": 0,
              "ticks": ""
             }
            },
            "marker": {
             "colorbar": {
              "outlinewidth": 0,
              "ticks": ""
             }
            },
            "type": "scatter3d"
           }
          ],
          "scattercarpet": [
           {
            "marker": {
             "colorbar": {
              "outlinewidth": 0,
              "ticks": ""
             }
            },
            "type": "scattercarpet"
           }
          ],
          "scattergeo": [
           {
            "marker": {
             "colorbar": {
              "outlinewidth": 0,
              "ticks": ""
             }
            },
            "type": "scattergeo"
           }
          ],
          "scattergl": [
           {
            "marker": {
             "colorbar": {
              "outlinewidth": 0,
              "ticks": ""
             }
            },
            "type": "scattergl"
           }
          ],
          "scattermapbox": [
           {
            "marker": {
             "colorbar": {
              "outlinewidth": 0,
              "ticks": ""
             }
            },
            "type": "scattermapbox"
           }
          ],
          "scatterpolar": [
           {
            "marker": {
             "colorbar": {
              "outlinewidth": 0,
              "ticks": ""
             }
            },
            "type": "scatterpolar"
           }
          ],
          "scatterpolargl": [
           {
            "marker": {
             "colorbar": {
              "outlinewidth": 0,
              "ticks": ""
             }
            },
            "type": "scatterpolargl"
           }
          ],
          "scatterternary": [
           {
            "marker": {
             "colorbar": {
              "outlinewidth": 0,
              "ticks": ""
             }
            },
            "type": "scatterternary"
           }
          ],
          "surface": [
           {
            "colorbar": {
             "outlinewidth": 0,
             "ticks": ""
            },
            "colorscale": [
             [
              0,
              "#0d0887"
             ],
             [
              0.1111111111111111,
              "#46039f"
             ],
             [
              0.2222222222222222,
              "#7201a8"
             ],
             [
              0.3333333333333333,
              "#9c179e"
             ],
             [
              0.4444444444444444,
              "#bd3786"
             ],
             [
              0.5555555555555556,
              "#d8576b"
             ],
             [
              0.6666666666666666,
              "#ed7953"
             ],
             [
              0.7777777777777778,
              "#fb9f3a"
             ],
             [
              0.8888888888888888,
              "#fdca26"
             ],
             [
              1,
              "#f0f921"
             ]
            ],
            "type": "surface"
           }
          ],
          "table": [
           {
            "cells": {
             "fill": {
              "color": "#EBF0F8"
             },
             "line": {
              "color": "white"
             }
            },
            "header": {
             "fill": {
              "color": "#C8D4E3"
             },
             "line": {
              "color": "white"
             }
            },
            "type": "table"
           }
          ]
         },
         "layout": {
          "annotationdefaults": {
           "arrowcolor": "#2a3f5f",
           "arrowhead": 0,
           "arrowwidth": 1
          },
          "autotypenumbers": "strict",
          "coloraxis": {
           "colorbar": {
            "outlinewidth": 0,
            "ticks": ""
           }
          },
          "colorscale": {
           "diverging": [
            [
             0,
             "#8e0152"
            ],
            [
             0.1,
             "#c51b7d"
            ],
            [
             0.2,
             "#de77ae"
            ],
            [
             0.3,
             "#f1b6da"
            ],
            [
             0.4,
             "#fde0ef"
            ],
            [
             0.5,
             "#f7f7f7"
            ],
            [
             0.6,
             "#e6f5d0"
            ],
            [
             0.7,
             "#b8e186"
            ],
            [
             0.8,
             "#7fbc41"
            ],
            [
             0.9,
             "#4d9221"
            ],
            [
             1,
             "#276419"
            ]
           ],
           "sequential": [
            [
             0,
             "#0d0887"
            ],
            [
             0.1111111111111111,
             "#46039f"
            ],
            [
             0.2222222222222222,
             "#7201a8"
            ],
            [
             0.3333333333333333,
             "#9c179e"
            ],
            [
             0.4444444444444444,
             "#bd3786"
            ],
            [
             0.5555555555555556,
             "#d8576b"
            ],
            [
             0.6666666666666666,
             "#ed7953"
            ],
            [
             0.7777777777777778,
             "#fb9f3a"
            ],
            [
             0.8888888888888888,
             "#fdca26"
            ],
            [
             1,
             "#f0f921"
            ]
           ],
           "sequentialminus": [
            [
             0,
             "#0d0887"
            ],
            [
             0.1111111111111111,
             "#46039f"
            ],
            [
             0.2222222222222222,
             "#7201a8"
            ],
            [
             0.3333333333333333,
             "#9c179e"
            ],
            [
             0.4444444444444444,
             "#bd3786"
            ],
            [
             0.5555555555555556,
             "#d8576b"
            ],
            [
             0.6666666666666666,
             "#ed7953"
            ],
            [
             0.7777777777777778,
             "#fb9f3a"
            ],
            [
             0.8888888888888888,
             "#fdca26"
            ],
            [
             1,
             "#f0f921"
            ]
           ]
          },
          "colorway": [
           "#636efa",
           "#EF553B",
           "#00cc96",
           "#ab63fa",
           "#FFA15A",
           "#19d3f3",
           "#FF6692",
           "#B6E880",
           "#FF97FF",
           "#FECB52"
          ],
          "font": {
           "color": "#2a3f5f"
          },
          "geo": {
           "bgcolor": "white",
           "lakecolor": "white",
           "landcolor": "#E5ECF6",
           "showlakes": true,
           "showland": true,
           "subunitcolor": "white"
          },
          "hoverlabel": {
           "align": "left"
          },
          "hovermode": "closest",
          "mapbox": {
           "style": "light"
          },
          "paper_bgcolor": "white",
          "plot_bgcolor": "#E5ECF6",
          "polar": {
           "angularaxis": {
            "gridcolor": "white",
            "linecolor": "white",
            "ticks": ""
           },
           "bgcolor": "#E5ECF6",
           "radialaxis": {
            "gridcolor": "white",
            "linecolor": "white",
            "ticks": ""
           }
          },
          "scene": {
           "xaxis": {
            "backgroundcolor": "#E5ECF6",
            "gridcolor": "white",
            "gridwidth": 2,
            "linecolor": "white",
            "showbackground": true,
            "ticks": "",
            "zerolinecolor": "white"
           },
           "yaxis": {
            "backgroundcolor": "#E5ECF6",
            "gridcolor": "white",
            "gridwidth": 2,
            "linecolor": "white",
            "showbackground": true,
            "ticks": "",
            "zerolinecolor": "white"
           },
           "zaxis": {
            "backgroundcolor": "#E5ECF6",
            "gridcolor": "white",
            "gridwidth": 2,
            "linecolor": "white",
            "showbackground": true,
            "ticks": "",
            "zerolinecolor": "white"
           }
          },
          "shapedefaults": {
           "line": {
            "color": "#2a3f5f"
           }
          },
          "ternary": {
           "aaxis": {
            "gridcolor": "white",
            "linecolor": "white",
            "ticks": ""
           },
           "baxis": {
            "gridcolor": "white",
            "linecolor": "white",
            "ticks": ""
           },
           "bgcolor": "#E5ECF6",
           "caxis": {
            "gridcolor": "white",
            "linecolor": "white",
            "ticks": ""
           }
          },
          "title": {
           "x": 0.05
          },
          "xaxis": {
           "automargin": true,
           "gridcolor": "white",
           "linecolor": "white",
           "ticks": "",
           "title": {
            "standoff": 15
           },
           "zerolinecolor": "white",
           "zerolinewidth": 2
          },
          "yaxis": {
           "automargin": true,
           "gridcolor": "white",
           "linecolor": "white",
           "ticks": "",
           "title": {
            "standoff": 15
           },
           "zerolinecolor": "white",
           "zerolinewidth": 2
          }
         }
        },
        "xaxis": {
         "anchor": "y",
         "constrain": "domain",
         "domain": [
          0,
          1
         ],
         "scaleanchor": "y"
        },
        "yaxis": {
         "anchor": "x",
         "autorange": "reversed",
         "constrain": "domain",
         "domain": [
          0,
          1
         ]
        }
       }
      }
     },
     "metadata": {},
     "output_type": "display_data"
    }
   ],
   "source": [
    "correlations_positive = game_data_recent[[\"home_rebound\", \"visitor_timeout\", \"visitor_fg_missed\", \"home_fg_made\", \"home_final_score\", \"home_TSP\", \"home_final_score_diff\"]].corr()\n",
    "\n",
    "fig = px.imshow(correlations_positive)\n",
    "fig.show()"
   ]
  },
  {
   "cell_type": "code",
   "execution_count": 34,
   "metadata": {},
   "outputs": [
    {
     "data": {
      "text/plain": [
       "visitor_final_score_diff        -0.802811\n",
       "visitor_TSP                     -0.454685\n",
       "home_timeout                    -0.422791\n",
       "visitor_final_score             -0.413958\n",
       "visitor_fg_made                 -0.338052\n",
       "home_fg_missed                  -0.326205\n",
       "visitor_scoring_leader_points   -0.236186\n",
       "visitor_rebound                 -0.233071\n",
       "Name: home_win, dtype: float64"
      ]
     },
     "execution_count": 34,
     "metadata": {},
     "output_type": "execute_result"
    }
   ],
   "source": [
    "correlations_home_win[correlations_home_win < -0.2]"
   ]
  },
  {
   "cell_type": "code",
   "execution_count": 37,
   "metadata": {},
   "outputs": [
    {
     "data": {
      "application/vnd.plotly.v1+json": {
       "config": {
        "plotlyServerURL": "https://plot.ly"
       },
       "data": [
        {
         "coloraxis": "coloraxis",
         "hovertemplate": "x: %{x}<br>y: %{y}<br>color: %{z}<extra></extra>",
         "name": "0",
         "type": "heatmap",
         "x": [
          "visitor_rebound",
          "home_timeout",
          "home_fg_missed",
          "visitor_fg_made",
          "visitor_final_score",
          "visitor_TSP",
          "visitor_final_score_diff",
          "visitor_scoring_leader_points"
         ],
         "xaxis": "x",
         "y": [
          "visitor_rebound",
          "home_timeout",
          "home_fg_missed",
          "visitor_fg_made",
          "visitor_final_score",
          "visitor_TSP",
          "visitor_final_score_diff",
          "visitor_scoring_leader_points"
         ],
         "yaxis": "y",
         "z": [
          [
           1,
           0.17765357493314685,
           0.5311787167175761,
           0.1297243503850536,
           0.13976987379195782,
           -0.20113550242421105,
           0.29282003857607614,
           0.06618126374703744
          ],
          [
           0.17765357493314685,
           1,
           0.25554224655828506,
           0.21315700324534614,
           0.28096506526859477,
           0.22044094198023448,
           0.38831904151953006,
           0.2552097339611627
          ],
          [
           0.5311787167175761,
           0.25554224655828506,
           1,
           0.11080440542508399,
           0.14360798748283898,
           0.03591380567706907,
           0.3672079663228746,
           0.0990403999101095
          ],
          [
           0.1297243503850536,
           0.21315700324534614,
           0.11080440542508399,
           1,
           0.8448878190054376,
           0.4317080136505679,
           0.45568367205310023,
           0.364492300959696
          ],
          [
           0.13976987379195782,
           0.28096506526859477,
           0.14360798748283898,
           0.8448878190054376,
           1,
           0.6473135799291496,
           0.5155686255832953,
           0.48579977502327587
          ],
          [
           -0.20113550242421105,
           0.22044094198023448,
           0.03591380567706907,
           0.4317080136505679,
           0.6473135799291496,
           1,
           0.5068574402649962,
           0.3605152684498121
          ],
          [
           0.29282003857607614,
           0.38831904151953006,
           0.3672079663228746,
           0.45568367205310023,
           0.5155686255832953,
           0.5068574402649962,
           1,
           0.2966703201400047
          ],
          [
           0.06618126374703744,
           0.2552097339611627,
           0.0990403999101095,
           0.364492300959696,
           0.48579977502327587,
           0.3605152684498121,
           0.2966703201400047,
           1
          ]
         ]
        }
       ],
       "layout": {
        "coloraxis": {
         "colorscale": [
          [
           0,
           "#0d0887"
          ],
          [
           0.1111111111111111,
           "#46039f"
          ],
          [
           0.2222222222222222,
           "#7201a8"
          ],
          [
           0.3333333333333333,
           "#9c179e"
          ],
          [
           0.4444444444444444,
           "#bd3786"
          ],
          [
           0.5555555555555556,
           "#d8576b"
          ],
          [
           0.6666666666666666,
           "#ed7953"
          ],
          [
           0.7777777777777778,
           "#fb9f3a"
          ],
          [
           0.8888888888888888,
           "#fdca26"
          ],
          [
           1,
           "#f0f921"
          ]
         ]
        },
        "margin": {
         "t": 60
        },
        "template": {
         "data": {
          "bar": [
           {
            "error_x": {
             "color": "#2a3f5f"
            },
            "error_y": {
             "color": "#2a3f5f"
            },
            "marker": {
             "line": {
              "color": "#E5ECF6",
              "width": 0.5
             },
             "pattern": {
              "fillmode": "overlay",
              "size": 10,
              "solidity": 0.2
             }
            },
            "type": "bar"
           }
          ],
          "barpolar": [
           {
            "marker": {
             "line": {
              "color": "#E5ECF6",
              "width": 0.5
             },
             "pattern": {
              "fillmode": "overlay",
              "size": 10,
              "solidity": 0.2
             }
            },
            "type": "barpolar"
           }
          ],
          "carpet": [
           {
            "aaxis": {
             "endlinecolor": "#2a3f5f",
             "gridcolor": "white",
             "linecolor": "white",
             "minorgridcolor": "white",
             "startlinecolor": "#2a3f5f"
            },
            "baxis": {
             "endlinecolor": "#2a3f5f",
             "gridcolor": "white",
             "linecolor": "white",
             "minorgridcolor": "white",
             "startlinecolor": "#2a3f5f"
            },
            "type": "carpet"
           }
          ],
          "choropleth": [
           {
            "colorbar": {
             "outlinewidth": 0,
             "ticks": ""
            },
            "type": "choropleth"
           }
          ],
          "contour": [
           {
            "colorbar": {
             "outlinewidth": 0,
             "ticks": ""
            },
            "colorscale": [
             [
              0,
              "#0d0887"
             ],
             [
              0.1111111111111111,
              "#46039f"
             ],
             [
              0.2222222222222222,
              "#7201a8"
             ],
             [
              0.3333333333333333,
              "#9c179e"
             ],
             [
              0.4444444444444444,
              "#bd3786"
             ],
             [
              0.5555555555555556,
              "#d8576b"
             ],
             [
              0.6666666666666666,
              "#ed7953"
             ],
             [
              0.7777777777777778,
              "#fb9f3a"
             ],
             [
              0.8888888888888888,
              "#fdca26"
             ],
             [
              1,
              "#f0f921"
             ]
            ],
            "type": "contour"
           }
          ],
          "contourcarpet": [
           {
            "colorbar": {
             "outlinewidth": 0,
             "ticks": ""
            },
            "type": "contourcarpet"
           }
          ],
          "heatmap": [
           {
            "colorbar": {
             "outlinewidth": 0,
             "ticks": ""
            },
            "colorscale": [
             [
              0,
              "#0d0887"
             ],
             [
              0.1111111111111111,
              "#46039f"
             ],
             [
              0.2222222222222222,
              "#7201a8"
             ],
             [
              0.3333333333333333,
              "#9c179e"
             ],
             [
              0.4444444444444444,
              "#bd3786"
             ],
             [
              0.5555555555555556,
              "#d8576b"
             ],
             [
              0.6666666666666666,
              "#ed7953"
             ],
             [
              0.7777777777777778,
              "#fb9f3a"
             ],
             [
              0.8888888888888888,
              "#fdca26"
             ],
             [
              1,
              "#f0f921"
             ]
            ],
            "type": "heatmap"
           }
          ],
          "heatmapgl": [
           {
            "colorbar": {
             "outlinewidth": 0,
             "ticks": ""
            },
            "colorscale": [
             [
              0,
              "#0d0887"
             ],
             [
              0.1111111111111111,
              "#46039f"
             ],
             [
              0.2222222222222222,
              "#7201a8"
             ],
             [
              0.3333333333333333,
              "#9c179e"
             ],
             [
              0.4444444444444444,
              "#bd3786"
             ],
             [
              0.5555555555555556,
              "#d8576b"
             ],
             [
              0.6666666666666666,
              "#ed7953"
             ],
             [
              0.7777777777777778,
              "#fb9f3a"
             ],
             [
              0.8888888888888888,
              "#fdca26"
             ],
             [
              1,
              "#f0f921"
             ]
            ],
            "type": "heatmapgl"
           }
          ],
          "histogram": [
           {
            "marker": {
             "pattern": {
              "fillmode": "overlay",
              "size": 10,
              "solidity": 0.2
             }
            },
            "type": "histogram"
           }
          ],
          "histogram2d": [
           {
            "colorbar": {
             "outlinewidth": 0,
             "ticks": ""
            },
            "colorscale": [
             [
              0,
              "#0d0887"
             ],
             [
              0.1111111111111111,
              "#46039f"
             ],
             [
              0.2222222222222222,
              "#7201a8"
             ],
             [
              0.3333333333333333,
              "#9c179e"
             ],
             [
              0.4444444444444444,
              "#bd3786"
             ],
             [
              0.5555555555555556,
              "#d8576b"
             ],
             [
              0.6666666666666666,
              "#ed7953"
             ],
             [
              0.7777777777777778,
              "#fb9f3a"
             ],
             [
              0.8888888888888888,
              "#fdca26"
             ],
             [
              1,
              "#f0f921"
             ]
            ],
            "type": "histogram2d"
           }
          ],
          "histogram2dcontour": [
           {
            "colorbar": {
             "outlinewidth": 0,
             "ticks": ""
            },
            "colorscale": [
             [
              0,
              "#0d0887"
             ],
             [
              0.1111111111111111,
              "#46039f"
             ],
             [
              0.2222222222222222,
              "#7201a8"
             ],
             [
              0.3333333333333333,
              "#9c179e"
             ],
             [
              0.4444444444444444,
              "#bd3786"
             ],
             [
              0.5555555555555556,
              "#d8576b"
             ],
             [
              0.6666666666666666,
              "#ed7953"
             ],
             [
              0.7777777777777778,
              "#fb9f3a"
             ],
             [
              0.8888888888888888,
              "#fdca26"
             ],
             [
              1,
              "#f0f921"
             ]
            ],
            "type": "histogram2dcontour"
           }
          ],
          "mesh3d": [
           {
            "colorbar": {
             "outlinewidth": 0,
             "ticks": ""
            },
            "type": "mesh3d"
           }
          ],
          "parcoords": [
           {
            "line": {
             "colorbar": {
              "outlinewidth": 0,
              "ticks": ""
             }
            },
            "type": "parcoords"
           }
          ],
          "pie": [
           {
            "automargin": true,
            "type": "pie"
           }
          ],
          "scatter": [
           {
            "fillpattern": {
             "fillmode": "overlay",
             "size": 10,
             "solidity": 0.2
            },
            "type": "scatter"
           }
          ],
          "scatter3d": [
           {
            "line": {
             "colorbar": {
              "outlinewidth": 0,
              "ticks": ""
             }
            },
            "marker": {
             "colorbar": {
              "outlinewidth": 0,
              "ticks": ""
             }
            },
            "type": "scatter3d"
           }
          ],
          "scattercarpet": [
           {
            "marker": {
             "colorbar": {
              "outlinewidth": 0,
              "ticks": ""
             }
            },
            "type": "scattercarpet"
           }
          ],
          "scattergeo": [
           {
            "marker": {
             "colorbar": {
              "outlinewidth": 0,
              "ticks": ""
             }
            },
            "type": "scattergeo"
           }
          ],
          "scattergl": [
           {
            "marker": {
             "colorbar": {
              "outlinewidth": 0,
              "ticks": ""
             }
            },
            "type": "scattergl"
           }
          ],
          "scattermapbox": [
           {
            "marker": {
             "colorbar": {
              "outlinewidth": 0,
              "ticks": ""
             }
            },
            "type": "scattermapbox"
           }
          ],
          "scatterpolar": [
           {
            "marker": {
             "colorbar": {
              "outlinewidth": 0,
              "ticks": ""
             }
            },
            "type": "scatterpolar"
           }
          ],
          "scatterpolargl": [
           {
            "marker": {
             "colorbar": {
              "outlinewidth": 0,
              "ticks": ""
             }
            },
            "type": "scatterpolargl"
           }
          ],
          "scatterternary": [
           {
            "marker": {
             "colorbar": {
              "outlinewidth": 0,
              "ticks": ""
             }
            },
            "type": "scatterternary"
           }
          ],
          "surface": [
           {
            "colorbar": {
             "outlinewidth": 0,
             "ticks": ""
            },
            "colorscale": [
             [
              0,
              "#0d0887"
             ],
             [
              0.1111111111111111,
              "#46039f"
             ],
             [
              0.2222222222222222,
              "#7201a8"
             ],
             [
              0.3333333333333333,
              "#9c179e"
             ],
             [
              0.4444444444444444,
              "#bd3786"
             ],
             [
              0.5555555555555556,
              "#d8576b"
             ],
             [
              0.6666666666666666,
              "#ed7953"
             ],
             [
              0.7777777777777778,
              "#fb9f3a"
             ],
             [
              0.8888888888888888,
              "#fdca26"
             ],
             [
              1,
              "#f0f921"
             ]
            ],
            "type": "surface"
           }
          ],
          "table": [
           {
            "cells": {
             "fill": {
              "color": "#EBF0F8"
             },
             "line": {
              "color": "white"
             }
            },
            "header": {
             "fill": {
              "color": "#C8D4E3"
             },
             "line": {
              "color": "white"
             }
            },
            "type": "table"
           }
          ]
         },
         "layout": {
          "annotationdefaults": {
           "arrowcolor": "#2a3f5f",
           "arrowhead": 0,
           "arrowwidth": 1
          },
          "autotypenumbers": "strict",
          "coloraxis": {
           "colorbar": {
            "outlinewidth": 0,
            "ticks": ""
           }
          },
          "colorscale": {
           "diverging": [
            [
             0,
             "#8e0152"
            ],
            [
             0.1,
             "#c51b7d"
            ],
            [
             0.2,
             "#de77ae"
            ],
            [
             0.3,
             "#f1b6da"
            ],
            [
             0.4,
             "#fde0ef"
            ],
            [
             0.5,
             "#f7f7f7"
            ],
            [
             0.6,
             "#e6f5d0"
            ],
            [
             0.7,
             "#b8e186"
            ],
            [
             0.8,
             "#7fbc41"
            ],
            [
             0.9,
             "#4d9221"
            ],
            [
             1,
             "#276419"
            ]
           ],
           "sequential": [
            [
             0,
             "#0d0887"
            ],
            [
             0.1111111111111111,
             "#46039f"
            ],
            [
             0.2222222222222222,
             "#7201a8"
            ],
            [
             0.3333333333333333,
             "#9c179e"
            ],
            [
             0.4444444444444444,
             "#bd3786"
            ],
            [
             0.5555555555555556,
             "#d8576b"
            ],
            [
             0.6666666666666666,
             "#ed7953"
            ],
            [
             0.7777777777777778,
             "#fb9f3a"
            ],
            [
             0.8888888888888888,
             "#fdca26"
            ],
            [
             1,
             "#f0f921"
            ]
           ],
           "sequentialminus": [
            [
             0,
             "#0d0887"
            ],
            [
             0.1111111111111111,
             "#46039f"
            ],
            [
             0.2222222222222222,
             "#7201a8"
            ],
            [
             0.3333333333333333,
             "#9c179e"
            ],
            [
             0.4444444444444444,
             "#bd3786"
            ],
            [
             0.5555555555555556,
             "#d8576b"
            ],
            [
             0.6666666666666666,
             "#ed7953"
            ],
            [
             0.7777777777777778,
             "#fb9f3a"
            ],
            [
             0.8888888888888888,
             "#fdca26"
            ],
            [
             1,
             "#f0f921"
            ]
           ]
          },
          "colorway": [
           "#636efa",
           "#EF553B",
           "#00cc96",
           "#ab63fa",
           "#FFA15A",
           "#19d3f3",
           "#FF6692",
           "#B6E880",
           "#FF97FF",
           "#FECB52"
          ],
          "font": {
           "color": "#2a3f5f"
          },
          "geo": {
           "bgcolor": "white",
           "lakecolor": "white",
           "landcolor": "#E5ECF6",
           "showlakes": true,
           "showland": true,
           "subunitcolor": "white"
          },
          "hoverlabel": {
           "align": "left"
          },
          "hovermode": "closest",
          "mapbox": {
           "style": "light"
          },
          "paper_bgcolor": "white",
          "plot_bgcolor": "#E5ECF6",
          "polar": {
           "angularaxis": {
            "gridcolor": "white",
            "linecolor": "white",
            "ticks": ""
           },
           "bgcolor": "#E5ECF6",
           "radialaxis": {
            "gridcolor": "white",
            "linecolor": "white",
            "ticks": ""
           }
          },
          "scene": {
           "xaxis": {
            "backgroundcolor": "#E5ECF6",
            "gridcolor": "white",
            "gridwidth": 2,
            "linecolor": "white",
            "showbackground": true,
            "ticks": "",
            "zerolinecolor": "white"
           },
           "yaxis": {
            "backgroundcolor": "#E5ECF6",
            "gridcolor": "white",
            "gridwidth": 2,
            "linecolor": "white",
            "showbackground": true,
            "ticks": "",
            "zerolinecolor": "white"
           },
           "zaxis": {
            "backgroundcolor": "#E5ECF6",
            "gridcolor": "white",
            "gridwidth": 2,
            "linecolor": "white",
            "showbackground": true,
            "ticks": "",
            "zerolinecolor": "white"
           }
          },
          "shapedefaults": {
           "line": {
            "color": "#2a3f5f"
           }
          },
          "ternary": {
           "aaxis": {
            "gridcolor": "white",
            "linecolor": "white",
            "ticks": ""
           },
           "baxis": {
            "gridcolor": "white",
            "linecolor": "white",
            "ticks": ""
           },
           "bgcolor": "#E5ECF6",
           "caxis": {
            "gridcolor": "white",
            "linecolor": "white",
            "ticks": ""
           }
          },
          "title": {
           "x": 0.05
          },
          "xaxis": {
           "automargin": true,
           "gridcolor": "white",
           "linecolor": "white",
           "ticks": "",
           "title": {
            "standoff": 15
           },
           "zerolinecolor": "white",
           "zerolinewidth": 2
          },
          "yaxis": {
           "automargin": true,
           "gridcolor": "white",
           "linecolor": "white",
           "ticks": "",
           "title": {
            "standoff": 15
           },
           "zerolinecolor": "white",
           "zerolinewidth": 2
          }
         }
        },
        "xaxis": {
         "anchor": "y",
         "constrain": "domain",
         "domain": [
          0,
          1
         ],
         "scaleanchor": "y"
        },
        "yaxis": {
         "anchor": "x",
         "autorange": "reversed",
         "constrain": "domain",
         "domain": [
          0,
          1
         ]
        }
       }
      }
     },
     "metadata": {},
     "output_type": "display_data"
    }
   ],
   "source": [
    "correlations_negative = game_data_recent[[\"visitor_rebound\", \"home_timeout\", \"home_fg_missed\", \"visitor_fg_made\", \"visitor_final_score\", \"visitor_TSP\", \"visitor_final_score_diff\", \"visitor_scoring_leader_points\"]].corr()\n",
    "\n",
    "fig = px.imshow(correlations_negative)\n",
    "fig.show()"
   ]
  },
  {
   "cell_type": "markdown",
   "metadata": {},
   "source": [
    "* * *\n",
    "### Analysis of recent features (BEFORE GAME)\n",
    "\n",
    "Following pairs of recent features are highly correlated:\n",
    "- home_recent_fg_made & home_recent_points\n",
    "- home_recent_fg_made & home_recent_3PT_made\n",
    "- home_recent_3PT_made & home_recent_points\n",
    "- home_recent_TSP & home_recent_ft_made\n",
    "\n",
    "Suggested recent features to be included in the model:\n",
    "- home_recent_TSP\n",
    "- home_recent_timeout\n",
    "- visitor_recent_TSP\n",
    "- visitor_recent_timeout"
   ]
  },
  {
   "cell_type": "code",
   "execution_count": 138,
   "metadata": {},
   "outputs": [],
   "source": [
    "data_recent = game_data_recent.loc[:, \"home_recent_home_game_ratio\" : \"visitor_recent_foul\"].copy()\n",
    "data_recent[\"home_win\"] = game_data_recent[\"home_win\"]"
   ]
  },
  {
   "cell_type": "code",
   "execution_count": 152,
   "metadata": {},
   "outputs": [
    {
     "data": {
      "text/plain": [
       "visitor_recent_foul         0.047181\n",
       "home_recent_ft_made         0.049522\n",
       "home_recent_3PT_made        0.051208\n",
       "home_recent_rebound         0.052945\n",
       "visitor_recent_turnover     0.065748\n",
       "home_recent_fg_made         0.074790\n",
       "visitor_recent_fg_missed    0.084823\n",
       "home_recent_points          0.090952\n",
       "visitor_recent_timeout      0.103375\n",
       "home_recent_TSP             0.115796\n",
       "home_win                    1.000000\n",
       "Name: home_win, dtype: float64"
      ]
     },
     "execution_count": 152,
     "metadata": {},
     "output_type": "execute_result"
    }
   ],
   "source": [
    "correlations_recent = data_recent.corr()\n",
    "correlations_recent_home_win = correlations_recent[\"home_win\"].sort_values()\n",
    "correlations_recent_home_win[correlations_recent_home_win > 0.04]"
   ]
  },
  {
   "cell_type": "code",
   "execution_count": 155,
   "metadata": {},
   "outputs": [
    {
     "data": {
      "application/vnd.plotly.v1+json": {
       "config": {
        "plotlyServerURL": "https://plot.ly"
       },
       "data": [
        {
         "coloraxis": "coloraxis",
         "hovertemplate": "x: %{x}<br>y: %{y}<br>color: %{z}<extra></extra>",
         "name": "0",
         "type": "heatmap",
         "x": [
          "visitor_recent_foul",
          "home_recent_ft_made",
          "home_recent_3PT_made",
          "home_recent_rebound",
          "visitor_recent_turnover",
          "home_recent_fg_made",
          "visitor_recent_fg_missed",
          "home_recent_points",
          "visitor_recent_timeout",
          "home_recent_TSP"
         ],
         "xaxis": "x",
         "y": [
          "visitor_recent_foul",
          "home_recent_ft_made",
          "home_recent_3PT_made",
          "home_recent_rebound",
          "visitor_recent_turnover",
          "home_recent_fg_made",
          "visitor_recent_fg_missed",
          "home_recent_points",
          "visitor_recent_timeout",
          "home_recent_TSP"
         ],
         "yaxis": "y",
         "z": [
          [
           1,
           0.20273311084087503,
           -0.2177551991669259,
           -0.008597119512597022,
           0.3714537251055897,
           -0.10678235768586962,
           0.05030382275160871,
           -0.08148297554467962,
           0.1609089469927493,
           0.19081129776346537
          ],
          [
           0.20273311084087503,
           1,
           -0.18057932905737875,
           0.09583065618578664,
           0.05530432179617859,
           -0.05059887263773615,
           -0.03742118949091791,
           0.2532872289190876,
           0.0475816081012502,
           0.6325613368767931
          ],
          [
           -0.2177551991669259,
           -0.18057932905737875,
           1,
           0.23034076916689647,
           -0.07862439789181784,
           0.5316648290139677,
           0.23725080260963066,
           0.6733542825822686,
           -0.038643154032531594,
           -0.06643069800974437
          ],
          [
           -0.008597119512597022,
           0.09583065618578664,
           0.23034076916689647,
           1,
           0.06134930506373546,
           0.4296487195055355,
           0.26946705034665036,
           0.43529863303647115,
           0.0359972901100252,
           0.03939731732515232
          ],
          [
           0.3714537251055897,
           0.05530432179617859,
           -0.07862439789181784,
           0.06134930506373546,
           1,
           -0.030607252719883564,
           0.01129763020157061,
           -0.02992723384879346,
           0.1407597331218573,
           0.075672182602152
          ],
          [
           -0.10678235768586962,
           -0.05059887263773615,
           0.5316648290139677,
           0.4296487195055355,
           -0.030607252719883564,
           1,
           0.2584853812346871,
           0.9038339643867577,
           -0.004018009334281172,
           0.37374907104994604
          ],
          [
           0.05030382275160871,
           -0.03742118949091791,
           0.23725080260963066,
           0.26946705034665036,
           0.01129763020157061,
           0.2584853812346871,
           1,
           0.26291246413562797,
           0.20714113081426816,
           0.04352964026515585
          ],
          [
           -0.08148297554467962,
           0.2532872289190876,
           0.6733542825822686,
           0.43529863303647115,
           -0.02992723384879346,
           0.9038339643867577,
           0.26291246413562797,
           1,
           0.0013262118883326348,
           0.4836219501975619
          ],
          [
           0.1609089469927493,
           0.0475816081012502,
           -0.038643154032531594,
           0.0359972901100252,
           0.1407597331218573,
           -0.004018009334281172,
           0.20714113081426816,
           0.0013262118883326348,
           1,
           0.07573888622163286
          ],
          [
           0.19081129776346537,
           0.6325613368767931,
           -0.06643069800974437,
           0.03939731732515232,
           0.075672182602152,
           0.37374907104994604,
           0.04352964026515585,
           0.4836219501975619,
           0.07573888622163286,
           1
          ]
         ]
        }
       ],
       "layout": {
        "coloraxis": {
         "colorscale": [
          [
           0,
           "#0d0887"
          ],
          [
           0.1111111111111111,
           "#46039f"
          ],
          [
           0.2222222222222222,
           "#7201a8"
          ],
          [
           0.3333333333333333,
           "#9c179e"
          ],
          [
           0.4444444444444444,
           "#bd3786"
          ],
          [
           0.5555555555555556,
           "#d8576b"
          ],
          [
           0.6666666666666666,
           "#ed7953"
          ],
          [
           0.7777777777777778,
           "#fb9f3a"
          ],
          [
           0.8888888888888888,
           "#fdca26"
          ],
          [
           1,
           "#f0f921"
          ]
         ]
        },
        "height": 600,
        "margin": {
         "t": 60
        },
        "template": {
         "data": {
          "bar": [
           {
            "error_x": {
             "color": "#2a3f5f"
            },
            "error_y": {
             "color": "#2a3f5f"
            },
            "marker": {
             "line": {
              "color": "#E5ECF6",
              "width": 0.5
             },
             "pattern": {
              "fillmode": "overlay",
              "size": 10,
              "solidity": 0.2
             }
            },
            "type": "bar"
           }
          ],
          "barpolar": [
           {
            "marker": {
             "line": {
              "color": "#E5ECF6",
              "width": 0.5
             },
             "pattern": {
              "fillmode": "overlay",
              "size": 10,
              "solidity": 0.2
             }
            },
            "type": "barpolar"
           }
          ],
          "carpet": [
           {
            "aaxis": {
             "endlinecolor": "#2a3f5f",
             "gridcolor": "white",
             "linecolor": "white",
             "minorgridcolor": "white",
             "startlinecolor": "#2a3f5f"
            },
            "baxis": {
             "endlinecolor": "#2a3f5f",
             "gridcolor": "white",
             "linecolor": "white",
             "minorgridcolor": "white",
             "startlinecolor": "#2a3f5f"
            },
            "type": "carpet"
           }
          ],
          "choropleth": [
           {
            "colorbar": {
             "outlinewidth": 0,
             "ticks": ""
            },
            "type": "choropleth"
           }
          ],
          "contour": [
           {
            "colorbar": {
             "outlinewidth": 0,
             "ticks": ""
            },
            "colorscale": [
             [
              0,
              "#0d0887"
             ],
             [
              0.1111111111111111,
              "#46039f"
             ],
             [
              0.2222222222222222,
              "#7201a8"
             ],
             [
              0.3333333333333333,
              "#9c179e"
             ],
             [
              0.4444444444444444,
              "#bd3786"
             ],
             [
              0.5555555555555556,
              "#d8576b"
             ],
             [
              0.6666666666666666,
              "#ed7953"
             ],
             [
              0.7777777777777778,
              "#fb9f3a"
             ],
             [
              0.8888888888888888,
              "#fdca26"
             ],
             [
              1,
              "#f0f921"
             ]
            ],
            "type": "contour"
           }
          ],
          "contourcarpet": [
           {
            "colorbar": {
             "outlinewidth": 0,
             "ticks": ""
            },
            "type": "contourcarpet"
           }
          ],
          "heatmap": [
           {
            "colorbar": {
             "outlinewidth": 0,
             "ticks": ""
            },
            "colorscale": [
             [
              0,
              "#0d0887"
             ],
             [
              0.1111111111111111,
              "#46039f"
             ],
             [
              0.2222222222222222,
              "#7201a8"
             ],
             [
              0.3333333333333333,
              "#9c179e"
             ],
             [
              0.4444444444444444,
              "#bd3786"
             ],
             [
              0.5555555555555556,
              "#d8576b"
             ],
             [
              0.6666666666666666,
              "#ed7953"
             ],
             [
              0.7777777777777778,
              "#fb9f3a"
             ],
             [
              0.8888888888888888,
              "#fdca26"
             ],
             [
              1,
              "#f0f921"
             ]
            ],
            "type": "heatmap"
           }
          ],
          "heatmapgl": [
           {
            "colorbar": {
             "outlinewidth": 0,
             "ticks": ""
            },
            "colorscale": [
             [
              0,
              "#0d0887"
             ],
             [
              0.1111111111111111,
              "#46039f"
             ],
             [
              0.2222222222222222,
              "#7201a8"
             ],
             [
              0.3333333333333333,
              "#9c179e"
             ],
             [
              0.4444444444444444,
              "#bd3786"
             ],
             [
              0.5555555555555556,
              "#d8576b"
             ],
             [
              0.6666666666666666,
              "#ed7953"
             ],
             [
              0.7777777777777778,
              "#fb9f3a"
             ],
             [
              0.8888888888888888,
              "#fdca26"
             ],
             [
              1,
              "#f0f921"
             ]
            ],
            "type": "heatmapgl"
           }
          ],
          "histogram": [
           {
            "marker": {
             "pattern": {
              "fillmode": "overlay",
              "size": 10,
              "solidity": 0.2
             }
            },
            "type": "histogram"
           }
          ],
          "histogram2d": [
           {
            "colorbar": {
             "outlinewidth": 0,
             "ticks": ""
            },
            "colorscale": [
             [
              0,
              "#0d0887"
             ],
             [
              0.1111111111111111,
              "#46039f"
             ],
             [
              0.2222222222222222,
              "#7201a8"
             ],
             [
              0.3333333333333333,
              "#9c179e"
             ],
             [
              0.4444444444444444,
              "#bd3786"
             ],
             [
              0.5555555555555556,
              "#d8576b"
             ],
             [
              0.6666666666666666,
              "#ed7953"
             ],
             [
              0.7777777777777778,
              "#fb9f3a"
             ],
             [
              0.8888888888888888,
              "#fdca26"
             ],
             [
              1,
              "#f0f921"
             ]
            ],
            "type": "histogram2d"
           }
          ],
          "histogram2dcontour": [
           {
            "colorbar": {
             "outlinewidth": 0,
             "ticks": ""
            },
            "colorscale": [
             [
              0,
              "#0d0887"
             ],
             [
              0.1111111111111111,
              "#46039f"
             ],
             [
              0.2222222222222222,
              "#7201a8"
             ],
             [
              0.3333333333333333,
              "#9c179e"
             ],
             [
              0.4444444444444444,
              "#bd3786"
             ],
             [
              0.5555555555555556,
              "#d8576b"
             ],
             [
              0.6666666666666666,
              "#ed7953"
             ],
             [
              0.7777777777777778,
              "#fb9f3a"
             ],
             [
              0.8888888888888888,
              "#fdca26"
             ],
             [
              1,
              "#f0f921"
             ]
            ],
            "type": "histogram2dcontour"
           }
          ],
          "mesh3d": [
           {
            "colorbar": {
             "outlinewidth": 0,
             "ticks": ""
            },
            "type": "mesh3d"
           }
          ],
          "parcoords": [
           {
            "line": {
             "colorbar": {
              "outlinewidth": 0,
              "ticks": ""
             }
            },
            "type": "parcoords"
           }
          ],
          "pie": [
           {
            "automargin": true,
            "type": "pie"
           }
          ],
          "scatter": [
           {
            "fillpattern": {
             "fillmode": "overlay",
             "size": 10,
             "solidity": 0.2
            },
            "type": "scatter"
           }
          ],
          "scatter3d": [
           {
            "line": {
             "colorbar": {
              "outlinewidth": 0,
              "ticks": ""
             }
            },
            "marker": {
             "colorbar": {
              "outlinewidth": 0,
              "ticks": ""
             }
            },
            "type": "scatter3d"
           }
          ],
          "scattercarpet": [
           {
            "marker": {
             "colorbar": {
              "outlinewidth": 0,
              "ticks": ""
             }
            },
            "type": "scattercarpet"
           }
          ],
          "scattergeo": [
           {
            "marker": {
             "colorbar": {
              "outlinewidth": 0,
              "ticks": ""
             }
            },
            "type": "scattergeo"
           }
          ],
          "scattergl": [
           {
            "marker": {
             "colorbar": {
              "outlinewidth": 0,
              "ticks": ""
             }
            },
            "type": "scattergl"
           }
          ],
          "scattermapbox": [
           {
            "marker": {
             "colorbar": {
              "outlinewidth": 0,
              "ticks": ""
             }
            },
            "type": "scattermapbox"
           }
          ],
          "scatterpolar": [
           {
            "marker": {
             "colorbar": {
              "outlinewidth": 0,
              "ticks": ""
             }
            },
            "type": "scatterpolar"
           }
          ],
          "scatterpolargl": [
           {
            "marker": {
             "colorbar": {
              "outlinewidth": 0,
              "ticks": ""
             }
            },
            "type": "scatterpolargl"
           }
          ],
          "scatterternary": [
           {
            "marker": {
             "colorbar": {
              "outlinewidth": 0,
              "ticks": ""
             }
            },
            "type": "scatterternary"
           }
          ],
          "surface": [
           {
            "colorbar": {
             "outlinewidth": 0,
             "ticks": ""
            },
            "colorscale": [
             [
              0,
              "#0d0887"
             ],
             [
              0.1111111111111111,
              "#46039f"
             ],
             [
              0.2222222222222222,
              "#7201a8"
             ],
             [
              0.3333333333333333,
              "#9c179e"
             ],
             [
              0.4444444444444444,
              "#bd3786"
             ],
             [
              0.5555555555555556,
              "#d8576b"
             ],
             [
              0.6666666666666666,
              "#ed7953"
             ],
             [
              0.7777777777777778,
              "#fb9f3a"
             ],
             [
              0.8888888888888888,
              "#fdca26"
             ],
             [
              1,
              "#f0f921"
             ]
            ],
            "type": "surface"
           }
          ],
          "table": [
           {
            "cells": {
             "fill": {
              "color": "#EBF0F8"
             },
             "line": {
              "color": "white"
             }
            },
            "header": {
             "fill": {
              "color": "#C8D4E3"
             },
             "line": {
              "color": "white"
             }
            },
            "type": "table"
           }
          ]
         },
         "layout": {
          "annotationdefaults": {
           "arrowcolor": "#2a3f5f",
           "arrowhead": 0,
           "arrowwidth": 1
          },
          "autotypenumbers": "strict",
          "coloraxis": {
           "colorbar": {
            "outlinewidth": 0,
            "ticks": ""
           }
          },
          "colorscale": {
           "diverging": [
            [
             0,
             "#8e0152"
            ],
            [
             0.1,
             "#c51b7d"
            ],
            [
             0.2,
             "#de77ae"
            ],
            [
             0.3,
             "#f1b6da"
            ],
            [
             0.4,
             "#fde0ef"
            ],
            [
             0.5,
             "#f7f7f7"
            ],
            [
             0.6,
             "#e6f5d0"
            ],
            [
             0.7,
             "#b8e186"
            ],
            [
             0.8,
             "#7fbc41"
            ],
            [
             0.9,
             "#4d9221"
            ],
            [
             1,
             "#276419"
            ]
           ],
           "sequential": [
            [
             0,
             "#0d0887"
            ],
            [
             0.1111111111111111,
             "#46039f"
            ],
            [
             0.2222222222222222,
             "#7201a8"
            ],
            [
             0.3333333333333333,
             "#9c179e"
            ],
            [
             0.4444444444444444,
             "#bd3786"
            ],
            [
             0.5555555555555556,
             "#d8576b"
            ],
            [
             0.6666666666666666,
             "#ed7953"
            ],
            [
             0.7777777777777778,
             "#fb9f3a"
            ],
            [
             0.8888888888888888,
             "#fdca26"
            ],
            [
             1,
             "#f0f921"
            ]
           ],
           "sequentialminus": [
            [
             0,
             "#0d0887"
            ],
            [
             0.1111111111111111,
             "#46039f"
            ],
            [
             0.2222222222222222,
             "#7201a8"
            ],
            [
             0.3333333333333333,
             "#9c179e"
            ],
            [
             0.4444444444444444,
             "#bd3786"
            ],
            [
             0.5555555555555556,
             "#d8576b"
            ],
            [
             0.6666666666666666,
             "#ed7953"
            ],
            [
             0.7777777777777778,
             "#fb9f3a"
            ],
            [
             0.8888888888888888,
             "#fdca26"
            ],
            [
             1,
             "#f0f921"
            ]
           ]
          },
          "colorway": [
           "#636efa",
           "#EF553B",
           "#00cc96",
           "#ab63fa",
           "#FFA15A",
           "#19d3f3",
           "#FF6692",
           "#B6E880",
           "#FF97FF",
           "#FECB52"
          ],
          "font": {
           "color": "#2a3f5f"
          },
          "geo": {
           "bgcolor": "white",
           "lakecolor": "white",
           "landcolor": "#E5ECF6",
           "showlakes": true,
           "showland": true,
           "subunitcolor": "white"
          },
          "hoverlabel": {
           "align": "left"
          },
          "hovermode": "closest",
          "mapbox": {
           "style": "light"
          },
          "paper_bgcolor": "white",
          "plot_bgcolor": "#E5ECF6",
          "polar": {
           "angularaxis": {
            "gridcolor": "white",
            "linecolor": "white",
            "ticks": ""
           },
           "bgcolor": "#E5ECF6",
           "radialaxis": {
            "gridcolor": "white",
            "linecolor": "white",
            "ticks": ""
           }
          },
          "scene": {
           "xaxis": {
            "backgroundcolor": "#E5ECF6",
            "gridcolor": "white",
            "gridwidth": 2,
            "linecolor": "white",
            "showbackground": true,
            "ticks": "",
            "zerolinecolor": "white"
           },
           "yaxis": {
            "backgroundcolor": "#E5ECF6",
            "gridcolor": "white",
            "gridwidth": 2,
            "linecolor": "white",
            "showbackground": true,
            "ticks": "",
            "zerolinecolor": "white"
           },
           "zaxis": {
            "backgroundcolor": "#E5ECF6",
            "gridcolor": "white",
            "gridwidth": 2,
            "linecolor": "white",
            "showbackground": true,
            "ticks": "",
            "zerolinecolor": "white"
           }
          },
          "shapedefaults": {
           "line": {
            "color": "#2a3f5f"
           }
          },
          "ternary": {
           "aaxis": {
            "gridcolor": "white",
            "linecolor": "white",
            "ticks": ""
           },
           "baxis": {
            "gridcolor": "white",
            "linecolor": "white",
            "ticks": ""
           },
           "bgcolor": "#E5ECF6",
           "caxis": {
            "gridcolor": "white",
            "linecolor": "white",
            "ticks": ""
           }
          },
          "title": {
           "x": 0.05
          },
          "xaxis": {
           "automargin": true,
           "gridcolor": "white",
           "linecolor": "white",
           "ticks": "",
           "title": {
            "standoff": 15
           },
           "zerolinecolor": "white",
           "zerolinewidth": 2
          },
          "yaxis": {
           "automargin": true,
           "gridcolor": "white",
           "linecolor": "white",
           "ticks": "",
           "title": {
            "standoff": 15
           },
           "zerolinecolor": "white",
           "zerolinewidth": 2
          }
         }
        },
        "width": 600,
        "xaxis": {
         "anchor": "y",
         "constrain": "domain",
         "domain": [
          0,
          1
         ],
         "scaleanchor": "y"
        },
        "yaxis": {
         "anchor": "x",
         "autorange": "reversed",
         "constrain": "domain",
         "domain": [
          0,
          1
         ]
        }
       }
      }
     },
     "metadata": {},
     "output_type": "display_data"
    }
   ],
   "source": [
    "correlations_recent_subset = data_recent[[\"visitor_recent_foul\", \"home_recent_ft_made\", \"home_recent_3PT_made\", \"home_recent_rebound\",\n",
    "                                            \"visitor_recent_turnover\", \"home_recent_fg_made\", \"visitor_recent_fg_missed\", \"home_recent_points\",\n",
    "                                            \"visitor_recent_timeout\", \"home_recent_TSP\"]].corr()\n",
    "\n",
    "fig = px.imshow(correlations_recent_subset, width=600, height=600)\n",
    "fig.show()                                            "
   ]
  },
  {
   "cell_type": "markdown",
   "metadata": {},
   "source": [
    "## Predictions"
   ]
  },
  {
   "cell_type": "code",
   "execution_count": 156,
   "metadata": {},
   "outputs": [],
   "source": [
    "scaler = MinMaxScaler()\n",
    "label_encoder = LabelEncoder()\n",
    "model = LogisticRegression()"
   ]
  },
  {
   "cell_type": "markdown",
   "metadata": {},
   "source": [
    "### Prediction before the game"
   ]
  },
  {
   "cell_type": "code",
   "execution_count": 199,
   "metadata": {},
   "outputs": [
    {
     "data": {
      "text/html": [
       "<div>\n",
       "<style scoped>\n",
       "    .dataframe tbody tr th:only-of-type {\n",
       "        vertical-align: middle;\n",
       "    }\n",
       "\n",
       "    .dataframe tbody tr th {\n",
       "        vertical-align: top;\n",
       "    }\n",
       "\n",
       "    .dataframe thead th {\n",
       "        text-align: right;\n",
       "    }\n",
       "</style>\n",
       "<table border=\"1\" class=\"dataframe\">\n",
       "  <thead>\n",
       "    <tr style=\"text-align: right;\">\n",
       "      <th></th>\n",
       "      <th>home_team_id</th>\n",
       "      <th>visitor_team_id</th>\n",
       "      <th>home_recent_TSP</th>\n",
       "      <th>visitor_recent_TSP</th>\n",
       "      <th>home_recent_timeout</th>\n",
       "      <th>visitor_recent_timeout</th>\n",
       "      <th>home_recent_points</th>\n",
       "      <th>visitor_recent_points</th>\n",
       "      <th>home_win</th>\n",
       "    </tr>\n",
       "  </thead>\n",
       "  <tbody>\n",
       "    <tr>\n",
       "      <th>16815</th>\n",
       "      <td>3</td>\n",
       "      <td>16</td>\n",
       "      <td>0.696852</td>\n",
       "      <td>0.50</td>\n",
       "      <td>0.506770</td>\n",
       "      <td>0.50</td>\n",
       "      <td>0.317073</td>\n",
       "      <td>0.195122</td>\n",
       "      <td>1</td>\n",
       "    </tr>\n",
       "    <tr>\n",
       "      <th>16816</th>\n",
       "      <td>22</td>\n",
       "      <td>5</td>\n",
       "      <td>0.532789</td>\n",
       "      <td>0.25</td>\n",
       "      <td>0.597526</td>\n",
       "      <td>1.00</td>\n",
       "      <td>0.512195</td>\n",
       "      <td>0.512195</td>\n",
       "      <td>1</td>\n",
       "    </tr>\n",
       "    <tr>\n",
       "      <th>16817</th>\n",
       "      <td>10</td>\n",
       "      <td>8</td>\n",
       "      <td>0.530567</td>\n",
       "      <td>0.50</td>\n",
       "      <td>0.719699</td>\n",
       "      <td>0.50</td>\n",
       "      <td>0.512195</td>\n",
       "      <td>0.658537</td>\n",
       "      <td>0</td>\n",
       "    </tr>\n",
       "    <tr>\n",
       "      <th>16818</th>\n",
       "      <td>29</td>\n",
       "      <td>12</td>\n",
       "      <td>0.464036</td>\n",
       "      <td>0.50</td>\n",
       "      <td>0.767927</td>\n",
       "      <td>0.75</td>\n",
       "      <td>0.365854</td>\n",
       "      <td>0.317073</td>\n",
       "      <td>1</td>\n",
       "    </tr>\n",
       "    <tr>\n",
       "      <th>16819</th>\n",
       "      <td>17</td>\n",
       "      <td>18</td>\n",
       "      <td>0.376304</td>\n",
       "      <td>0.75</td>\n",
       "      <td>0.442706</td>\n",
       "      <td>0.75</td>\n",
       "      <td>0.024390</td>\n",
       "      <td>0.341463</td>\n",
       "      <td>1</td>\n",
       "    </tr>\n",
       "    <tr>\n",
       "      <th>...</th>\n",
       "      <td>...</td>\n",
       "      <td>...</td>\n",
       "      <td>...</td>\n",
       "      <td>...</td>\n",
       "      <td>...</td>\n",
       "      <td>...</td>\n",
       "      <td>...</td>\n",
       "      <td>...</td>\n",
       "      <td>...</td>\n",
       "    </tr>\n",
       "    <tr>\n",
       "      <th>22960</th>\n",
       "      <td>12</td>\n",
       "      <td>23</td>\n",
       "      <td>0.593213</td>\n",
       "      <td>0.50</td>\n",
       "      <td>0.253085</td>\n",
       "      <td>0.50</td>\n",
       "      <td>0.853659</td>\n",
       "      <td>0.560976</td>\n",
       "      <td>0</td>\n",
       "    </tr>\n",
       "    <tr>\n",
       "      <th>22961</th>\n",
       "      <td>22</td>\n",
       "      <td>5</td>\n",
       "      <td>0.581376</td>\n",
       "      <td>0.50</td>\n",
       "      <td>0.420659</td>\n",
       "      <td>0.75</td>\n",
       "      <td>0.609756</td>\n",
       "      <td>0.682927</td>\n",
       "      <td>1</td>\n",
       "    </tr>\n",
       "    <tr>\n",
       "      <th>22962</th>\n",
       "      <td>6</td>\n",
       "      <td>13</td>\n",
       "      <td>0.294328</td>\n",
       "      <td>0.50</td>\n",
       "      <td>0.467019</td>\n",
       "      <td>0.50</td>\n",
       "      <td>0.439024</td>\n",
       "      <td>0.585366</td>\n",
       "      <td>1</td>\n",
       "    </tr>\n",
       "    <tr>\n",
       "      <th>22963</th>\n",
       "      <td>9</td>\n",
       "      <td>25</td>\n",
       "      <td>0.824276</td>\n",
       "      <td>0.50</td>\n",
       "      <td>0.774478</td>\n",
       "      <td>0.25</td>\n",
       "      <td>0.756098</td>\n",
       "      <td>0.780488</td>\n",
       "      <td>1</td>\n",
       "    </tr>\n",
       "    <tr>\n",
       "      <th>22964</th>\n",
       "      <td>20</td>\n",
       "      <td>21</td>\n",
       "      <td>0.551518</td>\n",
       "      <td>0.25</td>\n",
       "      <td>0.479344</td>\n",
       "      <td>0.50</td>\n",
       "      <td>0.731707</td>\n",
       "      <td>0.707317</td>\n",
       "      <td>1</td>\n",
       "    </tr>\n",
       "  </tbody>\n",
       "</table>\n",
       "<p>6150 rows × 9 columns</p>\n",
       "</div>"
      ],
      "text/plain": [
       "       home_team_id  visitor_team_id  home_recent_TSP  visitor_recent_TSP  \\\n",
       "16815             3               16         0.696852                0.50   \n",
       "16816            22                5         0.532789                0.25   \n",
       "16817            10                8         0.530567                0.50   \n",
       "16818            29               12         0.464036                0.50   \n",
       "16819            17               18         0.376304                0.75   \n",
       "...             ...              ...              ...                 ...   \n",
       "22960            12               23         0.593213                0.50   \n",
       "22961            22                5         0.581376                0.50   \n",
       "22962             6               13         0.294328                0.50   \n",
       "22963             9               25         0.824276                0.50   \n",
       "22964            20               21         0.551518                0.25   \n",
       "\n",
       "       home_recent_timeout  visitor_recent_timeout  home_recent_points  \\\n",
       "16815             0.506770                    0.50            0.317073   \n",
       "16816             0.597526                    1.00            0.512195   \n",
       "16817             0.719699                    0.50            0.512195   \n",
       "16818             0.767927                    0.75            0.365854   \n",
       "16819             0.442706                    0.75            0.024390   \n",
       "...                    ...                     ...                 ...   \n",
       "22960             0.253085                    0.50            0.853659   \n",
       "22961             0.420659                    0.75            0.609756   \n",
       "22962             0.467019                    0.50            0.439024   \n",
       "22963             0.774478                    0.25            0.756098   \n",
       "22964             0.479344                    0.50            0.731707   \n",
       "\n",
       "       visitor_recent_points  home_win  \n",
       "16815               0.195122         1  \n",
       "16816               0.512195         1  \n",
       "16817               0.658537         0  \n",
       "16818               0.317073         1  \n",
       "16819               0.341463         1  \n",
       "...                      ...       ...  \n",
       "22960               0.560976         0  \n",
       "22961               0.682927         1  \n",
       "22962               0.585366         1  \n",
       "22963               0.780488         1  \n",
       "22964               0.707317         1  \n",
       "\n",
       "[6150 rows x 9 columns]"
      ]
     },
     "execution_count": 199,
     "metadata": {},
     "output_type": "execute_result"
    }
   ],
   "source": [
    "# last three seasons\n",
    "data = game_data_recent[game_data_recent[\"season_name\"] >= 2014][[\"home_team_id\", \"visitor_team_id\", \"home_recent_TSP\", \"visitor_recent_TSP\", \"home_recent_timeout\", \"visitor_recent_timeout\",\n",
    "                                \"home_recent_points\", \"visitor_recent_points\", \"home_win\"]].copy()\n",
    "data[\"home_team_id\"] = label_encoder.fit_transform(game_data_recent[game_data_recent[\"season_name\"] >= 2014][\"home_team_id\"])\n",
    "data[\"visitor_team_id\"] = label_encoder.fit_transform(game_data_recent[game_data_recent[\"season_name\"] >= 2014][\"visitor_team_id\"])\n",
    "data[[\"home_recent_TSP\", \"home_recent_timeout\", \"visitor_recent_TSP\", \"visitor_recent_timeout\", \"home_recent_points\", \"visitor_recent_points\"]] = scaler.fit_transform(data[[\"home_recent_TSP\", \"visitor_recent_TSP\", \"home_recent_timeout\",\n",
    "                                                                                                                                                                            \"visitor_recent_timeout\", \"home_recent_points\", \"visitor_recent_points\"]])\n",
    "data"
   ]
  },
  {
   "cell_type": "code",
   "execution_count": 208,
   "metadata": {},
   "outputs": [
    {
     "data": {
      "text/html": [
       "<div>\n",
       "<style scoped>\n",
       "    .dataframe tbody tr th:only-of-type {\n",
       "        vertical-align: middle;\n",
       "    }\n",
       "\n",
       "    .dataframe tbody tr th {\n",
       "        vertical-align: top;\n",
       "    }\n",
       "\n",
       "    .dataframe thead th {\n",
       "        text-align: right;\n",
       "    }\n",
       "</style>\n",
       "<table border=\"1\" class=\"dataframe\">\n",
       "  <thead>\n",
       "    <tr style=\"text-align: right;\">\n",
       "      <th></th>\n",
       "      <th>home_team_id</th>\n",
       "      <th>visitor_team_id</th>\n",
       "      <th>home_recent_TSP</th>\n",
       "      <th>visitor_recent_TSP</th>\n",
       "      <th>home_recent_timeout</th>\n",
       "      <th>visitor_recent_timeout</th>\n",
       "      <th>home_recent_points</th>\n",
       "      <th>visitor_recent_points</th>\n",
       "      <th>home_win</th>\n",
       "    </tr>\n",
       "  </thead>\n",
       "  <tbody>\n",
       "    <tr>\n",
       "      <th>14</th>\n",
       "      <td>18</td>\n",
       "      <td>24</td>\n",
       "      <td>0.904037</td>\n",
       "      <td>0.333333</td>\n",
       "      <td>0.687601</td>\n",
       "      <td>0.875</td>\n",
       "      <td>0.795276</td>\n",
       "      <td>0.748031</td>\n",
       "      <td>1</td>\n",
       "    </tr>\n",
       "    <tr>\n",
       "      <th>15</th>\n",
       "      <td>11</td>\n",
       "      <td>16</td>\n",
       "      <td>0.000000</td>\n",
       "      <td>0.000000</td>\n",
       "      <td>0.819906</td>\n",
       "      <td>0.625</td>\n",
       "      <td>0.000000</td>\n",
       "      <td>0.763780</td>\n",
       "      <td>1</td>\n",
       "    </tr>\n",
       "    <tr>\n",
       "      <th>16</th>\n",
       "      <td>29</td>\n",
       "      <td>27</td>\n",
       "      <td>1.000000</td>\n",
       "      <td>0.555556</td>\n",
       "      <td>0.833042</td>\n",
       "      <td>0.875</td>\n",
       "      <td>0.834646</td>\n",
       "      <td>0.677165</td>\n",
       "      <td>0</td>\n",
       "    </tr>\n",
       "    <tr>\n",
       "      <th>17</th>\n",
       "      <td>2</td>\n",
       "      <td>21</td>\n",
       "      <td>0.660024</td>\n",
       "      <td>0.666667</td>\n",
       "      <td>0.923863</td>\n",
       "      <td>0.625</td>\n",
       "      <td>0.677165</td>\n",
       "      <td>0.787402</td>\n",
       "      <td>1</td>\n",
       "    </tr>\n",
       "    <tr>\n",
       "      <th>18</th>\n",
       "      <td>10</td>\n",
       "      <td>25</td>\n",
       "      <td>0.880562</td>\n",
       "      <td>0.444444</td>\n",
       "      <td>0.870440</td>\n",
       "      <td>0.625</td>\n",
       "      <td>0.755906</td>\n",
       "      <td>0.842520</td>\n",
       "      <td>0</td>\n",
       "    </tr>\n",
       "    <tr>\n",
       "      <th>...</th>\n",
       "      <td>...</td>\n",
       "      <td>...</td>\n",
       "      <td>...</td>\n",
       "      <td>...</td>\n",
       "      <td>...</td>\n",
       "      <td>...</td>\n",
       "      <td>...</td>\n",
       "      <td>...</td>\n",
       "      <td>...</td>\n",
       "    </tr>\n",
       "    <tr>\n",
       "      <th>22960</th>\n",
       "      <td>12</td>\n",
       "      <td>23</td>\n",
       "      <td>0.693254</td>\n",
       "      <td>0.555556</td>\n",
       "      <td>0.730773</td>\n",
       "      <td>0.625</td>\n",
       "      <td>0.952756</td>\n",
       "      <td>0.858268</td>\n",
       "      <td>0</td>\n",
       "    </tr>\n",
       "    <tr>\n",
       "      <th>22961</th>\n",
       "      <td>22</td>\n",
       "      <td>5</td>\n",
       "      <td>0.690898</td>\n",
       "      <td>0.555556</td>\n",
       "      <td>0.770237</td>\n",
       "      <td>0.750</td>\n",
       "      <td>0.874016</td>\n",
       "      <td>0.897638</td>\n",
       "      <td>1</td>\n",
       "    </tr>\n",
       "    <tr>\n",
       "      <th>22962</th>\n",
       "      <td>6</td>\n",
       "      <td>13</td>\n",
       "      <td>0.633768</td>\n",
       "      <td>0.555556</td>\n",
       "      <td>0.781155</td>\n",
       "      <td>0.625</td>\n",
       "      <td>0.818898</td>\n",
       "      <td>0.866142</td>\n",
       "      <td>1</td>\n",
       "    </tr>\n",
       "    <tr>\n",
       "      <th>22963</th>\n",
       "      <td>9</td>\n",
       "      <td>25</td>\n",
       "      <td>0.739241</td>\n",
       "      <td>0.555556</td>\n",
       "      <td>0.853562</td>\n",
       "      <td>0.500</td>\n",
       "      <td>0.921260</td>\n",
       "      <td>0.929134</td>\n",
       "      <td>1</td>\n",
       "    </tr>\n",
       "    <tr>\n",
       "      <th>22964</th>\n",
       "      <td>20</td>\n",
       "      <td>21</td>\n",
       "      <td>0.684955</td>\n",
       "      <td>0.444444</td>\n",
       "      <td>0.784057</td>\n",
       "      <td>0.625</td>\n",
       "      <td>0.913386</td>\n",
       "      <td>0.905512</td>\n",
       "      <td>1</td>\n",
       "    </tr>\n",
       "  </tbody>\n",
       "</table>\n",
       "<p>22951 rows × 9 columns</p>\n",
       "</div>"
      ],
      "text/plain": [
       "       home_team_id  visitor_team_id  home_recent_TSP  visitor_recent_TSP  \\\n",
       "14               18               24         0.904037            0.333333   \n",
       "15               11               16         0.000000            0.000000   \n",
       "16               29               27         1.000000            0.555556   \n",
       "17                2               21         0.660024            0.666667   \n",
       "18               10               25         0.880562            0.444444   \n",
       "...             ...              ...              ...                 ...   \n",
       "22960            12               23         0.693254            0.555556   \n",
       "22961            22                5         0.690898            0.555556   \n",
       "22962             6               13         0.633768            0.555556   \n",
       "22963             9               25         0.739241            0.555556   \n",
       "22964            20               21         0.684955            0.444444   \n",
       "\n",
       "       home_recent_timeout  visitor_recent_timeout  home_recent_points  \\\n",
       "14                0.687601                   0.875            0.795276   \n",
       "15                0.819906                   0.625            0.000000   \n",
       "16                0.833042                   0.875            0.834646   \n",
       "17                0.923863                   0.625            0.677165   \n",
       "18                0.870440                   0.625            0.755906   \n",
       "...                    ...                     ...                 ...   \n",
       "22960             0.730773                   0.625            0.952756   \n",
       "22961             0.770237                   0.750            0.874016   \n",
       "22962             0.781155                   0.625            0.818898   \n",
       "22963             0.853562                   0.500            0.921260   \n",
       "22964             0.784057                   0.625            0.913386   \n",
       "\n",
       "       visitor_recent_points  home_win  \n",
       "14                  0.748031         1  \n",
       "15                  0.763780         1  \n",
       "16                  0.677165         0  \n",
       "17                  0.787402         1  \n",
       "18                  0.842520         0  \n",
       "...                      ...       ...  \n",
       "22960               0.858268         0  \n",
       "22961               0.897638         1  \n",
       "22962               0.866142         1  \n",
       "22963               0.929134         1  \n",
       "22964               0.905512         1  \n",
       "\n",
       "[22951 rows x 9 columns]"
      ]
     },
     "execution_count": 208,
     "metadata": {},
     "output_type": "execute_result"
    }
   ],
   "source": [
    "# all seasons\n",
    "data = game_data_recent.loc[14:,[\"home_team_id\", \"visitor_team_id\", \"home_recent_TSP\", \"visitor_recent_TSP\", \"home_recent_timeout\", \"visitor_recent_timeout\",\n",
    "                                \"home_recent_points\", \"visitor_recent_points\", \"home_win\"]].copy()\n",
    "data[\"home_team_id\"] = label_encoder.fit_transform(game_data_recent.loc[14:,\"home_team_id\"])\n",
    "data[\"visitor_team_id\"] = label_encoder.fit_transform(game_data_recent.loc[14:,\"visitor_team_id\"])\n",
    "data[[\"home_recent_TSP\", \"home_recent_timeout\", \"visitor_recent_TSP\", \"visitor_recent_timeout\", \"home_recent_points\", \"visitor_recent_points\"]] = scaler.fit_transform(data[[\"home_recent_TSP\", \"visitor_recent_TSP\", \"home_recent_timeout\",\n",
    "                                                                                                                                                                            \"visitor_recent_timeout\", \"home_recent_points\", \"visitor_recent_points\"]])\n",
    "data"
   ]
  },
  {
   "cell_type": "code",
   "execution_count": 209,
   "metadata": {},
   "outputs": [
    {
     "name": "stdout",
     "output_type": "stream",
     "text": [
      "Train dataset: 59.997385734826366%\n",
      "Validate dataset: 19.999128578275457%\n",
      "Test dataset: 20.003485686898173%\n"
     ]
    }
   ],
   "source": [
    "X_train, X_test, y_train, y_test = train_test_split(data.drop(columns=[\"home_win\"]), data[\"home_win\"], test_size=0.2, random_state=1)\n",
    "X_train, X_val, y_train, y_val = train_test_split(X_train, y_train, test_size=0.25, random_state=1)\n",
    "\n",
    "print(\"Train dataset: {}%\".format((X_train.shape[0] / data.shape[0]) * 100))\n",
    "print(\"Validate dataset: {}%\".format((X_val.shape[0] / data.shape[0]) * 100))\n",
    "print(\"Test dataset: {}%\".format((X_test.shape[0] / data.shape[0]) * 100))"
   ]
  },
  {
   "cell_type": "code",
   "execution_count": 210,
   "metadata": {},
   "outputs": [
    {
     "name": "stdout",
     "output_type": "stream",
     "text": [
      "              precision    recall  f1-score   support\n",
      "\n",
      "           0       0.58      0.23      0.33      1867\n",
      "           1       0.63      0.89      0.73      2723\n",
      "\n",
      "    accuracy                           0.62      4590\n",
      "   macro avg       0.61      0.56      0.53      4590\n",
      "weighted avg       0.61      0.62      0.57      4590\n",
      "\n"
     ]
    }
   ],
   "source": [
    "model.fit(X_train, y_train)\n",
    "predictions = model.predict(X_val)\n",
    "\n",
    "fpr, tpr, thresholds = roc_curve(y_val, predictions)\n",
    "print(classification_report(y_val, predictions))"
   ]
  },
  {
   "cell_type": "markdown",
   "metadata": {},
   "source": [
    "### Prediction after the game"
   ]
  },
  {
   "cell_type": "code",
   "execution_count": 86,
   "metadata": {},
   "outputs": [
    {
     "data": {
      "text/html": [
       "<div>\n",
       "<style scoped>\n",
       "    .dataframe tbody tr th:only-of-type {\n",
       "        vertical-align: middle;\n",
       "    }\n",
       "\n",
       "    .dataframe tbody tr th {\n",
       "        vertical-align: top;\n",
       "    }\n",
       "\n",
       "    .dataframe thead th {\n",
       "        text-align: right;\n",
       "    }\n",
       "</style>\n",
       "<table border=\"1\" class=\"dataframe\">\n",
       "  <thead>\n",
       "    <tr style=\"text-align: right;\">\n",
       "      <th></th>\n",
       "      <th>home_team_id</th>\n",
       "      <th>visitor_team_id</th>\n",
       "      <th>home_TSP</th>\n",
       "      <th>home_timeout</th>\n",
       "      <th>visitor_TSP</th>\n",
       "      <th>visitor_timeout</th>\n",
       "      <th>home_win</th>\n",
       "    </tr>\n",
       "  </thead>\n",
       "  <tbody>\n",
       "    <tr>\n",
       "      <th>0</th>\n",
       "      <td>15</td>\n",
       "      <td>18</td>\n",
       "      <td>0.294900</td>\n",
       "      <td>0.400000</td>\n",
       "      <td>0.750004</td>\n",
       "      <td>0.117647</td>\n",
       "      <td>0</td>\n",
       "    </tr>\n",
       "    <tr>\n",
       "      <th>1</th>\n",
       "      <td>14</td>\n",
       "      <td>2</td>\n",
       "      <td>0.255317</td>\n",
       "      <td>0.466667</td>\n",
       "      <td>0.399886</td>\n",
       "      <td>0.294118</td>\n",
       "      <td>0</td>\n",
       "    </tr>\n",
       "    <tr>\n",
       "      <th>2</th>\n",
       "      <td>16</td>\n",
       "      <td>27</td>\n",
       "      <td>0.440890</td>\n",
       "      <td>0.266667</td>\n",
       "      <td>0.475567</td>\n",
       "      <td>0.352941</td>\n",
       "      <td>1</td>\n",
       "    </tr>\n",
       "    <tr>\n",
       "      <th>3</th>\n",
       "      <td>0</td>\n",
       "      <td>29</td>\n",
       "      <td>0.271960</td>\n",
       "      <td>0.266667</td>\n",
       "      <td>0.887694</td>\n",
       "      <td>0.235294</td>\n",
       "      <td>0</td>\n",
       "    </tr>\n",
       "    <tr>\n",
       "      <th>4</th>\n",
       "      <td>24</td>\n",
       "      <td>28</td>\n",
       "      <td>0.280250</td>\n",
       "      <td>0.400000</td>\n",
       "      <td>0.397672</td>\n",
       "      <td>0.235294</td>\n",
       "      <td>0</td>\n",
       "    </tr>\n",
       "    <tr>\n",
       "      <th>...</th>\n",
       "      <td>...</td>\n",
       "      <td>...</td>\n",
       "      <td>...</td>\n",
       "      <td>...</td>\n",
       "      <td>...</td>\n",
       "      <td>...</td>\n",
       "      <td>...</td>\n",
       "    </tr>\n",
       "    <tr>\n",
       "      <th>22960</th>\n",
       "      <td>12</td>\n",
       "      <td>23</td>\n",
       "      <td>0.297271</td>\n",
       "      <td>0.333333</td>\n",
       "      <td>0.376546</td>\n",
       "      <td>0.117647</td>\n",
       "      <td>0</td>\n",
       "    </tr>\n",
       "    <tr>\n",
       "      <th>22961</th>\n",
       "      <td>22</td>\n",
       "      <td>5</td>\n",
       "      <td>0.386106</td>\n",
       "      <td>0.333333</td>\n",
       "      <td>0.235184</td>\n",
       "      <td>0.294118</td>\n",
       "      <td>1</td>\n",
       "    </tr>\n",
       "    <tr>\n",
       "      <th>22962</th>\n",
       "      <td>6</td>\n",
       "      <td>13</td>\n",
       "      <td>0.306490</td>\n",
       "      <td>0.266667</td>\n",
       "      <td>0.260060</td>\n",
       "      <td>0.352941</td>\n",
       "      <td>1</td>\n",
       "    </tr>\n",
       "    <tr>\n",
       "      <th>22963</th>\n",
       "      <td>9</td>\n",
       "      <td>25</td>\n",
       "      <td>0.512595</td>\n",
       "      <td>0.333333</td>\n",
       "      <td>0.460439</td>\n",
       "      <td>0.352941</td>\n",
       "      <td>1</td>\n",
       "    </tr>\n",
       "    <tr>\n",
       "      <th>22964</th>\n",
       "      <td>20</td>\n",
       "      <td>21</td>\n",
       "      <td>0.627849</td>\n",
       "      <td>0.333333</td>\n",
       "      <td>0.470637</td>\n",
       "      <td>0.294118</td>\n",
       "      <td>1</td>\n",
       "    </tr>\n",
       "  </tbody>\n",
       "</table>\n",
       "<p>22965 rows × 7 columns</p>\n",
       "</div>"
      ],
      "text/plain": [
       "       home_team_id  visitor_team_id  home_TSP  home_timeout  visitor_TSP  \\\n",
       "0                15               18  0.294900      0.400000     0.750004   \n",
       "1                14                2  0.255317      0.466667     0.399886   \n",
       "2                16               27  0.440890      0.266667     0.475567   \n",
       "3                 0               29  0.271960      0.266667     0.887694   \n",
       "4                24               28  0.280250      0.400000     0.397672   \n",
       "...             ...              ...       ...           ...          ...   \n",
       "22960            12               23  0.297271      0.333333     0.376546   \n",
       "22961            22                5  0.386106      0.333333     0.235184   \n",
       "22962             6               13  0.306490      0.266667     0.260060   \n",
       "22963             9               25  0.512595      0.333333     0.460439   \n",
       "22964            20               21  0.627849      0.333333     0.470637   \n",
       "\n",
       "       visitor_timeout  home_win  \n",
       "0             0.117647         0  \n",
       "1             0.294118         0  \n",
       "2             0.352941         1  \n",
       "3             0.235294         0  \n",
       "4             0.235294         0  \n",
       "...                ...       ...  \n",
       "22960         0.117647         0  \n",
       "22961         0.294118         1  \n",
       "22962         0.352941         1  \n",
       "22963         0.352941         1  \n",
       "22964         0.294118         1  \n",
       "\n",
       "[22965 rows x 7 columns]"
      ]
     },
     "execution_count": 86,
     "metadata": {},
     "output_type": "execute_result"
    }
   ],
   "source": [
    "data = game_data_recent[[\"home_team_id\", \"visitor_team_id\", \"home_TSP\", \"home_timeout\", \"visitor_TSP\", \"visitor_timeout\", \"home_win\"]].copy()\n",
    "data[\"home_team_id\"] = label_encoder.fit_transform(game_data_recent[\"home_team_id\"])\n",
    "data[\"visitor_team_id\"] = label_encoder.fit_transform(game_data_recent[\"visitor_team_id\"])\n",
    "data[[\"home_TSP\", \"home_timeout\", \"visitor_TSP\", \"visitor_timeout\"]] = scaler.fit_transform(data[[\"home_TSP\", \"home_timeout\", \"visitor_TSP\", \"visitor_timeout\"]])\n",
    "data"
   ]
  },
  {
   "cell_type": "code",
   "execution_count": 88,
   "metadata": {},
   "outputs": [
    {
     "name": "stdout",
     "output_type": "stream",
     "text": [
      "Train dataset: 60.0%\n",
      "Validate dataset: 20.0%\n",
      "Test dataset: 20.0%\n"
     ]
    }
   ],
   "source": [
    "X_train, X_test, y_train, y_test = train_test_split(data.drop(columns=[\"home_win\"]), data[\"home_win\"], test_size=0.2, random_state=1)\n",
    "X_train, X_val, y_train, y_val = train_test_split(X_train, y_train, test_size=0.25, random_state=1)\n",
    "\n",
    "print(\"Train dataset: {}%\".format((X_train.shape[0] / data.shape[0]) * 100))\n",
    "print(\"Validate dataset: {}%\".format((X_val.shape[0] / data.shape[0]) * 100))\n",
    "print(\"Test dataset: {}%\".format((X_test.shape[0] / data.shape[0]) * 100))"
   ]
  },
  {
   "cell_type": "code",
   "execution_count": 89,
   "metadata": {},
   "outputs": [
    {
     "name": "stdout",
     "output_type": "stream",
     "text": [
      "              precision    recall  f1-score   support\n",
      "\n",
      "           0       0.86      0.84      0.85      1842\n",
      "           1       0.89      0.91      0.90      2751\n",
      "\n",
      "    accuracy                           0.88      4593\n",
      "   macro avg       0.88      0.87      0.87      4593\n",
      "weighted avg       0.88      0.88      0.88      4593\n",
      "\n"
     ]
    }
   ],
   "source": [
    "model.fit(X_train, y_train)\n",
    "predictions = model.predict(X_val)\n",
    "\n",
    "fpr, tpr, thresholds = roc_curve(y_val, predictions)\n",
    "print(classification_report(y_val, predictions))"
   ]
  }
 ],
 "metadata": {
  "kernelspec": {
   "display_name": "Python 3.9.7 ('base')",
   "language": "python",
   "name": "python3"
  },
  "language_info": {
   "codemirror_mode": {
    "name": "ipython",
    "version": 3
   },
   "file_extension": ".py",
   "mimetype": "text/x-python",
   "name": "python",
   "nbconvert_exporter": "python",
   "pygments_lexer": "ipython3",
   "version": "3.9.7"
  },
  "orig_nbformat": 4,
  "vscode": {
   "interpreter": {
    "hash": "b31df5e40a2ea5614eea9e37cfea4cb8c906f1ee256973763ea3407ba03e30ed"
   }
  }
 },
 "nbformat": 4,
 "nbformat_minor": 2
}
