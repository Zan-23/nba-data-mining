{
 "cells": [
  {
   "cell_type": "code",
   "execution_count": 311,
   "metadata": {},
   "outputs": [],
   "source": [
    "import numpy as np\n",
    "import pandas as pd\n",
    "import matplotlib.pyplot as plt\n",
    "import plotly.express as px\n",
    "import os\n",
    "import sys\n",
    "sys.path.insert(0, '../../src/')\n",
    "from data_loader import load_data, load_game_data\n",
    "pd.set_option('display.max_columns', None)"
   ]
  },
  {
   "cell_type": "markdown",
   "metadata": {},
   "source": [
    "* * *"
   ]
  },
  {
   "cell_type": "markdown",
   "metadata": {},
   "source": [
    "### Data preprocessing"
   ]
  },
  {
   "cell_type": "code",
   "execution_count": 350,
   "metadata": {},
   "outputs": [],
   "source": [
    "# concatenating game-data.csv and lineups-all-seasons.csv\n",
    "\n",
    "path_lineups = \"/home/matej/Documents/Projects/nba-data-mining/data/processed/lineups-all-seasons.csv\"\n",
    "path_game_data = \"/home/matej/Documents/Projects/nba-data-mining/data/processed/game-data-extended.csv\"\n",
    "path_players = \"/home/matej/Documents/Projects/nba-data-mining/data/raw/player-data/player_info.csv\"\n",
    "\n",
    "lineups = pd.read_csv(path_lineups)\n",
    "game_data = pd.read_csv(path_game_data)\n",
    "players = pd.read_csv(path_players)\n",
    "\n",
    "# merged = pd.concat([game_data, lineups], axis=1)\n",
    "# merged.to_csv(\"game-data-extended.csv\", index=False)"
   ]
  },
  {
   "cell_type": "code",
   "execution_count": 288,
   "metadata": {},
   "outputs": [],
   "source": [
    "# sorting players that started the game by their ID\n",
    "\n",
    "\"\"\" ALREADY SORTED\n",
    "for i, row in lineups.iterrows():\n",
    "\n",
    "    game_data.at[i, \"home_player1_id\":\"home_player5_id\"] =  np.asarray(game_data.iloc[i][\"home_player1_id\" : \"home_player5_id\"].sort_values(ascending=True))\n",
    "    game_data.at[i, \"visitor_player1_id\":\"visitor_player5_id\"] =  np.asarray(game_data.iloc[i][\"visitor_player1_id\" : \"visitor_player5_id\"].sort_values(ascending=True))\n",
    "\n",
    "    lineups.at[i, \"home_player1_id\":\"home_player5_id\"] =  np.asarray(lineups.iloc[i][\"home_player1_id\" : \"home_player5_id\"].sort_values(ascending=True))\n",
    "    lineups.at[i, \"visitor_player1_id\":\"visitor_player5_id\"] =  np.asarray(lineups.iloc[i][\"visitor_player1_id\" : \"visitor_player5_id\"].sort_values(ascending=True))\n",
    "\"\"\""
   ]
  },
  {
   "cell_type": "code",
   "execution_count": 347,
   "metadata": {},
   "outputs": [],
   "source": [
    "lineups_home = lineups[[\"season_name\", \"home_team_id\", \"home_player1_id\", \"home_player2_id\", \"home_player3_id\", \"home_player4_id\", \"home_player5_id\"]].drop_duplicates()\n",
    "lineups_visitor = lineups[[\"season_name\", \"visitor_team_id\", \"visitor_player1_id\", \"visitor_player2_id\", \"visitor_player3_id\", \"visitor_player4_id\", \"visitor_player5_id\"]].drop_duplicates()\n",
    "\n",
    "lineups_home.columns = range(lineups_home.shape[1])\n",
    "lineups_visitor.columns = range(lineups_visitor.shape[1])\n",
    "\n",
    "all_lineups = pd.concat([lineups_home, lineups_visitor])\n",
    "all_lineups.rename(columns = {0:'season', 1:'team_id', 2:\"player1_id\", 3:\"player2_id\", 4:\"player3_id\", 5:\"player4_id\", 6:\"player5_id\"}, inplace = True)\n",
    "all_lineups.drop_duplicates(inplace=True)"
   ]
  },
  {
   "cell_type": "code",
   "execution_count": 355,
   "metadata": {},
   "outputs": [
    {
     "data": {
      "text/html": [
       "<div>\n",
       "<style scoped>\n",
       "    .dataframe tbody tr th:only-of-type {\n",
       "        vertical-align: middle;\n",
       "    }\n",
       "\n",
       "    .dataframe tbody tr th {\n",
       "        vertical-align: top;\n",
       "    }\n",
       "\n",
       "    .dataframe thead th {\n",
       "        text-align: right;\n",
       "    }\n",
       "</style>\n",
       "<table border=\"1\" class=\"dataframe\">\n",
       "  <thead>\n",
       "    <tr style=\"text-align: right;\">\n",
       "      <th>team_id</th>\n",
       "      <th>1610612737</th>\n",
       "      <th>1610612738</th>\n",
       "      <th>1610612739</th>\n",
       "      <th>1610612740</th>\n",
       "      <th>1610612741</th>\n",
       "      <th>1610612742</th>\n",
       "      <th>1610612743</th>\n",
       "      <th>1610612744</th>\n",
       "      <th>1610612745</th>\n",
       "      <th>1610612746</th>\n",
       "      <th>1610612747</th>\n",
       "      <th>1610612748</th>\n",
       "      <th>1610612749</th>\n",
       "      <th>1610612750</th>\n",
       "      <th>1610612751</th>\n",
       "      <th>1610612752</th>\n",
       "      <th>1610612753</th>\n",
       "      <th>1610612754</th>\n",
       "      <th>1610612755</th>\n",
       "      <th>1610612756</th>\n",
       "      <th>1610612757</th>\n",
       "      <th>1610612758</th>\n",
       "      <th>1610612759</th>\n",
       "      <th>1610612760</th>\n",
       "      <th>1610612761</th>\n",
       "      <th>1610612762</th>\n",
       "      <th>1610612763</th>\n",
       "      <th>1610612764</th>\n",
       "      <th>1610612765</th>\n",
       "      <th>1610612766</th>\n",
       "    </tr>\n",
       "    <tr>\n",
       "      <th>season</th>\n",
       "      <th></th>\n",
       "      <th></th>\n",
       "      <th></th>\n",
       "      <th></th>\n",
       "      <th></th>\n",
       "      <th></th>\n",
       "      <th></th>\n",
       "      <th></th>\n",
       "      <th></th>\n",
       "      <th></th>\n",
       "      <th></th>\n",
       "      <th></th>\n",
       "      <th></th>\n",
       "      <th></th>\n",
       "      <th></th>\n",
       "      <th></th>\n",
       "      <th></th>\n",
       "      <th></th>\n",
       "      <th></th>\n",
       "      <th></th>\n",
       "      <th></th>\n",
       "      <th></th>\n",
       "      <th></th>\n",
       "      <th></th>\n",
       "      <th></th>\n",
       "      <th></th>\n",
       "      <th></th>\n",
       "      <th></th>\n",
       "      <th></th>\n",
       "      <th></th>\n",
       "    </tr>\n",
       "  </thead>\n",
       "  <tbody>\n",
       "    <tr>\n",
       "      <th>2000-01</th>\n",
       "      <td>37.0</td>\n",
       "      <td>35.0</td>\n",
       "      <td>24.0</td>\n",
       "      <td>NaN</td>\n",
       "      <td>42.0</td>\n",
       "      <td>26.0</td>\n",
       "      <td>23.0</td>\n",
       "      <td>30.0</td>\n",
       "      <td>19.0</td>\n",
       "      <td>22.0</td>\n",
       "      <td>24.0</td>\n",
       "      <td>11.0</td>\n",
       "      <td>32.0</td>\n",
       "      <td>24.0</td>\n",
       "      <td>20.0</td>\n",
       "      <td>20.0</td>\n",
       "      <td>30.0</td>\n",
       "      <td>24.0</td>\n",
       "      <td>36.0</td>\n",
       "      <td>29.0</td>\n",
       "      <td>19.0</td>\n",
       "      <td>10.0</td>\n",
       "      <td>20.0</td>\n",
       "      <td>29.0</td>\n",
       "      <td>14.0</td>\n",
       "      <td>12.0</td>\n",
       "      <td>28.0</td>\n",
       "      <td>39.0</td>\n",
       "      <td>27.0</td>\n",
       "      <td>11.0</td>\n",
       "    </tr>\n",
       "    <tr>\n",
       "      <th>2001-02</th>\n",
       "      <td>26.0</td>\n",
       "      <td>32.0</td>\n",
       "      <td>25.0</td>\n",
       "      <td>NaN</td>\n",
       "      <td>35.0</td>\n",
       "      <td>47.0</td>\n",
       "      <td>42.0</td>\n",
       "      <td>14.0</td>\n",
       "      <td>28.0</td>\n",
       "      <td>11.0</td>\n",
       "      <td>24.0</td>\n",
       "      <td>24.0</td>\n",
       "      <td>20.0</td>\n",
       "      <td>17.0</td>\n",
       "      <td>7.0</td>\n",
       "      <td>8.0</td>\n",
       "      <td>32.0</td>\n",
       "      <td>16.0</td>\n",
       "      <td>36.0</td>\n",
       "      <td>28.0</td>\n",
       "      <td>22.0</td>\n",
       "      <td>11.0</td>\n",
       "      <td>18.0</td>\n",
       "      <td>32.0</td>\n",
       "      <td>18.0</td>\n",
       "      <td>18.0</td>\n",
       "      <td>29.0</td>\n",
       "      <td>33.0</td>\n",
       "      <td>10.0</td>\n",
       "      <td>11.0</td>\n",
       "    </tr>\n",
       "    <tr>\n",
       "      <th>2002-03</th>\n",
       "      <td>19.0</td>\n",
       "      <td>28.0</td>\n",
       "      <td>29.0</td>\n",
       "      <td>12.0</td>\n",
       "      <td>16.0</td>\n",
       "      <td>33.0</td>\n",
       "      <td>36.0</td>\n",
       "      <td>7.0</td>\n",
       "      <td>21.0</td>\n",
       "      <td>23.0</td>\n",
       "      <td>22.0</td>\n",
       "      <td>22.0</td>\n",
       "      <td>28.0</td>\n",
       "      <td>14.0</td>\n",
       "      <td>9.0</td>\n",
       "      <td>8.0</td>\n",
       "      <td>38.0</td>\n",
       "      <td>21.0</td>\n",
       "      <td>34.0</td>\n",
       "      <td>28.0</td>\n",
       "      <td>24.0</td>\n",
       "      <td>14.0</td>\n",
       "      <td>11.0</td>\n",
       "      <td>23.0</td>\n",
       "      <td>27.0</td>\n",
       "      <td>14.0</td>\n",
       "      <td>22.0</td>\n",
       "      <td>24.0</td>\n",
       "      <td>13.0</td>\n",
       "      <td>NaN</td>\n",
       "    </tr>\n",
       "    <tr>\n",
       "      <th>2003-04</th>\n",
       "      <td>26.0</td>\n",
       "      <td>18.0</td>\n",
       "      <td>33.0</td>\n",
       "      <td>20.0</td>\n",
       "      <td>29.0</td>\n",
       "      <td>36.0</td>\n",
       "      <td>14.0</td>\n",
       "      <td>21.0</td>\n",
       "      <td>13.0</td>\n",
       "      <td>38.0</td>\n",
       "      <td>27.0</td>\n",
       "      <td>15.0</td>\n",
       "      <td>16.0</td>\n",
       "      <td>14.0</td>\n",
       "      <td>12.0</td>\n",
       "      <td>26.0</td>\n",
       "      <td>38.0</td>\n",
       "      <td>24.0</td>\n",
       "      <td>37.0</td>\n",
       "      <td>38.0</td>\n",
       "      <td>19.0</td>\n",
       "      <td>6.0</td>\n",
       "      <td>18.0</td>\n",
       "      <td>28.0</td>\n",
       "      <td>29.0</td>\n",
       "      <td>22.0</td>\n",
       "      <td>16.0</td>\n",
       "      <td>31.0</td>\n",
       "      <td>33.0</td>\n",
       "      <td>NaN</td>\n",
       "    </tr>\n",
       "    <tr>\n",
       "      <th>2004-05</th>\n",
       "      <td>35.0</td>\n",
       "      <td>19.0</td>\n",
       "      <td>14.0</td>\n",
       "      <td>26.0</td>\n",
       "      <td>31.0</td>\n",
       "      <td>33.0</td>\n",
       "      <td>30.0</td>\n",
       "      <td>24.0</td>\n",
       "      <td>24.0</td>\n",
       "      <td>24.0</td>\n",
       "      <td>23.0</td>\n",
       "      <td>14.0</td>\n",
       "      <td>16.0</td>\n",
       "      <td>28.0</td>\n",
       "      <td>26.0</td>\n",
       "      <td>13.0</td>\n",
       "      <td>26.0</td>\n",
       "      <td>47.0</td>\n",
       "      <td>26.0</td>\n",
       "      <td>13.0</td>\n",
       "      <td>22.0</td>\n",
       "      <td>29.0</td>\n",
       "      <td>27.0</td>\n",
       "      <td>15.0</td>\n",
       "      <td>16.0</td>\n",
       "      <td>36.0</td>\n",
       "      <td>25.0</td>\n",
       "      <td>20.0</td>\n",
       "      <td>19.0</td>\n",
       "      <td>38.0</td>\n",
       "    </tr>\n",
       "    <tr>\n",
       "      <th>2005-06</th>\n",
       "      <td>24.0</td>\n",
       "      <td>36.0</td>\n",
       "      <td>20.0</td>\n",
       "      <td>24.0</td>\n",
       "      <td>40.0</td>\n",
       "      <td>33.0</td>\n",
       "      <td>24.0</td>\n",
       "      <td>21.0</td>\n",
       "      <td>32.0</td>\n",
       "      <td>23.0</td>\n",
       "      <td>19.0</td>\n",
       "      <td>28.0</td>\n",
       "      <td>13.0</td>\n",
       "      <td>11.0</td>\n",
       "      <td>13.0</td>\n",
       "      <td>60.0</td>\n",
       "      <td>19.0</td>\n",
       "      <td>47.0</td>\n",
       "      <td>30.0</td>\n",
       "      <td>18.0</td>\n",
       "      <td>36.0</td>\n",
       "      <td>12.0</td>\n",
       "      <td>18.0</td>\n",
       "      <td>32.0</td>\n",
       "      <td>29.0</td>\n",
       "      <td>23.0</td>\n",
       "      <td>22.0</td>\n",
       "      <td>17.0</td>\n",
       "      <td>7.0</td>\n",
       "      <td>38.0</td>\n",
       "    </tr>\n",
       "    <tr>\n",
       "      <th>2006-07</th>\n",
       "      <td>34.0</td>\n",
       "      <td>42.0</td>\n",
       "      <td>27.0</td>\n",
       "      <td>22.0</td>\n",
       "      <td>27.0</td>\n",
       "      <td>27.0</td>\n",
       "      <td>30.0</td>\n",
       "      <td>41.0</td>\n",
       "      <td>19.0</td>\n",
       "      <td>35.0</td>\n",
       "      <td>30.0</td>\n",
       "      <td>28.0</td>\n",
       "      <td>30.0</td>\n",
       "      <td>16.0</td>\n",
       "      <td>20.0</td>\n",
       "      <td>39.0</td>\n",
       "      <td>16.0</td>\n",
       "      <td>34.0</td>\n",
       "      <td>24.0</td>\n",
       "      <td>16.0</td>\n",
       "      <td>24.0</td>\n",
       "      <td>20.0</td>\n",
       "      <td>21.0</td>\n",
       "      <td>26.0</td>\n",
       "      <td>20.0</td>\n",
       "      <td>19.0</td>\n",
       "      <td>57.0</td>\n",
       "      <td>18.0</td>\n",
       "      <td>18.0</td>\n",
       "      <td>40.0</td>\n",
       "    </tr>\n",
       "    <tr>\n",
       "      <th>2007-08</th>\n",
       "      <td>23.0</td>\n",
       "      <td>19.0</td>\n",
       "      <td>35.0</td>\n",
       "      <td>16.0</td>\n",
       "      <td>33.0</td>\n",
       "      <td>44.0</td>\n",
       "      <td>17.0</td>\n",
       "      <td>31.0</td>\n",
       "      <td>18.0</td>\n",
       "      <td>45.0</td>\n",
       "      <td>25.0</td>\n",
       "      <td>39.0</td>\n",
       "      <td>23.0</td>\n",
       "      <td>31.0</td>\n",
       "      <td>33.0</td>\n",
       "      <td>36.0</td>\n",
       "      <td>17.0</td>\n",
       "      <td>28.0</td>\n",
       "      <td>11.0</td>\n",
       "      <td>14.0</td>\n",
       "      <td>19.0</td>\n",
       "      <td>23.0</td>\n",
       "      <td>26.0</td>\n",
       "      <td>21.0</td>\n",
       "      <td>10.0</td>\n",
       "      <td>18.0</td>\n",
       "      <td>29.0</td>\n",
       "      <td>14.0</td>\n",
       "      <td>14.0</td>\n",
       "      <td>21.0</td>\n",
       "    </tr>\n",
       "    <tr>\n",
       "      <th>2008-09</th>\n",
       "      <td>22.0</td>\n",
       "      <td>29.0</td>\n",
       "      <td>21.0</td>\n",
       "      <td>20.0</td>\n",
       "      <td>25.0</td>\n",
       "      <td>35.0</td>\n",
       "      <td>25.0</td>\n",
       "      <td>56.0</td>\n",
       "      <td>22.0</td>\n",
       "      <td>45.0</td>\n",
       "      <td>14.0</td>\n",
       "      <td>25.0</td>\n",
       "      <td>34.0</td>\n",
       "      <td>31.0</td>\n",
       "      <td>16.0</td>\n",
       "      <td>17.0</td>\n",
       "      <td>22.0</td>\n",
       "      <td>29.0</td>\n",
       "      <td>13.0</td>\n",
       "      <td>24.0</td>\n",
       "      <td>17.0</td>\n",
       "      <td>27.0</td>\n",
       "      <td>23.0</td>\n",
       "      <td>23.0</td>\n",
       "      <td>27.0</td>\n",
       "      <td>27.0</td>\n",
       "      <td>23.0</td>\n",
       "      <td>26.0</td>\n",
       "      <td>26.0</td>\n",
       "      <td>37.0</td>\n",
       "    </tr>\n",
       "    <tr>\n",
       "      <th>2009-10</th>\n",
       "      <td>10.0</td>\n",
       "      <td>21.0</td>\n",
       "      <td>23.0</td>\n",
       "      <td>17.0</td>\n",
       "      <td>12.0</td>\n",
       "      <td>26.0</td>\n",
       "      <td>13.0</td>\n",
       "      <td>55.0</td>\n",
       "      <td>12.0</td>\n",
       "      <td>24.0</td>\n",
       "      <td>14.0</td>\n",
       "      <td>22.0</td>\n",
       "      <td>22.0</td>\n",
       "      <td>20.0</td>\n",
       "      <td>31.0</td>\n",
       "      <td>21.0</td>\n",
       "      <td>15.0</td>\n",
       "      <td>32.0</td>\n",
       "      <td>17.0</td>\n",
       "      <td>14.0</td>\n",
       "      <td>20.0</td>\n",
       "      <td>49.0</td>\n",
       "      <td>36.0</td>\n",
       "      <td>7.0</td>\n",
       "      <td>27.0</td>\n",
       "      <td>18.0</td>\n",
       "      <td>14.0</td>\n",
       "      <td>40.0</td>\n",
       "      <td>28.0</td>\n",
       "      <td>22.0</td>\n",
       "    </tr>\n",
       "    <tr>\n",
       "      <th>2010-11</th>\n",
       "      <td>21.0</td>\n",
       "      <td>26.0</td>\n",
       "      <td>31.0</td>\n",
       "      <td>24.0</td>\n",
       "      <td>16.0</td>\n",
       "      <td>37.0</td>\n",
       "      <td>25.0</td>\n",
       "      <td>22.0</td>\n",
       "      <td>17.0</td>\n",
       "      <td>17.0</td>\n",
       "      <td>7.0</td>\n",
       "      <td>27.0</td>\n",
       "      <td>32.0</td>\n",
       "      <td>23.0</td>\n",
       "      <td>40.0</td>\n",
       "      <td>28.0</td>\n",
       "      <td>20.0</td>\n",
       "      <td>18.0</td>\n",
       "      <td>17.0</td>\n",
       "      <td>21.0</td>\n",
       "      <td>21.0</td>\n",
       "      <td>40.0</td>\n",
       "      <td>21.0</td>\n",
       "      <td>14.0</td>\n",
       "      <td>33.0</td>\n",
       "      <td>29.0</td>\n",
       "      <td>22.0</td>\n",
       "      <td>52.0</td>\n",
       "      <td>24.0</td>\n",
       "      <td>29.0</td>\n",
       "    </tr>\n",
       "    <tr>\n",
       "      <th>2011-12</th>\n",
       "      <td>12.0</td>\n",
       "      <td>34.0</td>\n",
       "      <td>22.0</td>\n",
       "      <td>32.0</td>\n",
       "      <td>18.0</td>\n",
       "      <td>20.0</td>\n",
       "      <td>24.0</td>\n",
       "      <td>30.0</td>\n",
       "      <td>12.0</td>\n",
       "      <td>10.0</td>\n",
       "      <td>14.0</td>\n",
       "      <td>28.0</td>\n",
       "      <td>26.0</td>\n",
       "      <td>18.0</td>\n",
       "      <td>41.0</td>\n",
       "      <td>21.0</td>\n",
       "      <td>19.0</td>\n",
       "      <td>8.0</td>\n",
       "      <td>23.0</td>\n",
       "      <td>14.0</td>\n",
       "      <td>22.0</td>\n",
       "      <td>20.0</td>\n",
       "      <td>23.0</td>\n",
       "      <td>7.0</td>\n",
       "      <td>28.0</td>\n",
       "      <td>14.0</td>\n",
       "      <td>18.0</td>\n",
       "      <td>19.0</td>\n",
       "      <td>15.0</td>\n",
       "      <td>34.0</td>\n",
       "    </tr>\n",
       "    <tr>\n",
       "      <th>2012-13</th>\n",
       "      <td>36.0</td>\n",
       "      <td>36.0</td>\n",
       "      <td>19.0</td>\n",
       "      <td>19.0</td>\n",
       "      <td>19.0</td>\n",
       "      <td>32.0</td>\n",
       "      <td>18.0</td>\n",
       "      <td>19.0</td>\n",
       "      <td>18.0</td>\n",
       "      <td>9.0</td>\n",
       "      <td>28.0</td>\n",
       "      <td>19.0</td>\n",
       "      <td>30.0</td>\n",
       "      <td>18.0</td>\n",
       "      <td>21.0</td>\n",
       "      <td>39.0</td>\n",
       "      <td>37.0</td>\n",
       "      <td>13.0</td>\n",
       "      <td>22.0</td>\n",
       "      <td>16.0</td>\n",
       "      <td>25.0</td>\n",
       "      <td>16.0</td>\n",
       "      <td>28.0</td>\n",
       "      <td>10.0</td>\n",
       "      <td>27.0</td>\n",
       "      <td>16.0</td>\n",
       "      <td>18.0</td>\n",
       "      <td>35.0</td>\n",
       "      <td>15.0</td>\n",
       "      <td>23.0</td>\n",
       "    </tr>\n",
       "    <tr>\n",
       "      <th>2013-14</th>\n",
       "      <td>33.0</td>\n",
       "      <td>30.0</td>\n",
       "      <td>31.0</td>\n",
       "      <td>33.0</td>\n",
       "      <td>18.0</td>\n",
       "      <td>17.0</td>\n",
       "      <td>28.0</td>\n",
       "      <td>23.0</td>\n",
       "      <td>23.0</td>\n",
       "      <td>24.0</td>\n",
       "      <td>37.0</td>\n",
       "      <td>28.0</td>\n",
       "      <td>28.0</td>\n",
       "      <td>16.0</td>\n",
       "      <td>32.0</td>\n",
       "      <td>30.0</td>\n",
       "      <td>27.0</td>\n",
       "      <td>6.0</td>\n",
       "      <td>26.0</td>\n",
       "      <td>13.0</td>\n",
       "      <td>10.0</td>\n",
       "      <td>23.0</td>\n",
       "      <td>37.0</td>\n",
       "      <td>25.0</td>\n",
       "      <td>18.0</td>\n",
       "      <td>17.0</td>\n",
       "      <td>27.0</td>\n",
       "      <td>13.0</td>\n",
       "      <td>10.0</td>\n",
       "      <td>17.0</td>\n",
       "    </tr>\n",
       "    <tr>\n",
       "      <th>2014-15</th>\n",
       "      <td>24.0</td>\n",
       "      <td>23.0</td>\n",
       "      <td>25.0</td>\n",
       "      <td>22.0</td>\n",
       "      <td>26.0</td>\n",
       "      <td>31.0</td>\n",
       "      <td>27.0</td>\n",
       "      <td>17.0</td>\n",
       "      <td>30.0</td>\n",
       "      <td>13.0</td>\n",
       "      <td>17.0</td>\n",
       "      <td>40.0</td>\n",
       "      <td>33.0</td>\n",
       "      <td>34.0</td>\n",
       "      <td>25.0</td>\n",
       "      <td>50.0</td>\n",
       "      <td>28.0</td>\n",
       "      <td>19.0</td>\n",
       "      <td>45.0</td>\n",
       "      <td>18.0</td>\n",
       "      <td>27.0</td>\n",
       "      <td>27.0</td>\n",
       "      <td>32.0</td>\n",
       "      <td>25.0</td>\n",
       "      <td>17.0</td>\n",
       "      <td>32.0</td>\n",
       "      <td>25.0</td>\n",
       "      <td>19.0</td>\n",
       "      <td>13.0</td>\n",
       "      <td>20.0</td>\n",
       "    </tr>\n",
       "    <tr>\n",
       "      <th>2015-16</th>\n",
       "      <td>18.0</td>\n",
       "      <td>16.0</td>\n",
       "      <td>23.0</td>\n",
       "      <td>50.0</td>\n",
       "      <td>32.0</td>\n",
       "      <td>31.0</td>\n",
       "      <td>25.0</td>\n",
       "      <td>17.0</td>\n",
       "      <td>30.0</td>\n",
       "      <td>22.0</td>\n",
       "      <td>13.0</td>\n",
       "      <td>27.0</td>\n",
       "      <td>30.0</td>\n",
       "      <td>16.0</td>\n",
       "      <td>28.0</td>\n",
       "      <td>17.0</td>\n",
       "      <td>26.0</td>\n",
       "      <td>20.0</td>\n",
       "      <td>40.0</td>\n",
       "      <td>31.0</td>\n",
       "      <td>14.0</td>\n",
       "      <td>40.0</td>\n",
       "      <td>22.0</td>\n",
       "      <td>12.0</td>\n",
       "      <td>18.0</td>\n",
       "      <td>33.0</td>\n",
       "      <td>33.0</td>\n",
       "      <td>27.0</td>\n",
       "      <td>11.0</td>\n",
       "      <td>19.0</td>\n",
       "    </tr>\n",
       "    <tr>\n",
       "      <th>2016-17</th>\n",
       "      <td>30.0</td>\n",
       "      <td>24.0</td>\n",
       "      <td>29.0</td>\n",
       "      <td>33.0</td>\n",
       "      <td>28.0</td>\n",
       "      <td>43.0</td>\n",
       "      <td>33.0</td>\n",
       "      <td>28.0</td>\n",
       "      <td>20.0</td>\n",
       "      <td>21.0</td>\n",
       "      <td>28.0</td>\n",
       "      <td>28.0</td>\n",
       "      <td>14.0</td>\n",
       "      <td>10.0</td>\n",
       "      <td>35.0</td>\n",
       "      <td>33.0</td>\n",
       "      <td>19.0</td>\n",
       "      <td>13.0</td>\n",
       "      <td>36.0</td>\n",
       "      <td>19.0</td>\n",
       "      <td>23.0</td>\n",
       "      <td>34.0</td>\n",
       "      <td>34.0</td>\n",
       "      <td>19.0</td>\n",
       "      <td>20.0</td>\n",
       "      <td>40.0</td>\n",
       "      <td>32.0</td>\n",
       "      <td>17.0</td>\n",
       "      <td>15.0</td>\n",
       "      <td>16.0</td>\n",
       "    </tr>\n",
       "    <tr>\n",
       "      <th>2017-18</th>\n",
       "      <td>32.0</td>\n",
       "      <td>35.0</td>\n",
       "      <td>34.0</td>\n",
       "      <td>24.0</td>\n",
       "      <td>26.0</td>\n",
       "      <td>41.0</td>\n",
       "      <td>24.0</td>\n",
       "      <td>42.0</td>\n",
       "      <td>22.0</td>\n",
       "      <td>46.0</td>\n",
       "      <td>27.0</td>\n",
       "      <td>29.0</td>\n",
       "      <td>28.0</td>\n",
       "      <td>12.0</td>\n",
       "      <td>29.0</td>\n",
       "      <td>30.0</td>\n",
       "      <td>32.0</td>\n",
       "      <td>12.0</td>\n",
       "      <td>34.0</td>\n",
       "      <td>39.0</td>\n",
       "      <td>26.0</td>\n",
       "      <td>35.0</td>\n",
       "      <td>27.0</td>\n",
       "      <td>18.0</td>\n",
       "      <td>17.0</td>\n",
       "      <td>22.0</td>\n",
       "      <td>46.0</td>\n",
       "      <td>12.0</td>\n",
       "      <td>23.0</td>\n",
       "      <td>8.0</td>\n",
       "    </tr>\n",
       "    <tr>\n",
       "      <th>2018-19</th>\n",
       "      <td>26.0</td>\n",
       "      <td>27.0</td>\n",
       "      <td>34.0</td>\n",
       "      <td>32.0</td>\n",
       "      <td>33.0</td>\n",
       "      <td>30.0</td>\n",
       "      <td>18.0</td>\n",
       "      <td>40.0</td>\n",
       "      <td>37.0</td>\n",
       "      <td>19.0</td>\n",
       "      <td>42.0</td>\n",
       "      <td>29.0</td>\n",
       "      <td>24.0</td>\n",
       "      <td>28.0</td>\n",
       "      <td>19.0</td>\n",
       "      <td>37.0</td>\n",
       "      <td>10.0</td>\n",
       "      <td>13.0</td>\n",
       "      <td>52.0</td>\n",
       "      <td>39.0</td>\n",
       "      <td>22.0</td>\n",
       "      <td>18.0</td>\n",
       "      <td>19.0</td>\n",
       "      <td>19.0</td>\n",
       "      <td>28.0</td>\n",
       "      <td>20.0</td>\n",
       "      <td>36.0</td>\n",
       "      <td>21.0</td>\n",
       "      <td>19.0</td>\n",
       "      <td>21.0</td>\n",
       "    </tr>\n",
       "  </tbody>\n",
       "</table>\n",
       "</div>"
      ],
      "text/plain": [
       "team_id  1610612737  1610612738  1610612739  1610612740  1610612741  \\\n",
       "season                                                                \n",
       "2000-01        37.0        35.0        24.0         NaN        42.0   \n",
       "2001-02        26.0        32.0        25.0         NaN        35.0   \n",
       "2002-03        19.0        28.0        29.0        12.0        16.0   \n",
       "2003-04        26.0        18.0        33.0        20.0        29.0   \n",
       "2004-05        35.0        19.0        14.0        26.0        31.0   \n",
       "2005-06        24.0        36.0        20.0        24.0        40.0   \n",
       "2006-07        34.0        42.0        27.0        22.0        27.0   \n",
       "2007-08        23.0        19.0        35.0        16.0        33.0   \n",
       "2008-09        22.0        29.0        21.0        20.0        25.0   \n",
       "2009-10        10.0        21.0        23.0        17.0        12.0   \n",
       "2010-11        21.0        26.0        31.0        24.0        16.0   \n",
       "2011-12        12.0        34.0        22.0        32.0        18.0   \n",
       "2012-13        36.0        36.0        19.0        19.0        19.0   \n",
       "2013-14        33.0        30.0        31.0        33.0        18.0   \n",
       "2014-15        24.0        23.0        25.0        22.0        26.0   \n",
       "2015-16        18.0        16.0        23.0        50.0        32.0   \n",
       "2016-17        30.0        24.0        29.0        33.0        28.0   \n",
       "2017-18        32.0        35.0        34.0        24.0        26.0   \n",
       "2018-19        26.0        27.0        34.0        32.0        33.0   \n",
       "\n",
       "team_id  1610612742  1610612743  1610612744  1610612745  1610612746  \\\n",
       "season                                                                \n",
       "2000-01        26.0        23.0        30.0        19.0        22.0   \n",
       "2001-02        47.0        42.0        14.0        28.0        11.0   \n",
       "2002-03        33.0        36.0         7.0        21.0        23.0   \n",
       "2003-04        36.0        14.0        21.0        13.0        38.0   \n",
       "2004-05        33.0        30.0        24.0        24.0        24.0   \n",
       "2005-06        33.0        24.0        21.0        32.0        23.0   \n",
       "2006-07        27.0        30.0        41.0        19.0        35.0   \n",
       "2007-08        44.0        17.0        31.0        18.0        45.0   \n",
       "2008-09        35.0        25.0        56.0        22.0        45.0   \n",
       "2009-10        26.0        13.0        55.0        12.0        24.0   \n",
       "2010-11        37.0        25.0        22.0        17.0        17.0   \n",
       "2011-12        20.0        24.0        30.0        12.0        10.0   \n",
       "2012-13        32.0        18.0        19.0        18.0         9.0   \n",
       "2013-14        17.0        28.0        23.0        23.0        24.0   \n",
       "2014-15        31.0        27.0        17.0        30.0        13.0   \n",
       "2015-16        31.0        25.0        17.0        30.0        22.0   \n",
       "2016-17        43.0        33.0        28.0        20.0        21.0   \n",
       "2017-18        41.0        24.0        42.0        22.0        46.0   \n",
       "2018-19        30.0        18.0        40.0        37.0        19.0   \n",
       "\n",
       "team_id  1610612747  1610612748  1610612749  1610612750  1610612751  \\\n",
       "season                                                                \n",
       "2000-01        24.0        11.0        32.0        24.0        20.0   \n",
       "2001-02        24.0        24.0        20.0        17.0         7.0   \n",
       "2002-03        22.0        22.0        28.0        14.0         9.0   \n",
       "2003-04        27.0        15.0        16.0        14.0        12.0   \n",
       "2004-05        23.0        14.0        16.0        28.0        26.0   \n",
       "2005-06        19.0        28.0        13.0        11.0        13.0   \n",
       "2006-07        30.0        28.0        30.0        16.0        20.0   \n",
       "2007-08        25.0        39.0        23.0        31.0        33.0   \n",
       "2008-09        14.0        25.0        34.0        31.0        16.0   \n",
       "2009-10        14.0        22.0        22.0        20.0        31.0   \n",
       "2010-11         7.0        27.0        32.0        23.0        40.0   \n",
       "2011-12        14.0        28.0        26.0        18.0        41.0   \n",
       "2012-13        28.0        19.0        30.0        18.0        21.0   \n",
       "2013-14        37.0        28.0        28.0        16.0        32.0   \n",
       "2014-15        17.0        40.0        33.0        34.0        25.0   \n",
       "2015-16        13.0        27.0        30.0        16.0        28.0   \n",
       "2016-17        28.0        28.0        14.0        10.0        35.0   \n",
       "2017-18        27.0        29.0        28.0        12.0        29.0   \n",
       "2018-19        42.0        29.0        24.0        28.0        19.0   \n",
       "\n",
       "team_id  1610612752  1610612753  1610612754  1610612755  1610612756  \\\n",
       "season                                                                \n",
       "2000-01        20.0        30.0        24.0        36.0        29.0   \n",
       "2001-02         8.0        32.0        16.0        36.0        28.0   \n",
       "2002-03         8.0        38.0        21.0        34.0        28.0   \n",
       "2003-04        26.0        38.0        24.0        37.0        38.0   \n",
       "2004-05        13.0        26.0        47.0        26.0        13.0   \n",
       "2005-06        60.0        19.0        47.0        30.0        18.0   \n",
       "2006-07        39.0        16.0        34.0        24.0        16.0   \n",
       "2007-08        36.0        17.0        28.0        11.0        14.0   \n",
       "2008-09        17.0        22.0        29.0        13.0        24.0   \n",
       "2009-10        21.0        15.0        32.0        17.0        14.0   \n",
       "2010-11        28.0        20.0        18.0        17.0        21.0   \n",
       "2011-12        21.0        19.0         8.0        23.0        14.0   \n",
       "2012-13        39.0        37.0        13.0        22.0        16.0   \n",
       "2013-14        30.0        27.0         6.0        26.0        13.0   \n",
       "2014-15        50.0        28.0        19.0        45.0        18.0   \n",
       "2015-16        17.0        26.0        20.0        40.0        31.0   \n",
       "2016-17        33.0        19.0        13.0        36.0        19.0   \n",
       "2017-18        30.0        32.0        12.0        34.0        39.0   \n",
       "2018-19        37.0        10.0        13.0        52.0        39.0   \n",
       "\n",
       "team_id  1610612757  1610612758  1610612759  1610612760  1610612761  \\\n",
       "season                                                                \n",
       "2000-01        19.0        10.0        20.0        29.0        14.0   \n",
       "2001-02        22.0        11.0        18.0        32.0        18.0   \n",
       "2002-03        24.0        14.0        11.0        23.0        27.0   \n",
       "2003-04        19.0         6.0        18.0        28.0        29.0   \n",
       "2004-05        22.0        29.0        27.0        15.0        16.0   \n",
       "2005-06        36.0        12.0        18.0        32.0        29.0   \n",
       "2006-07        24.0        20.0        21.0        26.0        20.0   \n",
       "2007-08        19.0        23.0        26.0        21.0        10.0   \n",
       "2008-09        17.0        27.0        23.0        23.0        27.0   \n",
       "2009-10        20.0        49.0        36.0         7.0        27.0   \n",
       "2010-11        21.0        40.0        21.0        14.0        33.0   \n",
       "2011-12        22.0        20.0        23.0         7.0        28.0   \n",
       "2012-13        25.0        16.0        28.0        10.0        27.0   \n",
       "2013-14        10.0        23.0        37.0        25.0        18.0   \n",
       "2014-15        27.0        27.0        32.0        25.0        17.0   \n",
       "2015-16        14.0        40.0        22.0        12.0        18.0   \n",
       "2016-17        23.0        34.0        34.0        19.0        20.0   \n",
       "2017-18        26.0        35.0        27.0        18.0        17.0   \n",
       "2018-19        22.0        18.0        19.0        19.0        28.0   \n",
       "\n",
       "team_id  1610612762  1610612763  1610612764  1610612765  1610612766  \n",
       "season                                                               \n",
       "2000-01        12.0        28.0        39.0        27.0        11.0  \n",
       "2001-02        18.0        29.0        33.0        10.0        11.0  \n",
       "2002-03        14.0        22.0        24.0        13.0         NaN  \n",
       "2003-04        22.0        16.0        31.0        33.0         NaN  \n",
       "2004-05        36.0        25.0        20.0        19.0        38.0  \n",
       "2005-06        23.0        22.0        17.0         7.0        38.0  \n",
       "2006-07        19.0        57.0        18.0        18.0        40.0  \n",
       "2007-08        18.0        29.0        14.0        14.0        21.0  \n",
       "2008-09        27.0        23.0        26.0        26.0        37.0  \n",
       "2009-10        18.0        14.0        40.0        28.0        22.0  \n",
       "2010-11        29.0        22.0        52.0        24.0        29.0  \n",
       "2011-12        14.0        18.0        19.0        15.0        34.0  \n",
       "2012-13        16.0        18.0        35.0        15.0        23.0  \n",
       "2013-14        17.0        27.0        13.0        10.0        17.0  \n",
       "2014-15        32.0        25.0        19.0        13.0        20.0  \n",
       "2015-16        33.0        33.0        27.0        11.0        19.0  \n",
       "2016-17        40.0        32.0        17.0        15.0        16.0  \n",
       "2017-18        22.0        46.0        12.0        23.0         8.0  \n",
       "2018-19        20.0        36.0        21.0        19.0        21.0  "
      ]
     },
     "execution_count": 355,
     "metadata": {},
     "output_type": "execute_result"
    }
   ],
   "source": [
    "# TODO TODO TODO TODO\n",
    "\n",
    "all_lineups.groupby([\"season\", \"team_id\"]).size().unstack()"
   ]
  },
  {
   "cell_type": "code",
   "execution_count": 358,
   "metadata": {},
   "outputs": [
    {
     "data": {
      "application/vnd.plotly.v1+json": {
       "config": {
        "plotlyServerURL": "https://plot.ly"
       },
       "data": [
        {
         "hovertemplate": "team_id=1610612737<br>season=%{x}<br>value=%{y}<extra></extra>",
         "legendgroup": "1610612737",
         "line": {
          "color": "#636efa",
          "dash": "solid"
         },
         "marker": {
          "symbol": "circle"
         },
         "mode": "lines",
         "name": "1610612737",
         "orientation": "v",
         "showlegend": true,
         "type": "scatter",
         "x": [
          "2000-01",
          "2001-02",
          "2002-03",
          "2003-04",
          "2004-05",
          "2005-06",
          "2006-07",
          "2007-08",
          "2008-09",
          "2009-10",
          "2010-11",
          "2011-12",
          "2012-13",
          "2013-14",
          "2014-15",
          "2015-16",
          "2016-17",
          "2017-18",
          "2018-19"
         ],
         "xaxis": "x",
         "y": [
          37,
          26,
          19,
          26,
          35,
          24,
          34,
          23,
          22,
          10,
          21,
          12,
          36,
          33,
          24,
          18,
          30,
          32,
          26
         ],
         "yaxis": "y"
        },
        {
         "hovertemplate": "team_id=1610612738<br>season=%{x}<br>value=%{y}<extra></extra>",
         "legendgroup": "1610612738",
         "line": {
          "color": "#EF553B",
          "dash": "solid"
         },
         "marker": {
          "symbol": "circle"
         },
         "mode": "lines",
         "name": "1610612738",
         "orientation": "v",
         "showlegend": true,
         "type": "scatter",
         "x": [
          "2000-01",
          "2001-02",
          "2002-03",
          "2003-04",
          "2004-05",
          "2005-06",
          "2006-07",
          "2007-08",
          "2008-09",
          "2009-10",
          "2010-11",
          "2011-12",
          "2012-13",
          "2013-14",
          "2014-15",
          "2015-16",
          "2016-17",
          "2017-18",
          "2018-19"
         ],
         "xaxis": "x",
         "y": [
          35,
          32,
          28,
          18,
          19,
          36,
          42,
          19,
          29,
          21,
          26,
          34,
          36,
          30,
          23,
          16,
          24,
          35,
          27
         ],
         "yaxis": "y"
        },
        {
         "hovertemplate": "team_id=1610612739<br>season=%{x}<br>value=%{y}<extra></extra>",
         "legendgroup": "1610612739",
         "line": {
          "color": "#00cc96",
          "dash": "solid"
         },
         "marker": {
          "symbol": "circle"
         },
         "mode": "lines",
         "name": "1610612739",
         "orientation": "v",
         "showlegend": true,
         "type": "scatter",
         "x": [
          "2000-01",
          "2001-02",
          "2002-03",
          "2003-04",
          "2004-05",
          "2005-06",
          "2006-07",
          "2007-08",
          "2008-09",
          "2009-10",
          "2010-11",
          "2011-12",
          "2012-13",
          "2013-14",
          "2014-15",
          "2015-16",
          "2016-17",
          "2017-18",
          "2018-19"
         ],
         "xaxis": "x",
         "y": [
          24,
          25,
          29,
          33,
          14,
          20,
          27,
          35,
          21,
          23,
          31,
          22,
          19,
          31,
          25,
          23,
          29,
          34,
          34
         ],
         "yaxis": "y"
        },
        {
         "hovertemplate": "team_id=1610612740<br>season=%{x}<br>value=%{y}<extra></extra>",
         "legendgroup": "1610612740",
         "line": {
          "color": "#ab63fa",
          "dash": "solid"
         },
         "marker": {
          "symbol": "circle"
         },
         "mode": "lines",
         "name": "1610612740",
         "orientation": "v",
         "showlegend": true,
         "type": "scatter",
         "x": [
          "2000-01",
          "2001-02",
          "2002-03",
          "2003-04",
          "2004-05",
          "2005-06",
          "2006-07",
          "2007-08",
          "2008-09",
          "2009-10",
          "2010-11",
          "2011-12",
          "2012-13",
          "2013-14",
          "2014-15",
          "2015-16",
          "2016-17",
          "2017-18",
          "2018-19"
         ],
         "xaxis": "x",
         "y": [
          null,
          null,
          12,
          20,
          26,
          24,
          22,
          16,
          20,
          17,
          24,
          32,
          19,
          33,
          22,
          50,
          33,
          24,
          32
         ],
         "yaxis": "y"
        },
        {
         "hovertemplate": "team_id=1610612741<br>season=%{x}<br>value=%{y}<extra></extra>",
         "legendgroup": "1610612741",
         "line": {
          "color": "#FFA15A",
          "dash": "solid"
         },
         "marker": {
          "symbol": "circle"
         },
         "mode": "lines",
         "name": "1610612741",
         "orientation": "v",
         "showlegend": true,
         "type": "scatter",
         "x": [
          "2000-01",
          "2001-02",
          "2002-03",
          "2003-04",
          "2004-05",
          "2005-06",
          "2006-07",
          "2007-08",
          "2008-09",
          "2009-10",
          "2010-11",
          "2011-12",
          "2012-13",
          "2013-14",
          "2014-15",
          "2015-16",
          "2016-17",
          "2017-18",
          "2018-19"
         ],
         "xaxis": "x",
         "y": [
          42,
          35,
          16,
          29,
          31,
          40,
          27,
          33,
          25,
          12,
          16,
          18,
          19,
          18,
          26,
          32,
          28,
          26,
          33
         ],
         "yaxis": "y"
        },
        {
         "hovertemplate": "team_id=1610612742<br>season=%{x}<br>value=%{y}<extra></extra>",
         "legendgroup": "1610612742",
         "line": {
          "color": "#19d3f3",
          "dash": "solid"
         },
         "marker": {
          "symbol": "circle"
         },
         "mode": "lines",
         "name": "1610612742",
         "orientation": "v",
         "showlegend": true,
         "type": "scatter",
         "x": [
          "2000-01",
          "2001-02",
          "2002-03",
          "2003-04",
          "2004-05",
          "2005-06",
          "2006-07",
          "2007-08",
          "2008-09",
          "2009-10",
          "2010-11",
          "2011-12",
          "2012-13",
          "2013-14",
          "2014-15",
          "2015-16",
          "2016-17",
          "2017-18",
          "2018-19"
         ],
         "xaxis": "x",
         "y": [
          26,
          47,
          33,
          36,
          33,
          33,
          27,
          44,
          35,
          26,
          37,
          20,
          32,
          17,
          31,
          31,
          43,
          41,
          30
         ],
         "yaxis": "y"
        },
        {
         "hovertemplate": "team_id=1610612743<br>season=%{x}<br>value=%{y}<extra></extra>",
         "legendgroup": "1610612743",
         "line": {
          "color": "#FF6692",
          "dash": "solid"
         },
         "marker": {
          "symbol": "circle"
         },
         "mode": "lines",
         "name": "1610612743",
         "orientation": "v",
         "showlegend": true,
         "type": "scatter",
         "x": [
          "2000-01",
          "2001-02",
          "2002-03",
          "2003-04",
          "2004-05",
          "2005-06",
          "2006-07",
          "2007-08",
          "2008-09",
          "2009-10",
          "2010-11",
          "2011-12",
          "2012-13",
          "2013-14",
          "2014-15",
          "2015-16",
          "2016-17",
          "2017-18",
          "2018-19"
         ],
         "xaxis": "x",
         "y": [
          23,
          42,
          36,
          14,
          30,
          24,
          30,
          17,
          25,
          13,
          25,
          24,
          18,
          28,
          27,
          25,
          33,
          24,
          18
         ],
         "yaxis": "y"
        },
        {
         "hovertemplate": "team_id=1610612744<br>season=%{x}<br>value=%{y}<extra></extra>",
         "legendgroup": "1610612744",
         "line": {
          "color": "#B6E880",
          "dash": "solid"
         },
         "marker": {
          "symbol": "circle"
         },
         "mode": "lines",
         "name": "1610612744",
         "orientation": "v",
         "showlegend": true,
         "type": "scatter",
         "x": [
          "2000-01",
          "2001-02",
          "2002-03",
          "2003-04",
          "2004-05",
          "2005-06",
          "2006-07",
          "2007-08",
          "2008-09",
          "2009-10",
          "2010-11",
          "2011-12",
          "2012-13",
          "2013-14",
          "2014-15",
          "2015-16",
          "2016-17",
          "2017-18",
          "2018-19"
         ],
         "xaxis": "x",
         "y": [
          30,
          14,
          7,
          21,
          24,
          21,
          41,
          31,
          56,
          55,
          22,
          30,
          19,
          23,
          17,
          17,
          28,
          42,
          40
         ],
         "yaxis": "y"
        },
        {
         "hovertemplate": "team_id=1610612745<br>season=%{x}<br>value=%{y}<extra></extra>",
         "legendgroup": "1610612745",
         "line": {
          "color": "#FF97FF",
          "dash": "solid"
         },
         "marker": {
          "symbol": "circle"
         },
         "mode": "lines",
         "name": "1610612745",
         "orientation": "v",
         "showlegend": true,
         "type": "scatter",
         "x": [
          "2000-01",
          "2001-02",
          "2002-03",
          "2003-04",
          "2004-05",
          "2005-06",
          "2006-07",
          "2007-08",
          "2008-09",
          "2009-10",
          "2010-11",
          "2011-12",
          "2012-13",
          "2013-14",
          "2014-15",
          "2015-16",
          "2016-17",
          "2017-18",
          "2018-19"
         ],
         "xaxis": "x",
         "y": [
          19,
          28,
          21,
          13,
          24,
          32,
          19,
          18,
          22,
          12,
          17,
          12,
          18,
          23,
          30,
          30,
          20,
          22,
          37
         ],
         "yaxis": "y"
        },
        {
         "hovertemplate": "team_id=1610612746<br>season=%{x}<br>value=%{y}<extra></extra>",
         "legendgroup": "1610612746",
         "line": {
          "color": "#FECB52",
          "dash": "solid"
         },
         "marker": {
          "symbol": "circle"
         },
         "mode": "lines",
         "name": "1610612746",
         "orientation": "v",
         "showlegend": true,
         "type": "scatter",
         "x": [
          "2000-01",
          "2001-02",
          "2002-03",
          "2003-04",
          "2004-05",
          "2005-06",
          "2006-07",
          "2007-08",
          "2008-09",
          "2009-10",
          "2010-11",
          "2011-12",
          "2012-13",
          "2013-14",
          "2014-15",
          "2015-16",
          "2016-17",
          "2017-18",
          "2018-19"
         ],
         "xaxis": "x",
         "y": [
          22,
          11,
          23,
          38,
          24,
          23,
          35,
          45,
          45,
          24,
          17,
          10,
          9,
          24,
          13,
          22,
          21,
          46,
          19
         ],
         "yaxis": "y"
        },
        {
         "hovertemplate": "team_id=1610612747<br>season=%{x}<br>value=%{y}<extra></extra>",
         "legendgroup": "1610612747",
         "line": {
          "color": "#636efa",
          "dash": "solid"
         },
         "marker": {
          "symbol": "circle"
         },
         "mode": "lines",
         "name": "1610612747",
         "orientation": "v",
         "showlegend": true,
         "type": "scatter",
         "x": [
          "2000-01",
          "2001-02",
          "2002-03",
          "2003-04",
          "2004-05",
          "2005-06",
          "2006-07",
          "2007-08",
          "2008-09",
          "2009-10",
          "2010-11",
          "2011-12",
          "2012-13",
          "2013-14",
          "2014-15",
          "2015-16",
          "2016-17",
          "2017-18",
          "2018-19"
         ],
         "xaxis": "x",
         "y": [
          24,
          24,
          22,
          27,
          23,
          19,
          30,
          25,
          14,
          14,
          7,
          14,
          28,
          37,
          17,
          13,
          28,
          27,
          42
         ],
         "yaxis": "y"
        },
        {
         "hovertemplate": "team_id=1610612748<br>season=%{x}<br>value=%{y}<extra></extra>",
         "legendgroup": "1610612748",
         "line": {
          "color": "#EF553B",
          "dash": "solid"
         },
         "marker": {
          "symbol": "circle"
         },
         "mode": "lines",
         "name": "1610612748",
         "orientation": "v",
         "showlegend": true,
         "type": "scatter",
         "x": [
          "2000-01",
          "2001-02",
          "2002-03",
          "2003-04",
          "2004-05",
          "2005-06",
          "2006-07",
          "2007-08",
          "2008-09",
          "2009-10",
          "2010-11",
          "2011-12",
          "2012-13",
          "2013-14",
          "2014-15",
          "2015-16",
          "2016-17",
          "2017-18",
          "2018-19"
         ],
         "xaxis": "x",
         "y": [
          11,
          24,
          22,
          15,
          14,
          28,
          28,
          39,
          25,
          22,
          27,
          28,
          19,
          28,
          40,
          27,
          28,
          29,
          29
         ],
         "yaxis": "y"
        },
        {
         "hovertemplate": "team_id=1610612749<br>season=%{x}<br>value=%{y}<extra></extra>",
         "legendgroup": "1610612749",
         "line": {
          "color": "#00cc96",
          "dash": "solid"
         },
         "marker": {
          "symbol": "circle"
         },
         "mode": "lines",
         "name": "1610612749",
         "orientation": "v",
         "showlegend": true,
         "type": "scatter",
         "x": [
          "2000-01",
          "2001-02",
          "2002-03",
          "2003-04",
          "2004-05",
          "2005-06",
          "2006-07",
          "2007-08",
          "2008-09",
          "2009-10",
          "2010-11",
          "2011-12",
          "2012-13",
          "2013-14",
          "2014-15",
          "2015-16",
          "2016-17",
          "2017-18",
          "2018-19"
         ],
         "xaxis": "x",
         "y": [
          32,
          20,
          28,
          16,
          16,
          13,
          30,
          23,
          34,
          22,
          32,
          26,
          30,
          28,
          33,
          30,
          14,
          28,
          24
         ],
         "yaxis": "y"
        },
        {
         "hovertemplate": "team_id=1610612750<br>season=%{x}<br>value=%{y}<extra></extra>",
         "legendgroup": "1610612750",
         "line": {
          "color": "#ab63fa",
          "dash": "solid"
         },
         "marker": {
          "symbol": "circle"
         },
         "mode": "lines",
         "name": "1610612750",
         "orientation": "v",
         "showlegend": true,
         "type": "scatter",
         "x": [
          "2000-01",
          "2001-02",
          "2002-03",
          "2003-04",
          "2004-05",
          "2005-06",
          "2006-07",
          "2007-08",
          "2008-09",
          "2009-10",
          "2010-11",
          "2011-12",
          "2012-13",
          "2013-14",
          "2014-15",
          "2015-16",
          "2016-17",
          "2017-18",
          "2018-19"
         ],
         "xaxis": "x",
         "y": [
          24,
          17,
          14,
          14,
          28,
          11,
          16,
          31,
          31,
          20,
          23,
          18,
          18,
          16,
          34,
          16,
          10,
          12,
          28
         ],
         "yaxis": "y"
        },
        {
         "hovertemplate": "team_id=1610612751<br>season=%{x}<br>value=%{y}<extra></extra>",
         "legendgroup": "1610612751",
         "line": {
          "color": "#FFA15A",
          "dash": "solid"
         },
         "marker": {
          "symbol": "circle"
         },
         "mode": "lines",
         "name": "1610612751",
         "orientation": "v",
         "showlegend": true,
         "type": "scatter",
         "x": [
          "2000-01",
          "2001-02",
          "2002-03",
          "2003-04",
          "2004-05",
          "2005-06",
          "2006-07",
          "2007-08",
          "2008-09",
          "2009-10",
          "2010-11",
          "2011-12",
          "2012-13",
          "2013-14",
          "2014-15",
          "2015-16",
          "2016-17",
          "2017-18",
          "2018-19"
         ],
         "xaxis": "x",
         "y": [
          20,
          7,
          9,
          12,
          26,
          13,
          20,
          33,
          16,
          31,
          40,
          41,
          21,
          32,
          25,
          28,
          35,
          29,
          19
         ],
         "yaxis": "y"
        },
        {
         "hovertemplate": "team_id=1610612752<br>season=%{x}<br>value=%{y}<extra></extra>",
         "legendgroup": "1610612752",
         "line": {
          "color": "#19d3f3",
          "dash": "solid"
         },
         "marker": {
          "symbol": "circle"
         },
         "mode": "lines",
         "name": "1610612752",
         "orientation": "v",
         "showlegend": true,
         "type": "scatter",
         "x": [
          "2000-01",
          "2001-02",
          "2002-03",
          "2003-04",
          "2004-05",
          "2005-06",
          "2006-07",
          "2007-08",
          "2008-09",
          "2009-10",
          "2010-11",
          "2011-12",
          "2012-13",
          "2013-14",
          "2014-15",
          "2015-16",
          "2016-17",
          "2017-18",
          "2018-19"
         ],
         "xaxis": "x",
         "y": [
          20,
          8,
          8,
          26,
          13,
          60,
          39,
          36,
          17,
          21,
          28,
          21,
          39,
          30,
          50,
          17,
          33,
          30,
          37
         ],
         "yaxis": "y"
        },
        {
         "hovertemplate": "team_id=1610612753<br>season=%{x}<br>value=%{y}<extra></extra>",
         "legendgroup": "1610612753",
         "line": {
          "color": "#FF6692",
          "dash": "solid"
         },
         "marker": {
          "symbol": "circle"
         },
         "mode": "lines",
         "name": "1610612753",
         "orientation": "v",
         "showlegend": true,
         "type": "scatter",
         "x": [
          "2000-01",
          "2001-02",
          "2002-03",
          "2003-04",
          "2004-05",
          "2005-06",
          "2006-07",
          "2007-08",
          "2008-09",
          "2009-10",
          "2010-11",
          "2011-12",
          "2012-13",
          "2013-14",
          "2014-15",
          "2015-16",
          "2016-17",
          "2017-18",
          "2018-19"
         ],
         "xaxis": "x",
         "y": [
          30,
          32,
          38,
          38,
          26,
          19,
          16,
          17,
          22,
          15,
          20,
          19,
          37,
          27,
          28,
          26,
          19,
          32,
          10
         ],
         "yaxis": "y"
        },
        {
         "hovertemplate": "team_id=1610612754<br>season=%{x}<br>value=%{y}<extra></extra>",
         "legendgroup": "1610612754",
         "line": {
          "color": "#B6E880",
          "dash": "solid"
         },
         "marker": {
          "symbol": "circle"
         },
         "mode": "lines",
         "name": "1610612754",
         "orientation": "v",
         "showlegend": true,
         "type": "scatter",
         "x": [
          "2000-01",
          "2001-02",
          "2002-03",
          "2003-04",
          "2004-05",
          "2005-06",
          "2006-07",
          "2007-08",
          "2008-09",
          "2009-10",
          "2010-11",
          "2011-12",
          "2012-13",
          "2013-14",
          "2014-15",
          "2015-16",
          "2016-17",
          "2017-18",
          "2018-19"
         ],
         "xaxis": "x",
         "y": [
          24,
          16,
          21,
          24,
          47,
          47,
          34,
          28,
          29,
          32,
          18,
          8,
          13,
          6,
          19,
          20,
          13,
          12,
          13
         ],
         "yaxis": "y"
        },
        {
         "hovertemplate": "team_id=1610612755<br>season=%{x}<br>value=%{y}<extra></extra>",
         "legendgroup": "1610612755",
         "line": {
          "color": "#FF97FF",
          "dash": "solid"
         },
         "marker": {
          "symbol": "circle"
         },
         "mode": "lines",
         "name": "1610612755",
         "orientation": "v",
         "showlegend": true,
         "type": "scatter",
         "x": [
          "2000-01",
          "2001-02",
          "2002-03",
          "2003-04",
          "2004-05",
          "2005-06",
          "2006-07",
          "2007-08",
          "2008-09",
          "2009-10",
          "2010-11",
          "2011-12",
          "2012-13",
          "2013-14",
          "2014-15",
          "2015-16",
          "2016-17",
          "2017-18",
          "2018-19"
         ],
         "xaxis": "x",
         "y": [
          36,
          36,
          34,
          37,
          26,
          30,
          24,
          11,
          13,
          17,
          17,
          23,
          22,
          26,
          45,
          40,
          36,
          34,
          52
         ],
         "yaxis": "y"
        },
        {
         "hovertemplate": "team_id=1610612756<br>season=%{x}<br>value=%{y}<extra></extra>",
         "legendgroup": "1610612756",
         "line": {
          "color": "#FECB52",
          "dash": "solid"
         },
         "marker": {
          "symbol": "circle"
         },
         "mode": "lines",
         "name": "1610612756",
         "orientation": "v",
         "showlegend": true,
         "type": "scatter",
         "x": [
          "2000-01",
          "2001-02",
          "2002-03",
          "2003-04",
          "2004-05",
          "2005-06",
          "2006-07",
          "2007-08",
          "2008-09",
          "2009-10",
          "2010-11",
          "2011-12",
          "2012-13",
          "2013-14",
          "2014-15",
          "2015-16",
          "2016-17",
          "2017-18",
          "2018-19"
         ],
         "xaxis": "x",
         "y": [
          29,
          28,
          28,
          38,
          13,
          18,
          16,
          14,
          24,
          14,
          21,
          14,
          16,
          13,
          18,
          31,
          19,
          39,
          39
         ],
         "yaxis": "y"
        },
        {
         "hovertemplate": "team_id=1610612757<br>season=%{x}<br>value=%{y}<extra></extra>",
         "legendgroup": "1610612757",
         "line": {
          "color": "#636efa",
          "dash": "solid"
         },
         "marker": {
          "symbol": "circle"
         },
         "mode": "lines",
         "name": "1610612757",
         "orientation": "v",
         "showlegend": true,
         "type": "scatter",
         "x": [
          "2000-01",
          "2001-02",
          "2002-03",
          "2003-04",
          "2004-05",
          "2005-06",
          "2006-07",
          "2007-08",
          "2008-09",
          "2009-10",
          "2010-11",
          "2011-12",
          "2012-13",
          "2013-14",
          "2014-15",
          "2015-16",
          "2016-17",
          "2017-18",
          "2018-19"
         ],
         "xaxis": "x",
         "y": [
          19,
          22,
          24,
          19,
          22,
          36,
          24,
          19,
          17,
          20,
          21,
          22,
          25,
          10,
          27,
          14,
          23,
          26,
          22
         ],
         "yaxis": "y"
        },
        {
         "hovertemplate": "team_id=1610612758<br>season=%{x}<br>value=%{y}<extra></extra>",
         "legendgroup": "1610612758",
         "line": {
          "color": "#EF553B",
          "dash": "solid"
         },
         "marker": {
          "symbol": "circle"
         },
         "mode": "lines",
         "name": "1610612758",
         "orientation": "v",
         "showlegend": true,
         "type": "scatter",
         "x": [
          "2000-01",
          "2001-02",
          "2002-03",
          "2003-04",
          "2004-05",
          "2005-06",
          "2006-07",
          "2007-08",
          "2008-09",
          "2009-10",
          "2010-11",
          "2011-12",
          "2012-13",
          "2013-14",
          "2014-15",
          "2015-16",
          "2016-17",
          "2017-18",
          "2018-19"
         ],
         "xaxis": "x",
         "y": [
          10,
          11,
          14,
          6,
          29,
          12,
          20,
          23,
          27,
          49,
          40,
          20,
          16,
          23,
          27,
          40,
          34,
          35,
          18
         ],
         "yaxis": "y"
        },
        {
         "hovertemplate": "team_id=1610612759<br>season=%{x}<br>value=%{y}<extra></extra>",
         "legendgroup": "1610612759",
         "line": {
          "color": "#00cc96",
          "dash": "solid"
         },
         "marker": {
          "symbol": "circle"
         },
         "mode": "lines",
         "name": "1610612759",
         "orientation": "v",
         "showlegend": true,
         "type": "scatter",
         "x": [
          "2000-01",
          "2001-02",
          "2002-03",
          "2003-04",
          "2004-05",
          "2005-06",
          "2006-07",
          "2007-08",
          "2008-09",
          "2009-10",
          "2010-11",
          "2011-12",
          "2012-13",
          "2013-14",
          "2014-15",
          "2015-16",
          "2016-17",
          "2017-18",
          "2018-19"
         ],
         "xaxis": "x",
         "y": [
          20,
          18,
          11,
          18,
          27,
          18,
          21,
          26,
          23,
          36,
          21,
          23,
          28,
          37,
          32,
          22,
          34,
          27,
          19
         ],
         "yaxis": "y"
        },
        {
         "hovertemplate": "team_id=1610612760<br>season=%{x}<br>value=%{y}<extra></extra>",
         "legendgroup": "1610612760",
         "line": {
          "color": "#ab63fa",
          "dash": "solid"
         },
         "marker": {
          "symbol": "circle"
         },
         "mode": "lines",
         "name": "1610612760",
         "orientation": "v",
         "showlegend": true,
         "type": "scatter",
         "x": [
          "2000-01",
          "2001-02",
          "2002-03",
          "2003-04",
          "2004-05",
          "2005-06",
          "2006-07",
          "2007-08",
          "2008-09",
          "2009-10",
          "2010-11",
          "2011-12",
          "2012-13",
          "2013-14",
          "2014-15",
          "2015-16",
          "2016-17",
          "2017-18",
          "2018-19"
         ],
         "xaxis": "x",
         "y": [
          29,
          32,
          23,
          28,
          15,
          32,
          26,
          21,
          23,
          7,
          14,
          7,
          10,
          25,
          25,
          12,
          19,
          18,
          19
         ],
         "yaxis": "y"
        },
        {
         "hovertemplate": "team_id=1610612761<br>season=%{x}<br>value=%{y}<extra></extra>",
         "legendgroup": "1610612761",
         "line": {
          "color": "#FFA15A",
          "dash": "solid"
         },
         "marker": {
          "symbol": "circle"
         },
         "mode": "lines",
         "name": "1610612761",
         "orientation": "v",
         "showlegend": true,
         "type": "scatter",
         "x": [
          "2000-01",
          "2001-02",
          "2002-03",
          "2003-04",
          "2004-05",
          "2005-06",
          "2006-07",
          "2007-08",
          "2008-09",
          "2009-10",
          "2010-11",
          "2011-12",
          "2012-13",
          "2013-14",
          "2014-15",
          "2015-16",
          "2016-17",
          "2017-18",
          "2018-19"
         ],
         "xaxis": "x",
         "y": [
          14,
          18,
          27,
          29,
          16,
          29,
          20,
          10,
          27,
          27,
          33,
          28,
          27,
          18,
          17,
          18,
          20,
          17,
          28
         ],
         "yaxis": "y"
        },
        {
         "hovertemplate": "team_id=1610612762<br>season=%{x}<br>value=%{y}<extra></extra>",
         "legendgroup": "1610612762",
         "line": {
          "color": "#19d3f3",
          "dash": "solid"
         },
         "marker": {
          "symbol": "circle"
         },
         "mode": "lines",
         "name": "1610612762",
         "orientation": "v",
         "showlegend": true,
         "type": "scatter",
         "x": [
          "2000-01",
          "2001-02",
          "2002-03",
          "2003-04",
          "2004-05",
          "2005-06",
          "2006-07",
          "2007-08",
          "2008-09",
          "2009-10",
          "2010-11",
          "2011-12",
          "2012-13",
          "2013-14",
          "2014-15",
          "2015-16",
          "2016-17",
          "2017-18",
          "2018-19"
         ],
         "xaxis": "x",
         "y": [
          12,
          18,
          14,
          22,
          36,
          23,
          19,
          18,
          27,
          18,
          29,
          14,
          16,
          17,
          32,
          33,
          40,
          22,
          20
         ],
         "yaxis": "y"
        },
        {
         "hovertemplate": "team_id=1610612763<br>season=%{x}<br>value=%{y}<extra></extra>",
         "legendgroup": "1610612763",
         "line": {
          "color": "#FF6692",
          "dash": "solid"
         },
         "marker": {
          "symbol": "circle"
         },
         "mode": "lines",
         "name": "1610612763",
         "orientation": "v",
         "showlegend": true,
         "type": "scatter",
         "x": [
          "2000-01",
          "2001-02",
          "2002-03",
          "2003-04",
          "2004-05",
          "2005-06",
          "2006-07",
          "2007-08",
          "2008-09",
          "2009-10",
          "2010-11",
          "2011-12",
          "2012-13",
          "2013-14",
          "2014-15",
          "2015-16",
          "2016-17",
          "2017-18",
          "2018-19"
         ],
         "xaxis": "x",
         "y": [
          28,
          29,
          22,
          16,
          25,
          22,
          57,
          29,
          23,
          14,
          22,
          18,
          18,
          27,
          25,
          33,
          32,
          46,
          36
         ],
         "yaxis": "y"
        },
        {
         "hovertemplate": "team_id=1610612764<br>season=%{x}<br>value=%{y}<extra></extra>",
         "legendgroup": "1610612764",
         "line": {
          "color": "#B6E880",
          "dash": "solid"
         },
         "marker": {
          "symbol": "circle"
         },
         "mode": "lines",
         "name": "1610612764",
         "orientation": "v",
         "showlegend": true,
         "type": "scatter",
         "x": [
          "2000-01",
          "2001-02",
          "2002-03",
          "2003-04",
          "2004-05",
          "2005-06",
          "2006-07",
          "2007-08",
          "2008-09",
          "2009-10",
          "2010-11",
          "2011-12",
          "2012-13",
          "2013-14",
          "2014-15",
          "2015-16",
          "2016-17",
          "2017-18",
          "2018-19"
         ],
         "xaxis": "x",
         "y": [
          39,
          33,
          24,
          31,
          20,
          17,
          18,
          14,
          26,
          40,
          52,
          19,
          35,
          13,
          19,
          27,
          17,
          12,
          21
         ],
         "yaxis": "y"
        },
        {
         "hovertemplate": "team_id=1610612765<br>season=%{x}<br>value=%{y}<extra></extra>",
         "legendgroup": "1610612765",
         "line": {
          "color": "#FF97FF",
          "dash": "solid"
         },
         "marker": {
          "symbol": "circle"
         },
         "mode": "lines",
         "name": "1610612765",
         "orientation": "v",
         "showlegend": true,
         "type": "scatter",
         "x": [
          "2000-01",
          "2001-02",
          "2002-03",
          "2003-04",
          "2004-05",
          "2005-06",
          "2006-07",
          "2007-08",
          "2008-09",
          "2009-10",
          "2010-11",
          "2011-12",
          "2012-13",
          "2013-14",
          "2014-15",
          "2015-16",
          "2016-17",
          "2017-18",
          "2018-19"
         ],
         "xaxis": "x",
         "y": [
          27,
          10,
          13,
          33,
          19,
          7,
          18,
          14,
          26,
          28,
          24,
          15,
          15,
          10,
          13,
          11,
          15,
          23,
          19
         ],
         "yaxis": "y"
        },
        {
         "hovertemplate": "team_id=1610612766<br>season=%{x}<br>value=%{y}<extra></extra>",
         "legendgroup": "1610612766",
         "line": {
          "color": "#FECB52",
          "dash": "solid"
         },
         "marker": {
          "symbol": "circle"
         },
         "mode": "lines",
         "name": "1610612766",
         "orientation": "v",
         "showlegend": true,
         "type": "scatter",
         "x": [
          "2000-01",
          "2001-02",
          "2002-03",
          "2003-04",
          "2004-05",
          "2005-06",
          "2006-07",
          "2007-08",
          "2008-09",
          "2009-10",
          "2010-11",
          "2011-12",
          "2012-13",
          "2013-14",
          "2014-15",
          "2015-16",
          "2016-17",
          "2017-18",
          "2018-19"
         ],
         "xaxis": "x",
         "y": [
          11,
          11,
          null,
          null,
          38,
          38,
          40,
          21,
          37,
          22,
          29,
          34,
          23,
          17,
          20,
          19,
          16,
          8,
          21
         ],
         "yaxis": "y"
        }
       ],
       "layout": {
        "legend": {
         "title": {
          "text": "team_id"
         },
         "tracegroupgap": 0
        },
        "margin": {
         "t": 60
        },
        "template": {
         "data": {
          "bar": [
           {
            "error_x": {
             "color": "#2a3f5f"
            },
            "error_y": {
             "color": "#2a3f5f"
            },
            "marker": {
             "line": {
              "color": "#E5ECF6",
              "width": 0.5
             },
             "pattern": {
              "fillmode": "overlay",
              "size": 10,
              "solidity": 0.2
             }
            },
            "type": "bar"
           }
          ],
          "barpolar": [
           {
            "marker": {
             "line": {
              "color": "#E5ECF6",
              "width": 0.5
             },
             "pattern": {
              "fillmode": "overlay",
              "size": 10,
              "solidity": 0.2
             }
            },
            "type": "barpolar"
           }
          ],
          "carpet": [
           {
            "aaxis": {
             "endlinecolor": "#2a3f5f",
             "gridcolor": "white",
             "linecolor": "white",
             "minorgridcolor": "white",
             "startlinecolor": "#2a3f5f"
            },
            "baxis": {
             "endlinecolor": "#2a3f5f",
             "gridcolor": "white",
             "linecolor": "white",
             "minorgridcolor": "white",
             "startlinecolor": "#2a3f5f"
            },
            "type": "carpet"
           }
          ],
          "choropleth": [
           {
            "colorbar": {
             "outlinewidth": 0,
             "ticks": ""
            },
            "type": "choropleth"
           }
          ],
          "contour": [
           {
            "colorbar": {
             "outlinewidth": 0,
             "ticks": ""
            },
            "colorscale": [
             [
              0,
              "#0d0887"
             ],
             [
              0.1111111111111111,
              "#46039f"
             ],
             [
              0.2222222222222222,
              "#7201a8"
             ],
             [
              0.3333333333333333,
              "#9c179e"
             ],
             [
              0.4444444444444444,
              "#bd3786"
             ],
             [
              0.5555555555555556,
              "#d8576b"
             ],
             [
              0.6666666666666666,
              "#ed7953"
             ],
             [
              0.7777777777777778,
              "#fb9f3a"
             ],
             [
              0.8888888888888888,
              "#fdca26"
             ],
             [
              1,
              "#f0f921"
             ]
            ],
            "type": "contour"
           }
          ],
          "contourcarpet": [
           {
            "colorbar": {
             "outlinewidth": 0,
             "ticks": ""
            },
            "type": "contourcarpet"
           }
          ],
          "heatmap": [
           {
            "colorbar": {
             "outlinewidth": 0,
             "ticks": ""
            },
            "colorscale": [
             [
              0,
              "#0d0887"
             ],
             [
              0.1111111111111111,
              "#46039f"
             ],
             [
              0.2222222222222222,
              "#7201a8"
             ],
             [
              0.3333333333333333,
              "#9c179e"
             ],
             [
              0.4444444444444444,
              "#bd3786"
             ],
             [
              0.5555555555555556,
              "#d8576b"
             ],
             [
              0.6666666666666666,
              "#ed7953"
             ],
             [
              0.7777777777777778,
              "#fb9f3a"
             ],
             [
              0.8888888888888888,
              "#fdca26"
             ],
             [
              1,
              "#f0f921"
             ]
            ],
            "type": "heatmap"
           }
          ],
          "heatmapgl": [
           {
            "colorbar": {
             "outlinewidth": 0,
             "ticks": ""
            },
            "colorscale": [
             [
              0,
              "#0d0887"
             ],
             [
              0.1111111111111111,
              "#46039f"
             ],
             [
              0.2222222222222222,
              "#7201a8"
             ],
             [
              0.3333333333333333,
              "#9c179e"
             ],
             [
              0.4444444444444444,
              "#bd3786"
             ],
             [
              0.5555555555555556,
              "#d8576b"
             ],
             [
              0.6666666666666666,
              "#ed7953"
             ],
             [
              0.7777777777777778,
              "#fb9f3a"
             ],
             [
              0.8888888888888888,
              "#fdca26"
             ],
             [
              1,
              "#f0f921"
             ]
            ],
            "type": "heatmapgl"
           }
          ],
          "histogram": [
           {
            "marker": {
             "pattern": {
              "fillmode": "overlay",
              "size": 10,
              "solidity": 0.2
             }
            },
            "type": "histogram"
           }
          ],
          "histogram2d": [
           {
            "colorbar": {
             "outlinewidth": 0,
             "ticks": ""
            },
            "colorscale": [
             [
              0,
              "#0d0887"
             ],
             [
              0.1111111111111111,
              "#46039f"
             ],
             [
              0.2222222222222222,
              "#7201a8"
             ],
             [
              0.3333333333333333,
              "#9c179e"
             ],
             [
              0.4444444444444444,
              "#bd3786"
             ],
             [
              0.5555555555555556,
              "#d8576b"
             ],
             [
              0.6666666666666666,
              "#ed7953"
             ],
             [
              0.7777777777777778,
              "#fb9f3a"
             ],
             [
              0.8888888888888888,
              "#fdca26"
             ],
             [
              1,
              "#f0f921"
             ]
            ],
            "type": "histogram2d"
           }
          ],
          "histogram2dcontour": [
           {
            "colorbar": {
             "outlinewidth": 0,
             "ticks": ""
            },
            "colorscale": [
             [
              0,
              "#0d0887"
             ],
             [
              0.1111111111111111,
              "#46039f"
             ],
             [
              0.2222222222222222,
              "#7201a8"
             ],
             [
              0.3333333333333333,
              "#9c179e"
             ],
             [
              0.4444444444444444,
              "#bd3786"
             ],
             [
              0.5555555555555556,
              "#d8576b"
             ],
             [
              0.6666666666666666,
              "#ed7953"
             ],
             [
              0.7777777777777778,
              "#fb9f3a"
             ],
             [
              0.8888888888888888,
              "#fdca26"
             ],
             [
              1,
              "#f0f921"
             ]
            ],
            "type": "histogram2dcontour"
           }
          ],
          "mesh3d": [
           {
            "colorbar": {
             "outlinewidth": 0,
             "ticks": ""
            },
            "type": "mesh3d"
           }
          ],
          "parcoords": [
           {
            "line": {
             "colorbar": {
              "outlinewidth": 0,
              "ticks": ""
             }
            },
            "type": "parcoords"
           }
          ],
          "pie": [
           {
            "automargin": true,
            "type": "pie"
           }
          ],
          "scatter": [
           {
            "fillpattern": {
             "fillmode": "overlay",
             "size": 10,
             "solidity": 0.2
            },
            "type": "scatter"
           }
          ],
          "scatter3d": [
           {
            "line": {
             "colorbar": {
              "outlinewidth": 0,
              "ticks": ""
             }
            },
            "marker": {
             "colorbar": {
              "outlinewidth": 0,
              "ticks": ""
             }
            },
            "type": "scatter3d"
           }
          ],
          "scattercarpet": [
           {
            "marker": {
             "colorbar": {
              "outlinewidth": 0,
              "ticks": ""
             }
            },
            "type": "scattercarpet"
           }
          ],
          "scattergeo": [
           {
            "marker": {
             "colorbar": {
              "outlinewidth": 0,
              "ticks": ""
             }
            },
            "type": "scattergeo"
           }
          ],
          "scattergl": [
           {
            "marker": {
             "colorbar": {
              "outlinewidth": 0,
              "ticks": ""
             }
            },
            "type": "scattergl"
           }
          ],
          "scattermapbox": [
           {
            "marker": {
             "colorbar": {
              "outlinewidth": 0,
              "ticks": ""
             }
            },
            "type": "scattermapbox"
           }
          ],
          "scatterpolar": [
           {
            "marker": {
             "colorbar": {
              "outlinewidth": 0,
              "ticks": ""
             }
            },
            "type": "scatterpolar"
           }
          ],
          "scatterpolargl": [
           {
            "marker": {
             "colorbar": {
              "outlinewidth": 0,
              "ticks": ""
             }
            },
            "type": "scatterpolargl"
           }
          ],
          "scatterternary": [
           {
            "marker": {
             "colorbar": {
              "outlinewidth": 0,
              "ticks": ""
             }
            },
            "type": "scatterternary"
           }
          ],
          "surface": [
           {
            "colorbar": {
             "outlinewidth": 0,
             "ticks": ""
            },
            "colorscale": [
             [
              0,
              "#0d0887"
             ],
             [
              0.1111111111111111,
              "#46039f"
             ],
             [
              0.2222222222222222,
              "#7201a8"
             ],
             [
              0.3333333333333333,
              "#9c179e"
             ],
             [
              0.4444444444444444,
              "#bd3786"
             ],
             [
              0.5555555555555556,
              "#d8576b"
             ],
             [
              0.6666666666666666,
              "#ed7953"
             ],
             [
              0.7777777777777778,
              "#fb9f3a"
             ],
             [
              0.8888888888888888,
              "#fdca26"
             ],
             [
              1,
              "#f0f921"
             ]
            ],
            "type": "surface"
           }
          ],
          "table": [
           {
            "cells": {
             "fill": {
              "color": "#EBF0F8"
             },
             "line": {
              "color": "white"
             }
            },
            "header": {
             "fill": {
              "color": "#C8D4E3"
             },
             "line": {
              "color": "white"
             }
            },
            "type": "table"
           }
          ]
         },
         "layout": {
          "annotationdefaults": {
           "arrowcolor": "#2a3f5f",
           "arrowhead": 0,
           "arrowwidth": 1
          },
          "autotypenumbers": "strict",
          "coloraxis": {
           "colorbar": {
            "outlinewidth": 0,
            "ticks": ""
           }
          },
          "colorscale": {
           "diverging": [
            [
             0,
             "#8e0152"
            ],
            [
             0.1,
             "#c51b7d"
            ],
            [
             0.2,
             "#de77ae"
            ],
            [
             0.3,
             "#f1b6da"
            ],
            [
             0.4,
             "#fde0ef"
            ],
            [
             0.5,
             "#f7f7f7"
            ],
            [
             0.6,
             "#e6f5d0"
            ],
            [
             0.7,
             "#b8e186"
            ],
            [
             0.8,
             "#7fbc41"
            ],
            [
             0.9,
             "#4d9221"
            ],
            [
             1,
             "#276419"
            ]
           ],
           "sequential": [
            [
             0,
             "#0d0887"
            ],
            [
             0.1111111111111111,
             "#46039f"
            ],
            [
             0.2222222222222222,
             "#7201a8"
            ],
            [
             0.3333333333333333,
             "#9c179e"
            ],
            [
             0.4444444444444444,
             "#bd3786"
            ],
            [
             0.5555555555555556,
             "#d8576b"
            ],
            [
             0.6666666666666666,
             "#ed7953"
            ],
            [
             0.7777777777777778,
             "#fb9f3a"
            ],
            [
             0.8888888888888888,
             "#fdca26"
            ],
            [
             1,
             "#f0f921"
            ]
           ],
           "sequentialminus": [
            [
             0,
             "#0d0887"
            ],
            [
             0.1111111111111111,
             "#46039f"
            ],
            [
             0.2222222222222222,
             "#7201a8"
            ],
            [
             0.3333333333333333,
             "#9c179e"
            ],
            [
             0.4444444444444444,
             "#bd3786"
            ],
            [
             0.5555555555555556,
             "#d8576b"
            ],
            [
             0.6666666666666666,
             "#ed7953"
            ],
            [
             0.7777777777777778,
             "#fb9f3a"
            ],
            [
             0.8888888888888888,
             "#fdca26"
            ],
            [
             1,
             "#f0f921"
            ]
           ]
          },
          "colorway": [
           "#636efa",
           "#EF553B",
           "#00cc96",
           "#ab63fa",
           "#FFA15A",
           "#19d3f3",
           "#FF6692",
           "#B6E880",
           "#FF97FF",
           "#FECB52"
          ],
          "font": {
           "color": "#2a3f5f"
          },
          "geo": {
           "bgcolor": "white",
           "lakecolor": "white",
           "landcolor": "#E5ECF6",
           "showlakes": true,
           "showland": true,
           "subunitcolor": "white"
          },
          "hoverlabel": {
           "align": "left"
          },
          "hovermode": "closest",
          "mapbox": {
           "style": "light"
          },
          "paper_bgcolor": "white",
          "plot_bgcolor": "#E5ECF6",
          "polar": {
           "angularaxis": {
            "gridcolor": "white",
            "linecolor": "white",
            "ticks": ""
           },
           "bgcolor": "#E5ECF6",
           "radialaxis": {
            "gridcolor": "white",
            "linecolor": "white",
            "ticks": ""
           }
          },
          "scene": {
           "xaxis": {
            "backgroundcolor": "#E5ECF6",
            "gridcolor": "white",
            "gridwidth": 2,
            "linecolor": "white",
            "showbackground": true,
            "ticks": "",
            "zerolinecolor": "white"
           },
           "yaxis": {
            "backgroundcolor": "#E5ECF6",
            "gridcolor": "white",
            "gridwidth": 2,
            "linecolor": "white",
            "showbackground": true,
            "ticks": "",
            "zerolinecolor": "white"
           },
           "zaxis": {
            "backgroundcolor": "#E5ECF6",
            "gridcolor": "white",
            "gridwidth": 2,
            "linecolor": "white",
            "showbackground": true,
            "ticks": "",
            "zerolinecolor": "white"
           }
          },
          "shapedefaults": {
           "line": {
            "color": "#2a3f5f"
           }
          },
          "ternary": {
           "aaxis": {
            "gridcolor": "white",
            "linecolor": "white",
            "ticks": ""
           },
           "baxis": {
            "gridcolor": "white",
            "linecolor": "white",
            "ticks": ""
           },
           "bgcolor": "#E5ECF6",
           "caxis": {
            "gridcolor": "white",
            "linecolor": "white",
            "ticks": ""
           }
          },
          "title": {
           "x": 0.05
          },
          "xaxis": {
           "automargin": true,
           "gridcolor": "white",
           "linecolor": "white",
           "ticks": "",
           "title": {
            "standoff": 15
           },
           "zerolinecolor": "white",
           "zerolinewidth": 2
          },
          "yaxis": {
           "automargin": true,
           "gridcolor": "white",
           "linecolor": "white",
           "ticks": "",
           "title": {
            "standoff": 15
           },
           "zerolinecolor": "white",
           "zerolinewidth": 2
          }
         }
        },
        "xaxis": {
         "anchor": "y",
         "domain": [
          0,
          1
         ],
         "title": {
          "text": "season"
         }
        },
        "yaxis": {
         "anchor": "x",
         "domain": [
          0,
          1
         ],
         "title": {
          "text": "value"
         }
        }
       }
      }
     },
     "metadata": {},
     "output_type": "display_data"
    }
   ],
   "source": [
    "fig = px.line(all_lineups.groupby([\"season\", \"team_id\"]).size().unstack())\n",
    "fig.show()"
   ]
  },
  {
   "cell_type": "markdown",
   "metadata": {},
   "source": [
    "* * *"
   ]
  },
  {
   "cell_type": "markdown",
   "metadata": {},
   "source": [
    "### Findings 1\n",
    "- There were 22033 different starting lineups in 22965 games played in all seasons together.\n",
    "- Dirk Nowitzki started most games (started 1304 games)."
   ]
  },
  {
   "cell_type": "code",
   "execution_count": 302,
   "metadata": {},
   "outputs": [],
   "source": [
    "lineups_home = game_data[[\"home_player1_id\", \"home_player2_id\", \"home_player3_id\", \"home_player4_id\", \"home_player5_id\"]].drop_duplicates()\n",
    "lineups_visitor = game_data[[\"visitor_player1_id\", \"visitor_player2_id\", \"visitor_player3_id\", \"visitor_player4_id\", \"visitor_player5_id\"]].drop_duplicates()\n",
    "\n",
    "lineups_home.columns = range(lineups_home.shape[1])\n",
    "lineups_visitor.columns = range(lineups_visitor.shape[1])\n",
    "\n",
    "all_lineups = pd.concat([lineups_home, lineups_visitor]).drop_duplicates()"
   ]
  },
  {
   "cell_type": "code",
   "execution_count": 303,
   "metadata": {},
   "outputs": [
    {
     "data": {
      "text/html": [
       "<div>\n",
       "<style scoped>\n",
       "    .dataframe tbody tr th:only-of-type {\n",
       "        vertical-align: middle;\n",
       "    }\n",
       "\n",
       "    .dataframe tbody tr th {\n",
       "        vertical-align: top;\n",
       "    }\n",
       "\n",
       "    .dataframe thead th {\n",
       "        text-align: right;\n",
       "    }\n",
       "</style>\n",
       "<table border=\"1\" class=\"dataframe\">\n",
       "  <thead>\n",
       "    <tr style=\"text-align: right;\">\n",
       "      <th></th>\n",
       "      <th>0</th>\n",
       "      <th>1</th>\n",
       "      <th>2</th>\n",
       "      <th>3</th>\n",
       "      <th>4</th>\n",
       "    </tr>\n",
       "  </thead>\n",
       "  <tbody>\n",
       "    <tr>\n",
       "      <th>0</th>\n",
       "      <td>1717.0</td>\n",
       "      <td>1717.0</td>\n",
       "      <td>1891.0</td>\n",
       "      <td>1891.0</td>\n",
       "      <td>201596.0</td>\n",
       "    </tr>\n",
       "  </tbody>\n",
       "</table>\n",
       "</div>"
      ],
      "text/plain": [
       "        0       1       2       3         4\n",
       "0  1717.0  1717.0  1891.0  1891.0  201596.0"
      ]
     },
     "execution_count": 303,
     "metadata": {},
     "output_type": "execute_result"
    }
   ],
   "source": [
    "all_lineups.mode()"
   ]
  },
  {
   "cell_type": "code",
   "execution_count": 304,
   "metadata": {},
   "outputs": [
    {
     "data": {
      "text/plain": [
       "1304"
      ]
     },
     "execution_count": 304,
     "metadata": {},
     "output_type": "execute_result"
    }
   ],
   "source": [
    "players.groupby(\"Player ID\")[\"games_started\"].sum().sort_values(ascending=False).iloc[0]"
   ]
  },
  {
   "cell_type": "code",
   "execution_count": 305,
   "metadata": {},
   "outputs": [
    {
     "data": {
      "text/plain": [
       "array(['Dirk Nowitzki'], dtype=object)"
      ]
     },
     "execution_count": 305,
     "metadata": {},
     "output_type": "execute_result"
    }
   ],
   "source": [
    "players[players[\"Player ID\"] == players.groupby(\"Player ID\")[\"games_started\"].sum().sort_values(ascending=False).index[0]][\"Player\"].unique()"
   ]
  }
 ],
 "metadata": {
  "interpreter": {
   "hash": "b31df5e40a2ea5614eea9e37cfea4cb8c906f1ee256973763ea3407ba03e30ed"
  },
  "kernelspec": {
   "display_name": "Python 3.9.7 ('base')",
   "language": "python",
   "name": "python3"
  },
  "language_info": {
   "codemirror_mode": {
    "name": "ipython",
    "version": 3
   },
   "file_extension": ".py",
   "mimetype": "text/x-python",
   "name": "python",
   "nbconvert_exporter": "python",
   "pygments_lexer": "ipython3",
   "version": "3.9.7"
  },
  "orig_nbformat": 4
 },
 "nbformat": 4,
 "nbformat_minor": 2
}
