{
 "cells": [
  {
   "cell_type": "code",
   "execution_count": 1,
   "metadata": {},
   "outputs": [],
   "source": [
    "import numpy as np\n",
    "import matplotlib.pyplot as plt\n",
    "#import missingno as msno\n",
    "import os\n",
    "import sys\n",
    "import seaborn as sns\n",
    "import pandas as pd\n",
    "sys.path.insert(0, '../../src/')\n",
    "from data_loader import load_data, load_game_data"
   ]
  },
  {
   "cell_type": "code",
   "execution_count": 3,
   "metadata": {
    "pycharm": {
     "name": "#%%\n"
    }
   },
   "outputs": [],
   "source": [
    "#seasons = load_data(seasons=[\"2003-04\", \"2018-19\"])\n",
    "seasons= load_data()\n",
    "#seasons.head(20)"
   ]
  },
  {
   "cell_type": "code",
   "execution_count": 4,
   "metadata": {},
   "outputs": [
    {
     "data": {
      "text/plain": "                             HOMEDESCRIPTION  \\\n0                                        NaN   \n1   Jump Ball Grant vs. Mutombo: Tip to Hill   \n2                                        NaN   \n3                                        NaN   \n4                Mason 17' Jump Shot (2 PTS)   \n5                                        NaN   \n6                Mason REBOUND (Off:0 Def:1)   \n7                MISS Majerle  Driving Layup   \n8                                        NaN   \n9                                        NaN   \n10                   Hardaway S.FOUL (P1.T1)   \n11                                       NaN   \n12               Grant REBOUND (Off:0 Def:1)   \n13                  MISS Grant 14' Jump Shot   \n14                                       NaN   \n15                                       NaN   \n16               Mason REBOUND (Off:0 Def:2)   \n17                   MISS Bowen 4' Jump Shot   \n18                                       NaN   \n19                                       NaN   \n\n                   VISITORDESCRIPTION  home_shot_distance  \\\n0                                 NaN                  -1   \n1                                 NaN                  -1   \n2       Iverson 21' Jump Shot (2 PTS)                  -1   \n3                 Hill P.FOUL (P1.T1)                  -1   \n4                                 NaN                  17   \n5            MISS Lynch 22' Jump Shot                  -1   \n6                                 NaN                  -1   \n7                                 NaN                  -1   \n8          Snow REBOUND (Off:0 Def:1)                  -1   \n9   Lynch  Layup (2 PTS) (Snow 1 AST)                  -1   \n10                                NaN                  -1   \n11       MISS Lynch Free Throw 1 of 1                  -1   \n12                                NaN                  -1   \n13                                NaN                  14   \n14         Hill REBOUND (Off:0 Def:1)                  -1   \n15            MISS Hill 17' Jump Shot                  -1   \n16                                NaN                  -1   \n17                                NaN                   4   \n18         Hill REBOUND (Off:0 Def:2)                  -1   \n19     Iverson  Driving Layup (4 PTS)                  -1   \n\n    visitor_shot_distance home_shot_distance_bins visitor_shot_distance_bins  \\\n0                      -1                     NaN                        NaN   \n1                      -1                     NaN                        NaN   \n2                      21                     NaN                    [20-25)   \n3                      -1                     NaN                        NaN   \n4                      -1                 [15-20)                        NaN   \n5                      22                     NaN                    [20-25)   \n6                      -1                     NaN                        NaN   \n7                      -1                     NaN                        NaN   \n8                      -1                     NaN                        NaN   \n9                      -1                     NaN                        NaN   \n10                     -1                     NaN                        NaN   \n11                     -1                     NaN                        NaN   \n12                     -1                     NaN                        NaN   \n13                     -1                 [10-15)                        NaN   \n14                     -1                     NaN                        NaN   \n15                     17                     NaN                    [15-20)   \n16                     -1                     NaN                        NaN   \n17                     -1                   [0-5)                        NaN   \n18                     -1                     NaN                        NaN   \n19                     -1                     NaN                        NaN   \n\n         EVENTMSGTYPE  \n0        PERIOD_BEGIN  \n1           JUMP_BALL  \n2     FIELD_GOAL_MADE  \n3                FOUL  \n4     FIELD_GOAL_MADE  \n5   FIELD_GOAL_MISSED  \n6             REBOUND  \n7   FIELD_GOAL_MISSED  \n8             REBOUND  \n9     FIELD_GOAL_MADE  \n10               FOUL  \n11         FREE_THROW  \n12            REBOUND  \n13  FIELD_GOAL_MISSED  \n14            REBOUND  \n15  FIELD_GOAL_MISSED  \n16            REBOUND  \n17  FIELD_GOAL_MISSED  \n18            REBOUND  \n19    FIELD_GOAL_MADE  ",
      "text/html": "<div>\n<style scoped>\n    .dataframe tbody tr th:only-of-type {\n        vertical-align: middle;\n    }\n\n    .dataframe tbody tr th {\n        vertical-align: top;\n    }\n\n    .dataframe thead th {\n        text-align: right;\n    }\n</style>\n<table border=\"1\" class=\"dataframe\">\n  <thead>\n    <tr style=\"text-align: right;\">\n      <th></th>\n      <th>HOMEDESCRIPTION</th>\n      <th>VISITORDESCRIPTION</th>\n      <th>home_shot_distance</th>\n      <th>visitor_shot_distance</th>\n      <th>home_shot_distance_bins</th>\n      <th>visitor_shot_distance_bins</th>\n      <th>EVENTMSGTYPE</th>\n    </tr>\n  </thead>\n  <tbody>\n    <tr>\n      <th>0</th>\n      <td>NaN</td>\n      <td>NaN</td>\n      <td>-1</td>\n      <td>-1</td>\n      <td>NaN</td>\n      <td>NaN</td>\n      <td>PERIOD_BEGIN</td>\n    </tr>\n    <tr>\n      <th>1</th>\n      <td>Jump Ball Grant vs. Mutombo: Tip to Hill</td>\n      <td>NaN</td>\n      <td>-1</td>\n      <td>-1</td>\n      <td>NaN</td>\n      <td>NaN</td>\n      <td>JUMP_BALL</td>\n    </tr>\n    <tr>\n      <th>2</th>\n      <td>NaN</td>\n      <td>Iverson 21' Jump Shot (2 PTS)</td>\n      <td>-1</td>\n      <td>21</td>\n      <td>NaN</td>\n      <td>[20-25)</td>\n      <td>FIELD_GOAL_MADE</td>\n    </tr>\n    <tr>\n      <th>3</th>\n      <td>NaN</td>\n      <td>Hill P.FOUL (P1.T1)</td>\n      <td>-1</td>\n      <td>-1</td>\n      <td>NaN</td>\n      <td>NaN</td>\n      <td>FOUL</td>\n    </tr>\n    <tr>\n      <th>4</th>\n      <td>Mason 17' Jump Shot (2 PTS)</td>\n      <td>NaN</td>\n      <td>17</td>\n      <td>-1</td>\n      <td>[15-20)</td>\n      <td>NaN</td>\n      <td>FIELD_GOAL_MADE</td>\n    </tr>\n    <tr>\n      <th>5</th>\n      <td>NaN</td>\n      <td>MISS Lynch 22' Jump Shot</td>\n      <td>-1</td>\n      <td>22</td>\n      <td>NaN</td>\n      <td>[20-25)</td>\n      <td>FIELD_GOAL_MISSED</td>\n    </tr>\n    <tr>\n      <th>6</th>\n      <td>Mason REBOUND (Off:0 Def:1)</td>\n      <td>NaN</td>\n      <td>-1</td>\n      <td>-1</td>\n      <td>NaN</td>\n      <td>NaN</td>\n      <td>REBOUND</td>\n    </tr>\n    <tr>\n      <th>7</th>\n      <td>MISS Majerle  Driving Layup</td>\n      <td>NaN</td>\n      <td>-1</td>\n      <td>-1</td>\n      <td>NaN</td>\n      <td>NaN</td>\n      <td>FIELD_GOAL_MISSED</td>\n    </tr>\n    <tr>\n      <th>8</th>\n      <td>NaN</td>\n      <td>Snow REBOUND (Off:0 Def:1)</td>\n      <td>-1</td>\n      <td>-1</td>\n      <td>NaN</td>\n      <td>NaN</td>\n      <td>REBOUND</td>\n    </tr>\n    <tr>\n      <th>9</th>\n      <td>NaN</td>\n      <td>Lynch  Layup (2 PTS) (Snow 1 AST)</td>\n      <td>-1</td>\n      <td>-1</td>\n      <td>NaN</td>\n      <td>NaN</td>\n      <td>FIELD_GOAL_MADE</td>\n    </tr>\n    <tr>\n      <th>10</th>\n      <td>Hardaway S.FOUL (P1.T1)</td>\n      <td>NaN</td>\n      <td>-1</td>\n      <td>-1</td>\n      <td>NaN</td>\n      <td>NaN</td>\n      <td>FOUL</td>\n    </tr>\n    <tr>\n      <th>11</th>\n      <td>NaN</td>\n      <td>MISS Lynch Free Throw 1 of 1</td>\n      <td>-1</td>\n      <td>-1</td>\n      <td>NaN</td>\n      <td>NaN</td>\n      <td>FREE_THROW</td>\n    </tr>\n    <tr>\n      <th>12</th>\n      <td>Grant REBOUND (Off:0 Def:1)</td>\n      <td>NaN</td>\n      <td>-1</td>\n      <td>-1</td>\n      <td>NaN</td>\n      <td>NaN</td>\n      <td>REBOUND</td>\n    </tr>\n    <tr>\n      <th>13</th>\n      <td>MISS Grant 14' Jump Shot</td>\n      <td>NaN</td>\n      <td>14</td>\n      <td>-1</td>\n      <td>[10-15)</td>\n      <td>NaN</td>\n      <td>FIELD_GOAL_MISSED</td>\n    </tr>\n    <tr>\n      <th>14</th>\n      <td>NaN</td>\n      <td>Hill REBOUND (Off:0 Def:1)</td>\n      <td>-1</td>\n      <td>-1</td>\n      <td>NaN</td>\n      <td>NaN</td>\n      <td>REBOUND</td>\n    </tr>\n    <tr>\n      <th>15</th>\n      <td>NaN</td>\n      <td>MISS Hill 17' Jump Shot</td>\n      <td>-1</td>\n      <td>17</td>\n      <td>NaN</td>\n      <td>[15-20)</td>\n      <td>FIELD_GOAL_MISSED</td>\n    </tr>\n    <tr>\n      <th>16</th>\n      <td>Mason REBOUND (Off:0 Def:2)</td>\n      <td>NaN</td>\n      <td>-1</td>\n      <td>-1</td>\n      <td>NaN</td>\n      <td>NaN</td>\n      <td>REBOUND</td>\n    </tr>\n    <tr>\n      <th>17</th>\n      <td>MISS Bowen 4' Jump Shot</td>\n      <td>NaN</td>\n      <td>4</td>\n      <td>-1</td>\n      <td>[0-5)</td>\n      <td>NaN</td>\n      <td>FIELD_GOAL_MISSED</td>\n    </tr>\n    <tr>\n      <th>18</th>\n      <td>NaN</td>\n      <td>Hill REBOUND (Off:0 Def:2)</td>\n      <td>-1</td>\n      <td>-1</td>\n      <td>NaN</td>\n      <td>NaN</td>\n      <td>REBOUND</td>\n    </tr>\n    <tr>\n      <th>19</th>\n      <td>NaN</td>\n      <td>Iverson  Driving Layup (4 PTS)</td>\n      <td>-1</td>\n      <td>-1</td>\n      <td>NaN</td>\n      <td>NaN</td>\n      <td>FIELD_GOAL_MADE</td>\n    </tr>\n  </tbody>\n</table>\n</div>"
     },
     "execution_count": 4,
     "metadata": {},
     "output_type": "execute_result"
    }
   ],
   "source": [
    "def create_bins(row, colName):\n",
    "    if row[colName]==-1:\n",
    "        return np.nan\n",
    "    elif row[colName]>=0 and row[colName]<5:\n",
    "        return '[0-5)'\n",
    "    elif row[colName]>=5 and row[colName]<10:\n",
    "        return '[5-10)'\n",
    "    elif row[colName]>=10 and row[colName]<15:\n",
    "        return '[10-15)'\n",
    "    elif row[colName]>=15 and row[colName]<20:\n",
    "        return '[15-20)' \n",
    "    elif row[colName]>=20 and row[colName]<25:\n",
    "        return '[20-25)'     \n",
    "    elif row[colName]>=25 and row[colName]<30:\n",
    "        return '[25-30)'     \n",
    "    elif row[colName]>=30 and row[colName]<35:\n",
    "        return '[30-35)'     \n",
    "    elif row[colName]>=35 and row[colName]<40:\n",
    "        return '[35-40)'   \n",
    "    elif row[colName]>=40 and row[colName]<47:\n",
    "        return '[40-47)'   \n",
    "    elif row[colName]>=47.0:\n",
    "        return '[47+)' \n",
    "    \n",
    "seasons['home_shot_distance_bins']=seasons.apply(lambda row: create_bins(row,'home_shot_distance'),axis=1)\n",
    "seasons['visitor_shot_distance_bins']=seasons.apply(lambda row: create_bins(row,'visitor_shot_distance'),axis=1)\n",
    "seasons[['HOMEDESCRIPTION', 'VISITORDESCRIPTION', \"home_shot_distance\",\"visitor_shot_distance\", \"home_shot_distance_bins\",\"visitor_shot_distance_bins\", \"EVENTMSGTYPE\"]].head(20)"
   ]
  },
  {
   "cell_type": "code",
   "execution_count": 5,
   "metadata": {},
   "outputs": [],
   "source": [
    "successful = seasons.loc[(((~seasons[\"home_shot_distance\"].equals(-1)) & seasons['EVENTMSGTYPE'].str.contains('FIELD_GOAL_MADE', na=False)) | ((~seasons[\"visitor_shot_distance\"].equals(-1)) & seasons['EVENTMSGTYPE'].str.contains('FIELD_GOAL_MADE', na=False)))]\n",
    "missed = seasons.loc[(((~seasons[\"home_shot_distance\"].equals(-1)) & seasons['EVENTMSGTYPE'].str.contains('FIELD_GOAL_MISSED', na=False)) | ((~seasons[\"visitor_shot_distance\"].equals(-1)) & seasons['EVENTMSGTYPE'].str.contains('FIELD_GOAL_MISSED', na=False)))]"
   ]
  },
  {
   "cell_type": "code",
   "execution_count": 34,
   "outputs": [],
   "source": [
    "def get_percentage(bin_type):\n",
    "    count_of_bin_per_season = seasons[(seasons[\"home_shot_distance_bins\"]==bin_type) | (seasons[\"visitor_shot_distance_bins\"]==bin_type)].groupby(\"season_name\")[\"EVENTMSGTYPE\"].count()\n",
    "    total_shots_per_season = seasons[(seasons[\"EVENTMSGTYPE\"]==\"FIELD_GOAL_MISSED\") | (seasons[\"EVENTMSGTYPE\"]==\"FIELD_GOAL_MADE\")].groupby(\"season_name\")[\"EVENTMSGTYPE\"].count()\n",
    "\n",
    "    return count_of_bin_per_season"
   ],
   "metadata": {
    "collapsed": false,
    "pycharm": {
     "name": "#%%\n"
    }
   }
  },
  {
   "cell_type": "code",
   "execution_count": 58,
   "outputs": [],
   "source": [
    "#seasons[(seasons[\"EVENTMSGTYPE\"]==\"FIELD_GOAL_MISSED\") | (seasons[\"EVENTMSGTYPE\"]==\"FIELD_GOAL_MADE\")]\n",
    "missing_distance_info = seasons[((seasons[\"home_shot_distance_bins\"].isnull()) & (seasons[\"visitor_shot_distance_bins\"].isnull())) &((seasons[\"EVENTMSGTYPE\"]==\"FIELD_GOAL_MISSED\") | (seasons[\"EVENTMSGTYPE\"]==\"FIELD_GOAL_MADE\"))].groupby(\"season_name\")['EVENTMSGTYPE'].count().to_frame()\n",
    "#.groupby(\"season_name\")['GAME_ID'].nunique()"
   ],
   "metadata": {
    "collapsed": false,
    "pycharm": {
     "name": "#%%\n"
    }
   }
  },
  {
   "cell_type": "code",
   "execution_count": 62,
   "outputs": [
    {
     "data": {
      "text/plain": "          Unnamed: 0   EVENTMSGACTIONTYPE       EVENTMSGTYPE  EVENTNUM  \\\n7                  7        Driving Layup  FIELD_GOAL_MISSED         7   \n9                  9                Layup    FIELD_GOAL_MADE         9   \n19                19        Driving Layup    FIELD_GOAL_MADE        19   \n39                39        Driving Layup  FIELD_GOAL_MISSED        40   \n44                44             Tip Shot    FIELD_GOAL_MADE        44   \n...              ...                  ...                ...       ...   \n10389433         114  Step Back Jump Shot  FIELD_GOAL_MISSED       168   \n10389558         239            Jump Shot    FIELD_GOAL_MADE       350   \n10389559         240            Jump Shot    FIELD_GOAL_MADE       352   \n10389589         270            Jump Shot  FIELD_GOAL_MISSED       397   \n10389599         280            Jump Shot    FIELD_GOAL_MADE       409   \n\n           GAME_ID                                    HOMEDESCRIPTION  \\\n7         20001116                        MISS Majerle  Driving Layup   \n9         20001116                                                NaN   \n19        20001116                                                NaN   \n39        20001116                                                NaN   \n44        20001116                                                NaN   \n...            ...                                                ...   \n10389433  21801037                                                NaN   \n10389558  21801037                                                NaN   \n10389559  21801037  Hardaway Jr.  3PT Jump Shot (22 PTS) (Finney-S...   \n10389589  21801037                                                NaN   \n10389599  21801037  Finney-Smith  3PT Jump Shot (14 PTS) (Harris 5...   \n\n         PCTIMESTRING  PERIOD     PERSON1TYPE     PERSON2TYPE  ...  \\\n7               10:49       1     HOME_PLAYER               0  ...   \n9               10:44       1  VISITOR_PLAYER  VISITOR_PLAYER  ...   \n19               9:45       1  VISITOR_PLAYER               0  ...   \n39               6:32       1  VISITOR_PLAYER               0  ...   \n44               5:49       1  VISITOR_PLAYER               0  ...   \n...               ...     ...             ...             ...  ...   \n10389433        11:25       2  VISITOR_PLAYER               0  ...   \n10389558         7:09       3  VISITOR_PLAYER  VISITOR_PLAYER  ...   \n10389559         6:48       3     HOME_PLAYER     HOME_PLAYER  ...   \n10389589         4:11       3  VISITOR_PLAYER               0  ...   \n10389599         3:10       3     HOME_PLAYER     HOME_PLAYER  ...   \n\n         PLAYER3_TEAM_NICKNAME    SCORE SCOREMARGIN  \\\n7                          NaN      NaN         NaN   \n9                          NaN    4 - 2          -2   \n19                         NaN    6 - 2          -4   \n39                         NaN      NaN         NaN   \n44                         NaN   13 - 8          -5   \n...                        ...      ...         ...   \n10389433                   NaN      NaN         NaN   \n10389558                   NaN  74 - 79           5   \n10389559                   NaN  74 - 82           8   \n10389589                   NaN      NaN         NaN   \n10389599                   NaN  76 - 92          16   \n\n                                    VISITORDESCRIPTION WCTIMESTRING  \\\n7                                                  NaN     12:14 PM   \n9                    Lynch  Layup (2 PTS) (Snow 1 AST)     12:14 PM   \n19                      Iverson  Driving Layup (4 PTS)     12:15 PM   \n39                            MISS Hill  Driving Layup     12:20 PM   \n44                             Jones  Tip Shot (2 PTS)     12:21 PM   \n...                                                ...          ...   \n10389433        MISS Stauskas  3PT Step Back Jump Shot      9:10 PM   \n10389558  Osman  3PT Jump Shot (12 PTS) (Sexton 2 AST)     10:01 PM   \n10389559                                           NaN     10:01 PM   \n10389589                  MISS Clarkson  3PT Jump Shot     10:06 PM   \n10389599                                           NaN     10:08 PM   \n\n         season_name home_shot_distance visitor_shot_distance  \\\n7            2000-01                 -1                    -1   \n9            2000-01                 -1                    -1   \n19           2000-01                 -1                    -1   \n39           2000-01                 -1                    -1   \n44           2000-01                 -1                    -1   \n...              ...                ...                   ...   \n10389433     2018-19                 -1                    -1   \n10389558     2018-19                 -1                    -1   \n10389559     2018-19                 -1                    -1   \n10389589     2018-19                 -1                    -1   \n10389599     2018-19                 -1                    -1   \n\n         home_shot_distance_bins visitor_shot_distance_bins  \n7                            NaN                        NaN  \n9                            NaN                        NaN  \n19                           NaN                        NaN  \n39                           NaN                        NaN  \n44                           NaN                        NaN  \n...                          ...                        ...  \n10389433                     NaN                        NaN  \n10389558                     NaN                        NaN  \n10389559                     NaN                        NaN  \n10389589                     NaN                        NaN  \n10389599                     NaN                        NaN  \n\n[698350 rows x 38 columns]",
      "text/html": "<div>\n<style scoped>\n    .dataframe tbody tr th:only-of-type {\n        vertical-align: middle;\n    }\n\n    .dataframe tbody tr th {\n        vertical-align: top;\n    }\n\n    .dataframe thead th {\n        text-align: right;\n    }\n</style>\n<table border=\"1\" class=\"dataframe\">\n  <thead>\n    <tr style=\"text-align: right;\">\n      <th></th>\n      <th>Unnamed: 0</th>\n      <th>EVENTMSGACTIONTYPE</th>\n      <th>EVENTMSGTYPE</th>\n      <th>EVENTNUM</th>\n      <th>GAME_ID</th>\n      <th>HOMEDESCRIPTION</th>\n      <th>PCTIMESTRING</th>\n      <th>PERIOD</th>\n      <th>PERSON1TYPE</th>\n      <th>PERSON2TYPE</th>\n      <th>...</th>\n      <th>PLAYER3_TEAM_NICKNAME</th>\n      <th>SCORE</th>\n      <th>SCOREMARGIN</th>\n      <th>VISITORDESCRIPTION</th>\n      <th>WCTIMESTRING</th>\n      <th>season_name</th>\n      <th>home_shot_distance</th>\n      <th>visitor_shot_distance</th>\n      <th>home_shot_distance_bins</th>\n      <th>visitor_shot_distance_bins</th>\n    </tr>\n  </thead>\n  <tbody>\n    <tr>\n      <th>7</th>\n      <td>7</td>\n      <td>Driving Layup</td>\n      <td>FIELD_GOAL_MISSED</td>\n      <td>7</td>\n      <td>20001116</td>\n      <td>MISS Majerle  Driving Layup</td>\n      <td>10:49</td>\n      <td>1</td>\n      <td>HOME_PLAYER</td>\n      <td>0</td>\n      <td>...</td>\n      <td>NaN</td>\n      <td>NaN</td>\n      <td>NaN</td>\n      <td>NaN</td>\n      <td>12:14 PM</td>\n      <td>2000-01</td>\n      <td>-1</td>\n      <td>-1</td>\n      <td>NaN</td>\n      <td>NaN</td>\n    </tr>\n    <tr>\n      <th>9</th>\n      <td>9</td>\n      <td>Layup</td>\n      <td>FIELD_GOAL_MADE</td>\n      <td>9</td>\n      <td>20001116</td>\n      <td>NaN</td>\n      <td>10:44</td>\n      <td>1</td>\n      <td>VISITOR_PLAYER</td>\n      <td>VISITOR_PLAYER</td>\n      <td>...</td>\n      <td>NaN</td>\n      <td>4 - 2</td>\n      <td>-2</td>\n      <td>Lynch  Layup (2 PTS) (Snow 1 AST)</td>\n      <td>12:14 PM</td>\n      <td>2000-01</td>\n      <td>-1</td>\n      <td>-1</td>\n      <td>NaN</td>\n      <td>NaN</td>\n    </tr>\n    <tr>\n      <th>19</th>\n      <td>19</td>\n      <td>Driving Layup</td>\n      <td>FIELD_GOAL_MADE</td>\n      <td>19</td>\n      <td>20001116</td>\n      <td>NaN</td>\n      <td>9:45</td>\n      <td>1</td>\n      <td>VISITOR_PLAYER</td>\n      <td>0</td>\n      <td>...</td>\n      <td>NaN</td>\n      <td>6 - 2</td>\n      <td>-4</td>\n      <td>Iverson  Driving Layup (4 PTS)</td>\n      <td>12:15 PM</td>\n      <td>2000-01</td>\n      <td>-1</td>\n      <td>-1</td>\n      <td>NaN</td>\n      <td>NaN</td>\n    </tr>\n    <tr>\n      <th>39</th>\n      <td>39</td>\n      <td>Driving Layup</td>\n      <td>FIELD_GOAL_MISSED</td>\n      <td>40</td>\n      <td>20001116</td>\n      <td>NaN</td>\n      <td>6:32</td>\n      <td>1</td>\n      <td>VISITOR_PLAYER</td>\n      <td>0</td>\n      <td>...</td>\n      <td>NaN</td>\n      <td>NaN</td>\n      <td>NaN</td>\n      <td>MISS Hill  Driving Layup</td>\n      <td>12:20 PM</td>\n      <td>2000-01</td>\n      <td>-1</td>\n      <td>-1</td>\n      <td>NaN</td>\n      <td>NaN</td>\n    </tr>\n    <tr>\n      <th>44</th>\n      <td>44</td>\n      <td>Tip Shot</td>\n      <td>FIELD_GOAL_MADE</td>\n      <td>44</td>\n      <td>20001116</td>\n      <td>NaN</td>\n      <td>5:49</td>\n      <td>1</td>\n      <td>VISITOR_PLAYER</td>\n      <td>0</td>\n      <td>...</td>\n      <td>NaN</td>\n      <td>13 - 8</td>\n      <td>-5</td>\n      <td>Jones  Tip Shot (2 PTS)</td>\n      <td>12:21 PM</td>\n      <td>2000-01</td>\n      <td>-1</td>\n      <td>-1</td>\n      <td>NaN</td>\n      <td>NaN</td>\n    </tr>\n    <tr>\n      <th>...</th>\n      <td>...</td>\n      <td>...</td>\n      <td>...</td>\n      <td>...</td>\n      <td>...</td>\n      <td>...</td>\n      <td>...</td>\n      <td>...</td>\n      <td>...</td>\n      <td>...</td>\n      <td>...</td>\n      <td>...</td>\n      <td>...</td>\n      <td>...</td>\n      <td>...</td>\n      <td>...</td>\n      <td>...</td>\n      <td>...</td>\n      <td>...</td>\n      <td>...</td>\n      <td>...</td>\n    </tr>\n    <tr>\n      <th>10389433</th>\n      <td>114</td>\n      <td>Step Back Jump Shot</td>\n      <td>FIELD_GOAL_MISSED</td>\n      <td>168</td>\n      <td>21801037</td>\n      <td>NaN</td>\n      <td>11:25</td>\n      <td>2</td>\n      <td>VISITOR_PLAYER</td>\n      <td>0</td>\n      <td>...</td>\n      <td>NaN</td>\n      <td>NaN</td>\n      <td>NaN</td>\n      <td>MISS Stauskas  3PT Step Back Jump Shot</td>\n      <td>9:10 PM</td>\n      <td>2018-19</td>\n      <td>-1</td>\n      <td>-1</td>\n      <td>NaN</td>\n      <td>NaN</td>\n    </tr>\n    <tr>\n      <th>10389558</th>\n      <td>239</td>\n      <td>Jump Shot</td>\n      <td>FIELD_GOAL_MADE</td>\n      <td>350</td>\n      <td>21801037</td>\n      <td>NaN</td>\n      <td>7:09</td>\n      <td>3</td>\n      <td>VISITOR_PLAYER</td>\n      <td>VISITOR_PLAYER</td>\n      <td>...</td>\n      <td>NaN</td>\n      <td>74 - 79</td>\n      <td>5</td>\n      <td>Osman  3PT Jump Shot (12 PTS) (Sexton 2 AST)</td>\n      <td>10:01 PM</td>\n      <td>2018-19</td>\n      <td>-1</td>\n      <td>-1</td>\n      <td>NaN</td>\n      <td>NaN</td>\n    </tr>\n    <tr>\n      <th>10389559</th>\n      <td>240</td>\n      <td>Jump Shot</td>\n      <td>FIELD_GOAL_MADE</td>\n      <td>352</td>\n      <td>21801037</td>\n      <td>Hardaway Jr.  3PT Jump Shot (22 PTS) (Finney-S...</td>\n      <td>6:48</td>\n      <td>3</td>\n      <td>HOME_PLAYER</td>\n      <td>HOME_PLAYER</td>\n      <td>...</td>\n      <td>NaN</td>\n      <td>74 - 82</td>\n      <td>8</td>\n      <td>NaN</td>\n      <td>10:01 PM</td>\n      <td>2018-19</td>\n      <td>-1</td>\n      <td>-1</td>\n      <td>NaN</td>\n      <td>NaN</td>\n    </tr>\n    <tr>\n      <th>10389589</th>\n      <td>270</td>\n      <td>Jump Shot</td>\n      <td>FIELD_GOAL_MISSED</td>\n      <td>397</td>\n      <td>21801037</td>\n      <td>NaN</td>\n      <td>4:11</td>\n      <td>3</td>\n      <td>VISITOR_PLAYER</td>\n      <td>0</td>\n      <td>...</td>\n      <td>NaN</td>\n      <td>NaN</td>\n      <td>NaN</td>\n      <td>MISS Clarkson  3PT Jump Shot</td>\n      <td>10:06 PM</td>\n      <td>2018-19</td>\n      <td>-1</td>\n      <td>-1</td>\n      <td>NaN</td>\n      <td>NaN</td>\n    </tr>\n    <tr>\n      <th>10389599</th>\n      <td>280</td>\n      <td>Jump Shot</td>\n      <td>FIELD_GOAL_MADE</td>\n      <td>409</td>\n      <td>21801037</td>\n      <td>Finney-Smith  3PT Jump Shot (14 PTS) (Harris 5...</td>\n      <td>3:10</td>\n      <td>3</td>\n      <td>HOME_PLAYER</td>\n      <td>HOME_PLAYER</td>\n      <td>...</td>\n      <td>NaN</td>\n      <td>76 - 92</td>\n      <td>16</td>\n      <td>NaN</td>\n      <td>10:08 PM</td>\n      <td>2018-19</td>\n      <td>-1</td>\n      <td>-1</td>\n      <td>NaN</td>\n      <td>NaN</td>\n    </tr>\n  </tbody>\n</table>\n<p>698350 rows × 38 columns</p>\n</div>"
     },
     "execution_count": 62,
     "metadata": {},
     "output_type": "execute_result"
    }
   ],
   "source": [
    "seasons[((seasons[\"home_shot_distance_bins\"].isnull()) & (seasons[\"visitor_shot_distance_bins\"].isnull())) &((seasons[\"EVENTMSGTYPE\"]==\"FIELD_GOAL_MISSED\") | (seasons[\"EVENTMSGTYPE\"]==\"FIELD_GOAL_MADE\"))]"
   ],
   "metadata": {
    "collapsed": false,
    "pycharm": {
     "name": "#%%\n"
    }
   }
  },
  {
   "cell_type": "code",
   "execution_count": 92,
   "outputs": [
    {
     "data": {
      "text/plain": "             EVENTMSGTYPE   total   Missing   Present\nseason_name                                          \n2000-01             47166  191664  0.246087  0.753913\n2001-02             51969  193263  0.268903  0.731097\n2002-03             52722  192109  0.274438  0.725562\n2003-04             52859  189803  0.278494  0.721506\n2004-05             56273  197626  0.284745  0.715255\n2005-06             55792  194314  0.287123  0.712877\n2006-07             57529  196072  0.293408  0.706592\n2007-08             58885  200501  0.293689  0.706311\n2008-09             59314  199054  0.297979  0.702021\n2009-10             58317  200989  0.290150  0.709850\n2010-11             13108  199790  0.065609  0.934391\n2011-12             11084  161225  0.068749  0.931251\n2012-13             14585  201609  0.072343  0.927657\n2013-14             14194  204172  0.069520  0.930480\n2014-15             22044  205570  0.107234  0.892766\n2015-16             21357  208049  0.102654  0.897346\n2016-17             21642  210115  0.103001  0.896999\n2017-18             14012  211708  0.066186  0.933814\n2018-19             15498  219458  0.070619  0.929381",
      "text/html": "<div>\n<style scoped>\n    .dataframe tbody tr th:only-of-type {\n        vertical-align: middle;\n    }\n\n    .dataframe tbody tr th {\n        vertical-align: top;\n    }\n\n    .dataframe thead th {\n        text-align: right;\n    }\n</style>\n<table border=\"1\" class=\"dataframe\">\n  <thead>\n    <tr style=\"text-align: right;\">\n      <th></th>\n      <th>EVENTMSGTYPE</th>\n      <th>total</th>\n      <th>Missing</th>\n      <th>Present</th>\n    </tr>\n    <tr>\n      <th>season_name</th>\n      <th></th>\n      <th></th>\n      <th></th>\n      <th></th>\n    </tr>\n  </thead>\n  <tbody>\n    <tr>\n      <th>2000-01</th>\n      <td>47166</td>\n      <td>191664</td>\n      <td>0.246087</td>\n      <td>0.753913</td>\n    </tr>\n    <tr>\n      <th>2001-02</th>\n      <td>51969</td>\n      <td>193263</td>\n      <td>0.268903</td>\n      <td>0.731097</td>\n    </tr>\n    <tr>\n      <th>2002-03</th>\n      <td>52722</td>\n      <td>192109</td>\n      <td>0.274438</td>\n      <td>0.725562</td>\n    </tr>\n    <tr>\n      <th>2003-04</th>\n      <td>52859</td>\n      <td>189803</td>\n      <td>0.278494</td>\n      <td>0.721506</td>\n    </tr>\n    <tr>\n      <th>2004-05</th>\n      <td>56273</td>\n      <td>197626</td>\n      <td>0.284745</td>\n      <td>0.715255</td>\n    </tr>\n    <tr>\n      <th>2005-06</th>\n      <td>55792</td>\n      <td>194314</td>\n      <td>0.287123</td>\n      <td>0.712877</td>\n    </tr>\n    <tr>\n      <th>2006-07</th>\n      <td>57529</td>\n      <td>196072</td>\n      <td>0.293408</td>\n      <td>0.706592</td>\n    </tr>\n    <tr>\n      <th>2007-08</th>\n      <td>58885</td>\n      <td>200501</td>\n      <td>0.293689</td>\n      <td>0.706311</td>\n    </tr>\n    <tr>\n      <th>2008-09</th>\n      <td>59314</td>\n      <td>199054</td>\n      <td>0.297979</td>\n      <td>0.702021</td>\n    </tr>\n    <tr>\n      <th>2009-10</th>\n      <td>58317</td>\n      <td>200989</td>\n      <td>0.290150</td>\n      <td>0.709850</td>\n    </tr>\n    <tr>\n      <th>2010-11</th>\n      <td>13108</td>\n      <td>199790</td>\n      <td>0.065609</td>\n      <td>0.934391</td>\n    </tr>\n    <tr>\n      <th>2011-12</th>\n      <td>11084</td>\n      <td>161225</td>\n      <td>0.068749</td>\n      <td>0.931251</td>\n    </tr>\n    <tr>\n      <th>2012-13</th>\n      <td>14585</td>\n      <td>201609</td>\n      <td>0.072343</td>\n      <td>0.927657</td>\n    </tr>\n    <tr>\n      <th>2013-14</th>\n      <td>14194</td>\n      <td>204172</td>\n      <td>0.069520</td>\n      <td>0.930480</td>\n    </tr>\n    <tr>\n      <th>2014-15</th>\n      <td>22044</td>\n      <td>205570</td>\n      <td>0.107234</td>\n      <td>0.892766</td>\n    </tr>\n    <tr>\n      <th>2015-16</th>\n      <td>21357</td>\n      <td>208049</td>\n      <td>0.102654</td>\n      <td>0.897346</td>\n    </tr>\n    <tr>\n      <th>2016-17</th>\n      <td>21642</td>\n      <td>210115</td>\n      <td>0.103001</td>\n      <td>0.896999</td>\n    </tr>\n    <tr>\n      <th>2017-18</th>\n      <td>14012</td>\n      <td>211708</td>\n      <td>0.066186</td>\n      <td>0.933814</td>\n    </tr>\n    <tr>\n      <th>2018-19</th>\n      <td>15498</td>\n      <td>219458</td>\n      <td>0.070619</td>\n      <td>0.929381</td>\n    </tr>\n  </tbody>\n</table>\n</div>"
     },
     "execution_count": 92,
     "metadata": {},
     "output_type": "execute_result"
    }
   ],
   "source": [
    "missing_distance_info = seasons[((seasons[\"home_shot_distance_bins\"].isnull()) & (seasons[\"visitor_shot_distance_bins\"].isnull())) &((seasons[\"EVENTMSGTYPE\"]==\"FIELD_GOAL_MISSED\") | (seasons[\"EVENTMSGTYPE\"]==\"FIELD_GOAL_MADE\"))].groupby(\"season_name\")['EVENTMSGTYPE'].count().to_frame()\n",
    "#missing_distance_info = missing_distance_info.rename(columns = {'EVENTMSGTYPE':'missing'}, inplace = True)\n",
    "\n",
    "missing_distance_info[\"total\"] = seasons[(seasons[\"EVENTMSGTYPE\"]==\"FIELD_GOAL_MISSED\") | (seasons[\"EVENTMSGTYPE\"]==\"FIELD_GOAL_MADE\")].groupby(\"season_name\")[\"EVENTMSGTYPE\"].count()\n",
    "missing_distance_info[\"Missing\"] = missing_distance_info[\"EVENTMSGTYPE\"]/  missing_distance_info[\"total\"]\n",
    "#\n",
    "missing_distance_info[\"Present\"] = (missing_distance_info[\"total\"] - missing_distance_info[\"EVENTMSGTYPE\"]) /  missing_distance_info[\"total\"]\n",
    "missing_distance_info"
   ],
   "metadata": {
    "collapsed": false,
    "pycharm": {
     "name": "#%%\n"
    }
   }
  },
  {
   "cell_type": "code",
   "execution_count": 93,
   "outputs": [
    {
     "data": {
      "application/vnd.plotly.v1+json": {
       "data": [
        {
         "alignmentgroup": "True",
         "hovertemplate": "variable=Present<br>season_name=%{x}<br>value=%{y}<extra></extra>",
         "legendgroup": "Present",
         "marker": {
          "color": "#4C78A8",
          "pattern": {
           "shape": ""
          }
         },
         "name": "Present",
         "offsetgroup": "Present",
         "orientation": "v",
         "showlegend": true,
         "textposition": "outside",
         "texttemplate": "%{y:.3f}",
         "x": [
          "2000-01",
          "2001-02",
          "2002-03",
          "2003-04",
          "2004-05",
          "2005-06",
          "2006-07",
          "2007-08",
          "2008-09",
          "2009-10",
          "2010-11",
          "2011-12",
          "2012-13",
          "2013-14",
          "2014-15",
          "2015-16",
          "2016-17",
          "2017-18",
          "2018-19"
         ],
         "xaxis": "x",
         "y": [
          0.7539130979213624,
          0.7310970025302308,
          0.7255620507107944,
          0.7215059825187168,
          0.7152550777731675,
          0.712877095834577,
          0.7065924762332204,
          0.7063106917172483,
          0.702020557235725,
          0.7098497927747289,
          0.9343911106661995,
          0.9312513567995038,
          0.9276569994395092,
          0.9304801833748017,
          0.8927664542491609,
          0.8973462982278213,
          0.8969992623087357,
          0.9338144992159011,
          0.9293805648461209
         ],
         "yaxis": "y",
         "type": "bar",
         "textfont": {
          "size": 20
         },
         "cliponaxis": false,
         "textangle": 0
        },
        {
         "alignmentgroup": "True",
         "hovertemplate": "variable=Missing<br>season_name=%{x}<br>value=%{y}<extra></extra>",
         "legendgroup": "Missing",
         "marker": {
          "color": "#F58518",
          "pattern": {
           "shape": ""
          }
         },
         "name": "Missing",
         "offsetgroup": "Missing",
         "orientation": "v",
         "showlegend": true,
         "textposition": "outside",
         "texttemplate": "%{y:.3f}",
         "x": [
          "2000-01",
          "2001-02",
          "2002-03",
          "2003-04",
          "2004-05",
          "2005-06",
          "2006-07",
          "2007-08",
          "2008-09",
          "2009-10",
          "2010-11",
          "2011-12",
          "2012-13",
          "2013-14",
          "2014-15",
          "2015-16",
          "2016-17",
          "2017-18",
          "2018-19"
         ],
         "xaxis": "x",
         "y": [
          0.24608690207863762,
          0.2689029974697692,
          0.2744379492892056,
          0.2784940174812832,
          0.2847449222268325,
          0.28712290416542297,
          0.29340752376677953,
          0.2936893082827517,
          0.297979442764275,
          0.290150207225271,
          0.06560888933380049,
          0.0687486432004962,
          0.07234300056049085,
          0.06951981662519836,
          0.10723354575083913,
          0.10265370177217867,
          0.1030007376912643,
          0.06618550078409885,
          0.0706194351538791
         ],
         "yaxis": "y",
         "type": "bar",
         "textfont": {
          "size": 20
         },
         "cliponaxis": false,
         "textangle": 0
        }
       ],
       "layout": {
        "template": {
         "data": {
          "histogram2dcontour": [
           {
            "type": "histogram2dcontour",
            "colorbar": {
             "outlinewidth": 0,
             "ticks": ""
            },
            "colorscale": [
             [
              0.0,
              "#0d0887"
             ],
             [
              0.1111111111111111,
              "#46039f"
             ],
             [
              0.2222222222222222,
              "#7201a8"
             ],
             [
              0.3333333333333333,
              "#9c179e"
             ],
             [
              0.4444444444444444,
              "#bd3786"
             ],
             [
              0.5555555555555556,
              "#d8576b"
             ],
             [
              0.6666666666666666,
              "#ed7953"
             ],
             [
              0.7777777777777778,
              "#fb9f3a"
             ],
             [
              0.8888888888888888,
              "#fdca26"
             ],
             [
              1.0,
              "#f0f921"
             ]
            ]
           }
          ],
          "choropleth": [
           {
            "type": "choropleth",
            "colorbar": {
             "outlinewidth": 0,
             "ticks": ""
            }
           }
          ],
          "histogram2d": [
           {
            "type": "histogram2d",
            "colorbar": {
             "outlinewidth": 0,
             "ticks": ""
            },
            "colorscale": [
             [
              0.0,
              "#0d0887"
             ],
             [
              0.1111111111111111,
              "#46039f"
             ],
             [
              0.2222222222222222,
              "#7201a8"
             ],
             [
              0.3333333333333333,
              "#9c179e"
             ],
             [
              0.4444444444444444,
              "#bd3786"
             ],
             [
              0.5555555555555556,
              "#d8576b"
             ],
             [
              0.6666666666666666,
              "#ed7953"
             ],
             [
              0.7777777777777778,
              "#fb9f3a"
             ],
             [
              0.8888888888888888,
              "#fdca26"
             ],
             [
              1.0,
              "#f0f921"
             ]
            ]
           }
          ],
          "heatmap": [
           {
            "type": "heatmap",
            "colorbar": {
             "outlinewidth": 0,
             "ticks": ""
            },
            "colorscale": [
             [
              0.0,
              "#0d0887"
             ],
             [
              0.1111111111111111,
              "#46039f"
             ],
             [
              0.2222222222222222,
              "#7201a8"
             ],
             [
              0.3333333333333333,
              "#9c179e"
             ],
             [
              0.4444444444444444,
              "#bd3786"
             ],
             [
              0.5555555555555556,
              "#d8576b"
             ],
             [
              0.6666666666666666,
              "#ed7953"
             ],
             [
              0.7777777777777778,
              "#fb9f3a"
             ],
             [
              0.8888888888888888,
              "#fdca26"
             ],
             [
              1.0,
              "#f0f921"
             ]
            ]
           }
          ],
          "heatmapgl": [
           {
            "type": "heatmapgl",
            "colorbar": {
             "outlinewidth": 0,
             "ticks": ""
            },
            "colorscale": [
             [
              0.0,
              "#0d0887"
             ],
             [
              0.1111111111111111,
              "#46039f"
             ],
             [
              0.2222222222222222,
              "#7201a8"
             ],
             [
              0.3333333333333333,
              "#9c179e"
             ],
             [
              0.4444444444444444,
              "#bd3786"
             ],
             [
              0.5555555555555556,
              "#d8576b"
             ],
             [
              0.6666666666666666,
              "#ed7953"
             ],
             [
              0.7777777777777778,
              "#fb9f3a"
             ],
             [
              0.8888888888888888,
              "#fdca26"
             ],
             [
              1.0,
              "#f0f921"
             ]
            ]
           }
          ],
          "contourcarpet": [
           {
            "type": "contourcarpet",
            "colorbar": {
             "outlinewidth": 0,
             "ticks": ""
            }
           }
          ],
          "contour": [
           {
            "type": "contour",
            "colorbar": {
             "outlinewidth": 0,
             "ticks": ""
            },
            "colorscale": [
             [
              0.0,
              "#0d0887"
             ],
             [
              0.1111111111111111,
              "#46039f"
             ],
             [
              0.2222222222222222,
              "#7201a8"
             ],
             [
              0.3333333333333333,
              "#9c179e"
             ],
             [
              0.4444444444444444,
              "#bd3786"
             ],
             [
              0.5555555555555556,
              "#d8576b"
             ],
             [
              0.6666666666666666,
              "#ed7953"
             ],
             [
              0.7777777777777778,
              "#fb9f3a"
             ],
             [
              0.8888888888888888,
              "#fdca26"
             ],
             [
              1.0,
              "#f0f921"
             ]
            ]
           }
          ],
          "surface": [
           {
            "type": "surface",
            "colorbar": {
             "outlinewidth": 0,
             "ticks": ""
            },
            "colorscale": [
             [
              0.0,
              "#0d0887"
             ],
             [
              0.1111111111111111,
              "#46039f"
             ],
             [
              0.2222222222222222,
              "#7201a8"
             ],
             [
              0.3333333333333333,
              "#9c179e"
             ],
             [
              0.4444444444444444,
              "#bd3786"
             ],
             [
              0.5555555555555556,
              "#d8576b"
             ],
             [
              0.6666666666666666,
              "#ed7953"
             ],
             [
              0.7777777777777778,
              "#fb9f3a"
             ],
             [
              0.8888888888888888,
              "#fdca26"
             ],
             [
              1.0,
              "#f0f921"
             ]
            ]
           }
          ],
          "mesh3d": [
           {
            "type": "mesh3d",
            "colorbar": {
             "outlinewidth": 0,
             "ticks": ""
            }
           }
          ],
          "scatter": [
           {
            "fillpattern": {
             "fillmode": "overlay",
             "size": 10,
             "solidity": 0.2
            },
            "type": "scatter"
           }
          ],
          "parcoords": [
           {
            "type": "parcoords",
            "line": {
             "colorbar": {
              "outlinewidth": 0,
              "ticks": ""
             }
            }
           }
          ],
          "scatterpolargl": [
           {
            "type": "scatterpolargl",
            "marker": {
             "colorbar": {
              "outlinewidth": 0,
              "ticks": ""
             }
            }
           }
          ],
          "bar": [
           {
            "error_x": {
             "color": "#2a3f5f"
            },
            "error_y": {
             "color": "#2a3f5f"
            },
            "marker": {
             "line": {
              "color": "#E5ECF6",
              "width": 0.5
             },
             "pattern": {
              "fillmode": "overlay",
              "size": 10,
              "solidity": 0.2
             }
            },
            "type": "bar"
           }
          ],
          "scattergeo": [
           {
            "type": "scattergeo",
            "marker": {
             "colorbar": {
              "outlinewidth": 0,
              "ticks": ""
             }
            }
           }
          ],
          "scatterpolar": [
           {
            "type": "scatterpolar",
            "marker": {
             "colorbar": {
              "outlinewidth": 0,
              "ticks": ""
             }
            }
           }
          ],
          "histogram": [
           {
            "marker": {
             "pattern": {
              "fillmode": "overlay",
              "size": 10,
              "solidity": 0.2
             }
            },
            "type": "histogram"
           }
          ],
          "scattergl": [
           {
            "type": "scattergl",
            "marker": {
             "colorbar": {
              "outlinewidth": 0,
              "ticks": ""
             }
            }
           }
          ],
          "scatter3d": [
           {
            "type": "scatter3d",
            "line": {
             "colorbar": {
              "outlinewidth": 0,
              "ticks": ""
             }
            },
            "marker": {
             "colorbar": {
              "outlinewidth": 0,
              "ticks": ""
             }
            }
           }
          ],
          "scattermapbox": [
           {
            "type": "scattermapbox",
            "marker": {
             "colorbar": {
              "outlinewidth": 0,
              "ticks": ""
             }
            }
           }
          ],
          "scatterternary": [
           {
            "type": "scatterternary",
            "marker": {
             "colorbar": {
              "outlinewidth": 0,
              "ticks": ""
             }
            }
           }
          ],
          "scattercarpet": [
           {
            "type": "scattercarpet",
            "marker": {
             "colorbar": {
              "outlinewidth": 0,
              "ticks": ""
             }
            }
           }
          ],
          "carpet": [
           {
            "aaxis": {
             "endlinecolor": "#2a3f5f",
             "gridcolor": "white",
             "linecolor": "white",
             "minorgridcolor": "white",
             "startlinecolor": "#2a3f5f"
            },
            "baxis": {
             "endlinecolor": "#2a3f5f",
             "gridcolor": "white",
             "linecolor": "white",
             "minorgridcolor": "white",
             "startlinecolor": "#2a3f5f"
            },
            "type": "carpet"
           }
          ],
          "table": [
           {
            "cells": {
             "fill": {
              "color": "#EBF0F8"
             },
             "line": {
              "color": "white"
             }
            },
            "header": {
             "fill": {
              "color": "#C8D4E3"
             },
             "line": {
              "color": "white"
             }
            },
            "type": "table"
           }
          ],
          "barpolar": [
           {
            "marker": {
             "line": {
              "color": "#E5ECF6",
              "width": 0.5
             },
             "pattern": {
              "fillmode": "overlay",
              "size": 10,
              "solidity": 0.2
             }
            },
            "type": "barpolar"
           }
          ],
          "pie": [
           {
            "automargin": true,
            "type": "pie"
           }
          ]
         },
         "layout": {
          "autotypenumbers": "strict",
          "colorway": [
           "#636efa",
           "#EF553B",
           "#00cc96",
           "#ab63fa",
           "#FFA15A",
           "#19d3f3",
           "#FF6692",
           "#B6E880",
           "#FF97FF",
           "#FECB52"
          ],
          "font": {
           "color": "#2a3f5f"
          },
          "hovermode": "closest",
          "hoverlabel": {
           "align": "left"
          },
          "paper_bgcolor": "white",
          "plot_bgcolor": "#E5ECF6",
          "polar": {
           "bgcolor": "#E5ECF6",
           "angularaxis": {
            "gridcolor": "white",
            "linecolor": "white",
            "ticks": ""
           },
           "radialaxis": {
            "gridcolor": "white",
            "linecolor": "white",
            "ticks": ""
           }
          },
          "ternary": {
           "bgcolor": "#E5ECF6",
           "aaxis": {
            "gridcolor": "white",
            "linecolor": "white",
            "ticks": ""
           },
           "baxis": {
            "gridcolor": "white",
            "linecolor": "white",
            "ticks": ""
           },
           "caxis": {
            "gridcolor": "white",
            "linecolor": "white",
            "ticks": ""
           }
          },
          "coloraxis": {
           "colorbar": {
            "outlinewidth": 0,
            "ticks": ""
           }
          },
          "colorscale": {
           "sequential": [
            [
             0.0,
             "#0d0887"
            ],
            [
             0.1111111111111111,
             "#46039f"
            ],
            [
             0.2222222222222222,
             "#7201a8"
            ],
            [
             0.3333333333333333,
             "#9c179e"
            ],
            [
             0.4444444444444444,
             "#bd3786"
            ],
            [
             0.5555555555555556,
             "#d8576b"
            ],
            [
             0.6666666666666666,
             "#ed7953"
            ],
            [
             0.7777777777777778,
             "#fb9f3a"
            ],
            [
             0.8888888888888888,
             "#fdca26"
            ],
            [
             1.0,
             "#f0f921"
            ]
           ],
           "sequentialminus": [
            [
             0.0,
             "#0d0887"
            ],
            [
             0.1111111111111111,
             "#46039f"
            ],
            [
             0.2222222222222222,
             "#7201a8"
            ],
            [
             0.3333333333333333,
             "#9c179e"
            ],
            [
             0.4444444444444444,
             "#bd3786"
            ],
            [
             0.5555555555555556,
             "#d8576b"
            ],
            [
             0.6666666666666666,
             "#ed7953"
            ],
            [
             0.7777777777777778,
             "#fb9f3a"
            ],
            [
             0.8888888888888888,
             "#fdca26"
            ],
            [
             1.0,
             "#f0f921"
            ]
           ],
           "diverging": [
            [
             0,
             "#8e0152"
            ],
            [
             0.1,
             "#c51b7d"
            ],
            [
             0.2,
             "#de77ae"
            ],
            [
             0.3,
             "#f1b6da"
            ],
            [
             0.4,
             "#fde0ef"
            ],
            [
             0.5,
             "#f7f7f7"
            ],
            [
             0.6,
             "#e6f5d0"
            ],
            [
             0.7,
             "#b8e186"
            ],
            [
             0.8,
             "#7fbc41"
            ],
            [
             0.9,
             "#4d9221"
            ],
            [
             1,
             "#276419"
            ]
           ]
          },
          "xaxis": {
           "gridcolor": "white",
           "linecolor": "white",
           "ticks": "",
           "title": {
            "standoff": 15
           },
           "zerolinecolor": "white",
           "automargin": true,
           "zerolinewidth": 2
          },
          "yaxis": {
           "gridcolor": "white",
           "linecolor": "white",
           "ticks": "",
           "title": {
            "standoff": 15
           },
           "zerolinecolor": "white",
           "automargin": true,
           "zerolinewidth": 2
          },
          "scene": {
           "xaxis": {
            "backgroundcolor": "#E5ECF6",
            "gridcolor": "white",
            "linecolor": "white",
            "showbackground": true,
            "ticks": "",
            "zerolinecolor": "white",
            "gridwidth": 2
           },
           "yaxis": {
            "backgroundcolor": "#E5ECF6",
            "gridcolor": "white",
            "linecolor": "white",
            "showbackground": true,
            "ticks": "",
            "zerolinecolor": "white",
            "gridwidth": 2
           },
           "zaxis": {
            "backgroundcolor": "#E5ECF6",
            "gridcolor": "white",
            "linecolor": "white",
            "showbackground": true,
            "ticks": "",
            "zerolinecolor": "white",
            "gridwidth": 2
           }
          },
          "shapedefaults": {
           "line": {
            "color": "#2a3f5f"
           }
          },
          "annotationdefaults": {
           "arrowcolor": "#2a3f5f",
           "arrowhead": 0,
           "arrowwidth": 1
          },
          "geo": {
           "bgcolor": "white",
           "landcolor": "#E5ECF6",
           "subunitcolor": "white",
           "showland": true,
           "showlakes": true,
           "lakecolor": "white"
          },
          "title": {
           "x": 0.05
          },
          "mapbox": {
           "style": "light"
          }
         }
        },
        "xaxis": {
         "anchor": "y",
         "domain": [
          0.0,
          1.0
         ],
         "title": {
          "text": "season_name"
         },
         "type": "category"
        },
        "yaxis": {
         "anchor": "x",
         "domain": [
          0.0,
          1.0
         ],
         "title": {
          "text": "Percentage"
         }
        },
        "legend": {
         "title": {
          "text": "variable"
         },
         "tracegroupgap": 0
        },
        "title": {
         "text": "Shots with missing distance information per season"
        },
        "barmode": "relative"
       },
       "config": {
        "plotlyServerURL": "https://plot.ly"
       }
      },
      "text/html": "<div>                            <div id=\"312c8772-4966-4613-8fd9-dd23572a842d\" class=\"plotly-graph-div\" style=\"height:525px; width:100%;\"></div>            <script type=\"text/javascript\">                require([\"plotly\"], function(Plotly) {                    window.PLOTLYENV=window.PLOTLYENV || {};                                    if (document.getElementById(\"312c8772-4966-4613-8fd9-dd23572a842d\")) {                    Plotly.newPlot(                        \"312c8772-4966-4613-8fd9-dd23572a842d\",                        [{\"alignmentgroup\":\"True\",\"hovertemplate\":\"variable=Present<br>season_name=%{x}<br>value=%{y}<extra></extra>\",\"legendgroup\":\"Present\",\"marker\":{\"color\":\"#4C78A8\",\"pattern\":{\"shape\":\"\"}},\"name\":\"Present\",\"offsetgroup\":\"Present\",\"orientation\":\"v\",\"showlegend\":true,\"textposition\":\"outside\",\"texttemplate\":\"%{y:.3f}\",\"x\":[\"2000-01\",\"2001-02\",\"2002-03\",\"2003-04\",\"2004-05\",\"2005-06\",\"2006-07\",\"2007-08\",\"2008-09\",\"2009-10\",\"2010-11\",\"2011-12\",\"2012-13\",\"2013-14\",\"2014-15\",\"2015-16\",\"2016-17\",\"2017-18\",\"2018-19\"],\"xaxis\":\"x\",\"y\":[0.7539130979213624,0.7310970025302308,0.7255620507107944,0.7215059825187168,0.7152550777731675,0.712877095834577,0.7065924762332204,0.7063106917172483,0.702020557235725,0.7098497927747289,0.9343911106661995,0.9312513567995038,0.9276569994395092,0.9304801833748017,0.8927664542491609,0.8973462982278213,0.8969992623087357,0.9338144992159011,0.9293805648461209],\"yaxis\":\"y\",\"type\":\"bar\",\"textfont\":{\"size\":20},\"cliponaxis\":false,\"textangle\":0},{\"alignmentgroup\":\"True\",\"hovertemplate\":\"variable=Missing<br>season_name=%{x}<br>value=%{y}<extra></extra>\",\"legendgroup\":\"Missing\",\"marker\":{\"color\":\"#F58518\",\"pattern\":{\"shape\":\"\"}},\"name\":\"Missing\",\"offsetgroup\":\"Missing\",\"orientation\":\"v\",\"showlegend\":true,\"textposition\":\"outside\",\"texttemplate\":\"%{y:.3f}\",\"x\":[\"2000-01\",\"2001-02\",\"2002-03\",\"2003-04\",\"2004-05\",\"2005-06\",\"2006-07\",\"2007-08\",\"2008-09\",\"2009-10\",\"2010-11\",\"2011-12\",\"2012-13\",\"2013-14\",\"2014-15\",\"2015-16\",\"2016-17\",\"2017-18\",\"2018-19\"],\"xaxis\":\"x\",\"y\":[0.24608690207863762,0.2689029974697692,0.2744379492892056,0.2784940174812832,0.2847449222268325,0.28712290416542297,0.29340752376677953,0.2936893082827517,0.297979442764275,0.290150207225271,0.06560888933380049,0.0687486432004962,0.07234300056049085,0.06951981662519836,0.10723354575083913,0.10265370177217867,0.1030007376912643,0.06618550078409885,0.0706194351538791],\"yaxis\":\"y\",\"type\":\"bar\",\"textfont\":{\"size\":20},\"cliponaxis\":false,\"textangle\":0}],                        {\"template\":{\"data\":{\"histogram2dcontour\":[{\"type\":\"histogram2dcontour\",\"colorbar\":{\"outlinewidth\":0,\"ticks\":\"\"},\"colorscale\":[[0.0,\"#0d0887\"],[0.1111111111111111,\"#46039f\"],[0.2222222222222222,\"#7201a8\"],[0.3333333333333333,\"#9c179e\"],[0.4444444444444444,\"#bd3786\"],[0.5555555555555556,\"#d8576b\"],[0.6666666666666666,\"#ed7953\"],[0.7777777777777778,\"#fb9f3a\"],[0.8888888888888888,\"#fdca26\"],[1.0,\"#f0f921\"]]}],\"choropleth\":[{\"type\":\"choropleth\",\"colorbar\":{\"outlinewidth\":0,\"ticks\":\"\"}}],\"histogram2d\":[{\"type\":\"histogram2d\",\"colorbar\":{\"outlinewidth\":0,\"ticks\":\"\"},\"colorscale\":[[0.0,\"#0d0887\"],[0.1111111111111111,\"#46039f\"],[0.2222222222222222,\"#7201a8\"],[0.3333333333333333,\"#9c179e\"],[0.4444444444444444,\"#bd3786\"],[0.5555555555555556,\"#d8576b\"],[0.6666666666666666,\"#ed7953\"],[0.7777777777777778,\"#fb9f3a\"],[0.8888888888888888,\"#fdca26\"],[1.0,\"#f0f921\"]]}],\"heatmap\":[{\"type\":\"heatmap\",\"colorbar\":{\"outlinewidth\":0,\"ticks\":\"\"},\"colorscale\":[[0.0,\"#0d0887\"],[0.1111111111111111,\"#46039f\"],[0.2222222222222222,\"#7201a8\"],[0.3333333333333333,\"#9c179e\"],[0.4444444444444444,\"#bd3786\"],[0.5555555555555556,\"#d8576b\"],[0.6666666666666666,\"#ed7953\"],[0.7777777777777778,\"#fb9f3a\"],[0.8888888888888888,\"#fdca26\"],[1.0,\"#f0f921\"]]}],\"heatmapgl\":[{\"type\":\"heatmapgl\",\"colorbar\":{\"outlinewidth\":0,\"ticks\":\"\"},\"colorscale\":[[0.0,\"#0d0887\"],[0.1111111111111111,\"#46039f\"],[0.2222222222222222,\"#7201a8\"],[0.3333333333333333,\"#9c179e\"],[0.4444444444444444,\"#bd3786\"],[0.5555555555555556,\"#d8576b\"],[0.6666666666666666,\"#ed7953\"],[0.7777777777777778,\"#fb9f3a\"],[0.8888888888888888,\"#fdca26\"],[1.0,\"#f0f921\"]]}],\"contourcarpet\":[{\"type\":\"contourcarpet\",\"colorbar\":{\"outlinewidth\":0,\"ticks\":\"\"}}],\"contour\":[{\"type\":\"contour\",\"colorbar\":{\"outlinewidth\":0,\"ticks\":\"\"},\"colorscale\":[[0.0,\"#0d0887\"],[0.1111111111111111,\"#46039f\"],[0.2222222222222222,\"#7201a8\"],[0.3333333333333333,\"#9c179e\"],[0.4444444444444444,\"#bd3786\"],[0.5555555555555556,\"#d8576b\"],[0.6666666666666666,\"#ed7953\"],[0.7777777777777778,\"#fb9f3a\"],[0.8888888888888888,\"#fdca26\"],[1.0,\"#f0f921\"]]}],\"surface\":[{\"type\":\"surface\",\"colorbar\":{\"outlinewidth\":0,\"ticks\":\"\"},\"colorscale\":[[0.0,\"#0d0887\"],[0.1111111111111111,\"#46039f\"],[0.2222222222222222,\"#7201a8\"],[0.3333333333333333,\"#9c179e\"],[0.4444444444444444,\"#bd3786\"],[0.5555555555555556,\"#d8576b\"],[0.6666666666666666,\"#ed7953\"],[0.7777777777777778,\"#fb9f3a\"],[0.8888888888888888,\"#fdca26\"],[1.0,\"#f0f921\"]]}],\"mesh3d\":[{\"type\":\"mesh3d\",\"colorbar\":{\"outlinewidth\":0,\"ticks\":\"\"}}],\"scatter\":[{\"fillpattern\":{\"fillmode\":\"overlay\",\"size\":10,\"solidity\":0.2},\"type\":\"scatter\"}],\"parcoords\":[{\"type\":\"parcoords\",\"line\":{\"colorbar\":{\"outlinewidth\":0,\"ticks\":\"\"}}}],\"scatterpolargl\":[{\"type\":\"scatterpolargl\",\"marker\":{\"colorbar\":{\"outlinewidth\":0,\"ticks\":\"\"}}}],\"bar\":[{\"error_x\":{\"color\":\"#2a3f5f\"},\"error_y\":{\"color\":\"#2a3f5f\"},\"marker\":{\"line\":{\"color\":\"#E5ECF6\",\"width\":0.5},\"pattern\":{\"fillmode\":\"overlay\",\"size\":10,\"solidity\":0.2}},\"type\":\"bar\"}],\"scattergeo\":[{\"type\":\"scattergeo\",\"marker\":{\"colorbar\":{\"outlinewidth\":0,\"ticks\":\"\"}}}],\"scatterpolar\":[{\"type\":\"scatterpolar\",\"marker\":{\"colorbar\":{\"outlinewidth\":0,\"ticks\":\"\"}}}],\"histogram\":[{\"marker\":{\"pattern\":{\"fillmode\":\"overlay\",\"size\":10,\"solidity\":0.2}},\"type\":\"histogram\"}],\"scattergl\":[{\"type\":\"scattergl\",\"marker\":{\"colorbar\":{\"outlinewidth\":0,\"ticks\":\"\"}}}],\"scatter3d\":[{\"type\":\"scatter3d\",\"line\":{\"colorbar\":{\"outlinewidth\":0,\"ticks\":\"\"}},\"marker\":{\"colorbar\":{\"outlinewidth\":0,\"ticks\":\"\"}}}],\"scattermapbox\":[{\"type\":\"scattermapbox\",\"marker\":{\"colorbar\":{\"outlinewidth\":0,\"ticks\":\"\"}}}],\"scatterternary\":[{\"type\":\"scatterternary\",\"marker\":{\"colorbar\":{\"outlinewidth\":0,\"ticks\":\"\"}}}],\"scattercarpet\":[{\"type\":\"scattercarpet\",\"marker\":{\"colorbar\":{\"outlinewidth\":0,\"ticks\":\"\"}}}],\"carpet\":[{\"aaxis\":{\"endlinecolor\":\"#2a3f5f\",\"gridcolor\":\"white\",\"linecolor\":\"white\",\"minorgridcolor\":\"white\",\"startlinecolor\":\"#2a3f5f\"},\"baxis\":{\"endlinecolor\":\"#2a3f5f\",\"gridcolor\":\"white\",\"linecolor\":\"white\",\"minorgridcolor\":\"white\",\"startlinecolor\":\"#2a3f5f\"},\"type\":\"carpet\"}],\"table\":[{\"cells\":{\"fill\":{\"color\":\"#EBF0F8\"},\"line\":{\"color\":\"white\"}},\"header\":{\"fill\":{\"color\":\"#C8D4E3\"},\"line\":{\"color\":\"white\"}},\"type\":\"table\"}],\"barpolar\":[{\"marker\":{\"line\":{\"color\":\"#E5ECF6\",\"width\":0.5},\"pattern\":{\"fillmode\":\"overlay\",\"size\":10,\"solidity\":0.2}},\"type\":\"barpolar\"}],\"pie\":[{\"automargin\":true,\"type\":\"pie\"}]},\"layout\":{\"autotypenumbers\":\"strict\",\"colorway\":[\"#636efa\",\"#EF553B\",\"#00cc96\",\"#ab63fa\",\"#FFA15A\",\"#19d3f3\",\"#FF6692\",\"#B6E880\",\"#FF97FF\",\"#FECB52\"],\"font\":{\"color\":\"#2a3f5f\"},\"hovermode\":\"closest\",\"hoverlabel\":{\"align\":\"left\"},\"paper_bgcolor\":\"white\",\"plot_bgcolor\":\"#E5ECF6\",\"polar\":{\"bgcolor\":\"#E5ECF6\",\"angularaxis\":{\"gridcolor\":\"white\",\"linecolor\":\"white\",\"ticks\":\"\"},\"radialaxis\":{\"gridcolor\":\"white\",\"linecolor\":\"white\",\"ticks\":\"\"}},\"ternary\":{\"bgcolor\":\"#E5ECF6\",\"aaxis\":{\"gridcolor\":\"white\",\"linecolor\":\"white\",\"ticks\":\"\"},\"baxis\":{\"gridcolor\":\"white\",\"linecolor\":\"white\",\"ticks\":\"\"},\"caxis\":{\"gridcolor\":\"white\",\"linecolor\":\"white\",\"ticks\":\"\"}},\"coloraxis\":{\"colorbar\":{\"outlinewidth\":0,\"ticks\":\"\"}},\"colorscale\":{\"sequential\":[[0.0,\"#0d0887\"],[0.1111111111111111,\"#46039f\"],[0.2222222222222222,\"#7201a8\"],[0.3333333333333333,\"#9c179e\"],[0.4444444444444444,\"#bd3786\"],[0.5555555555555556,\"#d8576b\"],[0.6666666666666666,\"#ed7953\"],[0.7777777777777778,\"#fb9f3a\"],[0.8888888888888888,\"#fdca26\"],[1.0,\"#f0f921\"]],\"sequentialminus\":[[0.0,\"#0d0887\"],[0.1111111111111111,\"#46039f\"],[0.2222222222222222,\"#7201a8\"],[0.3333333333333333,\"#9c179e\"],[0.4444444444444444,\"#bd3786\"],[0.5555555555555556,\"#d8576b\"],[0.6666666666666666,\"#ed7953\"],[0.7777777777777778,\"#fb9f3a\"],[0.8888888888888888,\"#fdca26\"],[1.0,\"#f0f921\"]],\"diverging\":[[0,\"#8e0152\"],[0.1,\"#c51b7d\"],[0.2,\"#de77ae\"],[0.3,\"#f1b6da\"],[0.4,\"#fde0ef\"],[0.5,\"#f7f7f7\"],[0.6,\"#e6f5d0\"],[0.7,\"#b8e186\"],[0.8,\"#7fbc41\"],[0.9,\"#4d9221\"],[1,\"#276419\"]]},\"xaxis\":{\"gridcolor\":\"white\",\"linecolor\":\"white\",\"ticks\":\"\",\"title\":{\"standoff\":15},\"zerolinecolor\":\"white\",\"automargin\":true,\"zerolinewidth\":2},\"yaxis\":{\"gridcolor\":\"white\",\"linecolor\":\"white\",\"ticks\":\"\",\"title\":{\"standoff\":15},\"zerolinecolor\":\"white\",\"automargin\":true,\"zerolinewidth\":2},\"scene\":{\"xaxis\":{\"backgroundcolor\":\"#E5ECF6\",\"gridcolor\":\"white\",\"linecolor\":\"white\",\"showbackground\":true,\"ticks\":\"\",\"zerolinecolor\":\"white\",\"gridwidth\":2},\"yaxis\":{\"backgroundcolor\":\"#E5ECF6\",\"gridcolor\":\"white\",\"linecolor\":\"white\",\"showbackground\":true,\"ticks\":\"\",\"zerolinecolor\":\"white\",\"gridwidth\":2},\"zaxis\":{\"backgroundcolor\":\"#E5ECF6\",\"gridcolor\":\"white\",\"linecolor\":\"white\",\"showbackground\":true,\"ticks\":\"\",\"zerolinecolor\":\"white\",\"gridwidth\":2}},\"shapedefaults\":{\"line\":{\"color\":\"#2a3f5f\"}},\"annotationdefaults\":{\"arrowcolor\":\"#2a3f5f\",\"arrowhead\":0,\"arrowwidth\":1},\"geo\":{\"bgcolor\":\"white\",\"landcolor\":\"#E5ECF6\",\"subunitcolor\":\"white\",\"showland\":true,\"showlakes\":true,\"lakecolor\":\"white\"},\"title\":{\"x\":0.05},\"mapbox\":{\"style\":\"light\"}}},\"xaxis\":{\"anchor\":\"y\",\"domain\":[0.0,1.0],\"title\":{\"text\":\"season_name\"},\"type\":\"category\"},\"yaxis\":{\"anchor\":\"x\",\"domain\":[0.0,1.0],\"title\":{\"text\":\"Percentage\"}},\"legend\":{\"title\":{\"text\":\"variable\"},\"tracegroupgap\":0},\"title\":{\"text\":\"Shots with missing distance information per season\"},\"barmode\":\"relative\"},                        {\"responsive\": true}                    ).then(function(){\n                            \nvar gd = document.getElementById('312c8772-4966-4613-8fd9-dd23572a842d');\nvar x = new MutationObserver(function (mutations, observer) {{\n        var display = window.getComputedStyle(gd).display;\n        if (!display || display === 'none') {{\n            console.log([gd, 'removed!']);\n            Plotly.purge(gd);\n            observer.disconnect();\n        }}\n}});\n\n// Listen for the removal of the full notebook cells\nvar notebookContainer = gd.closest('#notebook-container');\nif (notebookContainer) {{\n    x.observe(notebookContainer, {childList: true});\n}}\n\n// Listen for the clearing of the current output cell\nvar outputEl = gd.closest('.output');\nif (outputEl) {{\n    x.observe(outputEl, {childList: true});\n}}\n\n                        })                };                });            </script>        </div>"
     },
     "metadata": {},
     "output_type": "display_data"
    }
   ],
   "source": [
    "colors = px.colors.qualitative.T10\n",
    "fig = px.bar(missing_distance_info,\n",
    "             x = missing_distance_info.index,\n",
    "             y = [missing_distance_info[\"Present\"],missing_distance_info[\"Missing\"]],\n",
    "             text_auto='.3f',\n",
    "             color_discrete_sequence = colors,\n",
    "             title = 'Shots with missing distance information per season'\n",
    "             )\n",
    "#fig.update_yaxes(range = [0,3.5])\n",
    "fig.update_layout(yaxis_title=\"Percentage\",xaxis={'type': 'category'})\n",
    "fig.update_traces(textfont_size=20, textangle=0, textposition=\"outside\", cliponaxis=False)\n",
    "#missing_shot_info\n",
    "fig.show()"
   ],
   "metadata": {
    "collapsed": false,
    "pycharm": {
     "name": "#%%\n"
    }
   }
  },
  {
   "cell_type": "code",
   "execution_count": 97,
   "metadata": {},
   "outputs": [
    {
     "data": {
      "text/plain": "                [0-5)    [5-10)   [10-15)   [15-20)   [20-25)   [25-30)  \\\nseason_name                                                               \n2000-01      0.108230  0.168037  0.146715  0.280717  0.150293  0.139434   \n2001-02      0.089247  0.157876  0.147664  0.285992  0.159674  0.153050   \n2002-03      0.091795  0.159671  0.144361  0.280249  0.171738  0.145788   \n2003-04      0.098741  0.155560  0.138619  0.274097  0.174699  0.151704   \n2004-05      0.105474  0.142735  0.124935  0.276917  0.184057  0.158943   \n2005-06      0.110033  0.141552  0.113715  0.271293  0.188894  0.167345   \n2006-07      0.110543  0.140902  0.111409  0.262561  0.188137  0.179085   \n2007-08      0.095674  0.135952  0.116957  0.249739  0.201856  0.191483   \n2008-09      0.106798  0.137641  0.116416  0.249714  0.189380  0.191914   \n2009-10      0.118019  0.144233  0.113659  0.245283  0.180330  0.190514   \n2010-11      0.321461  0.124195  0.085959  0.183821  0.136392  0.142285   \n2011-12      0.326093  0.119261  0.086192  0.181389  0.133574  0.147934   \n2012-13      0.332562  0.115253  0.084064  0.170107  0.127786  0.164663   \n2013-14      0.328880  0.119024  0.082499  0.161792  0.121825  0.180010   \n2014-15      0.299816  0.124075  0.085808  0.164178  0.128004  0.192218   \n2015-16      0.303071  0.118013  0.087015  0.153804  0.137033  0.194941   \n2016-17      0.295586  0.114075  0.084299  0.138232  0.127435  0.232935   \n2017-18      0.337761  0.106735  0.093011  0.107084  0.086582  0.259960   \n2018-19      0.354589  0.109267  0.087174  0.086635  0.076049  0.276868   \n\n              [30-35)   [35-40)   [40-47)     [47+)  \nseason_name                                          \n2000-01      0.001772  0.001010  0.001952  0.001841  \n2001-02      0.001564  0.001097  0.001769  0.002067  \n2002-03      0.001327  0.000969  0.001779  0.002324  \n2003-04      0.001417  0.000971  0.001920  0.002271  \n2004-05      0.001471  0.001097  0.001953  0.002419  \n2005-06      0.001660  0.001011  0.001956  0.002541  \n2006-07      0.001718  0.001075  0.002050  0.002519  \n2007-08      0.001914  0.001299  0.002041  0.003086  \n2008-09      0.001997  0.001159  0.002004  0.002977  \n2009-10      0.001949  0.001142  0.001773  0.003098  \n2010-11      0.001345  0.000953  0.001286  0.002303  \n2011-12      0.001678  0.000899  0.001199  0.001778  \n2012-13      0.001711  0.000727  0.001139  0.001989  \n2013-14      0.001905  0.000769  0.001205  0.002090  \n2014-15      0.002005  0.000730  0.001117  0.002049  \n2015-16      0.002250  0.000771  0.000986  0.002116  \n2016-17      0.003337  0.000674  0.001045  0.002382  \n2017-18      0.004947  0.000698  0.000946  0.002276  \n2018-19      0.005933  0.000765  0.000770  0.001951  ",
      "text/html": "<div>\n<style scoped>\n    .dataframe tbody tr th:only-of-type {\n        vertical-align: middle;\n    }\n\n    .dataframe tbody tr th {\n        vertical-align: top;\n    }\n\n    .dataframe thead th {\n        text-align: right;\n    }\n</style>\n<table border=\"1\" class=\"dataframe\">\n  <thead>\n    <tr style=\"text-align: right;\">\n      <th></th>\n      <th>[0-5)</th>\n      <th>[5-10)</th>\n      <th>[10-15)</th>\n      <th>[15-20)</th>\n      <th>[20-25)</th>\n      <th>[25-30)</th>\n      <th>[30-35)</th>\n      <th>[35-40)</th>\n      <th>[40-47)</th>\n      <th>[47+)</th>\n    </tr>\n    <tr>\n      <th>season_name</th>\n      <th></th>\n      <th></th>\n      <th></th>\n      <th></th>\n      <th></th>\n      <th></th>\n      <th></th>\n      <th></th>\n      <th></th>\n      <th></th>\n    </tr>\n  </thead>\n  <tbody>\n    <tr>\n      <th>2000-01</th>\n      <td>0.108230</td>\n      <td>0.168037</td>\n      <td>0.146715</td>\n      <td>0.280717</td>\n      <td>0.150293</td>\n      <td>0.139434</td>\n      <td>0.001772</td>\n      <td>0.001010</td>\n      <td>0.001952</td>\n      <td>0.001841</td>\n    </tr>\n    <tr>\n      <th>2001-02</th>\n      <td>0.089247</td>\n      <td>0.157876</td>\n      <td>0.147664</td>\n      <td>0.285992</td>\n      <td>0.159674</td>\n      <td>0.153050</td>\n      <td>0.001564</td>\n      <td>0.001097</td>\n      <td>0.001769</td>\n      <td>0.002067</td>\n    </tr>\n    <tr>\n      <th>2002-03</th>\n      <td>0.091795</td>\n      <td>0.159671</td>\n      <td>0.144361</td>\n      <td>0.280249</td>\n      <td>0.171738</td>\n      <td>0.145788</td>\n      <td>0.001327</td>\n      <td>0.000969</td>\n      <td>0.001779</td>\n      <td>0.002324</td>\n    </tr>\n    <tr>\n      <th>2003-04</th>\n      <td>0.098741</td>\n      <td>0.155560</td>\n      <td>0.138619</td>\n      <td>0.274097</td>\n      <td>0.174699</td>\n      <td>0.151704</td>\n      <td>0.001417</td>\n      <td>0.000971</td>\n      <td>0.001920</td>\n      <td>0.002271</td>\n    </tr>\n    <tr>\n      <th>2004-05</th>\n      <td>0.105474</td>\n      <td>0.142735</td>\n      <td>0.124935</td>\n      <td>0.276917</td>\n      <td>0.184057</td>\n      <td>0.158943</td>\n      <td>0.001471</td>\n      <td>0.001097</td>\n      <td>0.001953</td>\n      <td>0.002419</td>\n    </tr>\n    <tr>\n      <th>2005-06</th>\n      <td>0.110033</td>\n      <td>0.141552</td>\n      <td>0.113715</td>\n      <td>0.271293</td>\n      <td>0.188894</td>\n      <td>0.167345</td>\n      <td>0.001660</td>\n      <td>0.001011</td>\n      <td>0.001956</td>\n      <td>0.002541</td>\n    </tr>\n    <tr>\n      <th>2006-07</th>\n      <td>0.110543</td>\n      <td>0.140902</td>\n      <td>0.111409</td>\n      <td>0.262561</td>\n      <td>0.188137</td>\n      <td>0.179085</td>\n      <td>0.001718</td>\n      <td>0.001075</td>\n      <td>0.002050</td>\n      <td>0.002519</td>\n    </tr>\n    <tr>\n      <th>2007-08</th>\n      <td>0.095674</td>\n      <td>0.135952</td>\n      <td>0.116957</td>\n      <td>0.249739</td>\n      <td>0.201856</td>\n      <td>0.191483</td>\n      <td>0.001914</td>\n      <td>0.001299</td>\n      <td>0.002041</td>\n      <td>0.003086</td>\n    </tr>\n    <tr>\n      <th>2008-09</th>\n      <td>0.106798</td>\n      <td>0.137641</td>\n      <td>0.116416</td>\n      <td>0.249714</td>\n      <td>0.189380</td>\n      <td>0.191914</td>\n      <td>0.001997</td>\n      <td>0.001159</td>\n      <td>0.002004</td>\n      <td>0.002977</td>\n    </tr>\n    <tr>\n      <th>2009-10</th>\n      <td>0.118019</td>\n      <td>0.144233</td>\n      <td>0.113659</td>\n      <td>0.245283</td>\n      <td>0.180330</td>\n      <td>0.190514</td>\n      <td>0.001949</td>\n      <td>0.001142</td>\n      <td>0.001773</td>\n      <td>0.003098</td>\n    </tr>\n    <tr>\n      <th>2010-11</th>\n      <td>0.321461</td>\n      <td>0.124195</td>\n      <td>0.085959</td>\n      <td>0.183821</td>\n      <td>0.136392</td>\n      <td>0.142285</td>\n      <td>0.001345</td>\n      <td>0.000953</td>\n      <td>0.001286</td>\n      <td>0.002303</td>\n    </tr>\n    <tr>\n      <th>2011-12</th>\n      <td>0.326093</td>\n      <td>0.119261</td>\n      <td>0.086192</td>\n      <td>0.181389</td>\n      <td>0.133574</td>\n      <td>0.147934</td>\n      <td>0.001678</td>\n      <td>0.000899</td>\n      <td>0.001199</td>\n      <td>0.001778</td>\n    </tr>\n    <tr>\n      <th>2012-13</th>\n      <td>0.332562</td>\n      <td>0.115253</td>\n      <td>0.084064</td>\n      <td>0.170107</td>\n      <td>0.127786</td>\n      <td>0.164663</td>\n      <td>0.001711</td>\n      <td>0.000727</td>\n      <td>0.001139</td>\n      <td>0.001989</td>\n    </tr>\n    <tr>\n      <th>2013-14</th>\n      <td>0.328880</td>\n      <td>0.119024</td>\n      <td>0.082499</td>\n      <td>0.161792</td>\n      <td>0.121825</td>\n      <td>0.180010</td>\n      <td>0.001905</td>\n      <td>0.000769</td>\n      <td>0.001205</td>\n      <td>0.002090</td>\n    </tr>\n    <tr>\n      <th>2014-15</th>\n      <td>0.299816</td>\n      <td>0.124075</td>\n      <td>0.085808</td>\n      <td>0.164178</td>\n      <td>0.128004</td>\n      <td>0.192218</td>\n      <td>0.002005</td>\n      <td>0.000730</td>\n      <td>0.001117</td>\n      <td>0.002049</td>\n    </tr>\n    <tr>\n      <th>2015-16</th>\n      <td>0.303071</td>\n      <td>0.118013</td>\n      <td>0.087015</td>\n      <td>0.153804</td>\n      <td>0.137033</td>\n      <td>0.194941</td>\n      <td>0.002250</td>\n      <td>0.000771</td>\n      <td>0.000986</td>\n      <td>0.002116</td>\n    </tr>\n    <tr>\n      <th>2016-17</th>\n      <td>0.295586</td>\n      <td>0.114075</td>\n      <td>0.084299</td>\n      <td>0.138232</td>\n      <td>0.127435</td>\n      <td>0.232935</td>\n      <td>0.003337</td>\n      <td>0.000674</td>\n      <td>0.001045</td>\n      <td>0.002382</td>\n    </tr>\n    <tr>\n      <th>2017-18</th>\n      <td>0.337761</td>\n      <td>0.106735</td>\n      <td>0.093011</td>\n      <td>0.107084</td>\n      <td>0.086582</td>\n      <td>0.259960</td>\n      <td>0.004947</td>\n      <td>0.000698</td>\n      <td>0.000946</td>\n      <td>0.002276</td>\n    </tr>\n    <tr>\n      <th>2018-19</th>\n      <td>0.354589</td>\n      <td>0.109267</td>\n      <td>0.087174</td>\n      <td>0.086635</td>\n      <td>0.076049</td>\n      <td>0.276868</td>\n      <td>0.005933</td>\n      <td>0.000765</td>\n      <td>0.000770</td>\n      <td>0.001951</td>\n    </tr>\n  </tbody>\n</table>\n</div>"
     },
     "execution_count": 97,
     "metadata": {},
     "output_type": "execute_result"
    }
   ],
   "source": [
    "per_season_stats = {}\n",
    "\n",
    "#For 0-5\n",
    "per_season_stats[\"[0-5)\"] = get_percentage(\"[0-5)\")\n",
    "\n",
    "#For 5-10\n",
    "per_season_stats[\"[5-10)\"] = get_percentage(\"[5-10)\")\n",
    "\n",
    "#For 10-15\n",
    "per_season_stats[\"[10-15)\"] = get_percentage(\"[10-15)\")\n",
    "\n",
    "#For 15-20\n",
    "per_season_stats[\"[15-20)\"] = get_percentage(\"[15-20)\")\n",
    "\n",
    "#For 20-25\n",
    "per_season_stats[\"[20-25)\"] = get_percentage(\"[20-25)\")\n",
    "\n",
    "#For 25-30\n",
    "per_season_stats[\"[25-30)\"] = get_percentage(\"[25-30)\")\n",
    "\n",
    "#For 30-35\n",
    "per_season_stats[\"[30-35)\"] = get_percentage(\"[30-35)\")\n",
    "\n",
    "#For 35-40\n",
    "per_season_stats[\"[35-40)\"] = get_percentage(\"[35-40)\")\n",
    "\n",
    "#For 40-47\n",
    "per_season_stats[\"[40-47)\"] = get_percentage(\"[40-47)\")\n",
    "\n",
    "#For 47+\n",
    "per_season_stats[\"[47+)\"] = get_percentage(\"[47+)\")\n",
    "\n",
    "\n",
    "per_season_stats = pd.DataFrame(per_season_stats)\n",
    "\n",
    "per_season_stats = per_season_stats.div(per_season_stats.sum(axis=1), axis=0)\n",
    "per_season_stats\n"
   ]
  },
  {
   "cell_type": "code",
   "execution_count": 98,
   "metadata": {
    "pycharm": {
     "name": "#%%\n"
    }
   },
   "outputs": [
    {
     "data": {
      "application/vnd.plotly.v1+json": {
       "data": [
        {
         "alignmentgroup": "True",
         "hovertemplate": "variable=[0-5)<br>season_name=%{x}<br>value=%{y}<extra></extra>",
         "legendgroup": "[0-5)",
         "marker": {
          "color": "#4C78A8",
          "pattern": {
           "shape": ""
          }
         },
         "name": "[0-5)",
         "offsetgroup": "[0-5)",
         "orientation": "v",
         "showlegend": true,
         "textposition": "auto",
         "x": [
          "2000-01",
          "2001-02",
          "2002-03",
          "2003-04",
          "2004-05",
          "2005-06",
          "2006-07",
          "2007-08",
          "2008-09",
          "2009-10",
          "2010-11",
          "2011-12",
          "2012-13",
          "2013-14",
          "2014-15",
          "2015-16",
          "2016-17",
          "2017-18",
          "2018-19"
         ],
         "xaxis": "x",
         "y": [
          0.10822987169372586,
          0.08924653559245262,
          0.09179478717527459,
          0.09874109124897769,
          0.10547353080585485,
          0.11003306334011925,
          0.11054329702691583,
          0.09567421760253078,
          0.10679833977386576,
          0.11801895256252103,
          0.3214610942672566,
          0.326093472136192,
          0.33256159637265803,
          0.3288801861268147,
          0.2998158299096586,
          0.3030713688856512,
          0.29558610517156303,
          0.3377610067983166,
          0.3545891351245342
         ],
         "yaxis": "y",
         "type": "bar"
        },
        {
         "alignmentgroup": "True",
         "hovertemplate": "variable=[5-10)<br>season_name=%{x}<br>value=%{y}<extra></extra>",
         "legendgroup": "[5-10)",
         "marker": {
          "color": "#F58518",
          "pattern": {
           "shape": ""
          }
         },
         "name": "[5-10)",
         "offsetgroup": "[5-10)",
         "orientation": "v",
         "showlegend": true,
         "textposition": "auto",
         "x": [
          "2000-01",
          "2001-02",
          "2002-03",
          "2003-04",
          "2004-05",
          "2005-06",
          "2006-07",
          "2007-08",
          "2008-09",
          "2009-10",
          "2010-11",
          "2011-12",
          "2012-13",
          "2013-14",
          "2014-15",
          "2015-16",
          "2016-17",
          "2017-18",
          "2018-19"
         ],
         "xaxis": "x",
         "y": [
          0.1680369278467522,
          0.15787648449332597,
          0.15967055751253703,
          0.15555993690851735,
          0.14273485529136276,
          0.14155152250184086,
          0.14090210259630584,
          0.13595215229917523,
          0.13764133390582511,
          0.14423292587193,
          0.12419515539794945,
          0.11926122777922087,
          0.11525258790315682,
          0.11902430807777743,
          0.12407506293386224,
          0.11801255543890472,
          0.11407469504915824,
          0.10673458238912269,
          0.10926652284761718
         ],
         "yaxis": "y",
         "type": "bar"
        },
        {
         "alignmentgroup": "True",
         "hovertemplate": "variable=[10-15)<br>season_name=%{x}<br>value=%{y}<extra></extra>",
         "legendgroup": "[10-15)",
         "marker": {
          "color": "#E45756",
          "pattern": {
           "shape": ""
          }
         },
         "name": "[10-15)",
         "offsetgroup": "[10-15)",
         "orientation": "v",
         "showlegend": true,
         "textposition": "auto",
         "x": [
          "2000-01",
          "2001-02",
          "2002-03",
          "2003-04",
          "2004-05",
          "2005-06",
          "2006-07",
          "2007-08",
          "2008-09",
          "2009-10",
          "2010-11",
          "2011-12",
          "2012-13",
          "2013-14",
          "2014-15",
          "2015-16",
          "2016-17",
          "2017-18",
          "2018-19"
         ],
         "xaxis": "x",
         "y": [
          0.14671483342329997,
          0.14766373660594223,
          0.1443606649113619,
          0.13861870545624488,
          0.12493544530360162,
          0.11371478898658696,
          0.11140945410450186,
          0.11695712348887131,
          0.11641620151710319,
          0.11365930245598295,
          0.08595901050985098,
          0.08619231255952738,
          0.0840640773376679,
          0.08249902620303404,
          0.08580800540522869,
          0.0870149765388983,
          0.08429854674144308,
          0.09301149239235999,
          0.08717395567758383
         ],
         "yaxis": "y",
         "type": "bar"
        },
        {
         "alignmentgroup": "True",
         "hovertemplate": "variable=[15-20)<br>season_name=%{x}<br>value=%{y}<extra></extra>",
         "legendgroup": "[15-20)",
         "marker": {
          "color": "#72B7B2",
          "pattern": {
           "shape": ""
          }
         },
         "name": "[15-20)",
         "offsetgroup": "[15-20)",
         "orientation": "v",
         "showlegend": true,
         "textposition": "auto",
         "x": [
          "2000-01",
          "2001-02",
          "2002-03",
          "2003-04",
          "2004-05",
          "2005-06",
          "2006-07",
          "2007-08",
          "2008-09",
          "2009-10",
          "2010-11",
          "2011-12",
          "2012-13",
          "2013-14",
          "2014-15",
          "2015-16",
          "2016-17",
          "2017-18",
          "2018-19"
         ],
         "xaxis": "x",
         "y": [
          0.2807166881202508,
          0.28599232805356206,
          0.2802485167196367,
          0.2740974412898703,
          0.2769166554653951,
          0.2712926466554049,
          0.26256108211890894,
          0.24973873008699582,
          0.2497137541147846,
          0.2452828866210609,
          0.18382061473521819,
          0.18138949387575679,
          0.1701065103943879,
          0.16179241806946068,
          0.16417837254666914,
          0.15380412658282092,
          0.13823200140073114,
          0.10708360310780188,
          0.08663463424200823
         ],
         "yaxis": "y",
         "type": "bar"
        },
        {
         "alignmentgroup": "True",
         "hovertemplate": "variable=[20-25)<br>season_name=%{x}<br>value=%{y}<extra></extra>",
         "legendgroup": "[20-25)",
         "marker": {
          "color": "#54A24B",
          "pattern": {
           "shape": ""
          }
         },
         "name": "[20-25)",
         "offsetgroup": "[20-25)",
         "orientation": "v",
         "showlegend": true,
         "textposition": "auto",
         "x": [
          "2000-01",
          "2001-02",
          "2002-03",
          "2003-04",
          "2004-05",
          "2005-06",
          "2006-07",
          "2007-08",
          "2008-09",
          "2009-10",
          "2010-11",
          "2011-12",
          "2012-13",
          "2013-14",
          "2014-15",
          "2015-16",
          "2016-17",
          "2017-18",
          "2018-19"
         ],
         "xaxis": "x",
         "y": [
          0.15029273761574555,
          0.15967415459962914,
          0.17173767998450357,
          0.17469914709662343,
          0.18405693547360155,
          0.1888941828734786,
          0.18813653522733015,
          0.2018557225172297,
          0.18938027765850865,
          0.18032970730066167,
          0.13639236776979033,
          0.1335744400263752,
          0.12778573872871932,
          0.12182463232584825,
          0.12800366160652987,
          0.13703318835300923,
          0.12743469886933406,
          0.08658242958886371,
          0.07604922533830162
         ],
         "yaxis": "y",
         "type": "bar"
        },
        {
         "alignmentgroup": "True",
         "hovertemplate": "variable=[25-30)<br>season_name=%{x}<br>value=%{y}<extra></extra>",
         "legendgroup": "[25-30)",
         "marker": {
          "color": "#EECA3B",
          "pattern": {
           "shape": ""
          }
         },
         "name": "[25-30)",
         "offsetgroup": "[25-30)",
         "orientation": "v",
         "showlegend": true,
         "textposition": "auto",
         "x": [
          "2000-01",
          "2001-02",
          "2002-03",
          "2003-04",
          "2004-05",
          "2005-06",
          "2006-07",
          "2007-08",
          "2008-09",
          "2009-10",
          "2010-11",
          "2011-12",
          "2012-13",
          "2013-14",
          "2014-15",
          "2015-16",
          "2016-17",
          "2017-18",
          "2018-19"
         ],
         "xaxis": "x",
         "y": [
          0.13943445584021924,
          0.15304966948348833,
          0.14578834468063737,
          0.1517043463021381,
          0.1589425056419036,
          0.16734525923679994,
          0.17908519376655624,
          0.19148260083606372,
          0.19191355374266494,
          0.19051390602220478,
          0.1422847408962835,
          0.14793427511472548,
          0.16466335871332022,
          0.18001031698407183,
          0.19221799636018874,
          0.1949414008098901,
          0.23293522149061138,
          0.2599597361605698,
          0.27686801333594824
         ],
         "yaxis": "y",
         "type": "bar"
        },
        {
         "alignmentgroup": "True",
         "hovertemplate": "variable=[30-35)<br>season_name=%{x}<br>value=%{y}<extra></extra>",
         "legendgroup": "[30-35)",
         "marker": {
          "color": "#B279A2",
          "pattern": {
           "shape": ""
          }
         },
         "name": "[30-35)",
         "offsetgroup": "[30-35)",
         "orientation": "v",
         "showlegend": true,
         "textposition": "auto",
         "x": [
          "2000-01",
          "2001-02",
          "2002-03",
          "2003-04",
          "2004-05",
          "2005-06",
          "2006-07",
          "2007-08",
          "2008-09",
          "2009-10",
          "2010-11",
          "2011-12",
          "2012-13",
          "2013-14",
          "2014-15",
          "2015-16",
          "2016-17",
          "2017-18",
          "2018-19"
         ],
         "xaxis": "x",
         "y": [
          0.0017716508186964525,
          0.0015641145413110252,
          0.001327239986512372,
          0.0014166374576469213,
          0.0014714933535192036,
          0.0016603860758579864,
          0.0017178782038789401,
          0.001913625579030618,
          0.0019965650493774154,
          0.0019485252887742515,
          0.0013445324134088985,
          0.0016784222830539294,
          0.0017110103516126273,
          0.001905483792860226,
          0.0020051654806403454,
          0.002249694684292846,
          0.0033373480551590943,
          0.004946989316931045,
          0.005932535791331634
         ],
         "yaxis": "y",
         "type": "bar"
        },
        {
         "alignmentgroup": "True",
         "hovertemplate": "variable=[35-40)<br>season_name=%{x}<br>value=%{y}<extra></extra>",
         "legendgroup": "[35-40)",
         "marker": {
          "color": "#FF9DA6",
          "pattern": {
           "shape": ""
          }
         },
         "name": "[35-40)",
         "offsetgroup": "[35-40)",
         "orientation": "v",
         "showlegend": true,
         "textposition": "auto",
         "x": [
          "2000-01",
          "2001-02",
          "2002-03",
          "2003-04",
          "2004-05",
          "2005-06",
          "2006-07",
          "2007-08",
          "2008-09",
          "2009-10",
          "2010-11",
          "2011-12",
          "2012-13",
          "2013-14",
          "2014-15",
          "2015-16",
          "2016-17",
          "2017-18",
          "2018-19"
         ],
         "xaxis": "x",
         "y": [
          0.0010103946075378206,
          0.0010970034113267373,
          9.685264766441634E-4,
          9.711999065311368E-4,
          0.0010965455278628682,
          0.0010106697853048614,
          0.0010754783713359751,
          0.0012992882160207887,
          0.0011592958351223702,
          0.0011424806549287876,
          9.53493105923442E-4,
          8.991547944931764E-4,
          7.271793994353666E-4,
          7.685100380044005E-4,
          7.301417782766475E-4,
          7.713238917575472E-4,
          6.738365707554928E-4,
          6.980414373583684E-4,
          7.648558540890371E-4
         ],
         "yaxis": "y",
         "type": "bar"
        },
        {
         "alignmentgroup": "True",
         "hovertemplate": "variable=[40-47)<br>season_name=%{x}<br>value=%{y}<extra></extra>",
         "legendgroup": "[40-47)",
         "marker": {
          "color": "#9D755D",
          "pattern": {
           "shape": ""
          }
         },
         "name": "[40-47)",
         "offsetgroup": "[40-47)",
         "orientation": "v",
         "showlegend": true,
         "textposition": "auto",
         "x": [
          "2000-01",
          "2001-02",
          "2002-03",
          "2003-04",
          "2004-05",
          "2005-06",
          "2006-07",
          "2007-08",
          "2008-09",
          "2009-10",
          "2010-11",
          "2011-12",
          "2012-13",
          "2013-14",
          "2014-15",
          "2015-16",
          "2016-17",
          "2017-18",
          "2018-19"
         ],
         "xaxis": "x",
         "y": [
          0.001951584104970311,
          0.001769360340849576,
          0.001779219008946315,
          0.0019204930482533006,
          0.0019525584883235587,
          0.00195636794155441,
          0.0020499050836202477,
          0.0020407298610326517,
          0.0020037211965078,
          0.0017732981944600201,
          0.0012856086821439667,
          0.0011988730593242352,
          0.001138891265292155,
          0.0012054027308425186,
          0.0011170079443784532,
          9.855805283568659E-4,
          0.001045242554636473,
          9.458967303334413E-4,
          7.697587762306334E-4
         ],
         "yaxis": "y",
         "type": "bar"
        },
        {
         "alignmentgroup": "True",
         "hovertemplate": "variable=[47+)<br>season_name=%{x}<br>value=%{y}<extra></extra>",
         "legendgroup": "[47+)",
         "marker": {
          "color": "#BAB0AC",
          "pattern": {
           "shape": ""
          }
         },
         "name": "[47+)",
         "offsetgroup": "[47+)",
         "orientation": "v",
         "showlegend": true,
         "textposition": "auto",
         "x": [
          "2000-01",
          "2001-02",
          "2002-03",
          "2003-04",
          "2004-05",
          "2005-06",
          "2006-07",
          "2007-08",
          "2008-09",
          "2009-10",
          "2010-11",
          "2011-12",
          "2012-13",
          "2013-14",
          "2014-15",
          "2015-16",
          "2016-17",
          "2017-18",
          "2018-19"
         ],
         "xaxis": "x",
         "y": [
          0.0018408559288017826,
          0.002066612878112305,
          0.002324463543945992,
          0.0022710012851968686,
          0.0024194746485748445,
          0.0025411126030522226,
          0.0025190735006460087,
          0.003085809513049373,
          0.0029769572062401605,
          0.0030980150274756086,
          0.002303382222174607,
          0.0017783283713309489,
          0.001989049533749679,
          0.002089715651285938,
          0.002048756034567309,
          0.002115784286418272,
          0.002382304096608002,
          0.0022762220783425057,
          0.0019513630123553637
         ],
         "yaxis": "y",
         "type": "bar"
        }
       ],
       "layout": {
        "template": {
         "data": {
          "histogram2dcontour": [
           {
            "type": "histogram2dcontour",
            "colorbar": {
             "outlinewidth": 0,
             "ticks": ""
            },
            "colorscale": [
             [
              0.0,
              "#0d0887"
             ],
             [
              0.1111111111111111,
              "#46039f"
             ],
             [
              0.2222222222222222,
              "#7201a8"
             ],
             [
              0.3333333333333333,
              "#9c179e"
             ],
             [
              0.4444444444444444,
              "#bd3786"
             ],
             [
              0.5555555555555556,
              "#d8576b"
             ],
             [
              0.6666666666666666,
              "#ed7953"
             ],
             [
              0.7777777777777778,
              "#fb9f3a"
             ],
             [
              0.8888888888888888,
              "#fdca26"
             ],
             [
              1.0,
              "#f0f921"
             ]
            ]
           }
          ],
          "choropleth": [
           {
            "type": "choropleth",
            "colorbar": {
             "outlinewidth": 0,
             "ticks": ""
            }
           }
          ],
          "histogram2d": [
           {
            "type": "histogram2d",
            "colorbar": {
             "outlinewidth": 0,
             "ticks": ""
            },
            "colorscale": [
             [
              0.0,
              "#0d0887"
             ],
             [
              0.1111111111111111,
              "#46039f"
             ],
             [
              0.2222222222222222,
              "#7201a8"
             ],
             [
              0.3333333333333333,
              "#9c179e"
             ],
             [
              0.4444444444444444,
              "#bd3786"
             ],
             [
              0.5555555555555556,
              "#d8576b"
             ],
             [
              0.6666666666666666,
              "#ed7953"
             ],
             [
              0.7777777777777778,
              "#fb9f3a"
             ],
             [
              0.8888888888888888,
              "#fdca26"
             ],
             [
              1.0,
              "#f0f921"
             ]
            ]
           }
          ],
          "heatmap": [
           {
            "type": "heatmap",
            "colorbar": {
             "outlinewidth": 0,
             "ticks": ""
            },
            "colorscale": [
             [
              0.0,
              "#0d0887"
             ],
             [
              0.1111111111111111,
              "#46039f"
             ],
             [
              0.2222222222222222,
              "#7201a8"
             ],
             [
              0.3333333333333333,
              "#9c179e"
             ],
             [
              0.4444444444444444,
              "#bd3786"
             ],
             [
              0.5555555555555556,
              "#d8576b"
             ],
             [
              0.6666666666666666,
              "#ed7953"
             ],
             [
              0.7777777777777778,
              "#fb9f3a"
             ],
             [
              0.8888888888888888,
              "#fdca26"
             ],
             [
              1.0,
              "#f0f921"
             ]
            ]
           }
          ],
          "heatmapgl": [
           {
            "type": "heatmapgl",
            "colorbar": {
             "outlinewidth": 0,
             "ticks": ""
            },
            "colorscale": [
             [
              0.0,
              "#0d0887"
             ],
             [
              0.1111111111111111,
              "#46039f"
             ],
             [
              0.2222222222222222,
              "#7201a8"
             ],
             [
              0.3333333333333333,
              "#9c179e"
             ],
             [
              0.4444444444444444,
              "#bd3786"
             ],
             [
              0.5555555555555556,
              "#d8576b"
             ],
             [
              0.6666666666666666,
              "#ed7953"
             ],
             [
              0.7777777777777778,
              "#fb9f3a"
             ],
             [
              0.8888888888888888,
              "#fdca26"
             ],
             [
              1.0,
              "#f0f921"
             ]
            ]
           }
          ],
          "contourcarpet": [
           {
            "type": "contourcarpet",
            "colorbar": {
             "outlinewidth": 0,
             "ticks": ""
            }
           }
          ],
          "contour": [
           {
            "type": "contour",
            "colorbar": {
             "outlinewidth": 0,
             "ticks": ""
            },
            "colorscale": [
             [
              0.0,
              "#0d0887"
             ],
             [
              0.1111111111111111,
              "#46039f"
             ],
             [
              0.2222222222222222,
              "#7201a8"
             ],
             [
              0.3333333333333333,
              "#9c179e"
             ],
             [
              0.4444444444444444,
              "#bd3786"
             ],
             [
              0.5555555555555556,
              "#d8576b"
             ],
             [
              0.6666666666666666,
              "#ed7953"
             ],
             [
              0.7777777777777778,
              "#fb9f3a"
             ],
             [
              0.8888888888888888,
              "#fdca26"
             ],
             [
              1.0,
              "#f0f921"
             ]
            ]
           }
          ],
          "surface": [
           {
            "type": "surface",
            "colorbar": {
             "outlinewidth": 0,
             "ticks": ""
            },
            "colorscale": [
             [
              0.0,
              "#0d0887"
             ],
             [
              0.1111111111111111,
              "#46039f"
             ],
             [
              0.2222222222222222,
              "#7201a8"
             ],
             [
              0.3333333333333333,
              "#9c179e"
             ],
             [
              0.4444444444444444,
              "#bd3786"
             ],
             [
              0.5555555555555556,
              "#d8576b"
             ],
             [
              0.6666666666666666,
              "#ed7953"
             ],
             [
              0.7777777777777778,
              "#fb9f3a"
             ],
             [
              0.8888888888888888,
              "#fdca26"
             ],
             [
              1.0,
              "#f0f921"
             ]
            ]
           }
          ],
          "mesh3d": [
           {
            "type": "mesh3d",
            "colorbar": {
             "outlinewidth": 0,
             "ticks": ""
            }
           }
          ],
          "scatter": [
           {
            "fillpattern": {
             "fillmode": "overlay",
             "size": 10,
             "solidity": 0.2
            },
            "type": "scatter"
           }
          ],
          "parcoords": [
           {
            "type": "parcoords",
            "line": {
             "colorbar": {
              "outlinewidth": 0,
              "ticks": ""
             }
            }
           }
          ],
          "scatterpolargl": [
           {
            "type": "scatterpolargl",
            "marker": {
             "colorbar": {
              "outlinewidth": 0,
              "ticks": ""
             }
            }
           }
          ],
          "bar": [
           {
            "error_x": {
             "color": "#2a3f5f"
            },
            "error_y": {
             "color": "#2a3f5f"
            },
            "marker": {
             "line": {
              "color": "#E5ECF6",
              "width": 0.5
             },
             "pattern": {
              "fillmode": "overlay",
              "size": 10,
              "solidity": 0.2
             }
            },
            "type": "bar"
           }
          ],
          "scattergeo": [
           {
            "type": "scattergeo",
            "marker": {
             "colorbar": {
              "outlinewidth": 0,
              "ticks": ""
             }
            }
           }
          ],
          "scatterpolar": [
           {
            "type": "scatterpolar",
            "marker": {
             "colorbar": {
              "outlinewidth": 0,
              "ticks": ""
             }
            }
           }
          ],
          "histogram": [
           {
            "marker": {
             "pattern": {
              "fillmode": "overlay",
              "size": 10,
              "solidity": 0.2
             }
            },
            "type": "histogram"
           }
          ],
          "scattergl": [
           {
            "type": "scattergl",
            "marker": {
             "colorbar": {
              "outlinewidth": 0,
              "ticks": ""
             }
            }
           }
          ],
          "scatter3d": [
           {
            "type": "scatter3d",
            "line": {
             "colorbar": {
              "outlinewidth": 0,
              "ticks": ""
             }
            },
            "marker": {
             "colorbar": {
              "outlinewidth": 0,
              "ticks": ""
             }
            }
           }
          ],
          "scattermapbox": [
           {
            "type": "scattermapbox",
            "marker": {
             "colorbar": {
              "outlinewidth": 0,
              "ticks": ""
             }
            }
           }
          ],
          "scatterternary": [
           {
            "type": "scatterternary",
            "marker": {
             "colorbar": {
              "outlinewidth": 0,
              "ticks": ""
             }
            }
           }
          ],
          "scattercarpet": [
           {
            "type": "scattercarpet",
            "marker": {
             "colorbar": {
              "outlinewidth": 0,
              "ticks": ""
             }
            }
           }
          ],
          "carpet": [
           {
            "aaxis": {
             "endlinecolor": "#2a3f5f",
             "gridcolor": "white",
             "linecolor": "white",
             "minorgridcolor": "white",
             "startlinecolor": "#2a3f5f"
            },
            "baxis": {
             "endlinecolor": "#2a3f5f",
             "gridcolor": "white",
             "linecolor": "white",
             "minorgridcolor": "white",
             "startlinecolor": "#2a3f5f"
            },
            "type": "carpet"
           }
          ],
          "table": [
           {
            "cells": {
             "fill": {
              "color": "#EBF0F8"
             },
             "line": {
              "color": "white"
             }
            },
            "header": {
             "fill": {
              "color": "#C8D4E3"
             },
             "line": {
              "color": "white"
             }
            },
            "type": "table"
           }
          ],
          "barpolar": [
           {
            "marker": {
             "line": {
              "color": "#E5ECF6",
              "width": 0.5
             },
             "pattern": {
              "fillmode": "overlay",
              "size": 10,
              "solidity": 0.2
             }
            },
            "type": "barpolar"
           }
          ],
          "pie": [
           {
            "automargin": true,
            "type": "pie"
           }
          ]
         },
         "layout": {
          "autotypenumbers": "strict",
          "colorway": [
           "#636efa",
           "#EF553B",
           "#00cc96",
           "#ab63fa",
           "#FFA15A",
           "#19d3f3",
           "#FF6692",
           "#B6E880",
           "#FF97FF",
           "#FECB52"
          ],
          "font": {
           "color": "#2a3f5f"
          },
          "hovermode": "closest",
          "hoverlabel": {
           "align": "left"
          },
          "paper_bgcolor": "white",
          "plot_bgcolor": "#E5ECF6",
          "polar": {
           "bgcolor": "#E5ECF6",
           "angularaxis": {
            "gridcolor": "white",
            "linecolor": "white",
            "ticks": ""
           },
           "radialaxis": {
            "gridcolor": "white",
            "linecolor": "white",
            "ticks": ""
           }
          },
          "ternary": {
           "bgcolor": "#E5ECF6",
           "aaxis": {
            "gridcolor": "white",
            "linecolor": "white",
            "ticks": ""
           },
           "baxis": {
            "gridcolor": "white",
            "linecolor": "white",
            "ticks": ""
           },
           "caxis": {
            "gridcolor": "white",
            "linecolor": "white",
            "ticks": ""
           }
          },
          "coloraxis": {
           "colorbar": {
            "outlinewidth": 0,
            "ticks": ""
           }
          },
          "colorscale": {
           "sequential": [
            [
             0.0,
             "#0d0887"
            ],
            [
             0.1111111111111111,
             "#46039f"
            ],
            [
             0.2222222222222222,
             "#7201a8"
            ],
            [
             0.3333333333333333,
             "#9c179e"
            ],
            [
             0.4444444444444444,
             "#bd3786"
            ],
            [
             0.5555555555555556,
             "#d8576b"
            ],
            [
             0.6666666666666666,
             "#ed7953"
            ],
            [
             0.7777777777777778,
             "#fb9f3a"
            ],
            [
             0.8888888888888888,
             "#fdca26"
            ],
            [
             1.0,
             "#f0f921"
            ]
           ],
           "sequentialminus": [
            [
             0.0,
             "#0d0887"
            ],
            [
             0.1111111111111111,
             "#46039f"
            ],
            [
             0.2222222222222222,
             "#7201a8"
            ],
            [
             0.3333333333333333,
             "#9c179e"
            ],
            [
             0.4444444444444444,
             "#bd3786"
            ],
            [
             0.5555555555555556,
             "#d8576b"
            ],
            [
             0.6666666666666666,
             "#ed7953"
            ],
            [
             0.7777777777777778,
             "#fb9f3a"
            ],
            [
             0.8888888888888888,
             "#fdca26"
            ],
            [
             1.0,
             "#f0f921"
            ]
           ],
           "diverging": [
            [
             0,
             "#8e0152"
            ],
            [
             0.1,
             "#c51b7d"
            ],
            [
             0.2,
             "#de77ae"
            ],
            [
             0.3,
             "#f1b6da"
            ],
            [
             0.4,
             "#fde0ef"
            ],
            [
             0.5,
             "#f7f7f7"
            ],
            [
             0.6,
             "#e6f5d0"
            ],
            [
             0.7,
             "#b8e186"
            ],
            [
             0.8,
             "#7fbc41"
            ],
            [
             0.9,
             "#4d9221"
            ],
            [
             1,
             "#276419"
            ]
           ]
          },
          "xaxis": {
           "gridcolor": "white",
           "linecolor": "white",
           "ticks": "",
           "title": {
            "standoff": 15
           },
           "zerolinecolor": "white",
           "automargin": true,
           "zerolinewidth": 2
          },
          "yaxis": {
           "gridcolor": "white",
           "linecolor": "white",
           "ticks": "",
           "title": {
            "standoff": 15
           },
           "zerolinecolor": "white",
           "automargin": true,
           "zerolinewidth": 2
          },
          "scene": {
           "xaxis": {
            "backgroundcolor": "#E5ECF6",
            "gridcolor": "white",
            "linecolor": "white",
            "showbackground": true,
            "ticks": "",
            "zerolinecolor": "white",
            "gridwidth": 2
           },
           "yaxis": {
            "backgroundcolor": "#E5ECF6",
            "gridcolor": "white",
            "linecolor": "white",
            "showbackground": true,
            "ticks": "",
            "zerolinecolor": "white",
            "gridwidth": 2
           },
           "zaxis": {
            "backgroundcolor": "#E5ECF6",
            "gridcolor": "white",
            "linecolor": "white",
            "showbackground": true,
            "ticks": "",
            "zerolinecolor": "white",
            "gridwidth": 2
           }
          },
          "shapedefaults": {
           "line": {
            "color": "#2a3f5f"
           }
          },
          "annotationdefaults": {
           "arrowcolor": "#2a3f5f",
           "arrowhead": 0,
           "arrowwidth": 1
          },
          "geo": {
           "bgcolor": "white",
           "landcolor": "#E5ECF6",
           "subunitcolor": "white",
           "showland": true,
           "showlakes": true,
           "lakecolor": "white"
          },
          "title": {
           "x": 0.05
          },
          "mapbox": {
           "style": "light"
          }
         }
        },
        "xaxis": {
         "anchor": "y",
         "domain": [
          0.0,
          1.0
         ],
         "title": {
          "text": "season_name"
         },
         "type": "category"
        },
        "yaxis": {
         "anchor": "x",
         "domain": [
          0.0,
          1.0
         ],
         "title": {
          "text": "Percentage"
         }
        },
        "legend": {
         "title": {
          "text": "variable"
         },
         "tracegroupgap": 0
        },
        "title": {
         "text": "Shooting attempts per season"
        },
        "barmode": "relative"
       },
       "config": {
        "plotlyServerURL": "https://plot.ly"
       }
      },
      "text/html": "<div>                            <div id=\"334add60-9384-400e-be90-d86ca65c2bb4\" class=\"plotly-graph-div\" style=\"height:525px; width:100%;\"></div>            <script type=\"text/javascript\">                require([\"plotly\"], function(Plotly) {                    window.PLOTLYENV=window.PLOTLYENV || {};                                    if (document.getElementById(\"334add60-9384-400e-be90-d86ca65c2bb4\")) {                    Plotly.newPlot(                        \"334add60-9384-400e-be90-d86ca65c2bb4\",                        [{\"alignmentgroup\":\"True\",\"hovertemplate\":\"variable=[0-5)<br>season_name=%{x}<br>value=%{y}<extra></extra>\",\"legendgroup\":\"[0-5)\",\"marker\":{\"color\":\"#4C78A8\",\"pattern\":{\"shape\":\"\"}},\"name\":\"[0-5)\",\"offsetgroup\":\"[0-5)\",\"orientation\":\"v\",\"showlegend\":true,\"textposition\":\"auto\",\"x\":[\"2000-01\",\"2001-02\",\"2002-03\",\"2003-04\",\"2004-05\",\"2005-06\",\"2006-07\",\"2007-08\",\"2008-09\",\"2009-10\",\"2010-11\",\"2011-12\",\"2012-13\",\"2013-14\",\"2014-15\",\"2015-16\",\"2016-17\",\"2017-18\",\"2018-19\"],\"xaxis\":\"x\",\"y\":[0.10822987169372586,0.08924653559245262,0.09179478717527459,0.09874109124897769,0.10547353080585485,0.11003306334011925,0.11054329702691583,0.09567421760253078,0.10679833977386576,0.11801895256252103,0.3214610942672566,0.326093472136192,0.33256159637265803,0.3288801861268147,0.2998158299096586,0.3030713688856512,0.29558610517156303,0.3377610067983166,0.3545891351245342],\"yaxis\":\"y\",\"type\":\"bar\"},{\"alignmentgroup\":\"True\",\"hovertemplate\":\"variable=[5-10)<br>season_name=%{x}<br>value=%{y}<extra></extra>\",\"legendgroup\":\"[5-10)\",\"marker\":{\"color\":\"#F58518\",\"pattern\":{\"shape\":\"\"}},\"name\":\"[5-10)\",\"offsetgroup\":\"[5-10)\",\"orientation\":\"v\",\"showlegend\":true,\"textposition\":\"auto\",\"x\":[\"2000-01\",\"2001-02\",\"2002-03\",\"2003-04\",\"2004-05\",\"2005-06\",\"2006-07\",\"2007-08\",\"2008-09\",\"2009-10\",\"2010-11\",\"2011-12\",\"2012-13\",\"2013-14\",\"2014-15\",\"2015-16\",\"2016-17\",\"2017-18\",\"2018-19\"],\"xaxis\":\"x\",\"y\":[0.1680369278467522,0.15787648449332597,0.15967055751253703,0.15555993690851735,0.14273485529136276,0.14155152250184086,0.14090210259630584,0.13595215229917523,0.13764133390582511,0.14423292587193,0.12419515539794945,0.11926122777922087,0.11525258790315682,0.11902430807777743,0.12407506293386224,0.11801255543890472,0.11407469504915824,0.10673458238912269,0.10926652284761718],\"yaxis\":\"y\",\"type\":\"bar\"},{\"alignmentgroup\":\"True\",\"hovertemplate\":\"variable=[10-15)<br>season_name=%{x}<br>value=%{y}<extra></extra>\",\"legendgroup\":\"[10-15)\",\"marker\":{\"color\":\"#E45756\",\"pattern\":{\"shape\":\"\"}},\"name\":\"[10-15)\",\"offsetgroup\":\"[10-15)\",\"orientation\":\"v\",\"showlegend\":true,\"textposition\":\"auto\",\"x\":[\"2000-01\",\"2001-02\",\"2002-03\",\"2003-04\",\"2004-05\",\"2005-06\",\"2006-07\",\"2007-08\",\"2008-09\",\"2009-10\",\"2010-11\",\"2011-12\",\"2012-13\",\"2013-14\",\"2014-15\",\"2015-16\",\"2016-17\",\"2017-18\",\"2018-19\"],\"xaxis\":\"x\",\"y\":[0.14671483342329997,0.14766373660594223,0.1443606649113619,0.13861870545624488,0.12493544530360162,0.11371478898658696,0.11140945410450186,0.11695712348887131,0.11641620151710319,0.11365930245598295,0.08595901050985098,0.08619231255952738,0.0840640773376679,0.08249902620303404,0.08580800540522869,0.0870149765388983,0.08429854674144308,0.09301149239235999,0.08717395567758383],\"yaxis\":\"y\",\"type\":\"bar\"},{\"alignmentgroup\":\"True\",\"hovertemplate\":\"variable=[15-20)<br>season_name=%{x}<br>value=%{y}<extra></extra>\",\"legendgroup\":\"[15-20)\",\"marker\":{\"color\":\"#72B7B2\",\"pattern\":{\"shape\":\"\"}},\"name\":\"[15-20)\",\"offsetgroup\":\"[15-20)\",\"orientation\":\"v\",\"showlegend\":true,\"textposition\":\"auto\",\"x\":[\"2000-01\",\"2001-02\",\"2002-03\",\"2003-04\",\"2004-05\",\"2005-06\",\"2006-07\",\"2007-08\",\"2008-09\",\"2009-10\",\"2010-11\",\"2011-12\",\"2012-13\",\"2013-14\",\"2014-15\",\"2015-16\",\"2016-17\",\"2017-18\",\"2018-19\"],\"xaxis\":\"x\",\"y\":[0.2807166881202508,0.28599232805356206,0.2802485167196367,0.2740974412898703,0.2769166554653951,0.2712926466554049,0.26256108211890894,0.24973873008699582,0.2497137541147846,0.2452828866210609,0.18382061473521819,0.18138949387575679,0.1701065103943879,0.16179241806946068,0.16417837254666914,0.15380412658282092,0.13823200140073114,0.10708360310780188,0.08663463424200823],\"yaxis\":\"y\",\"type\":\"bar\"},{\"alignmentgroup\":\"True\",\"hovertemplate\":\"variable=[20-25)<br>season_name=%{x}<br>value=%{y}<extra></extra>\",\"legendgroup\":\"[20-25)\",\"marker\":{\"color\":\"#54A24B\",\"pattern\":{\"shape\":\"\"}},\"name\":\"[20-25)\",\"offsetgroup\":\"[20-25)\",\"orientation\":\"v\",\"showlegend\":true,\"textposition\":\"auto\",\"x\":[\"2000-01\",\"2001-02\",\"2002-03\",\"2003-04\",\"2004-05\",\"2005-06\",\"2006-07\",\"2007-08\",\"2008-09\",\"2009-10\",\"2010-11\",\"2011-12\",\"2012-13\",\"2013-14\",\"2014-15\",\"2015-16\",\"2016-17\",\"2017-18\",\"2018-19\"],\"xaxis\":\"x\",\"y\":[0.15029273761574555,0.15967415459962914,0.17173767998450357,0.17469914709662343,0.18405693547360155,0.1888941828734786,0.18813653522733015,0.2018557225172297,0.18938027765850865,0.18032970730066167,0.13639236776979033,0.1335744400263752,0.12778573872871932,0.12182463232584825,0.12800366160652987,0.13703318835300923,0.12743469886933406,0.08658242958886371,0.07604922533830162],\"yaxis\":\"y\",\"type\":\"bar\"},{\"alignmentgroup\":\"True\",\"hovertemplate\":\"variable=[25-30)<br>season_name=%{x}<br>value=%{y}<extra></extra>\",\"legendgroup\":\"[25-30)\",\"marker\":{\"color\":\"#EECA3B\",\"pattern\":{\"shape\":\"\"}},\"name\":\"[25-30)\",\"offsetgroup\":\"[25-30)\",\"orientation\":\"v\",\"showlegend\":true,\"textposition\":\"auto\",\"x\":[\"2000-01\",\"2001-02\",\"2002-03\",\"2003-04\",\"2004-05\",\"2005-06\",\"2006-07\",\"2007-08\",\"2008-09\",\"2009-10\",\"2010-11\",\"2011-12\",\"2012-13\",\"2013-14\",\"2014-15\",\"2015-16\",\"2016-17\",\"2017-18\",\"2018-19\"],\"xaxis\":\"x\",\"y\":[0.13943445584021924,0.15304966948348833,0.14578834468063737,0.1517043463021381,0.1589425056419036,0.16734525923679994,0.17908519376655624,0.19148260083606372,0.19191355374266494,0.19051390602220478,0.1422847408962835,0.14793427511472548,0.16466335871332022,0.18001031698407183,0.19221799636018874,0.1949414008098901,0.23293522149061138,0.2599597361605698,0.27686801333594824],\"yaxis\":\"y\",\"type\":\"bar\"},{\"alignmentgroup\":\"True\",\"hovertemplate\":\"variable=[30-35)<br>season_name=%{x}<br>value=%{y}<extra></extra>\",\"legendgroup\":\"[30-35)\",\"marker\":{\"color\":\"#B279A2\",\"pattern\":{\"shape\":\"\"}},\"name\":\"[30-35)\",\"offsetgroup\":\"[30-35)\",\"orientation\":\"v\",\"showlegend\":true,\"textposition\":\"auto\",\"x\":[\"2000-01\",\"2001-02\",\"2002-03\",\"2003-04\",\"2004-05\",\"2005-06\",\"2006-07\",\"2007-08\",\"2008-09\",\"2009-10\",\"2010-11\",\"2011-12\",\"2012-13\",\"2013-14\",\"2014-15\",\"2015-16\",\"2016-17\",\"2017-18\",\"2018-19\"],\"xaxis\":\"x\",\"y\":[0.0017716508186964525,0.0015641145413110252,0.001327239986512372,0.0014166374576469213,0.0014714933535192036,0.0016603860758579864,0.0017178782038789401,0.001913625579030618,0.0019965650493774154,0.0019485252887742515,0.0013445324134088985,0.0016784222830539294,0.0017110103516126273,0.001905483792860226,0.0020051654806403454,0.002249694684292846,0.0033373480551590943,0.004946989316931045,0.005932535791331634],\"yaxis\":\"y\",\"type\":\"bar\"},{\"alignmentgroup\":\"True\",\"hovertemplate\":\"variable=[35-40)<br>season_name=%{x}<br>value=%{y}<extra></extra>\",\"legendgroup\":\"[35-40)\",\"marker\":{\"color\":\"#FF9DA6\",\"pattern\":{\"shape\":\"\"}},\"name\":\"[35-40)\",\"offsetgroup\":\"[35-40)\",\"orientation\":\"v\",\"showlegend\":true,\"textposition\":\"auto\",\"x\":[\"2000-01\",\"2001-02\",\"2002-03\",\"2003-04\",\"2004-05\",\"2005-06\",\"2006-07\",\"2007-08\",\"2008-09\",\"2009-10\",\"2010-11\",\"2011-12\",\"2012-13\",\"2013-14\",\"2014-15\",\"2015-16\",\"2016-17\",\"2017-18\",\"2018-19\"],\"xaxis\":\"x\",\"y\":[0.0010103946075378206,0.0010970034113267373,0.0009685264766441634,0.0009711999065311368,0.0010965455278628682,0.0010106697853048614,0.0010754783713359751,0.0012992882160207887,0.0011592958351223702,0.0011424806549287876,0.000953493105923442,0.0008991547944931764,0.0007271793994353666,0.0007685100380044005,0.0007301417782766475,0.0007713238917575472,0.0006738365707554928,0.0006980414373583684,0.0007648558540890371],\"yaxis\":\"y\",\"type\":\"bar\"},{\"alignmentgroup\":\"True\",\"hovertemplate\":\"variable=[40-47)<br>season_name=%{x}<br>value=%{y}<extra></extra>\",\"legendgroup\":\"[40-47)\",\"marker\":{\"color\":\"#9D755D\",\"pattern\":{\"shape\":\"\"}},\"name\":\"[40-47)\",\"offsetgroup\":\"[40-47)\",\"orientation\":\"v\",\"showlegend\":true,\"textposition\":\"auto\",\"x\":[\"2000-01\",\"2001-02\",\"2002-03\",\"2003-04\",\"2004-05\",\"2005-06\",\"2006-07\",\"2007-08\",\"2008-09\",\"2009-10\",\"2010-11\",\"2011-12\",\"2012-13\",\"2013-14\",\"2014-15\",\"2015-16\",\"2016-17\",\"2017-18\",\"2018-19\"],\"xaxis\":\"x\",\"y\":[0.001951584104970311,0.001769360340849576,0.001779219008946315,0.0019204930482533006,0.0019525584883235587,0.00195636794155441,0.0020499050836202477,0.0020407298610326517,0.0020037211965078,0.0017732981944600201,0.0012856086821439667,0.0011988730593242352,0.001138891265292155,0.0012054027308425186,0.0011170079443784532,0.0009855805283568659,0.001045242554636473,0.0009458967303334413,0.0007697587762306334],\"yaxis\":\"y\",\"type\":\"bar\"},{\"alignmentgroup\":\"True\",\"hovertemplate\":\"variable=[47+)<br>season_name=%{x}<br>value=%{y}<extra></extra>\",\"legendgroup\":\"[47+)\",\"marker\":{\"color\":\"#BAB0AC\",\"pattern\":{\"shape\":\"\"}},\"name\":\"[47+)\",\"offsetgroup\":\"[47+)\",\"orientation\":\"v\",\"showlegend\":true,\"textposition\":\"auto\",\"x\":[\"2000-01\",\"2001-02\",\"2002-03\",\"2003-04\",\"2004-05\",\"2005-06\",\"2006-07\",\"2007-08\",\"2008-09\",\"2009-10\",\"2010-11\",\"2011-12\",\"2012-13\",\"2013-14\",\"2014-15\",\"2015-16\",\"2016-17\",\"2017-18\",\"2018-19\"],\"xaxis\":\"x\",\"y\":[0.0018408559288017826,0.002066612878112305,0.002324463543945992,0.0022710012851968686,0.0024194746485748445,0.0025411126030522226,0.0025190735006460087,0.003085809513049373,0.0029769572062401605,0.0030980150274756086,0.002303382222174607,0.0017783283713309489,0.001989049533749679,0.002089715651285938,0.002048756034567309,0.002115784286418272,0.002382304096608002,0.0022762220783425057,0.0019513630123553637],\"yaxis\":\"y\",\"type\":\"bar\"}],                        {\"template\":{\"data\":{\"histogram2dcontour\":[{\"type\":\"histogram2dcontour\",\"colorbar\":{\"outlinewidth\":0,\"ticks\":\"\"},\"colorscale\":[[0.0,\"#0d0887\"],[0.1111111111111111,\"#46039f\"],[0.2222222222222222,\"#7201a8\"],[0.3333333333333333,\"#9c179e\"],[0.4444444444444444,\"#bd3786\"],[0.5555555555555556,\"#d8576b\"],[0.6666666666666666,\"#ed7953\"],[0.7777777777777778,\"#fb9f3a\"],[0.8888888888888888,\"#fdca26\"],[1.0,\"#f0f921\"]]}],\"choropleth\":[{\"type\":\"choropleth\",\"colorbar\":{\"outlinewidth\":0,\"ticks\":\"\"}}],\"histogram2d\":[{\"type\":\"histogram2d\",\"colorbar\":{\"outlinewidth\":0,\"ticks\":\"\"},\"colorscale\":[[0.0,\"#0d0887\"],[0.1111111111111111,\"#46039f\"],[0.2222222222222222,\"#7201a8\"],[0.3333333333333333,\"#9c179e\"],[0.4444444444444444,\"#bd3786\"],[0.5555555555555556,\"#d8576b\"],[0.6666666666666666,\"#ed7953\"],[0.7777777777777778,\"#fb9f3a\"],[0.8888888888888888,\"#fdca26\"],[1.0,\"#f0f921\"]]}],\"heatmap\":[{\"type\":\"heatmap\",\"colorbar\":{\"outlinewidth\":0,\"ticks\":\"\"},\"colorscale\":[[0.0,\"#0d0887\"],[0.1111111111111111,\"#46039f\"],[0.2222222222222222,\"#7201a8\"],[0.3333333333333333,\"#9c179e\"],[0.4444444444444444,\"#bd3786\"],[0.5555555555555556,\"#d8576b\"],[0.6666666666666666,\"#ed7953\"],[0.7777777777777778,\"#fb9f3a\"],[0.8888888888888888,\"#fdca26\"],[1.0,\"#f0f921\"]]}],\"heatmapgl\":[{\"type\":\"heatmapgl\",\"colorbar\":{\"outlinewidth\":0,\"ticks\":\"\"},\"colorscale\":[[0.0,\"#0d0887\"],[0.1111111111111111,\"#46039f\"],[0.2222222222222222,\"#7201a8\"],[0.3333333333333333,\"#9c179e\"],[0.4444444444444444,\"#bd3786\"],[0.5555555555555556,\"#d8576b\"],[0.6666666666666666,\"#ed7953\"],[0.7777777777777778,\"#fb9f3a\"],[0.8888888888888888,\"#fdca26\"],[1.0,\"#f0f921\"]]}],\"contourcarpet\":[{\"type\":\"contourcarpet\",\"colorbar\":{\"outlinewidth\":0,\"ticks\":\"\"}}],\"contour\":[{\"type\":\"contour\",\"colorbar\":{\"outlinewidth\":0,\"ticks\":\"\"},\"colorscale\":[[0.0,\"#0d0887\"],[0.1111111111111111,\"#46039f\"],[0.2222222222222222,\"#7201a8\"],[0.3333333333333333,\"#9c179e\"],[0.4444444444444444,\"#bd3786\"],[0.5555555555555556,\"#d8576b\"],[0.6666666666666666,\"#ed7953\"],[0.7777777777777778,\"#fb9f3a\"],[0.8888888888888888,\"#fdca26\"],[1.0,\"#f0f921\"]]}],\"surface\":[{\"type\":\"surface\",\"colorbar\":{\"outlinewidth\":0,\"ticks\":\"\"},\"colorscale\":[[0.0,\"#0d0887\"],[0.1111111111111111,\"#46039f\"],[0.2222222222222222,\"#7201a8\"],[0.3333333333333333,\"#9c179e\"],[0.4444444444444444,\"#bd3786\"],[0.5555555555555556,\"#d8576b\"],[0.6666666666666666,\"#ed7953\"],[0.7777777777777778,\"#fb9f3a\"],[0.8888888888888888,\"#fdca26\"],[1.0,\"#f0f921\"]]}],\"mesh3d\":[{\"type\":\"mesh3d\",\"colorbar\":{\"outlinewidth\":0,\"ticks\":\"\"}}],\"scatter\":[{\"fillpattern\":{\"fillmode\":\"overlay\",\"size\":10,\"solidity\":0.2},\"type\":\"scatter\"}],\"parcoords\":[{\"type\":\"parcoords\",\"line\":{\"colorbar\":{\"outlinewidth\":0,\"ticks\":\"\"}}}],\"scatterpolargl\":[{\"type\":\"scatterpolargl\",\"marker\":{\"colorbar\":{\"outlinewidth\":0,\"ticks\":\"\"}}}],\"bar\":[{\"error_x\":{\"color\":\"#2a3f5f\"},\"error_y\":{\"color\":\"#2a3f5f\"},\"marker\":{\"line\":{\"color\":\"#E5ECF6\",\"width\":0.5},\"pattern\":{\"fillmode\":\"overlay\",\"size\":10,\"solidity\":0.2}},\"type\":\"bar\"}],\"scattergeo\":[{\"type\":\"scattergeo\",\"marker\":{\"colorbar\":{\"outlinewidth\":0,\"ticks\":\"\"}}}],\"scatterpolar\":[{\"type\":\"scatterpolar\",\"marker\":{\"colorbar\":{\"outlinewidth\":0,\"ticks\":\"\"}}}],\"histogram\":[{\"marker\":{\"pattern\":{\"fillmode\":\"overlay\",\"size\":10,\"solidity\":0.2}},\"type\":\"histogram\"}],\"scattergl\":[{\"type\":\"scattergl\",\"marker\":{\"colorbar\":{\"outlinewidth\":0,\"ticks\":\"\"}}}],\"scatter3d\":[{\"type\":\"scatter3d\",\"line\":{\"colorbar\":{\"outlinewidth\":0,\"ticks\":\"\"}},\"marker\":{\"colorbar\":{\"outlinewidth\":0,\"ticks\":\"\"}}}],\"scattermapbox\":[{\"type\":\"scattermapbox\",\"marker\":{\"colorbar\":{\"outlinewidth\":0,\"ticks\":\"\"}}}],\"scatterternary\":[{\"type\":\"scatterternary\",\"marker\":{\"colorbar\":{\"outlinewidth\":0,\"ticks\":\"\"}}}],\"scattercarpet\":[{\"type\":\"scattercarpet\",\"marker\":{\"colorbar\":{\"outlinewidth\":0,\"ticks\":\"\"}}}],\"carpet\":[{\"aaxis\":{\"endlinecolor\":\"#2a3f5f\",\"gridcolor\":\"white\",\"linecolor\":\"white\",\"minorgridcolor\":\"white\",\"startlinecolor\":\"#2a3f5f\"},\"baxis\":{\"endlinecolor\":\"#2a3f5f\",\"gridcolor\":\"white\",\"linecolor\":\"white\",\"minorgridcolor\":\"white\",\"startlinecolor\":\"#2a3f5f\"},\"type\":\"carpet\"}],\"table\":[{\"cells\":{\"fill\":{\"color\":\"#EBF0F8\"},\"line\":{\"color\":\"white\"}},\"header\":{\"fill\":{\"color\":\"#C8D4E3\"},\"line\":{\"color\":\"white\"}},\"type\":\"table\"}],\"barpolar\":[{\"marker\":{\"line\":{\"color\":\"#E5ECF6\",\"width\":0.5},\"pattern\":{\"fillmode\":\"overlay\",\"size\":10,\"solidity\":0.2}},\"type\":\"barpolar\"}],\"pie\":[{\"automargin\":true,\"type\":\"pie\"}]},\"layout\":{\"autotypenumbers\":\"strict\",\"colorway\":[\"#636efa\",\"#EF553B\",\"#00cc96\",\"#ab63fa\",\"#FFA15A\",\"#19d3f3\",\"#FF6692\",\"#B6E880\",\"#FF97FF\",\"#FECB52\"],\"font\":{\"color\":\"#2a3f5f\"},\"hovermode\":\"closest\",\"hoverlabel\":{\"align\":\"left\"},\"paper_bgcolor\":\"white\",\"plot_bgcolor\":\"#E5ECF6\",\"polar\":{\"bgcolor\":\"#E5ECF6\",\"angularaxis\":{\"gridcolor\":\"white\",\"linecolor\":\"white\",\"ticks\":\"\"},\"radialaxis\":{\"gridcolor\":\"white\",\"linecolor\":\"white\",\"ticks\":\"\"}},\"ternary\":{\"bgcolor\":\"#E5ECF6\",\"aaxis\":{\"gridcolor\":\"white\",\"linecolor\":\"white\",\"ticks\":\"\"},\"baxis\":{\"gridcolor\":\"white\",\"linecolor\":\"white\",\"ticks\":\"\"},\"caxis\":{\"gridcolor\":\"white\",\"linecolor\":\"white\",\"ticks\":\"\"}},\"coloraxis\":{\"colorbar\":{\"outlinewidth\":0,\"ticks\":\"\"}},\"colorscale\":{\"sequential\":[[0.0,\"#0d0887\"],[0.1111111111111111,\"#46039f\"],[0.2222222222222222,\"#7201a8\"],[0.3333333333333333,\"#9c179e\"],[0.4444444444444444,\"#bd3786\"],[0.5555555555555556,\"#d8576b\"],[0.6666666666666666,\"#ed7953\"],[0.7777777777777778,\"#fb9f3a\"],[0.8888888888888888,\"#fdca26\"],[1.0,\"#f0f921\"]],\"sequentialminus\":[[0.0,\"#0d0887\"],[0.1111111111111111,\"#46039f\"],[0.2222222222222222,\"#7201a8\"],[0.3333333333333333,\"#9c179e\"],[0.4444444444444444,\"#bd3786\"],[0.5555555555555556,\"#d8576b\"],[0.6666666666666666,\"#ed7953\"],[0.7777777777777778,\"#fb9f3a\"],[0.8888888888888888,\"#fdca26\"],[1.0,\"#f0f921\"]],\"diverging\":[[0,\"#8e0152\"],[0.1,\"#c51b7d\"],[0.2,\"#de77ae\"],[0.3,\"#f1b6da\"],[0.4,\"#fde0ef\"],[0.5,\"#f7f7f7\"],[0.6,\"#e6f5d0\"],[0.7,\"#b8e186\"],[0.8,\"#7fbc41\"],[0.9,\"#4d9221\"],[1,\"#276419\"]]},\"xaxis\":{\"gridcolor\":\"white\",\"linecolor\":\"white\",\"ticks\":\"\",\"title\":{\"standoff\":15},\"zerolinecolor\":\"white\",\"automargin\":true,\"zerolinewidth\":2},\"yaxis\":{\"gridcolor\":\"white\",\"linecolor\":\"white\",\"ticks\":\"\",\"title\":{\"standoff\":15},\"zerolinecolor\":\"white\",\"automargin\":true,\"zerolinewidth\":2},\"scene\":{\"xaxis\":{\"backgroundcolor\":\"#E5ECF6\",\"gridcolor\":\"white\",\"linecolor\":\"white\",\"showbackground\":true,\"ticks\":\"\",\"zerolinecolor\":\"white\",\"gridwidth\":2},\"yaxis\":{\"backgroundcolor\":\"#E5ECF6\",\"gridcolor\":\"white\",\"linecolor\":\"white\",\"showbackground\":true,\"ticks\":\"\",\"zerolinecolor\":\"white\",\"gridwidth\":2},\"zaxis\":{\"backgroundcolor\":\"#E5ECF6\",\"gridcolor\":\"white\",\"linecolor\":\"white\",\"showbackground\":true,\"ticks\":\"\",\"zerolinecolor\":\"white\",\"gridwidth\":2}},\"shapedefaults\":{\"line\":{\"color\":\"#2a3f5f\"}},\"annotationdefaults\":{\"arrowcolor\":\"#2a3f5f\",\"arrowhead\":0,\"arrowwidth\":1},\"geo\":{\"bgcolor\":\"white\",\"landcolor\":\"#E5ECF6\",\"subunitcolor\":\"white\",\"showland\":true,\"showlakes\":true,\"lakecolor\":\"white\"},\"title\":{\"x\":0.05},\"mapbox\":{\"style\":\"light\"}}},\"xaxis\":{\"anchor\":\"y\",\"domain\":[0.0,1.0],\"title\":{\"text\":\"season_name\"},\"type\":\"category\"},\"yaxis\":{\"anchor\":\"x\",\"domain\":[0.0,1.0],\"title\":{\"text\":\"Percentage\"}},\"legend\":{\"title\":{\"text\":\"variable\"},\"tracegroupgap\":0},\"title\":{\"text\":\"Shooting attempts per season\"},\"barmode\":\"relative\"},                        {\"responsive\": true}                    ).then(function(){\n                            \nvar gd = document.getElementById('334add60-9384-400e-be90-d86ca65c2bb4');\nvar x = new MutationObserver(function (mutations, observer) {{\n        var display = window.getComputedStyle(gd).display;\n        if (!display || display === 'none') {{\n            console.log([gd, 'removed!']);\n            Plotly.purge(gd);\n            observer.disconnect();\n        }}\n}});\n\n// Listen for the removal of the full notebook cells\nvar notebookContainer = gd.closest('#notebook-container');\nif (notebookContainer) {{\n    x.observe(notebookContainer, {childList: true});\n}}\n\n// Listen for the clearing of the current output cell\nvar outputEl = gd.closest('.output');\nif (outputEl) {{\n    x.observe(outputEl, {childList: true});\n}}\n\n                        })                };                });            </script>        </div>"
     },
     "metadata": {},
     "output_type": "display_data"
    }
   ],
   "source": [
    "import plotly.express as px\n",
    "colors = px.colors.qualitative.T10\n",
    "\n",
    "# plotly\n",
    "fig = px.bar(per_season_stats, \n",
    "             x = per_season_stats.index,\n",
    "             y = [c for c in per_season_stats.columns],\n",
    "             color_discrete_sequence = colors,\n",
    "             title = 'Shooting attempts per season'\n",
    "             )\n",
    "#fig.update_yaxes(range = [0,3.5])\n",
    "fig.update_layout(yaxis_title=\"Percentage\",xaxis={'type': 'category'})\n",
    "\n",
    "fig.show()"
   ]
  }
 ],
 "metadata": {
  "kernelspec": {
   "display_name": "Python 3 (ipykernel)",
   "language": "python",
   "name": "python3"
  },
  "language_info": {
   "codemirror_mode": {
    "name": "ipython",
    "version": 3
   },
   "file_extension": ".py",
   "mimetype": "text/x-python",
   "name": "python",
   "nbconvert_exporter": "python",
   "pygments_lexer": "ipython3",
   "version": "3.9.6"
  }
 },
 "nbformat": 4,
 "nbformat_minor": 1
}