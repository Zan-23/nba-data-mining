{
 "cells": [
  {
   "cell_type": "markdown",
   "id": "d04eb64e",
   "metadata": {},
   "source": [
    "## Data extraction and feature preparation for prediction use cases 2 and 3"
   ]
  },
  {
   "cell_type": "code",
   "execution_count": null,
   "id": "c1536cb0",
   "metadata": {},
   "outputs": [],
   "source": [
    "%reload_ext autoreload\n",
    "%autoreload 2\n",
    "import os \n",
    "import sys\n",
    "import pandas as pd\n",
    "import numpy as np\n",
    "from datetime import datetime\n",
    "import plotly \n",
    "import plotly.graph_objects as go\n",
    "from datetime import timedelta\n",
    "\n",
    "sys.path.insert(0, \"./../../\")\n",
    "from src.data_loader import load_game_data, load_game_data_zan\n",
    "from src.preprocessing.feature_preparation import prepare_player_df, prepare_features_for_season_based_predictions"
   ]
  },
  {
   "cell_type": "code",
   "execution_count": null,
   "id": "1ea9459b",
   "metadata": {},
   "outputs": [],
   "source": [
    "%%time\n",
    "# data_t = pd.read_pickle(\"../../data/processed/load_data_games_arr_v1.pkl\")\n",
    "games_df = load_game_data_zan(force_recompute=False)\n",
    "players_df = prepare_player_df()\n",
    "# display(games_df)\n",
    "display(players_df)"
   ]
  },
  {
   "cell_type": "code",
   "execution_count": null,
   "id": "3decef39",
   "metadata": {},
   "outputs": [],
   "source": []
  },
  {
   "cell_type": "code",
   "execution_count": null,
   "id": "6568f319",
   "metadata": {
    "scrolled": false
   },
   "outputs": [],
   "source": [
    "# this was moved to load_game_data\n",
    "if 2 != 3:\n",
    "    display((games_df[\"visitor_record_wins\"] + games_df[\"visitor_record_losses\"]).max())\n",
    "    games_df[\"games_already_played_in_season\"] = games_df[\"visitor_record_wins\"] + games_df[\"visitor_record_losses\"]\n",
    "    all_clubs = set(games_df[\"visitor_team_id\"]).union(games_df[\"home_team_id\"])\n",
    "\n",
    "    for club_id in all_clubs:\n",
    "        print(all_clubs, len(all_clubs))\n",
    "        break\n",
    "    # games_df[games_df[\"GAME_ID\"]== 2]"
   ]
  },
  {
   "cell_type": "markdown",
   "id": "916dfa11",
   "metadata": {},
   "source": [
    "## Building the data structure"
   ]
  },
  {
   "cell_type": "code",
   "execution_count": null,
   "id": "ff23086c",
   "metadata": {},
   "outputs": [],
   "source": [
    "games_df[\"season_name\"] = games_df[\"season_name\"].str.replace(\"-\", \"-20\")"
   ]
  },
  {
   "cell_type": "code",
   "execution_count": null,
   "id": "9977937d",
   "metadata": {
    "scrolled": false
   },
   "outputs": [],
   "source": [
    "## buidling json structure\n",
    "general_nba_info_dict = {\n",
    "    \"all_seasons_info\": {\n",
    "        \"team_ids_arr\": set(games_df[\"visitor_team_id\"]).union(games_df[\"home_team_id\"]),\n",
    "        \"player_ids_arr\": \"TODO\",\n",
    "        \"games_played\": len(games_df.index),\n",
    "    },\n",
    "    \"seasons\": dict.fromkeys(list(games_df[\"season_name\"].unique()), {\"games\": None, \"player_info\": None}),\n",
    "}\n",
    "\n",
    "# fill dictionary with seasons \n",
    "# general_nba_info_dict\n",
    "\n",
    "\n",
    "for season_name in games_df[\"season_name\"].unique():\n",
    "    general_nba_info_dict[\"seasons\"][str(season_name)][\"games\"] = games_df[games_df[\"season_name\"] == season_name]\n",
    "    general_nba_info_dict[\"seasons\"][str(season_name)][\"player_info\"] = 0\n",
    "    "
   ]
  },
  {
   "cell_type": "code",
   "execution_count": null,
   "id": "bb1eac94",
   "metadata": {},
   "outputs": [],
   "source": [
    "%%time\n",
    "\n",
    "display(general_nba_info_dict[\"seasons\"]['2000-2001'])"
   ]
  },
  {
   "cell_type": "code",
   "execution_count": null,
   "id": "fddf679a",
   "metadata": {},
   "outputs": [],
   "source": []
  },
  {
   "cell_type": "code",
   "execution_count": null,
   "id": "39e52de3",
   "metadata": {},
   "outputs": [],
   "source": []
  },
  {
   "cell_type": "markdown",
   "id": "f42ef1da",
   "metadata": {},
   "source": [
    "**X Features**:\n",
    "- new_players_in_club_count, \n",
    "- avg_team (age, weight, height), \n",
    "- num_of_games_won or lost before this game,\n",
    "- last 10 games played(win/loss), \n",
    "- sum of true percentage per team, \n",
    "- cumulative of (points scored, assists, rebounds etc), \n",
    "\n",
    "**Y outcome**\n",
    "- Use case 1.: 0 for loss, 1 for win\n",
    "- Use case 2.: same as 1 but with predicted points also"
   ]
  },
  {
   "cell_type": "code",
   "execution_count": null,
   "id": "a86f8535",
   "metadata": {},
   "outputs": [],
   "source": [
    "# all the knowledge moved into this function\n",
    "prepared_dict = prepare_features_for_season_based_predictions(save_to_file=True)\n",
    "display(prepared_dict)"
   ]
  },
  {
   "cell_type": "code",
   "execution_count": null,
   "id": "34a871df",
   "metadata": {},
   "outputs": [],
   "source": []
  }
 ],
 "metadata": {
  "kernelspec": {
   "display_name": "Python [conda env:nba_play_by_play_data_mining]",
   "language": "python",
   "name": "conda-env-nba_play_by_play_data_mining-py"
  },
  "language_info": {
   "codemirror_mode": {
    "name": "ipython",
    "version": 3
   },
   "file_extension": ".py",
   "mimetype": "text/x-python",
   "name": "python",
   "nbconvert_exporter": "python",
   "pygments_lexer": "ipython3",
   "version": "3.9.13"
  }
 },
 "nbformat": 4,
 "nbformat_minor": 5
}
