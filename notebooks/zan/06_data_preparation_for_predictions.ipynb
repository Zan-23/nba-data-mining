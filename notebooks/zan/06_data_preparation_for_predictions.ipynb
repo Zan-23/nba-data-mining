{
 "cells": [
  {
   "cell_type": "markdown",
   "id": "d04eb64e",
   "metadata": {},
   "source": [
    "## Data extraction and feature preparation for prediction use cases 2 and 3"
   ]
  },
  {
   "cell_type": "code",
   "execution_count": null,
   "id": "c1536cb0",
   "metadata": {},
   "outputs": [],
   "source": [
    "%reload_ext autoreload\n",
    "%autoreload 2\n",
    "import os \n",
    "import sys\n",
    "import pandas as pd\n",
    "import numpy as np\n",
    "from datetime import datetime\n",
    "import plotly \n",
    "import plotly.graph_objects as go\n",
    "from datetime import timedelta\n",
    "\n",
    "sys.path.insert(0, \"./../../src/\")\n",
    "from data_loader import load_game_data, load_game_data_zan"
   ]
  },
  {
   "cell_type": "code",
   "execution_count": null,
   "id": "1ea9459b",
   "metadata": {},
   "outputs": [],
   "source": [
    "data_t = pd.read_pickle(\"../../data/processed/load_data_games_arr_v1.pkl\")\n",
    "\n",
    "with pd.option_context('display.max_rows', None, 'display.max_columns', None):  # more options can be specified also\n",
    "    display(data_t.describe())\n",
    "    print(data_t.iloc[0])\n"
   ]
  },
  {
   "cell_type": "code",
   "execution_count": null,
   "id": "bb1eac94",
   "metadata": {},
   "outputs": [],
   "source": [
    "%%time\n",
    "\n",
    "seasons = load_game_data()\n",
    "# single_df=True, force_recompute=False\n",
    "# seasons[\"season_name\"] = seasons[\"season_name\"].str.replace(\"-\", \"-20\")\n",
    "display(seasons)"
   ]
  },
  {
   "cell_type": "code",
   "execution_count": null,
   "id": "fddf679a",
   "metadata": {},
   "outputs": [],
   "source": [
    "seasons[\"visitor_team_id\"].unique()[0]"
   ]
  },
  {
   "cell_type": "code",
   "execution_count": null,
   "id": "39e52de3",
   "metadata": {},
   "outputs": [],
   "source": [
    "%%time\n",
    "\n",
    "zan_seasons = load_game_data_zan()"
   ]
  },
  {
   "cell_type": "markdown",
   "id": "f42ef1da",
   "metadata": {},
   "source": [
    "**X Features**:\n",
    "- new_players_in_club_count, \n",
    "- avg_team (age, weight, height), \n",
    "- num_of_games_won or lost before this game,\n",
    "- last 10 games played(win/loss), \n",
    "- sum of true percentage per team, \n",
    "- cumulative of (points scored, assists, rebounds etc), \n",
    "\n",
    "**Y outcome**\n",
    "- Use case 1.: 0 for loss, 1 for win\n",
    "- Use case 2.: same as 1 but with predicted points also"
   ]
  },
  {
   "cell_type": "code",
   "execution_count": null,
   "id": "59cdb9bd",
   "metadata": {},
   "outputs": [],
   "source": [
    "def prepare_features_for_season_based_predictions(df):\n",
    "    # TODO one for 0 or 1 - binary win/loss\n",
    "    season_arr = []\n",
    "    \"\"\"\n",
    "    {\n",
    "        games:\n",
    "        teams:\n",
    "        players:\n",
    "        \n",
    "    }\n",
    "    \"\"\"\n",
    "    \n",
    "    for season_name in df[\"season_name\"].unique():\n",
    "        curr_season_df = df[df[\"season_name\"] == season_name]\n",
    "        game_arr = []\n",
    "        grouped_by_game = curr_season_df.groupby(\"GAME_ID\")\n",
    "        display(grouped_by_game)\n",
    "        print(season_name, grouped_by_game.count())\n",
    "        \n",
    "        curr_dict = {\n",
    "            \"game\": 0 \n",
    "        }\n",
    "        break\n",
    "\n",
    "prepare_features_for_season_based_predictions(seasons)"
   ]
  },
  {
   "cell_type": "code",
   "execution_count": null,
   "id": "0ca558af",
   "metadata": {},
   "outputs": [],
   "source": []
  }
 ],
 "metadata": {
  "kernelspec": {
   "display_name": "Python [conda env:nba_play_by_play_data_mining]",
   "language": "python",
   "name": "conda-env-nba_play_by_play_data_mining-py"
  },
  "language_info": {
   "codemirror_mode": {
    "name": "ipython",
    "version": 3
   },
   "file_extension": ".py",
   "mimetype": "text/x-python",
   "name": "python",
   "nbconvert_exporter": "python",
   "pygments_lexer": "ipython3",
   "version": "3.9.13"
  }
 },
 "nbformat": 4,
 "nbformat_minor": 5
}
