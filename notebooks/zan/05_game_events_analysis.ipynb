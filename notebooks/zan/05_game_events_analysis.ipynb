{
 "cells": [
  {
   "cell_type": "markdown",
   "id": "9a24d80d",
   "metadata": {},
   "source": [
    "# Game events analysis \n",
    "This notebook is meant to analyse an average game in the data set and find correlations between events"
   ]
  },
  {
   "cell_type": "code",
   "execution_count": null,
   "id": "3921c51a",
   "metadata": {},
   "outputs": [],
   "source": [
    "%reload_ext autoreload\n",
    "%autoreload 2\n",
    "import os \n",
    "import sys\n",
    "import pandas as pd\n",
    "import numpy as np\n",
    "from datetime import datetime\n",
    "import plotly \n",
    "import plotly.graph_objects as go\n",
    "from datetime import timedelta\n",
    "\n",
    "sys.path.insert(0, \"./../../src/\")\n",
    "from data_loader import load_data"
   ]
  },
  {
   "cell_type": "code",
   "execution_count": null,
   "id": "28a57f3e",
   "metadata": {},
   "outputs": [],
   "source": [
    "%%time\n",
    "\n",
    "seasons = load_data(single_df=True, force_recompute=False)\n",
    "seasons[\"season_name\"] = seasons[\"season_name\"].str.replace(\"-\", \"-20\")\n",
    "display(seasons)"
   ]
  },
  {
   "cell_type": "code",
   "execution_count": null,
   "id": "6f367626",
   "metadata": {},
   "outputs": [],
   "source": [
    "# group by seasons and events\n",
    "grouped_event_df = seasons.groupby([\"season_name\", \"EVENTMSGTYPE\"]).size()\n",
    "# print(\"Sum\", grouped_event_df.sum(level=0))\n",
    "\n",
    "# normalize by number of events in a season -> then divide by all events in the season\n",
    "norm_grouped_event_df = grouped_event_df.div(grouped_event_df.sum(level=0), level=0)\n",
    "\n",
    "grouped_event_df = grouped_event_df.reset_index().round(3)\n",
    "norm_grouped_event_df = norm_grouped_event_df.reset_index().round(3)\n",
    "display(grouped_event_df, norm_grouped_event_df)"
   ]
  },
  {
   "cell_type": "markdown",
   "id": "7ba70a6b",
   "metadata": {},
   "source": [
    "## Percentage of distributed events over the seasons chart"
   ]
  },
  {
   "cell_type": "code",
   "execution_count": null,
   "id": "15fb02b2",
   "metadata": {},
   "outputs": [],
   "source": [
    "trace_arr = []\n",
    "unique_seasons = grouped_event_df[\"season_name\"].unique()\n",
    "unique_events = grouped_event_df[\"EVENTMSGTYPE\"].unique()\n",
    "# print(unique_events, unique_seasons)\n",
    "\n",
    "for event_i in unique_events:\n",
    "    event_df = grouped_event_df[grouped_event_df[\"EVENTMSGTYPE\"] == event_i]\n",
    "    # print(event_df.columns, event_df)\n",
    "    new_trace = go.Bar(x=event_df[\"season_name\"], y=event_df[0], name=event_i)\n",
    "    trace_arr.append(new_trace)\n",
    "    \n",
    "fig = go.Figure(data=trace_arr)\n",
    "fig.update_layout(barmode='stack', xaxis={'categoryorder':'array'})\n",
    "fig.update_layout(\n",
    "    title_text=\"Event count through the seasons\", \n",
    "    xaxis_title=\"Season\",\n",
    "    yaxis_title=\"Count\"\n",
    ")\n",
    "fig.show()"
   ]
  },
  {
   "cell_type": "code",
   "execution_count": null,
   "id": "72e9da60",
   "metadata": {},
   "outputs": [],
   "source": [
    "# normalized version\n",
    "trace_arr_n = []\n",
    "for event_i in unique_events:\n",
    "    event_df = norm_grouped_event_df[norm_grouped_event_df[\"EVENTMSGTYPE\"] == event_i]\n",
    "    new_trace = go.Bar(x=event_df[\"season_name\"], y=event_df[0], name=event_i)\n",
    "    trace_arr_n.append(new_trace)\n",
    "    \n",
    "fig = go.Figure(data=trace_arr_n)\n",
    "fig.update_layout(barmode='stack', xaxis={'categoryorder':'array'})\n",
    "fig.update_layout(\n",
    "    title_text=\"Event count normalized through the seasons\", \n",
    "    xaxis_title=\"Season\",\n",
    "    yaxis_title=\"Count\"\n",
    ")\n",
    "fig.show()"
   ]
  },
  {
   "cell_type": "code",
   "execution_count": null,
   "id": "26e5b89b",
   "metadata": {},
   "outputs": [],
   "source": []
  },
  {
   "cell_type": "code",
   "execution_count": null,
   "id": "205cff99",
   "metadata": {},
   "outputs": [],
   "source": []
  }
 ],
 "metadata": {
  "kernelspec": {
   "display_name": "Python [conda env:nba_play_by_play_data_mining]",
   "language": "python",
   "name": "conda-env-nba_play_by_play_data_mining-py"
  },
  "language_info": {
   "codemirror_mode": {
    "name": "ipython",
    "version": 3
   },
   "file_extension": ".py",
   "mimetype": "text/x-python",
   "name": "python",
   "nbconvert_exporter": "python",
   "pygments_lexer": "ipython3",
   "version": "3.9.13"
  }
 },
 "nbformat": 4,
 "nbformat_minor": 5
}
