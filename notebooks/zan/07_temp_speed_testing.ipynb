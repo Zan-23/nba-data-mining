{
 "cells": [
  {
   "cell_type": "markdown",
   "id": "d04eb64e",
   "metadata": {},
   "source": [
    "## Data extraction and feature preparation for prediction use cases 2 and 3"
   ]
  },
  {
   "cell_type": "code",
   "execution_count": null,
   "id": "18dbd676",
   "metadata": {},
   "outputs": [],
   "source": [
    "%reload_ext autoreload\n",
    "%autoreload 2\n",
    "import os \n",
    "import sys\n",
    "import pandas as pd\n",
    "import numpy as np\n",
    "from datetime import datetime\n",
    "import plotly \n",
    "import plotly.graph_objects as go\n",
    "from datetime import timedelta\n",
    "\n",
    "sys.path.insert(0, \"./../../src/\")\n",
    "from data_loader import load_game_data, load_game_data_zan, load_data"
   ]
  },
  {
   "cell_type": "code",
   "execution_count": null,
   "id": "4953bee8",
   "metadata": {},
   "outputs": [],
   "source": [
    "%%time\n",
    "# pbp_data_per_season = load_data(seasons=None, path=\"../../data/raw\", single_df=False, force_recompute=False)\n",
    "zan_seasons = load_game_data_zan()"
   ]
  },
  {
   "cell_type": "code",
   "execution_count": null,
   "id": "596b6015",
   "metadata": {
    "scrolled": false
   },
   "outputs": [],
   "source": []
  },
  {
   "cell_type": "code",
   "execution_count": null,
   "id": "626eb77f",
   "metadata": {},
   "outputs": [],
   "source": [
    "data_org = pd.read_pickle(\"../../data/processed/load_data_games_arr_v1.pkl\")\n",
    "data_zan = pd.read_pickle(\"../../data/processed/load_data_games_arr_v2_zan.pkl\")\n",
    "\n",
    "# compare the two methods for any different data\n",
    "difference_mask = data_org[data_org.index.isin(data_zan.index)].sort_index(axis=1) == data_zan.sort_index(axis=1)\n",
    "wrong_data_rows = data_zan.sort_index(axis=1)[~difference_mask].dropna(axis=1)\n",
    "display(wrong_data_rows)\n",
    "display(data_org.loc[wrong_data_rows.index][wrong_data_rows.columns])"
   ]
  },
  {
   "cell_type": "code",
   "execution_count": null,
   "id": "4fee99eb",
   "metadata": {},
   "outputs": [],
   "source": []
  },
  {
   "cell_type": "markdown",
   "id": "761f4343",
   "metadata": {},
   "source": [
    "Bench marks:\n",
    "1. unoptimized run\n",
    "Loading data from file C:\\Users\\Zan\\Desktop\\Faksic_TUM\\2_semester\\Praktikum_Data_mining\\nba-data-mining\\src\\./../data/processed/load_data_seasons_arr.pkl ...\n",
    "Loaded PBP-data\n",
    "CPU times: total: 51 sor the 2000-01 season\n",
    "Wall time: 51.6 s"
   ]
  },
  {
   "cell_type": "code",
   "execution_count": null,
   "id": "1b05d04e",
   "metadata": {
    "scrolled": false
   },
   "outputs": [],
   "source": []
  },
  {
   "cell_type": "markdown",
   "id": "66958477",
   "metadata": {
    "scrolled": false
   },
   "source": []
  },
  {
   "cell_type": "code",
   "execution_count": null,
   "id": "fddf679a",
   "metadata": {},
   "outputs": [],
   "source": []
  },
  {
   "cell_type": "code",
   "execution_count": null,
   "id": "a6f49447",
   "metadata": {},
   "outputs": [],
   "source": []
  },
  {
   "cell_type": "code",
   "execution_count": null,
   "id": "0ca558af",
   "metadata": {},
   "outputs": [],
   "source": []
  }
 ],
 "metadata": {
  "kernelspec": {
   "display_name": "Python [conda env:nba_play_by_play_data_mining]",
   "language": "python",
   "name": "conda-env-nba_play_by_play_data_mining-py"
  },
  "language_info": {
   "codemirror_mode": {
    "name": "ipython",
    "version": 3
   },
   "file_extension": ".py",
   "mimetype": "text/x-python",
   "name": "python",
   "nbconvert_exporter": "python",
   "pygments_lexer": "ipython3",
   "version": "3.9.13"
  }
 },
 "nbformat": 4,
 "nbformat_minor": 5
}
