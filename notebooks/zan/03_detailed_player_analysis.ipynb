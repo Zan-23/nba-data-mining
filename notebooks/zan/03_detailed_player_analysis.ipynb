{
 "cells": [
  {
   "cell_type": "markdown",
   "id": "1cc4083b",
   "metadata": {},
   "source": [
    "# Detailed player analysis"
   ]
  },
  {
   "cell_type": "code",
   "execution_count": null,
   "id": "50dc98f0",
   "metadata": {},
   "outputs": [],
   "source": [
    "%reload_ext autoreload\n",
    "%autoreload 2\n",
    "import os \n",
    "import sys\n",
    "import pandas as pd\n",
    "import numpy as np\n",
    "from datetime import datetime\n",
    "\n",
    "import plotly \n",
    "import plotly.graph_objects as go\n",
    "import time\n",
    "\n",
    "sys.path.insert(0, \"./../../src/\")\n",
    "from data_loader import load_data, load_player_data, player_data_preprocessing\n",
    "\n",
    "player_df = pd.read_csv(\"player_info_v3.csv\")\n",
    "columns = [\"Player ID\"] + list(player_df.columns)[1:]\n",
    "player_df.columns = columns\n",
    "\n",
    "player_df.head()"
   ]
  },
  {
   "cell_type": "markdown",
   "id": "ac23718a",
   "metadata": {},
   "source": [
    "# Distribution of stays in the NBA"
   ]
  },
  {
   "cell_type": "code",
   "execution_count": null,
   "id": "97e0e8ad",
   "metadata": {},
   "outputs": [],
   "source": [
    "# player_df[\"season_name_int\"] = player_df[\"season_name\"].str.replace(\"-\", \"\").astype(int)\n",
    "grouped_player = player_df[[\"season_name\", \"Player ID\"]].groupby(\"Player ID\")\\\n",
    "                    .count().sort_values(by=\"season_name\", ascending=False)\n",
    "grouped_player.columns = [\"season_count\"]\n",
    "\n",
    "print(f\"Average stay in NBA is: {grouped_player['season_count'].mean()}\")\n",
    "\n",
    "fig_hw = go.Figure([go.Histogram(x=grouped_player[\"season_count\"])])\n",
    "fig_hw.update_layout(\n",
    "    title_text=\"Distribution of player stays in NBA\", \n",
    "    xaxis_title=\"Seasons in NBA\",\n",
    "    yaxis_title=\"Count\"\n",
    ")\n",
    "fig_hw.show()"
   ]
  },
  {
   "cell_type": "code",
   "execution_count": null,
   "id": "fbdaaead",
   "metadata": {},
   "outputs": [],
   "source": [
    "top_10_longest_in_nba = grouped_player.reset_index()\\\n",
    "                        .merge(player_df, left_on='Player ID', right_on='Player ID')\\\n",
    "                        [[\"player_name\", \"season_count\"]].drop_duplicates()[:13]\n",
    "fig_countries = go.Figure([go.Bar(\n",
    "    x=top_10_longest_in_nba[\"player_name\"], \n",
    "    y=top_10_longest_in_nba[\"season_count\"]\n",
    "    )]\n",
    ")\n",
    "fig_countries.update_layout(\n",
    "    title_text=\"Top 13 players with the most seasons played (2000-2019)\", \n",
    "    yaxis_title=\"Count\",\n",
    "    xaxis_title=\"Player\",\n",
    ")\n",
    "fig_countries.update_traces(\n",
    "    textposition='outside'\n",
    ")\n",
    "fig_countries.show()\n",
    "\n",
    "display(top_10_longest_in_nba)"
   ]
  },
  {
   "cell_type": "code",
   "execution_count": null,
   "id": "ef0c6a31",
   "metadata": {},
   "outputs": [],
   "source": [
    "list(top_10_longest_in_nba[\"player_name\"])"
   ]
  },
  {
   "cell_type": "code",
   "execution_count": null,
   "id": "05689619",
   "metadata": {},
   "outputs": [],
   "source": []
  },
  {
   "cell_type": "code",
   "execution_count": null,
   "id": "692aadcd",
   "metadata": {},
   "outputs": [],
   "source": []
  },
  {
   "cell_type": "code",
   "execution_count": null,
   "id": "6841f3f0",
   "metadata": {},
   "outputs": [],
   "source": []
  },
  {
   "cell_type": "code",
   "execution_count": null,
   "id": "bcb3cbba",
   "metadata": {},
   "outputs": [],
   "source": []
  },
  {
   "cell_type": "code",
   "execution_count": null,
   "id": "116d3b2f",
   "metadata": {},
   "outputs": [],
   "source": []
  },
  {
   "cell_type": "code",
   "execution_count": null,
   "id": "24717fa4",
   "metadata": {},
   "outputs": [],
   "source": []
  }
 ],
 "metadata": {
  "kernelspec": {
   "display_name": "Python [conda env:nba_play_by_play_data_mining]",
   "language": "python",
   "name": "conda-env-nba_play_by_play_data_mining-py"
  },
  "language_info": {
   "codemirror_mode": {
    "name": "ipython",
    "version": 3
   },
   "file_extension": ".py",
   "mimetype": "text/x-python",
   "name": "python",
   "nbconvert_exporter": "python",
   "pygments_lexer": "ipython3",
   "version": "3.9.13"
  }
 },
 "nbformat": 4,
 "nbformat_minor": 5
}
