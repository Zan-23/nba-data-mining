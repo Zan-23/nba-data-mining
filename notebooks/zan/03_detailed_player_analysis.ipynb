{
 "cells": [
  {
   "cell_type": "markdown",
   "id": "1cc4083b",
   "metadata": {},
   "source": [
    "# Detailed player analysis"
   ]
  },
  {
   "cell_type": "code",
   "execution_count": null,
   "id": "50dc98f0",
   "metadata": {},
   "outputs": [],
   "source": [
    "%reload_ext autoreload\n",
    "%autoreload 2\n",
    "import os \n",
    "import sys\n",
    "import pandas as pd\n",
    "import numpy as np\n",
    "from datetime import datetime\n",
    "\n",
    "import plotly \n",
    "import plotly.graph_objects as go\n",
    "import time\n",
    "\n",
    "sys.path.insert(0, \"./../../src/\")\n",
    "from data_loader import load_data, load_player_data, player_data_preprocessing\n",
    "\n",
    "# player_df = pd.read_csv(\"player_info_v3.csv\")\n",
    "player_df = pd.read_csv(\"../../data/raw/player-data/player_info.csv\")\n",
    "# columns = [\"Player ID\"] + list(player_df.columns)[1:]\n",
    "# player_df_all = load_player_data()\n",
    "# player_df.columns = columns\n",
    "player_df = player_df.drop(columns=[\"Unnamed: 0\"])\n",
    "\n",
    "# filter data to be only until the given season\n",
    "player_df = player_df[player_df[\"Season\"].str.split(\"-\").str[0].astype(int) < 2019]\n",
    "player_df"
   ]
  },
  {
   "cell_type": "markdown",
   "id": "ac23718a",
   "metadata": {},
   "source": [
    "# Distribution of stays in the NBA"
   ]
  },
  {
   "cell_type": "code",
   "execution_count": null,
   "id": "97e0e8ad",
   "metadata": {},
   "outputs": [],
   "source": [
    "# player_df[\"season_name_int\"] = player_df[\"season_name\"].str.replace(\"-\", \"\").astype(int)\n",
    "grouped_player = player_df[[\"Season\", \"Player ID\"]].groupby(\"Player ID\")\\\n",
    "                    .count().sort_values(by=\"Season\", ascending=False)\n",
    "grouped_player.columns = [\"season_count\"]\n",
    "\n",
    "print(f\"Average stay in NBA is: {grouped_player['season_count'].mean()}\")\n",
    "\n",
    "fig_hw = go.Figure([go.Histogram(x=grouped_player[\"season_count\"])])\n",
    "fig_hw.update_layout(\n",
    "    title_text=\"Distribution of player stays in NBA\", \n",
    "    xaxis_title=\"Seasons in NBA\",\n",
    "    yaxis_title=\"Count\"\n",
    ")\n",
    "fig_hw.show()"
   ]
  },
  {
   "cell_type": "code",
   "execution_count": null,
   "id": "fbdaaead",
   "metadata": {},
   "outputs": [],
   "source": [
    "top_10_longest_in_nba = grouped_player.reset_index()\\\n",
    "                        .merge(player_df, left_on='Player ID', right_on='Player ID')\\\n",
    "                        [[\"Player\", \"season_count\"]].drop_duplicates()[:13]\n",
    "fig_countries = go.Figure([go.Bar(\n",
    "    x=top_10_longest_in_nba[\"Player\"], \n",
    "    y=top_10_longest_in_nba[\"season_count\"]\n",
    "    )]\n",
    ")\n",
    "fig_countries.update_layout(\n",
    "    title_text=\"Top 13 players with the most seasons played (2000-2019)\", \n",
    "    yaxis_title=\"Count\",\n",
    "    xaxis_title=\"Player\",\n",
    ")\n",
    "fig_countries.update_traces(\n",
    "    textposition='outside'\n",
    ")\n",
    "fig_countries.show()\n",
    "\n",
    "display(top_10_longest_in_nba)"
   ]
  },
  {
   "cell_type": "code",
   "execution_count": null,
   "id": "ef0c6a31",
   "metadata": {},
   "outputs": [],
   "source": [
    "list(top_10_longest_in_nba[\"Player\"])"
   ]
  },
  {
   "cell_type": "code",
   "execution_count": null,
   "id": "05689619",
   "metadata": {},
   "outputs": [],
   "source": []
  },
  {
   "cell_type": "markdown",
   "id": "4b55fcd1",
   "metadata": {},
   "source": [
    "## Club changes \n",
    "Finding the players with most club changes and clubs with highest player count.  \n",
    "   \n",
    "!! It can't take into account club changes mid season since we only have one data point per season"
   ]
  },
  {
   "cell_type": "code",
   "execution_count": null,
   "id": "6841f3f0",
   "metadata": {},
   "outputs": [],
   "source": [
    "unique_teams = player_df['Team'].unique()\n",
    "print(f\"Number of unique teams {len(unique_teams)}: {unique_teams}\")\n",
    "player_grouped_clubs = player_df.groupby(\"Player ID\").agg({\"Team\": list})\n",
    "# display(player_grouped_clubs)\n",
    "\n",
    "player_grouped_clubs[\"Club changes\"] = np.nan\n",
    "for index, row in player_grouped_clubs.iterrows():\n",
    "    if len(row[\"Team\"]) < 1:\n",
    "        raise Exception(\"Player was not in any club!!!\", row[\"Player\"])\n",
    "    \n",
    "    club_changes = 0\n",
    "    prev_club = row[\"Team\"][0]\n",
    "    for club in row[\"Team\"][1:]:\n",
    "        if prev_club != club:\n",
    "            club_changes += 1\n",
    "            prev_club = club\n",
    "            \n",
    "    player_grouped_clubs.loc[index, \"Club changes\"] = club_changes\n",
    "player_grouped_clubs[\"Club changes\"] = player_grouped_clubs[\"Club changes\"].astype(int)\n",
    "display(player_grouped_clubs)"
   ]
  },
  {
   "cell_type": "markdown",
   "id": "b9a32f31",
   "metadata": {},
   "source": [
    "Histogram of club changes."
   ]
  },
  {
   "cell_type": "code",
   "execution_count": null,
   "id": "bcb3cbba",
   "metadata": {},
   "outputs": [],
   "source": [
    "print(\"Median club changes: \", player_grouped_clubs[\"Club changes\"].median())\n",
    "print(player_grouped_clubs[\"Club changes\"].describe())\n",
    "\n",
    "fig_clubs= go.Figure([go.Histogram(x=player_grouped_clubs[\"Club changes\"])])\n",
    "fig_clubs.update_layout(\n",
    "    title_text=\"Distribution of club changes\", \n",
    "    yaxis_title=\"Count\",\n",
    "    xaxis_title=\"Club changes (0 means that they stayed in the same club they began their career in)\",\n",
    ")\n",
    "fig_clubs.update_layout(bargap=0.2)\n",
    "fig_clubs.show()"
   ]
  },
  {
   "cell_type": "markdown",
   "id": "019d66a3",
   "metadata": {},
   "source": [
    "Players with most club changes."
   ]
  },
  {
   "cell_type": "code",
   "execution_count": null,
   "id": "f2eb5a08",
   "metadata": {},
   "outputs": [],
   "source": [
    "merged_club_changes = player_grouped_clubs.reset_index()\\\n",
    "                        .merge(player_df, left_on='Player ID', right_on='Player ID')\\\n",
    "                        [[\"Player\", \"Player ID\", \"Club changes\"]].drop_duplicates()\n",
    "sorted_by_club_change = merged_club_changes.sort_values(\"Club changes\", ascending=False)\n",
    "\n",
    "# 14 since, that get's all the players that changed more than 8 clubs\n",
    "display(sorted_by_club_change[:14])\n",
    "# sorted_by_club_change[:14].to_csv(\"temp_table.csv\", index=False)"
   ]
  },
  {
   "cell_type": "code",
   "execution_count": null,
   "id": "fe6e2a16",
   "metadata": {},
   "outputs": [],
   "source": [
    "player_df[player_df[\"Player ID\"] == 1730]"
   ]
  },
  {
   "cell_type": "markdown",
   "id": "48b42053",
   "metadata": {},
   "source": [
    "# Finding clubs with the most and least players in each season"
   ]
  },
  {
   "cell_type": "code",
   "execution_count": null,
   "id": "17f10aa4",
   "metadata": {},
   "outputs": [],
   "source": [
    "unique_teams = player_df['Team'].unique()\n",
    "print(f\"Number of unique teams {len(unique_teams)}: {unique_teams}\")\n",
    "\n",
    "# group by team and then also season to since we want to know the player count each season\n",
    "clubs_grouped = player_df.groupby([\"Team\", \"Season\"])[[\"Player ID\", \"Player\"]].count() \n",
    "# .agg({\"Player ID\": list})\n",
    "clubs_grouped"
   ]
  },
  {
   "cell_type": "code",
   "execution_count": null,
   "id": "18db479a",
   "metadata": {},
   "outputs": [],
   "source": [
    "fig_club_size = go.Figure([go.Histogram(x=clubs_grouped[\"Player ID\"])])\n",
    "fig_club_size.update_layout(\n",
    "    title_text=\"Number of player per club in all seasons\", \n",
    "    yaxis_title=\"Count\",\n",
    "    xaxis_title=\"Number of players in club\",\n",
    ")\n",
    "fig_club_size.update_layout(bargap=0.2)\n",
    "fig_club_size.show()"
   ]
  },
  {
   "cell_type": "markdown",
   "id": "75e0c6ac",
   "metadata": {},
   "source": [
    "Clubs which had the most and least players in which ever season."
   ]
  },
  {
   "cell_type": "code",
   "execution_count": null,
   "id": "b97eb333",
   "metadata": {},
   "outputs": [],
   "source": [
    "print(\"Clubs with highest player count\")\n",
    "display(clubs_grouped.nlargest(3, \"Player ID\"))\n",
    "print(\"Clubs with lowest player count\")\n",
    "display(clubs_grouped.nsmallest(8, \"Player ID\"))\n",
    "# clubs_grouped.nsmallest(8, \"Player ID\")[\"Player\"].to_csv(\"temp_table.csv\")\n",
    "\n",
    "print(\"Median players in club\", clubs_grouped[\"Player ID\"].median())\n",
    "print(clubs_grouped[\"Player ID\"].describe())"
   ]
  },
  {
   "cell_type": "markdown",
   "id": "c464fbe6",
   "metadata": {},
   "source": [
    "# Average player count in clubs through the seasons "
   ]
  },
  {
   "cell_type": "code",
   "execution_count": null,
   "id": "0ffb326c",
   "metadata": {},
   "outputs": [],
   "source": [
    "# median is 15 in all seasons\n",
    "players_in_club_per_year_median = clubs_grouped[\"Player ID\"].groupby(\"Season\").median()\n",
    "players_in_club_per_year_median.index = players_in_club_per_year_median.index.str.replace(\"-\", \"-20\")\n",
    "\n",
    "players_in_club_per_year_mean = clubs_grouped[\"Player ID\"].groupby(\"Season\").mean()\n",
    "players_in_club_per_year_mean.index = players_in_club_per_year_mean.index.str.replace(\"-\", \"-20\")\n",
    "\n",
    "fig_club_changes = go.Figure(\n",
    "    [go.Scatter(x=players_in_club_per_year_median.index,y=players_in_club_per_year_median.values, \n",
    "                name=\"Median\"),\n",
    "     go.Scatter(x=players_in_club_per_year_mean.index,y=players_in_club_per_year_mean.values, \n",
    "                name=\"Mean\")]) \n",
    "fig_club_changes.update_layout(\n",
    "    title_text=\"Players per club (median-mean)\", \n",
    "    yaxis_title=\"Players in club\",\n",
    "    xaxis_title=\"Season\",\n",
    ")\n",
    "fig_club_changes.update_yaxes(rangemode=\"tozero\")\n",
    "fig_club_changes.show()"
   ]
  },
  {
   "cell_type": "code",
   "execution_count": null,
   "id": "3283c955",
   "metadata": {},
   "outputs": [],
   "source": [
    "# todo player can change mid season, mention that\n",
    "# correlation between player changes and their statistics\n",
    "player_df[player_df[\"Player\"] == 'Mike James']"
   ]
  },
  {
   "cell_type": "markdown",
   "id": "d9e1570d",
   "metadata": {},
   "source": [
    "## Club change with points scored corelation\n",
    "Column names meaning:   \n",
    "GP - Games Played   \n",
    "PTS - Points     \n",
    "REB - Rebounds   \n",
    "AST - Assists   \n",
    "NetRtg - Net Rating   \n",
    "OREB% - Offensive Rebound Percent    \n",
    "DREB% - Defensive Rebound Percent   \n",
    "USG% - Usage Percent   \n",
    "TS% - True Shot Percent   \n",
    "AST% - Assist Percent  "
   ]
  },
  {
   "cell_type": "code",
   "execution_count": null,
   "id": "8dbb403f",
   "metadata": {},
   "outputs": [],
   "source": [
    "# add a new column to df\n",
    "player_df[\"Season_20\"] = player_df[\"Season\"].str.replace(\"-\", \"-20\")\n",
    "# boolean, if True player changed clubs between this season and the previous one\n",
    "player_df[\"changed_club\"] = False\n",
    "\n",
    "for index, row in player_df.sort_values(\"Season_20\").iterrows():\n",
    "    if row[\"Season_20\"] == \"2000-2001\":\n",
    "        # noone can change clubs in the first season we have data for\n",
    "        continue\n",
    "\n",
    "    split_season = row[\"Season_20\"].split(\"-\")\n",
    "    prev_season = str((int(split_season[0]) - 1)) + \"-\" + str((int(split_season[1]) - 1))\n",
    "    \n",
    "    prev_player_row = player_df.loc[(player_df[\"Player ID\"] == row[\"Player ID\"]) & \n",
    "                  (player_df[\"Season_20\"] == prev_season)]\n",
    "    if len(prev_player_row) > 0:\n",
    "        # If a player existed in the previous season\n",
    "\n",
    "        if str(prev_player_row[\"Team\"].values[0]) != str(row[\"Team\"]):\n",
    "            player_df.loc[index, \"changed_club\"] = True\n",
    "player_df"
   ]
  },
  {
   "cell_type": "code",
   "execution_count": null,
   "id": "72864d84",
   "metadata": {
    "scrolled": true
   },
   "outputs": [],
   "source": [
    "# player_df[\"PTS\"].sort_values()\n",
    "metrics_col_arr = ['GP', 'PTS', 'REB', 'AST']  # , 'NetRtg'- add this if needed\n",
    "only_player_rows = player_df[player_df[\"Player ID\"] == 1630]\n",
    "# display(only_player_rows)\n",
    "\n",
    "def plot_player_performance(df, player_ids):\n",
    "    for p_id in player_ids:\n",
    "        curr_player_rows = df[df[\"Player ID\"] == p_id]\n",
    "        player_name = curr_player_rows['Player'].iloc[0]\n",
    "        print(f\"Player id {p_id}, name {player_name}\")\n",
    "        \n",
    "        scatter_arr = []\n",
    "        for column in metrics_col_arr:\n",
    "            curr_scatter = go.Scatter(x=curr_player_rows[\"Season_20\"], \n",
    "                                      y=curr_player_rows[column], name=column)\n",
    "            scatter_arr.append(curr_scatter)\n",
    "\n",
    "        fig_club_changes = go.Figure(scatter_arr) \n",
    "        changed_seasons = curr_player_rows[curr_player_rows[\"changed_club\"] == True][\"Season_20\"].values\n",
    "        # print(changed_seasons)\n",
    "        for season_str in changed_seasons:\n",
    "            fig_club_changes.add_vline(x=season_str, line_dash=\"dash\", opacity=0.75)\n",
    "        fig_club_changes.update_layout(\n",
    "            title_text=f\"{player_name} statistics through the seasons, with marked club changes\", \n",
    "            yaxis_title=\"Value\",\n",
    "            xaxis_title=\"Season\",\n",
    "        )\n",
    "        fig_club_changes.update_yaxes(rangemode=\"tozero\")\n",
    "        fig_club_changes.show()\n",
    "        \n",
    "top_14_player_ids = list(sorted_by_club_change[:14][\"Player ID\"].values) + [2544, 201939, 202695]\n",
    "plot_player_performance(player_df, top_14_player_ids)"
   ]
  },
  {
   "cell_type": "code",
   "execution_count": null,
   "id": "5b0fe6b8",
   "metadata": {},
   "outputs": [],
   "source": [
    "# Just description on how to do it\n",
    "# we would want to know how the player score increased or decreased if a club change happended\n",
    "# we look at each player, if changed is true, compare his scores before the change with \n",
    "# the ones after it and before it\n",
    "\n",
    "# idea 2, take the diff between sorted values, compare rows where the change club was false and where\n",
    "# it was true\n",
    "\n",
    "# GET superstar ids\n",
    "display(player_df[player_df[\"Player\"].isin([\"LeBron James\", \"Stephen Curry\", \"Kawhi Leonard\"])]\\\n",
    "        [\"Player ID\"].unique())"
   ]
  },
  {
   "cell_type": "code",
   "execution_count": null,
   "id": "a36d6fe7",
   "metadata": {},
   "outputs": [],
   "source": [
    "grouped_arrs_df = player_df.sort_values(\"Season_20\").groupby([\"Player ID\"])\\\n",
    "                        .agg({\"Season_20\": list, \"changed_club\": list, \"PTS\": list}) \n",
    "\n",
    "grouped_arrs_df[\"club_change_pts\"] = np.nan\n",
    "grouped_arrs_df[\"no_club_change_pts\"] = np.nan\n",
    "\n",
    "for index, row in grouped_arrs_df.iterrows():\n",
    "    club_change_pts = [0, 0]\n",
    "    no_club_change_pts = [0, 0] \n",
    "    \n",
    "    for changed_club, pts in zip(row[\"changed_club\"], row[\"PTS\"]):\n",
    "        if changed_club:\n",
    "            club_change_pts[0] += pts\n",
    "            club_change_pts[1] += 1\n",
    "        else:\n",
    "            no_club_change_pts[0] += pts\n",
    "            no_club_change_pts[1] += 1\n",
    "    # 1. normalize by the number of seasons in they changed or didn't change clubs\n",
    "    # 2. only set column if there were any seasons played \n",
    "    if club_change_pts[1] > 1:\n",
    "        grouped_arrs_df.loc[index, \"club_change_pts\"] = club_change_pts[0] / club_change_pts[1]\n",
    "\n",
    "    if no_club_change_pts[1] > 1:\n",
    "        grouped_arrs_df.loc[index, \"no_club_change_pts\"] = no_club_change_pts[0] / no_club_change_pts[1]\n",
    "display(grouped_arrs_df)"
   ]
  },
  {
   "cell_type": "code",
   "execution_count": null,
   "id": "afbebf3e",
   "metadata": {},
   "outputs": [],
   "source": [
    "display(grouped_arrs_df[\"club_change_pts\"].describe())\n",
    "display(grouped_arrs_df[\"no_club_change_pts\"].describe())\n",
    "print(\"Combined average points\")\n",
    "display((grouped_arrs_df[\"club_change_pts\"] + grouped_arrs_df[\"no_club_change_pts\"]).describe())"
   ]
  },
  {
   "cell_type": "code",
   "execution_count": null,
   "id": "43c17a2f",
   "metadata": {},
   "outputs": [],
   "source": [
    "box_plot_arr = [go.Box(y=grouped_arrs_df['no_club_change_pts'], name=\"Stayed in club\"), \n",
    "                go.Box(y=grouped_arrs_df['club_change_pts'], name=\"Changed club\")]\n",
    "\n",
    "fig_club_changes = go.Figure(box_plot_arr) \n",
    "\n",
    "fig_club_changes.update_layout(\n",
    "    title_text=f\"Impact of club change on point average by players\", \n",
    "    yaxis_title=\"Points scored\"\n",
    ")\n",
    "fig_club_changes.update_yaxes(rangemode=\"tozero\")\n",
    "fig_club_changes.show()"
   ]
  },
  {
   "cell_type": "code",
   "execution_count": null,
   "id": "c793b400",
   "metadata": {},
   "outputs": [],
   "source": []
  }
 ],
 "metadata": {
  "kernelspec": {
   "display_name": "Python [conda env:nba_play_by_play_data_mining]",
   "language": "python",
   "name": "conda-env-nba_play_by_play_data_mining-py"
  },
  "language_info": {
   "codemirror_mode": {
    "name": "ipython",
    "version": 3
   },
   "file_extension": ".py",
   "mimetype": "text/x-python",
   "name": "python",
   "nbconvert_exporter": "python",
   "pygments_lexer": "ipython3",
   "version": "3.9.13"
  }
 },
 "nbformat": 4,
 "nbformat_minor": 5
}
