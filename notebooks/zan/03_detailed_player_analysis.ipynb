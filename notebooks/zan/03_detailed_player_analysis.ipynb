{
 "cells": [
  {
   "cell_type": "markdown",
   "id": "1cc4083b",
   "metadata": {},
   "source": [
    "# Detailed player analysis"
   ]
  },
  {
   "cell_type": "code",
   "execution_count": null,
   "id": "50dc98f0",
   "metadata": {},
   "outputs": [],
   "source": [
    "%reload_ext autoreload\n",
    "%autoreload 2\n",
    "import os \n",
    "import sys\n",
    "import pandas as pd\n",
    "import numpy as np\n",
    "from datetime import datetime\n",
    "\n",
    "import plotly \n",
    "import plotly.graph_objects as go\n",
    "import time\n",
    "\n",
    "sys.path.insert(0, \"./../../src/\")\n",
    "from data_loader import load_data, load_player_data, player_data_preprocessing\n",
    "\n",
    "# player_df = pd.read_csv(\"player_info_v3.csv\")\n",
    "player_df = pd.read_csv(\"../../data/raw/player-data/player_info.csv\")\n",
    "# columns = [\"Player ID\"] + list(player_df.columns)[1:]\n",
    "# player_df_all = load_player_data()\n",
    "# player_df.columns = columns\n",
    "player_df = player_df.drop(columns=[\"Unnamed: 0\"])\n",
    "\n",
    "# filter data to be only until the given season\n",
    "player_df = player_df[player_df[\"Season\"].str.split(\"-\").str[0].astype(int) < 2019]\n",
    "player_df"
   ]
  },
  {
   "cell_type": "markdown",
   "id": "ac23718a",
   "metadata": {},
   "source": [
    "# Distribution of stays in the NBA"
   ]
  },
  {
   "cell_type": "code",
   "execution_count": null,
   "id": "97e0e8ad",
   "metadata": {},
   "outputs": [],
   "source": [
    "# player_df[\"season_name_int\"] = player_df[\"season_name\"].str.replace(\"-\", \"\").astype(int)\n",
    "grouped_player = player_df[[\"Season\", \"Player ID\"]].groupby(\"Player ID\")\\\n",
    "                    .count().sort_values(by=\"Season\", ascending=False)\n",
    "grouped_player.columns = [\"season_count\"]\n",
    "\n",
    "print(f\"Average stay in NBA is: {grouped_player['season_count'].mean()}\")\n",
    "\n",
    "fig_hw = go.Figure([go.Histogram(x=grouped_player[\"season_count\"])])\n",
    "fig_hw.update_layout(\n",
    "    title_text=\"Distribution of player stays in NBA\", \n",
    "    xaxis_title=\"Seasons in NBA\",\n",
    "    yaxis_title=\"Count\"\n",
    ")\n",
    "fig_hw.show()"
   ]
  },
  {
   "cell_type": "code",
   "execution_count": null,
   "id": "fbdaaead",
   "metadata": {},
   "outputs": [],
   "source": [
    "top_10_longest_in_nba = grouped_player.reset_index()\\\n",
    "                        .merge(player_df, left_on='Player ID', right_on='Player ID')\\\n",
    "                        [[\"Player\", \"season_count\"]].drop_duplicates()[:13]\n",
    "fig_countries = go.Figure([go.Bar(\n",
    "    x=top_10_longest_in_nba[\"Player\"], \n",
    "    y=top_10_longest_in_nba[\"season_count\"]\n",
    "    )]\n",
    ")\n",
    "fig_countries.update_layout(\n",
    "    title_text=\"Top 13 players with the most seasons played (2000-2019)\", \n",
    "    yaxis_title=\"Count\",\n",
    "    xaxis_title=\"Player\",\n",
    ")\n",
    "fig_countries.update_traces(\n",
    "    textposition='outside'\n",
    ")\n",
    "fig_countries.show()\n",
    "\n",
    "display(top_10_longest_in_nba)"
   ]
  },
  {
   "cell_type": "code",
   "execution_count": null,
   "id": "ef0c6a31",
   "metadata": {},
   "outputs": [],
   "source": [
    "list(top_10_longest_in_nba[\"Player\"])"
   ]
  },
  {
   "cell_type": "code",
   "execution_count": null,
   "id": "05689619",
   "metadata": {},
   "outputs": [],
   "source": []
  },
  {
   "cell_type": "markdown",
   "id": "a597e743",
   "metadata": {},
   "source": [
    "## Club changes \n",
    "Finding the players with most club changes and clubs with highest player count.  \n",
    "   \n",
    "!! It can't take into account club changes mid season since we only have one data point per season"
   ]
  },
  {
   "cell_type": "code",
   "execution_count": null,
   "id": "6841f3f0",
   "metadata": {},
   "outputs": [],
   "source": [
    "unique_teams = player_df['Team'].unique()\n",
    "print(f\"Number of unique teams {len(unique_teams)}: {unique_teams}\")\n",
    "player_grouped_clubs = player_df.groupby(\"Player ID\").agg({\"Team\": list})\n",
    "# display(player_grouped_clubs)\n",
    "\n",
    "player_grouped_clubs[\"Club changes\"] = np.nan\n",
    "for index, row in player_grouped_clubs.iterrows():\n",
    "    if len(row[\"Team\"]) < 1:\n",
    "        raise Exception(\"Player was not in any club!!!\", row[\"Player\"])\n",
    "    \n",
    "    club_changes = 0\n",
    "    prev_club = row[\"Team\"][0]\n",
    "    for club in row[\"Team\"][1:]:\n",
    "        if prev_club != club:\n",
    "            club_changes += 1\n",
    "            prev_club = club\n",
    "            \n",
    "    player_grouped_clubs.loc[index, \"Club changes\"] = club_changes\n",
    "player_grouped_clubs[\"Club changes\"] = player_grouped_clubs[\"Club changes\"].astype(int)\n",
    "display(player_grouped_clubs)"
   ]
  },
  {
   "cell_type": "markdown",
   "id": "d78b3e9d",
   "metadata": {},
   "source": [
    "Histogram of club changes."
   ]
  },
  {
   "cell_type": "code",
   "execution_count": null,
   "id": "bcb3cbba",
   "metadata": {},
   "outputs": [],
   "source": [
    "print(\"Median club changes: \", player_grouped_clubs[\"Club changes\"].median())\n",
    "print(player_grouped_clubs[\"Club changes\"].describe())\n",
    "\n",
    "fig_clubs= go.Figure([go.Histogram(x=player_grouped_clubs[\"Club changes\"])])\n",
    "fig_clubs.update_layout(\n",
    "    title_text=\"Distribution of club changes per player\", \n",
    "    yaxis_title=\"Count\",\n",
    "    xaxis_title=\"Club changes (0 means that they stayed in the same club they began their career in)\",\n",
    ")\n",
    "fig_clubs.update_layout(bargap=0.2)\n",
    "fig_clubs.show()\n"
   ]
  },
  {
   "cell_type": "markdown",
   "id": "44a23dbe",
   "metadata": {},
   "source": [
    "Players with most club changes."
   ]
  },
  {
   "cell_type": "code",
   "execution_count": null,
   "id": "dc9312f8",
   "metadata": {},
   "outputs": [],
   "source": [
    "merged_club_changes = player_grouped_clubs.reset_index()\\\n",
    "                        .merge(player_df, left_on='Player ID', right_on='Player ID')\\\n",
    "                        [[\"Player\", \"Player ID\", \"Club changes\"]].drop_duplicates()\n",
    "sorted_by_club_change = merged_club_changes.sort_values(\"Club changes\", ascending=False)\n",
    "\n",
    "# 14 since, that get's all the players that changed more than 8 clubs\n",
    "display(sorted_by_club_change[:14])"
   ]
  },
  {
   "cell_type": "markdown",
   "id": "68422be4",
   "metadata": {},
   "source": [
    "# Finding clubs with the most and least players in each season"
   ]
  },
  {
   "cell_type": "code",
   "execution_count": null,
   "id": "1755af49",
   "metadata": {},
   "outputs": [],
   "source": [
    "unique_teams = player_df['Team'].unique()\n",
    "print(f\"Number of unique teams {len(unique_teams)}: {unique_teams}\")\n",
    "\n",
    "# group by team and then also season to since we want to know the player count each season\n",
    "clubs_grouped = player_df.groupby([\"Team\", \"Season\"])[[\"Player ID\", \"Player\"]].count() \n",
    "# .agg({\"Player ID\": list})\n",
    "clubs_grouped"
   ]
  },
  {
   "cell_type": "code",
   "execution_count": null,
   "id": "7f2e5ad1",
   "metadata": {},
   "outputs": [],
   "source": [
    "fig_club_size = go.Figure([go.Histogram(x=clubs_grouped[\"Player ID\"])])\n",
    "fig_club_size.update_layout(\n",
    "    title_text=\"Number of player in one club in all seasons\", \n",
    "    yaxis_title=\"Count\",\n",
    "    xaxis_title=\"Number of players in club\",\n",
    ")\n",
    "fig_club_size.update_layout(bargap=0.2)\n",
    "fig_club_size.show()"
   ]
  },
  {
   "cell_type": "markdown",
   "id": "5d4b1809",
   "metadata": {},
   "source": [
    "Clubs which had the most and least players in which ever season."
   ]
  },
  {
   "cell_type": "code",
   "execution_count": null,
   "id": "cdcde33e",
   "metadata": {},
   "outputs": [],
   "source": [
    "print(\"Clubs with highest player count\")\n",
    "display(clubs_grouped.nlargest(10, \"Player ID\"))\n",
    "print(\"Clubs with lowest player count\")\n",
    "display(clubs_grouped.nsmallest(10, \"Player ID\"))\n",
    "\n",
    "print(\"Median players in club\", clubs_grouped[\"Player ID\"].median())\n",
    "print(clubs_grouped[\"Player ID\"].describe())"
   ]
  },
  {
   "cell_type": "code",
   "execution_count": null,
   "id": "58d349de",
   "metadata": {},
   "outputs": [],
   "source": []
  },
  {
   "cell_type": "code",
   "execution_count": null,
   "id": "88860bac",
   "metadata": {},
   "outputs": [],
   "source": []
  },
  {
   "cell_type": "code",
   "execution_count": null,
   "id": "eb5c9eb9",
   "metadata": {},
   "outputs": [],
   "source": []
  }
 ],
 "metadata": {
  "kernelspec": {
   "display_name": "Python [conda env:nba_play_by_play_data_mining]",
   "language": "python",
   "name": "conda-env-nba_play_by_play_data_mining-py"
  },
  "language_info": {
   "codemirror_mode": {
    "name": "ipython",
    "version": 3
   },
   "file_extension": ".py",
   "mimetype": "text/x-python",
   "name": "python",
   "nbconvert_exporter": "python",
   "pygments_lexer": "ipython3",
   "version": "3.9.13"
  }
 },
 "nbformat": 4,
 "nbformat_minor": 5
}
