{
 "cells": [
  {
   "cell_type": "markdown",
   "id": "2f69a7b2",
   "metadata": {},
   "source": [
    "## Game timestamp standardization\n",
    "In this notebook I will try to standardize time in the data set for in game analysis."
   ]
  },
  {
   "cell_type": "code",
   "execution_count": null,
   "id": "13f9c2b9",
   "metadata": {},
   "outputs": [],
   "source": [
    "%reload_ext autoreload\n",
    "%autoreload 2\n",
    "import os \n",
    "import sys\n",
    "import pandas as pd\n",
    "import numpy as np\n",
    "from datetime import datetime\n",
    "import plotly \n",
    "import plotly.graph_objects as go\n",
    "from datetime import timedelta\n",
    "\n",
    "sys.path.insert(0, \"./../../src/\")\n",
    "from data_loader import load_data"
   ]
  },
  {
   "cell_type": "code",
   "execution_count": null,
   "id": "dc3cf1c8",
   "metadata": {},
   "outputs": [],
   "source": [
    "%%time\n",
    "\n",
    "# force_recompute flag if we want to completly reload data\n",
    "seasons = load_data(single_df=True, force_recompute=False)\n",
    "display(seasons)"
   ]
  },
  {
   "cell_type": "code",
   "execution_count": null,
   "id": "5abf0a15",
   "metadata": {
    "scrolled": true
   },
   "outputs": [],
   "source": [
    "# To get unique elements\n",
    "# unique_elements = seasons.nunique()\n",
    "# unique_elements.to_csv(\"table.csv\")"
   ]
  },
  {
   "cell_type": "markdown",
   "id": "93147240",
   "metadata": {},
   "source": [
    "## Load optimization\n",
    "Not related to this use case, but I need it for wiki so I describe how I optimized space and computation."
   ]
  },
  {
   "cell_type": "code",
   "execution_count": null,
   "id": "e3b46409",
   "metadata": {},
   "outputs": [],
   "source": [
    "if 2 == 3:\n",
    "    display(seasons.dtypes)\n",
    "    for col in seasons:\n",
    "        print(col, len(seasons[col].unique()))\n",
    "\n",
    "    categories_arr = ['EVENTMSGACTIONTYPE', 'EVENTMSGTYPE', 'GAME_ID', 'PERIOD', 'PERSON1TYPE',\n",
    "           'PERSON2TYPE', 'PERSON3TYPE', 'PLAYER1_ID', 'PLAYER1_NAME',\n",
    "           'PLAYER1_TEAM_ABBREVIATION', 'PLAYER1_TEAM_CITY', 'PLAYER1_TEAM_ID',\n",
    "           'PLAYER1_TEAM_NICKNAME', 'PLAYER2_ID', 'PLAYER2_NAME',\n",
    "           'PLAYER2_TEAM_ABBREVIATION', 'PLAYER2_TEAM_CITY', 'PLAYER2_TEAM_ID',\n",
    "           'PLAYER2_TEAM_NICKNAME', 'PLAYER3_ID', 'PLAYER3_NAME',\n",
    "           'PLAYER3_TEAM_ABBREVIATION', 'PLAYER3_TEAM_CITY', 'PLAYER3_TEAM_ID',\n",
    "           'PLAYER3_TEAM_NICKNAME', 'season_name', 'home_shot_distance',\n",
    "           'visitor_shot_distance']\n",
    "    seasons[categories_arr] = seasons[categories_arr].astype('category')\n",
    "    \"\"\"\n",
    "    display(seasons)\n",
    "    with open(\"tmp_test_category.pkl\", \"wb\") as file:\n",
    "        pickle.dump(seasons, file)\n",
    "    \"\"\"\n",
    "    display(seasons.dtypes)"
   ]
  },
  {
   "cell_type": "code",
   "execution_count": null,
   "id": "1b1f0549",
   "metadata": {},
   "outputs": [],
   "source": []
  },
  {
   "cell_type": "markdown",
   "id": "fe24c1ae",
   "metadata": {},
   "source": [
    "## Finding seasons which have corrupt timestamps"
   ]
  },
  {
   "cell_type": "code",
   "execution_count": null,
   "id": "c47e7258",
   "metadata": {},
   "outputs": [],
   "source": [
    "duration_of_each_game = seasons.groupby(\"GAME_ID\").count()[\"WCTIMESTRING\"]\t\n",
    "display(duration_of_each_game)"
   ]
  },
  {
   "cell_type": "code",
   "execution_count": null,
   "id": "d635a7b3",
   "metadata": {},
   "outputs": [],
   "source": [
    "correct_time_format_regex = \"^\\s?([0][0-9]|[1][0-2]|[0-9]):[0-5][0-9]\\s?(?:AM|PM|am|pm)$\"\n",
    "correct_t_mask = seasons[\"WCTIMESTRING\"].str.match(correct_time_format_regex)\n",
    "correct_t_df = seasons[correct_t_mask]\n",
    "wrong_t_df = seasons[~correct_t_mask]\n",
    "\n",
    "wrong_data_grouped_game = wrong_t_df.groupby(\"season_name\").count()[\"GAME_ID\"]\n",
    "correct_data_grouped_game = correct_t_df.groupby(\"season_name\").count()[\"GAME_ID\"]\n",
    "# replacing string values for plotting purposes\n",
    "correct_data_grouped_game.index = correct_data_grouped_game.index.str.replace(\"-\", \"-20\")\n",
    "wrong_data_grouped_game.index = wrong_data_grouped_game.index.str.replace(\"-\", \"-20\")\n",
    "\n",
    "display(wrong_data_grouped_game)\n",
    "display(correct_data_grouped_game)"
   ]
  },
  {
   "cell_type": "code",
   "execution_count": null,
   "id": "0eed207e",
   "metadata": {},
   "outputs": [],
   "source": []
  },
  {
   "cell_type": "code",
   "execution_count": null,
   "id": "ac07017e",
   "metadata": {},
   "outputs": [],
   "source": [
    "fig = go.Figure()\n",
    "fig.add_trace(go.Scatter(\n",
    "    x=wrong_data_grouped_game.index,\n",
    "    y=wrong_data_grouped_game.values,\n",
    "    name=\"Wrong count\"\n",
    "    )\n",
    ")\n",
    "fig.add_trace(go.Scatter(\n",
    "    x=correct_data_grouped_game.index,\n",
    "    y=correct_data_grouped_game.values,\n",
    "    name=\"Correct count\"\n",
    "    )\n",
    ")\n",
    "fig.update_layout(\n",
    "    title_text=\"Count of wrong and right WCTIMESTRING values for each season\", \n",
    "    xaxis_title=\"Season\",\n",
    "    yaxis_title=\"Count\"\n",
    ")\n",
    "fig.show()"
   ]
  },
  {
   "cell_type": "code",
   "execution_count": null,
   "id": "f7d7364d",
   "metadata": {},
   "outputs": [],
   "source": []
  },
  {
   "cell_type": "markdown",
   "id": "636033a8",
   "metadata": {},
   "source": [
    "## Converting to correct timestamps in datetime"
   ]
  },
  {
   "cell_type": "code",
   "execution_count": null,
   "id": "04af6f4a",
   "metadata": {},
   "outputs": [],
   "source": [
    "# filter data to only have seasons after 2012\n",
    "after_2012_data = correct_t_df[correct_t_df[\"season_name\"] >= \"2012-2013\"]\n",
    "# convert the dataframe to correct datetime format\n",
    "after_2012_data[\"real_world_time\"] = pd.to_datetime(after_2012_data[\"WCTIMESTRING\"], \n",
    "                                              format='%I:%M %p').dt.strftime('%H:%M')\n",
    "\n",
    "# group data by game ID and find start and end of a game\n",
    "grouped_by_game = after_2012_data.groupby(\"GAME_ID\").agg({\"real_world_time\": list})\n",
    "grouped_by_game[\"game_start_time\"] = np.nan\n",
    "grouped_by_game[\"game_end_time\"] = np.nan\n",
    "\n",
    "for index, row in grouped_by_game.iterrows():\n",
    "    # very dumb handling of edge cases and wrong values\n",
    "    until_midnight = []\n",
    "    after_midnight = []\n",
    "    for time_str in row[\"real_world_time\"]:\n",
    "        if time_str <= \"23:59\" and time_str >= \"10:59\":\n",
    "            until_midnight.append(time_str)\n",
    "        else:\n",
    "            after_midnight.append(time_str)\n",
    "    curr_row_arr = sorted(until_midnight) + sorted(after_midnight)\n",
    "    start_time = pd.to_datetime(curr_row_arr[0], format='%H:%M')\n",
    "    end_time = pd.to_datetime(curr_row_arr[-1], format='%H:%M')\n",
    "    \n",
    "    if start_time.hour > 10 and end_time.hour < 10:\n",
    "        # add one day, if clock goes over midnight\n",
    "        end_time = end_time + timedelta(hours=24)\n",
    "    grouped_by_game.loc[index, \"game_start_time\"] = start_time\n",
    "    grouped_by_game.loc[index, \"game_end_time\"] = end_time\n",
    "\n",
    "grouped_by_game[\"game_duration\"] = grouped_by_game[\"game_end_time\"] - \\\n",
    "                                            grouped_by_game[\"game_start_time\"]\n",
    "# convert to minutes\n",
    "grouped_by_game[\"game_duration\"] = grouped_by_game[\"game_duration\"].dt.total_seconds().div(60).astype(int)\n",
    "display(grouped_by_game)"
   ]
  },
  {
   "cell_type": "code",
   "execution_count": null,
   "id": "e52b8939",
   "metadata": {},
   "outputs": [],
   "source": [
    "print(\"Discarded games\", len(grouped_by_game[grouped_by_game[\"game_duration\"] >= 250]))"
   ]
  },
  {
   "cell_type": "code",
   "execution_count": null,
   "id": "71540c2f",
   "metadata": {},
   "outputs": [],
   "source": [
    "# removing all rows which have durations bigger than 250, since most are wrongly formatted\n",
    "grouped_by_game = grouped_by_game[grouped_by_game[\"game_duration\"] < 250]"
   ]
  },
  {
   "cell_type": "markdown",
   "id": "844ec20e",
   "metadata": {},
   "source": [
    "## Visualizing durations and removing non-correct values"
   ]
  },
  {
   "cell_type": "code",
   "execution_count": null,
   "id": "1b189fc1",
   "metadata": {},
   "outputs": [],
   "source": [
    "\n",
    "# removing date component from date time\n",
    "grouped_by_game[\"game_start_t_24h\"] = [val.time() for val in grouped_by_game[\"game_start_time\"]]\n",
    "grouped_by_game[\"game_end_t_24h\"] = [val.time() for val in grouped_by_game[\"game_end_time\"]]\n",
    "display(grouped_by_game)"
   ]
  },
  {
   "cell_type": "code",
   "execution_count": null,
   "id": "537541bf",
   "metadata": {},
   "outputs": [],
   "source": [
    "# Visualize average staring and end times of games\n",
    "# grouped_by_start_t = grouped_by_game.groupby(\"game_start_time\").count()[\"real_world_time\"]\n",
    "grouped_by_start_t = grouped_by_game.set_index(\"game_start_time\").resample(\"15min\").count()\n",
    "grouped_by_end_t = grouped_by_game.set_index(\"game_end_time\").resample(\"15min\").count()\n",
    "\n",
    "fig = go.Figure()\n",
    "fig.add_trace(go.Bar(\n",
    "    x=grouped_by_start_t.index.strftime('%H:%M'),\n",
    "    y=grouped_by_start_t[\"real_world_time\"],\n",
    "    name=\"Game started at\"\n",
    "    )\n",
    ")\n",
    "fig.add_trace(go.Bar(\n",
    "    x=grouped_by_end_t.index.strftime('%H:%M'),\n",
    "    y=grouped_by_end_t[\"real_world_time\"],\n",
    "    name=\"Game finished at\"\n",
    "    )\n",
    ")\n",
    "fig.update_layout(\n",
    "    title_text=\"Games started and finished at time of day\", \n",
    "    xaxis_title=\"Hour and minute of day (rounded to 15 minutes)\",\n",
    "    yaxis_title=\"Count\",\n",
    ")\n",
    "\n",
    "fig.show()"
   ]
  },
  {
   "cell_type": "code",
   "execution_count": null,
   "id": "a5c9f57e",
   "metadata": {},
   "outputs": [],
   "source": [
    "# average game start and end\n",
    "print(grouped_by_end_t.reset_index()[\"game_end_time\"].median())\n",
    "dates = list(grouped_by_end_t.reset_index().sort_values(\"game_end_time\")[\"game_end_time\"])\n",
    "print(dates[len(dates)//2])\n",
    "\n",
    "dates = list(grouped_by_start_t.reset_index().sort_values(\"game_start_time\")[\"game_start_time\"])\n",
    "print(dates[len(dates)//2])"
   ]
  },
  {
   "cell_type": "code",
   "execution_count": null,
   "id": "83bb4ceb",
   "metadata": {},
   "outputs": [],
   "source": []
  },
  {
   "cell_type": "code",
   "execution_count": null,
   "id": "6c15f4c0",
   "metadata": {},
   "outputs": [],
   "source": [
    "# Visualizing durations of games\n",
    "fig = go.Figure()\n",
    "fig.add_trace(go.Histogram(\n",
    "    x=grouped_by_game[\"game_duration\"]\n",
    "    )\n",
    ")\n",
    "fig.update_layout(\n",
    "    title_text=\"Histogram of game durations\", \n",
    "    xaxis_title=\"Game duration in minutes\",\n",
    "    yaxis_title=\"Count\"\n",
    ")\n",
    "fig.update_xaxes(tick0=grouped_by_game[\"game_duration\"].min())\n",
    "fig.show()"
   ]
  },
  {
   "cell_type": "code",
   "execution_count": null,
   "id": "bcd5cd8b",
   "metadata": {},
   "outputs": [],
   "source": [
    "grouped_by_game[\"game_duration\"].mean()"
   ]
  },
  {
   "cell_type": "markdown",
   "id": "ef39a8d3",
   "metadata": {},
   "source": [
    "# Wrongly inputed timestamps handling\n",
    "TODO, set rows after 250 in duration to correct values"
   ]
  },
  {
   "cell_type": "code",
   "execution_count": null,
   "id": "34e17c2b",
   "metadata": {},
   "outputs": [],
   "source": [
    "\n",
    "merged_df_t2 = correct_t_df.merge(wrong_game_durations[\"real_world_time\"], \n",
    "                   right_index=True,\n",
    "                   left_on='GAME_ID')\n",
    "display(merged_df_t2[merged_df_t2['GAME_ID'] == \"0021701054\"])\n",
    "\n",
    "#  & merged_df_t2['WCTIMESTRING'] == '7:30 PM'\n",
    "# merged_df_t2[(merged_df_t2['GAME_ID'] == \"0021700097\")]['WCTIMESTRING'].unique()\n",
    "# display(merged_df_t2[(merged_df_t2['GAME_ID'] == \"0021701054\")].sort_values(\"Unnamed: 0\"))\n",
    "merged_df_t2[(merged_df_t2['GAME_ID'] == \"0021700097\") & \\\n",
    "             (merged_df_t2['WCTIMESTRING'] == '7:30 PM')].iloc[2]"
   ]
  },
  {
   "cell_type": "code",
   "execution_count": null,
   "id": "6f315a91",
   "metadata": {},
   "outputs": [],
   "source": []
  },
  {
   "cell_type": "code",
   "execution_count": null,
   "id": "833464a1",
   "metadata": {
    "scrolled": false
   },
   "outputs": [],
   "source": [
    "\n"
   ]
  },
  {
   "cell_type": "code",
   "execution_count": null,
   "id": "4760a476",
   "metadata": {},
   "outputs": [],
   "source": []
  },
  {
   "cell_type": "code",
   "execution_count": null,
   "id": "d7a7efae",
   "metadata": {},
   "outputs": [],
   "source": []
  },
  {
   "cell_type": "code",
   "execution_count": null,
   "id": "e28d853c",
   "metadata": {},
   "outputs": [],
   "source": []
  },
  {
   "cell_type": "code",
   "execution_count": null,
   "id": "32607b19",
   "metadata": {},
   "outputs": [],
   "source": []
  },
  {
   "cell_type": "code",
   "execution_count": null,
   "id": "600a5b7f",
   "metadata": {},
   "outputs": [],
   "source": []
  },
  {
   "cell_type": "code",
   "execution_count": null,
   "id": "91856ad8",
   "metadata": {},
   "outputs": [],
   "source": []
  },
  {
   "cell_type": "code",
   "execution_count": null,
   "id": "eec6cc7e",
   "metadata": {},
   "outputs": [],
   "source": []
  }
 ],
 "metadata": {
  "kernelspec": {
   "display_name": "Python [conda env:nba_play_by_play_data_mining]",
   "language": "python",
   "name": "conda-env-nba_play_by_play_data_mining-py"
  },
  "language_info": {
   "codemirror_mode": {
    "name": "ipython",
    "version": 3
   },
   "file_extension": ".py",
   "mimetype": "text/x-python",
   "name": "python",
   "nbconvert_exporter": "python",
   "pygments_lexer": "ipython3",
   "version": "3.9.13"
  }
 },
 "nbformat": 4,
 "nbformat_minor": 5
}
