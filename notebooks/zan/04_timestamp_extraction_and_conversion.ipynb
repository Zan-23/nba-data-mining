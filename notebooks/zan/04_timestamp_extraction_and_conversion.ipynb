{
 "cells": [
  {
   "cell_type": "markdown",
   "id": "2f69a7b2",
   "metadata": {},
   "source": [
    "## Game timestamp standardization\n",
    "In this notebook I will try to standardize time in the data set for in game analysis."
   ]
  },
  {
   "cell_type": "code",
   "execution_count": null,
   "id": "13f9c2b9",
   "metadata": {},
   "outputs": [],
   "source": [
    "%reload_ext autoreload\n",
    "%autoreload 2\n",
    "import os \n",
    "import sys\n",
    "import pandas as pd\n",
    "import numpy as np\n",
    "from datetime import datetime\n",
    "import plotly \n",
    "import plotly.graph_objects as go\n",
    "\n",
    "sys.path.insert(0, \"./../../src/\")\n",
    "from data_loader import load_data"
   ]
  },
  {
   "cell_type": "code",
   "execution_count": null,
   "id": "dc3cf1c8",
   "metadata": {},
   "outputs": [],
   "source": [
    "%%time\n",
    "\n",
    "# force_recompute flag if we want to completly reload data\n",
    "seasons = load_data(single_df=True, force_recompute=False)\n",
    "display(seasons)"
   ]
  },
  {
   "cell_type": "markdown",
   "id": "ea2374eb",
   "metadata": {},
   "source": [
    "## Load optimization\n",
    "Not related to this use case, but I need it for wiki so I describe how I optimized space and computation."
   ]
  },
  {
   "cell_type": "code",
   "execution_count": null,
   "id": "944855d3",
   "metadata": {},
   "outputs": [],
   "source": [
    "if 2 == 3:\n",
    "    display(seasons.dtypes)\n",
    "    for col in seasons:\n",
    "        print(col, len(seasons[col].unique()))\n",
    "\n",
    "    categories_arr = ['EVENTMSGACTIONTYPE', 'EVENTMSGTYPE', 'GAME_ID', 'PERIOD', 'PERSON1TYPE',\n",
    "           'PERSON2TYPE', 'PERSON3TYPE', 'PLAYER1_ID', 'PLAYER1_NAME',\n",
    "           'PLAYER1_TEAM_ABBREVIATION', 'PLAYER1_TEAM_CITY', 'PLAYER1_TEAM_ID',\n",
    "           'PLAYER1_TEAM_NICKNAME', 'PLAYER2_ID', 'PLAYER2_NAME',\n",
    "           'PLAYER2_TEAM_ABBREVIATION', 'PLAYER2_TEAM_CITY', 'PLAYER2_TEAM_ID',\n",
    "           'PLAYER2_TEAM_NICKNAME', 'PLAYER3_ID', 'PLAYER3_NAME',\n",
    "           'PLAYER3_TEAM_ABBREVIATION', 'PLAYER3_TEAM_CITY', 'PLAYER3_TEAM_ID',\n",
    "           'PLAYER3_TEAM_NICKNAME', 'season_name', 'home_shot_distance',\n",
    "           'visitor_shot_distance']\n",
    "    seasons[categories_arr] = seasons[categories_arr].astype('category')\n",
    "    \"\"\"\n",
    "    display(seasons)\n",
    "    with open(\"tmp_test_category.pkl\", \"wb\") as file:\n",
    "        pickle.dump(seasons, file)\n",
    "    \"\"\"\n",
    "    display(seasons.dtypes)"
   ]
  },
  {
   "cell_type": "code",
   "execution_count": null,
   "id": "82a947a0",
   "metadata": {},
   "outputs": [],
   "source": []
  },
  {
   "cell_type": "markdown",
   "id": "e692a62b",
   "metadata": {},
   "source": [
    "## Finding seasons which have corrupt timestamps"
   ]
  },
  {
   "cell_type": "code",
   "execution_count": null,
   "id": "c47e7258",
   "metadata": {},
   "outputs": [],
   "source": [
    "duration_of_each_game = seasons.groupby(\"GAME_ID\").count()[\"WCTIMESTRING\"]\t\n",
    "display(duration_of_each_game)"
   ]
  },
  {
   "cell_type": "code",
   "execution_count": null,
   "id": "d635a7b3",
   "metadata": {},
   "outputs": [],
   "source": [
    "correct_time_format_regex = \"^\\s?([0][0-9]|[1][0-2]|[0-9]):[0-5][0-9]\\s?(?:AM|PM|am|pm)$\"\n",
    "correct_t_mask = seasons[\"WCTIMESTRING\"].str.match(correct_time_format_regex)\n",
    "correct_t_df = seasons[correct_t_mask]\n",
    "wrong_t_df = seasons[~correct_t_mask]\n",
    "\n",
    "wrong_data_grouped_game = wrong_t_df.groupby(\"season_name\").count()[\"GAME_ID\"]\n",
    "correct_data_grouped_game = correct_t_df.groupby(\"season_name\").count()[\"GAME_ID\"]\n",
    "# replacing string values for plotting purposes\n",
    "correct_data_grouped_game.index = correct_data_grouped_game.index.str.replace(\"-\", \"-20\")\n",
    "wrong_data_grouped_game.index = wrong_data_grouped_game.index.str.replace(\"-\", \"-20\")\n",
    "\n",
    "display(wrong_data_grouped_game)\n",
    "display(correct_data_grouped_game)"
   ]
  },
  {
   "cell_type": "code",
   "execution_count": null,
   "id": "0eed207e",
   "metadata": {},
   "outputs": [],
   "source": []
  },
  {
   "cell_type": "code",
   "execution_count": null,
   "id": "904264bd",
   "metadata": {},
   "outputs": [],
   "source": [
    "fig = go.Figure()\n",
    "fig.add_trace(go.Scatter(\n",
    "    x=wrong_data_grouped_game.index,\n",
    "    y=wrong_data_grouped_game.values,\n",
    "    name=\"Wrong count\"\n",
    "    )\n",
    ")\n",
    "fig.add_trace(go.Scatter(\n",
    "    x=correct_data_grouped_game.index,\n",
    "    y=correct_data_grouped_game.values,\n",
    "    name=\"Correct count\"\n",
    "    )\n",
    ")\n",
    "fig.update_layout(\n",
    "    title_text=\"Count of wrong and right WCTIMESTRING values for each season\", \n",
    "    xaxis_title=\"Season\",\n",
    "    yaxis_title=\"Count\"\n",
    ")\n",
    "fig.show()"
   ]
  },
  {
   "cell_type": "code",
   "execution_count": null,
   "id": "fe684bb8",
   "metadata": {},
   "outputs": [],
   "source": []
  },
  {
   "cell_type": "code",
   "execution_count": null,
   "id": "9e728d85",
   "metadata": {},
   "outputs": [],
   "source": []
  }
 ],
 "metadata": {
  "kernelspec": {
   "display_name": "Python [conda env:nba_play_by_play_data_mining]",
   "language": "python",
   "name": "conda-env-nba_play_by_play_data_mining-py"
  },
  "language_info": {
   "codemirror_mode": {
    "name": "ipython",
    "version": 3
   },
   "file_extension": ".py",
   "mimetype": "text/x-python",
   "name": "python",
   "nbconvert_exporter": "python",
   "pygments_lexer": "ipython3",
   "version": "3.9.13"
  }
 },
 "nbformat": 4,
 "nbformat_minor": 5
}
