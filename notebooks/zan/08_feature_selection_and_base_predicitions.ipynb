{
 "cells": [
  {
   "cell_type": "markdown",
   "id": "57a9af66",
   "metadata": {},
   "source": [
    "# Feature selection and intial predictions"
   ]
  },
  {
   "cell_type": "code",
   "execution_count": null,
   "id": "83b103e2",
   "metadata": {},
   "outputs": [],
   "source": [
    "%reload_ext autoreload\n",
    "%autoreload 2\n",
    "import os \n",
    "import sys\n",
    "import pandas as pd\n",
    "import numpy as np\n",
    "from datetime import datetime\n",
    "import plotly \n",
    "import plotly.graph_objects as go\n",
    "from datetime import timedelta\n",
    "\n",
    "sys.path.insert(0, \"./../../\")\n",
    "\n",
    "from src.preprocessing.feature_preparation import prepare_features_for_season_based_predictions"
   ]
  },
  {
   "cell_type": "code",
   "execution_count": null,
   "id": "daace820",
   "metadata": {},
   "outputs": [],
   "source": [
    "prepared_dict = prepare_features_for_season_based_predictions(save_to_file=True)\n",
    "display(prepared_dict)"
   ]
  },
  {
   "cell_type": "markdown",
   "id": "e15a2df6",
   "metadata": {},
   "source": [
    "# Feature selection"
   ]
  },
  {
   "cell_type": "code",
   "execution_count": null,
   "id": "1451830f",
   "metadata": {},
   "outputs": [],
   "source": []
  },
  {
   "cell_type": "code",
   "execution_count": null,
   "id": "303cbed1",
   "metadata": {},
   "outputs": [],
   "source": []
  }
 ],
 "metadata": {
  "kernelspec": {
   "display_name": "Python [conda env:nba_play_by_play_data_mining]",
   "language": "python",
   "name": "conda-env-nba_play_by_play_data_mining-py"
  },
  "language_info": {
   "codemirror_mode": {
    "name": "ipython",
    "version": 3
   },
   "file_extension": ".py",
   "mimetype": "text/x-python",
   "name": "python",
   "nbconvert_exporter": "python",
   "pygments_lexer": "ipython3",
   "version": "3.9.13"
  }
 },
 "nbformat": 4,
 "nbformat_minor": 5
}
