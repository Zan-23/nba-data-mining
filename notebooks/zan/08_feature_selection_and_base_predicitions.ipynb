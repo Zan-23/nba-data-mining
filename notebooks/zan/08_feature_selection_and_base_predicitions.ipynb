{
 "cells": [
  {
   "cell_type": "markdown",
   "id": "57a9af66",
   "metadata": {},
   "source": [
    "# Feature selection and intial predictions"
   ]
  },
  {
   "cell_type": "code",
   "execution_count": 1,
   "id": "83b103e2",
   "metadata": {},
   "outputs": [],
   "source": [
    "%reload_ext autoreload\n",
    "%autoreload 2\n",
    "import os \n",
    "import sys\n",
    "import pandas as pd\n",
    "import numpy as np\n",
    "from datetime import datetime\n",
    "import plotly \n",
    "import plotly.graph_objects as go\n",
    "from datetime import timedelta\n",
    "\n",
    "sys.path.insert(0, \"./../../\")\n",
    "\n",
    "from src.preprocessing.feature_preparation import prepare_features_for_season_based_predictions\n",
    "from src.preprocessing.DataPreparator import DataPreparator"
   ]
  },
  {
   "cell_type": "code",
   "execution_count": 2,
   "id": "daace820",
   "metadata": {},
   "outputs": [
    {
     "name": "stdout",
     "output_type": "stream",
     "text": [
      "Loading data from file C:\\Users\\Zan\\Desktop\\Faksic_TUM\\2_semester\\Praktikum_Data_mining\\nba-data-mining\\src\\./../data/processed/load_data_games_arr_v2_zan.pkl ...\n",
      "Data loaded!\n",
      "\n",
      "Columns that will be used are of lengths: \n",
      "    - x_home_cols: 30, \n",
      "    - x_visit_cols length: 30\n"
     ]
    },
    {
     "data": {
      "text/plain": [
       "0.5966035271064664"
      ]
     },
     "metadata": {},
     "output_type": "display_data"
    }
   ],
   "source": [
    "data_p = DataPreparator()\n",
    "all_games = data_p.get_games_df()\n",
    "\n",
    "# home team wins in 60% of the cases\n",
    "display(all_games[\"home_win\"].mean())"
   ]
  },
  {
   "cell_type": "markdown",
   "id": "b8ee8235",
   "metadata": {},
   "source": [
    "Base line for predictions is 0.597 -> which is ~60%, that means if we predict that each game will be won by the home team we are correct in 60% of cases. Any improvements over 60% are actual benefits of our models."
   ]
  },
  {
   "cell_type": "code",
   "execution_count": 3,
   "id": "5b6f83ba",
   "metadata": {},
   "outputs": [
    {
     "data": {
      "text/plain": [
       "array([[ 1.        ,  4.        , 48.        , ..., 28.        ,\n",
       "         1.        , 13.73809524],\n",
       "       [ 1.        ,  4.        , 48.        , ..., 27.        ,\n",
       "         1.        ,  8.82352941],\n",
       "       [ 1.        ,  4.        , 48.        , ..., 28.        ,\n",
       "         1.        ,  9.97619048],\n",
       "       ...,\n",
       "       [ 1.        ,  4.        , 48.        , ..., 26.        ,\n",
       "         1.        , 16.15151515],\n",
       "       [ 1.        ,  4.        , 48.        , ..., 27.        ,\n",
       "         0.        , 10.04255319],\n",
       "       [ 1.        ,  4.        , 48.        , ..., 29.        ,\n",
       "         0.        ,  9.90697674]])"
      ]
     },
     "metadata": {},
     "output_type": "display_data"
    },
    {
     "data": {
      "text/plain": [
       "array([1., 0., 1., ..., 0., 1., 0.])"
      ]
     },
     "metadata": {},
     "output_type": "display_data"
    }
   ],
   "source": [
    "x_train, y_train, x_test, y_test = data_p.prepare_data_splits(\"2012-2013\")\n",
    "display(x_train)\n",
    "display(y_train)"
   ]
  },
  {
   "cell_type": "markdown",
   "id": "e15a2df6",
   "metadata": {},
   "source": [
    "# Feature selection\n",
    "Simpler models wil be tested out of the box.\n",
    "\n",
    "## Random forest"
   ]
  },
  {
   "cell_type": "code",
   "execution_count": 4,
   "id": "1451830f",
   "metadata": {},
   "outputs": [
    {
     "name": "stdout",
     "output_type": "stream",
     "text": [
      "Starting predictions ...\n",
      "Accuracy on the train set is: 100.0 %\n"
     ]
    }
   ],
   "source": [
    "from sklearn.ensemble import RandomForestRegressor\n",
    "from sklearn.metrics import accuracy_score\n",
    "\n",
    "r_forest = RandomForestRegressor(n_estimators=300, criterion='squared_error', random_state=42)\n",
    "r_forest.fit(x_train, y_train)\n",
    "\n",
    "# evaluate on train data set ->> overfitting but just to see the accuracy\n",
    "print(\"Starting predictions ...\")\n",
    "y_pred_train = []\n",
    "for row in x_train:\n",
    "    y_pred_train.append(round(r_forest.predict([row])[0]))\n",
    "    \n",
    "print(f\"Accuracy on the train set is: {accuracy_score(y_train, y_pred_train, normalize=True) * 100} %\")"
   ]
  },
  {
   "cell_type": "markdown",
   "id": "cf8c515a",
   "metadata": {},
   "source": [
    "Evaluation on the train set yield an accuracy of 100% which means model can overfit to the given data correctly!"
   ]
  },
  {
   "cell_type": "code",
   "execution_count": 5,
   "id": "303cbed1",
   "metadata": {},
   "outputs": [
    {
     "name": "stdout",
     "output_type": "stream",
     "text": [
      "Evaluating on the test data set!\n",
      "Accuracy on the train set is: 81.95121951219512 %\n"
     ]
    }
   ],
   "source": [
    "print(\"Evaluating on the test data set!\")\n",
    "\n",
    "y_pred_test = []\n",
    "for row in x_test:\n",
    "    y_pred_test.append(round(r_forest.predict([row])[0]))\n",
    "    \n",
    "print(f\"Accuracy on the train set is: {accuracy_score(y_test, y_pred_test, normalize=True) * 100} %\")"
   ]
  },
  {
   "cell_type": "markdown",
   "id": "1a5389fa",
   "metadata": {},
   "source": [
    "Achieves around 83% prediction accuracy on the test data set when the split is of size 0.8, 0.1 and 0.1. And 82% if the data is lowered to 82%."
   ]
  },
  {
   "cell_type": "code",
   "execution_count": null,
   "id": "a81d29b1",
   "metadata": {},
   "outputs": [],
   "source": []
  }
 ],
 "metadata": {
  "kernelspec": {
   "display_name": "Python [conda env:nba_play_by_play_data_mining]",
   "language": "python",
   "name": "conda-env-nba_play_by_play_data_mining-py"
  },
  "language_info": {
   "codemirror_mode": {
    "name": "ipython",
    "version": 3
   },
   "file_extension": ".py",
   "mimetype": "text/x-python",
   "name": "python",
   "nbconvert_exporter": "python",
   "pygments_lexer": "ipython3",
   "version": "3.9.13"
  }
 },
 "nbformat": 4,
 "nbformat_minor": 5
}
