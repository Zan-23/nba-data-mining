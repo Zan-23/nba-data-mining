{
 "cells": [
  {
   "cell_type": "markdown",
   "id": "f25a8569",
   "metadata": {},
   "source": [
    "## Player data analysis\n",
    "\n",
    "## 1. Demographic data\n",
    "1. Average age through the seasons and stacked bar charts\n",
    "2. Average weight and height, + normal distributions for each season\n",
    "3. Origin of players by countries"
   ]
  },
  {
   "cell_type": "code",
   "execution_count": null,
   "id": "9b41ea7f",
   "metadata": {},
   "outputs": [],
   "source": [
    "%reload_ext autoreload\n",
    "%autoreload 2\n",
    "import os \n",
    "import sys\n",
    "import pandas as pd\n",
    "import numpy as np\n",
    "from datetime import datetime\n",
    "\n",
    "import plotly \n",
    "import plotly.graph_objects as go\n",
    "import time\n",
    "\n",
    "sys.path.insert(0, \"./../../src/\")\n",
    "from data_loader import load_data, load_player_data, player_data_preprocessing\n",
    "\n",
    "# load it \n",
    "s_time = time.time()\n",
    "# moved the code from notebook, to src function\n",
    "player_df = player_data_preprocessing()\n",
    "\n",
    "print(f\"Execution took {time.time() - s_time} seconds\")\n",
    "\n",
    "display(player_df.head())"
   ]
  },
  {
   "cell_type": "code",
   "execution_count": null,
   "id": "85d63a71",
   "metadata": {},
   "outputs": [],
   "source": [
    "player_df.to_csv(\"player_info_v3.csv\")\n",
    "display(player_df.columns)"
   ]
  },
  {
   "cell_type": "markdown",
   "id": "73da1e96",
   "metadata": {},
   "source": [
    "## Average player information"
   ]
  },
  {
   "cell_type": "code",
   "execution_count": null,
   "id": "f3afc5a7",
   "metadata": {},
   "outputs": [],
   "source": [
    "# group by seasons\n",
    "selected_cols = [\"Age\", \"Height\", \"Weight\", \"games_played\", \"season_name\"]\n",
    "grouped_by_season = player_df[selected_cols].groupby(\"season_name\")\n",
    "season_avg = grouped_by_season.mean()\n",
    "# season_sum = grouped_by_season.sum()\n",
    "season_avg.index = season_avg.index.str.replace(\"-\", \"-20\")\n",
    "display(season_avg)"
   ]
  },
  {
   "cell_type": "code",
   "execution_count": null,
   "id": "5ea9b2ba",
   "metadata": {
    "scrolled": false
   },
   "outputs": [],
   "source": [
    "print(\"Averages \")\n",
    "print(season_avg.mean(), \"\\n\\nStd\", season_avg.std())\n",
    "\n",
    "# hidden because barcharts don't change\n",
    "\"\"\"fig_avg_age = go.Figure([go.Bar(x=season_avg.index, y=season_avg[\"Age\"])])\n",
    "fig_avg_age.update_layout(\n",
    "    title_text=\"Bar chart of average age through the seasons\", \n",
    "    xaxis_title=\"Season\",\n",
    "    yaxis_title=\"Age in years\"\n",
    ")\n",
    "fig_avg_age.show()\n",
    "\n",
    "fig_avg_h = go.Figure([go.Bar(x=season_avg.index, y=season_avg[\"Height\"])])\n",
    "fig_avg_h.update_layout(\n",
    "    title_text=\"Bar chart of average height through the seasons\", \n",
    "    xaxis_title=\"Season\",\n",
    "    yaxis_title=\"Height in cm\"\n",
    ")\n",
    "fig_avg_h.show()\n",
    "\n",
    "fig_avg_w = go.Figure([go.Bar(x=season_avg.index, y=season_avg[\"Weight\"])])\n",
    "fig_avg_w.update_layout(\n",
    "    title_text=\"Bar chart of average weight through the seasons\", \n",
    "    xaxis_title=\"Season\",\n",
    "    yaxis_title=\"Weight in kg\"\n",
    ")\n",
    "fig_avg_w.show()\n",
    "\n",
    "fig_avg_g = go.Figure([go.Bar(x=season_avg.index, y=season_avg[\"games_played\"])])\n",
    "fig_avg_g.update_layout(\n",
    "    title_text=\"Bar chart of average games played through the seasons\", \n",
    "    xaxis_title=\"Season\",\n",
    "    yaxis_title=\"Number of games played\"\n",
    ")\n",
    "fig_avg_g.show()\"\"\";"
   ]
  },
  {
   "cell_type": "code",
   "execution_count": null,
   "id": "6e84dd3b",
   "metadata": {},
   "outputs": [],
   "source": []
  },
  {
   "cell_type": "markdown",
   "id": "22fb6b37",
   "metadata": {},
   "source": [
    "## Scatter of height / weight correlations"
   ]
  },
  {
   "cell_type": "code",
   "execution_count": null,
   "id": "ac330707",
   "metadata": {
    "scrolled": false
   },
   "outputs": [],
   "source": [
    "df_2018_s = player_df[player_df[\"season_name\"] == \"2018-19\"]\n",
    "# Plotly strip plot\n",
    "size_col = (df_2018_s[\"points\"] /  df_2018_s[\"points\"].max()) * 15 + 5\n",
    "\n",
    "colors_arr = ['#636EFA', '#EF553B', '#00CC96', \n",
    "              '#AB63FA', '#FFA15A', '#19D3F3', '#FF6692', \n",
    "              '#B6E880', '#FF97FF', '#FECB52']\n",
    "countries_arr = [\"USA\", \"Australia\", \"Canada\", \"France\"]\n",
    "def SetColor(x):\n",
    "    x = x.strip()\n",
    "    if x == countries_arr[0]:\n",
    "        return colors_arr[0]\n",
    "    elif x == countries_arr[1]:\n",
    "        return colors_arr[1]\n",
    "    elif x == countries_arr[2]:\n",
    "        return colors_arr[2]\n",
    "    elif x == countries_arr[3]:\n",
    "        return colors_arr[3]\n",
    "\n",
    "color_dict = {\"USA\": colors_arr[0],  \"Australia\": colors_arr[1], \"Canada\": colors_arr[2],\n",
    "             \"France\": colors_arr[3]}\n",
    "fig_hw = go.Figure()\n",
    "\n",
    "for country_name in countries_arr:\n",
    "    df_2018_country = df_2018_s[df_2018_s[\"Country\"] == country_name]\n",
    "    noise = np.random.randn(len(df_2018_country)) + 0.01\n",
    "\n",
    "    fig_hw.add_trace(go.Scatter(\n",
    "        x=df_2018_country[\"Weight\"] + noise, \n",
    "        y=df_2018_country[\"Height\"] + noise, \n",
    "        text=df_2018_country[\"player_name\"].astype(str) + \\\n",
    "        \" - Points:\" + df_2018_country[\"points\"].astype(str), \n",
    "        marker=dict(size=5, color=list(map(SetColor, df_2018_country[\"Country\"]))),\n",
    "        mode='markers',\n",
    "        name=country_name,\n",
    "        showlegend=True)\n",
    ")\n",
    "    \n",
    "df_2018_others = df_2018_s[~df_2018_s[\"Country\"].isin(countries_arr)]\n",
    "noise_2 = np.random.randn(len(df_2018_others)) + 0.01\n",
    "fig_hw.add_trace(go.Scatter(\n",
    "    x=df_2018_others[\"Weight\"] + noise_2, \n",
    "    y=df_2018_others[\"Height\"] + noise_2, \n",
    "    text=df_2018_others[\"player_name\"].astype(str) + \\\n",
    "    \" - Points:\" + df_2018_others[\"points\"].astype(str), \n",
    "    marker=dict(size=5, color=colors_arr[4]),\n",
    "    mode='markers',\n",
    "    name=\"Other\",\n",
    "    showlegend=True)\n",
    ")\n",
    "\n",
    "fig_hw.update_layout(\n",
    "    title_text=\"Age and weights of the players for season 2018-19 (with random noise)\", \n",
    "    xaxis_title=\"Weight (kg)\",\n",
    "    yaxis_title=\"Height (cm)\"\n",
    ")\n",
    "fig_hw.show()"
   ]
  },
  {
   "cell_type": "code",
   "execution_count": null,
   "id": "085fd328",
   "metadata": {},
   "outputs": [],
   "source": []
  },
  {
   "cell_type": "code",
   "execution_count": null,
   "id": "b3fbe42f",
   "metadata": {},
   "outputs": [],
   "source": []
  },
  {
   "cell_type": "code",
   "execution_count": null,
   "id": "f5b18b2f",
   "metadata": {},
   "outputs": [],
   "source": [
    "fig_hw = go.Figure([go.Histogram(x=df_2018_s[\"Age\"])])\n",
    "fig_hw.update_layout(\n",
    "    title_text=\"Age distribution for season 2018-19\", \n",
    "    xaxis_title=\"Age (years)\",\n",
    "    yaxis_title=\"Count\"\n",
    ")\n",
    "fig_hw.update_xaxes(tick0=df_2018_s[\"Age\"].min(), dtick=1)\n",
    "fig_hw.show()\n",
    "\n",
    "fig_hw = go.Figure([go.Histogram(x=df_2018_s[\"Weight\"])])\n",
    "fig_hw.update_layout(\n",
    "    title_text=\"Weight distribution for season 2018-19\", \n",
    "    xaxis_title=\"Weight (kg)\",\n",
    "    yaxis_title=\"Count\"\n",
    ")\n",
    "fig_hw.update_xaxes(tick0=df_2018_s[\"Weight\"].min(), dtick=4)\n",
    "fig_hw.show()\n",
    "\n",
    "fig_hw = go.Figure([go.Histogram(x=df_2018_s[\"Height\"])])\n",
    "fig_hw.update_layout(\n",
    "    title_text=\"Height distribution for season 2018-19\", \n",
    "    xaxis_title=\"Height (cm)\",\n",
    "    yaxis_title=\"Count\"\n",
    ")\n",
    "fig_hw.update_xaxes(tick0=df_2018_s[\"Height\"].min(), dtick=2.54)\n",
    "fig_hw.show()"
   ]
  },
  {
   "cell_type": "code",
   "execution_count": null,
   "id": "fd005e5f",
   "metadata": {},
   "outputs": [],
   "source": []
  },
  {
   "cell_type": "markdown",
   "id": "7e2c8ca5",
   "metadata": {},
   "source": [
    "## Countries the players are from"
   ]
  },
  {
   "cell_type": "code",
   "execution_count": null,
   "id": "389eaee1",
   "metadata": {},
   "outputs": [],
   "source": [
    "countries_grouped = df_2018_s.groupby(\"Country\").count().sort_values(\"season_name\", ascending=False)\n",
    "\n",
    "fig_countries = go.Figure([go.Bar(\n",
    "    x=countries_grouped.index, \n",
    "    y=countries_grouped[\"season_name\"], \n",
    "    )]\n",
    ")\n",
    "fig_countries.update_layout(\n",
    "    title_text=\"Player countries\", \n",
    "    yaxis_title=\"Count\",\n",
    "    xaxis_title=\"Country\",\n",
    "    xaxis_tickangle=50\n",
    ")\n",
    "fig_countries.show()"
   ]
  },
  {
   "cell_type": "markdown",
   "id": "9d1808d0",
   "metadata": {},
   "source": [
    "## Correlations between performance and the mentioned variables"
   ]
  },
  {
   "cell_type": "code",
   "execution_count": null,
   "id": "4a919047",
   "metadata": {},
   "outputs": [],
   "source": [
    "fig_hw = go.Figure([go.Scatter(x=df_2018_s[\"Height\"], y=df_2018_s[\"points\"], \n",
    "       text=df_2018_s[\"player_name\"].astype(str) + \" - Points:\" + df_2018_s[\"points\"].astype(str), \n",
    "       mode='markers')]\n",
    ")\n",
    "fig_hw.update_layout(\n",
    "    title_text=\"Ratio between height and points\", \n",
    "    yaxis_title=\"Points\",\n",
    "    xaxis_title=\"Height (cm)\"\n",
    ")\n",
    "fig_hw.update_xaxes(tick0=df_2018_s[\"Height\"].min(), dtick=2.54)\n",
    "fig_hw.show()\n",
    "\n",
    "fig_hw = go.Figure([go.Scatter(x=df_2018_s[\"Weight\"], y=df_2018_s[\"points\"], \n",
    "       text=df_2018_s[\"player_name\"].astype(str) + \" - Points:\" + df_2018_s[\"points\"].astype(str), \n",
    "       mode='markers')]\n",
    ")\n",
    "fig_hw.update_xaxes(tick0=df_2018_s[\"Weight\"].min(), dtick=2.54)\n",
    "fig_hw.update_layout(\n",
    "    title_text=\"Ratio between weight and points\", \n",
    "    xaxis_title=\"Weight (kg)\",\n",
    "    yaxis_title=\"Points\"\n",
    ")\n",
    "fig_hw.show()"
   ]
  },
  {
   "cell_type": "code",
   "execution_count": null,
   "id": "c4494ac5",
   "metadata": {},
   "outputs": [],
   "source": []
  },
  {
   "cell_type": "code",
   "execution_count": null,
   "id": "9a68e1bf",
   "metadata": {},
   "outputs": [],
   "source": [
    "import matplotlib.pyplot as plt\n",
    "\n",
    "plt.matshow(player_df.corr())\n",
    "plt.show()\n",
    "\n",
    "display(player_df.corr())"
   ]
  },
  {
   "cell_type": "code",
   "execution_count": null,
   "id": "66af0445",
   "metadata": {},
   "outputs": [],
   "source": []
  }
 ],
 "metadata": {
  "kernelspec": {
   "display_name": "Python [conda env:nba_play_by_play_data_mining]",
   "language": "python",
   "name": "conda-env-nba_play_by_play_data_mining-py"
  },
  "language_info": {
   "codemirror_mode": {
    "name": "ipython",
    "version": 3
   },
   "file_extension": ".py",
   "mimetype": "text/x-python",
   "name": "python",
   "nbconvert_exporter": "python",
   "pygments_lexer": "ipython3",
   "version": "3.9.13"
  }
 },
 "nbformat": 4,
 "nbformat_minor": 5
}
