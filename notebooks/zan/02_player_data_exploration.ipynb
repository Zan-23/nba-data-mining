{
 "cells": [
  {
   "cell_type": "markdown",
   "id": "f25a8569",
   "metadata": {},
   "source": [
    "## Player data analysis\n",
    "\n",
    "## 1. Demographic data\n",
    "1. Average age through the seasons and stacked bar charts\n",
    "2. Average weight and height, + normal distributions for each season\n",
    "3. Origin of players by countries"
   ]
  },
  {
   "cell_type": "code",
   "execution_count": null,
   "id": "9b41ea7f",
   "metadata": {},
   "outputs": [],
   "source": [
    "%reload_ext autoreload\n",
    "%autoreload 2\n",
    "import os \n",
    "import sys\n",
    "import pandas as pd\n",
    "import numpy as np\n",
    "from datetime import datetime\n",
    "\n",
    "import plotly \n",
    "import plotly.graph_objects as go\n",
    "import time\n",
    "\n",
    "sys.path.insert(0, \"./../../src/\")\n",
    "from data_loader import load_data, load_player_data\n",
    "\n",
    "# load it \n",
    "s_time = time.time()\n",
    "# player_df = load_player_data().reset_index()\n",
    "\"\"\"\n",
    "player_df.columns = [\"Player ID\", \"season_name\", \"player_name\", \"Age\", \"Height\", \"Weight\", \"College\",\n",
    "       \"Country\", \"Draft Year\", \"Draft Number\", \"Draft Number\", \"games_played\",\n",
    "       \"fg_made\", \"fg_missed\", \"3PT_made\", \"3PT_missed\", \"ft_made\",\n",
    "       \"ft_missed\", \"points\", \"rebounds\", \"assists\", \"turnover\", \"fouls\"]\n",
    "\"\"\"\n",
    "\n",
    "# read it from file\n",
    "player_df = pd.read_csv(\"merged_player_data_v1.csv\")\n",
    "print(f\"Execution took {time.time() - s_time} seconds\")"
   ]
  },
  {
   "cell_type": "code",
   "execution_count": null,
   "id": "85d63a71",
   "metadata": {},
   "outputs": [],
   "source": [
    "# Preprocessing \n",
    "# find nan values: player_df[pd.to_numeric(player_df[\"Weight\"], errors=\"coerce\").isna()]\n",
    "\n",
    "#  pounds to kg\n",
    "player_df[\"Weight\"] = player_df[\"Weight\"].replace(\"-\", \"0\")\n",
    "player_df[\"Weight\"] = (player_df[\"Weight\"].astype(int) *  0.45359237).astype(int)\n",
    "\n",
    "# feet to cm \n",
    "split_data = player_df[\"Height\"].str.split('-').apply(pd.Series).replace(\"\", \"0\").astype(float)\n",
    "player_df[\"Height\"] = (split_data[0] * 30.48 + split_data[1] * 2.54).astype(int)\n",
    "\n",
    "tmp_len = len(player_df.index)\n",
    "# remove rows where height or data is zero since it skews the result\n",
    "player_df = player_df[(player_df[\"Height\"] != 0) | (player_df[\"Weight\"] != 0)]\n",
    "print(f\"Removed {tmp_len - len(player_df.index)} rows with 0 values!\")\n",
    "\n",
    "display(player_df)"
   ]
  },
  {
   "cell_type": "code",
   "execution_count": null,
   "id": "553834f1",
   "metadata": {},
   "outputs": [],
   "source": []
  },
  {
   "cell_type": "markdown",
   "id": "73da1e96",
   "metadata": {},
   "source": [
    "## Average player information"
   ]
  },
  {
   "cell_type": "code",
   "execution_count": null,
   "id": "f3afc5a7",
   "metadata": {},
   "outputs": [],
   "source": [
    "# group by seasons\n",
    "selected_cols = [\"Age\", \"Height\", \"Weight\", \"games_played\", \"season_name\"]\n",
    "grouped_by_season = player_df[selected_cols].groupby(\"season_name\")\n",
    "season_avg = grouped_by_season.mean()\n",
    "# season_sum = grouped_by_season.sum()\n",
    "season_avg.index = season_avg.index.str.replace(\"-\", \"-20\")\n",
    "display(season_avg)"
   ]
  },
  {
   "cell_type": "code",
   "execution_count": null,
   "id": "5ea9b2ba",
   "metadata": {
    "scrolled": false
   },
   "outputs": [],
   "source": [
    "print(\"Averages \")\n",
    "print(season_avg.mean(), \"\\n\\nStd\", season_avg.std())\n",
    "# fig_sub = make_subplots(rows=1, cols=3)\n",
    "\n",
    "fig_avg_age = go.Figure([go.Bar(x=season_avg.index, y=season_avg[\"Age\"])])\n",
    "fig_avg_age.update_layout(\n",
    "    title_text=\"Bar chart of average age through the seasons\", \n",
    "    xaxis_title=\"Season\",\n",
    "    yaxis_title=\"Age in years\"\n",
    ")\n",
    "fig_avg_age.show()\n",
    "\n",
    "fig_avg_h = go.Figure([go.Bar(x=season_avg.index, y=season_avg[\"Height\"])])\n",
    "fig_avg_h.update_layout(\n",
    "    title_text=\"Bar chart of average height through the seasons\", \n",
    "    xaxis_title=\"Season\",\n",
    "    yaxis_title=\"Height in cm\"\n",
    ")\n",
    "fig_avg_h.show()\n",
    "\n",
    "fig_avg_w = go.Figure([go.Bar(x=season_avg.index, y=season_avg[\"Weight\"])])\n",
    "fig_avg_w.update_layout(\n",
    "    title_text=\"Bar chart of average weight through the seasons\", \n",
    "    xaxis_title=\"Season\",\n",
    "    yaxis_title=\"Weight in kg\"\n",
    ")\n",
    "fig_avg_w.show()\n",
    "\n",
    "fig_avg_g = go.Figure([go.Bar(x=season_avg.index, y=season_avg[\"games_played\"])])\n",
    "fig_avg_g.update_layout(\n",
    "    title_text=\"Bar chart of average games played through the seasons\", \n",
    "    xaxis_title=\"Season\",\n",
    "    yaxis_title=\"Number of games played\"\n",
    ")\n",
    "fig_avg_g.show()"
   ]
  },
  {
   "cell_type": "code",
   "execution_count": null,
   "id": "6e84dd3b",
   "metadata": {},
   "outputs": [],
   "source": []
  },
  {
   "cell_type": "markdown",
   "id": "22fb6b37",
   "metadata": {},
   "source": [
    "## Scatter of height / weight correlations"
   ]
  },
  {
   "cell_type": "code",
   "execution_count": null,
   "id": "ac330707",
   "metadata": {},
   "outputs": [],
   "source": [
    "df_2018_s = player_df[player_df[\"season_name\"] == \"2018-19\"]\n",
    "# display(df_2018_s)\n",
    "fig_hw = go.Figure([go.Scatter(x=df_2018_s[\"Weight\"], y=df_2018_s[\"Height\"], text=df_2018_s[\"player_name\"],\n",
    "                            mode='markers')])\n",
    "fig_hw.update_layout(\n",
    "    title_text=\"Age to weight correlation for season 2018-19\", \n",
    "    xaxis_title=\"Weight\",\n",
    "    yaxis_title=\"Height\"\n",
    ")\n",
    "fig_hw.show()"
   ]
  },
  {
   "cell_type": "code",
   "execution_count": null,
   "id": "f5b18b2f",
   "metadata": {},
   "outputs": [],
   "source": [
    "fig_hw = go.Figure([go.Histogram(x=df_2018_s[\"Age\"])])\n",
    "fig_hw.update_layout(\n",
    "    title_text=\"Age to weight correlation for season 2018-19\", \n",
    "    xaxis_title=\"Age\",\n",
    "    yaxis_title=\"Count\"\n",
    ")\n",
    "fig_hw.show()\n",
    "\n",
    "fig_hw = go.Figure([go.Histogram(x=df_2018_s[\"Weight\"])])\n",
    "fig_hw.update_layout(\n",
    "    title_text=\"Age to weight correlation for season 2018-19\", \n",
    "    xaxis_title=\"Weight\",\n",
    "    yaxis_title=\"Count\"\n",
    ")\n",
    "fig_hw.show()\n",
    "\n",
    "fig_hw = go.Figure([go.Histogram(x=df_2018_s[\"Height\"])])\n",
    "fig_hw.update_layout(\n",
    "    title_text=\"Age to weight correlation for season 2018-19\", \n",
    "    xaxis_title=\"Height\",\n",
    "    yaxis_title=\"Count\"\n",
    ")\n",
    "fig_hw.show()"
   ]
  },
  {
   "cell_type": "code",
   "execution_count": null,
   "id": "fd005e5f",
   "metadata": {},
   "outputs": [],
   "source": []
  },
  {
   "cell_type": "markdown",
   "id": "9d1808d0",
   "metadata": {},
   "source": [
    "## Correlations between performance and the mentioned variables"
   ]
  },
  {
   "cell_type": "code",
   "execution_count": null,
   "id": "4a919047",
   "metadata": {},
   "outputs": [],
   "source": [
    "import matplotlib.pyplot as plt\n",
    "\n",
    "plt.matshow(player_df.corr())\n",
    "plt.show()\n",
    "\n",
    "display(player_df.corr())"
   ]
  },
  {
   "cell_type": "code",
   "execution_count": null,
   "id": "c4494ac5",
   "metadata": {},
   "outputs": [],
   "source": []
  },
  {
   "cell_type": "code",
   "execution_count": null,
   "id": "9a68e1bf",
   "metadata": {},
   "outputs": [],
   "source": []
  }
 ],
 "metadata": {
  "kernelspec": {
   "display_name": "Python [conda env:nba_play_by_play_data_mining]",
   "language": "python",
   "name": "conda-env-nba_play_by_play_data_mining-py"
  },
  "language_info": {
   "codemirror_mode": {
    "name": "ipython",
    "version": 3
   },
   "file_extension": ".py",
   "mimetype": "text/x-python",
   "name": "python",
   "nbconvert_exporter": "python",
   "pygments_lexer": "ipython3",
   "version": "3.9.13"
  }
 },
 "nbformat": 4,
 "nbformat_minor": 5
}
