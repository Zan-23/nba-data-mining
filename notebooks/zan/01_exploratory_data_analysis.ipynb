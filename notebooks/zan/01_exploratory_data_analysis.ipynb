{
 "cells": [
  {
   "cell_type": "code",
   "execution_count": null,
   "id": "eee00820",
   "metadata": {},
   "outputs": [],
   "source": [
    "%reload_ext autoreload\n",
    "%autoreload 2\n",
    "import os \n",
    "import sys\n",
    "import pandas as pd\n",
    "import plotly \n",
    "import plotly.graph_objects as go\n",
    "\n",
    "sys.path.insert(0, \"./../../src/\")\n",
    "from data_loader import load_data"
   ]
  },
  {
   "cell_type": "markdown",
   "id": "4dd7e31c",
   "metadata": {},
   "source": [
    "## Loading the data"
   ]
  },
  {
   "cell_type": "code",
   "execution_count": null,
   "id": "beb2319d",
   "metadata": {},
   "outputs": [],
   "source": [
    "seasons = load_data()"
   ]
  },
  {
   "cell_type": "code",
   "execution_count": null,
   "id": "e24caaeb",
   "metadata": {},
   "outputs": [],
   "source": [
    "# tmp_df = pd.read_csv(\"./../../data/raw/2017-18_pbp.csv\")\n",
    "# display(tmp_df)\n",
    "display(seasons)"
   ]
  },
  {
   "cell_type": "code",
   "execution_count": null,
   "id": "b7ef0ea2",
   "metadata": {},
   "outputs": [],
   "source": [
    "seasons_subset = seasons[seasons[\"season_name\"] == \"2018-19\"]\n",
    "display(seasons_subset.head())"
   ]
  },
  {
   "cell_type": "code",
   "execution_count": null,
   "id": "132e8ef3",
   "metadata": {},
   "outputs": [],
   "source": []
  },
  {
   "cell_type": "code",
   "execution_count": null,
   "id": "256d2267",
   "metadata": {},
   "outputs": [],
   "source": []
  },
  {
   "cell_type": "markdown",
   "id": "036e3b9f",
   "metadata": {},
   "source": [
    "## Visualizations \n",
    "Below you find a vizualization for each of the features found in the data  set to "
   ]
  },
  {
   "cell_type": "code",
   "execution_count": null,
   "id": "c89b82d6",
   "metadata": {},
   "outputs": [],
   "source": [
    "# Histogram of event types\n",
    "fig = go.Figure()\n",
    "fig.add_trace(go.Histogram(\n",
    "    x=seasons[\"EVENTMSGTYPE\"])\n",
    ")\n",
    "fig.update_layout(\n",
    "    title_text=\"Histogram of Event Types\", \n",
    "    xaxis_title=\"Event type name\",\n",
    "    yaxis_title=\"Frequency\"\n",
    ")\n",
    "fig.show()"
   ]
  },
  {
   "cell_type": "code",
   "execution_count": null,
   "id": "f542b406",
   "metadata": {},
   "outputs": [],
   "source": [
    "# Histogram of event action types\n",
    "fig = go.Figure()\n",
    "fig.add_trace(go.Histogram(\n",
    "    x=seasons[\"EVENTMSGACTIONTYPE\"])\n",
    ")\n",
    "fig.update_layout(\n",
    "    title_text=\"Histogram of Event Action Types\", \n",
    "    xaxis_title=\"Event action type name\",\n",
    "    yaxis_title=\"Frequency\"\n",
    ")\n",
    "fig.show()"
   ]
  },
  {
   "cell_type": "code",
   "execution_count": null,
   "id": "e53dcc07",
   "metadata": {},
   "outputs": [],
   "source": [
    "# Number of events per game \n",
    "events_per_game_count = seasons_subset.groupby(\"GAME_ID\").count()[\"EVENTNUM\"]\n",
    "\n",
    "# Histogram of event action types\n",
    "fig = go.Figure()\n",
    "fig.add_trace(go.Histogram(\n",
    "    x=events_per_game_count)\n",
    ")\n",
    "fig.update_layout(\n",
    "    title_text=\"Histogram of Event Action Types\", \n",
    "    xaxis_title=\"Event action type name\",\n",
    "    yaxis_title=\"Frequency\"\n",
    ")\n",
    "fig.show()"
   ]
  },
  {
   "cell_type": "code",
   "execution_count": null,
   "id": "de26b485",
   "metadata": {},
   "outputs": [],
   "source": []
  },
  {
   "cell_type": "code",
   "execution_count": null,
   "id": "63fcc9a1",
   "metadata": {},
   "outputs": [],
   "source": []
  },
  {
   "cell_type": "code",
   "execution_count": null,
   "id": "1d60e463",
   "metadata": {},
   "outputs": [],
   "source": []
  }
 ],
 "metadata": {
  "kernelspec": {
   "display_name": "Python [conda env:nba_play_by_play_data_mining] *",
   "language": "python",
   "name": "conda-env-nba_play_by_play_data_mining-py"
  },
  "language_info": {
   "codemirror_mode": {
    "name": "ipython",
    "version": 3
   },
   "file_extension": ".py",
   "mimetype": "text/x-python",
   "name": "python",
   "nbconvert_exporter": "python",
   "pygments_lexer": "ipython3",
   "version": "3.9.12"
  }
 },
 "nbformat": 4,
 "nbformat_minor": 5
}
