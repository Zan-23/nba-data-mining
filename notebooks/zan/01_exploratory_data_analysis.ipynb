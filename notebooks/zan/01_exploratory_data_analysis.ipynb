{
 "cells": [
  {
   "cell_type": "code",
   "execution_count": null,
   "id": "eee00820",
   "metadata": {},
   "outputs": [],
   "source": [
    "%reload_ext autoreload\n",
    "%autoreload 2\n",
    "import os \n",
    "import sys\n",
    "import pandas as pd\n",
    "import numpy as np\n",
    "from datetime import datetime\n",
    "import plotly \n",
    "import plotly.graph_objects as go\n",
    "\n",
    "sys.path.insert(0, \"./../../src/\")\n",
    "from data_loader import load_data"
   ]
  },
  {
   "cell_type": "markdown",
   "id": "4dd7e31c",
   "metadata": {},
   "source": [
    "## Loading the data"
   ]
  },
  {
   "cell_type": "code",
   "execution_count": null,
   "id": "beb2319d",
   "metadata": {},
   "outputs": [],
   "source": [
    "seasons = load_data()"
   ]
  },
  {
   "cell_type": "code",
   "execution_count": null,
   "id": "e24caaeb",
   "metadata": {},
   "outputs": [],
   "source": [
    "# tmp_df = pd.read_csv(\"./../../data/raw/2017-18_pbp.csv\")\n",
    "# display(tmp_df)\n",
    "display(seasons)"
   ]
  },
  {
   "cell_type": "code",
   "execution_count": null,
   "id": "b7ef0ea2",
   "metadata": {},
   "outputs": [],
   "source": [
    "seasons_subset = seasons[seasons[\"season_name\"] == \"2018-19\"]\n",
    "display(seasons_subset.head())"
   ]
  },
  {
   "cell_type": "code",
   "execution_count": null,
   "id": "132e8ef3",
   "metadata": {},
   "outputs": [],
   "source": []
  },
  {
   "cell_type": "code",
   "execution_count": null,
   "id": "256d2267",
   "metadata": {},
   "outputs": [],
   "source": []
  },
  {
   "cell_type": "markdown",
   "id": "036e3b9f",
   "metadata": {},
   "source": [
    "## Visualizations \n",
    "Below you find a vizualization for each of the features found in the data  set to "
   ]
  },
  {
   "cell_type": "code",
   "execution_count": null,
   "id": "c89b82d6",
   "metadata": {},
   "outputs": [],
   "source": [
    "# Histogram of event types\n",
    "fig = go.Figure()\n",
    "fig.add_trace(go.Histogram(\n",
    "    x=seasons_subset[\"EVENTMSGTYPE\"])\n",
    ")\n",
    "fig.update_layout(\n",
    "    title_text=\"Histogram of Event Types\", \n",
    "    xaxis_title=\"Event type name\",\n",
    "    yaxis_title=\"Frequency\"\n",
    ")\n",
    "fig.show()"
   ]
  },
  {
   "cell_type": "code",
   "execution_count": null,
   "id": "f542b406",
   "metadata": {},
   "outputs": [],
   "source": [
    "# Histogram of event action types\n",
    "fig = go.Figure()\n",
    "fig.add_trace(go.Histogram(\n",
    "    x=seasons_subset[\"EVENTMSGACTIONTYPE\"])\n",
    ")\n",
    "fig.update_layout(\n",
    "    title_text=\"Histogram of Event Action Types\", \n",
    "    xaxis_title=\"Event action type name\",\n",
    "    yaxis_title=\"Frequency\"\n",
    ")\n",
    "fig.show()"
   ]
  },
  {
   "cell_type": "code",
   "execution_count": null,
   "id": "e53dcc07",
   "metadata": {},
   "outputs": [],
   "source": [
    "# Number of events per game \n",
    "events_per_game_count = seasons_subset.groupby(\"GAME_ID\").count()[\"EVENTNUM\"]\n",
    "\n",
    "# Histogram of event action types\n",
    "fig = go.Figure()\n",
    "fig.add_trace(go.Histogram(\n",
    "    x=events_per_game_count)\n",
    ")\n",
    "fig.update_layout(\n",
    "    title_text=\"Histogram of events per game\", \n",
    "    xaxis_title=\"Number of events\",\n",
    "    yaxis_title=\"Count\"\n",
    ")\n",
    "fig.show()\n",
    "print(events_per_game_count.median(), events_per_game_count.std())"
   ]
  },
  {
   "cell_type": "markdown",
   "id": "64916bd0",
   "metadata": {},
   "source": [
    "## Finding the average game duration\n",
    "As well as the shortest and longest games"
   ]
  },
  {
   "cell_type": "code",
   "execution_count": null,
   "id": "de26b485",
   "metadata": {},
   "outputs": [],
   "source": [
    "duration_of_each_game = seasons_subset.groupby(\"GAME_ID\").count()[\"WCTIMESTRING\"]\t"
   ]
  },
  {
   "cell_type": "code",
   "execution_count": null,
   "id": "63fcc9a1",
   "metadata": {},
   "outputs": [],
   "source": [
    "# match all valid dates, and create new dataframes \n",
    "correct_time_format_regex = \"^\\s?([0][0-9]|[1][0-2]|[0-9]):[0-5][0-9]\\s?(?:AM|PM|am|pm)$\"\n",
    "correct_t_mask = seasons[\"WCTIMESTRING\"].str.match(correct_time_format_regex)\n",
    "correct_t_df = seasons[correct_t_mask]\n",
    "wrong_t_df = seasons[~correct_t_mask]\n",
    "\n",
    "print(f\"The number of wrong entries in df {len(wrong_t_df['WCTIMESTRING'])}\"\\\n",
    "      f\", of those unique {len(wrong_t_df['WCTIMESTRING'].unique())}\")\n",
    "display(correct_t_df)\n",
    "\n",
    "# convert times into 24h format\n",
    "correct_t_df[\"WCTIMESTRING\"] = pd.to_datetime(correct_t_df[\"WCTIMESTRING\"], \n",
    "                                              format='%I:%M %p').dt.strftime('%H:%M')"
   ]
  },
  {
   "cell_type": "code",
   "execution_count": null,
   "id": "1d60e463",
   "metadata": {},
   "outputs": [],
   "source": [
    "grouped_time_df = correct_t_df.sort_values(\"EVENTNUM\").groupby([\"GAME_ID\"]).agg({'WCTIMESTRING': list})\n",
    "grouped_time_df"
   ]
  },
  {
   "cell_type": "code",
   "execution_count": null,
   "id": "275ef76c",
   "metadata": {},
   "outputs": [],
   "source": [
    "from datetime import timedelta\n",
    "grouped_time_df[\"game_start_time\"] = np.nan\n",
    "grouped_time_df[\"game_end_time\"] = np.nan\n",
    "for index, row in grouped_time_df.iterrows():\n",
    "    # very dumb handling of edge cases and wrong values\n",
    "    until_midnight = []\n",
    "    after_midnight = []\n",
    "    for time_str in row[\"WCTIMESTRING\"]:\n",
    "        if time_str <= \"23:59\" and time_str >= \"10:59\":\n",
    "            until_midnight.append(time_str)\n",
    "        else:\n",
    "            after_midnight.append(time_str)\n",
    "    curr_row_arr = sorted(until_midnight) + sorted(after_midnight)\n",
    "    start_time = pd.to_datetime(curr_row_arr[0], format='%H:%M')\n",
    "    end_time = pd.to_datetime(curr_row_arr[-1], format='%H:%M')\n",
    "    \n",
    "    if start_time.hour > 10 and end_time.hour < 10:\n",
    "        # add one day, if clock goes over midnight\n",
    "        end_time = end_time + timedelta(hours=24)\n",
    "    grouped_time_df.loc[index, \"game_start_time\"] = start_time\n",
    "    grouped_time_df.loc[index, \"game_end_time\"] = end_time\n",
    "\n",
    "grouped_time_df[\"game_duration\"] = grouped_time_df[\"game_end_time\"] - \\\n",
    "                                            grouped_time_df[\"game_start_time\"]\n",
    "# convert to minutes\n",
    "grouped_time_df[\"game_duration\"] = grouped_time_df[\"game_duration\"].dt.total_seconds().div(60).astype(int)\n",
    "display(grouped_time_df)"
   ]
  },
  {
   "cell_type": "code",
   "execution_count": null,
   "id": "8442172e",
   "metadata": {},
   "outputs": [],
   "source": [
    "# remove wrong durations, no game lasts that long\n",
    "grouped_time_df = grouped_time_df[(grouped_time_df[\"game_duration\"] < 300) & (grouped_time_df[\"game_duration\"] > 0)]    \n",
    "# Histogram of event action types\n",
    "fig = go.Figure()\n",
    "fig.add_trace(go.Histogram(x=grouped_time_df[\"game_duration\"]))\n",
    "fig.update_layout(\n",
    "    title_text=\"Distribution of game durations\", \n",
    "    xaxis_title=\"Game duration in minutes\",\n",
    "    yaxis_title=\"Count\"\n",
    ")\n",
    "fig.show()"
   ]
  },
  {
   "cell_type": "code",
   "execution_count": null,
   "id": "fde79bf1",
   "metadata": {},
   "outputs": [],
   "source": [
    "# find wrong game durations \n",
    "# wrong_durations_df = grouped_time_df[grouped_time_df[\"game_duration\"] <= 0]\n",
    "wrong_durations_df = grouped_time_df[grouped_time_df[\"game_duration\"] < 300]\n",
    "display(wrong_durations_df)"
   ]
  },
  {
   "cell_type": "code",
   "execution_count": null,
   "id": "1073d790",
   "metadata": {},
   "outputs": [],
   "source": [
    "wrong_durations_df.iloc[-1][\"WCTIMESTRING\"]"
   ]
  },
  {
   "cell_type": "code",
   "execution_count": null,
   "id": "ae5bd514",
   "metadata": {},
   "outputs": [],
   "source": []
  }
 ],
 "metadata": {
  "kernelspec": {
   "display_name": "Python [conda env:nba_play_by_play_data_mining]",
   "language": "python",
   "name": "conda-env-nba_play_by_play_data_mining-py"
  },
  "language_info": {
   "codemirror_mode": {
    "name": "ipython",
    "version": 3
   },
   "file_extension": ".py",
   "mimetype": "text/x-python",
   "name": "python",
   "nbconvert_exporter": "python",
   "pygments_lexer": "ipython3",
   "version": "3.9.12"
  }
 },
 "nbformat": 4,
 "nbformat_minor": 5
}
