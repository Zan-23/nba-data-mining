{
 "cells": [
  {
   "cell_type": "code",
   "execution_count": 1,
   "metadata": {},
   "outputs": [],
   "source": [
    "%reload_ext autoreload\n",
    "%autoreload 2\n",
    "sys.path.insert(0, '../../src/')\n",
    "import pandas as pd\n",
    "import sys\n",
    "import data_loader\n",
    "pd.set_option('display.max_columns', None)\n",
    "import matplotlib.pyplot as plt\n",
    "from pytablewriter import MediaWikiTableWriter\n",
    "import plotly.express as px"
   ]
  },
  {
   "cell_type": "code",
   "execution_count": 2,
   "metadata": {},
   "outputs": [
    {
     "name": "stdout",
     "output_type": "stream",
     "text": [
      "Loaded PBP-data\n",
      "Loaded player-info data\n",
      "Calculated player data for the 2018-19 season\r"
     ]
    }
   ],
   "source": [
    "player_data = data_loader.load_player_data(seasons=[\"2018-19\"])"
   ]
  },
  {
   "cell_type": "code",
   "execution_count": 33,
   "metadata": {},
   "outputs": [],
   "source": [
    "player_data[\"ppg\"] = player_data[\"points\"] / player_data[\"games_played\"]\n",
    "player_data[\"2PT_percent\"] = (player_data[\"fg_made\"]-player_data[\"3PT_made\"]) / (player_data[\"fg_made\"] + player_data[\"fg_missed\"] - (player_data[\"3PT_made\"] + player_data[\"3PT_missed\"]))\n",
    "player_data[\"fg_percent\"] = player_data[\"fg_made\"] / (player_data[\"fg_made\"] + player_data[\"fg_missed\"])\n",
    "player_data[\"3PT_percent\"] = player_data[\"3PT_made\"] / (player_data[\"3PT_made\"] + player_data[\"3PT_missed\"])\n",
    "player_data[\"ft_percent\"] = player_data[\"ft_made\"] / (player_data[\"ft_made\"] + player_data[\"ft_missed\"])\n",
    "player_data[\"apg\"] = player_data[\"assists\"] / player_data[\"games_played\"]\n",
    "player_data[\"rpg\"] = player_data[\"rebounds\"] / player_data[\"games_played\"]"
   ]
  },
  {
   "cell_type": "code",
   "execution_count": 21,
   "metadata": {},
   "outputs": [
    {
     "data": {
      "text/html": [
       "<div>\n",
       "<style scoped>\n",
       "    .dataframe tbody tr th:only-of-type {\n",
       "        vertical-align: middle;\n",
       "    }\n",
       "\n",
       "    .dataframe tbody tr th {\n",
       "        vertical-align: top;\n",
       "    }\n",
       "\n",
       "    .dataframe thead th {\n",
       "        text-align: right;\n",
       "    }\n",
       "</style>\n",
       "<table border=\"1\" class=\"dataframe\">\n",
       "  <thead>\n",
       "    <tr style=\"text-align: right;\">\n",
       "      <th></th>\n",
       "      <th>season_name</th>\n",
       "      <th>player_name</th>\n",
       "      <th>Age</th>\n",
       "      <th>Height</th>\n",
       "      <th>Weight</th>\n",
       "      <th>College</th>\n",
       "      <th>Country</th>\n",
       "      <th>Draft Year</th>\n",
       "      <th>Draft Number</th>\n",
       "      <th>Draft Number</th>\n",
       "      <th>games_played</th>\n",
       "      <th>fg_made</th>\n",
       "      <th>fg_missed</th>\n",
       "      <th>3PT_made</th>\n",
       "      <th>3PT_missed</th>\n",
       "      <th>ft_made</th>\n",
       "      <th>ft_missed</th>\n",
       "      <th>points</th>\n",
       "      <th>rebounds</th>\n",
       "      <th>assists</th>\n",
       "      <th>turnover</th>\n",
       "      <th>fouls</th>\n",
       "      <th>ppg</th>\n",
       "      <th>2PT_percent</th>\n",
       "      <th>3PT_percent</th>\n",
       "      <th>ft_percent</th>\n",
       "    </tr>\n",
       "  </thead>\n",
       "  <tbody>\n",
       "    <tr>\n",
       "      <th>920</th>\n",
       "      <td>2000-01</td>\n",
       "      <td>A.C. Green</td>\n",
       "      <td>37</td>\n",
       "      <td>6-9</td>\n",
       "      <td>225</td>\n",
       "      <td>Oregon State</td>\n",
       "      <td>USA</td>\n",
       "      <td>1985</td>\n",
       "      <td>23</td>\n",
       "      <td>23</td>\n",
       "      <td>82</td>\n",
       "      <td>144</td>\n",
       "      <td>180</td>\n",
       "      <td>0</td>\n",
       "      <td>6</td>\n",
       "      <td>79</td>\n",
       "      <td>32</td>\n",
       "      <td>367</td>\n",
       "      <td>313</td>\n",
       "      <td>39</td>\n",
       "      <td>45</td>\n",
       "      <td>120</td>\n",
       "      <td>4.475610</td>\n",
       "      <td>0.452830</td>\n",
       "      <td>0.000000</td>\n",
       "      <td>0.711712</td>\n",
       "    </tr>\n",
       "    <tr>\n",
       "      <th>2062</th>\n",
       "      <td>2000-01</td>\n",
       "      <td>A.J. Guyton</td>\n",
       "      <td>23</td>\n",
       "      <td>6-1</td>\n",
       "      <td>180</td>\n",
       "      <td>Indiana</td>\n",
       "      <td>USA</td>\n",
       "      <td>2000</td>\n",
       "      <td>32</td>\n",
       "      <td>32</td>\n",
       "      <td>33</td>\n",
       "      <td>78</td>\n",
       "      <td>114</td>\n",
       "      <td>27</td>\n",
       "      <td>42</td>\n",
       "      <td>15</td>\n",
       "      <td>3</td>\n",
       "      <td>198</td>\n",
       "      <td>36</td>\n",
       "      <td>64</td>\n",
       "      <td>24</td>\n",
       "      <td>35</td>\n",
       "      <td>6.000000</td>\n",
       "      <td>0.414634</td>\n",
       "      <td>0.391304</td>\n",
       "      <td>0.833333</td>\n",
       "    </tr>\n",
       "    <tr>\n",
       "      <th>2062</th>\n",
       "      <td>2001-02</td>\n",
       "      <td>A.J. Guyton</td>\n",
       "      <td>24</td>\n",
       "      <td>6-1</td>\n",
       "      <td>180</td>\n",
       "      <td>Indiana</td>\n",
       "      <td>USA</td>\n",
       "      <td>2000</td>\n",
       "      <td>32</td>\n",
       "      <td>32</td>\n",
       "      <td>45</td>\n",
       "      <td>88</td>\n",
       "      <td>156</td>\n",
       "      <td>46</td>\n",
       "      <td>77</td>\n",
       "      <td>22</td>\n",
       "      <td>5</td>\n",
       "      <td>244</td>\n",
       "      <td>44</td>\n",
       "      <td>81</td>\n",
       "      <td>37</td>\n",
       "      <td>24</td>\n",
       "      <td>5.422222</td>\n",
       "      <td>0.347107</td>\n",
       "      <td>0.373984</td>\n",
       "      <td>0.814815</td>\n",
       "    </tr>\n",
       "    <tr>\n",
       "      <th>2062</th>\n",
       "      <td>2002-03</td>\n",
       "      <td>A.J. Guyton</td>\n",
       "      <td>25</td>\n",
       "      <td>6-1</td>\n",
       "      <td>180</td>\n",
       "      <td>Indiana</td>\n",
       "      <td>USA</td>\n",
       "      <td>2000</td>\n",
       "      <td>32</td>\n",
       "      <td>32</td>\n",
       "      <td>2</td>\n",
       "      <td>0</td>\n",
       "      <td>4</td>\n",
       "      <td>0</td>\n",
       "      <td>1</td>\n",
       "      <td>0</td>\n",
       "      <td>0</td>\n",
       "      <td>0</td>\n",
       "      <td>0</td>\n",
       "      <td>2</td>\n",
       "      <td>1</td>\n",
       "      <td>0</td>\n",
       "      <td>0.000000</td>\n",
       "      <td>0.000000</td>\n",
       "      <td>0.000000</td>\n",
       "      <td>NaN</td>\n",
       "    </tr>\n",
       "    <tr>\n",
       "      <th>201985</th>\n",
       "      <td>2009-10</td>\n",
       "      <td>A.J. Price</td>\n",
       "      <td>23</td>\n",
       "      <td>6-2</td>\n",
       "      <td>181</td>\n",
       "      <td>Connecticut</td>\n",
       "      <td>USA</td>\n",
       "      <td>2009</td>\n",
       "      <td>52</td>\n",
       "      <td>52</td>\n",
       "      <td>56</td>\n",
       "      <td>145</td>\n",
       "      <td>209</td>\n",
       "      <td>60</td>\n",
       "      <td>114</td>\n",
       "      <td>60</td>\n",
       "      <td>15</td>\n",
       "      <td>410</td>\n",
       "      <td>88</td>\n",
       "      <td>106</td>\n",
       "      <td>59</td>\n",
       "      <td>54</td>\n",
       "      <td>7.321429</td>\n",
       "      <td>0.472222</td>\n",
       "      <td>0.344828</td>\n",
       "      <td>0.800000</td>\n",
       "    </tr>\n",
       "    <tr>\n",
       "      <th>...</th>\n",
       "      <td>...</td>\n",
       "      <td>...</td>\n",
       "      <td>...</td>\n",
       "      <td>...</td>\n",
       "      <td>...</td>\n",
       "      <td>...</td>\n",
       "      <td>...</td>\n",
       "      <td>...</td>\n",
       "      <td>...</td>\n",
       "      <td>...</td>\n",
       "      <td>...</td>\n",
       "      <td>...</td>\n",
       "      <td>...</td>\n",
       "      <td>...</td>\n",
       "      <td>...</td>\n",
       "      <td>...</td>\n",
       "      <td>...</td>\n",
       "      <td>...</td>\n",
       "      <td>...</td>\n",
       "      <td>...</td>\n",
       "      <td>...</td>\n",
       "      <td>...</td>\n",
       "      <td>...</td>\n",
       "      <td>...</td>\n",
       "      <td>...</td>\n",
       "      <td>...</td>\n",
       "    </tr>\n",
       "    <tr>\n",
       "      <th>980</th>\n",
       "      <td>2006-07</td>\n",
       "      <td>Zydrunas Ilgauskas</td>\n",
       "      <td>32</td>\n",
       "      <td>7-3</td>\n",
       "      <td>260</td>\n",
       "      <td>None</td>\n",
       "      <td>Lithuania</td>\n",
       "      <td>1996</td>\n",
       "      <td>20</td>\n",
       "      <td>20</td>\n",
       "      <td>78</td>\n",
       "      <td>385</td>\n",
       "      <td>408</td>\n",
       "      <td>0</td>\n",
       "      <td>1</td>\n",
       "      <td>155</td>\n",
       "      <td>37</td>\n",
       "      <td>925</td>\n",
       "      <td>599</td>\n",
       "      <td>123</td>\n",
       "      <td>141</td>\n",
       "      <td>274</td>\n",
       "      <td>11.858974</td>\n",
       "      <td>0.486111</td>\n",
       "      <td>0.000000</td>\n",
       "      <td>0.807292</td>\n",
       "    </tr>\n",
       "    <tr>\n",
       "      <th>980</th>\n",
       "      <td>2007-08</td>\n",
       "      <td>Zydrunas Ilgauskas</td>\n",
       "      <td>33</td>\n",
       "      <td>7-3</td>\n",
       "      <td>260</td>\n",
       "      <td>None</td>\n",
       "      <td>Lithuania</td>\n",
       "      <td>1996</td>\n",
       "      <td>20</td>\n",
       "      <td>20</td>\n",
       "      <td>73</td>\n",
       "      <td>417</td>\n",
       "      <td>462</td>\n",
       "      <td>0</td>\n",
       "      <td>1</td>\n",
       "      <td>195</td>\n",
       "      <td>48</td>\n",
       "      <td>1029</td>\n",
       "      <td>682</td>\n",
       "      <td>104</td>\n",
       "      <td>135</td>\n",
       "      <td>256</td>\n",
       "      <td>14.095890</td>\n",
       "      <td>0.474943</td>\n",
       "      <td>0.000000</td>\n",
       "      <td>0.802469</td>\n",
       "    </tr>\n",
       "    <tr>\n",
       "      <th>980</th>\n",
       "      <td>2008-09</td>\n",
       "      <td>Zydrunas Ilgauskas</td>\n",
       "      <td>34</td>\n",
       "      <td>7-3</td>\n",
       "      <td>260</td>\n",
       "      <td>None</td>\n",
       "      <td>Lithuania</td>\n",
       "      <td>1996</td>\n",
       "      <td>20</td>\n",
       "      <td>20</td>\n",
       "      <td>65</td>\n",
       "      <td>342</td>\n",
       "      <td>382</td>\n",
       "      <td>15</td>\n",
       "      <td>24</td>\n",
       "      <td>139</td>\n",
       "      <td>35</td>\n",
       "      <td>838</td>\n",
       "      <td>490</td>\n",
       "      <td>64</td>\n",
       "      <td>90</td>\n",
       "      <td>192</td>\n",
       "      <td>12.892308</td>\n",
       "      <td>0.477372</td>\n",
       "      <td>0.384615</td>\n",
       "      <td>0.798851</td>\n",
       "    </tr>\n",
       "    <tr>\n",
       "      <th>980</th>\n",
       "      <td>2009-10</td>\n",
       "      <td>Zydrunas Ilgauskas</td>\n",
       "      <td>35</td>\n",
       "      <td>7-3</td>\n",
       "      <td>260</td>\n",
       "      <td>None</td>\n",
       "      <td>Lithuania</td>\n",
       "      <td>1996</td>\n",
       "      <td>20</td>\n",
       "      <td>20</td>\n",
       "      <td>64</td>\n",
       "      <td>194</td>\n",
       "      <td>244</td>\n",
       "      <td>11</td>\n",
       "      <td>12</td>\n",
       "      <td>75</td>\n",
       "      <td>26</td>\n",
       "      <td>474</td>\n",
       "      <td>345</td>\n",
       "      <td>48</td>\n",
       "      <td>63</td>\n",
       "      <td>193</td>\n",
       "      <td>7.406250</td>\n",
       "      <td>0.440964</td>\n",
       "      <td>0.478261</td>\n",
       "      <td>0.742574</td>\n",
       "    </tr>\n",
       "    <tr>\n",
       "      <th>980</th>\n",
       "      <td>2010-11</td>\n",
       "      <td>Zydrunas Ilgauskas</td>\n",
       "      <td>36</td>\n",
       "      <td>7-3</td>\n",
       "      <td>260</td>\n",
       "      <td>None</td>\n",
       "      <td>Lithuania</td>\n",
       "      <td>1996</td>\n",
       "      <td>20</td>\n",
       "      <td>20</td>\n",
       "      <td>72</td>\n",
       "      <td>162</td>\n",
       "      <td>157</td>\n",
       "      <td>0</td>\n",
       "      <td>1</td>\n",
       "      <td>36</td>\n",
       "      <td>10</td>\n",
       "      <td>360</td>\n",
       "      <td>287</td>\n",
       "      <td>26</td>\n",
       "      <td>52</td>\n",
       "      <td>198</td>\n",
       "      <td>5.000000</td>\n",
       "      <td>0.509434</td>\n",
       "      <td>0.000000</td>\n",
       "      <td>0.782609</td>\n",
       "    </tr>\n",
       "  </tbody>\n",
       "</table>\n",
       "<p>8874 rows × 26 columns</p>\n",
       "</div>"
      ],
      "text/plain": [
       "       season_name         player_name  Age Height Weight       College  \\\n",
       "920        2000-01          A.C. Green   37    6-9    225  Oregon State   \n",
       "2062       2000-01         A.J. Guyton   23    6-1    180       Indiana   \n",
       "2062       2001-02         A.J. Guyton   24    6-1    180       Indiana   \n",
       "2062       2002-03         A.J. Guyton   25    6-1    180       Indiana   \n",
       "201985     2009-10          A.J. Price   23    6-2    181   Connecticut   \n",
       "...            ...                 ...  ...    ...    ...           ...   \n",
       "980        2006-07  Zydrunas Ilgauskas   32    7-3    260          None   \n",
       "980        2007-08  Zydrunas Ilgauskas   33    7-3    260          None   \n",
       "980        2008-09  Zydrunas Ilgauskas   34    7-3    260          None   \n",
       "980        2009-10  Zydrunas Ilgauskas   35    7-3    260          None   \n",
       "980        2010-11  Zydrunas Ilgauskas   36    7-3    260          None   \n",
       "\n",
       "          Country Draft Year Draft Number Draft Number  games_played  fg_made  \\\n",
       "920           USA       1985           23           23            82      144   \n",
       "2062          USA       2000           32           32            33       78   \n",
       "2062          USA       2000           32           32            45       88   \n",
       "2062          USA       2000           32           32             2        0   \n",
       "201985        USA       2009           52           52            56      145   \n",
       "...           ...        ...          ...          ...           ...      ...   \n",
       "980     Lithuania       1996           20           20            78      385   \n",
       "980     Lithuania       1996           20           20            73      417   \n",
       "980     Lithuania       1996           20           20            65      342   \n",
       "980     Lithuania       1996           20           20            64      194   \n",
       "980     Lithuania       1996           20           20            72      162   \n",
       "\n",
       "        fg_missed  3PT_made  3PT_missed  ft_made  ft_missed  points  rebounds  \\\n",
       "920           180         0           6       79         32     367       313   \n",
       "2062          114        27          42       15          3     198        36   \n",
       "2062          156        46          77       22          5     244        44   \n",
       "2062            4         0           1        0          0       0         0   \n",
       "201985        209        60         114       60         15     410        88   \n",
       "...           ...       ...         ...      ...        ...     ...       ...   \n",
       "980           408         0           1      155         37     925       599   \n",
       "980           462         0           1      195         48    1029       682   \n",
       "980           382        15          24      139         35     838       490   \n",
       "980           244        11          12       75         26     474       345   \n",
       "980           157         0           1       36         10     360       287   \n",
       "\n",
       "        assists  turnover  fouls        ppg  2PT_percent  3PT_percent  \\\n",
       "920          39        45    120   4.475610     0.452830     0.000000   \n",
       "2062         64        24     35   6.000000     0.414634     0.391304   \n",
       "2062         81        37     24   5.422222     0.347107     0.373984   \n",
       "2062          2         1      0   0.000000     0.000000     0.000000   \n",
       "201985      106        59     54   7.321429     0.472222     0.344828   \n",
       "...         ...       ...    ...        ...          ...          ...   \n",
       "980         123       141    274  11.858974     0.486111     0.000000   \n",
       "980         104       135    256  14.095890     0.474943     0.000000   \n",
       "980          64        90    192  12.892308     0.477372     0.384615   \n",
       "980          48        63    193   7.406250     0.440964     0.478261   \n",
       "980          26        52    198   5.000000     0.509434     0.000000   \n",
       "\n",
       "        ft_percent  \n",
       "920       0.711712  \n",
       "2062      0.833333  \n",
       "2062      0.814815  \n",
       "2062           NaN  \n",
       "201985    0.800000  \n",
       "...            ...  \n",
       "980       0.807292  \n",
       "980       0.802469  \n",
       "980       0.798851  \n",
       "980       0.742574  \n",
       "980       0.782609  \n",
       "\n",
       "[8874 rows x 26 columns]"
      ]
     },
     "execution_count": 21,
     "metadata": {},
     "output_type": "execute_result"
    }
   ],
   "source": [
    "player_data"
   ]
  },
  {
   "cell_type": "code",
   "execution_count": 69,
   "metadata": {},
   "outputs": [
    {
     "name": "stdout",
     "output_type": "stream",
     "text": [
      "Loaded PBP-data\n",
      "Calculated game data for the 2015-16 season\r"
     ]
    }
   ],
   "source": [
    "game_data = data_loader.load_game_data(seasons=[\"2015-16\"])"
   ]
  },
  {
   "cell_type": "code",
   "execution_count": 66,
   "metadata": {},
   "outputs": [],
   "source": [
    "wins_dict = {team: 0 for team in set(game_data[\"visitor_team_id\"].to_list() + game_data[\"home_team_id\"].to_list())}\n",
    "losses_dict = wins_dict.copy()"
   ]
  },
  {
   "cell_type": "code",
   "execution_count": 164,
   "metadata": {},
   "outputs": [],
   "source": [
    "pbp_data = data_loader.load_data(seasons=[\"2000-01\"])"
   ]
  },
  {
   "cell_type": "code",
   "execution_count": 165,
   "metadata": {},
   "outputs": [
    {
     "data": {
      "text/plain": [
       "<AxesSubplot:xlabel='visitor_shot_distance'>"
      ]
     },
     "execution_count": 165,
     "metadata": {},
     "output_type": "execute_result"
    },
    {
     "data": {
      "image/png": "[encoded data removed]",
      "text/plain": [
       "<Figure size 432x288 with 1 Axes>"
      ]
     },
     "metadata": {
      "needs_background": "light"
     },
     "output_type": "display_data"
    }
   ],
   "source": [
    "pbp_data[(pbp_data[\"EVENTMSGTYPE\"].isin([\"FIELD_GOAL_MADE\"]))].groupby('visitor_shot_distance').size().plot.bar()"
   ]
  },
  {
   "cell_type": "code",
   "execution_count": 167,
   "metadata": {},
   "outputs": [
    {
     "name": "stdout",
     "output_type": "stream",
     "text": [
      "Loaded PBP-data\n",
      "Calculated game data for the 2018-19 season\r"
     ]
    }
   ],
   "source": [
    "game_data = data_loader.load_game_data(seasons=None)"
   ]
  },
  {
   "cell_type": "code",
   "execution_count": 183,
   "metadata": {},
   "outputs": [],
   "source": [
    "game_data.loc[game_data[\"home_win\"] ,\"prior_home_record_wins\"] = game_data[\"home_record_wins\"] - 1\n",
    "game_data.loc[game_data[\"home_win\"] ,\"prior_home_record_losses\"] = game_data[\"home_record_losses\"]\n",
    "game_data.loc[game_data[\"home_win\"] ,\"prior_visitor_record_losses\"] = game_data[\"visitor_record_losses\"] - 1\n",
    "game_data.loc[game_data[\"home_win\"] ,\"prior_visitor_record_wins\"] = game_data[\"visitor_record_wins\"]\n",
    "game_data.loc[game_data[\"home_win\"]==False,\"prior_home_record_losses\"] = game_data[\"home_record_losses\"] - 1\n",
    "game_data.loc[game_data[\"home_win\"]==False,\"prior_home_record_wins\"] = game_data[\"home_record_wins\"]\n",
    "game_data.loc[game_data[\"home_win\"]==False ,\"prior_visitor_record_wins\"] = game_data[\"visitor_record_wins\"] - 1\n",
    "game_data.loc[game_data[\"home_win\"]==False,\"prior_visitor_record_losses\"] = game_data[\"visitor_record_losses\"]"
   ]
  },
  {
   "cell_type": "code",
   "execution_count": 186,
   "metadata": {},
   "outputs": [],
   "source": [
    "game_data[\"better_record\"] = game_data.apply(lambda x: \"HOME\" if (x[\"prior_home_record_wins\"]-x[\"prior_home_record_losses\"] > x[\"prior_visitor_record_wins\"]-x[\"prior_visitor_record_losses\"]) else (\"VISITOR\" if (x[\"prior_home_record_wins\"]-x[\"prior_home_record_losses\"] < x[\"prior_visitor_record_wins\"]-x[\"prior_visitor_record_losses\"]) else \"EVEN\"), axis=1)"
   ]
  },
  {
   "cell_type": "code",
   "execution_count": 203,
   "metadata": {},
   "outputs": [
    {
     "data": {
      "text/plain": [
       "array([<AxesSubplot:ylabel='EVEN'>, <AxesSubplot:ylabel='HOME'>,\n",
       "       <AxesSubplot:ylabel='VISITOR'>], dtype=object)"
      ]
     },
     "execution_count": 203,
     "metadata": {},
     "output_type": "execute_result"
    },
    {
     "data": {
      "image/png": "[encoded data removed]",
      "text/plain": [
       "<Figure size 1440x1440 with 3 Axes>"
      ]
     },
     "metadata": {},
     "output_type": "display_data"
    }
   ],
   "source": [
    "game_data.groupby([\"home_win\",\"better_record\"]).size().unstack().plot.pie(subplots=True, figsize=(20,20))"
   ]
  },
  {
   "cell_type": "code",
   "execution_count": 228,
   "metadata": {},
   "outputs": [
    {
     "ename": "AttributeError",
     "evalue": "'DataFrame' object has no attribute 'unique'",
     "output_type": "error",
     "traceback": [
      "\u001b[0;31m---------------------------------------------------------------------------\u001b[0m",
      "\u001b[0;31mAttributeError\u001b[0m                            Traceback (most recent call last)",
      "\u001b[0;32m<ipython-input-228-0f38566e6714>\u001b[0m in \u001b[0;36m<module>\u001b[0;34m\u001b[0m\n\u001b[0;32m----> 1\u001b[0;31m \u001b[0mpx\u001b[0m\u001b[0;34m.\u001b[0m\u001b[0mpie\u001b[0m\u001b[0;34m(\u001b[0m\u001b[0mvalues\u001b[0m\u001b[0;34m=\u001b[0m\u001b[0mgame_data\u001b[0m\u001b[0;34m[\u001b[0m\u001b[0;34m[\u001b[0m\u001b[0;34m\"home_win\"\u001b[0m\u001b[0;34m,\u001b[0m\u001b[0;34m\"better_record\"\u001b[0m\u001b[0;34m]\u001b[0m\u001b[0;34m]\u001b[0m\u001b[0;34m.\u001b[0m\u001b[0mvalue_counts\u001b[0m\u001b[0;34m(\u001b[0m\u001b[0;34m)\u001b[0m\u001b[0;34m,\u001b[0m \u001b[0mlabels\u001b[0m\u001b[0;34m=\u001b[0m\u001b[0mgame_data\u001b[0m\u001b[0;34m[\u001b[0m\u001b[0;34m[\u001b[0m\u001b[0;34m\"home_win\"\u001b[0m\u001b[0;34m,\u001b[0m\u001b[0;34m\"better_record\"\u001b[0m\u001b[0;34m]\u001b[0m\u001b[0;34m]\u001b[0m\u001b[0;34m.\u001b[0m\u001b[0munique\u001b[0m\u001b[0;34m(\u001b[0m\u001b[0;34m)\u001b[0m \u001b[0;34m,\u001b[0m\u001b[0mwidth\u001b[0m\u001b[0;34m=\u001b[0m\u001b[0;36m1000\u001b[0m\u001b[0;34m,\u001b[0m \u001b[0mheight\u001b[0m\u001b[0;34m=\u001b[0m\u001b[0;36m1000\u001b[0m\u001b[0;34m)\u001b[0m\u001b[0;34m\u001b[0m\u001b[0;34m\u001b[0m\u001b[0m\n\u001b[0m",
      "\u001b[0;32m/usr/local/lib/python3.9/site-packages/pandas/core/generic.py\u001b[0m in \u001b[0;36m__getattr__\u001b[0;34m(self, name)\u001b[0m\n\u001b[1;32m   5573\u001b[0m         ):\n\u001b[1;32m   5574\u001b[0m             \u001b[0;32mreturn\u001b[0m \u001b[0mself\u001b[0m\u001b[0;34m[\u001b[0m\u001b[0mname\u001b[0m\u001b[0;34m]\u001b[0m\u001b[0;34m\u001b[0m\u001b[0;34m\u001b[0m\u001b[0m\n\u001b[0;32m-> 5575\u001b[0;31m         \u001b[0;32mreturn\u001b[0m \u001b[0mobject\u001b[0m\u001b[0;34m.\u001b[0m\u001b[0m__getattribute__\u001b[0m\u001b[0;34m(\u001b[0m\u001b[0mself\u001b[0m\u001b[0;34m,\u001b[0m \u001b[0mname\u001b[0m\u001b[0;34m)\u001b[0m\u001b[0;34m\u001b[0m\u001b[0;34m\u001b[0m\u001b[0m\n\u001b[0m\u001b[1;32m   5576\u001b[0m \u001b[0;34m\u001b[0m\u001b[0m\n\u001b[1;32m   5577\u001b[0m     \u001b[0;32mdef\u001b[0m \u001b[0m__setattr__\u001b[0m\u001b[0;34m(\u001b[0m\u001b[0mself\u001b[0m\u001b[0;34m,\u001b[0m \u001b[0mname\u001b[0m\u001b[0;34m:\u001b[0m \u001b[0mstr\u001b[0m\u001b[0;34m,\u001b[0m \u001b[0mvalue\u001b[0m\u001b[0;34m)\u001b[0m \u001b[0;34m->\u001b[0m \u001b[0;32mNone\u001b[0m\u001b[0;34m:\u001b[0m\u001b[0;34m\u001b[0m\u001b[0;34m\u001b[0m\u001b[0m\n",
      "\u001b[0;31mAttributeError\u001b[0m: 'DataFrame' object has no attribute 'unique'"
     ]
    }
   ],
   "source": [
    "px.pie(values=game_data[[\"home_win\",\"better_record\"]].value_counts(), labels=game_data[[\"home_win\",\"better_record\"]].unique() ,width=1000, height=1000)"
   ]
  },
  {
   "cell_type": "code",
   "execution_count": 232,
   "metadata": {},
   "outputs": [],
   "source": [
    "import plotly.graph_objects as go\n",
    "from plotly.subplots import make_subplots"
   ]
  },
  {
   "cell_type": "code",
   "execution_count": 231,
   "metadata": {},
   "outputs": [
    {
     "data": {
      "text/html": [
       "<div>\n",
       "<style scoped>\n",
       "    .dataframe tbody tr th:only-of-type {\n",
       "        vertical-align: middle;\n",
       "    }\n",
       "\n",
       "    .dataframe tbody tr th {\n",
       "        vertical-align: top;\n",
       "    }\n",
       "\n",
       "    .dataframe thead th {\n",
       "        text-align: right;\n",
       "    }\n",
       "</style>\n",
       "<table border=\"1\" class=\"dataframe\">\n",
       "  <thead>\n",
       "    <tr style=\"text-align: right;\">\n",
       "      <th>better_record</th>\n",
       "      <th>EVEN</th>\n",
       "      <th>HOME</th>\n",
       "      <th>VISITOR</th>\n",
       "    </tr>\n",
       "    <tr>\n",
       "      <th>home_win</th>\n",
       "      <th></th>\n",
       "      <th></th>\n",
       "      <th></th>\n",
       "    </tr>\n",
       "  </thead>\n",
       "  <tbody>\n",
       "    <tr>\n",
       "      <th>False</th>\n",
       "      <td>418</td>\n",
       "      <td>2742</td>\n",
       "      <td>6104</td>\n",
       "    </tr>\n",
       "    <tr>\n",
       "      <th>True</th>\n",
       "      <td>655</td>\n",
       "      <td>8003</td>\n",
       "      <td>5043</td>\n",
       "    </tr>\n",
       "  </tbody>\n",
       "</table>\n",
       "</div>"
      ],
      "text/plain": [
       "better_record  EVEN  HOME  VISITOR\n",
       "home_win                          \n",
       "False           418  2742     6104\n",
       "True            655  8003     5043"
      ]
     },
     "execution_count": 231,
     "metadata": {},
     "output_type": "execute_result"
    }
   ],
   "source": [
    "game_data.groupby([\"home_win\",\"better_record\"]).size().unstack()"
   ]
  },
  {
   "cell_type": "code",
   "execution_count": 300,
   "metadata": {},
   "outputs": [
    {
     "data": {
      "application/vnd.plotly.v1+json": {
       "config": {
        "plotlyServerURL": "https://plot.ly"
       },
       "data": [
        {
         "domain": {
          "x": [
           0,
           0.2888888888888889
          ],
          "y": [
           0,
           1
          ]
         },
         "hole": 0.4,
         "hoverinfo": "label+percent+name",
         "labels": [
          "Home team wins",
          "Visitor team wins"
         ],
         "name": "HOME",
         "textfont": {
          "size": 20
         },
         "type": "pie",
         "values": [
          8003,
          2742
         ]
        },
        {
         "domain": {
          "x": [
           0.35555555555555557,
           0.6444444444444445
          ],
          "y": [
           0,
           1
          ]
         },
         "hole": 0.4,
         "hoverinfo": "label+percent+name",
         "labels": [
          "Home team wins",
          "Visitor team wins"
         ],
         "name": "EVEN",
         "textfont": {
          "size": 20
         },
         "type": "pie",
         "values": [
          655,
          418
         ]
        },
        {
         "domain": {
          "x": [
           0.7111111111111111,
           1
          ],
          "y": [
           0,
           1
          ]
         },
         "hole": 0.4,
         "hoverinfo": "label+percent+name",
         "labels": [
          "Home team wins",
          "Visitor team wins"
         ],
         "name": "VISITOR",
         "textfont": {
          "size": 20
         },
         "type": "pie",
         "values": [
          5043,
          6104
         ]
        }
       ],
       "layout": {
        "annotations": [
         {
          "font": {
           "size": 14
          },
          "showarrow": false,
          "text": "Home team has <br> better record",
          "x": 0.097,
          "y": 0.5
         },
         {
          "font": {
           "size": 14
          },
          "showarrow": false,
          "text": "Teams have <br> even record",
          "x": 0.5,
          "y": 0.5
         },
         {
          "font": {
           "size": 14
          },
          "showarrow": false,
          "text": "Visitor team has <br> better record",
          "x": 0.908,
          "y": 0.5
         }
        ],
        "height": 500,
        "template": {
         "data": {
          "bar": [
           {
            "error_x": {
             "color": "#2a3f5f"
            },
            "error_y": {
             "color": "#2a3f5f"
            },
            "marker": {
             "line": {
              "color": "#E5ECF6",
              "width": 0.5
             },
             "pattern": {
              "fillmode": "overlay",
              "size": 10,
              "solidity": 0.2
             }
            },
            "type": "bar"
           }
          ],
          "barpolar": [
           {
            "marker": {
             "line": {
              "color": "#E5ECF6",
              "width": 0.5
             },
             "pattern": {
              "fillmode": "overlay",
              "size": 10,
              "solidity": 0.2
             }
            },
            "type": "barpolar"
           }
          ],
          "carpet": [
           {
            "aaxis": {
             "endlinecolor": "#2a3f5f",
             "gridcolor": "white",
             "linecolor": "white",
             "minorgridcolor": "white",
             "startlinecolor": "#2a3f5f"
            },
            "baxis": {
             "endlinecolor": "#2a3f5f",
             "gridcolor": "white",
             "linecolor": "white",
             "minorgridcolor": "white",
             "startlinecolor": "#2a3f5f"
            },
            "type": "carpet"
           }
          ],
          "choropleth": [
           {
            "colorbar": {
             "outlinewidth": 0,
             "ticks": ""
            },
            "type": "choropleth"
           }
          ],
          "contour": [
           {
            "colorbar": {
             "outlinewidth": 0,
             "ticks": ""
            },
            "colorscale": [
             [
              0,
              "#0d0887"
             ],
             [
              0.1111111111111111,
              "#46039f"
             ],
             [
              0.2222222222222222,
              "#7201a8"
             ],
             [
              0.3333333333333333,
              "#9c179e"
             ],
             [
              0.4444444444444444,
              "#bd3786"
             ],
             [
              0.5555555555555556,
              "#d8576b"
             ],
             [
              0.6666666666666666,
              "#ed7953"
             ],
             [
              0.7777777777777778,
              "#fb9f3a"
             ],
             [
              0.8888888888888888,
              "#fdca26"
             ],
             [
              1,
              "#f0f921"
             ]
            ],
            "type": "contour"
           }
          ],
          "contourcarpet": [
           {
            "colorbar": {
             "outlinewidth": 0,
             "ticks": ""
            },
            "type": "contourcarpet"
           }
          ],
          "heatmap": [
           {
            "colorbar": {
             "outlinewidth": 0,
             "ticks": ""
            },
            "colorscale": [
             [
              0,
              "#0d0887"
             ],
             [
              0.1111111111111111,
              "#46039f"
             ],
             [
              0.2222222222222222,
              "#7201a8"
             ],
             [
              0.3333333333333333,
              "#9c179e"
             ],
             [
              0.4444444444444444,
              "#bd3786"
             ],
             [
              0.5555555555555556,
              "#d8576b"
             ],
             [
              0.6666666666666666,
              "#ed7953"
             ],
             [
              0.7777777777777778,
              "#fb9f3a"
             ],
             [
              0.8888888888888888,
              "#fdca26"
             ],
             [
              1,
              "#f0f921"
             ]
            ],
            "type": "heatmap"
           }
          ],
          "heatmapgl": [
           {
            "colorbar": {
             "outlinewidth": 0,
             "ticks": ""
            },
            "colorscale": [
             [
              0,
              "#0d0887"
             ],
             [
              0.1111111111111111,
              "#46039f"
             ],
             [
              0.2222222222222222,
              "#7201a8"
             ],
             [
              0.3333333333333333,
              "#9c179e"
             ],
             [
              0.4444444444444444,
              "#bd3786"
             ],
             [
              0.5555555555555556,
              "#d8576b"
             ],
             [
              0.6666666666666666,
              "#ed7953"
             ],
             [
              0.7777777777777778,
              "#fb9f3a"
             ],
             [
              0.8888888888888888,
              "#fdca26"
             ],
             [
              1,
              "#f0f921"
             ]
            ],
            "type": "heatmapgl"
           }
          ],
          "histogram": [
           {
            "marker": {
             "pattern": {
              "fillmode": "overlay",
              "size": 10,
              "solidity": 0.2
             }
            },
            "type": "histogram"
           }
          ],
          "histogram2d": [
           {
            "colorbar": {
             "outlinewidth": 0,
             "ticks": ""
            },
            "colorscale": [
             [
              0,
              "#0d0887"
             ],
             [
              0.1111111111111111,
              "#46039f"
             ],
             [
              0.2222222222222222,
              "#7201a8"
             ],
             [
              0.3333333333333333,
              "#9c179e"
             ],
             [
              0.4444444444444444,
              "#bd3786"
             ],
             [
              0.5555555555555556,
              "#d8576b"
             ],
             [
              0.6666666666666666,
              "#ed7953"
             ],
             [
              0.7777777777777778,
              "#fb9f3a"
             ],
             [
              0.8888888888888888,
              "#fdca26"
             ],
             [
              1,
              "#f0f921"
             ]
            ],
            "type": "histogram2d"
           }
          ],
          "histogram2dcontour": [
           {
            "colorbar": {
             "outlinewidth": 0,
             "ticks": ""
            },
            "colorscale": [
             [
              0,
              "#0d0887"
             ],
             [
              0.1111111111111111,
              "#46039f"
             ],
             [
              0.2222222222222222,
              "#7201a8"
             ],
             [
              0.3333333333333333,
              "#9c179e"
             ],
             [
              0.4444444444444444,
              "#bd3786"
             ],
             [
              0.5555555555555556,
              "#d8576b"
             ],
             [
              0.6666666666666666,
              "#ed7953"
             ],
             [
              0.7777777777777778,
              "#fb9f3a"
             ],
             [
              0.8888888888888888,
              "#fdca26"
             ],
             [
              1,
              "#f0f921"
             ]
            ],
            "type": "histogram2dcontour"
           }
          ],
          "mesh3d": [
           {
            "colorbar": {
             "outlinewidth": 0,
             "ticks": ""
            },
            "type": "mesh3d"
           }
          ],
          "parcoords": [
           {
            "line": {
             "colorbar": {
              "outlinewidth": 0,
              "ticks": ""
             }
            },
            "type": "parcoords"
           }
          ],
          "pie": [
           {
            "automargin": true,
            "type": "pie"
           }
          ],
          "scatter": [
           {
            "fillpattern": {
             "fillmode": "overlay",
             "size": 10,
             "solidity": 0.2
            },
            "type": "scatter"
           }
          ],
          "scatter3d": [
           {
            "line": {
             "colorbar": {
              "outlinewidth": 0,
              "ticks": ""
             }
            },
            "marker": {
             "colorbar": {
              "outlinewidth": 0,
              "ticks": ""
             }
            },
            "type": "scatter3d"
           }
          ],
          "scattercarpet": [
           {
            "marker": {
             "colorbar": {
              "outlinewidth": 0,
              "ticks": ""
             }
            },
            "type": "scattercarpet"
           }
          ],
          "scattergeo": [
           {
            "marker": {
             "colorbar": {
              "outlinewidth": 0,
              "ticks": ""
             }
            },
            "type": "scattergeo"
           }
          ],
          "scattergl": [
           {
            "marker": {
             "colorbar": {
              "outlinewidth": 0,
              "ticks": ""
             }
            },
            "type": "scattergl"
           }
          ],
          "scattermapbox": [
           {
            "marker": {
             "colorbar": {
              "outlinewidth": 0,
              "ticks": ""
             }
            },
            "type": "scattermapbox"
           }
          ],
          "scatterpolar": [
           {
            "marker": {
             "colorbar": {
              "outlinewidth": 0,
              "ticks": ""
             }
            },
            "type": "scatterpolar"
           }
          ],
          "scatterpolargl": [
           {
            "marker": {
             "colorbar": {
              "outlinewidth": 0,
              "ticks": ""
             }
            },
            "type": "scatterpolargl"
           }
          ],
          "scatterternary": [
           {
            "marker": {
             "colorbar": {
              "outlinewidth": 0,
              "ticks": ""
             }
            },
            "type": "scatterternary"
           }
          ],
          "surface": [
           {
            "colorbar": {
             "outlinewidth": 0,
             "ticks": ""
            },
            "colorscale": [
             [
              0,
              "#0d0887"
             ],
             [
              0.1111111111111111,
              "#46039f"
             ],
             [
              0.2222222222222222,
              "#7201a8"
             ],
             [
              0.3333333333333333,
              "#9c179e"
             ],
             [
              0.4444444444444444,
              "#bd3786"
             ],
             [
              0.5555555555555556,
              "#d8576b"
             ],
             [
              0.6666666666666666,
              "#ed7953"
             ],
             [
              0.7777777777777778,
              "#fb9f3a"
             ],
             [
              0.8888888888888888,
              "#fdca26"
             ],
             [
              1,
              "#f0f921"
             ]
            ],
            "type": "surface"
           }
          ],
          "table": [
           {
            "cells": {
             "fill": {
              "color": "#EBF0F8"
             },
             "line": {
              "color": "white"
             }
            },
            "header": {
             "fill": {
              "color": "#C8D4E3"
             },
             "line": {
              "color": "white"
             }
            },
            "type": "table"
           }
          ]
         },
         "layout": {
          "annotationdefaults": {
           "arrowcolor": "#2a3f5f",
           "arrowhead": 0,
           "arrowwidth": 1
          },
          "autotypenumbers": "strict",
          "coloraxis": {
           "colorbar": {
            "outlinewidth": 0,
            "ticks": ""
           }
          },
          "colorscale": {
           "diverging": [
            [
             0,
             "#8e0152"
            ],
            [
             0.1,
             "#c51b7d"
            ],
            [
             0.2,
             "#de77ae"
            ],
            [
             0.3,
             "#f1b6da"
            ],
            [
             0.4,
             "#fde0ef"
            ],
            [
             0.5,
             "#f7f7f7"
            ],
            [
             0.6,
             "#e6f5d0"
            ],
            [
             0.7,
             "#b8e186"
            ],
            [
             0.8,
             "#7fbc41"
            ],
            [
             0.9,
             "#4d9221"
            ],
            [
             1,
             "#276419"
            ]
           ],
           "sequential": [
            [
             0,
             "#0d0887"
            ],
            [
             0.1111111111111111,
             "#46039f"
            ],
            [
             0.2222222222222222,
             "#7201a8"
            ],
            [
             0.3333333333333333,
             "#9c179e"
            ],
            [
             0.4444444444444444,
             "#bd3786"
            ],
            [
             0.5555555555555556,
             "#d8576b"
            ],
            [
             0.6666666666666666,
             "#ed7953"
            ],
            [
             0.7777777777777778,
             "#fb9f3a"
            ],
            [
             0.8888888888888888,
             "#fdca26"
            ],
            [
             1,
             "#f0f921"
            ]
           ],
           "sequentialminus": [
            [
             0,
             "#0d0887"
            ],
            [
             0.1111111111111111,
             "#46039f"
            ],
            [
             0.2222222222222222,
             "#7201a8"
            ],
            [
             0.3333333333333333,
             "#9c179e"
            ],
            [
             0.4444444444444444,
             "#bd3786"
            ],
            [
             0.5555555555555556,
             "#d8576b"
            ],
            [
             0.6666666666666666,
             "#ed7953"
            ],
            [
             0.7777777777777778,
             "#fb9f3a"
            ],
            [
             0.8888888888888888,
             "#fdca26"
            ],
            [
             1,
             "#f0f921"
            ]
           ]
          },
          "colorway": [
           "#636efa",
           "#EF553B",
           "#00cc96",
           "#ab63fa",
           "#FFA15A",
           "#19d3f3",
           "#FF6692",
           "#B6E880",
           "#FF97FF",
           "#FECB52"
          ],
          "font": {
           "color": "#2a3f5f"
          },
          "geo": {
           "bgcolor": "white",
           "lakecolor": "white",
           "landcolor": "#E5ECF6",
           "showlakes": true,
           "showland": true,
           "subunitcolor": "white"
          },
          "hoverlabel": {
           "align": "left"
          },
          "hovermode": "closest",
          "mapbox": {
           "style": "light"
          },
          "paper_bgcolor": "white",
          "plot_bgcolor": "#E5ECF6",
          "polar": {
           "angularaxis": {
            "gridcolor": "white",
            "linecolor": "white",
            "ticks": ""
           },
           "bgcolor": "#E5ECF6",
           "radialaxis": {
            "gridcolor": "white",
            "linecolor": "white",
            "ticks": ""
           }
          },
          "scene": {
           "xaxis": {
            "backgroundcolor": "#E5ECF6",
            "gridcolor": "white",
            "gridwidth": 2,
            "linecolor": "white",
            "showbackground": true,
            "ticks": "",
            "zerolinecolor": "white"
           },
           "yaxis": {
            "backgroundcolor": "#E5ECF6",
            "gridcolor": "white",
            "gridwidth": 2,
            "linecolor": "white",
            "showbackground": true,
            "ticks": "",
            "zerolinecolor": "white"
           },
           "zaxis": {
            "backgroundcolor": "#E5ECF6",
            "gridcolor": "white",
            "gridwidth": 2,
            "linecolor": "white",
            "showbackground": true,
            "ticks": "",
            "zerolinecolor": "white"
           }
          },
          "shapedefaults": {
           "line": {
            "color": "#2a3f5f"
           }
          },
          "ternary": {
           "aaxis": {
            "gridcolor": "white",
            "linecolor": "white",
            "ticks": ""
           },
           "baxis": {
            "gridcolor": "white",
            "linecolor": "white",
            "ticks": ""
           },
           "bgcolor": "#E5ECF6",
           "caxis": {
            "gridcolor": "white",
            "linecolor": "white",
            "ticks": ""
           }
          },
          "title": {
           "x": 0.05
          },
          "xaxis": {
           "automargin": true,
           "gridcolor": "white",
           "linecolor": "white",
           "ticks": "",
           "title": {
            "standoff": 15
           },
           "zerolinecolor": "white",
           "zerolinewidth": 2
          },
          "yaxis": {
           "automargin": true,
           "gridcolor": "white",
           "linecolor": "white",
           "ticks": "",
           "title": {
            "standoff": 15
           },
           "zerolinecolor": "white",
           "zerolinewidth": 2
          }
         }
        },
        "title": {
         "text": "Wins by season record prior to game:"
        },
        "width": 1500
       }
      }
     },
     "metadata": {},
     "output_type": "display_data"
    }
   ],
   "source": [
    "labels = [\"Home team wins\",\"Visitor team wins\"]\n",
    "fig = make_subplots(rows=1, cols=3, specs=[[{'type':'domain'}, {'type':'domain'}, {'type':'domain'}]])\n",
    "fig.add_trace(go.Pie(labels=labels, values=[8003, 2742], name=\"HOME\"),\n",
    "              1, 1)\n",
    "fig.add_trace(go.Pie(labels=labels, values=[655, 418], name=\"EVEN\"),\n",
    "              1, 2)\n",
    "fig.add_trace(go.Pie(labels=labels, values=[5043, 6104], name=\"VISITOR\"),\n",
    "              1, 3)\n",
    "\n",
    "# Use `hole` to create a donut-like pie chart\n",
    "fig.update_traces(hole=.4, hoverinfo=\"label+percent+name\", textfont_size=20)\n",
    "\n",
    "fig.update_layout(\n",
    "    title_text=\"Wins by season record prior to game:\",\n",
    "    # Add annotations in the center of the donut pies.\n",
    "    width=1500,\n",
    "    height=500,\n",
    "    annotations=[dict(text=\"Home team has <br> better record\", x=0.097, y=0.5, font_size=14, showarrow=False),\n",
    "                 dict(text=\"Teams have <br> even record\", x=0.5, y=0.5, font_size=14, showarrow=False),\n",
    "                 dict(text='Visitor team has <br> better record', x=0.908, y=0.5, font_size=14, showarrow=False)])\n",
    "fig.show()"
   ]
  },
  {
   "cell_type": "code",
   "execution_count": 403,
   "metadata": {},
   "outputs": [],
   "source": [
    "records = {}\n",
    "for s_name, season in game_data.groupby(\"season_name\"):\n",
    "    season_records = {team_id: {\"nickname\": season[season[\"home_team_id\"]==team_id].iloc[0][\"home_team_nickname\"],\"record\": \"\", \"court\": \"\"} for team_id in set(season[\"home_team_id\"])}\n",
    "    for _, game in season.iterrows():\n",
    "        season_records[game[\"home_team_id\"]][\"record\"] += \"W\" if game[\"home_win\"] else \"L\"\n",
    "        season_records[game[\"visitor_team_id\"]][\"record\"] += \"L\" if game[\"home_win\"] else \"W\"\n",
    "        season_records[game[\"home_team_id\"]][\"court\"] += \"H\"\n",
    "        season_records[game[\"visitor_team_id\"]][\"court\"] += \"V\"\n",
    "    records[s_name] = season_records"
   ]
  },
  {
   "cell_type": "code",
   "execution_count": 326,
   "metadata": {},
   "outputs": [
    {
     "data": {
      "text/html": [
       "<div>\n",
       "<style scoped>\n",
       "    .dataframe tbody tr th:only-of-type {\n",
       "        vertical-align: middle;\n",
       "    }\n",
       "\n",
       "    .dataframe tbody tr th {\n",
       "        vertical-align: top;\n",
       "    }\n",
       "\n",
       "    .dataframe thead th {\n",
       "        text-align: right;\n",
       "    }\n",
       "</style>\n",
       "<table border=\"1\" class=\"dataframe\">\n",
       "  <thead>\n",
       "    <tr style=\"text-align: right;\">\n",
       "      <th></th>\n",
       "      <th>play_count</th>\n",
       "      <th>season_name</th>\n",
       "      <th>visitor_team_id</th>\n",
       "      <th>visitor_team_city</th>\n",
       "      <th>visitor_team_nickname</th>\n",
       "      <th>visitor_record_wins</th>\n",
       "      <th>visitor_record_losses</th>\n",
       "      <th>visitor_final_score</th>\n",
       "      <th>home_final_score</th>\n",
       "      <th>home_win</th>\n",
       "      <th>home_team_id</th>\n",
       "      <th>home_team_city</th>\n",
       "      <th>home_team_nickname</th>\n",
       "      <th>home_record_wins</th>\n",
       "      <th>home_record_losses</th>\n",
       "      <th>periods</th>\n",
       "      <th>minutes_played</th>\n",
       "      <th>visitor_players_deployed</th>\n",
       "      <th>home_players_deployed</th>\n",
       "      <th>visitor_fg_made</th>\n",
       "      <th>visitor_fg_missed</th>\n",
       "      <th>visitor_3PT_made</th>\n",
       "      <th>visitor_3PT_missed</th>\n",
       "      <th>home_fg_made</th>\n",
       "      <th>home_fg_missed</th>\n",
       "      <th>home_3PT_made</th>\n",
       "      <th>home_3PT_missed</th>\n",
       "      <th>visitor_ft_made</th>\n",
       "      <th>visitor_ft_missed</th>\n",
       "      <th>home_ft_made</th>\n",
       "      <th>home_ft_missed</th>\n",
       "      <th>visitor_rebound</th>\n",
       "      <th>home_rebound</th>\n",
       "      <th>visitor_team_rebound</th>\n",
       "      <th>home_team_rebound</th>\n",
       "      <th>visitor_turnover</th>\n",
       "      <th>home_turnover</th>\n",
       "      <th>visitor_team_turnover</th>\n",
       "      <th>home_team_turnover</th>\n",
       "      <th>visitor_foul</th>\n",
       "      <th>home_foul</th>\n",
       "      <th>visitor_subs</th>\n",
       "      <th>home_subs</th>\n",
       "      <th>visitor_timeout</th>\n",
       "      <th>home_timeout</th>\n",
       "      <th>visitor_jump_balls_won</th>\n",
       "      <th>home_jump_balls_won</th>\n",
       "      <th>tip_off_winner</th>\n",
       "      <th>visitor_ejection</th>\n",
       "      <th>home_ejection</th>\n",
       "      <th>visitor_team_ejection</th>\n",
       "      <th>home_team_ejection</th>\n",
       "      <th>home_scoring_leader</th>\n",
       "      <th>home_scoring_leader_points</th>\n",
       "      <th>visitor_scoring_leader</th>\n",
       "      <th>visitor_scoring_leader_points</th>\n",
       "      <th>home_made_max_shot_distance</th>\n",
       "      <th>visitor_made_max_shot_distance</th>\n",
       "      <th>home_made_min_shot_distance</th>\n",
       "      <th>visitor_made_min_shot_distance</th>\n",
       "      <th>home_made_mean_shot_distance</th>\n",
       "      <th>visitor_made_mean_shot_distance</th>\n",
       "      <th>prior_home_record_wins</th>\n",
       "      <th>prior_visitor_record_losses</th>\n",
       "      <th>prior_home_record_losses</th>\n",
       "      <th>prior_visitor_record_wins</th>\n",
       "      <th>better_record</th>\n",
       "    </tr>\n",
       "    <tr>\n",
       "      <th>GAME_ID</th>\n",
       "      <th></th>\n",
       "      <th></th>\n",
       "      <th></th>\n",
       "      <th></th>\n",
       "      <th></th>\n",
       "      <th></th>\n",
       "      <th></th>\n",
       "      <th></th>\n",
       "      <th></th>\n",
       "      <th></th>\n",
       "      <th></th>\n",
       "      <th></th>\n",
       "      <th></th>\n",
       "      <th></th>\n",
       "      <th></th>\n",
       "      <th></th>\n",
       "      <th></th>\n",
       "      <th></th>\n",
       "      <th></th>\n",
       "      <th></th>\n",
       "      <th></th>\n",
       "      <th></th>\n",
       "      <th></th>\n",
       "      <th></th>\n",
       "      <th></th>\n",
       "      <th></th>\n",
       "      <th></th>\n",
       "      <th></th>\n",
       "      <th></th>\n",
       "      <th></th>\n",
       "      <th></th>\n",
       "      <th></th>\n",
       "      <th></th>\n",
       "      <th></th>\n",
       "      <th></th>\n",
       "      <th></th>\n",
       "      <th></th>\n",
       "      <th></th>\n",
       "      <th></th>\n",
       "      <th></th>\n",
       "      <th></th>\n",
       "      <th></th>\n",
       "      <th></th>\n",
       "      <th></th>\n",
       "      <th></th>\n",
       "      <th></th>\n",
       "      <th></th>\n",
       "      <th></th>\n",
       "      <th></th>\n",
       "      <th></th>\n",
       "      <th></th>\n",
       "      <th></th>\n",
       "      <th></th>\n",
       "      <th></th>\n",
       "      <th></th>\n",
       "      <th></th>\n",
       "      <th></th>\n",
       "      <th></th>\n",
       "      <th></th>\n",
       "      <th></th>\n",
       "      <th></th>\n",
       "      <th></th>\n",
       "      <th></th>\n",
       "      <th></th>\n",
       "      <th></th>\n",
       "      <th></th>\n",
       "      <th></th>\n",
       "    </tr>\n",
       "  </thead>\n",
       "  <tbody>\n",
       "    <tr>\n",
       "      <th>20000015</th>\n",
       "      <td>469</td>\n",
       "      <td>2000-01</td>\n",
       "      <td>1610612761.0</td>\n",
       "      <td>Toronto</td>\n",
       "      <td>Raptors</td>\n",
       "      <td>0</td>\n",
       "      <td>2</td>\n",
       "      <td>98</td>\n",
       "      <td>104</td>\n",
       "      <td>True</td>\n",
       "      <td>1610612755.0</td>\n",
       "      <td>Philadelphia</td>\n",
       "      <td>76ers</td>\n",
       "      <td>2</td>\n",
       "      <td>0</td>\n",
       "      <td>4</td>\n",
       "      <td>48.0</td>\n",
       "      <td>9</td>\n",
       "      <td>10</td>\n",
       "      <td>39</td>\n",
       "      <td>47</td>\n",
       "      <td>5</td>\n",
       "      <td>8</td>\n",
       "      <td>41</td>\n",
       "      <td>44</td>\n",
       "      <td>3</td>\n",
       "      <td>8</td>\n",
       "      <td>15</td>\n",
       "      <td>3</td>\n",
       "      <td>19</td>\n",
       "      <td>9</td>\n",
       "      <td>40</td>\n",
       "      <td>43</td>\n",
       "      <td>7</td>\n",
       "      <td>4</td>\n",
       "      <td>16</td>\n",
       "      <td>14</td>\n",
       "      <td>0</td>\n",
       "      <td>0</td>\n",
       "      <td>26</td>\n",
       "      <td>24</td>\n",
       "      <td>16</td>\n",
       "      <td>28</td>\n",
       "      <td>8</td>\n",
       "      <td>2</td>\n",
       "      <td>1</td>\n",
       "      <td>1</td>\n",
       "      <td>HOME_PLAYER</td>\n",
       "      <td>0</td>\n",
       "      <td>0</td>\n",
       "      <td>0</td>\n",
       "      <td>0</td>\n",
       "      <td>947</td>\n",
       "      <td>24.0</td>\n",
       "      <td>1713</td>\n",
       "      <td>25.0</td>\n",
       "      <td>25.0</td>\n",
       "      <td>28.0</td>\n",
       "      <td>0.0</td>\n",
       "      <td>0.0</td>\n",
       "      <td>5.756098</td>\n",
       "      <td>10.128205</td>\n",
       "      <td>1.0</td>\n",
       "      <td>1.0</td>\n",
       "      <td>0.0</td>\n",
       "      <td>0.0</td>\n",
       "      <td>HOME</td>\n",
       "    </tr>\n",
       "    <tr>\n",
       "      <th>20000062</th>\n",
       "      <td>479</td>\n",
       "      <td>2000-01</td>\n",
       "      <td>1610612765.0</td>\n",
       "      <td>Detroit</td>\n",
       "      <td>Pistons</td>\n",
       "      <td>1</td>\n",
       "      <td>4</td>\n",
       "      <td>94</td>\n",
       "      <td>103</td>\n",
       "      <td>True</td>\n",
       "      <td>1610612755.0</td>\n",
       "      <td>Philadelphia</td>\n",
       "      <td>76ers</td>\n",
       "      <td>5</td>\n",
       "      <td>0</td>\n",
       "      <td>4</td>\n",
       "      <td>48.0</td>\n",
       "      <td>12</td>\n",
       "      <td>8</td>\n",
       "      <td>37</td>\n",
       "      <td>52</td>\n",
       "      <td>3</td>\n",
       "      <td>7</td>\n",
       "      <td>35</td>\n",
       "      <td>40</td>\n",
       "      <td>5</td>\n",
       "      <td>8</td>\n",
       "      <td>17</td>\n",
       "      <td>3</td>\n",
       "      <td>28</td>\n",
       "      <td>4</td>\n",
       "      <td>45</td>\n",
       "      <td>37</td>\n",
       "      <td>6</td>\n",
       "      <td>5</td>\n",
       "      <td>21</td>\n",
       "      <td>18</td>\n",
       "      <td>1</td>\n",
       "      <td>1</td>\n",
       "      <td>32</td>\n",
       "      <td>22</td>\n",
       "      <td>20</td>\n",
       "      <td>25</td>\n",
       "      <td>6</td>\n",
       "      <td>5</td>\n",
       "      <td>2</td>\n",
       "      <td>0</td>\n",
       "      <td>VISITOR_PLAYER</td>\n",
       "      <td>0</td>\n",
       "      <td>0</td>\n",
       "      <td>0</td>\n",
       "      <td>0</td>\n",
       "      <td>947</td>\n",
       "      <td>28.0</td>\n",
       "      <td>711</td>\n",
       "      <td>36.0</td>\n",
       "      <td>26.0</td>\n",
       "      <td>26.0</td>\n",
       "      <td>0.0</td>\n",
       "      <td>0.0</td>\n",
       "      <td>9.514286</td>\n",
       "      <td>8.594595</td>\n",
       "      <td>4.0</td>\n",
       "      <td>3.0</td>\n",
       "      <td>0.0</td>\n",
       "      <td>1.0</td>\n",
       "      <td>HOME</td>\n",
       "    </tr>\n",
       "    <tr>\n",
       "      <th>20000088</th>\n",
       "      <td>504</td>\n",
       "      <td>2000-01</td>\n",
       "      <td>1610612738.0</td>\n",
       "      <td>Boston</td>\n",
       "      <td>Celtics</td>\n",
       "      <td>2</td>\n",
       "      <td>4</td>\n",
       "      <td>83</td>\n",
       "      <td>85</td>\n",
       "      <td>True</td>\n",
       "      <td>1610612755.0</td>\n",
       "      <td>Philadelphia</td>\n",
       "      <td>76ers</td>\n",
       "      <td>7</td>\n",
       "      <td>0</td>\n",
       "      <td>4</td>\n",
       "      <td>48.0</td>\n",
       "      <td>11</td>\n",
       "      <td>9</td>\n",
       "      <td>31</td>\n",
       "      <td>50</td>\n",
       "      <td>5</td>\n",
       "      <td>12</td>\n",
       "      <td>28</td>\n",
       "      <td>50</td>\n",
       "      <td>1</td>\n",
       "      <td>11</td>\n",
       "      <td>16</td>\n",
       "      <td>11</td>\n",
       "      <td>28</td>\n",
       "      <td>9</td>\n",
       "      <td>43</td>\n",
       "      <td>50</td>\n",
       "      <td>8</td>\n",
       "      <td>9</td>\n",
       "      <td>15</td>\n",
       "      <td>16</td>\n",
       "      <td>1</td>\n",
       "      <td>2</td>\n",
       "      <td>34</td>\n",
       "      <td>23</td>\n",
       "      <td>23</td>\n",
       "      <td>21</td>\n",
       "      <td>6</td>\n",
       "      <td>6</td>\n",
       "      <td>1</td>\n",
       "      <td>3</td>\n",
       "      <td>HOME_PLAYER</td>\n",
       "      <td>0</td>\n",
       "      <td>0</td>\n",
       "      <td>0</td>\n",
       "      <td>0</td>\n",
       "      <td>727</td>\n",
       "      <td>25.0</td>\n",
       "      <td>1718</td>\n",
       "      <td>26.0</td>\n",
       "      <td>24.0</td>\n",
       "      <td>26.0</td>\n",
       "      <td>0.0</td>\n",
       "      <td>0.0</td>\n",
       "      <td>7.714286</td>\n",
       "      <td>8.806452</td>\n",
       "      <td>6.0</td>\n",
       "      <td>3.0</td>\n",
       "      <td>0.0</td>\n",
       "      <td>2.0</td>\n",
       "      <td>HOME</td>\n",
       "    </tr>\n",
       "    <tr>\n",
       "      <th>20000113</th>\n",
       "      <td>461</td>\n",
       "      <td>2000-01</td>\n",
       "      <td>1610612739.0</td>\n",
       "      <td>Cleveland</td>\n",
       "      <td>Cavaliers</td>\n",
       "      <td>6</td>\n",
       "      <td>2</td>\n",
       "      <td>98</td>\n",
       "      <td>107</td>\n",
       "      <td>True</td>\n",
       "      <td>1610612755.0</td>\n",
       "      <td>Philadelphia</td>\n",
       "      <td>76ers</td>\n",
       "      <td>8</td>\n",
       "      <td>0</td>\n",
       "      <td>4</td>\n",
       "      <td>48.0</td>\n",
       "      <td>10</td>\n",
       "      <td>12</td>\n",
       "      <td>40</td>\n",
       "      <td>35</td>\n",
       "      <td>2</td>\n",
       "      <td>6</td>\n",
       "      <td>40</td>\n",
       "      <td>39</td>\n",
       "      <td>3</td>\n",
       "      <td>7</td>\n",
       "      <td>16</td>\n",
       "      <td>7</td>\n",
       "      <td>24</td>\n",
       "      <td>9</td>\n",
       "      <td>38</td>\n",
       "      <td>31</td>\n",
       "      <td>6</td>\n",
       "      <td>7</td>\n",
       "      <td>21</td>\n",
       "      <td>14</td>\n",
       "      <td>1</td>\n",
       "      <td>0</td>\n",
       "      <td>31</td>\n",
       "      <td>24</td>\n",
       "      <td>23</td>\n",
       "      <td>24</td>\n",
       "      <td>6</td>\n",
       "      <td>3</td>\n",
       "      <td>0</td>\n",
       "      <td>2</td>\n",
       "      <td>HOME_PLAYER</td>\n",
       "      <td>0</td>\n",
       "      <td>0</td>\n",
       "      <td>0</td>\n",
       "      <td>0</td>\n",
       "      <td>248</td>\n",
       "      <td>23.0</td>\n",
       "      <td>221</td>\n",
       "      <td>24.0</td>\n",
       "      <td>26.0</td>\n",
       "      <td>29.0</td>\n",
       "      <td>0.0</td>\n",
       "      <td>0.0</td>\n",
       "      <td>6.450000</td>\n",
       "      <td>7.050000</td>\n",
       "      <td>7.0</td>\n",
       "      <td>1.0</td>\n",
       "      <td>0.0</td>\n",
       "      <td>6.0</td>\n",
       "      <td>HOME</td>\n",
       "    </tr>\n",
       "    <tr>\n",
       "      <th>20000127</th>\n",
       "      <td>399</td>\n",
       "      <td>2000-01</td>\n",
       "      <td>1610612748.0</td>\n",
       "      <td>Miami</td>\n",
       "      <td>Heat</td>\n",
       "      <td>4</td>\n",
       "      <td>5</td>\n",
       "      <td>73</td>\n",
       "      <td>94</td>\n",
       "      <td>True</td>\n",
       "      <td>1610612755.0</td>\n",
       "      <td>Philadelphia</td>\n",
       "      <td>76ers</td>\n",
       "      <td>9</td>\n",
       "      <td>0</td>\n",
       "      <td>4</td>\n",
       "      <td>48.0</td>\n",
       "      <td>10</td>\n",
       "      <td>12</td>\n",
       "      <td>29</td>\n",
       "      <td>48</td>\n",
       "      <td>4</td>\n",
       "      <td>9</td>\n",
       "      <td>38</td>\n",
       "      <td>35</td>\n",
       "      <td>3</td>\n",
       "      <td>4</td>\n",
       "      <td>11</td>\n",
       "      <td>5</td>\n",
       "      <td>15</td>\n",
       "      <td>2</td>\n",
       "      <td>38</td>\n",
       "      <td>35</td>\n",
       "      <td>2</td>\n",
       "      <td>12</td>\n",
       "      <td>13</td>\n",
       "      <td>15</td>\n",
       "      <td>1</td>\n",
       "      <td>2</td>\n",
       "      <td>19</td>\n",
       "      <td>19</td>\n",
       "      <td>11</td>\n",
       "      <td>22</td>\n",
       "      <td>5</td>\n",
       "      <td>5</td>\n",
       "      <td>0</td>\n",
       "      <td>1</td>\n",
       "      <td>HOME_PLAYER</td>\n",
       "      <td>0</td>\n",
       "      <td>0</td>\n",
       "      <td>0</td>\n",
       "      <td>0</td>\n",
       "      <td>947</td>\n",
       "      <td>19.0</td>\n",
       "      <td>258</td>\n",
       "      <td>16.0</td>\n",
       "      <td>46.0</td>\n",
       "      <td>26.0</td>\n",
       "      <td>0.0</td>\n",
       "      <td>0.0</td>\n",
       "      <td>7.894737</td>\n",
       "      <td>11.275862</td>\n",
       "      <td>8.0</td>\n",
       "      <td>4.0</td>\n",
       "      <td>0.0</td>\n",
       "      <td>4.0</td>\n",
       "      <td>HOME</td>\n",
       "    </tr>\n",
       "    <tr>\n",
       "      <th>...</th>\n",
       "      <td>...</td>\n",
       "      <td>...</td>\n",
       "      <td>...</td>\n",
       "      <td>...</td>\n",
       "      <td>...</td>\n",
       "      <td>...</td>\n",
       "      <td>...</td>\n",
       "      <td>...</td>\n",
       "      <td>...</td>\n",
       "      <td>...</td>\n",
       "      <td>...</td>\n",
       "      <td>...</td>\n",
       "      <td>...</td>\n",
       "      <td>...</td>\n",
       "      <td>...</td>\n",
       "      <td>...</td>\n",
       "      <td>...</td>\n",
       "      <td>...</td>\n",
       "      <td>...</td>\n",
       "      <td>...</td>\n",
       "      <td>...</td>\n",
       "      <td>...</td>\n",
       "      <td>...</td>\n",
       "      <td>...</td>\n",
       "      <td>...</td>\n",
       "      <td>...</td>\n",
       "      <td>...</td>\n",
       "      <td>...</td>\n",
       "      <td>...</td>\n",
       "      <td>...</td>\n",
       "      <td>...</td>\n",
       "      <td>...</td>\n",
       "      <td>...</td>\n",
       "      <td>...</td>\n",
       "      <td>...</td>\n",
       "      <td>...</td>\n",
       "      <td>...</td>\n",
       "      <td>...</td>\n",
       "      <td>...</td>\n",
       "      <td>...</td>\n",
       "      <td>...</td>\n",
       "      <td>...</td>\n",
       "      <td>...</td>\n",
       "      <td>...</td>\n",
       "      <td>...</td>\n",
       "      <td>...</td>\n",
       "      <td>...</td>\n",
       "      <td>...</td>\n",
       "      <td>...</td>\n",
       "      <td>...</td>\n",
       "      <td>...</td>\n",
       "      <td>...</td>\n",
       "      <td>...</td>\n",
       "      <td>...</td>\n",
       "      <td>...</td>\n",
       "      <td>...</td>\n",
       "      <td>...</td>\n",
       "      <td>...</td>\n",
       "      <td>...</td>\n",
       "      <td>...</td>\n",
       "      <td>...</td>\n",
       "      <td>...</td>\n",
       "      <td>...</td>\n",
       "      <td>...</td>\n",
       "      <td>...</td>\n",
       "      <td>...</td>\n",
       "      <td>...</td>\n",
       "    </tr>\n",
       "    <tr>\n",
       "      <th>21801027</th>\n",
       "      <td>469</td>\n",
       "      <td>2018-19</td>\n",
       "      <td>1610612758.0</td>\n",
       "      <td>Sacramento</td>\n",
       "      <td>Kings</td>\n",
       "      <td>33</td>\n",
       "      <td>35</td>\n",
       "      <td>114</td>\n",
       "      <td>123</td>\n",
       "      <td>True</td>\n",
       "      <td>1610612755.0</td>\n",
       "      <td>Philadelphia</td>\n",
       "      <td>76ers</td>\n",
       "      <td>44</td>\n",
       "      <td>25</td>\n",
       "      <td>4</td>\n",
       "      <td>48.0</td>\n",
       "      <td>10</td>\n",
       "      <td>9</td>\n",
       "      <td>43</td>\n",
       "      <td>51</td>\n",
       "      <td>9</td>\n",
       "      <td>18</td>\n",
       "      <td>46</td>\n",
       "      <td>45</td>\n",
       "      <td>7</td>\n",
       "      <td>17</td>\n",
       "      <td>19</td>\n",
       "      <td>5</td>\n",
       "      <td>24</td>\n",
       "      <td>3</td>\n",
       "      <td>40</td>\n",
       "      <td>49</td>\n",
       "      <td>8</td>\n",
       "      <td>3</td>\n",
       "      <td>8</td>\n",
       "      <td>10</td>\n",
       "      <td>1</td>\n",
       "      <td>1</td>\n",
       "      <td>22</td>\n",
       "      <td>18</td>\n",
       "      <td>21</td>\n",
       "      <td>29</td>\n",
       "      <td>5</td>\n",
       "      <td>5</td>\n",
       "      <td>0</td>\n",
       "      <td>1</td>\n",
       "      <td>HOME_PLAYER</td>\n",
       "      <td>0</td>\n",
       "      <td>0</td>\n",
       "      <td>0</td>\n",
       "      <td>0</td>\n",
       "      <td>202710</td>\n",
       "      <td>22.0</td>\n",
       "      <td>1628368</td>\n",
       "      <td>16.0</td>\n",
       "      <td>26.0</td>\n",
       "      <td>26.0</td>\n",
       "      <td>0.0</td>\n",
       "      <td>1.0</td>\n",
       "      <td>8.804348</td>\n",
       "      <td>10.255814</td>\n",
       "      <td>43.0</td>\n",
       "      <td>34.0</td>\n",
       "      <td>25.0</td>\n",
       "      <td>33.0</td>\n",
       "      <td>HOME</td>\n",
       "    </tr>\n",
       "    <tr>\n",
       "      <th>21801067</th>\n",
       "      <td>498</td>\n",
       "      <td>2018-19</td>\n",
       "      <td>1610612738.0</td>\n",
       "      <td>Boston</td>\n",
       "      <td>Celtics</td>\n",
       "      <td>43</td>\n",
       "      <td>29</td>\n",
       "      <td>115</td>\n",
       "      <td>118</td>\n",
       "      <td>True</td>\n",
       "      <td>1610612755.0</td>\n",
       "      <td>Philadelphia</td>\n",
       "      <td>76ers</td>\n",
       "      <td>47</td>\n",
       "      <td>25</td>\n",
       "      <td>4</td>\n",
       "      <td>48.0</td>\n",
       "      <td>10</td>\n",
       "      <td>9</td>\n",
       "      <td>45</td>\n",
       "      <td>51</td>\n",
       "      <td>12</td>\n",
       "      <td>20</td>\n",
       "      <td>34</td>\n",
       "      <td>56</td>\n",
       "      <td>11</td>\n",
       "      <td>22</td>\n",
       "      <td>13</td>\n",
       "      <td>3</td>\n",
       "      <td>39</td>\n",
       "      <td>4</td>\n",
       "      <td>46</td>\n",
       "      <td>54</td>\n",
       "      <td>4</td>\n",
       "      <td>5</td>\n",
       "      <td>8</td>\n",
       "      <td>8</td>\n",
       "      <td>1</td>\n",
       "      <td>1</td>\n",
       "      <td>25</td>\n",
       "      <td>18</td>\n",
       "      <td>23</td>\n",
       "      <td>26</td>\n",
       "      <td>7</td>\n",
       "      <td>5</td>\n",
       "      <td>1</td>\n",
       "      <td>1</td>\n",
       "      <td>VISITOR_PLAYER</td>\n",
       "      <td>1</td>\n",
       "      <td>0</td>\n",
       "      <td>0</td>\n",
       "      <td>0</td>\n",
       "      <td>203954</td>\n",
       "      <td>37.0</td>\n",
       "      <td>202681</td>\n",
       "      <td>36.0</td>\n",
       "      <td>28.0</td>\n",
       "      <td>27.0</td>\n",
       "      <td>1.0</td>\n",
       "      <td>0.0</td>\n",
       "      <td>11.705882</td>\n",
       "      <td>11.422222</td>\n",
       "      <td>46.0</td>\n",
       "      <td>28.0</td>\n",
       "      <td>25.0</td>\n",
       "      <td>43.0</td>\n",
       "      <td>HOME</td>\n",
       "    </tr>\n",
       "    <tr>\n",
       "      <th>21801123</th>\n",
       "      <td>503</td>\n",
       "      <td>2018-19</td>\n",
       "      <td>1610612751.0</td>\n",
       "      <td>Brooklyn</td>\n",
       "      <td>Nets</td>\n",
       "      <td>38</td>\n",
       "      <td>38</td>\n",
       "      <td>110</td>\n",
       "      <td>123</td>\n",
       "      <td>True</td>\n",
       "      <td>1610612755.0</td>\n",
       "      <td>Philadelphia</td>\n",
       "      <td>76ers</td>\n",
       "      <td>48</td>\n",
       "      <td>27</td>\n",
       "      <td>4</td>\n",
       "      <td>48.0</td>\n",
       "      <td>13</td>\n",
       "      <td>10</td>\n",
       "      <td>40</td>\n",
       "      <td>50</td>\n",
       "      <td>11</td>\n",
       "      <td>21</td>\n",
       "      <td>45</td>\n",
       "      <td>45</td>\n",
       "      <td>12</td>\n",
       "      <td>13</td>\n",
       "      <td>19</td>\n",
       "      <td>10</td>\n",
       "      <td>21</td>\n",
       "      <td>7</td>\n",
       "      <td>45</td>\n",
       "      <td>45</td>\n",
       "      <td>8</td>\n",
       "      <td>4</td>\n",
       "      <td>15</td>\n",
       "      <td>9</td>\n",
       "      <td>0</td>\n",
       "      <td>1</td>\n",
       "      <td>24</td>\n",
       "      <td>26</td>\n",
       "      <td>23</td>\n",
       "      <td>32</td>\n",
       "      <td>5</td>\n",
       "      <td>6</td>\n",
       "      <td>0</td>\n",
       "      <td>1</td>\n",
       "      <td>HOME_PLAYER</td>\n",
       "      <td>0</td>\n",
       "      <td>1</td>\n",
       "      <td>0</td>\n",
       "      <td>0</td>\n",
       "      <td>203954</td>\n",
       "      <td>39.0</td>\n",
       "      <td>203925</td>\n",
       "      <td>22.0</td>\n",
       "      <td>27.0</td>\n",
       "      <td>28.0</td>\n",
       "      <td>0.0</td>\n",
       "      <td>0.0</td>\n",
       "      <td>10.288889</td>\n",
       "      <td>10.200000</td>\n",
       "      <td>47.0</td>\n",
       "      <td>37.0</td>\n",
       "      <td>27.0</td>\n",
       "      <td>38.0</td>\n",
       "      <td>HOME</td>\n",
       "    </tr>\n",
       "    <tr>\n",
       "      <th>21801177</th>\n",
       "      <td>523</td>\n",
       "      <td>2018-19</td>\n",
       "      <td>1610612749.0</td>\n",
       "      <td>Milwaukee</td>\n",
       "      <td>Bucks</td>\n",
       "      <td>59</td>\n",
       "      <td>20</td>\n",
       "      <td>128</td>\n",
       "      <td>122</td>\n",
       "      <td>False</td>\n",
       "      <td>1610612755.0</td>\n",
       "      <td>Philadelphia</td>\n",
       "      <td>76ers</td>\n",
       "      <td>49</td>\n",
       "      <td>30</td>\n",
       "      <td>4</td>\n",
       "      <td>48.0</td>\n",
       "      <td>10</td>\n",
       "      <td>10</td>\n",
       "      <td>42</td>\n",
       "      <td>51</td>\n",
       "      <td>12</td>\n",
       "      <td>22</td>\n",
       "      <td>45</td>\n",
       "      <td>50</td>\n",
       "      <td>18</td>\n",
       "      <td>18</td>\n",
       "      <td>32</td>\n",
       "      <td>11</td>\n",
       "      <td>14</td>\n",
       "      <td>4</td>\n",
       "      <td>50</td>\n",
       "      <td>43</td>\n",
       "      <td>7</td>\n",
       "      <td>5</td>\n",
       "      <td>10</td>\n",
       "      <td>13</td>\n",
       "      <td>1</td>\n",
       "      <td>0</td>\n",
       "      <td>20</td>\n",
       "      <td>28</td>\n",
       "      <td>32</td>\n",
       "      <td>28</td>\n",
       "      <td>4</td>\n",
       "      <td>7</td>\n",
       "      <td>3</td>\n",
       "      <td>0</td>\n",
       "      <td>VISITOR_PLAYER</td>\n",
       "      <td>1</td>\n",
       "      <td>0</td>\n",
       "      <td>0</td>\n",
       "      <td>0</td>\n",
       "      <td>203954</td>\n",
       "      <td>34.0</td>\n",
       "      <td>203507</td>\n",
       "      <td>45.0</td>\n",
       "      <td>26.0</td>\n",
       "      <td>28.0</td>\n",
       "      <td>0.0</td>\n",
       "      <td>0.0</td>\n",
       "      <td>16.155556</td>\n",
       "      <td>12.904762</td>\n",
       "      <td>49.0</td>\n",
       "      <td>20.0</td>\n",
       "      <td>29.0</td>\n",
       "      <td>58.0</td>\n",
       "      <td>VISITOR</td>\n",
       "    </tr>\n",
       "    <tr>\n",
       "      <th>21801224</th>\n",
       "      <td>416</td>\n",
       "      <td>2018-19</td>\n",
       "      <td>1610612741.0</td>\n",
       "      <td>Chicago</td>\n",
       "      <td>Bulls</td>\n",
       "      <td>22</td>\n",
       "      <td>60</td>\n",
       "      <td>109</td>\n",
       "      <td>125</td>\n",
       "      <td>True</td>\n",
       "      <td>1610612755.0</td>\n",
       "      <td>Philadelphia</td>\n",
       "      <td>76ers</td>\n",
       "      <td>51</td>\n",
       "      <td>31</td>\n",
       "      <td>4</td>\n",
       "      <td>48.0</td>\n",
       "      <td>10</td>\n",
       "      <td>10</td>\n",
       "      <td>45</td>\n",
       "      <td>50</td>\n",
       "      <td>9</td>\n",
       "      <td>15</td>\n",
       "      <td>52</td>\n",
       "      <td>41</td>\n",
       "      <td>12</td>\n",
       "      <td>14</td>\n",
       "      <td>10</td>\n",
       "      <td>5</td>\n",
       "      <td>9</td>\n",
       "      <td>6</td>\n",
       "      <td>39</td>\n",
       "      <td>47</td>\n",
       "      <td>9</td>\n",
       "      <td>4</td>\n",
       "      <td>7</td>\n",
       "      <td>6</td>\n",
       "      <td>1</td>\n",
       "      <td>1</td>\n",
       "      <td>13</td>\n",
       "      <td>11</td>\n",
       "      <td>16</td>\n",
       "      <td>20</td>\n",
       "      <td>6</td>\n",
       "      <td>4</td>\n",
       "      <td>2</td>\n",
       "      <td>0</td>\n",
       "      <td>VISITOR_PLAYER</td>\n",
       "      <td>0</td>\n",
       "      <td>0</td>\n",
       "      <td>0</td>\n",
       "      <td>0</td>\n",
       "      <td>203613</td>\n",
       "      <td>20.0</td>\n",
       "      <td>1627215</td>\n",
       "      <td>20.0</td>\n",
       "      <td>30.0</td>\n",
       "      <td>27.0</td>\n",
       "      <td>0.0</td>\n",
       "      <td>0.0</td>\n",
       "      <td>10.423077</td>\n",
       "      <td>9.688889</td>\n",
       "      <td>50.0</td>\n",
       "      <td>59.0</td>\n",
       "      <td>31.0</td>\n",
       "      <td>22.0</td>\n",
       "      <td>HOME</td>\n",
       "    </tr>\n",
       "  </tbody>\n",
       "</table>\n",
       "<p>771 rows × 67 columns</p>\n",
       "</div>"
      ],
      "text/plain": [
       "          play_count season_name visitor_team_id visitor_team_city  \\\n",
       "GAME_ID                                                              \n",
       "20000015         469     2000-01    1610612761.0           Toronto   \n",
       "20000062         479     2000-01    1610612765.0           Detroit   \n",
       "20000088         504     2000-01    1610612738.0            Boston   \n",
       "20000113         461     2000-01    1610612739.0         Cleveland   \n",
       "20000127         399     2000-01    1610612748.0             Miami   \n",
       "...              ...         ...             ...               ...   \n",
       "21801027         469     2018-19    1610612758.0        Sacramento   \n",
       "21801067         498     2018-19    1610612738.0            Boston   \n",
       "21801123         503     2018-19    1610612751.0          Brooklyn   \n",
       "21801177         523     2018-19    1610612749.0         Milwaukee   \n",
       "21801224         416     2018-19    1610612741.0           Chicago   \n",
       "\n",
       "         visitor_team_nickname  visitor_record_wins  visitor_record_losses  \\\n",
       "GAME_ID                                                                      \n",
       "20000015               Raptors                    0                      2   \n",
       "20000062               Pistons                    1                      4   \n",
       "20000088               Celtics                    2                      4   \n",
       "20000113             Cavaliers                    6                      2   \n",
       "20000127                  Heat                    4                      5   \n",
       "...                        ...                  ...                    ...   \n",
       "21801027                 Kings                   33                     35   \n",
       "21801067               Celtics                   43                     29   \n",
       "21801123                  Nets                   38                     38   \n",
       "21801177                 Bucks                   59                     20   \n",
       "21801224                 Bulls                   22                     60   \n",
       "\n",
       "          visitor_final_score  home_final_score  home_win  home_team_id  \\\n",
       "GAME_ID                                                                   \n",
       "20000015                   98               104      True  1610612755.0   \n",
       "20000062                   94               103      True  1610612755.0   \n",
       "20000088                   83                85      True  1610612755.0   \n",
       "20000113                   98               107      True  1610612755.0   \n",
       "20000127                   73                94      True  1610612755.0   \n",
       "...                       ...               ...       ...           ...   \n",
       "21801027                  114               123      True  1610612755.0   \n",
       "21801067                  115               118      True  1610612755.0   \n",
       "21801123                  110               123      True  1610612755.0   \n",
       "21801177                  128               122     False  1610612755.0   \n",
       "21801224                  109               125      True  1610612755.0   \n",
       "\n",
       "         home_team_city home_team_nickname  home_record_wins  \\\n",
       "GAME_ID                                                        \n",
       "20000015   Philadelphia              76ers                 2   \n",
       "20000062   Philadelphia              76ers                 5   \n",
       "20000088   Philadelphia              76ers                 7   \n",
       "20000113   Philadelphia              76ers                 8   \n",
       "20000127   Philadelphia              76ers                 9   \n",
       "...                 ...                ...               ...   \n",
       "21801027   Philadelphia              76ers                44   \n",
       "21801067   Philadelphia              76ers                47   \n",
       "21801123   Philadelphia              76ers                48   \n",
       "21801177   Philadelphia              76ers                49   \n",
       "21801224   Philadelphia              76ers                51   \n",
       "\n",
       "          home_record_losses  periods  minutes_played  \\\n",
       "GAME_ID                                                 \n",
       "20000015                   0        4            48.0   \n",
       "20000062                   0        4            48.0   \n",
       "20000088                   0        4            48.0   \n",
       "20000113                   0        4            48.0   \n",
       "20000127                   0        4            48.0   \n",
       "...                      ...      ...             ...   \n",
       "21801027                  25        4            48.0   \n",
       "21801067                  25        4            48.0   \n",
       "21801123                  27        4            48.0   \n",
       "21801177                  30        4            48.0   \n",
       "21801224                  31        4            48.0   \n",
       "\n",
       "          visitor_players_deployed  home_players_deployed  visitor_fg_made  \\\n",
       "GAME_ID                                                                      \n",
       "20000015                         9                     10               39   \n",
       "20000062                        12                      8               37   \n",
       "20000088                        11                      9               31   \n",
       "20000113                        10                     12               40   \n",
       "20000127                        10                     12               29   \n",
       "...                            ...                    ...              ...   \n",
       "21801027                        10                      9               43   \n",
       "21801067                        10                      9               45   \n",
       "21801123                        13                     10               40   \n",
       "21801177                        10                     10               42   \n",
       "21801224                        10                     10               45   \n",
       "\n",
       "          visitor_fg_missed  visitor_3PT_made  visitor_3PT_missed  \\\n",
       "GAME_ID                                                             \n",
       "20000015                 47                 5                   8   \n",
       "20000062                 52                 3                   7   \n",
       "20000088                 50                 5                  12   \n",
       "20000113                 35                 2                   6   \n",
       "20000127                 48                 4                   9   \n",
       "...                     ...               ...                 ...   \n",
       "21801027                 51                 9                  18   \n",
       "21801067                 51                12                  20   \n",
       "21801123                 50                11                  21   \n",
       "21801177                 51                12                  22   \n",
       "21801224                 50                 9                  15   \n",
       "\n",
       "          home_fg_made  home_fg_missed  home_3PT_made  home_3PT_missed  \\\n",
       "GAME_ID                                                                  \n",
       "20000015            41              44              3                8   \n",
       "20000062            35              40              5                8   \n",
       "20000088            28              50              1               11   \n",
       "20000113            40              39              3                7   \n",
       "20000127            38              35              3                4   \n",
       "...                ...             ...            ...              ...   \n",
       "21801027            46              45              7               17   \n",
       "21801067            34              56             11               22   \n",
       "21801123            45              45             12               13   \n",
       "21801177            45              50             18               18   \n",
       "21801224            52              41             12               14   \n",
       "\n",
       "          visitor_ft_made  visitor_ft_missed  home_ft_made  home_ft_missed  \\\n",
       "GAME_ID                                                                      \n",
       "20000015               15                  3            19               9   \n",
       "20000062               17                  3            28               4   \n",
       "20000088               16                 11            28               9   \n",
       "20000113               16                  7            24               9   \n",
       "20000127               11                  5            15               2   \n",
       "...                   ...                ...           ...             ...   \n",
       "21801027               19                  5            24               3   \n",
       "21801067               13                  3            39               4   \n",
       "21801123               19                 10            21               7   \n",
       "21801177               32                 11            14               4   \n",
       "21801224               10                  5             9               6   \n",
       "\n",
       "          visitor_rebound  home_rebound  visitor_team_rebound  \\\n",
       "GAME_ID                                                         \n",
       "20000015               40            43                     7   \n",
       "20000062               45            37                     6   \n",
       "20000088               43            50                     8   \n",
       "20000113               38            31                     6   \n",
       "20000127               38            35                     2   \n",
       "...                   ...           ...                   ...   \n",
       "21801027               40            49                     8   \n",
       "21801067               46            54                     4   \n",
       "21801123               45            45                     8   \n",
       "21801177               50            43                     7   \n",
       "21801224               39            47                     9   \n",
       "\n",
       "          home_team_rebound  visitor_turnover  home_turnover  \\\n",
       "GAME_ID                                                        \n",
       "20000015                  4                16             14   \n",
       "20000062                  5                21             18   \n",
       "20000088                  9                15             16   \n",
       "20000113                  7                21             14   \n",
       "20000127                 12                13             15   \n",
       "...                     ...               ...            ...   \n",
       "21801027                  3                 8             10   \n",
       "21801067                  5                 8              8   \n",
       "21801123                  4                15              9   \n",
       "21801177                  5                10             13   \n",
       "21801224                  4                 7              6   \n",
       "\n",
       "          visitor_team_turnover  home_team_turnover  visitor_foul  home_foul  \\\n",
       "GAME_ID                                                                        \n",
       "20000015                      0                   0            26         24   \n",
       "20000062                      1                   1            32         22   \n",
       "20000088                      1                   2            34         23   \n",
       "20000113                      1                   0            31         24   \n",
       "20000127                      1                   2            19         19   \n",
       "...                         ...                 ...           ...        ...   \n",
       "21801027                      1                   1            22         18   \n",
       "21801067                      1                   1            25         18   \n",
       "21801123                      0                   1            24         26   \n",
       "21801177                      1                   0            20         28   \n",
       "21801224                      1                   1            13         11   \n",
       "\n",
       "          visitor_subs  home_subs  visitor_timeout  home_timeout  \\\n",
       "GAME_ID                                                            \n",
       "20000015            16         28                8             2   \n",
       "20000062            20         25                6             5   \n",
       "20000088            23         21                6             6   \n",
       "20000113            23         24                6             3   \n",
       "20000127            11         22                5             5   \n",
       "...                ...        ...              ...           ...   \n",
       "21801027            21         29                5             5   \n",
       "21801067            23         26                7             5   \n",
       "21801123            23         32                5             6   \n",
       "21801177            32         28                4             7   \n",
       "21801224            16         20                6             4   \n",
       "\n",
       "          visitor_jump_balls_won  home_jump_balls_won  tip_off_winner  \\\n",
       "GAME_ID                                                                 \n",
       "20000015                       1                    1     HOME_PLAYER   \n",
       "20000062                       2                    0  VISITOR_PLAYER   \n",
       "20000088                       1                    3     HOME_PLAYER   \n",
       "20000113                       0                    2     HOME_PLAYER   \n",
       "20000127                       0                    1     HOME_PLAYER   \n",
       "...                          ...                  ...             ...   \n",
       "21801027                       0                    1     HOME_PLAYER   \n",
       "21801067                       1                    1  VISITOR_PLAYER   \n",
       "21801123                       0                    1     HOME_PLAYER   \n",
       "21801177                       3                    0  VISITOR_PLAYER   \n",
       "21801224                       2                    0  VISITOR_PLAYER   \n",
       "\n",
       "          visitor_ejection  home_ejection  visitor_team_ejection  \\\n",
       "GAME_ID                                                            \n",
       "20000015                 0              0                      0   \n",
       "20000062                 0              0                      0   \n",
       "20000088                 0              0                      0   \n",
       "20000113                 0              0                      0   \n",
       "20000127                 0              0                      0   \n",
       "...                    ...            ...                    ...   \n",
       "21801027                 0              0                      0   \n",
       "21801067                 1              0                      0   \n",
       "21801123                 0              1                      0   \n",
       "21801177                 1              0                      0   \n",
       "21801224                 0              0                      0   \n",
       "\n",
       "          home_team_ejection home_scoring_leader  home_scoring_leader_points  \\\n",
       "GAME_ID                                                                        \n",
       "20000015                   0                 947                        24.0   \n",
       "20000062                   0                 947                        28.0   \n",
       "20000088                   0                 727                        25.0   \n",
       "20000113                   0                 248                        23.0   \n",
       "20000127                   0                 947                        19.0   \n",
       "...                      ...                 ...                         ...   \n",
       "21801027                   0              202710                        22.0   \n",
       "21801067                   0              203954                        37.0   \n",
       "21801123                   0              203954                        39.0   \n",
       "21801177                   0              203954                        34.0   \n",
       "21801224                   0              203613                        20.0   \n",
       "\n",
       "         visitor_scoring_leader  visitor_scoring_leader_points  \\\n",
       "GAME_ID                                                          \n",
       "20000015                   1713                           25.0   \n",
       "20000062                    711                           36.0   \n",
       "20000088                   1718                           26.0   \n",
       "20000113                    221                           24.0   \n",
       "20000127                    258                           16.0   \n",
       "...                         ...                            ...   \n",
       "21801027                1628368                           16.0   \n",
       "21801067                 202681                           36.0   \n",
       "21801123                 203925                           22.0   \n",
       "21801177                 203507                           45.0   \n",
       "21801224                1627215                           20.0   \n",
       "\n",
       "          home_made_max_shot_distance  visitor_made_max_shot_distance  \\\n",
       "GAME_ID                                                                 \n",
       "20000015                         25.0                            28.0   \n",
       "20000062                         26.0                            26.0   \n",
       "20000088                         24.0                            26.0   \n",
       "20000113                         26.0                            29.0   \n",
       "20000127                         46.0                            26.0   \n",
       "...                               ...                             ...   \n",
       "21801027                         26.0                            26.0   \n",
       "21801067                         28.0                            27.0   \n",
       "21801123                         27.0                            28.0   \n",
       "21801177                         26.0                            28.0   \n",
       "21801224                         30.0                            27.0   \n",
       "\n",
       "          home_made_min_shot_distance  visitor_made_min_shot_distance  \\\n",
       "GAME_ID                                                                 \n",
       "20000015                          0.0                             0.0   \n",
       "20000062                          0.0                             0.0   \n",
       "20000088                          0.0                             0.0   \n",
       "20000113                          0.0                             0.0   \n",
       "20000127                          0.0                             0.0   \n",
       "...                               ...                             ...   \n",
       "21801027                          0.0                             1.0   \n",
       "21801067                          1.0                             0.0   \n",
       "21801123                          0.0                             0.0   \n",
       "21801177                          0.0                             0.0   \n",
       "21801224                          0.0                             0.0   \n",
       "\n",
       "          home_made_mean_shot_distance  visitor_made_mean_shot_distance  \\\n",
       "GAME_ID                                                                   \n",
       "20000015                      5.756098                        10.128205   \n",
       "20000062                      9.514286                         8.594595   \n",
       "20000088                      7.714286                         8.806452   \n",
       "20000113                      6.450000                         7.050000   \n",
       "20000127                      7.894737                        11.275862   \n",
       "...                                ...                              ...   \n",
       "21801027                      8.804348                        10.255814   \n",
       "21801067                     11.705882                        11.422222   \n",
       "21801123                     10.288889                        10.200000   \n",
       "21801177                     16.155556                        12.904762   \n",
       "21801224                     10.423077                         9.688889   \n",
       "\n",
       "          prior_home_record_wins  prior_visitor_record_losses  \\\n",
       "GAME_ID                                                         \n",
       "20000015                     1.0                          1.0   \n",
       "20000062                     4.0                          3.0   \n",
       "20000088                     6.0                          3.0   \n",
       "20000113                     7.0                          1.0   \n",
       "20000127                     8.0                          4.0   \n",
       "...                          ...                          ...   \n",
       "21801027                    43.0                         34.0   \n",
       "21801067                    46.0                         28.0   \n",
       "21801123                    47.0                         37.0   \n",
       "21801177                    49.0                         20.0   \n",
       "21801224                    50.0                         59.0   \n",
       "\n",
       "          prior_home_record_losses  prior_visitor_record_wins better_record  \n",
       "GAME_ID                                                                      \n",
       "20000015                       0.0                        0.0          HOME  \n",
       "20000062                       0.0                        1.0          HOME  \n",
       "20000088                       0.0                        2.0          HOME  \n",
       "20000113                       0.0                        6.0          HOME  \n",
       "20000127                       0.0                        4.0          HOME  \n",
       "...                            ...                        ...           ...  \n",
       "21801027                      25.0                       33.0          HOME  \n",
       "21801067                      25.0                       43.0          HOME  \n",
       "21801123                      27.0                       38.0          HOME  \n",
       "21801177                      29.0                       58.0       VISITOR  \n",
       "21801224                      31.0                       22.0          HOME  \n",
       "\n",
       "[771 rows x 67 columns]"
      ]
     },
     "execution_count": 326,
     "metadata": {},
     "output_type": "execute_result"
    }
   ],
   "source": [
    "game_data[game_data[\"home_team_id\"]==\"1610612755.0\"]"
   ]
  },
  {
   "cell_type": "code",
   "execution_count": 443,
   "metadata": {},
   "outputs": [],
   "source": [
    "record_df = pd.DataFrame({f\"{r} {t}\":records[r][t] for r in records for t in records[r]}).transpose().reset_index()\n",
    "record_df[[\"season_name\",\"team_id\"]] = record_df[\"index\"].str.split(\" \", expand=True)\n",
    "record_df = record_df.drop(\"index\", axis=1)\n",
    "record_df = record_df[[\"season_name\",\"team_id\",\"nickname\",\"record\",\"court\"]]\n",
    "record_df[\"games\"] = record_df[\"record\"].str.len()\n",
    "record_df[\"wins\"] = record_df[\"record\"].str.count(\"W\")\n",
    "record_df[\"losses\"] = record_df[\"record\"].str.count(\"L\")\n",
    "record_df[\"longest_win_streak\"] = record_df[\"record\"].apply(lambda x: max_repeat_of_char(x, \"W\"))\n",
    "record_df[\"longest_loosing_streak\"] = record_df[\"record\"].apply(lambda x: max_repeat_of_char(x, \"L\"))\n",
    "record_df[\"longest_home_win_streak\"] = record_df.apply(lambda x: max_repeat_of_char_mask(x[\"record\"], \"W\", x[\"court\"], \"H\") ,axis=1)\n",
    "record_df[\"longest_away_win_streak\"] = record_df.apply(lambda x: max_repeat_of_char_mask(x[\"record\"], \"W\", x[\"court\"], \"V\") ,axis=1)\n",
    "record_df[\"longest_home_loosing_streak\"] = record_df.apply(lambda x: max_repeat_of_char_mask(x[\"record\"], \"L\", x[\"court\"], \"H\") ,axis=1)\n",
    "record_df[\"longest_away_loosing_streak\"] = record_df.apply(lambda x: max_repeat_of_char_mask(x[\"record\"], \"L\", x[\"court\"], \"V\") ,axis=1)\n",
    "record_df[\"wins_after_win\"] = record_df[\"record\"].apply(lambda x: sum([1 for i, r in enumerate(x) if i>0 and x[i-1]==\"W\" and r==\"W\"]))\n",
    "record_df[\"wins_after_loss\"] = record_df[\"record\"].apply(lambda x: sum([1 for i, r in enumerate(x) if i>0 and x[i-1]==\"L\" and r==\"W\"]))\n",
    "record_df[\"loss_after_win\"] = record_df[\"record\"].apply(lambda x: sum([1 for i, r in enumerate(x) if i>0 and x[i-1]==\"W\" and r==\"L\"]))\n",
    "record_df[\"loss_after_loss\"] = record_df[\"record\"].apply(lambda x: sum([1 for i, r in enumerate(x) if i>0 and x[i-1]==\"L\" and r==\"L\"]))"
   ]
  },
  {
   "cell_type": "code",
   "execution_count": 445,
   "metadata": {},
   "outputs": [
    {
     "data": {
      "text/html": [
       "<div>\n",
       "<style scoped>\n",
       "    .dataframe tbody tr th:only-of-type {\n",
       "        vertical-align: middle;\n",
       "    }\n",
       "\n",
       "    .dataframe tbody tr th {\n",
       "        vertical-align: top;\n",
       "    }\n",
       "\n",
       "    .dataframe thead th {\n",
       "        text-align: right;\n",
       "    }\n",
       "</style>\n",
       "<table border=\"1\" class=\"dataframe\">\n",
       "  <thead>\n",
       "    <tr style=\"text-align: right;\">\n",
       "      <th></th>\n",
       "      <th>season_name</th>\n",
       "      <th>team_id</th>\n",
       "      <th>nickname</th>\n",
       "      <th>record</th>\n",
       "      <th>court</th>\n",
       "      <th>games</th>\n",
       "      <th>wins</th>\n",
       "      <th>losses</th>\n",
       "      <th>longest_win_streak</th>\n",
       "      <th>longest_loosing_streak</th>\n",
       "      <th>longest_home_win_streak</th>\n",
       "      <th>longest_away_win_streak</th>\n",
       "      <th>longest_home_loosing_streak</th>\n",
       "      <th>longest_away_loosing_streak</th>\n",
       "      <th>wins_after_win</th>\n",
       "      <th>wins_after_loss</th>\n",
       "      <th>loss_after_win</th>\n",
       "      <th>loss_after_loss</th>\n",
       "    </tr>\n",
       "  </thead>\n",
       "  <tbody>\n",
       "    <tr>\n",
       "      <th>0</th>\n",
       "      <td>2000-01</td>\n",
       "      <td>1610612746.0</td>\n",
       "      <td>Clippers</td>\n",
       "      <td>LLWLLWLLWWLLLLLWLLLWLLWLWLWWLLLWLLWLWLLLLLLLLL...</td>\n",
       "      <td>VHHVHHVHHVHHVHHHVVVVVVHHVHHHVVHHVHVHHVVVVHHHHV...</td>\n",
       "      <td>82</td>\n",
       "      <td>31</td>\n",
       "      <td>51</td>\n",
       "      <td>4</td>\n",
       "      <td>9</td>\n",
       "      <td>5</td>\n",
       "      <td>3</td>\n",
       "      <td>4</td>\n",
       "      <td>9</td>\n",
       "      <td>11</td>\n",
       "      <td>20</td>\n",
       "      <td>20</td>\n",
       "      <td>30</td>\n",
       "    </tr>\n",
       "    <tr>\n",
       "      <th>1</th>\n",
       "      <td>2000-01</td>\n",
       "      <td>1610612759.0</td>\n",
       "      <td>Spurs</td>\n",
       "      <td>WWWLWLWWWLWLWWLWLLWWLLWWWWLWLWWWWWLLLLWWWWWWWW...</td>\n",
       "      <td>HHVVHVHHVVHVHHVVVHHVVHHVHHVHVVHHVVVVHHHVVVHHHV...</td>\n",
       "      <td>82</td>\n",
       "      <td>58</td>\n",
       "      <td>24</td>\n",
       "      <td>9</td>\n",
       "      <td>4</td>\n",
       "      <td>8</td>\n",
       "      <td>5</td>\n",
       "      <td>2</td>\n",
       "      <td>3</td>\n",
       "      <td>40</td>\n",
       "      <td>17</td>\n",
       "      <td>18</td>\n",
       "      <td>6</td>\n",
       "    </tr>\n",
       "    <tr>\n",
       "      <th>2</th>\n",
       "      <td>2000-01</td>\n",
       "      <td>1610612743.0</td>\n",
       "      <td>Nuggets</td>\n",
       "      <td>LWLLWLWLWWWLWLWLWWLLLLLWWWWLWLWWWWWLWWWWLWLWLL...</td>\n",
       "      <td>VHHHHVHVHHVVHVVHHHVVVVHVVHHVHHHVHHVVHHHHVHVHHV...</td>\n",
       "      <td>82</td>\n",
       "      <td>40</td>\n",
       "      <td>42</td>\n",
       "      <td>5</td>\n",
       "      <td>5</td>\n",
       "      <td>9</td>\n",
       "      <td>2</td>\n",
       "      <td>2</td>\n",
       "      <td>9</td>\n",
       "      <td>16</td>\n",
       "      <td>24</td>\n",
       "      <td>23</td>\n",
       "      <td>18</td>\n",
       "    </tr>\n",
       "    <tr>\n",
       "      <th>3</th>\n",
       "      <td>2000-01</td>\n",
       "      <td>1610612738.0</td>\n",
       "      <td>Celtics</td>\n",
       "      <td>WWLLLLWWLLWWLWLLWLLWLLLLWWLLWLLLLLLWLWLWLWWWWW...</td>\n",
       "      <td>HHVVHVHHVHHHHVVHHVHHHHVHHVVVVHVHHVHHHVVVVHHHVV...</td>\n",
       "      <td>82</td>\n",
       "      <td>36</td>\n",
       "      <td>46</td>\n",
       "      <td>6</td>\n",
       "      <td>6</td>\n",
       "      <td>7</td>\n",
       "      <td>5</td>\n",
       "      <td>4</td>\n",
       "      <td>6</td>\n",
       "      <td>14</td>\n",
       "      <td>21</td>\n",
       "      <td>22</td>\n",
       "      <td>24</td>\n",
       "    </tr>\n",
       "    <tr>\n",
       "      <th>4</th>\n",
       "      <td>2000-01</td>\n",
       "      <td>1610612766.0</td>\n",
       "      <td>Hornets</td>\n",
       "      <td>WLWWWLLLLLWWWWWWLWLWWLWWWWWWWLLLLWLWLWLLLLLWLW...</td>\n",
       "      <td>VHHVVHVVVHVVHVHHVHVHHVHVHHVHHVVVVVVHHVVVHHVHHV...</td>\n",
       "      <td>82</td>\n",
       "      <td>46</td>\n",
       "      <td>36</td>\n",
       "      <td>7</td>\n",
       "      <td>5</td>\n",
       "      <td>12</td>\n",
       "      <td>4</td>\n",
       "      <td>3</td>\n",
       "      <td>4</td>\n",
       "      <td>29</td>\n",
       "      <td>16</td>\n",
       "      <td>16</td>\n",
       "      <td>20</td>\n",
       "    </tr>\n",
       "    <tr>\n",
       "      <th>...</th>\n",
       "      <td>...</td>\n",
       "      <td>...</td>\n",
       "      <td>...</td>\n",
       "      <td>...</td>\n",
       "      <td>...</td>\n",
       "      <td>...</td>\n",
       "      <td>...</td>\n",
       "      <td>...</td>\n",
       "      <td>...</td>\n",
       "      <td>...</td>\n",
       "      <td>...</td>\n",
       "      <td>...</td>\n",
       "      <td>...</td>\n",
       "      <td>...</td>\n",
       "      <td>...</td>\n",
       "      <td>...</td>\n",
       "      <td>...</td>\n",
       "      <td>...</td>\n",
       "    </tr>\n",
       "    <tr>\n",
       "      <th>561</th>\n",
       "      <td>2018-19</td>\n",
       "      <td>1610612753.0</td>\n",
       "      <td>Magic</td>\n",
       "      <td>WLLWLLLLWWLWWLWWWLLWLLWWLLLWWLLLLWWLWLLLLWWLLL...</td>\n",
       "      <td>HHVVHVHHVHHHVVHHHHVVVVVVHHVHHHVHHHHVVVVVVHHVHH...</td>\n",
       "      <td>82</td>\n",
       "      <td>42</td>\n",
       "      <td>40</td>\n",
       "      <td>6</td>\n",
       "      <td>4</td>\n",
       "      <td>9</td>\n",
       "      <td>4</td>\n",
       "      <td>4</td>\n",
       "      <td>5</td>\n",
       "      <td>22</td>\n",
       "      <td>19</td>\n",
       "      <td>19</td>\n",
       "      <td>21</td>\n",
       "    </tr>\n",
       "    <tr>\n",
       "      <th>562</th>\n",
       "      <td>2018-19</td>\n",
       "      <td>1610612740.0</td>\n",
       "      <td>Pelicans</td>\n",
       "      <td>WWWWLLLLLLWWWLWWWLLLLWLWLWLWLWLLLLLWLWLWWWLWLL...</td>\n",
       "      <td>VHHHHVVVVVHHVVHHHVVVHHVVHHHVVHHVVVVHHHVVHHVVVV...</td>\n",
       "      <td>82</td>\n",
       "      <td>33</td>\n",
       "      <td>49</td>\n",
       "      <td>4</td>\n",
       "      <td>6</td>\n",
       "      <td>5</td>\n",
       "      <td>3</td>\n",
       "      <td>8</td>\n",
       "      <td>6</td>\n",
       "      <td>12</td>\n",
       "      <td>20</td>\n",
       "      <td>21</td>\n",
       "      <td>28</td>\n",
       "    </tr>\n",
       "    <tr>\n",
       "      <th>563</th>\n",
       "      <td>2018-19</td>\n",
       "      <td>1610612757.0</td>\n",
       "      <td>Trail Blazers</td>\n",
       "      <td>WWLWLWWWLWWWWLLWWLLLWLLLWWLLWWWLWLWLWWLWWWWLLW...</td>\n",
       "      <td>HHHVVVVHHHHHHVVVVVVHHHVVHHVVHVHHHVVHHVHHHHHVVH...</td>\n",
       "      <td>82</td>\n",
       "      <td>53</td>\n",
       "      <td>29</td>\n",
       "      <td>6</td>\n",
       "      <td>3</td>\n",
       "      <td>8</td>\n",
       "      <td>4</td>\n",
       "      <td>1</td>\n",
       "      <td>6</td>\n",
       "      <td>32</td>\n",
       "      <td>20</td>\n",
       "      <td>20</td>\n",
       "      <td>9</td>\n",
       "    </tr>\n",
       "    <tr>\n",
       "      <th>564</th>\n",
       "      <td>2018-19</td>\n",
       "      <td>1610612745.0</td>\n",
       "      <td>Rockets</td>\n",
       "      <td>LWLLLLWWWLLWWWWWLLLLWWLLLWWWWWLWWWWWWLWLWLWLWL...</td>\n",
       "      <td>HVVHHHVVVVVHVHHHVVVHVHVVVHHVHHVHHHVHVVHHHVHHHV...</td>\n",
       "      <td>82</td>\n",
       "      <td>53</td>\n",
       "      <td>29</td>\n",
       "      <td>9</td>\n",
       "      <td>4</td>\n",
       "      <td>10</td>\n",
       "      <td>6</td>\n",
       "      <td>4</td>\n",
       "      <td>3</td>\n",
       "      <td>36</td>\n",
       "      <td>17</td>\n",
       "      <td>17</td>\n",
       "      <td>11</td>\n",
       "    </tr>\n",
       "    <tr>\n",
       "      <th>565</th>\n",
       "      <td>2018-19</td>\n",
       "      <td>1610612756.0</td>\n",
       "      <td>Suns</td>\n",
       "      <td>WLLLLLLLWLLLLWLLLWLLLLLLLLLLWWWWLLWLLLLLLWLWLL...</td>\n",
       "      <td>HVVHVVHHHHHVVHHVVVVHVHVHVHHVHHVVVVVHHHHHHHVHVV...</td>\n",
       "      <td>82</td>\n",
       "      <td>19</td>\n",
       "      <td>63</td>\n",
       "      <td>4</td>\n",
       "      <td>17</td>\n",
       "      <td>3</td>\n",
       "      <td>2</td>\n",
       "      <td>6</td>\n",
       "      <td>13</td>\n",
       "      <td>5</td>\n",
       "      <td>13</td>\n",
       "      <td>14</td>\n",
       "      <td>49</td>\n",
       "    </tr>\n",
       "  </tbody>\n",
       "</table>\n",
       "<p>566 rows × 18 columns</p>\n",
       "</div>"
      ],
      "text/plain": [
       "    season_name       team_id       nickname  \\\n",
       "0       2000-01  1610612746.0       Clippers   \n",
       "1       2000-01  1610612759.0          Spurs   \n",
       "2       2000-01  1610612743.0        Nuggets   \n",
       "3       2000-01  1610612738.0        Celtics   \n",
       "4       2000-01  1610612766.0        Hornets   \n",
       "..          ...           ...            ...   \n",
       "561     2018-19  1610612753.0          Magic   \n",
       "562     2018-19  1610612740.0       Pelicans   \n",
       "563     2018-19  1610612757.0  Trail Blazers   \n",
       "564     2018-19  1610612745.0        Rockets   \n",
       "565     2018-19  1610612756.0           Suns   \n",
       "\n",
       "                                                record  \\\n",
       "0    LLWLLWLLWWLLLLLWLLLWLLWLWLWWLLLWLLWLWLLLLLLLLL...   \n",
       "1    WWWLWLWWWLWLWWLWLLWWLLWWWWLWLWWWWWLLLLWWWWWWWW...   \n",
       "2    LWLLWLWLWWWLWLWLWWLLLLLWWWWLWLWWWWWLWWWWLWLWLL...   \n",
       "3    WWLLLLWWLLWWLWLLWLLWLLLLWWLLWLLLLLLWLWLWLWWWWW...   \n",
       "4    WLWWWLLLLLWWWWWWLWLWWLWWWWWWWLLLLWLWLWLLLLLWLW...   \n",
       "..                                                 ...   \n",
       "561  WLLWLLLLWWLWWLWWWLLWLLWWLLLWWLLLLWWLWLLLLWWLLL...   \n",
       "562  WWWWLLLLLLWWWLWWWLLLLWLWLWLWLWLLLLLWLWLWWWLWLL...   \n",
       "563  WWLWLWWWLWWWWLLWWLLLWLLLWWLLWWWLWLWLWWLWWWWLLW...   \n",
       "564  LWLLLLWWWLLWWWWWLLLLWWLLLWWWWWLWWWWWWLWLWLWLWL...   \n",
       "565  WLLLLLLLWLLLLWLLLWLLLLLLLLLLWWWWLLWLLLLLLWLWLL...   \n",
       "\n",
       "                                                 court  games  wins  losses  \\\n",
       "0    VHHVHHVHHVHHVHHHVVVVVVHHVHHHVVHHVHVHHVVVVHHHHV...     82    31      51   \n",
       "1    HHVVHVHHVVHVHHVVVHHVVHHVHHVHVVHHVVVVHHHVVVHHHV...     82    58      24   \n",
       "2    VHHHHVHVHHVVHVVHHHVVVVHVVHHVHHHVHHVVHHHHVHVHHV...     82    40      42   \n",
       "3    HHVVHVHHVHHHHVVHHVHHHHVHHVVVVHVHHVHHHVVVVHHHVV...     82    36      46   \n",
       "4    VHHVVHVVVHVVHVHHVHVHHVHVHHVHHVVVVVVHHVVVHHVHHV...     82    46      36   \n",
       "..                                                 ...    ...   ...     ...   \n",
       "561  HHVVHVHHVHHHVVHHHHVVVVVVHHVHHHVHHHHVVVVVVHHVHH...     82    42      40   \n",
       "562  VHHHHVVVVVHHVVHHHVVVHHVVHHHVVHHVVVVHHHVVHHVVVV...     82    33      49   \n",
       "563  HHHVVVVHHHHHHVVVVVVHHHVVHHVVHVHHHVVHHVHHHHHVVH...     82    53      29   \n",
       "564  HVVHHHVVVVVHVHHHVVVHVHVVVHHVHHVHHHVHVVHHHVHHHV...     82    53      29   \n",
       "565  HVVHVVHHHHHVVHHVVVVHVHVHVHHVHHVVVVVHHHHHHHVHVV...     82    19      63   \n",
       "\n",
       "     longest_win_streak  longest_loosing_streak  longest_home_win_streak  \\\n",
       "0                     4                       9                        5   \n",
       "1                     9                       4                        8   \n",
       "2                     5                       5                        9   \n",
       "3                     6                       6                        7   \n",
       "4                     7                       5                       12   \n",
       "..                  ...                     ...                      ...   \n",
       "561                   6                       4                        9   \n",
       "562                   4                       6                        5   \n",
       "563                   6                       3                        8   \n",
       "564                   9                       4                       10   \n",
       "565                   4                      17                        3   \n",
       "\n",
       "     longest_away_win_streak  longest_home_loosing_streak  \\\n",
       "0                          3                            4   \n",
       "1                          5                            2   \n",
       "2                          2                            2   \n",
       "3                          5                            4   \n",
       "4                          4                            3   \n",
       "..                       ...                          ...   \n",
       "561                        4                            4   \n",
       "562                        3                            8   \n",
       "563                        4                            1   \n",
       "564                        6                            4   \n",
       "565                        2                            6   \n",
       "\n",
       "     longest_away_loosing_streak  wins_after_win  wins_after_loss  \\\n",
       "0                              9              11               20   \n",
       "1                              3              40               17   \n",
       "2                              9              16               24   \n",
       "3                              6              14               21   \n",
       "4                              4              29               16   \n",
       "..                           ...             ...              ...   \n",
       "561                            5              22               19   \n",
       "562                            6              12               20   \n",
       "563                            6              32               20   \n",
       "564                            3              36               17   \n",
       "565                           13               5               13   \n",
       "\n",
       "     loss_after_win  loss_after_loss  \n",
       "0                20               30  \n",
       "1                18                6  \n",
       "2                23               18  \n",
       "3                22               24  \n",
       "4                16               20  \n",
       "..              ...              ...  \n",
       "561              19               21  \n",
       "562              21               28  \n",
       "563              20                9  \n",
       "564              17               11  \n",
       "565              14               49  \n",
       "\n",
       "[566 rows x 18 columns]"
      ]
     },
     "execution_count": 445,
     "metadata": {},
     "output_type": "execute_result"
    }
   ],
   "source": [
    "record_df"
   ]
  },
  {
   "cell_type": "code",
   "execution_count": 452,
   "metadata": {},
   "outputs": [
    {
     "data": {
      "text/plain": [
       "wins_after_win     12304\n",
       "wins_after_loss    10377\n",
       "loss_after_win     10386\n",
       "loss_after_loss    12297\n",
       "dtype: int64"
      ]
     },
     "execution_count": 452,
     "metadata": {},
     "output_type": "execute_result"
    }
   ],
   "source": [
    "record_df[[\"wins_after_win\",\"wins_after_loss\",\"loss_after_win\",\"loss_after_loss\"]].sum()#/45364"
   ]
  },
  {
   "cell_type": "code",
   "execution_count": 451,
   "metadata": {},
   "outputs": [
    {
     "data": {
      "text/plain": [
       "45930"
      ]
     },
     "execution_count": 451,
     "metadata": {},
     "output_type": "execute_result"
    }
   ],
   "source": [
    "record_df[\"games\"].sum()"
   ]
  },
  {
   "cell_type": "code",
   "execution_count": 415,
   "metadata": {},
   "outputs": [],
   "source": [
    "def max_repeat_of_char(s, ch):\n",
    "    max = 0\n",
    "    current = 0\n",
    "    for c in s:\n",
    "        if c==ch:\n",
    "            current += 1\n",
    "            max = current if current>max else max\n",
    "        else:\n",
    "            current = 0\n",
    "    return max"
   ]
  },
  {
   "cell_type": "code",
   "execution_count": 426,
   "metadata": {},
   "outputs": [],
   "source": [
    "def max_repeat_of_char_mask(s, ch, mask, masker):\n",
    "    max = 0\n",
    "    current = 0\n",
    "    for c, m in zip(s, mask):\n",
    "        if m!=masker:\n",
    "            continue\n",
    "        if c==ch:\n",
    "            current += 1\n",
    "            max = current if current>max else max\n",
    "        else:\n",
    "            current = 0\n",
    "    return max"
   ]
  }
 ],
 "metadata": {
  "interpreter": {
   "hash": "5cf590adf64b12f100e2631293f66eedf21812d31d21d345d3dafaac5b13c0f5"
  },
  "kernelspec": {
   "display_name": "Python 3.9.13 64-bit",
   "language": "python",
   "name": "python3"
  },
  "language_info": {
   "codemirror_mode": {
    "name": "ipython",
    "version": 3
   },
   "file_extension": ".py",
   "mimetype": "text/x-python",
   "name": "python",
   "nbconvert_exporter": "python",
   "pygments_lexer": "ipython3",
   "version": "3.9.13"
  },
  "orig_nbformat": 4
 },
 "nbformat": 4,
 "nbformat_minor": 2
}
